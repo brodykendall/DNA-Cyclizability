{
 "cells": [
  {
   "cell_type": "code",
   "execution_count": 1,
   "metadata": {},
   "outputs": [],
   "source": [
    "import pandas as pd"
   ]
  },
  {
   "cell_type": "code",
   "execution_count": 5,
   "metadata": {},
   "outputs": [],
   "source": [
    "cycle5_genes = pd.read_csv(\"/Users/Brody1/Dropbox/Northwestern/DNA_Cyclizability/cycle5_genes.txt\", sep=\"\\t\", header=None)\n",
    "# sac2_positions = pd.read_csv(sac2_positions_file, delim_whitespace=True, header=None, names=['chrID', 'position', 'ncp_score', 'ncp_ratio'])\n"
   ]
  },
  {
   "cell_type": "code",
   "execution_count": 11,
   "metadata": {},
   "outputs": [],
   "source": [
    "cycle5_genes.loc[:,1].to_csv(\"/Users/Brody1/Dropbox/Northwestern/DNA_Cyclizability/cycle5_genes_reformat.txt\", header=None, index=False)"
   ]
  },
  {
   "cell_type": "code",
   "execution_count": null,
   "metadata": {},
   "outputs": [],
   "source": []
  }
 ],
 "metadata": {
  "kernelspec": {
   "display_name": "base",
   "language": "python",
   "name": "python3"
  },
  "language_info": {
   "codemirror_mode": {
    "name": "ipython",
    "version": 3
   },
   "file_extension": ".py",
   "mimetype": "text/x-python",
   "name": "python",
   "nbconvert_exporter": "python",
   "pygments_lexer": "ipython3",
   "version": "3.9.12"
  }
 },
 "nbformat": 4,
 "nbformat_minor": 2
}
