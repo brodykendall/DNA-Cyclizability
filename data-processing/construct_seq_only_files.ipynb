{
 "cells": [
  {
   "cell_type": "code",
   "execution_count": 2,
   "metadata": {},
   "outputs": [],
   "source": [
    "import pandas as pd\n",
    "import numpy as np"
   ]
  },
  {
   "cell_type": "code",
   "execution_count": 20,
   "metadata": {},
   "outputs": [],
   "source": [
    "genome_df_chrI = pd.read_csv(\"/Users/Brody1/Dropbox/Northwestern/DNA_Cyclizability/data/Created/yeast_chrI_1bpresolution_subsequence50.csv\")\n",
    "genome_df_chrII = pd.read_csv(\"/Users/Brody1/Dropbox/Northwestern/DNA_Cyclizability/data/Created/yeast_chrII_1bpresolution_subsequence50.csv\")\n",
    "genome_df_chrIII = pd.read_csv(\"/Users/Brody1/Dropbox/Northwestern/DNA_Cyclizability/data/Created/yeast_chrIII_1bpresolution_subsequence50.csv\")\n",
    "genome_df_chrIV = pd.read_csv(\"/Users/Brody1/Dropbox/Northwestern/DNA_Cyclizability/data/Created/yeast_chrIV_1bpresolution_subsequence50.csv\")\n",
    "genome_df_chrV = pd.read_csv(\"/Users/Brody1/Dropbox/Northwestern/DNA_Cyclizability/data/Created/yeast_chrV_1bpresolution_subsequence50.csv\")\n",
    "genome_df_chrVI = pd.read_csv(\"/Users/Brody1/Dropbox/Northwestern/DNA_Cyclizability/data/Created/yeast_chrVI_1bpresolution_subsequence50.csv\")\n",
    "genome_df_chrVII = pd.read_csv(\"/Users/Brody1/Dropbox/Northwestern/DNA_Cyclizability/data/Created/yeast_chrVII_1bpresolution_subsequence50.csv\")\n",
    "genome_df_chrVIII = pd.read_csv(\"/Users/Brody1/Dropbox/Northwestern/DNA_Cyclizability/data/Created/yeast_chrVIII_1bpresolution_subsequence50.csv\")\n",
    "genome_df_chrIX = pd.read_csv(\"/Users/Brody1/Dropbox/Northwestern/DNA_Cyclizability/data/Created/yeast_chrIX_1bpresolution_subsequence50.csv\")\n",
    "genome_df_chrX = pd.read_csv(\"/Users/Brody1/Dropbox/Northwestern/DNA_Cyclizability/data/Created/yeast_chrX_1bpresolution_subsequence50.csv\")\n",
    "genome_df_chrXI = pd.read_csv(\"/Users/Brody1/Dropbox/Northwestern/DNA_Cyclizability/data/Created/yeast_chrXI_1bpresolution_subsequence50.csv\")\n",
    "genome_df_chrXII = pd.read_csv(\"/Users/Brody1/Dropbox/Northwestern/DNA_Cyclizability/data/Created/yeast_chrXII_1bpresolution_subsequence50.csv\")\n",
    "genome_df_chrXIII = pd.read_csv(\"/Users/Brody1/Dropbox/Northwestern/DNA_Cyclizability/data/Created/yeast_chrXIII_1bpresolution_subsequence50.csv\")\n",
    "genome_df_chrXIV = pd.read_csv(\"/Users/Brody1/Dropbox/Northwestern/DNA_Cyclizability/data/Created/yeast_chrXIV_1bpresolution_subsequence50.csv\")\n",
    "genome_df_chrXV = pd.read_csv(\"/Users/Brody1/Dropbox/Northwestern/DNA_Cyclizability/data/Created/yeast_chrXV_1bpresolution_subsequence50.csv\")\n",
    "genome_df_chrXVI = pd.read_csv(\"/Users/Brody1/Dropbox/Northwestern/DNA_Cyclizability/data/Created/yeast_chrXVI_1bpresolution_subsequence50.csv\")"
   ]
  },
  {
   "cell_type": "code",
   "execution_count": 3,
   "metadata": {},
   "outputs": [],
   "source": [
    "# genome_df_chrI_aligned = pd.read_csv(\"/Users/Brody1/Dropbox/Northwestern/DNA_Cyclizability/data/Created/yeast_chrI_nucleosome_alignment_window_size200.csv\")\n",
    "# genome_df_chrII_aligned = pd.read_csv(\"/Users/Brody1/Dropbox/Northwestern/DNA_Cyclizability/data/Created/yeast_chrII_nucleosome_alignment_window_size200.csv\")\n",
    "# genome_df_chrIII_aligned = pd.read_csv(\"/Users/Brody1/Dropbox/Northwestern/DNA_Cyclizability/data/Created/yeast_chrIII_nucleosome_alignment_window_size200.csv\")\n",
    "# genome_df_chrIV_aligned = pd.read_csv(\"/Users/Brody1/Dropbox/Northwestern/DNA_Cyclizability/data/Created/yeast_chrIV_nucleosome_alignment_window_size200.csv\")\n",
    "# genome_df_chrV_aligned = pd.read_csv(\"/Users/Brody1/Dropbox/Northwestern/DNA_Cyclizability/data/Created/yeast_chrV_nucleosome_alignment_window_size200.csv\")\n",
    "# genome_df_chrVI_aligned = pd.read_csv(\"/Users/Brody1/Dropbox/Northwestern/DNA_Cyclizability/data/Created/yeast_chrVI_nucleosome_alignment_window_size200.csv\")\n",
    "# genome_df_chrVII_aligned = pd.read_csv(\"/Users/Brody1/Dropbox/Northwestern/DNA_Cyclizability/data/Created/yeast_chrVII_nucleosome_alignment_window_size200.csv\")\n",
    "# genome_df_chrVIII_aligned = pd.read_csv(\"/Users/Brody1/Dropbox/Northwestern/DNA_Cyclizability/data/Created/yeast_chrVIII_nucleosome_alignment_window_size200.csv\")\n",
    "# genome_df_chrIX_aligned = pd.read_csv(\"/Users/Brody1/Dropbox/Northwestern/DNA_Cyclizability/data/Created/yeast_chrIX_nucleosome_alignment_window_size200.csv\")\n",
    "# genome_df_chrX_aligned = pd.read_csv(\"/Users/Brody1/Dropbox/Northwestern/DNA_Cyclizability/data/Created/yeast_chrX_nucleosome_alignment_window_size200.csv\")\n",
    "# genome_df_chrXI_aligned = pd.read_csv(\"/Users/Brody1/Dropbox/Northwestern/DNA_Cyclizability/data/Created/yeast_chrXI_nucleosome_alignment_window_size200.csv\")\n",
    "# genome_df_chrXII_aligned = pd.read_csv(\"/Users/Brody1/Dropbox/Northwestern/DNA_Cyclizability/data/Created/yeast_chrXII_nucleosome_alignment_window_size200.csv\")\n",
    "# genome_df_chrXIII_aligned = pd.read_csv(\"/Users/Brody1/Dropbox/Northwestern/DNA_Cyclizability/data/Created/yeast_chrXIII_nucleosome_alignment_window_size200.csv\")\n",
    "# genome_df_chrXIV_aligned = pd.read_csv(\"/Users/Brody1/Dropbox/Northwestern/DNA_Cyclizability/data/Created/yeast_chrXIV_nucleosome_alignment_window_size200.csv\")\n",
    "# genome_df_chrXV_aligned = pd.read_csv(\"/Users/Brody1/Dropbox/Northwestern/DNA_Cyclizability/data/Created/yeast_chrXV_nucleosome_alignment_window_size200.csv\")\n",
    "# genome_df_chrXVI_aligned = pd.read_csv(\"/Users/Brody1/Dropbox/Northwestern/DNA_Cyclizability/data/Created/yeast_chrXVI_nucleosome_alignment_window_size200.csv\")\n"
   ]
  },
  {
   "cell_type": "code",
   "execution_count": 4,
   "metadata": {},
   "outputs": [],
   "source": [
    "# rep_seq = \"NNNNNNNNNNNNNNNNNNNNNNNNNNNNNNNNNNNNNNNNNNNNNNNNNN\""
   ]
  },
  {
   "cell_type": "code",
   "execution_count": 24,
   "metadata": {},
   "outputs": [],
   "source": [
    "# genome_df_chrI_aligned[\"sequence\"].to_csv(\"/Users/Brody1/Dropbox/Northwestern/DNA_Cyclizability/data/Created/yeast_chrI_nucleosome_alignment_seq_only.txt\", index=False, header=False, na_rep=rep_seq)\n",
    "# genome_df_chrII_aligned[\"sequence\"].to_csv(\"/Users/Brody1/Dropbox/Northwestern/DNA_Cyclizability/data/Created/yeast_chrII_nucleosome_alignment_seq_only.txt\", index=False, header=False, na_rep=rep_seq)\n",
    "# genome_df_chrIII_aligned[\"sequence\"].to_csv(\"/Users/Brody1/Dropbox/Northwestern/DNA_Cyclizability/data/Created/yeast_chrIII_nucleosome_alignment_seq_only.txt\", index=False, header=False, na_rep=rep_seq)\n",
    "# genome_df_chrIV_aligned[\"sequence\"].to_csv(\"/Users/Brody1/Dropbox/Northwestern/DNA_Cyclizability/data/Created/yeast_chrIV_nucleosome_alignment_seq_only.txt\", index=False, header=False, na_rep=rep_seq)\n",
    "# genome_df_chrV_aligned[\"sequence\"].to_csv(\"/Users/Brody1/Dropbox/Northwestern/DNA_Cyclizability/data/Created/yeast_chrV_nucleosome_alignment_seq_only.txt\", index=False, header=False, na_rep=rep_seq)\n",
    "# genome_df_chrVI_aligned[\"sequence\"].to_csv(\"/Users/Brody1/Dropbox/Northwestern/DNA_Cyclizability/data/Created/yeast_chrVI_nucleosome_alignment_seq_only.txt\", index=False, header=False, na_rep=rep_seq)\n",
    "# genome_df_chrVII_aligned[\"sequence\"].to_csv(\"/Users/Brody1/Dropbox/Northwestern/DNA_Cyclizability/data/Created/yeast_chrVII_nucleosome_alignment_seq_only.txt\", index=False, header=False, na_rep=rep_seq)\n",
    "# genome_df_chrVIII_aligned[\"sequence\"].to_csv(\"/Users/Brody1/Dropbox/Northwestern/DNA_Cyclizability/data/Created/yeast_chrVIII_nucleosome_alignment_seq_only.txt\", index=False, header=False, na_rep=rep_seq)\n",
    "# genome_df_chrIX_aligned[\"sequence\"].to_csv(\"/Users/Brody1/Dropbox/Northwestern/DNA_Cyclizability/data/Created/yeast_chrIX_nucleosome_alignment_seq_only.txt\", index=False, header=False, na_rep=rep_seq)\n",
    "# genome_df_chrX_aligned[\"sequence\"].to_csv(\"/Users/Brody1/Dropbox/Northwestern/DNA_Cyclizability/data/Created/yeast_chrX_nucleosome_alignment_seq_only.txt\", index=False, header=False, na_rep=rep_seq)\n",
    "# genome_df_chrXI_aligned[\"sequence\"].to_csv(\"/Users/Brody1/Dropbox/Northwestern/DNA_Cyclizability/data/Created/yeast_chrXI_nucleosome_alignment_seq_only.txt\", index=False, header=False, na_rep=rep_seq)\n",
    "# genome_df_chrXII_aligned[\"sequence\"].to_csv(\"/Users/Brody1/Dropbox/Northwestern/DNA_Cyclizability/data/Created/yeast_chrXII_nucleosome_alignment_seq_only.txt\", index=False, header=False, na_rep=rep_seq)\n",
    "# genome_df_chrXIII_aligned[\"sequence\"].to_csv(\"/Users/Brody1/Dropbox/Northwestern/DNA_Cyclizability/data/Created/yeast_chrXIII_nucleosome_alignment_seq_only.txt\", index=False, header=False, na_rep=rep_seq)\n",
    "# genome_df_chrXIV_aligned[\"sequence\"].to_csv(\"/Users/Brody1/Dropbox/Northwestern/DNA_Cyclizability/data/Created/yeast_chrXIV_nucleosome_alignment_seq_only.txt\", index=False, header=False, na_rep=rep_seq)\n",
    "# genome_df_chrXV_aligned[\"sequence\"].to_csv(\"/Users/Brody1/Dropbox/Northwestern/DNA_Cyclizability/data/Created/yeast_chrXV_nucleosome_alignment_seq_only.txt\", index=False, header=False, na_rep=rep_seq)\n",
    "# genome_df_chrXVI_aligned[\"sequence\"].to_csv(\"/Users/Brody1/Dropbox/Northwestern/DNA_Cyclizability/data/Created/yeast_chrXVI_nucleosome_alignment_seq_only.txt\", index=False, header=False, na_rep=rep_seq)"
   ]
  },
  {
   "cell_type": "code",
   "execution_count": 23,
   "metadata": {},
   "outputs": [],
   "source": [
    "genome_df_chrI[\"sequence\"].to_csv(\"/Users/Brody1/Dropbox/Northwestern/DNA_Cyclizability/data/Created/yeast_chrI_1bpresolution_subsequence50_seq_only.txt\", index=False, header=False)\n",
    "genome_df_chrII[\"sequence\"].to_csv(\"/Users/Brody1/Dropbox/Northwestern/DNA_Cyclizability/data/Created/yeast_chrII_1bpresolution_subsequence50_seq_only.txt\", index=False, header=False)\n",
    "genome_df_chrIII[\"sequence\"].to_csv(\"/Users/Brody1/Dropbox/Northwestern/DNA_Cyclizability/data/Created/yeast_chrIII_1bpresolution_subsequence50_seq_only.txt\", index=False, header=False)\n",
    "genome_df_chrIV[\"sequence\"].to_csv(\"/Users/Brody1/Dropbox/Northwestern/DNA_Cyclizability/data/Created/yeast_chrIV_1bpresolution_subsequence50_seq_only.txt\", index=False, header=False)\n",
    "genome_df_chrV[\"sequence\"].to_csv(\"/Users/Brody1/Dropbox/Northwestern/DNA_Cyclizability/data/Created/yeast_chrV_1bpresolution_subsequence50_seq_only.txt\", index=False, header=False)\n",
    "genome_df_chrVI[\"sequence\"].to_csv(\"/Users/Brody1/Dropbox/Northwestern/DNA_Cyclizability/data/Created/yeast_chrVI_1bpresolution_subsequence50_seq_only.txt\", index=False, header=False)\n",
    "genome_df_chrVII[\"sequence\"].to_csv(\"/Users/Brody1/Dropbox/Northwestern/DNA_Cyclizability/data/Created/yeast_chrVII_1bpresolution_subsequence50_seq_only.txt\", index=False, header=False)\n",
    "genome_df_chrVIII[\"sequence\"].to_csv(\"/Users/Brody1/Dropbox/Northwestern/DNA_Cyclizability/data/Created/yeast_chrVIII_1bpresolution_subsequence50_seq_only.txt\", index=False, header=False)\n",
    "genome_df_chrIX[\"sequence\"].to_csv(\"/Users/Brody1/Dropbox/Northwestern/DNA_Cyclizability/data/Created/yeast_chrIX_1bpresolution_subsequence50_seq_only.txt\", index=False, header=False)\n",
    "genome_df_chrX[\"sequence\"].to_csv(\"/Users/Brody1/Dropbox/Northwestern/DNA_Cyclizability/data/Created/yeast_chrX_1bpresolution_subsequence50_seq_only.txt\", index=False, header=False)\n",
    "genome_df_chrXI[\"sequence\"].to_csv(\"/Users/Brody1/Dropbox/Northwestern/DNA_Cyclizability/data/Created/yeast_chrXI_1bpresolution_subsequence50_seq_only.txt\", index=False, header=False)\n",
    "genome_df_chrXII[\"sequence\"].to_csv(\"/Users/Brody1/Dropbox/Northwestern/DNA_Cyclizability/data/Created/yeast_chrXII_1bpresolution_subsequence50_seq_only.txt\", index=False, header=False)\n",
    "genome_df_chrXIII[\"sequence\"].to_csv(\"/Users/Brody1/Dropbox/Northwestern/DNA_Cyclizability/data/Created/yeast_chrXIII_1bpresolution_subsequence50_seq_only.txt\", index=False, header=False)\n",
    "genome_df_chrXIV[\"sequence\"].to_csv(\"/Users/Brody1/Dropbox/Northwestern/DNA_Cyclizability/data/Created/yeast_chrXIV_1bpresolution_subsequence50_seq_only.txt\", index=False, header=False)\n",
    "genome_df_chrXV[\"sequence\"].to_csv(\"/Users/Brody1/Dropbox/Northwestern/DNA_Cyclizability/data/Created/yeast_chrXV_1bpresolution_subsequence50_seq_only.txt\", index=False, header=False)\n",
    "genome_df_chrXVI[\"sequence\"].to_csv(\"/Users/Brody1/Dropbox/Northwestern/DNA_Cyclizability/data/Created/yeast_chrXVI_1bpresolution_subsequence50_seq_only.txt\", index=False, header=False)"
   ]
  },
  {
   "cell_type": "code",
   "execution_count": null,
   "metadata": {},
   "outputs": [],
   "source": []
  }
 ],
 "metadata": {
  "kernelspec": {
   "display_name": ".venv",
   "language": "python",
   "name": "python3"
  },
  "language_info": {
   "codemirror_mode": {
    "name": "ipython",
    "version": 3
   },
   "file_extension": ".py",
   "mimetype": "text/x-python",
   "name": "python",
   "nbconvert_exporter": "python",
   "pygments_lexer": "ipython3",
   "version": "3.11.5"
  }
 },
 "nbformat": 4,
 "nbformat_minor": 2
}
