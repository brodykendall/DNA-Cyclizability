{
 "cells": [
  {
   "cell_type": "code",
   "execution_count": 75,
   "metadata": {},
   "outputs": [],
   "source": [
    "import pandas as pd\n",
    "import itertools"
   ]
  },
  {
   "cell_type": "code",
   "execution_count": 76,
   "metadata": {},
   "outputs": [],
   "source": [
    "max_tiling_seq = \"AAAAAAAAAAAAAAAAAGAGGCTTTAGATCTCAAAGGGCCGAAAAAAGTG\" # C0=2.309134\n",
    "min_tiling_seq = \"CCTTGCGAATTTTCGCGAAAGGAAAAAGTGAAAAAATATGAAAAAAAAAA\" # C0=-3.159908"
   ]
  },
  {
   "cell_type": "code",
   "execution_count": 77,
   "metadata": {},
   "outputs": [],
   "source": [
    "max_seq = max_tiling_seq[5:-5]\n",
    "min_seq = min_tiling_seq[5:-5]"
   ]
  },
  {
   "cell_type": "code",
   "execution_count": 78,
   "metadata": {},
   "outputs": [
    {
     "data": {
      "text/plain": [
       "'AAAAAAAAAAAAGAGGCTTTAGATCTCAAAGGGCCGAAAA'"
      ]
     },
     "execution_count": 78,
     "metadata": {},
     "output_type": "execute_result"
    }
   ],
   "source": [
    "max_seq"
   ]
  },
  {
   "cell_type": "code",
   "execution_count": 79,
   "metadata": {},
   "outputs": [
    {
     "data": {
      "text/plain": [
       "'CGAATTTTCGCGAAAGGAAAAAGTGAAAAAATATGAAAAA'"
      ]
     },
     "execution_count": 79,
     "metadata": {},
     "output_type": "execute_result"
    }
   ],
   "source": [
    "min_seq"
   ]
  },
  {
   "cell_type": "code",
   "execution_count": 80,
   "metadata": {},
   "outputs": [],
   "source": [
    "nucleotides = [\"A\", \"C\", \"G\", \"T\"]"
   ]
  },
  {
   "cell_type": "code",
   "execution_count": 81,
   "metadata": {},
   "outputs": [],
   "source": [
    "def get_rev_comp(seq):\n",
    "    comp_map = {\"A\": \"T\",\n",
    "                \"C\": \"G\",\n",
    "                \"G\": \"C\",\n",
    "                \"T\": \"A\"}\n",
    "    ret =\"\"\n",
    "    for bp in reversed(seq):\n",
    "\n",
    "        ret += comp_map[bp]\n",
    "    return ret"
   ]
  },
  {
   "cell_type": "code",
   "execution_count": 82,
   "metadata": {},
   "outputs": [
    {
     "data": {
      "text/plain": [
       "'CGAATT'"
      ]
     },
     "execution_count": 82,
     "metadata": {},
     "output_type": "execute_result"
    }
   ],
   "source": [
    "get_rev_comp(\"AATTCG\")"
   ]
  },
  {
   "cell_type": "code",
   "execution_count": 83,
   "metadata": {},
   "outputs": [],
   "source": [
    "combinations = itertools.product(nucleotides, repeat=10)\n",
    "decamers = dict()\n",
    "# rev_comps = dict()\n",
    "for i, a in enumerate(combinations):\n",
    "    cur_seq = \"\".join(a)\n",
    "    \n",
    "    # if cur_seq in rev_comps:\n",
    "    #     continue\n",
    "    # cur_rev_comp = get_rev_comp(cur_seq)\n",
    "\n",
    "    decamers[cur_seq]=None\n",
    "    # rev_comps[cur_rev_comp]=None\n",
    "    # if i == 10:\n",
    "    #     print(\"stop\")\n",
    "    #     break"
   ]
  },
  {
   "cell_type": "code",
   "execution_count": 84,
   "metadata": {},
   "outputs": [
    {
     "data": {
      "text/plain": [
       "1048576"
      ]
     },
     "execution_count": 84,
     "metadata": {},
     "output_type": "execute_result"
    }
   ],
   "source": [
    "len(decamers)"
   ]
  },
  {
   "cell_type": "code",
   "execution_count": 85,
   "metadata": {},
   "outputs": [],
   "source": [
    "max_seqs = []\n",
    "min_seqs = []\n",
    "for i, decamer in enumerate(decamers):\n",
    "    max_seqs.append(decamer[:5]+max_seq+decamer[5:])\n",
    "    min_seqs.append(decamer[:5]+min_seq+decamer[5:])"
   ]
  },
  {
   "cell_type": "code",
   "execution_count": 86,
   "metadata": {},
   "outputs": [],
   "source": [
    "max_seqs.extend(min_seqs)"
   ]
  },
  {
   "cell_type": "code",
   "execution_count": 87,
   "metadata": {},
   "outputs": [
    {
     "data": {
      "text/plain": [
       "2097152"
      ]
     },
     "execution_count": 87,
     "metadata": {},
     "output_type": "execute_result"
    }
   ],
   "source": [
    "len(max_seqs)"
   ]
  },
  {
   "cell_type": "code",
   "execution_count": 88,
   "metadata": {},
   "outputs": [
    {
     "data": {
      "text/plain": [
       "50"
      ]
     },
     "execution_count": 88,
     "metadata": {},
     "output_type": "execute_result"
    }
   ],
   "source": [
    "len(max_seqs[0])"
   ]
  },
  {
   "cell_type": "code",
   "execution_count": 89,
   "metadata": {},
   "outputs": [],
   "source": [
    "dat = pd.DataFrame(max_seqs)"
   ]
  },
  {
   "cell_type": "code",
   "execution_count": 90,
   "metadata": {},
   "outputs": [],
   "source": [
    "dat.columns = [\"sequence\"]"
   ]
  },
  {
   "cell_type": "code",
   "execution_count": 91,
   "metadata": {},
   "outputs": [
    {
     "data": {
      "text/html": [
       "<div>\n",
       "<style scoped>\n",
       "    .dataframe tbody tr th:only-of-type {\n",
       "        vertical-align: middle;\n",
       "    }\n",
       "\n",
       "    .dataframe tbody tr th {\n",
       "        vertical-align: top;\n",
       "    }\n",
       "\n",
       "    .dataframe thead th {\n",
       "        text-align: right;\n",
       "    }\n",
       "</style>\n",
       "<table border=\"1\" class=\"dataframe\">\n",
       "  <thead>\n",
       "    <tr style=\"text-align: right;\">\n",
       "      <th></th>\n",
       "      <th>sequence</th>\n",
       "    </tr>\n",
       "  </thead>\n",
       "  <tbody>\n",
       "    <tr>\n",
       "      <th>0</th>\n",
       "      <td>AAAAAAAAAAAAAAAAAGAGGCTTTAGATCTCAAAGGGCCGAAAAA...</td>\n",
       "    </tr>\n",
       "    <tr>\n",
       "      <th>1</th>\n",
       "      <td>AAAAAAAAAAAAAAAAAGAGGCTTTAGATCTCAAAGGGCCGAAAAA...</td>\n",
       "    </tr>\n",
       "    <tr>\n",
       "      <th>2</th>\n",
       "      <td>AAAAAAAAAAAAAAAAAGAGGCTTTAGATCTCAAAGGGCCGAAAAA...</td>\n",
       "    </tr>\n",
       "    <tr>\n",
       "      <th>3</th>\n",
       "      <td>AAAAAAAAAAAAAAAAAGAGGCTTTAGATCTCAAAGGGCCGAAAAA...</td>\n",
       "    </tr>\n",
       "    <tr>\n",
       "      <th>4</th>\n",
       "      <td>AAAAAAAAAAAAAAAAAGAGGCTTTAGATCTCAAAGGGCCGAAAAA...</td>\n",
       "    </tr>\n",
       "    <tr>\n",
       "      <th>...</th>\n",
       "      <td>...</td>\n",
       "    </tr>\n",
       "    <tr>\n",
       "      <th>2097147</th>\n",
       "      <td>TTTTTCGAATTTTCGCGAAAGGAAAAAGTGAAAAAATATGAAAAAT...</td>\n",
       "    </tr>\n",
       "    <tr>\n",
       "      <th>2097148</th>\n",
       "      <td>TTTTTCGAATTTTCGCGAAAGGAAAAAGTGAAAAAATATGAAAAAT...</td>\n",
       "    </tr>\n",
       "    <tr>\n",
       "      <th>2097149</th>\n",
       "      <td>TTTTTCGAATTTTCGCGAAAGGAAAAAGTGAAAAAATATGAAAAAT...</td>\n",
       "    </tr>\n",
       "    <tr>\n",
       "      <th>2097150</th>\n",
       "      <td>TTTTTCGAATTTTCGCGAAAGGAAAAAGTGAAAAAATATGAAAAAT...</td>\n",
       "    </tr>\n",
       "    <tr>\n",
       "      <th>2097151</th>\n",
       "      <td>TTTTTCGAATTTTCGCGAAAGGAAAAAGTGAAAAAATATGAAAAAT...</td>\n",
       "    </tr>\n",
       "  </tbody>\n",
       "</table>\n",
       "<p>2097152 rows × 1 columns</p>\n",
       "</div>"
      ],
      "text/plain": [
       "                                                  sequence\n",
       "0        AAAAAAAAAAAAAAAAAGAGGCTTTAGATCTCAAAGGGCCGAAAAA...\n",
       "1        AAAAAAAAAAAAAAAAAGAGGCTTTAGATCTCAAAGGGCCGAAAAA...\n",
       "2        AAAAAAAAAAAAAAAAAGAGGCTTTAGATCTCAAAGGGCCGAAAAA...\n",
       "3        AAAAAAAAAAAAAAAAAGAGGCTTTAGATCTCAAAGGGCCGAAAAA...\n",
       "4        AAAAAAAAAAAAAAAAAGAGGCTTTAGATCTCAAAGGGCCGAAAAA...\n",
       "...                                                    ...\n",
       "2097147  TTTTTCGAATTTTCGCGAAAGGAAAAAGTGAAAAAATATGAAAAAT...\n",
       "2097148  TTTTTCGAATTTTCGCGAAAGGAAAAAGTGAAAAAATATGAAAAAT...\n",
       "2097149  TTTTTCGAATTTTCGCGAAAGGAAAAAGTGAAAAAATATGAAAAAT...\n",
       "2097150  TTTTTCGAATTTTCGCGAAAGGAAAAAGTGAAAAAATATGAAAAAT...\n",
       "2097151  TTTTTCGAATTTTCGCGAAAGGAAAAAGTGAAAAAATATGAAAAAT...\n",
       "\n",
       "[2097152 rows x 1 columns]"
      ]
     },
     "execution_count": 91,
     "metadata": {},
     "output_type": "execute_result"
    }
   ],
   "source": [
    "dat"
   ]
  },
  {
   "cell_type": "code",
   "execution_count": 92,
   "metadata": {},
   "outputs": [],
   "source": [
    "dat.to_csv(f\"/Users/Brody1/Dropbox/Northwestern/DNA_Cyclizability/data/Created/context_library.csv\", index=False)"
   ]
  },
  {
   "cell_type": "code",
   "execution_count": null,
   "metadata": {},
   "outputs": [],
   "source": []
  }
 ],
 "metadata": {
  "kernelspec": {
   "display_name": ".venv",
   "language": "python",
   "name": "python3"
  },
  "language_info": {
   "codemirror_mode": {
    "name": "ipython",
    "version": 3
   },
   "file_extension": ".py",
   "mimetype": "text/x-python",
   "name": "python",
   "nbconvert_exporter": "python",
   "pygments_lexer": "ipython3",
   "version": "3.11.0"
  }
 },
 "nbformat": 4,
 "nbformat_minor": 2
}
