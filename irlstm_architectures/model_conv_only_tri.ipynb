{
 "cells": [
  {
   "cell_type": "code",
   "execution_count": 1,
   "metadata": {},
   "outputs": [
    {
     "name": "stderr",
     "output_type": "stream",
     "text": [
      "2023-04-11 22:25:47.835511: I tensorflow/core/platform/cpu_feature_guard.cc:193] This TensorFlow binary is optimized with oneAPI Deep Neural Network Library (oneDNN) to use the following CPU instructions in performance-critical operations:  SSE4.1 SSE4.2\n",
      "To enable them in other operations, rebuild TensorFlow with the appropriate compiler flags.\n"
     ]
    }
   ],
   "source": [
    "import time\n",
    "import keras\n",
    "\n",
    "from keras.models import Model\n",
    "from keras.layers import Dropout, Flatten, BatchNormalization, TimeDistributed, Input, Add, Concatenate\n",
    "from keras.layers import Dense, Conv2D, MaxPooling2D, LSTM, TimeDistributed, Reshape\n",
    "import keras.backend as K\n",
    "import keras.callbacks as callbacks\n",
    "\n",
    "import pandas as pd\n",
    "import numpy as np\n",
    "from numpy import array\n",
    "from sklearn.linear_model import LinearRegression\n",
    "from sklearn.model_selection import KFold"
   ]
  },
  {
   "cell_type": "code",
   "execution_count": 138,
   "metadata": {},
   "outputs": [],
   "source": [
    "\n",
    "save_path = \"/Users/Brody1/Documents/Northwestern/DNA_Cyclizability/benchmarks/deep-learning/\"\n",
    "model_name = \"conv_only_tri\"\n",
    "kf = KFold(n_splits = 10, shuffle =True)\n",
    "num_epochs = 10\n",
    "\n",
    "#### define functions ####\n",
    "\n",
    "def model_cycle():\n",
    "    inputs = Input(shape=(48, 64, 1))\n",
    "        \n",
    "    x = Conv2D(48, kernel_size=(21,64),\n",
    "                   activation='relu',\n",
    "                   padding='valid')(inputs)\n",
    "    x = MaxPooling2D((2,1),padding='same')(x)\n",
    "    x = BatchNormalization()(x)\n",
    "    # x = Dropout(0.2)(x)\n",
    "    x = Dropout(0.1)(x)\n",
    "\n",
    "    # print(f\"After first convolutional layer: x.shape = {x.shape}\")\n",
    "\n",
    "    # x = Reshape((K.int_shape(x)[1], K.int_shape(x)[3]))(x)\n",
    "    # x = Conv1D(48, kernel_size=(11),\n",
    "    #                activation='relu',\n",
    "    #                padding='same')(x)\n",
    "    # x = BatchNormalization()(x)\n",
    "    # x = Dropout(0.2)(x)\n",
    "\n",
    "    # print(f\"After second convolutional layer: x.shape = {x.shape}\")\n",
    "\n",
    "    # x = Conv2D(48, kernel_size=(21,1),\n",
    "    #                activation='relu',\n",
    "    #                padding='same')(x)\n",
    "    # x = MaxPooling2D((24,1),padding='same')(x)\n",
    "    # x = BatchNormalization()(x)\n",
    "    # x = Dropout(0.2)(x)\n",
    "\n",
    "    # print(f\"After third convolutional layer, x.shape = {x.shape}\")\n",
    "\n",
    "    # x = Conv2D(48, kernel_size=(3,1),\n",
    "    #                activation='relu',\n",
    "    #                padding='same')(x)\n",
    "    # x = BatchNormalization()(x)\n",
    "    # x = Dropout(0.2)(x)\n",
    "    # x = Conv2D(48, kernel_size=(3,1),\n",
    "    #                activation='relu',\n",
    "    #                padding='same')(x)\n",
    "    # x = MaxPooling2D((12,1),padding='same')(x)\n",
    "    # x = BatchNormalization()(x)\n",
    "    # x = Dropout(0.2)(x)\n",
    "\n",
    "    # # parallel line 1\n",
    "    # fx1 = Conv2D(48, kernel_size=(3,1),\n",
    "    #                activation='relu',\n",
    "    #                padding='same')(x)\n",
    "    # fx1 = BatchNormalization()(fx1)\n",
    "    # fx1 = Dropout(0.2)(fx1)\n",
    "    # fx1 = Conv2D(48, kernel_size=(3,1),\n",
    "    #                activation='relu',\n",
    "    #                padding='same')(fx1)\n",
    "    # fx1 = MaxPooling2D((2,1),padding='same')(fx1)\n",
    "    # fx1 = BatchNormalization()(fx1)\n",
    "    # fx1 = Dropout(0.2)(fx1)\n",
    "    \n",
    "    # # parallel line 2\n",
    "    # fx2 = Conv2D(48, kernel_size=(11,1),\n",
    "    #                activation='relu',\n",
    "    #                padding='same')(x)\n",
    "    # fx2 = BatchNormalization()(fx2)\n",
    "    # fx2 = Dropout(0.2)(fx2)\n",
    "    # fx2 = Conv2D(48, kernel_size=(21,1),\n",
    "    #                activation='relu',\n",
    "    #                padding='same')(fx2)\n",
    "    # fx2 = MaxPooling2D((2,1),padding='same')(fx2)\n",
    "    # fx2 = BatchNormalization()(fx2)\n",
    "    # fx2 = Dropout(0.2)(fx2)\n",
    "    \n",
    "    # # # Add\n",
    "    # x1 = Concatenate(axis=-3)([fx1, fx2])\n",
    "    # x = Add()([x, x1])\n",
    "    # x = MaxPooling2D((2,1),padding='same')(x)\n",
    "    # x = BatchNormalization()(x)\n",
    "    # x = Dropout(0.2)(x)\n",
    "    \n",
    "    # x = Reshape((K.int_shape(x)[1], K.int_shape(x)[3]))(x)\n",
    "    # x = LSTM(20, return_sequences=False)(x)\n",
    "    # x = Dropout(0.2)(x)\n",
    "\n",
    "    # x = Reshape((1, 24*48))(x)\n",
    "    x = Flatten()(x)\n",
    "\n",
    "    outputs = Dense(1, activation='linear')(x)\n",
    "    # print(outputs.shape)\n",
    "    network = Model(inputs, outputs)\n",
    "    network.compile(optimizer='rmsprop',\n",
    "                    loss='mean_squared_error')\n",
    "    return network"
   ]
  },
  {
   "cell_type": "code",
   "execution_count": 139,
   "metadata": {},
   "outputs": [],
   "source": [
    "def triOneHot(sequence):\n",
    "    code = {\"AAA\": [0], \"AAC\": [1], \"AAG\": [2], \"AAT\": [3],\n",
    "            \"ACA\": [4], \"ACC\": [5], \"ACG\": [6], \"ACT\": [7], \n",
    "            \"AGA\": [8], \"AGC\": [9], \"AGG\": [10], \"AGT\": [11], \n",
    "            \"ATA\": [12], \"ATC\": [13], \"ATG\": [14], \"ATT\": [15], \n",
    "            \"CAA\": [16], \"CAC\": [17], \"CAG\": [18], \"CAT\": [19], \n",
    "            \"CCA\": [20], \"CCC\": [21], \"CCG\": [22], \"CCT\": [23], \n",
    "            \"CGA\": [24], \"CGC\": [25], \"CGG\": [26], \"CGT\": [27], \n",
    "            \"CTA\": [28], \"CTC\": [29], \"CTG\": [30], \"CTT\": [31], \n",
    "            \"GAA\": [32], \"GAC\": [33], \"GAG\": [34], \"GAT\": [35],\n",
    "            \"GCA\": [36], \"GCC\": [37], \"GCG\": [38], \"GCT\": [39], \n",
    "            \"GGA\": [40], \"GGC\": [41], \"GGG\": [42], \"GGT\": [43], \n",
    "            \"GTA\": [44], \"GTC\": [45], \"GTG\": [46], \"GTT\": [47], \n",
    "            \"TAA\": [48], \"TAC\": [49], \"TAG\": [50], \"TAT\": [51], \n",
    "            \"TCA\": [52], \"TCC\": [53], \"TCG\": [54], \"TCT\": [55], \n",
    "            \"TGA\": [56], \"TGC\": [57], \"TGG\": [58], \"TGT\": [59], \n",
    "            \"TTA\": [60], \"TTC\": [61], \"TTG\": [62], \"TTT\": [63],   \"N\": [64]}\n",
    "    onehot_encoded_seq = []\n",
    "    for i, _ in enumerate(sequence[:(len(sequence)-2)]):\n",
    "        onehot_encoded = np.zeros(65)\n",
    "        onehot_encoded[code[sequence[i:i+3]]] = 1\n",
    "        onehot_encoded_seq.append(onehot_encoded[0:64])\n",
    "    return onehot_encoded_seq"
   ]
  },
  {
   "cell_type": "code",
   "execution_count": 140,
   "metadata": {},
   "outputs": [],
   "source": [
    "def display_fits(fits):\n",
    "    print(f\"Average correlation on tiling: {np.mean([fits[0][i] for i in range(fits[0].size) if (i % 8) == 5])}\",\n",
    "          f\"\\nAverage MSE on tiling: {np.mean([fits[1][i] for i in range(fits[1].size) if (i % 8) == 5])}\",\n",
    "          f\"\\nAverage correlation on random: {np.mean([fits[0][i] for i in range(fits[0].size) if (i % 8) == 3])}\",\n",
    "          f\"\\nAverage MSE on random: {np.mean([fits[1][i] for i in range(fits[1].size) if (i % 8) == 3])}\",\n",
    "          f\"\\nAverage correlation on ChrV: {np.mean([fits[0][i] for i in range(fits[0].size) if (i % 8) == 7])}\",\n",
    "          f\"\\nAverage MSE on ChrV: {np.mean([fits[1][i] for i in range(fits[1].size) if (i % 8) == 7])}\",\n",
    "          f\"\\nAverage correlation on CN: {np.mean([fits[0][i] for i in range(fits[0].size) if (i % 8) == 0])}\",\n",
    "          f\"\\nAverage MSE on CN: {np.mean([fits[1][i] for i in range(fits[1].size) if (i % 8) == 0])}\")"
   ]
  },
  {
   "cell_type": "code",
   "execution_count": 141,
   "metadata": {},
   "outputs": [],
   "source": [
    "def find_c0new(dat):\n",
    "  mat = np.empty((3,3), float)\n",
    "  k = 2*np.pi/10.4\n",
    "  n = array([26, 29, 31])\n",
    "  mat[0:3,0] = 1\n",
    "  mat[0:3, 1] = np.sin(n*k)\n",
    "  mat[0:3, 2] = np.cos(n*k)\n",
    "  inv_mat = np.linalg.inv(mat)\n",
    "  c0A1A2 = array(np.matmul(dat[[\"n=26\", \"n=29\", \"n=31\"]], np.transpose(inv_mat)))\n",
    "  c0Aphi = c0A1A2\n",
    "  c0Aphi[:,0] = c0A1A2[:,0]\n",
    "  c0Aphi[:,1] = np.sqrt(c0A1A2[:,1]**2 + c0A1A2[:,2]**2)\n",
    "  c0Aphi[:,2] <- np.sign(c0A1A2[:,2]) * np.arccos(c0A1A2[:,1]/c0Aphi[:,1])\n",
    "  return c0Aphi[:,0]"
   ]
  },
  {
   "cell_type": "code",
   "execution_count": 66,
   "metadata": {},
   "outputs": [],
   "source": [
    "class TimeHistory(keras.callbacks.Callback):\n",
    "    def on_train_begin(self, logs={}):\n",
    "        self.times = []\n",
    "\n",
    "    def on_epoch_begin(self, batch, logs={}):\n",
    "        self.epoch_time_start = time.process_time()\n",
    "\n",
    "    def on_epoch_end(self, batch, logs={}):\n",
    "        self.times.append(time.process_time() - self.epoch_time_start)\n",
    "        \n",
    "#### preparing data ####\n",
    "\n",
    "data_cerevisiae_nucle = pd.read_csv(\"/Users/Brody1/Documents/Northwestern/DNA_Cyclizability/cycle1.txt\",delimiter = \",\")\n",
    "X1 = []\n",
    "for sequence_nt in data_cerevisiae_nucle[\"Sequence\"]:\n",
    "    X1.append(triOneHot(sequence_nt))\n",
    "X1 = array(X1)\n",
    "X1 = X1.reshape((X1.shape[0],48,64,1))\n",
    "X1_reverse = np.flip(X1,[1,2])\n",
    "# Y1 = data_cerevisiae_nucle[\"C0\"].values.astype(float)\n",
    "Y1 = find_c0new(data_cerevisiae_nucle).astype(float)\n"
   ]
  },
  {
   "cell_type": "code",
   "execution_count": 67,
   "metadata": {},
   "outputs": [],
   "source": [
    "data_random_library = pd.read_csv(\"/Users/Brody1/Documents/Northwestern/DNA_Cyclizability/cycle3.txt\",delimiter = \",\")\n",
    "X3 = []\n",
    "for sequence_nt in data_random_library[\"Sequence\"]:\n",
    "    X3.append(triOneHot(sequence_nt))\n",
    "X3 = array(X3)\n",
    "X3 = X3.reshape((X3.shape[0],48,64,1))\n",
    "X3_reverse = np.flip(X3,[1,2])\n",
    "# Y3 = data_random_library[\"C0\"].values.astype(float)\n",
    "Y3 = find_c0new(data_random_library).astype(float)\n"
   ]
  },
  {
   "cell_type": "code",
   "execution_count": 68,
   "metadata": {},
   "outputs": [],
   "source": [
    "data_tiling = pd.read_csv(\"/Users/Brody1/Documents/Northwestern/DNA_Cyclizability/cycle5.txt\",delimiter = \",\")\n",
    "X5 = []\n",
    "for sequence_nt in data_tiling[\"Sequence\"]:\n",
    "    X5.append(triOneHot(sequence_nt))\n",
    "X5 = array(X5)\n",
    "X5 = X5.reshape((X5.shape[0],48,64,1))\n",
    "X5_reverse = np.flip(X5,[1,2])\n",
    "# Y5 = data_tiling[\"C0\"].values.astype(float)\n",
    "Y5 = find_c0new(data_tiling).astype(float)\n",
    "\n"
   ]
  },
  {
   "cell_type": "code",
   "execution_count": 69,
   "metadata": {},
   "outputs": [],
   "source": [
    "data_chr5 = pd.read_csv(\"/Users/Brody1/Documents/Northwestern/DNA_Cyclizability/cycle6.txt\",delimiter = \",\")\n",
    "X6 = []\n",
    "for sequence_nt in data_chr5[\"Sequence\"]:\n",
    "    X6.append(triOneHot(sequence_nt))\n",
    "X6 = array(X6)\n",
    "X6 = X6.reshape((X6.shape[0],48,64,1))\n",
    "X6_reverse = np.flip(X6,[1,2])\n",
    "# Y6 = data_chr5[\"C0\"].values.astype(float)\n",
    "Y6 = find_c0new(data_chr5).astype(float)"
   ]
  },
  {
   "cell_type": "code",
   "execution_count": 142,
   "metadata": {},
   "outputs": [
    {
     "name": "stdout",
     "output_type": "stream",
     "text": [
      "Epoch 1/10\n",
      "2314/2317 [============================>.] - ETA: 0s - loss: 0.1681\n",
      "Epoch 1: val_loss improved from inf to 0.12131, saving model to /Users/Brody1/Documents/Northwestern/DNA_Cyclizability/benchmarks/deep-learning/conv_only_tri_tiling_1.h5\n",
      "2317/2317 [==============================] - 15s 6ms/step - loss: 0.1681 - val_loss: 0.1213\n",
      "Epoch 2/10\n",
      "2314/2317 [============================>.] - ETA: 0s - loss: 0.1243\n",
      "Epoch 2: val_loss improved from 0.12131 to 0.11614, saving model to /Users/Brody1/Documents/Northwestern/DNA_Cyclizability/benchmarks/deep-learning/conv_only_tri_tiling_1.h5\n",
      "2317/2317 [==============================] - 14s 6ms/step - loss: 0.1243 - val_loss: 0.1161\n",
      "Epoch 3/10\n",
      "2317/2317 [==============================] - ETA: 0s - loss: 0.1167\n",
      "Epoch 3: val_loss improved from 0.11614 to 0.11537, saving model to /Users/Brody1/Documents/Northwestern/DNA_Cyclizability/benchmarks/deep-learning/conv_only_tri_tiling_1.h5\n",
      "2317/2317 [==============================] - 14s 6ms/step - loss: 0.1167 - val_loss: 0.1154\n",
      "Epoch 4/10\n",
      "2317/2317 [==============================] - ETA: 0s - loss: 0.1108\n",
      "Epoch 4: val_loss improved from 0.11537 to 0.11253, saving model to /Users/Brody1/Documents/Northwestern/DNA_Cyclizability/benchmarks/deep-learning/conv_only_tri_tiling_1.h5\n",
      "2317/2317 [==============================] - 14s 6ms/step - loss: 0.1108 - val_loss: 0.1125\n",
      "Epoch 5/10\n",
      "2310/2317 [============================>.] - ETA: 0s - loss: 0.1064\n",
      "Epoch 5: val_loss improved from 0.11253 to 0.10994, saving model to /Users/Brody1/Documents/Northwestern/DNA_Cyclizability/benchmarks/deep-learning/conv_only_tri_tiling_1.h5\n",
      "2317/2317 [==============================] - 14s 6ms/step - loss: 0.1064 - val_loss: 0.1099\n",
      "Epoch 6/10\n",
      "2309/2317 [============================>.] - ETA: 0s - loss: 0.1027\n",
      "Epoch 6: val_loss did not improve from 0.10994\n",
      "2317/2317 [==============================] - 14s 6ms/step - loss: 0.1027 - val_loss: 0.1102\n",
      "Epoch 7/10\n",
      "2310/2317 [============================>.] - ETA: 0s - loss: 0.1008\n",
      "Epoch 7: val_loss improved from 0.10994 to 0.10986, saving model to /Users/Brody1/Documents/Northwestern/DNA_Cyclizability/benchmarks/deep-learning/conv_only_tri_tiling_1.h5\n",
      "2317/2317 [==============================] - 14s 6ms/step - loss: 0.1008 - val_loss: 0.1099\n",
      "Epoch 8/10\n",
      "2312/2317 [============================>.] - ETA: 0s - loss: 0.0973\n",
      "Epoch 8: val_loss improved from 0.10986 to 0.10880, saving model to /Users/Brody1/Documents/Northwestern/DNA_Cyclizability/benchmarks/deep-learning/conv_only_tri_tiling_1.h5\n",
      "2317/2317 [==============================] - 14s 6ms/step - loss: 0.0973 - val_loss: 0.1088\n",
      "Epoch 9/10\n",
      "2313/2317 [============================>.] - ETA: 0s - loss: 0.0947\n",
      "Epoch 9: val_loss did not improve from 0.10880\n",
      "2317/2317 [==============================] - 14s 6ms/step - loss: 0.0949 - val_loss: 0.1115\n",
      "Epoch 10/10\n",
      "2317/2317 [==============================] - ETA: 0s - loss: 0.0924\n",
      "Epoch 10: val_loss improved from 0.10880 to 0.10839, saving model to /Users/Brody1/Documents/Northwestern/DNA_Cyclizability/benchmarks/deep-learning/conv_only_tri_tiling_1.h5\n",
      "2317/2317 [==============================] - 14s 6ms/step - loss: 0.0924 - val_loss: 0.1084\n"
     ]
    },
    {
     "name": "stderr",
     "output_type": "stream",
     "text": [
      "WARNING:absl:Found untraced functions such as _jit_compiled_convolution_op while saving (showing 1 of 1). These functions will not be directly callable after loading.\n"
     ]
    },
    {
     "name": "stdout",
     "output_type": "stream",
     "text": [
      "INFO:tensorflow:Assets written to: /Users/Brody1/Documents/Northwestern/DNA_Cyclizability/benchmarks/deep-learning/conv_only_tri_tiling_1/assets\n"
     ]
    },
    {
     "name": "stderr",
     "output_type": "stream",
     "text": [
      "INFO:tensorflow:Assets written to: /Users/Brody1/Documents/Northwestern/DNA_Cyclizability/benchmarks/deep-learning/conv_only_tri_tiling_1/assets\n"
     ]
    },
    {
     "name": "stdout",
     "output_type": "stream",
     "text": [
      "2317/2317 [==============================] - 4s 2ms/step\n",
      "2317/2317 [==============================] - 4s 2ms/step\n",
      "623/623 [==============================] - 1s 2ms/step\n",
      "623/623 [==============================] - 1s 2ms/step\n",
      "390/390 [==============================] - 1s 2ms/step\n",
      "390/390 [==============================] - 1s 2ms/step\n",
      "258/258 [==============================] - 0s 2ms/step\n",
      "258/258 [==============================] - 1s 2ms/step\n",
      "2576/2576 [==============================] - 5s 2ms/step\n",
      "2576/2576 [==============================] - 5s 2ms/step\n",
      "Epoch 1/10\n",
      "2312/2317 [============================>.] - ETA: 0s - loss: 0.1701\n",
      "Epoch 1: val_loss improved from inf to 0.12254, saving model to /Users/Brody1/Documents/Northwestern/DNA_Cyclizability/benchmarks/deep-learning/conv_only_tri_tiling_2.h5\n",
      "2317/2317 [==============================] - 21s 9ms/step - loss: 0.1700 - val_loss: 0.1225\n",
      "Epoch 2/10\n",
      "2314/2317 [============================>.] - ETA: 0s - loss: 0.1210\n",
      "Epoch 2: val_loss improved from 0.12254 to 0.11149, saving model to /Users/Brody1/Documents/Northwestern/DNA_Cyclizability/benchmarks/deep-learning/conv_only_tri_tiling_2.h5\n",
      "2317/2317 [==============================] - 23s 10ms/step - loss: 0.1210 - val_loss: 0.1115\n",
      "Epoch 3/10\n",
      "2315/2317 [============================>.] - ETA: 0s - loss: 0.1121\n",
      "Epoch 3: val_loss improved from 0.11149 to 0.10967, saving model to /Users/Brody1/Documents/Northwestern/DNA_Cyclizability/benchmarks/deep-learning/conv_only_tri_tiling_2.h5\n",
      "2317/2317 [==============================] - 21s 9ms/step - loss: 0.1121 - val_loss: 0.1097\n",
      "Epoch 4/10\n",
      "2309/2317 [============================>.] - ETA: 0s - loss: 0.1061\n",
      "Epoch 4: val_loss improved from 0.10967 to 0.10713, saving model to /Users/Brody1/Documents/Northwestern/DNA_Cyclizability/benchmarks/deep-learning/conv_only_tri_tiling_2.h5\n",
      "2317/2317 [==============================] - 14s 6ms/step - loss: 0.1062 - val_loss: 0.1071\n",
      "Epoch 5/10\n",
      "2317/2317 [==============================] - ETA: 0s - loss: 0.1013\n",
      "Epoch 5: val_loss improved from 0.10713 to 0.10614, saving model to /Users/Brody1/Documents/Northwestern/DNA_Cyclizability/benchmarks/deep-learning/conv_only_tri_tiling_2.h5\n",
      "2317/2317 [==============================] - 14s 6ms/step - loss: 0.1013 - val_loss: 0.1061\n",
      "Epoch 6/10\n",
      "2314/2317 [============================>.] - ETA: 0s - loss: 0.0984\n",
      "Epoch 6: val_loss improved from 0.10614 to 0.10578, saving model to /Users/Brody1/Documents/Northwestern/DNA_Cyclizability/benchmarks/deep-learning/conv_only_tri_tiling_2.h5\n",
      "2317/2317 [==============================] - 14s 6ms/step - loss: 0.0984 - val_loss: 0.1058\n",
      "Epoch 7/10\n",
      "2314/2317 [============================>.] - ETA: 0s - loss: 0.0946\n",
      "Epoch 7: val_loss improved from 0.10578 to 0.10476, saving model to /Users/Brody1/Documents/Northwestern/DNA_Cyclizability/benchmarks/deep-learning/conv_only_tri_tiling_2.h5\n",
      "2317/2317 [==============================] - 14s 6ms/step - loss: 0.0947 - val_loss: 0.1048\n",
      "Epoch 8/10\n",
      "2314/2317 [============================>.] - ETA: 0s - loss: 0.0921\n",
      "Epoch 8: val_loss did not improve from 0.10476\n",
      "2317/2317 [==============================] - 14s 6ms/step - loss: 0.0921 - val_loss: 0.1048\n",
      "Epoch 9/10\n",
      "2314/2317 [============================>.] - ETA: 0s - loss: 0.0894\n",
      "Epoch 9: val_loss improved from 0.10476 to 0.10475, saving model to /Users/Brody1/Documents/Northwestern/DNA_Cyclizability/benchmarks/deep-learning/conv_only_tri_tiling_2.h5\n",
      "2317/2317 [==============================] - 14s 6ms/step - loss: 0.0894 - val_loss: 0.1047\n",
      "Epoch 10/10\n",
      "2315/2317 [============================>.] - ETA: 0s - loss: 0.0873\n",
      "Epoch 10: val_loss improved from 0.10475 to 0.10398, saving model to /Users/Brody1/Documents/Northwestern/DNA_Cyclizability/benchmarks/deep-learning/conv_only_tri_tiling_2.h5\n",
      "2317/2317 [==============================] - 14s 6ms/step - loss: 0.0873 - val_loss: 0.1040\n"
     ]
    },
    {
     "name": "stderr",
     "output_type": "stream",
     "text": [
      "WARNING:absl:Found untraced functions such as _jit_compiled_convolution_op while saving (showing 1 of 1). These functions will not be directly callable after loading.\n"
     ]
    },
    {
     "name": "stdout",
     "output_type": "stream",
     "text": [
      "INFO:tensorflow:Assets written to: /Users/Brody1/Documents/Northwestern/DNA_Cyclizability/benchmarks/deep-learning/conv_only_tri_tiling_2/assets\n"
     ]
    },
    {
     "name": "stderr",
     "output_type": "stream",
     "text": [
      "INFO:tensorflow:Assets written to: /Users/Brody1/Documents/Northwestern/DNA_Cyclizability/benchmarks/deep-learning/conv_only_tri_tiling_2/assets\n"
     ]
    },
    {
     "name": "stdout",
     "output_type": "stream",
     "text": [
      "2317/2317 [==============================] - 4s 2ms/step\n",
      "2317/2317 [==============================] - 4s 2ms/step\n",
      "623/623 [==============================] - 1s 2ms/step\n",
      "623/623 [==============================] - 1s 2ms/step\n",
      "390/390 [==============================] - 1s 2ms/step\n",
      "390/390 [==============================] - 1s 2ms/step\n",
      "258/258 [==============================] - 0s 2ms/step\n",
      "258/258 [==============================] - 0s 2ms/step\n",
      "2576/2576 [==============================] - 4s 2ms/step\n",
      "2576/2576 [==============================] - 4s 2ms/step\n",
      "Epoch 1/10\n",
      "2313/2317 [============================>.] - ETA: 0s - loss: 0.1692\n",
      "Epoch 1: val_loss improved from inf to 0.12011, saving model to /Users/Brody1/Documents/Northwestern/DNA_Cyclizability/benchmarks/deep-learning/conv_only_tri_tiling_3.h5\n",
      "2317/2317 [==============================] - 14s 6ms/step - loss: 0.1691 - val_loss: 0.1201\n",
      "Epoch 2/10\n",
      "2311/2317 [============================>.] - ETA: 0s - loss: 0.1224\n",
      "Epoch 2: val_loss improved from 0.12011 to 0.10852, saving model to /Users/Brody1/Documents/Northwestern/DNA_Cyclizability/benchmarks/deep-learning/conv_only_tri_tiling_3.h5\n",
      "2317/2317 [==============================] - 14s 6ms/step - loss: 0.1224 - val_loss: 0.1085\n",
      "Epoch 3/10\n",
      "2312/2317 [============================>.] - ETA: 0s - loss: 0.1138\n",
      "Epoch 3: val_loss did not improve from 0.10852\n",
      "2317/2317 [==============================] - 14s 6ms/step - loss: 0.1138 - val_loss: 0.1102\n",
      "Epoch 4/10\n",
      "2314/2317 [============================>.] - ETA: 0s - loss: 0.1078\n",
      "Epoch 4: val_loss improved from 0.10852 to 0.10523, saving model to /Users/Brody1/Documents/Northwestern/DNA_Cyclizability/benchmarks/deep-learning/conv_only_tri_tiling_3.h5\n",
      "2317/2317 [==============================] - 14s 6ms/step - loss: 0.1078 - val_loss: 0.1052\n",
      "Epoch 5/10\n",
      "2312/2317 [============================>.] - ETA: 0s - loss: 0.1032\n",
      "Epoch 5: val_loss improved from 0.10523 to 0.10449, saving model to /Users/Brody1/Documents/Northwestern/DNA_Cyclizability/benchmarks/deep-learning/conv_only_tri_tiling_3.h5\n",
      "2317/2317 [==============================] - 14s 6ms/step - loss: 0.1032 - val_loss: 0.1045\n",
      "Epoch 6/10\n",
      "2308/2317 [============================>.] - ETA: 0s - loss: 0.1005\n",
      "Epoch 6: val_loss improved from 0.10449 to 0.10312, saving model to /Users/Brody1/Documents/Northwestern/DNA_Cyclizability/benchmarks/deep-learning/conv_only_tri_tiling_3.h5\n",
      "2317/2317 [==============================] - 14s 6ms/step - loss: 0.1004 - val_loss: 0.1031\n",
      "Epoch 7/10\n",
      "2310/2317 [============================>.] - ETA: 0s - loss: 0.0966\n",
      "Epoch 7: val_loss did not improve from 0.10312\n",
      "2317/2317 [==============================] - 14s 6ms/step - loss: 0.0966 - val_loss: 0.1080\n",
      "Epoch 8/10\n",
      "2312/2317 [============================>.] - ETA: 0s - loss: 0.0944\n",
      "Epoch 8: val_loss improved from 0.10312 to 0.10288, saving model to /Users/Brody1/Documents/Northwestern/DNA_Cyclizability/benchmarks/deep-learning/conv_only_tri_tiling_3.h5\n",
      "2317/2317 [==============================] - 14s 6ms/step - loss: 0.0944 - val_loss: 0.1029\n",
      "Epoch 9/10\n",
      "2311/2317 [============================>.] - ETA: 0s - loss: 0.0919\n",
      "Epoch 9: val_loss did not improve from 0.10288\n",
      "2317/2317 [==============================] - 14s 6ms/step - loss: 0.0918 - val_loss: 0.1052\n",
      "Epoch 10/10\n",
      "2313/2317 [============================>.] - ETA: 0s - loss: 0.0903\n",
      "Epoch 10: val_loss improved from 0.10288 to 0.10252, saving model to /Users/Brody1/Documents/Northwestern/DNA_Cyclizability/benchmarks/deep-learning/conv_only_tri_tiling_3.h5\n",
      "2317/2317 [==============================] - 14s 6ms/step - loss: 0.0903 - val_loss: 0.1025\n"
     ]
    },
    {
     "name": "stderr",
     "output_type": "stream",
     "text": [
      "WARNING:absl:Found untraced functions such as _jit_compiled_convolution_op while saving (showing 1 of 1). These functions will not be directly callable after loading.\n"
     ]
    },
    {
     "name": "stdout",
     "output_type": "stream",
     "text": [
      "INFO:tensorflow:Assets written to: /Users/Brody1/Documents/Northwestern/DNA_Cyclizability/benchmarks/deep-learning/conv_only_tri_tiling_3/assets\n"
     ]
    },
    {
     "name": "stderr",
     "output_type": "stream",
     "text": [
      "INFO:tensorflow:Assets written to: /Users/Brody1/Documents/Northwestern/DNA_Cyclizability/benchmarks/deep-learning/conv_only_tri_tiling_3/assets\n"
     ]
    },
    {
     "name": "stdout",
     "output_type": "stream",
     "text": [
      "2317/2317 [==============================] - 4s 2ms/step\n",
      "2317/2317 [==============================] - 4s 2ms/step\n",
      "623/623 [==============================] - 1s 2ms/step\n",
      "623/623 [==============================] - 1s 2ms/step\n",
      "390/390 [==============================] - 1s 2ms/step\n",
      "390/390 [==============================] - 1s 2ms/step\n",
      "258/258 [==============================] - 0s 2ms/step\n",
      "258/258 [==============================] - 0s 2ms/step\n",
      "2576/2576 [==============================] - 4s 2ms/step\n",
      "2576/2576 [==============================] - 4s 2ms/step\n",
      "Epoch 1/10\n",
      "2316/2317 [============================>.] - ETA: 0s - loss: 0.1737\n",
      "Epoch 1: val_loss improved from inf to 0.12134, saving model to /Users/Brody1/Documents/Northwestern/DNA_Cyclizability/benchmarks/deep-learning/conv_only_tri_tiling_4.h5\n",
      "2317/2317 [==============================] - 14s 6ms/step - loss: 0.1737 - val_loss: 0.1213\n",
      "Epoch 2/10\n",
      "2312/2317 [============================>.] - ETA: 0s - loss: 0.1248\n",
      "Epoch 2: val_loss improved from 0.12134 to 0.11547, saving model to /Users/Brody1/Documents/Northwestern/DNA_Cyclizability/benchmarks/deep-learning/conv_only_tri_tiling_4.h5\n",
      "2317/2317 [==============================] - 14s 6ms/step - loss: 0.1248 - val_loss: 0.1155\n",
      "Epoch 3/10\n",
      "2312/2317 [============================>.] - ETA: 0s - loss: 0.1154\n",
      "Epoch 3: val_loss improved from 0.11547 to 0.10920, saving model to /Users/Brody1/Documents/Northwestern/DNA_Cyclizability/benchmarks/deep-learning/conv_only_tri_tiling_4.h5\n",
      "2317/2317 [==============================] - 14s 6ms/step - loss: 0.1154 - val_loss: 0.1092\n",
      "Epoch 4/10\n",
      "2316/2317 [============================>.] - ETA: 0s - loss: 0.1091\n",
      "Epoch 4: val_loss improved from 0.10920 to 0.10573, saving model to /Users/Brody1/Documents/Northwestern/DNA_Cyclizability/benchmarks/deep-learning/conv_only_tri_tiling_4.h5\n",
      "2317/2317 [==============================] - 14s 6ms/step - loss: 0.1091 - val_loss: 0.1057\n",
      "Epoch 5/10\n",
      "2310/2317 [============================>.] - ETA: 0s - loss: 0.1049\n",
      "Epoch 5: val_loss did not improve from 0.10573\n",
      "2317/2317 [==============================] - 15s 6ms/step - loss: 0.1049 - val_loss: 0.1061\n",
      "Epoch 6/10\n",
      "2315/2317 [============================>.] - ETA: 0s - loss: 0.1009\n",
      "Epoch 6: val_loss improved from 0.10573 to 0.10431, saving model to /Users/Brody1/Documents/Northwestern/DNA_Cyclizability/benchmarks/deep-learning/conv_only_tri_tiling_4.h5\n",
      "2317/2317 [==============================] - 20s 8ms/step - loss: 0.1009 - val_loss: 0.1043\n",
      "Epoch 7/10\n",
      "2314/2317 [============================>.] - ETA: 0s - loss: 0.0973\n",
      "Epoch 7: val_loss did not improve from 0.10431\n",
      "2317/2317 [==============================] - 18s 8ms/step - loss: 0.0972 - val_loss: 0.1054\n",
      "Epoch 8/10\n",
      "2312/2317 [============================>.] - ETA: 0s - loss: 0.0948\n",
      "Epoch 8: val_loss improved from 0.10431 to 0.10410, saving model to /Users/Brody1/Documents/Northwestern/DNA_Cyclizability/benchmarks/deep-learning/conv_only_tri_tiling_4.h5\n",
      "2317/2317 [==============================] - 15s 7ms/step - loss: 0.0949 - val_loss: 0.1041\n",
      "Epoch 9/10\n",
      "2309/2317 [============================>.] - ETA: 0s - loss: 0.0920\n",
      "Epoch 9: val_loss did not improve from 0.10410\n",
      "2317/2317 [==============================] - 15s 7ms/step - loss: 0.0920 - val_loss: 0.1046\n",
      "Epoch 10/10\n",
      "2315/2317 [============================>.] - ETA: 0s - loss: 0.0901\n",
      "Epoch 10: val_loss improved from 0.10410 to 0.10222, saving model to /Users/Brody1/Documents/Northwestern/DNA_Cyclizability/benchmarks/deep-learning/conv_only_tri_tiling_4.h5\n",
      "2317/2317 [==============================] - 14s 6ms/step - loss: 0.0901 - val_loss: 0.1022\n"
     ]
    },
    {
     "name": "stderr",
     "output_type": "stream",
     "text": [
      "WARNING:absl:Found untraced functions such as _jit_compiled_convolution_op while saving (showing 1 of 1). These functions will not be directly callable after loading.\n"
     ]
    },
    {
     "name": "stdout",
     "output_type": "stream",
     "text": [
      "INFO:tensorflow:Assets written to: /Users/Brody1/Documents/Northwestern/DNA_Cyclizability/benchmarks/deep-learning/conv_only_tri_tiling_4/assets\n"
     ]
    },
    {
     "name": "stderr",
     "output_type": "stream",
     "text": [
      "INFO:tensorflow:Assets written to: /Users/Brody1/Documents/Northwestern/DNA_Cyclizability/benchmarks/deep-learning/conv_only_tri_tiling_4/assets\n"
     ]
    },
    {
     "name": "stdout",
     "output_type": "stream",
     "text": [
      "2317/2317 [==============================] - 4s 2ms/step\n",
      "2317/2317 [==============================] - 4s 2ms/step\n",
      "623/623 [==============================] - 1s 2ms/step\n",
      "623/623 [==============================] - 1s 2ms/step\n",
      "390/390 [==============================] - 1s 2ms/step\n",
      "390/390 [==============================] - 1s 2ms/step\n",
      "258/258 [==============================] - 0s 2ms/step\n",
      "258/258 [==============================] - 0s 2ms/step\n",
      "2576/2576 [==============================] - 5s 2ms/step\n",
      "2576/2576 [==============================] - 5s 2ms/step\n",
      "Epoch 1/10\n",
      "2310/2317 [============================>.] - ETA: 0s - loss: 0.1650\n",
      "Epoch 1: val_loss improved from inf to 0.11947, saving model to /Users/Brody1/Documents/Northwestern/DNA_Cyclizability/benchmarks/deep-learning/conv_only_tri_tiling_5.h5\n",
      "2317/2317 [==============================] - 16s 7ms/step - loss: 0.1648 - val_loss: 0.1195\n",
      "Epoch 2/10\n",
      "2310/2317 [============================>.] - ETA: 0s - loss: 0.1211\n",
      "Epoch 2: val_loss improved from 0.11947 to 0.11494, saving model to /Users/Brody1/Documents/Northwestern/DNA_Cyclizability/benchmarks/deep-learning/conv_only_tri_tiling_5.h5\n",
      "2317/2317 [==============================] - 17s 7ms/step - loss: 0.1210 - val_loss: 0.1149\n",
      "Epoch 3/10\n",
      "2314/2317 [============================>.] - ETA: 0s - loss: 0.1128\n",
      "Epoch 3: val_loss improved from 0.11494 to 0.11053, saving model to /Users/Brody1/Documents/Northwestern/DNA_Cyclizability/benchmarks/deep-learning/conv_only_tri_tiling_5.h5\n",
      "2317/2317 [==============================] - 16s 7ms/step - loss: 0.1129 - val_loss: 0.1105\n",
      "Epoch 4/10\n",
      "2313/2317 [============================>.] - ETA: 0s - loss: 0.1071\n",
      "Epoch 4: val_loss improved from 0.11053 to 0.11044, saving model to /Users/Brody1/Documents/Northwestern/DNA_Cyclizability/benchmarks/deep-learning/conv_only_tri_tiling_5.h5\n",
      "2317/2317 [==============================] - 18s 8ms/step - loss: 0.1071 - val_loss: 0.1104\n",
      "Epoch 5/10\n",
      "2316/2317 [============================>.] - ETA: 0s - loss: 0.1019\n",
      "Epoch 5: val_loss did not improve from 0.11044\n",
      "2317/2317 [==============================] - 21s 9ms/step - loss: 0.1019 - val_loss: 0.1108\n",
      "Epoch 6/10\n",
      "2316/2317 [============================>.] - ETA: 0s - loss: 0.0993\n",
      "Epoch 6: val_loss improved from 0.11044 to 0.10521, saving model to /Users/Brody1/Documents/Northwestern/DNA_Cyclizability/benchmarks/deep-learning/conv_only_tri_tiling_5.h5\n",
      "2317/2317 [==============================] - 24s 10ms/step - loss: 0.0993 - val_loss: 0.1052\n",
      "Epoch 7/10\n",
      "2314/2317 [============================>.] - ETA: 0s - loss: 0.0952\n",
      "Epoch 7: val_loss did not improve from 0.10521\n",
      "2317/2317 [==============================] - 21s 9ms/step - loss: 0.0952 - val_loss: 0.1067\n",
      "Epoch 8/10\n",
      "2316/2317 [============================>.] - ETA: 0s - loss: 0.0937\n",
      "Epoch 8: val_loss did not improve from 0.10521\n",
      "2317/2317 [==============================] - 21s 9ms/step - loss: 0.0937 - val_loss: 0.1061\n",
      "Epoch 9/10\n",
      "2314/2317 [============================>.] - ETA: 0s - loss: 0.0899\n",
      "Epoch 9: val_loss did not improve from 0.10521\n",
      "2317/2317 [==============================] - 20s 9ms/step - loss: 0.0899 - val_loss: 0.1074\n",
      "Epoch 10/10\n",
      "2312/2317 [============================>.] - ETA: 0s - loss: 0.0881\n",
      "Epoch 10: val_loss improved from 0.10521 to 0.10505, saving model to /Users/Brody1/Documents/Northwestern/DNA_Cyclizability/benchmarks/deep-learning/conv_only_tri_tiling_5.h5\n",
      "2317/2317 [==============================] - 23s 10ms/step - loss: 0.0881 - val_loss: 0.1051\n"
     ]
    },
    {
     "name": "stderr",
     "output_type": "stream",
     "text": [
      "WARNING:absl:Found untraced functions such as _jit_compiled_convolution_op while saving (showing 1 of 1). These functions will not be directly callable after loading.\n"
     ]
    },
    {
     "name": "stdout",
     "output_type": "stream",
     "text": [
      "INFO:tensorflow:Assets written to: /Users/Brody1/Documents/Northwestern/DNA_Cyclizability/benchmarks/deep-learning/conv_only_tri_tiling_5/assets\n"
     ]
    },
    {
     "name": "stderr",
     "output_type": "stream",
     "text": [
      "INFO:tensorflow:Assets written to: /Users/Brody1/Documents/Northwestern/DNA_Cyclizability/benchmarks/deep-learning/conv_only_tri_tiling_5/assets\n"
     ]
    },
    {
     "name": "stdout",
     "output_type": "stream",
     "text": [
      "2317/2317 [==============================] - 8s 3ms/step\n",
      "2317/2317 [==============================] - 8s 3ms/step\n",
      "623/623 [==============================] - 2s 3ms/step\n",
      "623/623 [==============================] - 2s 3ms/step\n",
      "390/390 [==============================] - 1s 3ms/step\n",
      "390/390 [==============================] - 1s 3ms/step\n",
      "258/258 [==============================] - 1s 3ms/step\n",
      "258/258 [==============================] - 1s 3ms/step\n",
      "2576/2576 [==============================] - 8s 3ms/step\n",
      "2576/2576 [==============================] - 8s 3ms/step\n",
      "Epoch 1/10\n",
      "2313/2317 [============================>.] - ETA: 0s - loss: 0.1646\n",
      "Epoch 1: val_loss improved from inf to 0.12353, saving model to /Users/Brody1/Documents/Northwestern/DNA_Cyclizability/benchmarks/deep-learning/conv_only_tri_tiling_6.h5\n",
      "2317/2317 [==============================] - 25s 10ms/step - loss: 0.1645 - val_loss: 0.1235\n",
      "Epoch 2/10\n",
      "2313/2317 [============================>.] - ETA: 0s - loss: 0.1215\n",
      "Epoch 2: val_loss improved from 0.12353 to 0.11105, saving model to /Users/Brody1/Documents/Northwestern/DNA_Cyclizability/benchmarks/deep-learning/conv_only_tri_tiling_6.h5\n",
      "2317/2317 [==============================] - 20s 9ms/step - loss: 0.1216 - val_loss: 0.1110\n",
      "Epoch 3/10\n",
      "2312/2317 [============================>.] - ETA: 0s - loss: 0.1134\n",
      "Epoch 3: val_loss improved from 0.11105 to 0.10668, saving model to /Users/Brody1/Documents/Northwestern/DNA_Cyclizability/benchmarks/deep-learning/conv_only_tri_tiling_6.h5\n",
      "2317/2317 [==============================] - 20s 9ms/step - loss: 0.1134 - val_loss: 0.1067\n",
      "Epoch 4/10\n",
      "2317/2317 [==============================] - ETA: 0s - loss: 0.1077\n",
      "Epoch 4: val_loss improved from 0.10668 to 0.10454, saving model to /Users/Brody1/Documents/Northwestern/DNA_Cyclizability/benchmarks/deep-learning/conv_only_tri_tiling_6.h5\n",
      "2317/2317 [==============================] - 22s 10ms/step - loss: 0.1077 - val_loss: 0.1045\n",
      "Epoch 5/10\n",
      "2317/2317 [==============================] - ETA: 0s - loss: 0.1035\n",
      "Epoch 5: val_loss improved from 0.10454 to 0.10414, saving model to /Users/Brody1/Documents/Northwestern/DNA_Cyclizability/benchmarks/deep-learning/conv_only_tri_tiling_6.h5\n",
      "2317/2317 [==============================] - 24s 10ms/step - loss: 0.1035 - val_loss: 0.1041\n",
      "Epoch 6/10\n",
      "2316/2317 [============================>.] - ETA: 0s - loss: 0.1001\n",
      "Epoch 6: val_loss improved from 0.10414 to 0.10334, saving model to /Users/Brody1/Documents/Northwestern/DNA_Cyclizability/benchmarks/deep-learning/conv_only_tri_tiling_6.h5\n",
      "2317/2317 [==============================] - 23s 10ms/step - loss: 0.1001 - val_loss: 0.1033\n",
      "Epoch 7/10\n",
      "2314/2317 [============================>.] - ETA: 0s - loss: 0.0965\n",
      "Epoch 7: val_loss did not improve from 0.10334\n",
      "2317/2317 [==============================] - 23s 10ms/step - loss: 0.0965 - val_loss: 0.1038\n",
      "Epoch 8/10\n",
      "2314/2317 [============================>.] - ETA: 0s - loss: 0.0933\n",
      "Epoch 8: val_loss improved from 0.10334 to 0.10205, saving model to /Users/Brody1/Documents/Northwestern/DNA_Cyclizability/benchmarks/deep-learning/conv_only_tri_tiling_6.h5\n",
      "2317/2317 [==============================] - 21s 9ms/step - loss: 0.0933 - val_loss: 0.1021\n",
      "Epoch 9/10\n",
      "2312/2317 [============================>.] - ETA: 0s - loss: 0.0917\n",
      "Epoch 9: val_loss did not improve from 0.10205\n",
      "2317/2317 [==============================] - 22s 9ms/step - loss: 0.0917 - val_loss: 0.1027\n",
      "Epoch 10/10\n",
      "2317/2317 [==============================] - ETA: 0s - loss: 0.0896\n",
      "Epoch 10: val_loss improved from 0.10205 to 0.10202, saving model to /Users/Brody1/Documents/Northwestern/DNA_Cyclizability/benchmarks/deep-learning/conv_only_tri_tiling_6.h5\n",
      "2317/2317 [==============================] - 22s 10ms/step - loss: 0.0896 - val_loss: 0.1020\n"
     ]
    },
    {
     "name": "stderr",
     "output_type": "stream",
     "text": [
      "WARNING:absl:Found untraced functions such as _jit_compiled_convolution_op while saving (showing 1 of 1). These functions will not be directly callable after loading.\n"
     ]
    },
    {
     "name": "stdout",
     "output_type": "stream",
     "text": [
      "INFO:tensorflow:Assets written to: /Users/Brody1/Documents/Northwestern/DNA_Cyclizability/benchmarks/deep-learning/conv_only_tri_tiling_6/assets\n"
     ]
    },
    {
     "name": "stderr",
     "output_type": "stream",
     "text": [
      "INFO:tensorflow:Assets written to: /Users/Brody1/Documents/Northwestern/DNA_Cyclizability/benchmarks/deep-learning/conv_only_tri_tiling_6/assets\n"
     ]
    },
    {
     "name": "stdout",
     "output_type": "stream",
     "text": [
      "2317/2317 [==============================] - 8s 3ms/step\n",
      "2317/2317 [==============================] - 7s 3ms/step\n",
      "623/623 [==============================] - 2s 3ms/step\n",
      "623/623 [==============================] - 2s 3ms/step\n",
      "390/390 [==============================] - 1s 3ms/step\n",
      "390/390 [==============================] - 1s 3ms/step\n",
      "258/258 [==============================] - 1s 3ms/step\n",
      "258/258 [==============================] - 1s 3ms/step\n",
      "2576/2576 [==============================] - 9s 4ms/step\n",
      "2576/2576 [==============================] - 10s 4ms/step\n",
      "Epoch 1/10\n",
      "2312/2317 [============================>.] - ETA: 0s - loss: 0.1709\n",
      "Epoch 1: val_loss improved from inf to 0.12582, saving model to /Users/Brody1/Documents/Northwestern/DNA_Cyclizability/benchmarks/deep-learning/conv_only_tri_tiling_7.h5\n",
      "2317/2317 [==============================] - 26s 11ms/step - loss: 0.1709 - val_loss: 0.1258\n",
      "Epoch 2/10\n",
      "2313/2317 [============================>.] - ETA: 0s - loss: 0.1237\n",
      "Epoch 2: val_loss improved from 0.12582 to 0.12016, saving model to /Users/Brody1/Documents/Northwestern/DNA_Cyclizability/benchmarks/deep-learning/conv_only_tri_tiling_7.h5\n",
      "2317/2317 [==============================] - 26s 11ms/step - loss: 0.1237 - val_loss: 0.1202\n",
      "Epoch 3/10\n",
      "2314/2317 [============================>.] - ETA: 0s - loss: 0.1130\n",
      "Epoch 3: val_loss improved from 0.12016 to 0.11151, saving model to /Users/Brody1/Documents/Northwestern/DNA_Cyclizability/benchmarks/deep-learning/conv_only_tri_tiling_7.h5\n",
      "2317/2317 [==============================] - 28s 12ms/step - loss: 0.1130 - val_loss: 0.1115\n",
      "Epoch 4/10\n",
      "2316/2317 [============================>.] - ETA: 0s - loss: 0.1053\n",
      "Epoch 4: val_loss did not improve from 0.11151\n",
      "2317/2317 [==============================] - 28s 12ms/step - loss: 0.1053 - val_loss: 0.1129\n",
      "Epoch 5/10\n",
      "2316/2317 [============================>.] - ETA: 0s - loss: 0.1004\n",
      "Epoch 5: val_loss improved from 0.11151 to 0.10648, saving model to /Users/Brody1/Documents/Northwestern/DNA_Cyclizability/benchmarks/deep-learning/conv_only_tri_tiling_7.h5\n",
      "2317/2317 [==============================] - 27s 12ms/step - loss: 0.1004 - val_loss: 0.1065\n",
      "Epoch 6/10\n",
      "2312/2317 [============================>.] - ETA: 0s - loss: 0.0954\n",
      "Epoch 6: val_loss improved from 0.10648 to 0.10477, saving model to /Users/Brody1/Documents/Northwestern/DNA_Cyclizability/benchmarks/deep-learning/conv_only_tri_tiling_7.h5\n",
      "2317/2317 [==============================] - 27s 12ms/step - loss: 0.0955 - val_loss: 0.1048\n",
      "Epoch 7/10\n",
      "2312/2317 [============================>.] - ETA: 0s - loss: 0.0920\n",
      "Epoch 7: val_loss improved from 0.10477 to 0.10391, saving model to /Users/Brody1/Documents/Northwestern/DNA_Cyclizability/benchmarks/deep-learning/conv_only_tri_tiling_7.h5\n",
      "2317/2317 [==============================] - 23s 10ms/step - loss: 0.0921 - val_loss: 0.1039\n",
      "Epoch 8/10\n",
      "2316/2317 [============================>.] - ETA: 0s - loss: 0.0892\n",
      "Epoch 8: val_loss improved from 0.10391 to 0.10301, saving model to /Users/Brody1/Documents/Northwestern/DNA_Cyclizability/benchmarks/deep-learning/conv_only_tri_tiling_7.h5\n",
      "2317/2317 [==============================] - 26s 11ms/step - loss: 0.0892 - val_loss: 0.1030\n",
      "Epoch 9/10\n",
      "2314/2317 [============================>.] - ETA: 0s - loss: 0.0866\n",
      "Epoch 9: val_loss improved from 0.10301 to 0.10223, saving model to /Users/Brody1/Documents/Northwestern/DNA_Cyclizability/benchmarks/deep-learning/conv_only_tri_tiling_7.h5\n",
      "2317/2317 [==============================] - 24s 10ms/step - loss: 0.0866 - val_loss: 0.1022\n",
      "Epoch 10/10\n",
      "2316/2317 [============================>.] - ETA: 0s - loss: 0.0850\n",
      "Epoch 10: val_loss did not improve from 0.10223\n",
      "2317/2317 [==============================] - 23s 10ms/step - loss: 0.0851 - val_loss: 0.1026\n"
     ]
    },
    {
     "name": "stderr",
     "output_type": "stream",
     "text": [
      "WARNING:absl:Found untraced functions such as _jit_compiled_convolution_op while saving (showing 1 of 1). These functions will not be directly callable after loading.\n"
     ]
    },
    {
     "name": "stdout",
     "output_type": "stream",
     "text": [
      "INFO:tensorflow:Assets written to: /Users/Brody1/Documents/Northwestern/DNA_Cyclizability/benchmarks/deep-learning/conv_only_tri_tiling_7/assets\n"
     ]
    },
    {
     "name": "stderr",
     "output_type": "stream",
     "text": [
      "INFO:tensorflow:Assets written to: /Users/Brody1/Documents/Northwestern/DNA_Cyclizability/benchmarks/deep-learning/conv_only_tri_tiling_7/assets\n"
     ]
    },
    {
     "name": "stdout",
     "output_type": "stream",
     "text": [
      "2317/2317 [==============================] - 9s 4ms/step\n",
      "2317/2317 [==============================] - 8s 3ms/step\n",
      "623/623 [==============================] - 2s 3ms/step\n",
      "623/623 [==============================] - 2s 3ms/step\n",
      "390/390 [==============================] - 1s 3ms/step\n",
      "390/390 [==============================] - 1s 3ms/step\n",
      "258/258 [==============================] - 1s 4ms/step\n",
      "258/258 [==============================] - 1s 3ms/step\n",
      "2576/2576 [==============================] - 9s 4ms/step\n",
      "2576/2576 [==============================] - 13s 5ms/step\n",
      "Epoch 1/10\n",
      "2314/2317 [============================>.] - ETA: 0s - loss: 0.1675\n",
      "Epoch 1: val_loss improved from inf to 0.12115, saving model to /Users/Brody1/Documents/Northwestern/DNA_Cyclizability/benchmarks/deep-learning/conv_only_tri_tiling_8.h5\n",
      "2317/2317 [==============================] - 28s 12ms/step - loss: 0.1675 - val_loss: 0.1211\n",
      "Epoch 2/10\n",
      "2313/2317 [============================>.] - ETA: 0s - loss: 0.1224\n",
      "Epoch 2: val_loss improved from 0.12115 to 0.11452, saving model to /Users/Brody1/Documents/Northwestern/DNA_Cyclizability/benchmarks/deep-learning/conv_only_tri_tiling_8.h5\n",
      "2317/2317 [==============================] - 25s 11ms/step - loss: 0.1224 - val_loss: 0.1145\n",
      "Epoch 3/10\n",
      "2316/2317 [============================>.] - ETA: 0s - loss: 0.1152\n",
      "Epoch 3: val_loss improved from 0.11452 to 0.11052, saving model to /Users/Brody1/Documents/Northwestern/DNA_Cyclizability/benchmarks/deep-learning/conv_only_tri_tiling_8.h5\n",
      "2317/2317 [==============================] - 24s 11ms/step - loss: 0.1152 - val_loss: 0.1105\n",
      "Epoch 4/10\n",
      "2316/2317 [============================>.] - ETA: 0s - loss: 0.1110\n",
      "Epoch 4: val_loss did not improve from 0.11052\n",
      "2317/2317 [==============================] - 25s 11ms/step - loss: 0.1110 - val_loss: 0.1117\n",
      "Epoch 5/10\n",
      "2313/2317 [============================>.] - ETA: 0s - loss: 0.1073\n",
      "Epoch 5: val_loss improved from 0.11052 to 0.10758, saving model to /Users/Brody1/Documents/Northwestern/DNA_Cyclizability/benchmarks/deep-learning/conv_only_tri_tiling_8.h5\n",
      "2317/2317 [==============================] - 29s 13ms/step - loss: 0.1074 - val_loss: 0.1076\n",
      "Epoch 6/10\n",
      "2316/2317 [============================>.] - ETA: 0s - loss: 0.1035\n",
      "Epoch 6: val_loss did not improve from 0.10758\n",
      "2317/2317 [==============================] - 29s 13ms/step - loss: 0.1035 - val_loss: 0.1107\n",
      "Epoch 7/10\n",
      "2314/2317 [============================>.] - ETA: 0s - loss: 0.1007\n",
      "Epoch 7: val_loss did not improve from 0.10758\n",
      "2317/2317 [==============================] - 41s 18ms/step - loss: 0.1007 - val_loss: 0.1077\n",
      "Epoch 8/10\n",
      "2317/2317 [==============================] - ETA: 0s - loss: 0.0976\n",
      "Epoch 8: val_loss did not improve from 0.10758\n",
      "2317/2317 [==============================] - 28s 12ms/step - loss: 0.0976 - val_loss: 0.1083\n",
      "Epoch 9/10\n",
      "2317/2317 [==============================] - ETA: 0s - loss: 0.0959\n",
      "Epoch 9: val_loss did not improve from 0.10758\n",
      "2317/2317 [==============================] - 34s 15ms/step - loss: 0.0959 - val_loss: 0.1090\n",
      "Epoch 10/10\n",
      "2314/2317 [============================>.] - ETA: 0s - loss: 0.0931\n",
      "Epoch 10: val_loss did not improve from 0.10758\n",
      "2317/2317 [==============================] - 26s 11ms/step - loss: 0.0931 - val_loss: 0.1077\n"
     ]
    },
    {
     "name": "stderr",
     "output_type": "stream",
     "text": [
      "WARNING:absl:Found untraced functions such as _jit_compiled_convolution_op while saving (showing 1 of 1). These functions will not be directly callable after loading.\n"
     ]
    },
    {
     "name": "stdout",
     "output_type": "stream",
     "text": [
      "INFO:tensorflow:Assets written to: /Users/Brody1/Documents/Northwestern/DNA_Cyclizability/benchmarks/deep-learning/conv_only_tri_tiling_8/assets\n"
     ]
    },
    {
     "name": "stderr",
     "output_type": "stream",
     "text": [
      "INFO:tensorflow:Assets written to: /Users/Brody1/Documents/Northwestern/DNA_Cyclizability/benchmarks/deep-learning/conv_only_tri_tiling_8/assets\n"
     ]
    },
    {
     "name": "stdout",
     "output_type": "stream",
     "text": [
      "2317/2317 [==============================] - 7s 3ms/step\n",
      "2317/2317 [==============================] - 9s 4ms/step\n",
      "623/623 [==============================] - 2s 4ms/step\n",
      "623/623 [==============================] - 2s 3ms/step\n",
      "390/390 [==============================] - 1s 3ms/step\n",
      "390/390 [==============================] - 1s 3ms/step\n",
      "258/258 [==============================] - 1s 3ms/step\n",
      "258/258 [==============================] - 1s 3ms/step\n",
      "2576/2576 [==============================] - 9s 3ms/step\n",
      "2576/2576 [==============================] - 13s 5ms/step\n",
      "Epoch 1/10\n",
      "2316/2317 [============================>.] - ETA: 0s - loss: 0.1658\n",
      "Epoch 1: val_loss improved from inf to 0.12455, saving model to /Users/Brody1/Documents/Northwestern/DNA_Cyclizability/benchmarks/deep-learning/conv_only_tri_tiling_9.h5\n",
      "2317/2317 [==============================] - 28s 11ms/step - loss: 0.1659 - val_loss: 0.1245\n",
      "Epoch 2/10\n",
      "2316/2317 [============================>.] - ETA: 0s - loss: 0.1231\n",
      "Epoch 2: val_loss improved from 0.12455 to 0.11777, saving model to /Users/Brody1/Documents/Northwestern/DNA_Cyclizability/benchmarks/deep-learning/conv_only_tri_tiling_9.h5\n",
      "2317/2317 [==============================] - 24s 10ms/step - loss: 0.1231 - val_loss: 0.1178\n",
      "Epoch 3/10\n",
      "2316/2317 [============================>.] - ETA: 0s - loss: 0.1141\n",
      "Epoch 3: val_loss improved from 0.11777 to 0.11560, saving model to /Users/Brody1/Documents/Northwestern/DNA_Cyclizability/benchmarks/deep-learning/conv_only_tri_tiling_9.h5\n",
      "2317/2317 [==============================] - 25s 11ms/step - loss: 0.1141 - val_loss: 0.1156\n",
      "Epoch 4/10\n",
      "2312/2317 [============================>.] - ETA: 0s - loss: 0.1100\n",
      "Epoch 4: val_loss improved from 0.11560 to 0.11206, saving model to /Users/Brody1/Documents/Northwestern/DNA_Cyclizability/benchmarks/deep-learning/conv_only_tri_tiling_9.h5\n",
      "2317/2317 [==============================] - 24s 10ms/step - loss: 0.1100 - val_loss: 0.1121\n",
      "Epoch 5/10\n",
      "2317/2317 [==============================] - ETA: 0s - loss: 0.1044\n",
      "Epoch 5: val_loss did not improve from 0.11206\n",
      "2317/2317 [==============================] - 22s 10ms/step - loss: 0.1044 - val_loss: 0.1121\n",
      "Epoch 6/10\n",
      "2312/2317 [============================>.] - ETA: 0s - loss: 0.1014\n",
      "Epoch 6: val_loss improved from 0.11206 to 0.11087, saving model to /Users/Brody1/Documents/Northwestern/DNA_Cyclizability/benchmarks/deep-learning/conv_only_tri_tiling_9.h5\n",
      "2317/2317 [==============================] - 22s 9ms/step - loss: 0.1013 - val_loss: 0.1109\n",
      "Epoch 7/10\n",
      "2312/2317 [============================>.] - ETA: 0s - loss: 0.0972\n",
      "Epoch 7: val_loss improved from 0.11087 to 0.10919, saving model to /Users/Brody1/Documents/Northwestern/DNA_Cyclizability/benchmarks/deep-learning/conv_only_tri_tiling_9.h5\n",
      "2317/2317 [==============================] - 23s 10ms/step - loss: 0.0972 - val_loss: 0.1092\n",
      "Epoch 8/10\n",
      "2314/2317 [============================>.] - ETA: 0s - loss: 0.0947\n",
      "Epoch 8: val_loss did not improve from 0.10919\n",
      "2317/2317 [==============================] - 23s 10ms/step - loss: 0.0947 - val_loss: 0.1113\n",
      "Epoch 9/10\n",
      "2316/2317 [============================>.] - ETA: 0s - loss: 0.0927\n",
      "Epoch 9: val_loss did not improve from 0.10919\n",
      "2317/2317 [==============================] - 22s 10ms/step - loss: 0.0927 - val_loss: 0.1107\n",
      "Epoch 10/10\n",
      "2312/2317 [============================>.] - ETA: 0s - loss: 0.0900\n",
      "Epoch 10: val_loss did not improve from 0.10919\n",
      "2317/2317 [==============================] - 31s 13ms/step - loss: 0.0900 - val_loss: 0.1112\n"
     ]
    },
    {
     "name": "stderr",
     "output_type": "stream",
     "text": [
      "WARNING:absl:Found untraced functions such as _jit_compiled_convolution_op while saving (showing 1 of 1). These functions will not be directly callable after loading.\n"
     ]
    },
    {
     "name": "stdout",
     "output_type": "stream",
     "text": [
      "INFO:tensorflow:Assets written to: /Users/Brody1/Documents/Northwestern/DNA_Cyclizability/benchmarks/deep-learning/conv_only_tri_tiling_9/assets\n"
     ]
    },
    {
     "name": "stderr",
     "output_type": "stream",
     "text": [
      "INFO:tensorflow:Assets written to: /Users/Brody1/Documents/Northwestern/DNA_Cyclizability/benchmarks/deep-learning/conv_only_tri_tiling_9/assets\n"
     ]
    },
    {
     "name": "stdout",
     "output_type": "stream",
     "text": [
      "2317/2317 [==============================] - 7s 3ms/step\n",
      "2317/2317 [==============================] - 8s 3ms/step\n",
      "623/623 [==============================] - 2s 3ms/step\n",
      "623/623 [==============================] - 2s 3ms/step\n",
      "390/390 [==============================] - 1s 3ms/step\n",
      "390/390 [==============================] - 1s 3ms/step\n",
      "258/258 [==============================] - 1s 3ms/step\n",
      "258/258 [==============================] - 1s 3ms/step\n",
      "2576/2576 [==============================] - 9s 3ms/step\n",
      "2576/2576 [==============================] - 8s 3ms/step\n",
      "Epoch 1/10\n",
      "2316/2317 [============================>.] - ETA: 0s - loss: 0.1764\n",
      "Epoch 1: val_loss improved from inf to 0.12742, saving model to /Users/Brody1/Documents/Northwestern/DNA_Cyclizability/benchmarks/deep-learning/conv_only_tri_tiling_10.h5\n",
      "2317/2317 [==============================] - 22s 9ms/step - loss: 0.1764 - val_loss: 0.1274\n",
      "Epoch 2/10\n",
      "2314/2317 [============================>.] - ETA: 0s - loss: 0.1265\n",
      "Epoch 2: val_loss improved from 0.12742 to 0.11708, saving model to /Users/Brody1/Documents/Northwestern/DNA_Cyclizability/benchmarks/deep-learning/conv_only_tri_tiling_10.h5\n",
      "2317/2317 [==============================] - 24s 10ms/step - loss: 0.1265 - val_loss: 0.1171\n",
      "Epoch 3/10\n",
      "2314/2317 [============================>.] - ETA: 0s - loss: 0.1176\n",
      "Epoch 3: val_loss improved from 0.11708 to 0.11500, saving model to /Users/Brody1/Documents/Northwestern/DNA_Cyclizability/benchmarks/deep-learning/conv_only_tri_tiling_10.h5\n",
      "2317/2317 [==============================] - 23s 10ms/step - loss: 0.1176 - val_loss: 0.1150\n",
      "Epoch 4/10\n",
      "2315/2317 [============================>.] - ETA: 0s - loss: 0.1100\n",
      "Epoch 4: val_loss improved from 0.11500 to 0.11219, saving model to /Users/Brody1/Documents/Northwestern/DNA_Cyclizability/benchmarks/deep-learning/conv_only_tri_tiling_10.h5\n",
      "2317/2317 [==============================] - 24s 10ms/step - loss: 0.1100 - val_loss: 0.1122\n",
      "Epoch 5/10\n",
      "2314/2317 [============================>.] - ETA: 0s - loss: 0.1050\n",
      "Epoch 5: val_loss improved from 0.11219 to 0.10944, saving model to /Users/Brody1/Documents/Northwestern/DNA_Cyclizability/benchmarks/deep-learning/conv_only_tri_tiling_10.h5\n",
      "2317/2317 [==============================] - 23s 10ms/step - loss: 0.1049 - val_loss: 0.1094\n",
      "Epoch 6/10\n",
      "2315/2317 [============================>.] - ETA: 0s - loss: 0.1015\n",
      "Epoch 6: val_loss did not improve from 0.10944\n",
      "2317/2317 [==============================] - 31s 14ms/step - loss: 0.1015 - val_loss: 0.1099\n",
      "Epoch 7/10\n",
      "2314/2317 [============================>.] - ETA: 0s - loss: 0.0972\n",
      "Epoch 7: val_loss did not improve from 0.10944\n",
      "2317/2317 [==============================] - 23s 10ms/step - loss: 0.0972 - val_loss: 0.1096\n",
      "Epoch 8/10\n",
      "2312/2317 [============================>.] - ETA: 0s - loss: 0.0937\n",
      "Epoch 8: val_loss improved from 0.10944 to 0.10941, saving model to /Users/Brody1/Documents/Northwestern/DNA_Cyclizability/benchmarks/deep-learning/conv_only_tri_tiling_10.h5\n",
      "2317/2317 [==============================] - 25s 11ms/step - loss: 0.0937 - val_loss: 0.1094\n",
      "Epoch 9/10\n",
      "2315/2317 [============================>.] - ETA: 0s - loss: 0.0913\n",
      "Epoch 9: val_loss improved from 0.10941 to 0.10821, saving model to /Users/Brody1/Documents/Northwestern/DNA_Cyclizability/benchmarks/deep-learning/conv_only_tri_tiling_10.h5\n",
      "2317/2317 [==============================] - 22s 10ms/step - loss: 0.0913 - val_loss: 0.1082\n",
      "Epoch 10/10\n",
      "2312/2317 [============================>.] - ETA: 0s - loss: 0.0897\n",
      "Epoch 10: val_loss improved from 0.10821 to 0.10806, saving model to /Users/Brody1/Documents/Northwestern/DNA_Cyclizability/benchmarks/deep-learning/conv_only_tri_tiling_10.h5\n",
      "2317/2317 [==============================] - 23s 10ms/step - loss: 0.0897 - val_loss: 0.1081\n"
     ]
    },
    {
     "name": "stderr",
     "output_type": "stream",
     "text": [
      "WARNING:absl:Found untraced functions such as _jit_compiled_convolution_op while saving (showing 1 of 1). These functions will not be directly callable after loading.\n"
     ]
    },
    {
     "name": "stdout",
     "output_type": "stream",
     "text": [
      "INFO:tensorflow:Assets written to: /Users/Brody1/Documents/Northwestern/DNA_Cyclizability/benchmarks/deep-learning/conv_only_tri_tiling_10/assets\n"
     ]
    },
    {
     "name": "stderr",
     "output_type": "stream",
     "text": [
      "INFO:tensorflow:Assets written to: /Users/Brody1/Documents/Northwestern/DNA_Cyclizability/benchmarks/deep-learning/conv_only_tri_tiling_10/assets\n"
     ]
    },
    {
     "name": "stdout",
     "output_type": "stream",
     "text": [
      "2317/2317 [==============================] - 8s 3ms/step\n",
      "2317/2317 [==============================] - 8s 3ms/step\n",
      "623/623 [==============================] - 2s 3ms/step\n",
      "623/623 [==============================] - 2s 3ms/step\n",
      "390/390 [==============================] - 1s 3ms/step\n",
      "390/390 [==============================] - 2s 4ms/step\n",
      "258/258 [==============================] - 1s 3ms/step\n",
      "258/258 [==============================] - 1s 4ms/step\n",
      "2576/2576 [==============================] - 8s 3ms/step\n",
      "2576/2576 [==============================] - 9s 3ms/step\n"
     ]
    }
   ],
   "source": [
    "#### tiling\n",
    "\n",
    "VALIDATION_LOSS = []\n",
    "fold_var = 1\n",
    "n = Y5.shape[0]\n",
    "\n",
    "fits = []\n",
    "detrend = []\n",
    "times = []\n",
    "times2 = []\n",
    "\n",
    "for train_index, val_index in kf.split(Y5):\n",
    "    training_X = X5[train_index]\n",
    "    training_X_reverse = X5_reverse[train_index]\n",
    "    validation_X = X5[val_index]\n",
    "    validation_X_reverse = X5_reverse[val_index]\n",
    "    training_Y = Y5[train_index]\n",
    "    validation_Y = Y5[val_index]\n",
    "    # CREATE NEW MODEL\n",
    "    model = model_cycle()\n",
    "    # CREATE CALLBACKS\n",
    "    checkpoint = callbacks.ModelCheckpoint(save_path + model_name+\"_tiling_\"+str(fold_var)+\".h5\",\n",
    "                                                    monitor='val_loss', verbose=1,\n",
    "                                                    save_best_only=True, mode='min')\n",
    "    time_callback = TimeHistory()\n",
    "\n",
    "    history = model.fit(training_X, training_Y,\n",
    "                        epochs=num_epochs,\n",
    "                        callbacks= [checkpoint, time_callback],\n",
    "                        validation_data=(validation_X, validation_Y))\n",
    "    model.load_weights(save_path + model_name+\"_tiling_\"+str(fold_var)+\".h5\")\n",
    "    model.save(save_path+model_name+\"_tiling_\"+str(fold_var),save_traces=False)\n",
    "    times.append(time_callback.times)\n",
    "\n",
    "    pred_Y = model.predict(training_X)\n",
    "    pred_Y = pred_Y.reshape(pred_Y.shape[0])\n",
    "    pred_Y_reverse = model.predict(training_X_reverse)\n",
    "    pred_Y_reverse = pred_Y_reverse.reshape(pred_Y_reverse.shape[0])\n",
    "    pred_Y = (pred_Y+pred_Y_reverse)/2\n",
    "    reg =  LinearRegression().fit(array(pred_Y).reshape(-1, 1), array(training_Y).reshape(-1, 1))\n",
    "    \n",
    "    detrend_int = reg.intercept_\n",
    "    detrend_slope = reg.coef_\n",
    "    detrend.append([float(detrend_int), float(detrend_slope)])\n",
    "\n",
    "    start_time = time.process_time()\n",
    "    fit = model.predict(X1)\n",
    "    fit = fit.reshape(fit.shape[0])\n",
    "    fit_reverse = model.predict(X1_reverse)\n",
    "    fit_reverse = fit_reverse.reshape(fit_reverse.shape[0])\n",
    "    reverse_corr = np.corrcoef(fit, fit_reverse)[0,1]\n",
    "    fit = (fit + fit_reverse)/2\n",
    "    fit = fit.flatten()\n",
    "    fit_tmp =[np.corrcoef(fit, Y1)[0,1],np.mean(np.square(fit-Y1)),np.mean(fit),np.std(fit),reverse_corr]\n",
    "    fits.append(fit_tmp)\n",
    "    fit = detrend_int + fit * detrend_slope\n",
    "    fit = fit.flatten()\n",
    "    fit_tmp =[np.corrcoef(fit, Y1)[0,1],np.mean(np.square(fit-Y1)),np.mean(fit),np.std(fit),reverse_corr]\n",
    "    time0 = time.process_time() - start_time\n",
    "    times2.append([time0])\n",
    "    fits.append(fit_tmp)\n",
    "    \n",
    "    start_time = time.process_time()\n",
    "    fit = model.predict(X3)\n",
    "    fit = fit.reshape(fit.shape[0])\n",
    "    fit_reverse = model.predict(X3_reverse)\n",
    "    fit_reverse = fit_reverse.reshape(fit_reverse.shape[0])\n",
    "    reverse_corr = np.corrcoef(fit, fit_reverse)[0,1]\n",
    "    fit = (fit + fit_reverse)/2\n",
    "    fit = fit.flatten()\n",
    "    fit_tmp =[np.corrcoef(fit, Y3)[0,1],np.mean(np.square(fit-Y3)),np.mean(fit),np.std(fit),reverse_corr]\n",
    "    fits.append(fit_tmp)\n",
    "    fit = detrend_int + fit * detrend_slope\n",
    "    fit = fit.flatten()\n",
    "    fit_tmp =[np.corrcoef(fit, Y3)[0,1],np.mean(np.square(fit-Y3)),np.mean(fit),np.std(fit),reverse_corr]\n",
    "    time0 = time.process_time() - start_time\n",
    "    times2.append([time0])\n",
    "    fits.append(fit_tmp)\n",
    "    \n",
    "    start_time = time.process_time()\n",
    "    fit = model.predict(validation_X)\n",
    "    fit = fit.reshape(fit.shape[0])\n",
    "    fit_reverse = model.predict(validation_X_reverse)\n",
    "    fit_reverse = fit_reverse.reshape(fit_reverse.shape[0])\n",
    "    reverse_corr = np.corrcoef(fit, fit_reverse)[0,1]\n",
    "    fit = (fit + fit_reverse)/2\n",
    "    fit = fit.flatten()\n",
    "    fit_tmp =[np.corrcoef(fit, validation_Y)[0,1],np.mean(np.square(fit-validation_Y)),np.mean(fit),np.std(fit),reverse_corr]\n",
    "    fits.append(fit_tmp)\n",
    "    fit = detrend_int + fit * detrend_slope\n",
    "    fit = fit.flatten()\n",
    "    fit_tmp =[np.corrcoef(fit, validation_Y)[0,1],np.mean(np.square(fit-validation_Y)),np.mean(fit),np.std(fit),reverse_corr]\n",
    "    time0 = time.process_time() - start_time\n",
    "    times2.append([time0])\n",
    "    fits.append(fit_tmp)\n",
    "    \n",
    "    start_time = time.process_time()\n",
    "    fit = model.predict(X6)\n",
    "    fit = fit.reshape(fit.shape[0])\n",
    "    fit_reverse = model.predict(X6_reverse)\n",
    "    fit_reverse = fit_reverse.reshape(fit_reverse.shape[0])\n",
    "    reverse_corr = np.corrcoef(fit, fit_reverse)[0,1]\n",
    "    fit = (fit + fit_reverse)/2\n",
    "    fit = fit.flatten()\n",
    "    fit_tmp =[np.corrcoef(fit, Y6)[0,1],np.mean(np.square(fit-Y6)),np.mean(fit),np.std(fit),reverse_corr]\n",
    "    fits.append(fit_tmp)\n",
    "    fit = detrend_int + fit * detrend_slope\n",
    "    fit = fit.flatten()\n",
    "    fit_tmp =[np.corrcoef(fit, Y6)[0,1],np.mean(np.square(fit-Y6)),np.mean(fit),np.std(fit),reverse_corr]\n",
    "    time0 = time.process_time() - start_time\n",
    "    times2.append([time0])\n",
    "    fits.append(fit_tmp)\n",
    "    \n",
    "    K.clear_session()\n",
    "    fold_var += 1\n",
    "    \n",
    "detrend = array(detrend)\n",
    "detrend = pd.DataFrame(detrend)\n",
    "detrend.to_csv(save_path +model_name+\"_detrend_tiling.txt\", index = False)\n",
    "\n",
    "fits = array(fits)\n",
    "fits = pd.DataFrame((fits))\n",
    "fits.to_csv(save_path +model_name+ \"_fits_tiling.txt\", index = False)\n",
    "\n",
    "with open(save_path +model_name+\"_time_tiling.txt\", \"w\") as file:\n",
    "    for row in times:\n",
    "        s = \" \".join(map(str, row))\n",
    "        file.write(s+'\\n')\n",
    "\n",
    "with open(save_path +model_name+\"_pred_time_tiling.txt\", \"w\") as file:\n",
    "    for row in times2:\n",
    "        s = \" \".join(map(str, row))\n",
    "        file.write(s+'\\n')\n"
   ]
  },
  {
   "cell_type": "code",
   "execution_count": 143,
   "metadata": {},
   "outputs": [
    {
     "name": "stdout",
     "output_type": "stream",
     "text": [
      "Average correlation on tiling: 0.7031019517968156 \n",
      "Average MSE on tiling: 0.12321306291295078 \n",
      "Average correlation on random: 0.6240378059404981 \n",
      "Average MSE on random: 0.08963359303314154 \n",
      "Average correlation on ChrV: 0.5492231326895908 \n",
      "Average MSE on ChrV: 0.20513039401919855 \n",
      "Average correlation on CN: 0.6080643138216122 \n",
      "Average MSE on CN: 0.1438128333072164\n"
     ]
    }
   ],
   "source": [
    "display_fits(fits)"
   ]
  },
  {
   "cell_type": "code",
   "execution_count": 50,
   "metadata": {},
   "outputs": [
    {
     "name": "stdout",
     "output_type": "stream",
     "text": [
      "2574/2574 [==============================] - 9s 3ms/step\n",
      "390/390 [==============================] - 1s 3ms/step\n"
     ]
    }
   ],
   "source": [
    "first_conv_model = Model(inputs = model.input, outputs = model.layers[1].output)\n",
    "first_conv_output = first_conv_model.predict(X5)\n",
    "pd.DataFrame(first_conv_output.reshape(first_conv_output.shape[0], -1)).to_csv(save_path + model_name+\"_tiling_tiling_first_conv_output\")\n",
    "first_conv_output_random = first_conv_model.predict(X3)\n",
    "pd.DataFrame(first_conv_output_random.reshape(first_conv_output_random.shape[0], -1)).to_csv(save_path + model_name+\"_tiling_random_first_conv_output\")\n"
   ]
  },
  {
   "cell_type": "code",
   "execution_count": 51,
   "metadata": {},
   "outputs": [],
   "source": [
    "first_conv_weights = model.layers[1].weights[0]\n",
    "first_conv_biases = model.layers[1].weights[1]\n",
    "# Format: [Position 0: AAA, AAC, ..., CAA, CAC, ..., TTG, TTT  Position 1: AAA, AAC, ..., CAA, CAC, ..., TTG, TTT,\n",
    "# ..., Position 20: AAA, AAC, ..., CAA, CAC, ..., TTG, TTT]\n",
    "pd.DataFrame(array(first_conv_weights).transpose((3,2,0,1)).reshape(first_conv_weights.shape[-1], -1)).to_csv(save_path + model_name+\"_tiling_first_conv_kernels\")\n",
    "pd.DataFrame(first_conv_biases).to_csv(save_path + model_name+\"_tiling_first_conv_biases\")"
   ]
  },
  {
   "cell_type": "code",
   "execution_count": 125,
   "metadata": {},
   "outputs": [
    {
     "name": "stdout",
     "output_type": "stream",
     "text": [
      "(21, 64, 1, 48)\n"
     ]
    }
   ],
   "source": [
    "print(first_conv_weights.shape)"
   ]
  },
  {
   "cell_type": "code",
   "execution_count": 126,
   "metadata": {},
   "outputs": [
    {
     "data": {
      "text/plain": [
       "<tf.Tensor: shape=(64, 1, 48), dtype=float32, numpy=\n",
       "array([[[ 0.16748132, -0.00283891,  0.0879301 , ..., -0.01261906,\n",
       "          0.01252507,  0.0700683 ]],\n",
       "\n",
       "       [[ 0.16929737, -0.00679013, -0.18780227, ..., -0.01142565,\n",
       "         -0.14056687, -0.09837919]],\n",
       "\n",
       "       [[ 0.06503278, -0.01531046,  0.01822072, ..., -0.00212045,\n",
       "         -0.02833707, -0.0183085 ]],\n",
       "\n",
       "       ...,\n",
       "\n",
       "       [[ 0.10835113,  0.00988561, -0.24398306, ..., -0.00573208,\n",
       "         -0.05879606,  0.04316197]],\n",
       "\n",
       "       [[ 0.03698625,  0.0030123 , -0.04794616, ..., -0.00175209,\n",
       "         -0.07658041, -0.1231611 ]],\n",
       "\n",
       "       [[ 0.1404165 , -0.01007371, -0.56873435, ..., -0.00428562,\n",
       "          0.02822156,  0.09205554]]], dtype=float32)>"
      ]
     },
     "execution_count": 126,
     "metadata": {},
     "output_type": "execute_result"
    }
   ],
   "source": [
    "first_conv_weights[0]"
   ]
  },
  {
   "cell_type": "code",
   "execution_count": 127,
   "metadata": {},
   "outputs": [
    {
     "data": {
      "text/plain": [
       "<tf.Tensor: shape=(64, 1, 48), dtype=float32, numpy=\n",
       "array([[[ 7.2028294e-02,  3.5538625e-03,  1.4322618e-01, ...,\n",
       "         -1.3806733e-02, -9.8474033e-02,  1.3013275e-01]],\n",
       "\n",
       "       [[-2.2096463e-01, -1.9298088e-02, -1.7290159e-01, ...,\n",
       "         -1.3513639e-02,  9.3927532e-02, -1.3955632e-01]],\n",
       "\n",
       "       [[-1.6250066e-02, -6.8461094e-03, -2.5803682e-01, ...,\n",
       "          2.4441194e-03, -4.1835278e-02,  3.0056139e-02]],\n",
       "\n",
       "       ...,\n",
       "\n",
       "       [[ 7.2292440e-02, -9.3441247e-04,  6.7650139e-02, ...,\n",
       "         -1.5383573e-02,  2.0147676e-02,  2.9155916e-02]],\n",
       "\n",
       "       [[ 2.1747474e-02, -1.8367968e-03, -1.7139919e-01, ...,\n",
       "         -7.2322320e-05, -6.1933074e-02, -1.4798460e-04]],\n",
       "\n",
       "       [[ 8.5391641e-02, -2.7636331e-02,  7.2858952e-02, ...,\n",
       "         -2.5545323e-02, -6.7666650e-02, -4.4661276e-02]]], dtype=float32)>"
      ]
     },
     "execution_count": 127,
     "metadata": {},
     "output_type": "execute_result"
    }
   ],
   "source": [
    "first_conv_weights[1]"
   ]
  },
  {
   "cell_type": "code",
   "execution_count": null,
   "metadata": {},
   "outputs": [],
   "source": []
  }
 ],
 "metadata": {
  "kernelspec": {
   "display_name": "Python 3.7.13 ('myenv')",
   "language": "python",
   "name": "python3"
  },
  "language_info": {
   "codemirror_mode": {
    "name": "ipython",
    "version": 3
   },
   "file_extension": ".py",
   "mimetype": "text/x-python",
   "name": "python",
   "nbconvert_exporter": "python",
   "pygments_lexer": "ipython3",
   "version": "3.7.13"
  },
  "orig_nbformat": 4,
  "vscode": {
   "interpreter": {
    "hash": "f2cd633bf9703d9b8d2b7bb6e04b82983774c32d5f891ed1890ee26b779f7466"
   }
  }
 },
 "nbformat": 4,
 "nbformat_minor": 2
}
