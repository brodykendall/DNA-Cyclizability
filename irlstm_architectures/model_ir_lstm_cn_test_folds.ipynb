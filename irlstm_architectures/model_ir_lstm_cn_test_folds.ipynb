{
 "cells": [
  {
   "cell_type": "code",
   "execution_count": 1,
   "metadata": {},
   "outputs": [],
   "source": [
    "import pandas as pd\n",
    "import numpy as np"
   ]
  },
  {
   "cell_type": "code",
   "execution_count": 10,
   "metadata": {},
   "outputs": [],
   "source": [
    "# INPUTS:\n",
    "\n",
    "data_folder_path = \"/Users/Brody1/Dropbox/Northwestern/DNA_Cyclizability/benchmarks/\"\n",
    "\n",
    "training_data_name = \"tiling\"\n",
    "# training_data_name = \"random\"\n",
    "# training_data_name = \"chrv\"\n",
    "# training_data_name = \"CN\""
   ]
  },
  {
   "cell_type": "code",
   "execution_count": 11,
   "metadata": {},
   "outputs": [],
   "source": [
    "C26_fits = pd.read_csv(f\"{data_folder_path}ir_lstm_c26_fits_{training_data_name}.txt\")\n",
    "C29_fits = pd.read_csv(f\"{data_folder_path}ir_lstm_c29_fits_{training_data_name}.txt\")\n",
    "C31_fits = pd.read_csv(f\"{data_folder_path}ir_lstm_c31_fits_{training_data_name}.txt\")"
   ]
  },
  {
   "cell_type": "code",
   "execution_count": 12,
   "metadata": {},
   "outputs": [
    {
     "name": "stdout",
     "output_type": "stream",
     "text": [
      "C26 average prediction correlation on CN (Training): 0.8929\n",
      "C29 average prediction correlation on CN (Training): 0.81299\n",
      "C31 average prediction correlation on CN (Training): 0.80837\n",
      "\n",
      "C26 average prediction correlation (detrended) on CN (Training): 0.8929\n",
      "C29 average prediction correlation (detrended) on CN (Training): 0.81299\n",
      "C31 average prediction correlation (detrended) on CN (Training): 0.80837\n"
     ]
    }
   ],
   "source": [
    "# Cycle 1 (nucleosome):\n",
    "if training_data_name == \"CN\":\n",
    "    data_name = \"CN (Training)\"\n",
    "else:\n",
    "    data_name = \"CN\"\n",
    "\n",
    "print(f\"C26 average prediction correlation on {data_name}: {round(np.mean(C26_fits.iloc[range(0,80,8),0]), 5)}\")\n",
    "print(f\"C29 average prediction correlation on {data_name}: {round(np.mean(C29_fits.iloc[range(0,80,8),0]), 5)}\")\n",
    "print(f\"C31 average prediction correlation on {data_name}: {round(np.mean(C31_fits.iloc[range(0,80,8),0]), 5)}\")\n",
    "\n",
    "print()\n",
    "\n",
    "print(f\"C26 average prediction correlation (detrended) on {data_name}: {round(np.mean(C26_fits.iloc[range(1,80,8),0]), 5)}\")\n",
    "print(f\"C29 average prediction correlation (detrended) on {data_name}: {round(np.mean(C29_fits.iloc[range(1,80,8),0]), 5)}\")\n",
    "print(f\"C31 average prediction correlation (detrended) on {data_name}: {round(np.mean(C31_fits.iloc[range(1,80,8),0]), 5)}\")\n"
   ]
  },
  {
   "cell_type": "code",
   "execution_count": 13,
   "metadata": {},
   "outputs": [
    {
     "name": "stdout",
     "output_type": "stream",
     "text": [
      "C26 average prediction correlation on random: 0.88789\n",
      "C29 average prediction correlation on random: 0.85123\n",
      "C31 average prediction correlation on random: 0.9042\n",
      "\n",
      "C26 average prediction correlation (detrended) on random: 0.88789\n",
      "C29 average prediction correlation (detrended) on random: 0.85123\n",
      "C31 average prediction correlation (detrended) on random: 0.9042\n"
     ]
    }
   ],
   "source": [
    "# Cycle 3 (random):\n",
    "if training_data_name == \"random\":\n",
    "    data_name = \"random (Training)\"\n",
    "else:\n",
    "    data_name = \"random\"\n",
    "\n",
    "print(f\"C26 average prediction correlation on {data_name}: {round(np.mean(C26_fits.iloc[range(2,80,8),0]), 5)}\")\n",
    "print(f\"C29 average prediction correlation on {data_name}: {round(np.mean(C29_fits.iloc[range(2,80,8),0]), 5)}\")\n",
    "print(f\"C31 average prediction correlation on {data_name}: {round(np.mean(C31_fits.iloc[range(2,80,8),0]), 5)}\")\n",
    "\n",
    "print()\n",
    "\n",
    "print(f\"C26 average prediction correlation (detrended) on {data_name}: {round(np.mean(C26_fits.iloc[range(3,80,8),0]), 5)}\")\n",
    "print(f\"C29 average prediction correlation (detrended) on {data_name}: {round(np.mean(C29_fits.iloc[range(3,80,8),0]), 5)}\")\n",
    "print(f\"C31 average prediction correlation (detrended) on {data_name}: {round(np.mean(C31_fits.iloc[range(3,80,8),0]), 5)}\")\n"
   ]
  },
  {
   "cell_type": "code",
   "execution_count": 14,
   "metadata": {},
   "outputs": [
    {
     "name": "stdout",
     "output_type": "stream",
     "text": [
      "C26 average prediction correlation on tiling: 0.86421\n",
      "C29 average prediction correlation on tiling: 0.87946\n",
      "C31 average prediction correlation on tiling: 0.89394\n",
      "\n",
      "C26 average prediction correlation (detrended) on tiling: 0.86421\n",
      "C29 average prediction correlation (detrended) on tiling: 0.87946\n",
      "C31 average prediction correlation (detrended) on tiling: 0.89394\n"
     ]
    }
   ],
   "source": [
    "# Cycle 5 (tiling):\n",
    "if training_data_name == \"tiling\":\n",
    "    data_name = \"tiling (Training)\"\n",
    "else:\n",
    "    data_name = \"tiling\"\n",
    "\n",
    "print(f\"C26 average prediction correlation on {data_name}: {round(np.mean(C26_fits.iloc[range(4,80,8),0]), 5)}\")\n",
    "print(f\"C29 average prediction correlation on {data_name}: {round(np.mean(C29_fits.iloc[range(4,80,8),0]), 5)}\")\n",
    "print(f\"C31 average prediction correlation on {data_name}: {round(np.mean(C31_fits.iloc[range(4,80,8),0]), 5)}\")\n",
    "\n",
    "print()\n",
    "\n",
    "print(f\"C26 average prediction correlation (detrended) on {data_name}: {round(np.mean(C26_fits.iloc[range(5,80,8),0]), 5)}\")\n",
    "print(f\"C29 average prediction correlation (detrended) on {data_name}: {round(np.mean(C29_fits.iloc[range(5,80,8),0]), 5)}\")\n",
    "print(f\"C31 average prediction correlation (detrended) on {data_name}: {round(np.mean(C31_fits.iloc[range(5,80,8),0]), 5)}\")\n"
   ]
  },
  {
   "cell_type": "code",
   "execution_count": 15,
   "metadata": {},
   "outputs": [
    {
     "name": "stdout",
     "output_type": "stream",
     "text": [
      "C26 average prediction correlation on chrv: 0.7138\n",
      "C29 average prediction correlation on chrv: 0.74847\n",
      "C31 average prediction correlation on chrv: 0.77057\n",
      "\n",
      "C26 average prediction correlation (detrended) on chrv: 0.7138\n",
      "C29 average prediction correlation (detrended) on chrv: 0.74847\n",
      "C31 average prediction correlation (detrended) on chrv: 0.77057\n"
     ]
    }
   ],
   "source": [
    "# Cycle 6 (chrV):\n",
    "if training_data_name == \"chrv\":\n",
    "    data_name = \"chrv (Training)\"\n",
    "else:\n",
    "    data_name = \"chrv\"\n",
    "\n",
    "print(f\"C26 average prediction correlation on {data_name}: {round(np.mean(C26_fits.iloc[range(6,80,8),0]), 5)}\")\n",
    "print(f\"C29 average prediction correlation on {data_name}: {round(np.mean(C29_fits.iloc[range(6,80,8),0]), 5)}\")\n",
    "print(f\"C31 average prediction correlation on {data_name}: {round(np.mean(C31_fits.iloc[range(6,80,8),0]), 5)}\")\n",
    "\n",
    "print()\n",
    "\n",
    "print(f\"C26 average prediction correlation (detrended) on {data_name}: {round(np.mean(C26_fits.iloc[range(7,80,8),0]), 5)}\")\n",
    "print(f\"C29 average prediction correlation (detrended) on {data_name}: {round(np.mean(C29_fits.iloc[range(7,80,8),0]), 5)}\")\n",
    "print(f\"C31 average prediction correlation (detrended) on {data_name}: {round(np.mean(C31_fits.iloc[range(7,80,8),0]), 5)}\")\n"
   ]
  },
  {
   "cell_type": "code",
   "execution_count": null,
   "metadata": {},
   "outputs": [],
   "source": []
  },
  {
   "cell_type": "code",
   "execution_count": null,
   "metadata": {},
   "outputs": [],
   "source": []
  }
 ],
 "metadata": {
  "kernelspec": {
   "display_name": ".venv",
   "language": "python",
   "name": "python3"
  },
  "language_info": {
   "codemirror_mode": {
    "name": "ipython",
    "version": 3
   },
   "file_extension": ".py",
   "mimetype": "text/x-python",
   "name": "python",
   "nbconvert_exporter": "python",
   "pygments_lexer": "ipython3",
   "version": "3.11.5"
  }
 },
 "nbformat": 4,
 "nbformat_minor": 2
}
