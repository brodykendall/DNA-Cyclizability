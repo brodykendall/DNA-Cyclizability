{
 "cells": [
  {
   "cell_type": "code",
   "execution_count": 1,
   "metadata": {},
   "outputs": [],
   "source": [
    "import time\n",
    "import keras\n",
    "\n",
    "from keras.models import Model\n",
    "from keras.layers import Dropout, Flatten, BatchNormalization, TimeDistributed, Input, Add, Concatenate,\n",
    "from keras.layers import Dense, Conv2D, MaxPooling2D, LSTM, TimeDistributed, Reshape\n",
    "import keras.backend as K\n",
    "import keras.callbacks as callbacks\n",
    "\n",
    "import pandas as pd\n",
    "import numpy as np\n",
    "from numpy import array\n",
    "from sklearn.linear_model import LinearRegression\n",
    "from sklearn.model_selection import KFold"
   ]
  },
  {
   "cell_type": "code",
   "execution_count": 69,
   "metadata": {},
   "outputs": [],
   "source": [
    "\n",
    "save_path = \"/Users/Brody1/Documents/Northwestern/DNA_Cyclizability/benchmarks/deep-learning/\"\n",
    "model_name = \"3conv_only\"\n",
    "kf = KFold(n_splits = 10, shuffle =True)\n",
    "num_epochs = 10\n",
    "\n",
    "#### define functions ####\n",
    "\n",
    "def model_cycle():\n",
    "    inputs = Input(shape=(50, 4, 1))\n",
    "        \n",
    "    x = Conv2D(48, kernel_size=(3,4),\n",
    "                   activation='relu',\n",
    "                   padding='valid')(inputs)\n",
    "    x = MaxPooling2D((2,1),padding='same')(x)\n",
    "    x = BatchNormalization()(x)\n",
    "    x = Dropout(0.2)(x)\n",
    "\n",
    "    x = Conv2D(48, kernel_size=(11,1),\n",
    "                activation='relu',\n",
    "                padding='same')(x)\n",
    "    x = BatchNormalization()(x)\n",
    "    x = Dropout(0.2)(x)\n",
    "    x = Conv2D(48, kernel_size=(21,1),\n",
    "                   activation='relu',\n",
    "                   padding='same')(x)\n",
    "    x = MaxPooling2D((2,1),padding='same')(x)\n",
    "    x = BatchNormalization()(x)\n",
    "    x = Dropout(0.2)(x)\n",
    "\n",
    "    print(f\"pre reshape: {K.int_shape(x)}\")\n",
    "\n",
    "    # x = Reshape((1, 576))(x)\n",
    "    x = Flatten()(x)\n",
    "\n",
    "    print(f\"post reshape: {K.int_shape(x)}\")\n",
    "\n",
    "    # x = Dense(20, activation='relu')(x)\n",
    "    outputs = Dense(1, activation='linear')(x)\n",
    "\n",
    "    # outputs = Dense(1, activation='linear')(x)\n",
    "    print(outputs.shape)\n",
    "    network = Model(inputs, outputs)\n",
    "    network.compile(optimizer='rmsprop',\n",
    "                    loss='mean_squared_error')\n",
    "    return network\n",
    "    \n",
    "def dnaOneHot(sequence):\n",
    "    seq_array = array(list(sequence))\n",
    "    code = {\"A\": [0], \"C\": [1], \"G\": [2], \"T\": [3], \"N\": [4],\n",
    "            \"a\": [0], \"c\": [1], \"g\": [2], \"t\": [3], \"n\": [4]}\n",
    "    onehot_encoded_seq = []\n",
    "    for char in seq_array:\n",
    "        onehot_encoded = np.zeros(5)\n",
    "        onehot_encoded[code[char]] = 1\n",
    "        onehot_encoded_seq.append(onehot_encoded[0:4])\n",
    "    return onehot_encoded_seq\n",
    "\n"
   ]
  },
  {
   "cell_type": "code",
   "execution_count": 61,
   "metadata": {},
   "outputs": [],
   "source": [
    "def display_fits(fits):\n",
    "    print(f\"Average correlation on tiling: {np.mean([fits[0][i] for i in range(fits[0].size) if (i % 8) == 2])}\",\n",
    "          f\"\\nAverage MSE on tiling: {np.mean([fits[1][i] for i in range(fits[1].size) if (i % 8) == 2])}\",\n",
    "          f\"\\nAverage correlation on random: {np.mean([fits[0][i] for i in range(fits[0].size) if (i % 8) == 1])}\",\n",
    "          f\"\\nAverage MSE on random: {np.mean([fits[1][i] for i in range(fits[1].size) if (i % 8) == 1])}\",\n",
    "          f\"\\nAverage correlation on ChrV: {np.mean([fits[0][i] for i in range(fits[0].size) if (i % 8) == 3])}\",\n",
    "          f\"\\nAverage MSE on ChrV: {np.mean([fits[1][i] for i in range(fits[1].size) if (i % 8) == 3])}\",\n",
    "          f\"\\nAverage correlation on CN: {np.mean([fits[0][i] for i in range(fits[0].size) if (i % 8) == 0])}\",\n",
    "          f\"\\nAverage MSE on CN: {np.mean([fits[1][i] for i in range(fits[1].size) if (i % 8) == 0])}\")"
   ]
  },
  {
   "cell_type": "code",
   "execution_count": 62,
   "metadata": {},
   "outputs": [],
   "source": [
    "def find_c0new(dat):\n",
    "  mat = np.empty((3,3), float)\n",
    "  k = 2*np.pi/10.4\n",
    "  n = array([26, 29, 31])\n",
    "  mat[0:3,0] = 1\n",
    "  mat[0:3, 1] = np.sin(n*k)\n",
    "  mat[0:3, 2] = np.cos(n*k)\n",
    "  inv_mat = np.linalg.inv(mat)\n",
    "  c0A1A2 = array(np.matmul(dat[[\"n=26\", \"n=29\", \"n=31\"]], np.transpose(inv_mat)))\n",
    "  c0Aphi = c0A1A2\n",
    "  c0Aphi[:,0] = c0A1A2[:,0]\n",
    "  c0Aphi[:,1] = np.sqrt(c0A1A2[:,1]**2 + c0A1A2[:,2]**2)\n",
    "  c0Aphi[:,2] <- np.sign(c0A1A2[:,2]) * np.arccos(c0A1A2[:,1]/c0Aphi[:,1])\n",
    "  return c0Aphi[:,0]"
   ]
  },
  {
   "cell_type": "code",
   "execution_count": 49,
   "metadata": {},
   "outputs": [],
   "source": [
    "class TimeHistory(keras.callbacks.Callback):\n",
    "    def on_train_begin(self, logs={}):\n",
    "        self.times = []\n",
    "\n",
    "    def on_epoch_begin(self, batch, logs={}):\n",
    "        self.epoch_time_start = time.process_time()\n",
    "\n",
    "    def on_epoch_end(self, batch, logs={}):\n",
    "        self.times.append(time.process_time() - self.epoch_time_start)\n",
    "        \n",
    "#### preparing data ####\n",
    "\n",
    "data_cerevisiae_nucle = pd.read_csv(\"/Users/Brody1/Documents/Northwestern/DNA_Cyclizability/cycle1.txt\",delimiter = \",\")\n",
    "X1 = []\n",
    "for sequence_nt in data_cerevisiae_nucle[\"Sequence\"]:\n",
    "    X1.append(dnaOneHot(sequence_nt))\n",
    "X1 = array(X1)\n",
    "X1 = X1.reshape((X1.shape[0],50,4,1))\n",
    "X1_reverse = np.flip(X1,[1,2])\n",
    "# Y1 = data_cerevisiae_nucle[\"C0\"].values.astype(float)\n",
    "Y1 = find_c0new(data_cerevisiae_nucle).astype(float)\n"
   ]
  },
  {
   "cell_type": "code",
   "execution_count": 50,
   "metadata": {},
   "outputs": [],
   "source": [
    "data_random_library = pd.read_csv(\"/Users/Brody1/Documents/Northwestern/DNA_Cyclizability/cycle3.txt\",delimiter = \",\")\n",
    "X3 = []\n",
    "for sequence_nt in data_random_library[\"Sequence\"]:\n",
    "    X3.append(dnaOneHot(sequence_nt))\n",
    "X3 = array(X3)\n",
    "X3 = X3.reshape((X3.shape[0],50,4,1))\n",
    "X3_reverse = np.flip(X3,[1,2])\n",
    "# Y3 = data_random_library[\"C0\"].values.astype(float)\n",
    "Y3 = find_c0new(data_random_library).astype(float)\n"
   ]
  },
  {
   "cell_type": "code",
   "execution_count": 51,
   "metadata": {},
   "outputs": [],
   "source": [
    "data_tiling = pd.read_csv(\"/Users/Brody1/Documents/Northwestern/DNA_Cyclizability/cycle5.txt\",delimiter = \",\")\n",
    "X5 = []\n",
    "for sequence_nt in data_tiling[\"Sequence\"]:\n",
    "    X5.append(dnaOneHot(sequence_nt))\n",
    "X5 = array(X5)\n",
    "X5 = X5.reshape((X5.shape[0],50,4,1))\n",
    "X5_reverse = np.flip(X5,[1,2])\n",
    "# Y5 = data_tiling[\"C0\"].values.astype(float)\n",
    "Y5 = find_c0new(data_tiling).astype(float)\n",
    "\n"
   ]
  },
  {
   "cell_type": "code",
   "execution_count": 52,
   "metadata": {},
   "outputs": [],
   "source": [
    "data_chr5 = pd.read_csv(\"/Users/Brody1/Documents/Northwestern/DNA_Cyclizability/cycle6.txt\",delimiter = \",\")\n",
    "X6 = []\n",
    "for sequence_nt in data_chr5[\"Sequence\"]:\n",
    "    X6.append(dnaOneHot(sequence_nt))\n",
    "X6 = array(X6)\n",
    "X6 = X6.reshape((X6.shape[0],50,4,1))\n",
    "X6_reverse = np.flip(X6,[1,2])\n",
    "# Y6 = data_chr5[\"C0\"].values.astype(float)\n",
    "Y6 = find_c0new(data_chr5).astype(float)"
   ]
  },
  {
   "cell_type": "code",
   "execution_count": 70,
   "metadata": {},
   "outputs": [
    {
     "name": "stdout",
     "output_type": "stream",
     "text": [
      "pre reshape: (None, 12, 1, 48)\n",
      "post reshape: (None, 576)\n",
      "(None, 1)\n",
      "Epoch 1/10\n",
      "2315/2317 [============================>.] - ETA: 0s - loss: 0.1543\n",
      "Epoch 1: val_loss improved from inf to 0.05536, saving model to /Users/Brody1/Documents/Northwestern/Jiping/benchmarks/deep-learning/3conv_only_tiling_1.h5\n",
      "2317/2317 [==============================] - 28s 12ms/step - loss: 0.1543 - val_loss: 0.0554\n",
      "Epoch 2/10\n",
      "2313/2317 [============================>.] - ETA: 0s - loss: 0.0508\n",
      "Epoch 2: val_loss improved from 0.05536 to 0.04262, saving model to /Users/Brody1/Documents/Northwestern/Jiping/benchmarks/deep-learning/3conv_only_tiling_1.h5\n",
      "2317/2317 [==============================] - 32s 14ms/step - loss: 0.0508 - val_loss: 0.0426\n",
      "Epoch 3/10\n",
      "2314/2317 [============================>.] - ETA: 0s - loss: 0.0464\n",
      "Epoch 3: val_loss improved from 0.04262 to 0.04226, saving model to /Users/Brody1/Documents/Northwestern/Jiping/benchmarks/deep-learning/3conv_only_tiling_1.h5\n",
      "2317/2317 [==============================] - 31s 13ms/step - loss: 0.0464 - val_loss: 0.0423\n",
      "Epoch 4/10\n",
      "2316/2317 [============================>.] - ETA: 0s - loss: 0.0445\n",
      "Epoch 4: val_loss improved from 0.04226 to 0.04020, saving model to /Users/Brody1/Documents/Northwestern/Jiping/benchmarks/deep-learning/3conv_only_tiling_1.h5\n",
      "2317/2317 [==============================] - 28s 12ms/step - loss: 0.0445 - val_loss: 0.0402\n",
      "Epoch 5/10\n",
      "2317/2317 [==============================] - ETA: 0s - loss: 0.0432\n",
      "Epoch 5: val_loss improved from 0.04020 to 0.03837, saving model to /Users/Brody1/Documents/Northwestern/Jiping/benchmarks/deep-learning/3conv_only_tiling_1.h5\n",
      "2317/2317 [==============================] - 32s 14ms/step - loss: 0.0432 - val_loss: 0.0384\n",
      "Epoch 6/10\n",
      "2316/2317 [============================>.] - ETA: 0s - loss: 0.0423\n",
      "Epoch 6: val_loss improved from 0.03837 to 0.03677, saving model to /Users/Brody1/Documents/Northwestern/Jiping/benchmarks/deep-learning/3conv_only_tiling_1.h5\n",
      "2317/2317 [==============================] - 36s 15ms/step - loss: 0.0423 - val_loss: 0.0368\n",
      "Epoch 7/10\n",
      "2315/2317 [============================>.] - ETA: 0s - loss: 0.0419\n",
      "Epoch 7: val_loss did not improve from 0.03677\n",
      "2317/2317 [==============================] - 42s 18ms/step - loss: 0.0419 - val_loss: 0.0371\n",
      "Epoch 8/10\n",
      "2316/2317 [============================>.] - ETA: 0s - loss: 0.0412\n",
      "Epoch 8: val_loss improved from 0.03677 to 0.03653, saving model to /Users/Brody1/Documents/Northwestern/Jiping/benchmarks/deep-learning/3conv_only_tiling_1.h5\n",
      "2317/2317 [==============================] - 46s 20ms/step - loss: 0.0412 - val_loss: 0.0365\n",
      "Epoch 9/10\n",
      "2316/2317 [============================>.] - ETA: 0s - loss: 0.0407\n",
      "Epoch 9: val_loss did not improve from 0.03653\n",
      "2317/2317 [==============================] - 44s 19ms/step - loss: 0.0407 - val_loss: 0.0365\n",
      "Epoch 10/10\n",
      "2315/2317 [============================>.] - ETA: 0s - loss: 0.0404\n",
      "Epoch 10: val_loss did not improve from 0.03653\n",
      "2317/2317 [==============================] - 45s 20ms/step - loss: 0.0404 - val_loss: 0.0376\n"
     ]
    },
    {
     "name": "stderr",
     "output_type": "stream",
     "text": [
      "WARNING:absl:Found untraced functions such as _jit_compiled_convolution_op, _jit_compiled_convolution_op, _jit_compiled_convolution_op while saving (showing 3 of 3). These functions will not be directly callable after loading.\n"
     ]
    },
    {
     "name": "stdout",
     "output_type": "stream",
     "text": [
      "INFO:tensorflow:Assets written to: /Users/Brody1/Documents/Northwestern/Jiping/benchmarks/deep-learning/3conv_only_tiling_1/assets\n"
     ]
    },
    {
     "name": "stderr",
     "output_type": "stream",
     "text": [
      "INFO:tensorflow:Assets written to: /Users/Brody1/Documents/Northwestern/Jiping/benchmarks/deep-learning/3conv_only_tiling_1/assets\n"
     ]
    },
    {
     "name": "stdout",
     "output_type": "stream",
     "text": [
      "2317/2317 [==============================] - 18s 8ms/step\n",
      "2317/2317 [==============================] - 17s 7ms/step\n",
      "258/258 [==============================] - 2s 7ms/step\n",
      "258/258 [==============================] - 2s 8ms/step\n",
      "pre reshape: (None, 12, 1, 48)\n",
      "post reshape: (None, 576)\n",
      "(None, 1)\n",
      "Epoch 1/10\n",
      "2317/2317 [==============================] - ETA: 0s - loss: 0.1540\n",
      "Epoch 1: val_loss improved from inf to 0.04996, saving model to /Users/Brody1/Documents/Northwestern/Jiping/benchmarks/deep-learning/3conv_only_tiling_2.h5\n",
      "2317/2317 [==============================] - 48s 20ms/step - loss: 0.1540 - val_loss: 0.0500\n",
      "Epoch 2/10\n",
      "2316/2317 [============================>.] - ETA: 0s - loss: 0.0507\n",
      "Epoch 2: val_loss improved from 0.04996 to 0.04168, saving model to /Users/Brody1/Documents/Northwestern/Jiping/benchmarks/deep-learning/3conv_only_tiling_2.h5\n",
      "2317/2317 [==============================] - 44s 19ms/step - loss: 0.0507 - val_loss: 0.0417\n",
      "Epoch 3/10\n",
      "2315/2317 [============================>.] - ETA: 0s - loss: 0.0461\n",
      "Epoch 3: val_loss improved from 0.04168 to 0.04097, saving model to /Users/Brody1/Documents/Northwestern/Jiping/benchmarks/deep-learning/3conv_only_tiling_2.h5\n",
      "2317/2317 [==============================] - 51s 22ms/step - loss: 0.0461 - val_loss: 0.0410\n",
      "Epoch 4/10\n",
      "2316/2317 [============================>.] - ETA: 0s - loss: 0.0441\n",
      "Epoch 4: val_loss improved from 0.04097 to 0.03820, saving model to /Users/Brody1/Documents/Northwestern/Jiping/benchmarks/deep-learning/3conv_only_tiling_2.h5\n",
      "2317/2317 [==============================] - 50s 21ms/step - loss: 0.0441 - val_loss: 0.0382\n",
      "Epoch 5/10\n",
      "2315/2317 [============================>.] - ETA: 0s - loss: 0.0431\n",
      "Epoch 5: val_loss did not improve from 0.03820\n",
      "2317/2317 [==============================] - 48s 21ms/step - loss: 0.0431 - val_loss: 0.0388\n",
      "Epoch 6/10\n",
      "2316/2317 [============================>.] - ETA: 0s - loss: 0.0422\n",
      "Epoch 6: val_loss improved from 0.03820 to 0.03812, saving model to /Users/Brody1/Documents/Northwestern/Jiping/benchmarks/deep-learning/3conv_only_tiling_2.h5\n",
      "2317/2317 [==============================] - 46s 20ms/step - loss: 0.0422 - val_loss: 0.0381\n",
      "Epoch 7/10\n",
      "2316/2317 [============================>.] - ETA: 0s - loss: 0.0417\n",
      "Epoch 7: val_loss improved from 0.03812 to 0.03799, saving model to /Users/Brody1/Documents/Northwestern/Jiping/benchmarks/deep-learning/3conv_only_tiling_2.h5\n",
      "2317/2317 [==============================] - 46s 20ms/step - loss: 0.0417 - val_loss: 0.0380\n",
      "Epoch 8/10\n",
      "2315/2317 [============================>.] - ETA: 0s - loss: 0.0409\n",
      "Epoch 8: val_loss improved from 0.03799 to 0.03770, saving model to /Users/Brody1/Documents/Northwestern/Jiping/benchmarks/deep-learning/3conv_only_tiling_2.h5\n",
      "2317/2317 [==============================] - 47s 20ms/step - loss: 0.0409 - val_loss: 0.0377\n",
      "Epoch 9/10\n",
      "2314/2317 [============================>.] - ETA: 0s - loss: 0.0403\n",
      "Epoch 9: val_loss improved from 0.03770 to 0.03700, saving model to /Users/Brody1/Documents/Northwestern/Jiping/benchmarks/deep-learning/3conv_only_tiling_2.h5\n",
      "2317/2317 [==============================] - 48s 21ms/step - loss: 0.0404 - val_loss: 0.0370\n",
      "Epoch 10/10\n",
      "2315/2317 [============================>.] - ETA: 0s - loss: 0.0403\n",
      "Epoch 10: val_loss did not improve from 0.03700\n",
      "2317/2317 [==============================] - 48s 21ms/step - loss: 0.0403 - val_loss: 0.0387\n"
     ]
    },
    {
     "name": "stderr",
     "output_type": "stream",
     "text": [
      "WARNING:absl:Found untraced functions such as _jit_compiled_convolution_op, _jit_compiled_convolution_op, _jit_compiled_convolution_op while saving (showing 3 of 3). These functions will not be directly callable after loading.\n"
     ]
    },
    {
     "name": "stdout",
     "output_type": "stream",
     "text": [
      "INFO:tensorflow:Assets written to: /Users/Brody1/Documents/Northwestern/Jiping/benchmarks/deep-learning/3conv_only_tiling_2/assets\n"
     ]
    },
    {
     "name": "stderr",
     "output_type": "stream",
     "text": [
      "INFO:tensorflow:Assets written to: /Users/Brody1/Documents/Northwestern/Jiping/benchmarks/deep-learning/3conv_only_tiling_2/assets\n"
     ]
    },
    {
     "name": "stdout",
     "output_type": "stream",
     "text": [
      "2317/2317 [==============================] - 20s 8ms/step\n",
      "2317/2317 [==============================] - 18s 8ms/step\n",
      "258/258 [==============================] - 2s 7ms/step\n",
      "258/258 [==============================] - 2s 8ms/step\n",
      "pre reshape: (None, 12, 1, 48)\n",
      "post reshape: (None, 576)\n",
      "(None, 1)\n",
      "Epoch 1/10\n",
      "2317/2317 [==============================] - ETA: 0s - loss: 0.1556\n",
      "Epoch 1: val_loss improved from inf to 0.04594, saving model to /Users/Brody1/Documents/Northwestern/Jiping/benchmarks/deep-learning/3conv_only_tiling_3.h5\n",
      "2317/2317 [==============================] - 53s 22ms/step - loss: 0.1556 - val_loss: 0.0459\n",
      "Epoch 2/10\n",
      "2315/2317 [============================>.] - ETA: 0s - loss: 0.0506\n",
      "Epoch 2: val_loss improved from 0.04594 to 0.04312, saving model to /Users/Brody1/Documents/Northwestern/Jiping/benchmarks/deep-learning/3conv_only_tiling_3.h5\n",
      "2317/2317 [==============================] - 54s 23ms/step - loss: 0.0506 - val_loss: 0.0431\n",
      "Epoch 3/10\n",
      "2315/2317 [============================>.] - ETA: 0s - loss: 0.0463\n",
      "Epoch 3: val_loss improved from 0.04312 to 0.04188, saving model to /Users/Brody1/Documents/Northwestern/Jiping/benchmarks/deep-learning/3conv_only_tiling_3.h5\n",
      "2317/2317 [==============================] - 50s 22ms/step - loss: 0.0463 - val_loss: 0.0419\n",
      "Epoch 4/10\n",
      "2317/2317 [==============================] - ETA: 0s - loss: 0.0444\n",
      "Epoch 4: val_loss improved from 0.04188 to 0.03995, saving model to /Users/Brody1/Documents/Northwestern/Jiping/benchmarks/deep-learning/3conv_only_tiling_3.h5\n",
      "2317/2317 [==============================] - 49s 21ms/step - loss: 0.0444 - val_loss: 0.0399\n",
      "Epoch 5/10\n",
      "2316/2317 [============================>.] - ETA: 0s - loss: 0.0431\n",
      "Epoch 5: val_loss improved from 0.03995 to 0.03907, saving model to /Users/Brody1/Documents/Northwestern/Jiping/benchmarks/deep-learning/3conv_only_tiling_3.h5\n",
      "2317/2317 [==============================] - 44s 19ms/step - loss: 0.0431 - val_loss: 0.0391\n",
      "Epoch 6/10\n",
      "2315/2317 [============================>.] - ETA: 0s - loss: 0.0423\n",
      "Epoch 6: val_loss improved from 0.03907 to 0.03776, saving model to /Users/Brody1/Documents/Northwestern/Jiping/benchmarks/deep-learning/3conv_only_tiling_3.h5\n",
      "2317/2317 [==============================] - 45s 20ms/step - loss: 0.0423 - val_loss: 0.0378\n",
      "Epoch 7/10\n",
      "2316/2317 [============================>.] - ETA: 0s - loss: 0.0416\n",
      "Epoch 7: val_loss did not improve from 0.03776\n",
      "2317/2317 [==============================] - 48s 21ms/step - loss: 0.0416 - val_loss: 0.0392\n",
      "Epoch 8/10\n",
      "2316/2317 [============================>.] - ETA: 0s - loss: 0.0414\n",
      "Epoch 8: val_loss improved from 0.03776 to 0.03776, saving model to /Users/Brody1/Documents/Northwestern/Jiping/benchmarks/deep-learning/3conv_only_tiling_3.h5\n",
      "2317/2317 [==============================] - 48s 21ms/step - loss: 0.0414 - val_loss: 0.0378\n",
      "Epoch 9/10\n",
      "2314/2317 [============================>.] - ETA: 0s - loss: 0.0406\n",
      "Epoch 9: val_loss did not improve from 0.03776\n",
      "2317/2317 [==============================] - 49s 21ms/step - loss: 0.0406 - val_loss: 0.0386\n",
      "Epoch 10/10\n",
      "2316/2317 [============================>.] - ETA: 0s - loss: 0.0403\n",
      "Epoch 10: val_loss did not improve from 0.03776\n",
      "2317/2317 [==============================] - 47s 20ms/step - loss: 0.0403 - val_loss: 0.0383\n"
     ]
    },
    {
     "name": "stderr",
     "output_type": "stream",
     "text": [
      "WARNING:absl:Found untraced functions such as _jit_compiled_convolution_op, _jit_compiled_convolution_op, _jit_compiled_convolution_op while saving (showing 3 of 3). These functions will not be directly callable after loading.\n"
     ]
    },
    {
     "name": "stdout",
     "output_type": "stream",
     "text": [
      "INFO:tensorflow:Assets written to: /Users/Brody1/Documents/Northwestern/Jiping/benchmarks/deep-learning/3conv_only_tiling_3/assets\n"
     ]
    },
    {
     "name": "stderr",
     "output_type": "stream",
     "text": [
      "INFO:tensorflow:Assets written to: /Users/Brody1/Documents/Northwestern/Jiping/benchmarks/deep-learning/3conv_only_tiling_3/assets\n"
     ]
    },
    {
     "name": "stdout",
     "output_type": "stream",
     "text": [
      "2317/2317 [==============================] - 17s 7ms/step\n",
      "2317/2317 [==============================] - 17s 8ms/step\n",
      "258/258 [==============================] - 2s 8ms/step\n",
      "258/258 [==============================] - 2s 8ms/step\n",
      "pre reshape: (None, 12, 1, 48)\n",
      "post reshape: (None, 576)\n",
      "(None, 1)\n",
      "Epoch 1/10\n",
      "2315/2317 [============================>.] - ETA: 0s - loss: 0.1662\n",
      "Epoch 1: val_loss improved from inf to 0.04945, saving model to /Users/Brody1/Documents/Northwestern/Jiping/benchmarks/deep-learning/3conv_only_tiling_4.h5\n",
      "2317/2317 [==============================] - 47s 20ms/step - loss: 0.1661 - val_loss: 0.0494\n",
      "Epoch 2/10\n",
      "2317/2317 [==============================] - ETA: 0s - loss: 0.0509\n",
      "Epoch 2: val_loss improved from 0.04945 to 0.04540, saving model to /Users/Brody1/Documents/Northwestern/Jiping/benchmarks/deep-learning/3conv_only_tiling_4.h5\n",
      "2317/2317 [==============================] - 46s 20ms/step - loss: 0.0509 - val_loss: 0.0454\n",
      "Epoch 3/10\n",
      "2317/2317 [==============================] - ETA: 0s - loss: 0.0461\n",
      "Epoch 3: val_loss improved from 0.04540 to 0.04046, saving model to /Users/Brody1/Documents/Northwestern/Jiping/benchmarks/deep-learning/3conv_only_tiling_4.h5\n",
      "2317/2317 [==============================] - 48s 21ms/step - loss: 0.0461 - val_loss: 0.0405\n",
      "Epoch 4/10\n",
      "2317/2317 [==============================] - ETA: 0s - loss: 0.0442\n",
      "Epoch 4: val_loss improved from 0.04046 to 0.04011, saving model to /Users/Brody1/Documents/Northwestern/Jiping/benchmarks/deep-learning/3conv_only_tiling_4.h5\n",
      "2317/2317 [==============================] - 46s 20ms/step - loss: 0.0442 - val_loss: 0.0401\n",
      "Epoch 5/10\n",
      "2315/2317 [============================>.] - ETA: 0s - loss: 0.0428\n",
      "Epoch 5: val_loss improved from 0.04011 to 0.03951, saving model to /Users/Brody1/Documents/Northwestern/Jiping/benchmarks/deep-learning/3conv_only_tiling_4.h5\n",
      "2317/2317 [==============================] - 45s 20ms/step - loss: 0.0428 - val_loss: 0.0395\n",
      "Epoch 6/10\n",
      "2314/2317 [============================>.] - ETA: 0s - loss: 0.0420\n",
      "Epoch 6: val_loss improved from 0.03951 to 0.03948, saving model to /Users/Brody1/Documents/Northwestern/Jiping/benchmarks/deep-learning/3conv_only_tiling_4.h5\n",
      "2317/2317 [==============================] - 43s 19ms/step - loss: 0.0420 - val_loss: 0.0395\n",
      "Epoch 7/10\n",
      "2316/2317 [============================>.] - ETA: 0s - loss: 0.0413\n",
      "Epoch 7: val_loss improved from 0.03948 to 0.03804, saving model to /Users/Brody1/Documents/Northwestern/Jiping/benchmarks/deep-learning/3conv_only_tiling_4.h5\n",
      "2317/2317 [==============================] - 49s 21ms/step - loss: 0.0413 - val_loss: 0.0380\n",
      "Epoch 8/10\n",
      "2316/2317 [============================>.] - ETA: 0s - loss: 0.0408\n",
      "Epoch 8: val_loss did not improve from 0.03804\n",
      "2317/2317 [==============================] - 52s 23ms/step - loss: 0.0408 - val_loss: 0.0384\n",
      "Epoch 9/10\n",
      "2317/2317 [==============================] - ETA: 0s - loss: 0.0406\n",
      "Epoch 9: val_loss did not improve from 0.03804\n",
      "2317/2317 [==============================] - 51s 22ms/step - loss: 0.0406 - val_loss: 0.0389\n",
      "Epoch 10/10\n",
      "2317/2317 [==============================] - ETA: 0s - loss: 0.0402\n",
      "Epoch 10: val_loss did not improve from 0.03804\n",
      "2317/2317 [==============================] - 55s 24ms/step - loss: 0.0402 - val_loss: 0.0385\n"
     ]
    },
    {
     "name": "stderr",
     "output_type": "stream",
     "text": [
      "WARNING:absl:Found untraced functions such as _jit_compiled_convolution_op, _jit_compiled_convolution_op, _jit_compiled_convolution_op while saving (showing 3 of 3). These functions will not be directly callable after loading.\n"
     ]
    },
    {
     "name": "stdout",
     "output_type": "stream",
     "text": [
      "INFO:tensorflow:Assets written to: /Users/Brody1/Documents/Northwestern/Jiping/benchmarks/deep-learning/3conv_only_tiling_4/assets\n"
     ]
    },
    {
     "name": "stderr",
     "output_type": "stream",
     "text": [
      "INFO:tensorflow:Assets written to: /Users/Brody1/Documents/Northwestern/Jiping/benchmarks/deep-learning/3conv_only_tiling_4/assets\n"
     ]
    },
    {
     "name": "stdout",
     "output_type": "stream",
     "text": [
      "2317/2317 [==============================] - 25s 11ms/step\n",
      "2317/2317 [==============================] - 26s 11ms/step\n",
      "258/258 [==============================] - 3s 11ms/step\n",
      "258/258 [==============================] - 3s 10ms/step\n",
      "pre reshape: (None, 12, 1, 48)\n",
      "post reshape: (None, 576)\n",
      "(None, 1)\n",
      "Epoch 1/10\n",
      "2316/2317 [============================>.] - ETA: 0s - loss: 0.1546\n",
      "Epoch 1: val_loss improved from inf to 0.05146, saving model to /Users/Brody1/Documents/Northwestern/Jiping/benchmarks/deep-learning/3conv_only_tiling_5.h5\n",
      "2317/2317 [==============================] - 64s 27ms/step - loss: 0.1546 - val_loss: 0.0515\n",
      "Epoch 2/10\n",
      "2317/2317 [==============================] - ETA: 0s - loss: 0.0513\n",
      "Epoch 2: val_loss improved from 0.05146 to 0.04271, saving model to /Users/Brody1/Documents/Northwestern/Jiping/benchmarks/deep-learning/3conv_only_tiling_5.h5\n",
      "2317/2317 [==============================] - 63s 27ms/step - loss: 0.0513 - val_loss: 0.0427\n",
      "Epoch 3/10\n",
      "2315/2317 [============================>.] - ETA: 0s - loss: 0.0469\n",
      "Epoch 3: val_loss improved from 0.04271 to 0.03794, saving model to /Users/Brody1/Documents/Northwestern/Jiping/benchmarks/deep-learning/3conv_only_tiling_5.h5\n",
      "2317/2317 [==============================] - 57s 25ms/step - loss: 0.0469 - val_loss: 0.0379\n",
      "Epoch 4/10\n",
      "2316/2317 [============================>.] - ETA: 0s - loss: 0.0448\n",
      "Epoch 4: val_loss improved from 0.03794 to 0.03786, saving model to /Users/Brody1/Documents/Northwestern/Jiping/benchmarks/deep-learning/3conv_only_tiling_5.h5\n",
      "2317/2317 [==============================] - 53s 23ms/step - loss: 0.0448 - val_loss: 0.0379\n",
      "Epoch 5/10\n",
      "2317/2317 [==============================] - ETA: 0s - loss: 0.0436\n",
      "Epoch 5: val_loss improved from 0.03786 to 0.03655, saving model to /Users/Brody1/Documents/Northwestern/Jiping/benchmarks/deep-learning/3conv_only_tiling_5.h5\n",
      "2317/2317 [==============================] - 49s 21ms/step - loss: 0.0436 - val_loss: 0.0365\n",
      "Epoch 6/10\n",
      "2317/2317 [==============================] - ETA: 0s - loss: 0.0426\n",
      "Epoch 6: val_loss improved from 0.03655 to 0.03523, saving model to /Users/Brody1/Documents/Northwestern/Jiping/benchmarks/deep-learning/3conv_only_tiling_5.h5\n",
      "2317/2317 [==============================] - 54s 23ms/step - loss: 0.0426 - val_loss: 0.0352\n",
      "Epoch 7/10\n",
      "2316/2317 [============================>.] - ETA: 0s - loss: 0.0419\n",
      "Epoch 7: val_loss did not improve from 0.03523\n",
      "2317/2317 [==============================] - 63s 27ms/step - loss: 0.0419 - val_loss: 0.0364\n",
      "Epoch 8/10\n",
      "2315/2317 [============================>.] - ETA: 0s - loss: 0.0414\n",
      "Epoch 8: val_loss improved from 0.03523 to 0.03516, saving model to /Users/Brody1/Documents/Northwestern/Jiping/benchmarks/deep-learning/3conv_only_tiling_5.h5\n",
      "2317/2317 [==============================] - 53s 23ms/step - loss: 0.0414 - val_loss: 0.0352\n",
      "Epoch 9/10\n",
      "2317/2317 [==============================] - ETA: 0s - loss: 0.0408\n",
      "Epoch 9: val_loss did not improve from 0.03516\n",
      "2317/2317 [==============================] - 59s 26ms/step - loss: 0.0408 - val_loss: 0.0356\n",
      "Epoch 10/10\n",
      "2316/2317 [============================>.] - ETA: 0s - loss: 0.0408\n",
      "Epoch 10: val_loss improved from 0.03516 to 0.03506, saving model to /Users/Brody1/Documents/Northwestern/Jiping/benchmarks/deep-learning/3conv_only_tiling_5.h5\n",
      "2317/2317 [==============================] - 59s 25ms/step - loss: 0.0408 - val_loss: 0.0351\n"
     ]
    },
    {
     "name": "stderr",
     "output_type": "stream",
     "text": [
      "WARNING:absl:Found untraced functions such as _jit_compiled_convolution_op, _jit_compiled_convolution_op, _jit_compiled_convolution_op while saving (showing 3 of 3). These functions will not be directly callable after loading.\n"
     ]
    },
    {
     "name": "stdout",
     "output_type": "stream",
     "text": [
      "INFO:tensorflow:Assets written to: /Users/Brody1/Documents/Northwestern/Jiping/benchmarks/deep-learning/3conv_only_tiling_5/assets\n"
     ]
    },
    {
     "name": "stderr",
     "output_type": "stream",
     "text": [
      "INFO:tensorflow:Assets written to: /Users/Brody1/Documents/Northwestern/Jiping/benchmarks/deep-learning/3conv_only_tiling_5/assets\n"
     ]
    },
    {
     "name": "stdout",
     "output_type": "stream",
     "text": [
      "2317/2317 [==============================] - 24s 10ms/step\n",
      "2317/2317 [==============================] - 23s 10ms/step\n",
      "258/258 [==============================] - 3s 11ms/step\n",
      "258/258 [==============================] - 3s 11ms/step\n",
      "pre reshape: (None, 12, 1, 48)\n",
      "post reshape: (None, 576)\n",
      "(None, 1)\n",
      "Epoch 1/10\n",
      "2316/2317 [============================>.] - ETA: 0s - loss: 0.1549\n",
      "Epoch 1: val_loss improved from inf to 0.04782, saving model to /Users/Brody1/Documents/Northwestern/Jiping/benchmarks/deep-learning/3conv_only_tiling_6.h5\n",
      "2317/2317 [==============================] - 59s 24ms/step - loss: 0.1549 - val_loss: 0.0478\n",
      "Epoch 2/10\n",
      "2317/2317 [==============================] - ETA: 0s - loss: 0.0506\n",
      "Epoch 2: val_loss improved from 0.04782 to 0.04306, saving model to /Users/Brody1/Documents/Northwestern/Jiping/benchmarks/deep-learning/3conv_only_tiling_6.h5\n",
      "2317/2317 [==============================] - 54s 23ms/step - loss: 0.0506 - val_loss: 0.0431\n",
      "Epoch 3/10\n",
      "2315/2317 [============================>.] - ETA: 0s - loss: 0.0462\n",
      "Epoch 3: val_loss improved from 0.04306 to 0.03987, saving model to /Users/Brody1/Documents/Northwestern/Jiping/benchmarks/deep-learning/3conv_only_tiling_6.h5\n",
      "2317/2317 [==============================] - 57s 25ms/step - loss: 0.0462 - val_loss: 0.0399\n",
      "Epoch 4/10\n",
      "2316/2317 [============================>.] - ETA: 0s - loss: 0.0443\n",
      "Epoch 4: val_loss improved from 0.03987 to 0.03806, saving model to /Users/Brody1/Documents/Northwestern/Jiping/benchmarks/deep-learning/3conv_only_tiling_6.h5\n",
      "2317/2317 [==============================] - 60s 26ms/step - loss: 0.0442 - val_loss: 0.0381\n",
      "Epoch 5/10\n",
      "2316/2317 [============================>.] - ETA: 0s - loss: 0.0430\n",
      "Epoch 5: val_loss did not improve from 0.03806\n",
      "2317/2317 [==============================] - 66s 29ms/step - loss: 0.0430 - val_loss: 0.0392\n",
      "Epoch 6/10\n",
      "2316/2317 [============================>.] - ETA: 0s - loss: 0.0422\n",
      "Epoch 6: val_loss improved from 0.03806 to 0.03713, saving model to /Users/Brody1/Documents/Northwestern/Jiping/benchmarks/deep-learning/3conv_only_tiling_6.h5\n",
      "2317/2317 [==============================] - 55s 24ms/step - loss: 0.0422 - val_loss: 0.0371\n",
      "Epoch 7/10\n",
      "2316/2317 [============================>.] - ETA: 0s - loss: 0.0415\n",
      "Epoch 7: val_loss improved from 0.03713 to 0.03675, saving model to /Users/Brody1/Documents/Northwestern/Jiping/benchmarks/deep-learning/3conv_only_tiling_6.h5\n",
      "2317/2317 [==============================] - 56s 24ms/step - loss: 0.0415 - val_loss: 0.0368\n",
      "Epoch 8/10\n",
      "2316/2317 [============================>.] - ETA: 0s - loss: 0.0412\n",
      "Epoch 8: val_loss improved from 0.03675 to 0.03668, saving model to /Users/Brody1/Documents/Northwestern/Jiping/benchmarks/deep-learning/3conv_only_tiling_6.h5\n",
      "2317/2317 [==============================] - 57s 25ms/step - loss: 0.0412 - val_loss: 0.0367\n",
      "Epoch 9/10\n",
      "2317/2317 [==============================] - ETA: 0s - loss: 0.0406\n",
      "Epoch 9: val_loss improved from 0.03668 to 0.03656, saving model to /Users/Brody1/Documents/Northwestern/Jiping/benchmarks/deep-learning/3conv_only_tiling_6.h5\n",
      "2317/2317 [==============================] - 49s 21ms/step - loss: 0.0406 - val_loss: 0.0366\n",
      "Epoch 10/10\n",
      "2317/2317 [==============================] - ETA: 0s - loss: 0.0403\n",
      "Epoch 10: val_loss improved from 0.03656 to 0.03629, saving model to /Users/Brody1/Documents/Northwestern/Jiping/benchmarks/deep-learning/3conv_only_tiling_6.h5\n",
      "2317/2317 [==============================] - 51s 22ms/step - loss: 0.0403 - val_loss: 0.0363\n"
     ]
    },
    {
     "name": "stderr",
     "output_type": "stream",
     "text": [
      "WARNING:absl:Found untraced functions such as _jit_compiled_convolution_op, _jit_compiled_convolution_op, _jit_compiled_convolution_op while saving (showing 3 of 3). These functions will not be directly callable after loading.\n"
     ]
    },
    {
     "name": "stdout",
     "output_type": "stream",
     "text": [
      "INFO:tensorflow:Assets written to: /Users/Brody1/Documents/Northwestern/Jiping/benchmarks/deep-learning/3conv_only_tiling_6/assets\n"
     ]
    },
    {
     "name": "stderr",
     "output_type": "stream",
     "text": [
      "INFO:tensorflow:Assets written to: /Users/Brody1/Documents/Northwestern/Jiping/benchmarks/deep-learning/3conv_only_tiling_6/assets\n"
     ]
    },
    {
     "name": "stdout",
     "output_type": "stream",
     "text": [
      "2317/2317 [==============================] - 20s 9ms/step\n",
      "2317/2317 [==============================] - 21s 9ms/step\n",
      "258/258 [==============================] - 2s 8ms/step\n",
      "258/258 [==============================] - 2s 7ms/step\n",
      "pre reshape: (None, 12, 1, 48)\n",
      "post reshape: (None, 576)\n",
      "(None, 1)\n",
      "Epoch 1/10\n",
      "2316/2317 [============================>.] - ETA: 0s - loss: 0.1562\n",
      "Epoch 1: val_loss improved from inf to 0.04790, saving model to /Users/Brody1/Documents/Northwestern/Jiping/benchmarks/deep-learning/3conv_only_tiling_7.h5\n",
      "2317/2317 [==============================] - 60s 25ms/step - loss: 0.1561 - val_loss: 0.0479\n",
      "Epoch 2/10\n",
      "2316/2317 [============================>.] - ETA: 0s - loss: 0.0507\n",
      "Epoch 2: val_loss improved from 0.04790 to 0.04025, saving model to /Users/Brody1/Documents/Northwestern/Jiping/benchmarks/deep-learning/3conv_only_tiling_7.h5\n",
      "2317/2317 [==============================] - 56s 24ms/step - loss: 0.0506 - val_loss: 0.0402\n",
      "Epoch 3/10\n",
      "2316/2317 [============================>.] - ETA: 0s - loss: 0.0459\n",
      "Epoch 3: val_loss improved from 0.04025 to 0.03857, saving model to /Users/Brody1/Documents/Northwestern/Jiping/benchmarks/deep-learning/3conv_only_tiling_7.h5\n",
      "2317/2317 [==============================] - 56s 24ms/step - loss: 0.0459 - val_loss: 0.0386\n",
      "Epoch 4/10\n",
      "2317/2317 [==============================] - ETA: 0s - loss: 0.0439\n",
      "Epoch 4: val_loss improved from 0.03857 to 0.03831, saving model to /Users/Brody1/Documents/Northwestern/Jiping/benchmarks/deep-learning/3conv_only_tiling_7.h5\n",
      "2317/2317 [==============================] - 52s 22ms/step - loss: 0.0439 - val_loss: 0.0383\n",
      "Epoch 5/10\n",
      "2315/2317 [============================>.] - ETA: 0s - loss: 0.0430\n",
      "Epoch 5: val_loss improved from 0.03831 to 0.03657, saving model to /Users/Brody1/Documents/Northwestern/Jiping/benchmarks/deep-learning/3conv_only_tiling_7.h5\n",
      "2317/2317 [==============================] - 49s 21ms/step - loss: 0.0430 - val_loss: 0.0366\n",
      "Epoch 6/10\n",
      "2316/2317 [============================>.] - ETA: 0s - loss: 0.0422\n",
      "Epoch 6: val_loss did not improve from 0.03657\n",
      "2317/2317 [==============================] - 55s 24ms/step - loss: 0.0422 - val_loss: 0.0367\n",
      "Epoch 7/10\n",
      "2316/2317 [============================>.] - ETA: 0s - loss: 0.0415\n",
      "Epoch 7: val_loss did not improve from 0.03657\n",
      "2317/2317 [==============================] - 57s 24ms/step - loss: 0.0415 - val_loss: 0.0368\n",
      "Epoch 8/10\n",
      "2317/2317 [==============================] - ETA: 0s - loss: 0.0411\n",
      "Epoch 8: val_loss did not improve from 0.03657\n",
      "2317/2317 [==============================] - 58s 25ms/step - loss: 0.0411 - val_loss: 0.0369\n",
      "Epoch 9/10\n",
      "2316/2317 [============================>.] - ETA: 0s - loss: 0.0408\n",
      "Epoch 9: val_loss improved from 0.03657 to 0.03591, saving model to /Users/Brody1/Documents/Northwestern/Jiping/benchmarks/deep-learning/3conv_only_tiling_7.h5\n",
      "2317/2317 [==============================] - 57s 25ms/step - loss: 0.0408 - val_loss: 0.0359\n",
      "Epoch 10/10\n",
      "2315/2317 [============================>.] - ETA: 0s - loss: 0.0402\n",
      "Epoch 10: val_loss did not improve from 0.03591\n",
      "2317/2317 [==============================] - 58s 25ms/step - loss: 0.0402 - val_loss: 0.0364\n"
     ]
    },
    {
     "name": "stderr",
     "output_type": "stream",
     "text": [
      "WARNING:absl:Found untraced functions such as _jit_compiled_convolution_op, _jit_compiled_convolution_op, _jit_compiled_convolution_op while saving (showing 3 of 3). These functions will not be directly callable after loading.\n"
     ]
    },
    {
     "name": "stdout",
     "output_type": "stream",
     "text": [
      "INFO:tensorflow:Assets written to: /Users/Brody1/Documents/Northwestern/Jiping/benchmarks/deep-learning/3conv_only_tiling_7/assets\n"
     ]
    },
    {
     "name": "stderr",
     "output_type": "stream",
     "text": [
      "INFO:tensorflow:Assets written to: /Users/Brody1/Documents/Northwestern/Jiping/benchmarks/deep-learning/3conv_only_tiling_7/assets\n"
     ]
    },
    {
     "name": "stdout",
     "output_type": "stream",
     "text": [
      "2317/2317 [==============================] - 24s 10ms/step\n",
      "2317/2317 [==============================] - 24s 10ms/step\n",
      "258/258 [==============================] - 3s 10ms/step\n",
      "258/258 [==============================] - 3s 11ms/step\n",
      "pre reshape: (None, 12, 1, 48)\n",
      "post reshape: (None, 576)\n",
      "(None, 1)\n",
      "Epoch 1/10\n",
      "2315/2317 [============================>.] - ETA: 0s - loss: 0.1513\n",
      "Epoch 1: val_loss improved from inf to 0.04758, saving model to /Users/Brody1/Documents/Northwestern/Jiping/benchmarks/deep-learning/3conv_only_tiling_8.h5\n",
      "2317/2317 [==============================] - 59s 25ms/step - loss: 0.1512 - val_loss: 0.0476\n",
      "Epoch 2/10\n",
      "2316/2317 [============================>.] - ETA: 0s - loss: 0.0509\n",
      "Epoch 2: val_loss did not improve from 0.04758\n",
      "2317/2317 [==============================] - 50s 22ms/step - loss: 0.0509 - val_loss: 0.0492\n",
      "Epoch 3/10\n",
      "2314/2317 [============================>.] - ETA: 0s - loss: 0.0465\n",
      "Epoch 3: val_loss improved from 0.04758 to 0.03780, saving model to /Users/Brody1/Documents/Northwestern/Jiping/benchmarks/deep-learning/3conv_only_tiling_8.h5\n",
      "2317/2317 [==============================] - 44s 19ms/step - loss: 0.0465 - val_loss: 0.0378\n",
      "Epoch 4/10\n",
      "2315/2317 [============================>.] - ETA: 0s - loss: 0.0445\n",
      "Epoch 4: val_loss improved from 0.03780 to 0.03710, saving model to /Users/Brody1/Documents/Northwestern/Jiping/benchmarks/deep-learning/3conv_only_tiling_8.h5\n",
      "2317/2317 [==============================] - 49s 21ms/step - loss: 0.0444 - val_loss: 0.0371\n",
      "Epoch 5/10\n",
      "2315/2317 [============================>.] - ETA: 0s - loss: 0.0431\n",
      "Epoch 5: val_loss did not improve from 0.03710\n",
      "2317/2317 [==============================] - 58s 25ms/step - loss: 0.0431 - val_loss: 0.0378\n",
      "Epoch 6/10\n",
      "2316/2317 [============================>.] - ETA: 0s - loss: 0.0424\n",
      "Epoch 6: val_loss improved from 0.03710 to 0.03615, saving model to /Users/Brody1/Documents/Northwestern/Jiping/benchmarks/deep-learning/3conv_only_tiling_8.h5\n",
      "2317/2317 [==============================] - 63s 27ms/step - loss: 0.0425 - val_loss: 0.0362\n",
      "Epoch 7/10\n",
      "2316/2317 [============================>.] - ETA: 0s - loss: 0.0418\n",
      "Epoch 7: val_loss improved from 0.03615 to 0.03591, saving model to /Users/Brody1/Documents/Northwestern/Jiping/benchmarks/deep-learning/3conv_only_tiling_8.h5\n",
      "2317/2317 [==============================] - 59s 26ms/step - loss: 0.0418 - val_loss: 0.0359\n",
      "Epoch 8/10\n",
      "2316/2317 [============================>.] - ETA: 0s - loss: 0.0412\n",
      "Epoch 8: val_loss improved from 0.03591 to 0.03570, saving model to /Users/Brody1/Documents/Northwestern/Jiping/benchmarks/deep-learning/3conv_only_tiling_8.h5\n",
      "2317/2317 [==============================] - 55s 24ms/step - loss: 0.0412 - val_loss: 0.0357\n",
      "Epoch 9/10\n",
      "2315/2317 [============================>.] - ETA: 0s - loss: 0.0408\n",
      "Epoch 9: val_loss improved from 0.03570 to 0.03559, saving model to /Users/Brody1/Documents/Northwestern/Jiping/benchmarks/deep-learning/3conv_only_tiling_8.h5\n",
      "2317/2317 [==============================] - 55s 24ms/step - loss: 0.0409 - val_loss: 0.0356\n",
      "Epoch 10/10\n",
      "2317/2317 [==============================] - ETA: 0s - loss: 0.0405\n",
      "Epoch 10: val_loss did not improve from 0.03559\n",
      "2317/2317 [==============================] - 55s 24ms/step - loss: 0.0405 - val_loss: 0.0364\n"
     ]
    },
    {
     "name": "stderr",
     "output_type": "stream",
     "text": [
      "WARNING:absl:Found untraced functions such as _jit_compiled_convolution_op, _jit_compiled_convolution_op, _jit_compiled_convolution_op while saving (showing 3 of 3). These functions will not be directly callable after loading.\n"
     ]
    },
    {
     "name": "stdout",
     "output_type": "stream",
     "text": [
      "INFO:tensorflow:Assets written to: /Users/Brody1/Documents/Northwestern/Jiping/benchmarks/deep-learning/3conv_only_tiling_8/assets\n"
     ]
    },
    {
     "name": "stderr",
     "output_type": "stream",
     "text": [
      "INFO:tensorflow:Assets written to: /Users/Brody1/Documents/Northwestern/Jiping/benchmarks/deep-learning/3conv_only_tiling_8/assets\n"
     ]
    },
    {
     "name": "stdout",
     "output_type": "stream",
     "text": [
      "2317/2317 [==============================] - 26s 11ms/step\n",
      "2317/2317 [==============================] - 21s 9ms/step\n",
      "258/258 [==============================] - 2s 9ms/step\n",
      "258/258 [==============================] - 2s 9ms/step\n",
      "pre reshape: (None, 12, 1, 48)\n",
      "post reshape: (None, 576)\n",
      "(None, 1)\n",
      "Epoch 1/10\n",
      "2316/2317 [============================>.] - ETA: 0s - loss: 0.1525\n",
      "Epoch 1: val_loss improved from inf to 0.04461, saving model to /Users/Brody1/Documents/Northwestern/Jiping/benchmarks/deep-learning/3conv_only_tiling_9.h5\n",
      "2317/2317 [==============================] - 48s 20ms/step - loss: 0.1524 - val_loss: 0.0446\n",
      "Epoch 2/10\n",
      "2316/2317 [============================>.] - ETA: 0s - loss: 0.0511\n",
      "Epoch 2: val_loss improved from 0.04461 to 0.03969, saving model to /Users/Brody1/Documents/Northwestern/Jiping/benchmarks/deep-learning/3conv_only_tiling_9.h5\n",
      "2317/2317 [==============================] - 48s 21ms/step - loss: 0.0511 - val_loss: 0.0397\n",
      "Epoch 3/10\n",
      "2314/2317 [============================>.] - ETA: 0s - loss: 0.0463\n",
      "Epoch 3: val_loss did not improve from 0.03969\n",
      "2317/2317 [==============================] - 48s 21ms/step - loss: 0.0463 - val_loss: 0.0404\n",
      "Epoch 4/10\n",
      "2316/2317 [============================>.] - ETA: 0s - loss: 0.0444\n",
      "Epoch 4: val_loss improved from 0.03969 to 0.03781, saving model to /Users/Brody1/Documents/Northwestern/Jiping/benchmarks/deep-learning/3conv_only_tiling_9.h5\n",
      "2317/2317 [==============================] - 46s 20ms/step - loss: 0.0444 - val_loss: 0.0378\n",
      "Epoch 5/10\n",
      "2317/2317 [==============================] - ETA: 0s - loss: 0.0433\n",
      "Epoch 5: val_loss did not improve from 0.03781\n",
      "2317/2317 [==============================] - 47s 20ms/step - loss: 0.0433 - val_loss: 0.0399\n",
      "Epoch 6/10\n",
      "2316/2317 [============================>.] - ETA: 0s - loss: 0.0427\n",
      "Epoch 6: val_loss improved from 0.03781 to 0.03736, saving model to /Users/Brody1/Documents/Northwestern/Jiping/benchmarks/deep-learning/3conv_only_tiling_9.h5\n",
      "2317/2317 [==============================] - 50s 21ms/step - loss: 0.0427 - val_loss: 0.0374\n",
      "Epoch 7/10\n",
      "2317/2317 [==============================] - ETA: 0s - loss: 0.0419\n",
      "Epoch 7: val_loss improved from 0.03736 to 0.03611, saving model to /Users/Brody1/Documents/Northwestern/Jiping/benchmarks/deep-learning/3conv_only_tiling_9.h5\n",
      "2317/2317 [==============================] - 53s 23ms/step - loss: 0.0419 - val_loss: 0.0361\n",
      "Epoch 8/10\n",
      "2317/2317 [==============================] - ETA: 0s - loss: 0.0416\n",
      "Epoch 8: val_loss improved from 0.03611 to 0.03610, saving model to /Users/Brody1/Documents/Northwestern/Jiping/benchmarks/deep-learning/3conv_only_tiling_9.h5\n",
      "2317/2317 [==============================] - 52s 23ms/step - loss: 0.0416 - val_loss: 0.0361\n",
      "Epoch 9/10\n",
      "2314/2317 [============================>.] - ETA: 0s - loss: 0.0409\n",
      "Epoch 9: val_loss improved from 0.03610 to 0.03486, saving model to /Users/Brody1/Documents/Northwestern/Jiping/benchmarks/deep-learning/3conv_only_tiling_9.h5\n",
      "2317/2317 [==============================] - 55s 24ms/step - loss: 0.0409 - val_loss: 0.0349\n",
      "Epoch 10/10\n",
      "2315/2317 [============================>.] - ETA: 0s - loss: 0.0407\n",
      "Epoch 10: val_loss did not improve from 0.03486\n",
      "2317/2317 [==============================] - 52s 22ms/step - loss: 0.0406 - val_loss: 0.0349\n"
     ]
    },
    {
     "name": "stderr",
     "output_type": "stream",
     "text": [
      "WARNING:absl:Found untraced functions such as _jit_compiled_convolution_op, _jit_compiled_convolution_op, _jit_compiled_convolution_op while saving (showing 3 of 3). These functions will not be directly callable after loading.\n"
     ]
    },
    {
     "name": "stdout",
     "output_type": "stream",
     "text": [
      "INFO:tensorflow:Assets written to: /Users/Brody1/Documents/Northwestern/Jiping/benchmarks/deep-learning/3conv_only_tiling_9/assets\n"
     ]
    },
    {
     "name": "stderr",
     "output_type": "stream",
     "text": [
      "INFO:tensorflow:Assets written to: /Users/Brody1/Documents/Northwestern/Jiping/benchmarks/deep-learning/3conv_only_tiling_9/assets\n"
     ]
    },
    {
     "name": "stdout",
     "output_type": "stream",
     "text": [
      "2317/2317 [==============================] - 21s 9ms/step\n",
      "2317/2317 [==============================] - 20s 9ms/step\n",
      "258/258 [==============================] - 2s 9ms/step\n",
      "258/258 [==============================] - 2s 9ms/step\n",
      "pre reshape: (None, 12, 1, 48)\n",
      "post reshape: (None, 576)\n",
      "(None, 1)\n",
      "Epoch 1/10\n",
      "2315/2317 [============================>.] - ETA: 0s - loss: 0.1577\n",
      "Epoch 1: val_loss improved from inf to 0.05359, saving model to /Users/Brody1/Documents/Northwestern/Jiping/benchmarks/deep-learning/3conv_only_tiling_10.h5\n",
      "2317/2317 [==============================] - 53s 22ms/step - loss: 0.1577 - val_loss: 0.0536\n",
      "Epoch 2/10\n",
      "2316/2317 [============================>.] - ETA: 0s - loss: 0.0507\n",
      "Epoch 2: val_loss improved from 0.05359 to 0.04335, saving model to /Users/Brody1/Documents/Northwestern/Jiping/benchmarks/deep-learning/3conv_only_tiling_10.h5\n",
      "2317/2317 [==============================] - 53s 23ms/step - loss: 0.0507 - val_loss: 0.0433\n",
      "Epoch 3/10\n",
      "2317/2317 [==============================] - ETA: 0s - loss: 0.0463\n",
      "Epoch 3: val_loss improved from 0.04335 to 0.04282, saving model to /Users/Brody1/Documents/Northwestern/Jiping/benchmarks/deep-learning/3conv_only_tiling_10.h5\n",
      "2317/2317 [==============================] - 51s 22ms/step - loss: 0.0463 - val_loss: 0.0428\n",
      "Epoch 4/10\n",
      "2316/2317 [============================>.] - ETA: 0s - loss: 0.0440\n",
      "Epoch 4: val_loss improved from 0.04282 to 0.03986, saving model to /Users/Brody1/Documents/Northwestern/Jiping/benchmarks/deep-learning/3conv_only_tiling_10.h5\n",
      "2317/2317 [==============================] - 48s 21ms/step - loss: 0.0440 - val_loss: 0.0399\n",
      "Epoch 5/10\n",
      "2315/2317 [============================>.] - ETA: 0s - loss: 0.0428\n",
      "Epoch 5: val_loss improved from 0.03986 to 0.03944, saving model to /Users/Brody1/Documents/Northwestern/Jiping/benchmarks/deep-learning/3conv_only_tiling_10.h5\n",
      "2317/2317 [==============================] - 48s 21ms/step - loss: 0.0428 - val_loss: 0.0394\n",
      "Epoch 6/10\n",
      "2317/2317 [==============================] - ETA: 0s - loss: 0.0420\n",
      "Epoch 6: val_loss improved from 0.03944 to 0.03884, saving model to /Users/Brody1/Documents/Northwestern/Jiping/benchmarks/deep-learning/3conv_only_tiling_10.h5\n",
      "2317/2317 [==============================] - 50s 22ms/step - loss: 0.0420 - val_loss: 0.0388\n",
      "Epoch 7/10\n",
      "2315/2317 [============================>.] - ETA: 0s - loss: 0.0414\n",
      "Epoch 7: val_loss improved from 0.03884 to 0.03853, saving model to /Users/Brody1/Documents/Northwestern/Jiping/benchmarks/deep-learning/3conv_only_tiling_10.h5\n",
      "2317/2317 [==============================] - 54s 23ms/step - loss: 0.0414 - val_loss: 0.0385\n",
      "Epoch 8/10\n",
      "2316/2317 [============================>.] - ETA: 0s - loss: 0.0409\n",
      "Epoch 8: val_loss improved from 0.03853 to 0.03814, saving model to /Users/Brody1/Documents/Northwestern/Jiping/benchmarks/deep-learning/3conv_only_tiling_10.h5\n",
      "2317/2317 [==============================] - 47s 20ms/step - loss: 0.0409 - val_loss: 0.0381\n",
      "Epoch 9/10\n",
      "2315/2317 [============================>.] - ETA: 0s - loss: 0.0404\n",
      "Epoch 9: val_loss improved from 0.03814 to 0.03771, saving model to /Users/Brody1/Documents/Northwestern/Jiping/benchmarks/deep-learning/3conv_only_tiling_10.h5\n",
      "2317/2317 [==============================] - 48s 21ms/step - loss: 0.0404 - val_loss: 0.0377\n",
      "Epoch 10/10\n",
      "2315/2317 [============================>.] - ETA: 0s - loss: 0.0404\n",
      "Epoch 10: val_loss did not improve from 0.03771\n",
      "2317/2317 [==============================] - 42s 18ms/step - loss: 0.0404 - val_loss: 0.0383\n"
     ]
    },
    {
     "name": "stderr",
     "output_type": "stream",
     "text": [
      "WARNING:absl:Found untraced functions such as _jit_compiled_convolution_op, _jit_compiled_convolution_op, _jit_compiled_convolution_op while saving (showing 3 of 3). These functions will not be directly callable after loading.\n"
     ]
    },
    {
     "name": "stdout",
     "output_type": "stream",
     "text": [
      "INFO:tensorflow:Assets written to: /Users/Brody1/Documents/Northwestern/Jiping/benchmarks/deep-learning/3conv_only_tiling_10/assets\n"
     ]
    },
    {
     "name": "stderr",
     "output_type": "stream",
     "text": [
      "INFO:tensorflow:Assets written to: /Users/Brody1/Documents/Northwestern/Jiping/benchmarks/deep-learning/3conv_only_tiling_10/assets\n"
     ]
    },
    {
     "name": "stdout",
     "output_type": "stream",
     "text": [
      "2317/2317 [==============================] - 14s 6ms/step\n",
      "2317/2317 [==============================] - 19s 8ms/step\n",
      "258/258 [==============================] - 2s 7ms/step\n",
      "258/258 [==============================] - 2s 7ms/step\n"
     ]
    }
   ],
   "source": [
    "#### tiling\n",
    "\n",
    "VALIDATION_LOSS = []\n",
    "fold_var = 1\n",
    "n = Y5.shape[0]\n",
    "\n",
    "fits = []\n",
    "detrend = []\n",
    "times = []\n",
    "times2 = []\n",
    "\n",
    "for train_index, val_index in kf.split(Y5):\n",
    "    training_X = X5[train_index]\n",
    "    training_X_reverse = X5_reverse[train_index]\n",
    "    validation_X = X5[val_index]\n",
    "    validation_X_reverse = X5_reverse[val_index]\n",
    "    training_Y = Y5[train_index]\n",
    "    validation_Y = Y5[val_index]\n",
    "    # CREATE NEW MODEL\n",
    "    model = model_cycle()\n",
    "    # CREATE CALLBACKS\n",
    "    checkpoint = callbacks.ModelCheckpoint(save_path + model_name+\"_tiling_\"+str(fold_var)+\".h5\",\n",
    "                                                    monitor='val_loss', verbose=1,\n",
    "                                                    save_best_only=True, mode='min')\n",
    "    time_callback = TimeHistory()\n",
    "\n",
    "    history = model.fit(training_X, training_Y,\n",
    "                        epochs=num_epochs,\n",
    "                        callbacks= [checkpoint, time_callback],\n",
    "                        validation_data=(validation_X, validation_Y))\n",
    "    model.load_weights(save_path + model_name+\"_tiling_\"+str(fold_var)+\".h5\")\n",
    "    model.save(save_path+model_name+\"_tiling_\"+str(fold_var),save_traces=False)\n",
    "    times.append(time_callback.times)\n",
    "\n",
    "    pred_Y = model.predict(training_X)\n",
    "    pred_Y = pred_Y.reshape(pred_Y.shape[0])\n",
    "    pred_Y_reverse = model.predict(training_X_reverse)\n",
    "    pred_Y_reverse = pred_Y_reverse.reshape(pred_Y_reverse.shape[0])\n",
    "    pred_Y = (pred_Y+pred_Y_reverse)/2\n",
    "    reg =  LinearRegression().fit(array(pred_Y).reshape(-1, 1), array(training_Y).reshape(-1, 1))\n",
    "    \n",
    "    detrend_int = reg.intercept_\n",
    "    detrend_slope = reg.coef_\n",
    "    detrend.append([float(detrend_int), float(detrend_slope)])\n",
    "\n",
    "    # start_time = time.process_time()\n",
    "    # fit = model.predict(X1)\n",
    "    # fit = fit.reshape(fit.shape[0])\n",
    "    # fit_reverse = model.predict(X1_reverse)\n",
    "    # fit_reverse = fit_reverse.reshape(fit_reverse.shape[0])\n",
    "    # reverse_corr = np.corrcoef(fit, fit_reverse)[0,1]\n",
    "    # fit = (fit + fit_reverse)/2\n",
    "    # fit = fit.flatten()\n",
    "    # fit_tmp =[np.corrcoef(fit, Y1)[0,1],np.mean(np.square(fit-Y1)),np.mean(fit),np.std(fit),reverse_corr]\n",
    "    # fits.append(fit_tmp)\n",
    "    # fit = detrend_int + fit * detrend_slope\n",
    "    # fit = fit.flatten()\n",
    "    # fit_tmp =[np.corrcoef(fit, Y1)[0,1],np.mean(np.square(fit-Y1)),np.mean(fit),np.std(fit),reverse_corr]\n",
    "    # time0 = time.process_time() - start_time\n",
    "    # times2.append([time0])\n",
    "    # fits.append(fit_tmp)\n",
    "    \n",
    "    # start_time = time.process_time()\n",
    "    # fit = model.predict(X3)\n",
    "    # fit = fit.reshape(fit.shape[0])\n",
    "    # fit_reverse = model.predict(X3_reverse)\n",
    "    # fit_reverse = fit_reverse.reshape(fit_reverse.shape[0])\n",
    "    # reverse_corr = np.corrcoef(fit, fit_reverse)[0,1]\n",
    "    # fit = (fit + fit_reverse)/2\n",
    "    # fit = fit.flatten()\n",
    "    # fit_tmp =[np.corrcoef(fit, Y3)[0,1],np.mean(np.square(fit-Y3)),np.mean(fit),np.std(fit),reverse_corr]\n",
    "    # fits.append(fit_tmp)\n",
    "    # fit = detrend_int + fit * detrend_slope\n",
    "    # fit = fit.flatten()\n",
    "    # fit_tmp =[np.corrcoef(fit, Y3)[0,1],np.mean(np.square(fit-Y3)),np.mean(fit),np.std(fit),reverse_corr]\n",
    "    # time0 = time.process_time() - start_time\n",
    "    # times2.append([time0])\n",
    "    # fits.append(fit_tmp)\n",
    "    \n",
    "    start_time = time.process_time()\n",
    "    fit = model.predict(validation_X)\n",
    "    fit = fit.reshape(fit.shape[0])\n",
    "    fit_reverse = model.predict(validation_X_reverse)\n",
    "    fit_reverse = fit_reverse.reshape(fit_reverse.shape[0])\n",
    "    reverse_corr = np.corrcoef(fit, fit_reverse)[0,1]\n",
    "    fit = (fit + fit_reverse)/2\n",
    "    fit = fit.flatten()\n",
    "    fit_tmp =[np.corrcoef(fit, validation_Y)[0,1],np.mean(np.square(fit-validation_Y)),np.mean(fit),np.std(fit),reverse_corr]\n",
    "    fits.append(fit_tmp)\n",
    "    fit = detrend_int + fit * detrend_slope\n",
    "    fit = fit.flatten()\n",
    "    fit_tmp =[np.corrcoef(fit, validation_Y)[0,1],np.mean(np.square(fit-validation_Y)),np.mean(fit),np.std(fit),reverse_corr]\n",
    "    time0 = time.process_time() - start_time\n",
    "    times2.append([time0])\n",
    "    fits.append(fit_tmp)\n",
    "    \n",
    "    # start_time = time.process_time()\n",
    "    # fit = model.predict(X6)\n",
    "    # fit = fit.reshape(fit.shape[0])\n",
    "    # fit_reverse = model.predict(X6_reverse)\n",
    "    # fit_reverse = fit_reverse.reshape(fit_reverse.shape[0])\n",
    "    # reverse_corr = np.corrcoef(fit, fit_reverse)[0,1]\n",
    "    # fit = (fit + fit_reverse)/2\n",
    "    # fit = fit.flatten()\n",
    "    # fit_tmp =[np.corrcoef(fit, Y6)[0,1],np.mean(np.square(fit-Y6)),np.mean(fit),np.std(fit),reverse_corr]\n",
    "    # fits.append(fit_tmp)\n",
    "    # fit = detrend_int + fit * detrend_slope\n",
    "    # fit = fit.flatten()\n",
    "    # fit_tmp =[np.corrcoef(fit, Y6)[0,1],np.mean(np.square(fit-Y6)),np.mean(fit),np.std(fit),reverse_corr]\n",
    "    # time0 = time.process_time() - start_time\n",
    "    # times2.append([time0])\n",
    "    # fits.append(fit_tmp)\n",
    "    \n",
    "    K.clear_session()\n",
    "    fold_var += 1\n",
    "    \n",
    "detrend = array(detrend)\n",
    "detrend = pd.DataFrame(detrend)\n",
    "detrend.to_csv(save_path +model_name+\"_detrend_tiling.txt\", index = False)\n",
    "\n",
    "fits = array(fits)\n",
    "fits = pd.DataFrame((fits))\n",
    "fits.to_csv(save_path +model_name+ \"_fits_tiling.txt\", index = False)\n",
    "\n",
    "with open(save_path +model_name+\"_time_tiling.txt\", \"w\") as file:\n",
    "    for row in times:\n",
    "        s = \" \".join(map(str, row))\n",
    "        file.write(s+'\\n')\n",
    "\n",
    "with open(save_path +model_name+\"_pred_time_tiling.txt\", \"w\") as file:\n",
    "    for row in times2:\n",
    "        s = \" \".join(map(str, row))\n",
    "        file.write(s+'\\n')\n"
   ]
  },
  {
   "cell_type": "code",
   "execution_count": 74,
   "metadata": {},
   "outputs": [
    {
     "name": "stdout",
     "output_type": "stream",
     "text": [
      "Average correlation on tiling: 0.8714032667119962 \n",
      "Average MSE on tiling: 0.038828389130763266\n"
     ]
    }
   ],
   "source": [
    "# display_fits(fits)\n",
    "print(f\"Average correlation on tiling: {np.mean([fits[0][i] for i in range(fits[0].size) if (i % 2) == 0])}\",\n",
    "    f\"\\nAverage MSE on tiling: {np.mean([fits[1][i] for i in range(fits[1].size) if (i % 2) == 0])}\")\n"
   ]
  },
  {
   "cell_type": "code",
   "execution_count": null,
   "metadata": {},
   "outputs": [],
   "source": []
  }
 ],
 "metadata": {
  "kernelspec": {
   "display_name": "Python 3.7.13 ('myenv')",
   "language": "python",
   "name": "python3"
  },
  "language_info": {
   "codemirror_mode": {
    "name": "ipython",
    "version": 3
   },
   "file_extension": ".py",
   "mimetype": "text/x-python",
   "name": "python",
   "nbconvert_exporter": "python",
   "pygments_lexer": "ipython3",
   "version": "3.7.13"
  },
  "orig_nbformat": 4,
  "vscode": {
   "interpreter": {
    "hash": "f2cd633bf9703d9b8d2b7bb6e04b82983774c32d5f891ed1890ee26b779f7466"
   }
  }
 },
 "nbformat": 4,
 "nbformat_minor": 2
}
