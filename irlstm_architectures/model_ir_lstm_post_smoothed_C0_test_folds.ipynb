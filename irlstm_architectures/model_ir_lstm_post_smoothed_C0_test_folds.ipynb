{
 "cells": [
  {
   "cell_type": "code",
   "execution_count": 1,
   "metadata": {},
   "outputs": [],
   "source": [
    "import pandas as pd\n",
    "import numpy as np"
   ]
  },
  {
   "cell_type": "code",
   "execution_count": 2,
   "metadata": {},
   "outputs": [],
   "source": [
    "# INPUTS:\n",
    "\n",
    "data_folder_path = \"/Users/Brody1/Dropbox/Northwestern/DNA_Cyclizability/benchmarks/\"\n",
    "\n",
    "training_data_name = \"tiling\"\n",
    "# training_data_name = \"random\"\n",
    "# training_data_name = \"chrv\"\n",
    "# training_data_name = \"CN\"\n",
    "\n",
    "# training_column_name = \"smooth_10.4bp_cn_mean2\"\n",
    "training_column_name = \"smoothC0\"\n",
    "\n",
    "# model_identifier = \"smooth_104bp_cn_mean2\"\n",
    "model_identifier = \"smoothC0\""
   ]
  },
  {
   "cell_type": "code",
   "execution_count": 3,
   "metadata": {},
   "outputs": [],
   "source": [
    "fits = pd.read_csv(f\"{data_folder_path}ir_lstm_{model_identifier}_fits_{training_data_name}.txt\")"
   ]
  },
  {
   "cell_type": "code",
   "execution_count": 4,
   "metadata": {},
   "outputs": [
    {
     "name": "stdout",
     "output_type": "stream",
     "text": [
      "smoothC0 average prediction correlation on tiling (test folds): 0.98795\n",
      "\n",
      "smoothC0 average prediction correlation (detrended) on tiling (test folds): 0.98795\n"
     ]
    }
   ],
   "source": [
    "if training_data_name == \"tiling\":\n",
    "    data_name = \"tiling (test folds)\"\n",
    "else:\n",
    "    data_name = \"tiling\"\n",
    "\n",
    "print(f\"{training_column_name} average prediction correlation on {data_name}: {round(np.mean(fits.iloc[range(0,fits.shape[0],4),0]), 5)}\")\n",
    "\n",
    "print()\n",
    "\n",
    "print(f\"{training_column_name} average prediction correlation (detrended) on {data_name}: {round(np.mean(fits.iloc[range(1,fits.shape[0],4),0]), 5)}\")"
   ]
  },
  {
   "cell_type": "code",
   "execution_count": 15,
   "metadata": {},
   "outputs": [
    {
     "name": "stdout",
     "output_type": "stream",
     "text": [
      "smoothC0 average prediction correlation on chrv: 0.98458\n",
      "\n",
      "smoothC0 average prediction correlation (detrended) on chrv: 0.98458\n"
     ]
    }
   ],
   "source": [
    "if training_data_name == \"chrv\":\n",
    "    data_name = \"chrv (test folds)\"\n",
    "else:\n",
    "    data_name = \"chrv\"\n",
    "\n",
    "print(f\"{training_column_name} average prediction correlation on {data_name}: {round(np.mean(fits.iloc[range(2,fits.shape[0],4),0]), 5)}\")\n",
    "\n",
    "print()\n",
    "\n",
    "print(f\"{training_column_name} average prediction correlation (detrended) on {data_name}: {round(np.mean(fits.iloc[range(3,fits.shape[0],4),0]), 5)}\")"
   ]
  },
  {
   "cell_type": "code",
   "execution_count": null,
   "metadata": {},
   "outputs": [],
   "source": []
  },
  {
   "cell_type": "code",
   "execution_count": null,
   "metadata": {},
   "outputs": [],
   "source": []
  }
 ],
 "metadata": {
  "kernelspec": {
   "display_name": ".venv",
   "language": "python",
   "name": "python3"
  },
  "language_info": {
   "codemirror_mode": {
    "name": "ipython",
    "version": 3
   },
   "file_extension": ".py",
   "mimetype": "text/x-python",
   "name": "python",
   "nbconvert_exporter": "python",
   "pygments_lexer": "ipython3",
   "version": "3.11.0"
  }
 },
 "nbformat": 4,
 "nbformat_minor": 2
}
