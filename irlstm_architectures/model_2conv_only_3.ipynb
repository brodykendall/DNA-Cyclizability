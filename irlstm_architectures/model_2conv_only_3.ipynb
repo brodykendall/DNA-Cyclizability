{
 "cells": [
  {
   "cell_type": "code",
   "execution_count": 1,
   "metadata": {},
   "outputs": [
    {
     "name": "stderr",
     "output_type": "stream",
     "text": [
      "2023-04-11 09:54:50.159860: I tensorflow/core/platform/cpu_feature_guard.cc:193] This TensorFlow binary is optimized with oneAPI Deep Neural Network Library (oneDNN) to use the following CPU instructions in performance-critical operations:  SSE4.1 SSE4.2\n",
      "To enable them in other operations, rebuild TensorFlow with the appropriate compiler flags.\n"
     ]
    }
   ],
   "source": [
    "import time\n",
    "import keras\n",
    "\n",
    "from keras.models import Model\n",
    "from keras.layers import Dropout, Flatten, BatchNormalization, TimeDistributed, Input, Add, Concatenate\n",
    "from keras.layers import Dense, Conv2D, MaxPooling2D, LSTM, TimeDistributed, Reshape\n",
    "import keras.backend as K\n",
    "import keras.callbacks as callbacks\n",
    "\n",
    "import pandas as pd\n",
    "import numpy as np\n",
    "from numpy import array\n",
    "from sklearn.linear_model import LinearRegression\n",
    "from sklearn.model_selection import KFold"
   ]
  },
  {
   "cell_type": "code",
   "execution_count": 2,
   "metadata": {},
   "outputs": [],
   "source": [
    "\n",
    "save_path = \"/Users/Brody1/Documents/Northwestern/DNA_Cyclizability/benchmarks/deep-learning/\"\n",
    "model_name = \"2conv_only_3\"\n",
    "kf = KFold(n_splits = 10, shuffle =True)\n",
    "num_epochs = 10\n",
    "\n",
    "#### define functions ####\n",
    "\n",
    "def model_cycle():\n",
    "    inputs = Input(shape=(50, 4, 1))\n",
    "        \n",
    "    x = Conv2D(48, kernel_size=(3,4),\n",
    "                   activation='relu',\n",
    "                   padding='valid')(inputs)\n",
    "    x = MaxPooling2D((2,1),padding='same')(x)\n",
    "    x = BatchNormalization()(x)\n",
    "    x = Dropout(0.2)(x)\n",
    "\n",
    "    x = Conv2D(48, kernel_size=(31,1),\n",
    "                activation='relu',\n",
    "                padding='same')(x)\n",
    "    x = MaxPooling2D((2,1),padding='same')(x)\n",
    "    x = BatchNormalization()(x)\n",
    "    x = Dropout(0.2)(x)\n",
    "\n",
    "    # # parallel line 1\n",
    "    # fx1 = Conv2D(48, kernel_size=(3,1),\n",
    "    #                activation='relu',\n",
    "    #                padding='same')(x)\n",
    "    # fx1 = BatchNormalization()(fx1)\n",
    "    # fx1 = Dropout(0.2)(fx1)\n",
    "    # fx1 = Conv2D(48, kernel_size=(3,1),\n",
    "    #                activation='relu',\n",
    "    #                padding='same')(fx1)\n",
    "    # fx1 = MaxPooling2D((2,1),padding='same')(fx1)\n",
    "    # fx1 = BatchNormalization()(fx1)\n",
    "    # fx1 = Dropout(0.2)(fx1)\n",
    "    \n",
    "    # # parallel line 2\n",
    "    # fx2 = Conv2D(48, kernel_size=(11,1),\n",
    "    #                activation='relu',\n",
    "    #                padding='same')(x)\n",
    "    # fx2 = BatchNormalization()(fx2)\n",
    "    # fx2 = Dropout(0.2)(fx2)\n",
    "    # fx2 = Conv2D(48, kernel_size=(21,1),\n",
    "    #                activation='relu',\n",
    "    #                padding='same')(fx2)\n",
    "    # fx2 = MaxPooling2D((2,1),padding='same')(fx2)\n",
    "    # fx2 = BatchNormalization()(fx2)\n",
    "    # fx2 = Dropout(0.2)(fx2)\n",
    "    \n",
    "    # # # Add\n",
    "    # x1 = Concatenate(axis=-3)([fx1, fx2])\n",
    "    # x = Add()([x, x1])\n",
    "    # x = MaxPooling2D((2,1),padding='same')(x)\n",
    "    # x = BatchNormalization()(x)\n",
    "    # x = Dropout(0.2)(x)\n",
    "    \n",
    "    # x = Reshape((K.int_shape(x)[1], K.int_shape(x)[3]))(x)\n",
    "    # x = LSTM(20, return_sequences=False)(x)\n",
    "    # x = Dropout(0.2)(x)\n",
    "\n",
    "    # x = Reshape((1, 192))(x)\n",
    "    x = Flatten()(x)\n",
    "\n",
    "    outputs = Dense(1, activation='linear')(x)\n",
    "    network = Model(inputs, outputs)\n",
    "    network.compile(optimizer='rmsprop',\n",
    "                    loss='mean_squared_error')\n",
    "    return network\n",
    "    \n",
    "def dnaOneHot(sequence):\n",
    "    seq_array = array(list(sequence))\n",
    "    code = {\"A\": [0], \"C\": [1], \"G\": [2], \"T\": [3], \"N\": [4],\n",
    "            \"a\": [0], \"c\": [1], \"g\": [2], \"t\": [3], \"n\": [4]}\n",
    "    onehot_encoded_seq = []\n",
    "    for char in seq_array:\n",
    "        onehot_encoded = np.zeros(5)\n",
    "        onehot_encoded[code[char]] = 1\n",
    "        onehot_encoded_seq.append(onehot_encoded[0:4])\n",
    "    return onehot_encoded_seq\n",
    "\n"
   ]
  },
  {
   "cell_type": "code",
   "execution_count": 3,
   "metadata": {},
   "outputs": [],
   "source": [
    "def display_fits(fits):\n",
    "    print(f\"Average correlation on tiling: {np.mean([fits[0][i] for i in range(fits[0].size) if (i % 8) == 5])}\",\n",
    "          f\"\\nAverage MSE on tiling: {np.mean([fits[1][i] for i in range(fits[1].size) if (i % 8) == 5])}\",\n",
    "          f\"\\nAverage correlation on random: {np.mean([fits[0][i] for i in range(fits[0].size) if (i % 8) == 3])}\",\n",
    "          f\"\\nAverage MSE on random: {np.mean([fits[1][i] for i in range(fits[1].size) if (i % 8) == 3])}\",\n",
    "          f\"\\nAverage correlation on ChrV: {np.mean([fits[0][i] for i in range(fits[0].size) if (i % 8) == 7])}\",\n",
    "          f\"\\nAverage MSE on ChrV: {np.mean([fits[1][i] for i in range(fits[1].size) if (i % 8) == 7])}\",\n",
    "          f\"\\nAverage correlation on CN: {np.mean([fits[0][i] for i in range(fits[0].size) if (i % 8) == 0])}\",\n",
    "          f\"\\nAverage MSE on CN: {np.mean([fits[1][i] for i in range(fits[1].size) if (i % 8) == 0])}\")"
   ]
  },
  {
   "cell_type": "code",
   "execution_count": 4,
   "metadata": {},
   "outputs": [],
   "source": [
    "def find_c0new(dat):\n",
    "  mat = np.empty((3,3), float)\n",
    "  k = 2*np.pi/10.4\n",
    "  n = array([26, 29, 31])\n",
    "  mat[0:3,0] = 1\n",
    "  mat[0:3, 1] = np.sin(n*k)\n",
    "  mat[0:3, 2] = np.cos(n*k)\n",
    "  inv_mat = np.linalg.inv(mat)\n",
    "  c0A1A2 = array(np.matmul(dat[[\"n=26\", \"n=29\", \"n=31\"]], np.transpose(inv_mat)))\n",
    "  c0Aphi = c0A1A2\n",
    "  c0Aphi[:,0] = c0A1A2[:,0]\n",
    "  c0Aphi[:,1] = np.sqrt(c0A1A2[:,1]**2 + c0A1A2[:,2]**2)\n",
    "  c0Aphi[:,2] <- np.sign(c0A1A2[:,2]) * np.arccos(c0A1A2[:,1]/c0Aphi[:,1])\n",
    "  return c0Aphi[:,0]"
   ]
  },
  {
   "cell_type": "code",
   "execution_count": 5,
   "metadata": {},
   "outputs": [],
   "source": [
    "class TimeHistory(keras.callbacks.Callback):\n",
    "    def on_train_begin(self, logs={}):\n",
    "        self.times = []\n",
    "\n",
    "    def on_epoch_begin(self, batch, logs={}):\n",
    "        self.epoch_time_start = time.process_time()\n",
    "\n",
    "    def on_epoch_end(self, batch, logs={}):\n",
    "        self.times.append(time.process_time() - self.epoch_time_start)\n",
    "        \n",
    "#### preparing data ####\n",
    "\n",
    "data_cerevisiae_nucle = pd.read_csv(\"/Users/Brody1/Documents/Northwestern/DNA_Cyclizability/cycle1.txt\",delimiter = \",\")\n",
    "X1 = []\n",
    "for sequence_nt in data_cerevisiae_nucle[\"Sequence\"]:\n",
    "    X1.append(dnaOneHot(sequence_nt))\n",
    "X1 = array(X1)\n",
    "X1 = X1.reshape((X1.shape[0],50,4,1))\n",
    "X1_reverse = np.flip(X1,[1,2])\n",
    "# Y1 = data_cerevisiae_nucle[\"C0\"].values.astype(float)\n",
    "Y1 = find_c0new(data_cerevisiae_nucle).astype(float)\n"
   ]
  },
  {
   "cell_type": "code",
   "execution_count": 6,
   "metadata": {},
   "outputs": [],
   "source": [
    "data_random_library = pd.read_csv(\"/Users/Brody1/Documents/Northwestern/DNA_Cyclizability/cycle3.txt\",delimiter = \",\")\n",
    "X3 = []\n",
    "for sequence_nt in data_random_library[\"Sequence\"]:\n",
    "    X3.append(dnaOneHot(sequence_nt))\n",
    "X3 = array(X3)\n",
    "X3 = X3.reshape((X3.shape[0],50,4,1))\n",
    "X3_reverse = np.flip(X3,[1,2])\n",
    "# Y3 = data_random_library[\"C0\"].values.astype(float)\n",
    "Y3 = find_c0new(data_random_library).astype(float)\n"
   ]
  },
  {
   "cell_type": "code",
   "execution_count": 7,
   "metadata": {},
   "outputs": [],
   "source": [
    "data_tiling = pd.read_csv(\"/Users/Brody1/Documents/Northwestern/DNA_Cyclizability/cycle5.txt\",delimiter = \",\")\n",
    "X5 = []\n",
    "for sequence_nt in data_tiling[\"Sequence\"]:\n",
    "    X5.append(dnaOneHot(sequence_nt))\n",
    "X5 = array(X5)\n",
    "X5 = X5.reshape((X5.shape[0],50,4,1))\n",
    "X5_reverse = np.flip(X5,[1,2])\n",
    "# Y5 = data_tiling[\"C0\"].values.astype(float)\n",
    "Y5 = find_c0new(data_tiling).astype(float)\n",
    "\n"
   ]
  },
  {
   "cell_type": "code",
   "execution_count": 8,
   "metadata": {},
   "outputs": [],
   "source": [
    "data_chr5 = pd.read_csv(\"/Users/Brody1/Documents/Northwestern/DNA_Cyclizability/cycle6.txt\",delimiter = \",\")\n",
    "X6 = []\n",
    "for sequence_nt in data_chr5[\"Sequence\"]:\n",
    "    X6.append(dnaOneHot(sequence_nt))\n",
    "X6 = array(X6)\n",
    "X6 = X6.reshape((X6.shape[0],50,4,1))\n",
    "X6_reverse = np.flip(X6,[1,2])\n",
    "# Y6 = data_chr5[\"C0\"].values.astype(float)\n",
    "Y6 = find_c0new(data_chr5).astype(float)"
   ]
  },
  {
   "cell_type": "code",
   "execution_count": 9,
   "metadata": {},
   "outputs": [
    {
     "name": "stdout",
     "output_type": "stream",
     "text": [
      "Epoch 1/10\n"
     ]
    },
    {
     "name": "stderr",
     "output_type": "stream",
     "text": [
      "2023-04-11 09:56:04.939355: I tensorflow/core/platform/cpu_feature_guard.cc:193] This TensorFlow binary is optimized with oneAPI Deep Neural Network Library (oneDNN) to use the following CPU instructions in performance-critical operations:  SSE4.1 SSE4.2\n",
      "To enable them in other operations, rebuild TensorFlow with the appropriate compiler flags.\n"
     ]
    },
    {
     "name": "stdout",
     "output_type": "stream",
     "text": [
      "2315/2317 [============================>.] - ETA: 0s - loss: 0.2214\n",
      "Epoch 1: val_loss improved from inf to 0.08484, saving model to /Users/Brody1/Documents/Northwestern/DNA_Cyclizability/benchmarks/deep-learning/2conv_only_3_tiling_1.h5\n",
      "2317/2317 [==============================] - 19s 8ms/step - loss: 0.2214 - val_loss: 0.0848\n",
      "Epoch 2/10\n",
      "2312/2317 [============================>.] - ETA: 0s - loss: 0.0907\n",
      "Epoch 2: val_loss improved from 0.08484 to 0.07039, saving model to /Users/Brody1/Documents/Northwestern/DNA_Cyclizability/benchmarks/deep-learning/2conv_only_3_tiling_1.h5\n",
      "2317/2317 [==============================] - 17s 8ms/step - loss: 0.0907 - val_loss: 0.0704\n",
      "Epoch 3/10\n",
      "2317/2317 [==============================] - ETA: 0s - loss: 0.0821\n",
      "Epoch 3: val_loss improved from 0.07039 to 0.06433, saving model to /Users/Brody1/Documents/Northwestern/DNA_Cyclizability/benchmarks/deep-learning/2conv_only_3_tiling_1.h5\n",
      "2317/2317 [==============================] - 16s 7ms/step - loss: 0.0821 - val_loss: 0.0643\n",
      "Epoch 4/10\n",
      "2317/2317 [==============================] - ETA: 0s - loss: 0.0775\n",
      "Epoch 4: val_loss improved from 0.06433 to 0.06245, saving model to /Users/Brody1/Documents/Northwestern/DNA_Cyclizability/benchmarks/deep-learning/2conv_only_3_tiling_1.h5\n",
      "2317/2317 [==============================] - 16s 7ms/step - loss: 0.0775 - val_loss: 0.0625\n",
      "Epoch 5/10\n",
      "2315/2317 [============================>.] - ETA: 0s - loss: 0.0747\n",
      "Epoch 5: val_loss improved from 0.06245 to 0.06010, saving model to /Users/Brody1/Documents/Northwestern/DNA_Cyclizability/benchmarks/deep-learning/2conv_only_3_tiling_1.h5\n",
      "2317/2317 [==============================] - 16s 7ms/step - loss: 0.0747 - val_loss: 0.0601\n",
      "Epoch 6/10\n",
      "2310/2317 [============================>.] - ETA: 0s - loss: 0.0721\n",
      "Epoch 6: val_loss did not improve from 0.06010\n",
      "2317/2317 [==============================] - 16s 7ms/step - loss: 0.0721 - val_loss: 0.0641\n",
      "Epoch 7/10\n",
      "2311/2317 [============================>.] - ETA: 0s - loss: 0.0705\n",
      "Epoch 7: val_loss improved from 0.06010 to 0.05730, saving model to /Users/Brody1/Documents/Northwestern/DNA_Cyclizability/benchmarks/deep-learning/2conv_only_3_tiling_1.h5\n",
      "2317/2317 [==============================] - 17s 7ms/step - loss: 0.0705 - val_loss: 0.0573\n",
      "Epoch 8/10\n",
      "2316/2317 [============================>.] - ETA: 0s - loss: 0.0694\n",
      "Epoch 8: val_loss did not improve from 0.05730\n",
      "2317/2317 [==============================] - 17s 7ms/step - loss: 0.0694 - val_loss: 0.0582\n",
      "Epoch 9/10\n",
      "2316/2317 [============================>.] - ETA: 0s - loss: 0.0683\n",
      "Epoch 9: val_loss did not improve from 0.05730\n",
      "2317/2317 [==============================] - 17s 7ms/step - loss: 0.0683 - val_loss: 0.0622\n",
      "Epoch 10/10\n",
      "2311/2317 [============================>.] - ETA: 0s - loss: 0.0670\n",
      "Epoch 10: val_loss improved from 0.05730 to 0.05659, saving model to /Users/Brody1/Documents/Northwestern/DNA_Cyclizability/benchmarks/deep-learning/2conv_only_3_tiling_1.h5\n",
      "2317/2317 [==============================] - 19s 8ms/step - loss: 0.0670 - val_loss: 0.0566\n"
     ]
    },
    {
     "name": "stderr",
     "output_type": "stream",
     "text": [
      "WARNING:absl:Found untraced functions such as _jit_compiled_convolution_op, _jit_compiled_convolution_op while saving (showing 2 of 2). These functions will not be directly callable after loading.\n"
     ]
    },
    {
     "name": "stdout",
     "output_type": "stream",
     "text": [
      "INFO:tensorflow:Assets written to: /Users/Brody1/Documents/Northwestern/DNA_Cyclizability/benchmarks/deep-learning/2conv_only_3_tiling_1/assets\n"
     ]
    },
    {
     "name": "stderr",
     "output_type": "stream",
     "text": [
      "INFO:tensorflow:Assets written to: /Users/Brody1/Documents/Northwestern/DNA_Cyclizability/benchmarks/deep-learning/2conv_only_3_tiling_1/assets\n"
     ]
    },
    {
     "name": "stdout",
     "output_type": "stream",
     "text": [
      "2317/2317 [==============================] - 6s 2ms/step\n",
      "2317/2317 [==============================] - 6s 3ms/step\n",
      "623/623 [==============================] - 2s 3ms/step\n",
      "623/623 [==============================] - 2s 3ms/step\n",
      "390/390 [==============================] - 1s 2ms/step\n",
      "390/390 [==============================] - 1s 2ms/step\n",
      "258/258 [==============================] - 1s 3ms/step\n",
      "258/258 [==============================] - 1s 2ms/step\n",
      "2576/2576 [==============================] - 7s 3ms/step\n",
      "2576/2576 [==============================] - 8s 3ms/step\n",
      "Epoch 1/10\n",
      "2316/2317 [============================>.] - ETA: 0s - loss: 0.2211\n",
      "Epoch 1: val_loss improved from inf to 0.08092, saving model to /Users/Brody1/Documents/Northwestern/DNA_Cyclizability/benchmarks/deep-learning/2conv_only_3_tiling_2.h5\n",
      "2317/2317 [==============================] - 19s 8ms/step - loss: 0.2211 - val_loss: 0.0809\n",
      "Epoch 2/10\n",
      "2313/2317 [============================>.] - ETA: 0s - loss: 0.0902\n",
      "Epoch 2: val_loss improved from 0.08092 to 0.07158, saving model to /Users/Brody1/Documents/Northwestern/DNA_Cyclizability/benchmarks/deep-learning/2conv_only_3_tiling_2.h5\n",
      "2317/2317 [==============================] - 20s 9ms/step - loss: 0.0901 - val_loss: 0.0716\n",
      "Epoch 3/10\n",
      "2314/2317 [============================>.] - ETA: 0s - loss: 0.0800\n",
      "Epoch 3: val_loss improved from 0.07158 to 0.06600, saving model to /Users/Brody1/Documents/Northwestern/DNA_Cyclizability/benchmarks/deep-learning/2conv_only_3_tiling_2.h5\n",
      "2317/2317 [==============================] - 23s 10ms/step - loss: 0.0800 - val_loss: 0.0660\n",
      "Epoch 4/10\n",
      "2310/2317 [============================>.] - ETA: 0s - loss: 0.0756\n",
      "Epoch 4: val_loss improved from 0.06600 to 0.06219, saving model to /Users/Brody1/Documents/Northwestern/DNA_Cyclizability/benchmarks/deep-learning/2conv_only_3_tiling_2.h5\n",
      "2317/2317 [==============================] - 20s 9ms/step - loss: 0.0755 - val_loss: 0.0622\n",
      "Epoch 5/10\n",
      "2317/2317 [==============================] - ETA: 0s - loss: 0.0733\n",
      "Epoch 5: val_loss improved from 0.06219 to 0.06103, saving model to /Users/Brody1/Documents/Northwestern/DNA_Cyclizability/benchmarks/deep-learning/2conv_only_3_tiling_2.h5\n",
      "2317/2317 [==============================] - 26s 11ms/step - loss: 0.0733 - val_loss: 0.0610\n",
      "Epoch 6/10\n",
      "2315/2317 [============================>.] - ETA: 0s - loss: 0.0705\n",
      "Epoch 6: val_loss improved from 0.06103 to 0.05946, saving model to /Users/Brody1/Documents/Northwestern/DNA_Cyclizability/benchmarks/deep-learning/2conv_only_3_tiling_2.h5\n",
      "2317/2317 [==============================] - 27s 12ms/step - loss: 0.0705 - val_loss: 0.0595\n",
      "Epoch 7/10\n",
      "2313/2317 [============================>.] - ETA: 0s - loss: 0.0693\n",
      "Epoch 7: val_loss did not improve from 0.05946\n",
      "2317/2317 [==============================] - 27s 12ms/step - loss: 0.0693 - val_loss: 0.0643\n",
      "Epoch 8/10\n",
      "2316/2317 [============================>.] - ETA: 0s - loss: 0.0681\n",
      "Epoch 8: val_loss did not improve from 0.05946\n",
      "2317/2317 [==============================] - 28s 12ms/step - loss: 0.0681 - val_loss: 0.0618\n",
      "Epoch 9/10\n",
      "2316/2317 [============================>.] - ETA: 0s - loss: 0.0669\n",
      "Epoch 9: val_loss improved from 0.05946 to 0.05898, saving model to /Users/Brody1/Documents/Northwestern/DNA_Cyclizability/benchmarks/deep-learning/2conv_only_3_tiling_2.h5\n",
      "2317/2317 [==============================] - 27s 12ms/step - loss: 0.0669 - val_loss: 0.0590\n",
      "Epoch 10/10\n",
      "2315/2317 [============================>.] - ETA: 0s - loss: 0.0661\n",
      "Epoch 10: val_loss improved from 0.05898 to 0.05856, saving model to /Users/Brody1/Documents/Northwestern/DNA_Cyclizability/benchmarks/deep-learning/2conv_only_3_tiling_2.h5\n",
      "2317/2317 [==============================] - 30s 13ms/step - loss: 0.0661 - val_loss: 0.0586\n"
     ]
    },
    {
     "name": "stderr",
     "output_type": "stream",
     "text": [
      "WARNING:absl:Found untraced functions such as _jit_compiled_convolution_op, _jit_compiled_convolution_op while saving (showing 2 of 2). These functions will not be directly callable after loading.\n"
     ]
    },
    {
     "name": "stdout",
     "output_type": "stream",
     "text": [
      "INFO:tensorflow:Assets written to: /Users/Brody1/Documents/Northwestern/DNA_Cyclizability/benchmarks/deep-learning/2conv_only_3_tiling_2/assets\n"
     ]
    },
    {
     "name": "stderr",
     "output_type": "stream",
     "text": [
      "INFO:tensorflow:Assets written to: /Users/Brody1/Documents/Northwestern/DNA_Cyclizability/benchmarks/deep-learning/2conv_only_3_tiling_2/assets\n"
     ]
    },
    {
     "name": "stdout",
     "output_type": "stream",
     "text": [
      "2317/2317 [==============================] - 10s 4ms/step\n",
      "2317/2317 [==============================] - 11s 5ms/step\n",
      "623/623 [==============================] - 3s 5ms/step\n",
      "623/623 [==============================] - 3s 5ms/step\n",
      "390/390 [==============================] - 2s 5ms/step\n",
      "390/390 [==============================] - 2s 5ms/step\n",
      "258/258 [==============================] - 1s 5ms/step\n",
      "258/258 [==============================] - 1s 5ms/step\n",
      "2576/2576 [==============================] - 11s 4ms/step\n",
      "2576/2576 [==============================] - 13s 5ms/step\n",
      "Epoch 1/10\n",
      "2313/2317 [============================>.] - ETA: 0s - loss: 0.2159\n",
      "Epoch 1: val_loss improved from inf to 0.10967, saving model to /Users/Brody1/Documents/Northwestern/DNA_Cyclizability/benchmarks/deep-learning/2conv_only_3_tiling_3.h5\n",
      "2317/2317 [==============================] - 31s 13ms/step - loss: 0.2158 - val_loss: 0.1097\n",
      "Epoch 2/10\n",
      "2314/2317 [============================>.] - ETA: 0s - loss: 0.0895\n",
      "Epoch 2: val_loss improved from 0.10967 to 0.06926, saving model to /Users/Brody1/Documents/Northwestern/DNA_Cyclizability/benchmarks/deep-learning/2conv_only_3_tiling_3.h5\n",
      "2317/2317 [==============================] - 28s 12ms/step - loss: 0.0895 - val_loss: 0.0693\n",
      "Epoch 3/10\n",
      "2314/2317 [============================>.] - ETA: 0s - loss: 0.0807\n",
      "Epoch 3: val_loss did not improve from 0.06926\n",
      "2317/2317 [==============================] - 26s 11ms/step - loss: 0.0807 - val_loss: 0.0699\n",
      "Epoch 4/10\n",
      "2312/2317 [============================>.] - ETA: 0s - loss: 0.0762\n",
      "Epoch 4: val_loss improved from 0.06926 to 0.06276, saving model to /Users/Brody1/Documents/Northwestern/DNA_Cyclizability/benchmarks/deep-learning/2conv_only_3_tiling_3.h5\n",
      "2317/2317 [==============================] - 29s 13ms/step - loss: 0.0761 - val_loss: 0.0628\n",
      "Epoch 5/10\n",
      "2312/2317 [============================>.] - ETA: 0s - loss: 0.0736\n",
      "Epoch 5: val_loss did not improve from 0.06276\n",
      "2317/2317 [==============================] - 26s 11ms/step - loss: 0.0736 - val_loss: 0.0628\n",
      "Epoch 6/10\n",
      "2317/2317 [==============================] - ETA: 0s - loss: 0.0713\n",
      "Epoch 6: val_loss improved from 0.06276 to 0.06164, saving model to /Users/Brody1/Documents/Northwestern/DNA_Cyclizability/benchmarks/deep-learning/2conv_only_3_tiling_3.h5\n",
      "2317/2317 [==============================] - 21s 9ms/step - loss: 0.0713 - val_loss: 0.0616\n",
      "Epoch 7/10\n",
      "2316/2317 [============================>.] - ETA: 0s - loss: 0.0700\n",
      "Epoch 7: val_loss improved from 0.06164 to 0.06088, saving model to /Users/Brody1/Documents/Northwestern/DNA_Cyclizability/benchmarks/deep-learning/2conv_only_3_tiling_3.h5\n",
      "2317/2317 [==============================] - 17s 7ms/step - loss: 0.0700 - val_loss: 0.0609\n",
      "Epoch 8/10\n",
      "2311/2317 [============================>.] - ETA: 0s - loss: 0.0682\n",
      "Epoch 8: val_loss did not improve from 0.06088\n",
      "2317/2317 [==============================] - 20s 9ms/step - loss: 0.0682 - val_loss: 0.0617\n",
      "Epoch 9/10\n",
      "2317/2317 [==============================] - ETA: 0s - loss: 0.0670\n",
      "Epoch 9: val_loss improved from 0.06088 to 0.05869, saving model to /Users/Brody1/Documents/Northwestern/DNA_Cyclizability/benchmarks/deep-learning/2conv_only_3_tiling_3.h5\n",
      "2317/2317 [==============================] - 21s 9ms/step - loss: 0.0670 - val_loss: 0.0587\n",
      "Epoch 10/10\n",
      "2312/2317 [============================>.] - ETA: 0s - loss: 0.0663\n",
      "Epoch 10: val_loss did not improve from 0.05869\n",
      "2317/2317 [==============================] - 23s 10ms/step - loss: 0.0663 - val_loss: 0.0594\n"
     ]
    },
    {
     "name": "stderr",
     "output_type": "stream",
     "text": [
      "WARNING:absl:Found untraced functions such as _jit_compiled_convolution_op, _jit_compiled_convolution_op while saving (showing 2 of 2). These functions will not be directly callable after loading.\n"
     ]
    },
    {
     "name": "stdout",
     "output_type": "stream",
     "text": [
      "INFO:tensorflow:Assets written to: /Users/Brody1/Documents/Northwestern/DNA_Cyclizability/benchmarks/deep-learning/2conv_only_3_tiling_3/assets\n"
     ]
    },
    {
     "name": "stderr",
     "output_type": "stream",
     "text": [
      "INFO:tensorflow:Assets written to: /Users/Brody1/Documents/Northwestern/DNA_Cyclizability/benchmarks/deep-learning/2conv_only_3_tiling_3/assets\n"
     ]
    },
    {
     "name": "stdout",
     "output_type": "stream",
     "text": [
      "2317/2317 [==============================] - 9s 4ms/step\n",
      "2317/2317 [==============================] - 9s 4ms/step\n",
      "623/623 [==============================] - 2s 4ms/step\n",
      "623/623 [==============================] - 3s 4ms/step\n",
      "390/390 [==============================] - 1s 4ms/step\n",
      "390/390 [==============================] - 1s 4ms/step\n",
      "258/258 [==============================] - 1s 4ms/step\n",
      "258/258 [==============================] - 1s 4ms/step\n",
      "2576/2576 [==============================] - 10s 4ms/step\n",
      "2576/2576 [==============================] - 10s 4ms/step\n",
      "Epoch 1/10\n",
      "2313/2317 [============================>.] - ETA: 0s - loss: 0.2305\n",
      "Epoch 1: val_loss improved from inf to 0.09193, saving model to /Users/Brody1/Documents/Northwestern/DNA_Cyclizability/benchmarks/deep-learning/2conv_only_3_tiling_4.h5\n",
      "2317/2317 [==============================] - 25s 10ms/step - loss: 0.2303 - val_loss: 0.0919\n",
      "Epoch 2/10\n",
      "2316/2317 [============================>.] - ETA: 0s - loss: 0.0912\n",
      "Epoch 2: val_loss improved from 0.09193 to 0.06787, saving model to /Users/Brody1/Documents/Northwestern/DNA_Cyclizability/benchmarks/deep-learning/2conv_only_3_tiling_4.h5\n",
      "2317/2317 [==============================] - 23s 10ms/step - loss: 0.0912 - val_loss: 0.0679\n",
      "Epoch 3/10\n",
      "2316/2317 [============================>.] - ETA: 0s - loss: 0.0812\n",
      "Epoch 3: val_loss did not improve from 0.06787\n",
      "2317/2317 [==============================] - 23s 10ms/step - loss: 0.0812 - val_loss: 0.0680\n",
      "Epoch 4/10\n",
      "2313/2317 [============================>.] - ETA: 0s - loss: 0.0767\n",
      "Epoch 4: val_loss improved from 0.06787 to 0.06508, saving model to /Users/Brody1/Documents/Northwestern/DNA_Cyclizability/benchmarks/deep-learning/2conv_only_3_tiling_4.h5\n",
      "2317/2317 [==============================] - 24s 10ms/step - loss: 0.0767 - val_loss: 0.0651\n",
      "Epoch 5/10\n",
      "2313/2317 [============================>.] - ETA: 0s - loss: 0.0739\n",
      "Epoch 5: val_loss improved from 0.06508 to 0.06447, saving model to /Users/Brody1/Documents/Northwestern/DNA_Cyclizability/benchmarks/deep-learning/2conv_only_3_tiling_4.h5\n",
      "2317/2317 [==============================] - 24s 10ms/step - loss: 0.0739 - val_loss: 0.0645\n",
      "Epoch 6/10\n",
      "2312/2317 [============================>.] - ETA: 0s - loss: 0.0722\n",
      "Epoch 6: val_loss improved from 0.06447 to 0.05987, saving model to /Users/Brody1/Documents/Northwestern/DNA_Cyclizability/benchmarks/deep-learning/2conv_only_3_tiling_4.h5\n",
      "2317/2317 [==============================] - 25s 11ms/step - loss: 0.0722 - val_loss: 0.0599\n",
      "Epoch 7/10\n",
      "2314/2317 [============================>.] - ETA: 0s - loss: 0.0701\n",
      "Epoch 7: val_loss improved from 0.05987 to 0.05774, saving model to /Users/Brody1/Documents/Northwestern/DNA_Cyclizability/benchmarks/deep-learning/2conv_only_3_tiling_4.h5\n",
      "2317/2317 [==============================] - 25s 11ms/step - loss: 0.0701 - val_loss: 0.0577\n",
      "Epoch 8/10\n",
      "2315/2317 [============================>.] - ETA: 0s - loss: 0.0688\n",
      "Epoch 8: val_loss did not improve from 0.05774\n",
      "2317/2317 [==============================] - 24s 10ms/step - loss: 0.0688 - val_loss: 0.0602\n",
      "Epoch 9/10\n",
      "2313/2317 [============================>.] - ETA: 0s - loss: 0.0681\n",
      "Epoch 9: val_loss did not improve from 0.05774\n",
      "2317/2317 [==============================] - 22s 10ms/step - loss: 0.0681 - val_loss: 0.0605\n",
      "Epoch 10/10\n",
      "2312/2317 [============================>.] - ETA: 0s - loss: 0.0667\n",
      "Epoch 10: val_loss improved from 0.05774 to 0.05563, saving model to /Users/Brody1/Documents/Northwestern/DNA_Cyclizability/benchmarks/deep-learning/2conv_only_3_tiling_4.h5\n",
      "2317/2317 [==============================] - 23s 10ms/step - loss: 0.0667 - val_loss: 0.0556\n"
     ]
    },
    {
     "name": "stderr",
     "output_type": "stream",
     "text": [
      "WARNING:absl:Found untraced functions such as _jit_compiled_convolution_op, _jit_compiled_convolution_op while saving (showing 2 of 2). These functions will not be directly callable after loading.\n"
     ]
    },
    {
     "name": "stdout",
     "output_type": "stream",
     "text": [
      "INFO:tensorflow:Assets written to: /Users/Brody1/Documents/Northwestern/DNA_Cyclizability/benchmarks/deep-learning/2conv_only_3_tiling_4/assets\n"
     ]
    },
    {
     "name": "stderr",
     "output_type": "stream",
     "text": [
      "INFO:tensorflow:Assets written to: /Users/Brody1/Documents/Northwestern/DNA_Cyclizability/benchmarks/deep-learning/2conv_only_3_tiling_4/assets\n"
     ]
    },
    {
     "name": "stdout",
     "output_type": "stream",
     "text": [
      "2317/2317 [==============================] - 9s 4ms/step\n",
      "2317/2317 [==============================] - 10s 4ms/step\n",
      "623/623 [==============================] - 3s 4ms/step\n",
      "623/623 [==============================] - 3s 4ms/step\n",
      "390/390 [==============================] - 2s 4ms/step\n",
      "390/390 [==============================] - 2s 4ms/step\n",
      "258/258 [==============================] - 1s 4ms/step\n",
      "258/258 [==============================] - 1s 4ms/step\n",
      "2576/2576 [==============================] - 11s 4ms/step\n",
      "2576/2576 [==============================] - 11s 4ms/step\n",
      "Epoch 1/10\n",
      "2314/2317 [============================>.] - ETA: 0s - loss: 0.2343\n",
      "Epoch 1: val_loss improved from inf to 0.08061, saving model to /Users/Brody1/Documents/Northwestern/DNA_Cyclizability/benchmarks/deep-learning/2conv_only_3_tiling_5.h5\n",
      "2317/2317 [==============================] - 28s 12ms/step - loss: 0.2342 - val_loss: 0.0806\n",
      "Epoch 2/10\n",
      "2313/2317 [============================>.] - ETA: 0s - loss: 0.0909\n",
      "Epoch 2: val_loss improved from 0.08061 to 0.06514, saving model to /Users/Brody1/Documents/Northwestern/DNA_Cyclizability/benchmarks/deep-learning/2conv_only_3_tiling_5.h5\n",
      "2317/2317 [==============================] - 27s 12ms/step - loss: 0.0909 - val_loss: 0.0651\n",
      "Epoch 3/10\n",
      "2314/2317 [============================>.] - ETA: 0s - loss: 0.0819\n",
      "Epoch 3: val_loss improved from 0.06514 to 0.05948, saving model to /Users/Brody1/Documents/Northwestern/DNA_Cyclizability/benchmarks/deep-learning/2conv_only_3_tiling_5.h5\n",
      "2317/2317 [==============================] - 27s 12ms/step - loss: 0.0819 - val_loss: 0.0595\n",
      "Epoch 4/10\n",
      "2313/2317 [============================>.] - ETA: 0s - loss: 0.0776\n",
      "Epoch 4: val_loss improved from 0.05948 to 0.05790, saving model to /Users/Brody1/Documents/Northwestern/DNA_Cyclizability/benchmarks/deep-learning/2conv_only_3_tiling_5.h5\n",
      "2317/2317 [==============================] - 27s 12ms/step - loss: 0.0776 - val_loss: 0.0579\n",
      "Epoch 5/10\n",
      "2313/2317 [============================>.] - ETA: 0s - loss: 0.0747\n",
      "Epoch 5: val_loss improved from 0.05790 to 0.05505, saving model to /Users/Brody1/Documents/Northwestern/DNA_Cyclizability/benchmarks/deep-learning/2conv_only_3_tiling_5.h5\n",
      "2317/2317 [==============================] - 35s 15ms/step - loss: 0.0747 - val_loss: 0.0551\n",
      "Epoch 6/10\n",
      "2316/2317 [============================>.] - ETA: 0s - loss: 0.0724\n",
      "Epoch 6: val_loss did not improve from 0.05505\n",
      "2317/2317 [==============================] - 30s 13ms/step - loss: 0.0724 - val_loss: 0.0574\n",
      "Epoch 7/10\n",
      "2314/2317 [============================>.] - ETA: 0s - loss: 0.0709\n",
      "Epoch 7: val_loss improved from 0.05505 to 0.05399, saving model to /Users/Brody1/Documents/Northwestern/DNA_Cyclizability/benchmarks/deep-learning/2conv_only_3_tiling_5.h5\n",
      "2317/2317 [==============================] - 31s 13ms/step - loss: 0.0709 - val_loss: 0.0540\n",
      "Epoch 8/10\n",
      "2316/2317 [============================>.] - ETA: 0s - loss: 0.0700\n",
      "Epoch 8: val_loss did not improve from 0.05399\n",
      "2317/2317 [==============================] - 31s 13ms/step - loss: 0.0700 - val_loss: 0.0572\n",
      "Epoch 9/10\n",
      "2316/2317 [============================>.] - ETA: 0s - loss: 0.0683\n",
      "Epoch 9: val_loss improved from 0.05399 to 0.05206, saving model to /Users/Brody1/Documents/Northwestern/DNA_Cyclizability/benchmarks/deep-learning/2conv_only_3_tiling_5.h5\n",
      "2317/2317 [==============================] - 31s 13ms/step - loss: 0.0683 - val_loss: 0.0521\n",
      "Epoch 10/10\n",
      "2317/2317 [==============================] - ETA: 0s - loss: 0.0680\n",
      "Epoch 10: val_loss improved from 0.05206 to 0.05194, saving model to /Users/Brody1/Documents/Northwestern/DNA_Cyclizability/benchmarks/deep-learning/2conv_only_3_tiling_5.h5\n",
      "2317/2317 [==============================] - 30s 13ms/step - loss: 0.0680 - val_loss: 0.0519\n"
     ]
    },
    {
     "name": "stderr",
     "output_type": "stream",
     "text": [
      "WARNING:absl:Found untraced functions such as _jit_compiled_convolution_op, _jit_compiled_convolution_op while saving (showing 2 of 2). These functions will not be directly callable after loading.\n"
     ]
    },
    {
     "name": "stdout",
     "output_type": "stream",
     "text": [
      "INFO:tensorflow:Assets written to: /Users/Brody1/Documents/Northwestern/DNA_Cyclizability/benchmarks/deep-learning/2conv_only_3_tiling_5/assets\n"
     ]
    },
    {
     "name": "stderr",
     "output_type": "stream",
     "text": [
      "INFO:tensorflow:Assets written to: /Users/Brody1/Documents/Northwestern/DNA_Cyclizability/benchmarks/deep-learning/2conv_only_3_tiling_5/assets\n"
     ]
    },
    {
     "name": "stdout",
     "output_type": "stream",
     "text": [
      "2317/2317 [==============================] - 10s 4ms/step\n",
      "2317/2317 [==============================] - 10s 4ms/step\n",
      "623/623 [==============================] - 3s 4ms/step\n",
      "623/623 [==============================] - 3s 4ms/step\n",
      "390/390 [==============================] - 2s 5ms/step\n",
      "390/390 [==============================] - 2s 4ms/step\n",
      "258/258 [==============================] - 1s 4ms/step\n",
      "258/258 [==============================] - 1s 4ms/step\n",
      "2576/2576 [==============================] - 11s 4ms/step\n",
      "2576/2576 [==============================] - 11s 4ms/step\n",
      "Epoch 1/10\n",
      "2316/2317 [============================>.] - ETA: 0s - loss: 0.2281\n",
      "Epoch 1: val_loss improved from inf to 0.08436, saving model to /Users/Brody1/Documents/Northwestern/DNA_Cyclizability/benchmarks/deep-learning/2conv_only_3_tiling_6.h5\n",
      "2317/2317 [==============================] - 32s 14ms/step - loss: 0.2281 - val_loss: 0.0844\n",
      "Epoch 2/10\n",
      "2317/2317 [==============================] - ETA: 0s - loss: 0.0914\n",
      "Epoch 2: val_loss improved from 0.08436 to 0.06995, saving model to /Users/Brody1/Documents/Northwestern/DNA_Cyclizability/benchmarks/deep-learning/2conv_only_3_tiling_6.h5\n",
      "2317/2317 [==============================] - 32s 14ms/step - loss: 0.0914 - val_loss: 0.0700\n",
      "Epoch 3/10\n",
      "2314/2317 [============================>.] - ETA: 0s - loss: 0.0807\n",
      "Epoch 3: val_loss improved from 0.06995 to 0.06597, saving model to /Users/Brody1/Documents/Northwestern/DNA_Cyclizability/benchmarks/deep-learning/2conv_only_3_tiling_6.h5\n",
      "2317/2317 [==============================] - 32s 14ms/step - loss: 0.0808 - val_loss: 0.0660\n",
      "Epoch 4/10\n",
      "2316/2317 [============================>.] - ETA: 0s - loss: 0.0768\n",
      "Epoch 4: val_loss improved from 0.06597 to 0.06395, saving model to /Users/Brody1/Documents/Northwestern/DNA_Cyclizability/benchmarks/deep-learning/2conv_only_3_tiling_6.h5\n",
      "2317/2317 [==============================] - 31s 14ms/step - loss: 0.0768 - val_loss: 0.0640\n",
      "Epoch 5/10\n",
      "2314/2317 [============================>.] - ETA: 0s - loss: 0.0737\n",
      "Epoch 5: val_loss improved from 0.06395 to 0.06000, saving model to /Users/Brody1/Documents/Northwestern/DNA_Cyclizability/benchmarks/deep-learning/2conv_only_3_tiling_6.h5\n",
      "2317/2317 [==============================] - 32s 14ms/step - loss: 0.0737 - val_loss: 0.0600\n",
      "Epoch 6/10\n",
      "2315/2317 [============================>.] - ETA: 0s - loss: 0.0712\n",
      "Epoch 6: val_loss improved from 0.06000 to 0.05985, saving model to /Users/Brody1/Documents/Northwestern/DNA_Cyclizability/benchmarks/deep-learning/2conv_only_3_tiling_6.h5\n",
      "2317/2317 [==============================] - 32s 14ms/step - loss: 0.0712 - val_loss: 0.0598\n",
      "Epoch 7/10\n",
      "2317/2317 [==============================] - ETA: 0s - loss: 0.0697\n",
      "Epoch 7: val_loss did not improve from 0.05985\n",
      "2317/2317 [==============================] - 32s 14ms/step - loss: 0.0697 - val_loss: 0.0604\n",
      "Epoch 8/10\n",
      "2317/2317 [==============================] - ETA: 0s - loss: 0.0685\n",
      "Epoch 8: val_loss improved from 0.05985 to 0.05692, saving model to /Users/Brody1/Documents/Northwestern/DNA_Cyclizability/benchmarks/deep-learning/2conv_only_3_tiling_6.h5\n",
      "2317/2317 [==============================] - 32s 14ms/step - loss: 0.0685 - val_loss: 0.0569\n",
      "Epoch 9/10\n",
      "2316/2317 [============================>.] - ETA: 0s - loss: 0.0675\n",
      "Epoch 9: val_loss did not improve from 0.05692\n",
      "2317/2317 [==============================] - 32s 14ms/step - loss: 0.0675 - val_loss: 0.0612\n",
      "Epoch 10/10\n",
      "2315/2317 [============================>.] - ETA: 0s - loss: 0.0661\n",
      "Epoch 10: val_loss did not improve from 0.05692\n",
      "2317/2317 [==============================] - 33s 14ms/step - loss: 0.0661 - val_loss: 0.0574\n"
     ]
    },
    {
     "name": "stderr",
     "output_type": "stream",
     "text": [
      "WARNING:absl:Found untraced functions such as _jit_compiled_convolution_op, _jit_compiled_convolution_op while saving (showing 2 of 2). These functions will not be directly callable after loading.\n"
     ]
    },
    {
     "name": "stdout",
     "output_type": "stream",
     "text": [
      "INFO:tensorflow:Assets written to: /Users/Brody1/Documents/Northwestern/DNA_Cyclizability/benchmarks/deep-learning/2conv_only_3_tiling_6/assets\n"
     ]
    },
    {
     "name": "stderr",
     "output_type": "stream",
     "text": [
      "INFO:tensorflow:Assets written to: /Users/Brody1/Documents/Northwestern/DNA_Cyclizability/benchmarks/deep-learning/2conv_only_3_tiling_6/assets\n"
     ]
    },
    {
     "name": "stdout",
     "output_type": "stream",
     "text": [
      "2317/2317 [==============================] - 13s 5ms/step\n",
      "2317/2317 [==============================] - 12s 5ms/step\n",
      "623/623 [==============================] - 3s 5ms/step\n",
      "623/623 [==============================] - 3s 5ms/step\n",
      "390/390 [==============================] - 2s 5ms/step\n",
      "390/390 [==============================] - 3s 7ms/step\n",
      "258/258 [==============================] - 2s 6ms/step\n",
      "258/258 [==============================] - 2s 6ms/step\n",
      "2576/2576 [==============================] - 13s 5ms/step\n",
      "2576/2576 [==============================] - 11s 4ms/step\n",
      "Epoch 1/10\n",
      "2316/2317 [============================>.] - ETA: 0s - loss: 0.2226\n",
      "Epoch 1: val_loss improved from inf to 0.08058, saving model to /Users/Brody1/Documents/Northwestern/DNA_Cyclizability/benchmarks/deep-learning/2conv_only_3_tiling_7.h5\n",
      "2317/2317 [==============================] - 28s 12ms/step - loss: 0.2225 - val_loss: 0.0806\n",
      "Epoch 2/10\n",
      "2316/2317 [============================>.] - ETA: 0s - loss: 0.0898\n",
      "Epoch 2: val_loss improved from 0.08058 to 0.07399, saving model to /Users/Brody1/Documents/Northwestern/DNA_Cyclizability/benchmarks/deep-learning/2conv_only_3_tiling_7.h5\n",
      "2317/2317 [==============================] - 27s 11ms/step - loss: 0.0898 - val_loss: 0.0740\n",
      "Epoch 3/10\n",
      "2313/2317 [============================>.] - ETA: 0s - loss: 0.0806\n",
      "Epoch 3: val_loss improved from 0.07399 to 0.07102, saving model to /Users/Brody1/Documents/Northwestern/DNA_Cyclizability/benchmarks/deep-learning/2conv_only_3_tiling_7.h5\n",
      "2317/2317 [==============================] - 32s 14ms/step - loss: 0.0806 - val_loss: 0.0710\n",
      "Epoch 4/10\n",
      "2315/2317 [============================>.] - ETA: 0s - loss: 0.0764\n",
      "Epoch 4: val_loss improved from 0.07102 to 0.06520, saving model to /Users/Brody1/Documents/Northwestern/DNA_Cyclizability/benchmarks/deep-learning/2conv_only_3_tiling_7.h5\n",
      "2317/2317 [==============================] - 30s 13ms/step - loss: 0.0764 - val_loss: 0.0652\n",
      "Epoch 5/10\n",
      "2316/2317 [============================>.] - ETA: 0s - loss: 0.0732\n",
      "Epoch 5: val_loss did not improve from 0.06520\n",
      "2317/2317 [==============================] - 30s 13ms/step - loss: 0.0732 - val_loss: 0.0656\n",
      "Epoch 6/10\n",
      "2313/2317 [============================>.] - ETA: 0s - loss: 0.0716\n",
      "Epoch 6: val_loss improved from 0.06520 to 0.06412, saving model to /Users/Brody1/Documents/Northwestern/DNA_Cyclizability/benchmarks/deep-learning/2conv_only_3_tiling_7.h5\n",
      "2317/2317 [==============================] - 30s 13ms/step - loss: 0.0716 - val_loss: 0.0641\n",
      "Epoch 7/10\n",
      "2316/2317 [============================>.] - ETA: 0s - loss: 0.0699\n",
      "Epoch 7: val_loss did not improve from 0.06412\n",
      "2317/2317 [==============================] - 29s 13ms/step - loss: 0.0699 - val_loss: 0.0668\n",
      "Epoch 8/10\n",
      "2316/2317 [============================>.] - ETA: 0s - loss: 0.0683\n",
      "Epoch 8: val_loss improved from 0.06412 to 0.06174, saving model to /Users/Brody1/Documents/Northwestern/DNA_Cyclizability/benchmarks/deep-learning/2conv_only_3_tiling_7.h5\n",
      "2317/2317 [==============================] - 28s 12ms/step - loss: 0.0683 - val_loss: 0.0617\n",
      "Epoch 9/10\n",
      "2314/2317 [============================>.] - ETA: 0s - loss: 0.0672\n",
      "Epoch 9: val_loss did not improve from 0.06174\n",
      "2317/2317 [==============================] - 29s 12ms/step - loss: 0.0671 - val_loss: 0.0630\n",
      "Epoch 10/10\n",
      "2317/2317 [==============================] - ETA: 0s - loss: 0.0666\n",
      "Epoch 10: val_loss did not improve from 0.06174\n",
      "2317/2317 [==============================] - 28s 12ms/step - loss: 0.0666 - val_loss: 0.0672\n"
     ]
    },
    {
     "name": "stderr",
     "output_type": "stream",
     "text": [
      "WARNING:absl:Found untraced functions such as _jit_compiled_convolution_op, _jit_compiled_convolution_op while saving (showing 2 of 2). These functions will not be directly callable after loading.\n"
     ]
    },
    {
     "name": "stdout",
     "output_type": "stream",
     "text": [
      "INFO:tensorflow:Assets written to: /Users/Brody1/Documents/Northwestern/DNA_Cyclizability/benchmarks/deep-learning/2conv_only_3_tiling_7/assets\n"
     ]
    },
    {
     "name": "stderr",
     "output_type": "stream",
     "text": [
      "INFO:tensorflow:Assets written to: /Users/Brody1/Documents/Northwestern/DNA_Cyclizability/benchmarks/deep-learning/2conv_only_3_tiling_7/assets\n"
     ]
    },
    {
     "name": "stdout",
     "output_type": "stream",
     "text": [
      "2317/2317 [==============================] - 11s 5ms/step\n",
      "2317/2317 [==============================] - 11s 5ms/step\n",
      "623/623 [==============================] - 3s 4ms/step\n",
      "623/623 [==============================] - 3s 4ms/step\n",
      "390/390 [==============================] - 2s 4ms/step\n",
      "390/390 [==============================] - 2s 5ms/step\n",
      "258/258 [==============================] - 1s 5ms/step\n",
      "258/258 [==============================] - 1s 5ms/step\n",
      "2576/2576 [==============================] - 12s 5ms/step\n",
      "2576/2576 [==============================] - 12s 4ms/step\n",
      "Epoch 1/10\n",
      "2313/2317 [============================>.] - ETA: 0s - loss: 0.2362\n",
      "Epoch 1: val_loss improved from inf to 0.07789, saving model to /Users/Brody1/Documents/Northwestern/DNA_Cyclizability/benchmarks/deep-learning/2conv_only_3_tiling_8.h5\n",
      "2317/2317 [==============================] - 29s 12ms/step - loss: 0.2360 - val_loss: 0.0779\n",
      "Epoch 2/10\n",
      "2313/2317 [============================>.] - ETA: 0s - loss: 0.0885\n",
      "Epoch 2: val_loss improved from 0.07789 to 0.07282, saving model to /Users/Brody1/Documents/Northwestern/DNA_Cyclizability/benchmarks/deep-learning/2conv_only_3_tiling_8.h5\n",
      "2317/2317 [==============================] - 25s 11ms/step - loss: 0.0885 - val_loss: 0.0728\n",
      "Epoch 3/10\n",
      "2316/2317 [============================>.] - ETA: 0s - loss: 0.0800\n",
      "Epoch 3: val_loss improved from 0.07282 to 0.06627, saving model to /Users/Brody1/Documents/Northwestern/DNA_Cyclizability/benchmarks/deep-learning/2conv_only_3_tiling_8.h5\n",
      "2317/2317 [==============================] - 24s 11ms/step - loss: 0.0800 - val_loss: 0.0663\n",
      "Epoch 4/10\n",
      "2313/2317 [============================>.] - ETA: 0s - loss: 0.0759\n",
      "Epoch 4: val_loss improved from 0.06627 to 0.06252, saving model to /Users/Brody1/Documents/Northwestern/DNA_Cyclizability/benchmarks/deep-learning/2conv_only_3_tiling_8.h5\n",
      "2317/2317 [==============================] - 25s 11ms/step - loss: 0.0759 - val_loss: 0.0625\n",
      "Epoch 5/10\n",
      "2316/2317 [============================>.] - ETA: 0s - loss: 0.0735\n",
      "Epoch 5: val_loss improved from 0.06252 to 0.06078, saving model to /Users/Brody1/Documents/Northwestern/DNA_Cyclizability/benchmarks/deep-learning/2conv_only_3_tiling_8.h5\n",
      "2317/2317 [==============================] - 27s 12ms/step - loss: 0.0735 - val_loss: 0.0608\n",
      "Epoch 6/10\n",
      "2315/2317 [============================>.] - ETA: 0s - loss: 0.0717\n",
      "Epoch 6: val_loss did not improve from 0.06078\n",
      "2317/2317 [==============================] - 27s 12ms/step - loss: 0.0717 - val_loss: 0.0626\n",
      "Epoch 7/10\n",
      "2316/2317 [============================>.] - ETA: 0s - loss: 0.0699\n",
      "Epoch 7: val_loss did not improve from 0.06078\n",
      "2317/2317 [==============================] - 28s 12ms/step - loss: 0.0698 - val_loss: 0.0637\n",
      "Epoch 8/10\n",
      "2317/2317 [==============================] - ETA: 0s - loss: 0.0694\n",
      "Epoch 8: val_loss improved from 0.06078 to 0.06026, saving model to /Users/Brody1/Documents/Northwestern/DNA_Cyclizability/benchmarks/deep-learning/2conv_only_3_tiling_8.h5\n",
      "2317/2317 [==============================] - 27s 12ms/step - loss: 0.0694 - val_loss: 0.0603\n",
      "Epoch 9/10\n",
      "2314/2317 [============================>.] - ETA: 0s - loss: 0.0678\n",
      "Epoch 9: val_loss improved from 0.06026 to 0.05877, saving model to /Users/Brody1/Documents/Northwestern/DNA_Cyclizability/benchmarks/deep-learning/2conv_only_3_tiling_8.h5\n",
      "2317/2317 [==============================] - 29s 12ms/step - loss: 0.0678 - val_loss: 0.0588\n",
      "Epoch 10/10\n",
      "2315/2317 [============================>.] - ETA: 0s - loss: 0.0670\n",
      "Epoch 10: val_loss did not improve from 0.05877\n",
      "2317/2317 [==============================] - 31s 13ms/step - loss: 0.0671 - val_loss: 0.0620\n"
     ]
    },
    {
     "name": "stderr",
     "output_type": "stream",
     "text": [
      "WARNING:absl:Found untraced functions such as _jit_compiled_convolution_op, _jit_compiled_convolution_op while saving (showing 2 of 2). These functions will not be directly callable after loading.\n"
     ]
    },
    {
     "name": "stdout",
     "output_type": "stream",
     "text": [
      "INFO:tensorflow:Assets written to: /Users/Brody1/Documents/Northwestern/DNA_Cyclizability/benchmarks/deep-learning/2conv_only_3_tiling_8/assets\n"
     ]
    },
    {
     "name": "stderr",
     "output_type": "stream",
     "text": [
      "INFO:tensorflow:Assets written to: /Users/Brody1/Documents/Northwestern/DNA_Cyclizability/benchmarks/deep-learning/2conv_only_3_tiling_8/assets\n"
     ]
    },
    {
     "name": "stdout",
     "output_type": "stream",
     "text": [
      "2317/2317 [==============================] - 12s 5ms/step\n",
      "2317/2317 [==============================] - 10s 4ms/step\n",
      "623/623 [==============================] - 3s 4ms/step\n",
      "623/623 [==============================] - 3s 4ms/step\n",
      "390/390 [==============================] - 2s 4ms/step\n",
      "390/390 [==============================] - 2s 4ms/step\n",
      "258/258 [==============================] - 1s 4ms/step\n",
      "258/258 [==============================] - 1s 4ms/step\n",
      "2576/2576 [==============================] - 13s 5ms/step\n",
      "2576/2576 [==============================] - 13s 5ms/step\n",
      "Epoch 1/10\n",
      "2314/2317 [============================>.] - ETA: 0s - loss: 0.2320\n",
      "Epoch 1: val_loss improved from inf to 0.07452, saving model to /Users/Brody1/Documents/Northwestern/DNA_Cyclizability/benchmarks/deep-learning/2conv_only_3_tiling_9.h5\n",
      "2317/2317 [==============================] - 29s 12ms/step - loss: 0.2318 - val_loss: 0.0745\n",
      "Epoch 2/10\n",
      "2317/2317 [==============================] - ETA: 0s - loss: 0.0902\n",
      "Epoch 2: val_loss improved from 0.07452 to 0.06750, saving model to /Users/Brody1/Documents/Northwestern/DNA_Cyclizability/benchmarks/deep-learning/2conv_only_3_tiling_9.h5\n",
      "2317/2317 [==============================] - 27s 12ms/step - loss: 0.0902 - val_loss: 0.0675\n",
      "Epoch 3/10\n",
      "2313/2317 [============================>.] - ETA: 0s - loss: 0.0809\n",
      "Epoch 3: val_loss improved from 0.06750 to 0.06518, saving model to /Users/Brody1/Documents/Northwestern/DNA_Cyclizability/benchmarks/deep-learning/2conv_only_3_tiling_9.h5\n",
      "2317/2317 [==============================] - 27s 12ms/step - loss: 0.0809 - val_loss: 0.0652\n",
      "Epoch 4/10\n",
      "2315/2317 [============================>.] - ETA: 0s - loss: 0.0764\n",
      "Epoch 4: val_loss improved from 0.06518 to 0.06065, saving model to /Users/Brody1/Documents/Northwestern/DNA_Cyclizability/benchmarks/deep-learning/2conv_only_3_tiling_9.h5\n",
      "2317/2317 [==============================] - 25s 11ms/step - loss: 0.0764 - val_loss: 0.0607\n",
      "Epoch 5/10\n",
      "2313/2317 [============================>.] - ETA: 0s - loss: 0.0734\n",
      "Epoch 5: val_loss improved from 0.06065 to 0.05801, saving model to /Users/Brody1/Documents/Northwestern/DNA_Cyclizability/benchmarks/deep-learning/2conv_only_3_tiling_9.h5\n",
      "2317/2317 [==============================] - 24s 11ms/step - loss: 0.0733 - val_loss: 0.0580\n",
      "Epoch 6/10\n",
      "2317/2317 [==============================] - ETA: 0s - loss: 0.0714\n",
      "Epoch 6: val_loss did not improve from 0.05801\n",
      "2317/2317 [==============================] - 26s 11ms/step - loss: 0.0714 - val_loss: 0.0583\n",
      "Epoch 7/10\n",
      "2316/2317 [============================>.] - ETA: 0s - loss: 0.0701\n",
      "Epoch 7: val_loss did not improve from 0.05801\n",
      "2317/2317 [==============================] - 28s 12ms/step - loss: 0.0701 - val_loss: 0.0595\n",
      "Epoch 8/10\n",
      "2317/2317 [==============================] - ETA: 0s - loss: 0.0684\n",
      "Epoch 8: val_loss improved from 0.05801 to 0.05586, saving model to /Users/Brody1/Documents/Northwestern/DNA_Cyclizability/benchmarks/deep-learning/2conv_only_3_tiling_9.h5\n",
      "2317/2317 [==============================] - 28s 12ms/step - loss: 0.0684 - val_loss: 0.0559\n",
      "Epoch 9/10\n",
      "2316/2317 [============================>.] - ETA: 0s - loss: 0.0676\n",
      "Epoch 9: val_loss improved from 0.05586 to 0.05229, saving model to /Users/Brody1/Documents/Northwestern/DNA_Cyclizability/benchmarks/deep-learning/2conv_only_3_tiling_9.h5\n",
      "2317/2317 [==============================] - 29s 12ms/step - loss: 0.0676 - val_loss: 0.0523\n",
      "Epoch 10/10\n",
      "2314/2317 [============================>.] - ETA: 0s - loss: 0.0665\n",
      "Epoch 10: val_loss did not improve from 0.05229\n",
      "2317/2317 [==============================] - 29s 13ms/step - loss: 0.0664 - val_loss: 0.0527\n"
     ]
    },
    {
     "name": "stderr",
     "output_type": "stream",
     "text": [
      "WARNING:absl:Found untraced functions such as _jit_compiled_convolution_op, _jit_compiled_convolution_op while saving (showing 2 of 2). These functions will not be directly callable after loading.\n"
     ]
    },
    {
     "name": "stdout",
     "output_type": "stream",
     "text": [
      "INFO:tensorflow:Assets written to: /Users/Brody1/Documents/Northwestern/DNA_Cyclizability/benchmarks/deep-learning/2conv_only_3_tiling_9/assets\n"
     ]
    },
    {
     "name": "stderr",
     "output_type": "stream",
     "text": [
      "INFO:tensorflow:Assets written to: /Users/Brody1/Documents/Northwestern/DNA_Cyclizability/benchmarks/deep-learning/2conv_only_3_tiling_9/assets\n"
     ]
    },
    {
     "name": "stdout",
     "output_type": "stream",
     "text": [
      "2317/2317 [==============================] - 12s 5ms/step\n",
      "2317/2317 [==============================] - 12s 5ms/step\n",
      "623/623 [==============================] - 3s 5ms/step\n",
      "623/623 [==============================] - 3s 5ms/step\n",
      "390/390 [==============================] - 2s 5ms/step\n",
      "390/390 [==============================] - 2s 4ms/step\n",
      "258/258 [==============================] - 1s 5ms/step\n",
      "258/258 [==============================] - 1s 5ms/step\n",
      "2576/2576 [==============================] - 12s 5ms/step\n",
      "2576/2576 [==============================] - 12s 5ms/step\n",
      "Epoch 1/10\n",
      "2315/2317 [============================>.] - ETA: 0s - loss: 0.2287\n",
      "Epoch 1: val_loss improved from inf to 0.08545, saving model to /Users/Brody1/Documents/Northwestern/DNA_Cyclizability/benchmarks/deep-learning/2conv_only_3_tiling_10.h5\n",
      "2317/2317 [==============================] - 30s 12ms/step - loss: 0.2286 - val_loss: 0.0854\n",
      "Epoch 2/10\n",
      "2313/2317 [============================>.] - ETA: 0s - loss: 0.0889\n",
      "Epoch 2: val_loss improved from 0.08545 to 0.06691, saving model to /Users/Brody1/Documents/Northwestern/DNA_Cyclizability/benchmarks/deep-learning/2conv_only_3_tiling_10.h5\n",
      "2317/2317 [==============================] - 28s 12ms/step - loss: 0.0889 - val_loss: 0.0669\n",
      "Epoch 3/10\n",
      "2315/2317 [============================>.] - ETA: 0s - loss: 0.0806\n",
      "Epoch 3: val_loss did not improve from 0.06691\n",
      "2317/2317 [==============================] - 29s 13ms/step - loss: 0.0806 - val_loss: 0.0726\n",
      "Epoch 4/10\n",
      "2317/2317 [==============================] - ETA: 0s - loss: 0.0765\n",
      "Epoch 4: val_loss improved from 0.06691 to 0.06086, saving model to /Users/Brody1/Documents/Northwestern/DNA_Cyclizability/benchmarks/deep-learning/2conv_only_3_tiling_10.h5\n",
      "2317/2317 [==============================] - 28s 12ms/step - loss: 0.0765 - val_loss: 0.0609\n",
      "Epoch 5/10\n",
      "2315/2317 [============================>.] - ETA: 0s - loss: 0.0737\n",
      "Epoch 5: val_loss improved from 0.06086 to 0.05862, saving model to /Users/Brody1/Documents/Northwestern/DNA_Cyclizability/benchmarks/deep-learning/2conv_only_3_tiling_10.h5\n",
      "2317/2317 [==============================] - 32s 14ms/step - loss: 0.0737 - val_loss: 0.0586\n",
      "Epoch 6/10\n",
      "2316/2317 [============================>.] - ETA: 0s - loss: 0.0718\n",
      "Epoch 6: val_loss did not improve from 0.05862\n",
      "2317/2317 [==============================] - 31s 13ms/step - loss: 0.0718 - val_loss: 0.0587\n",
      "Epoch 7/10\n",
      "2314/2317 [============================>.] - ETA: 0s - loss: 0.0698\n",
      "Epoch 7: val_loss improved from 0.05862 to 0.05774, saving model to /Users/Brody1/Documents/Northwestern/DNA_Cyclizability/benchmarks/deep-learning/2conv_only_3_tiling_10.h5\n",
      "2317/2317 [==============================] - 27s 12ms/step - loss: 0.0698 - val_loss: 0.0577\n",
      "Epoch 8/10\n",
      "2314/2317 [============================>.] - ETA: 0s - loss: 0.0686\n",
      "Epoch 8: val_loss improved from 0.05774 to 0.05645, saving model to /Users/Brody1/Documents/Northwestern/DNA_Cyclizability/benchmarks/deep-learning/2conv_only_3_tiling_10.h5\n",
      "2317/2317 [==============================] - 30s 13ms/step - loss: 0.0686 - val_loss: 0.0564\n",
      "Epoch 9/10\n",
      "2315/2317 [============================>.] - ETA: 0s - loss: 0.0676\n",
      "Epoch 9: val_loss improved from 0.05645 to 0.05505, saving model to /Users/Brody1/Documents/Northwestern/DNA_Cyclizability/benchmarks/deep-learning/2conv_only_3_tiling_10.h5\n",
      "2317/2317 [==============================] - 30s 13ms/step - loss: 0.0676 - val_loss: 0.0551\n",
      "Epoch 10/10\n",
      "2315/2317 [============================>.] - ETA: 0s - loss: 0.0666\n",
      "Epoch 10: val_loss did not improve from 0.05505\n",
      "2317/2317 [==============================] - 29s 13ms/step - loss: 0.0666 - val_loss: 0.0570\n"
     ]
    },
    {
     "name": "stderr",
     "output_type": "stream",
     "text": [
      "WARNING:absl:Found untraced functions such as _jit_compiled_convolution_op, _jit_compiled_convolution_op while saving (showing 2 of 2). These functions will not be directly callable after loading.\n"
     ]
    },
    {
     "name": "stdout",
     "output_type": "stream",
     "text": [
      "INFO:tensorflow:Assets written to: /Users/Brody1/Documents/Northwestern/DNA_Cyclizability/benchmarks/deep-learning/2conv_only_3_tiling_10/assets\n"
     ]
    },
    {
     "name": "stderr",
     "output_type": "stream",
     "text": [
      "INFO:tensorflow:Assets written to: /Users/Brody1/Documents/Northwestern/DNA_Cyclizability/benchmarks/deep-learning/2conv_only_3_tiling_10/assets\n"
     ]
    },
    {
     "name": "stdout",
     "output_type": "stream",
     "text": [
      "2317/2317 [==============================] - 11s 5ms/step\n",
      "2317/2317 [==============================] - 11s 5ms/step\n",
      "623/623 [==============================] - 3s 4ms/step\n",
      "623/623 [==============================] - 3s 5ms/step\n",
      "390/390 [==============================] - 2s 5ms/step\n",
      "390/390 [==============================] - 2s 5ms/step\n",
      "258/258 [==============================] - 1s 5ms/step\n",
      "258/258 [==============================] - 1s 5ms/step\n",
      "2576/2576 [==============================] - 12s 5ms/step\n",
      "2576/2576 [==============================] - 12s 5ms/step\n"
     ]
    }
   ],
   "source": [
    "#### tiling\n",
    "\n",
    "VALIDATION_LOSS = []\n",
    "fold_var = 1\n",
    "n = Y5.shape[0]\n",
    "\n",
    "fits = []\n",
    "detrend = []\n",
    "times = []\n",
    "times2 = []\n",
    "\n",
    "for train_index, val_index in kf.split(Y5):\n",
    "    training_X = X5[train_index]\n",
    "    training_X_reverse = X5_reverse[train_index]\n",
    "    validation_X = X5[val_index]\n",
    "    validation_X_reverse = X5_reverse[val_index]\n",
    "    training_Y = Y5[train_index]\n",
    "    validation_Y = Y5[val_index]\n",
    "    # CREATE NEW MODEL\n",
    "    model = model_cycle()\n",
    "    # CREATE CALLBACKS\n",
    "    checkpoint = callbacks.ModelCheckpoint(save_path + model_name+\"_tiling_\"+str(fold_var)+\".h5\",\n",
    "                                                    monitor='val_loss', verbose=1,\n",
    "                                                    save_best_only=True, mode='min')\n",
    "    time_callback = TimeHistory()\n",
    "\n",
    "    history = model.fit(training_X, training_Y,\n",
    "                        epochs=num_epochs,\n",
    "                        callbacks= [checkpoint, time_callback],\n",
    "                        validation_data=(validation_X, validation_Y))\n",
    "    model.load_weights(save_path + model_name+\"_tiling_\"+str(fold_var)+\".h5\")\n",
    "    model.save(save_path+model_name+\"_tiling_\"+str(fold_var),save_traces=False)\n",
    "    times.append(time_callback.times)\n",
    "\n",
    "    pred_Y = model.predict(training_X)\n",
    "    pred_Y = pred_Y.reshape(pred_Y.shape[0])\n",
    "    pred_Y_reverse = model.predict(training_X_reverse)\n",
    "    pred_Y_reverse = pred_Y_reverse.reshape(pred_Y_reverse.shape[0])\n",
    "    pred_Y = (pred_Y+pred_Y_reverse)/2\n",
    "    reg =  LinearRegression().fit(array(pred_Y).reshape(-1, 1), array(training_Y).reshape(-1, 1))\n",
    "    \n",
    "    detrend_int = reg.intercept_\n",
    "    detrend_slope = reg.coef_\n",
    "    detrend.append([float(detrend_int), float(detrend_slope)])\n",
    "\n",
    "    start_time = time.process_time()\n",
    "    fit = model.predict(X1)\n",
    "    fit = fit.reshape(fit.shape[0])\n",
    "    fit_reverse = model.predict(X1_reverse)\n",
    "    fit_reverse = fit_reverse.reshape(fit_reverse.shape[0])\n",
    "    reverse_corr = np.corrcoef(fit, fit_reverse)[0,1]\n",
    "    fit = (fit + fit_reverse)/2\n",
    "    fit = fit.flatten()\n",
    "    fit_tmp =[np.corrcoef(fit, Y1)[0,1],np.mean(np.square(fit-Y1)),np.mean(fit),np.std(fit),reverse_corr]\n",
    "    fits.append(fit_tmp)\n",
    "    fit = detrend_int + fit * detrend_slope\n",
    "    fit = fit.flatten()\n",
    "    fit_tmp =[np.corrcoef(fit, Y1)[0,1],np.mean(np.square(fit-Y1)),np.mean(fit),np.std(fit),reverse_corr]\n",
    "    time0 = time.process_time() - start_time\n",
    "    times2.append([time0])\n",
    "    fits.append(fit_tmp)\n",
    "    \n",
    "    start_time = time.process_time()\n",
    "    fit = model.predict(X3)\n",
    "    fit = fit.reshape(fit.shape[0])\n",
    "    fit_reverse = model.predict(X3_reverse)\n",
    "    fit_reverse = fit_reverse.reshape(fit_reverse.shape[0])\n",
    "    reverse_corr = np.corrcoef(fit, fit_reverse)[0,1]\n",
    "    fit = (fit + fit_reverse)/2\n",
    "    fit = fit.flatten()\n",
    "    fit_tmp =[np.corrcoef(fit, Y3)[0,1],np.mean(np.square(fit-Y3)),np.mean(fit),np.std(fit),reverse_corr]\n",
    "    fits.append(fit_tmp)\n",
    "    fit = detrend_int + fit * detrend_slope\n",
    "    fit = fit.flatten()\n",
    "    fit_tmp =[np.corrcoef(fit, Y3)[0,1],np.mean(np.square(fit-Y3)),np.mean(fit),np.std(fit),reverse_corr]\n",
    "    time0 = time.process_time() - start_time\n",
    "    times2.append([time0])\n",
    "    fits.append(fit_tmp)\n",
    "    \n",
    "    start_time = time.process_time()\n",
    "    fit = model.predict(validation_X)\n",
    "    fit = fit.reshape(fit.shape[0])\n",
    "    fit_reverse = model.predict(validation_X_reverse)\n",
    "    fit_reverse = fit_reverse.reshape(fit_reverse.shape[0])\n",
    "    reverse_corr = np.corrcoef(fit, fit_reverse)[0,1]\n",
    "    fit = (fit + fit_reverse)/2\n",
    "    fit = fit.flatten()\n",
    "    fit_tmp =[np.corrcoef(fit, validation_Y)[0,1],np.mean(np.square(fit-validation_Y)),np.mean(fit),np.std(fit),reverse_corr]\n",
    "    fits.append(fit_tmp)\n",
    "    fit = detrend_int + fit * detrend_slope\n",
    "    fit = fit.flatten()\n",
    "    fit_tmp =[np.corrcoef(fit, validation_Y)[0,1],np.mean(np.square(fit-validation_Y)),np.mean(fit),np.std(fit),reverse_corr]\n",
    "    time0 = time.process_time() - start_time\n",
    "    times2.append([time0])\n",
    "    fits.append(fit_tmp)\n",
    "    \n",
    "    start_time = time.process_time()\n",
    "    fit = model.predict(X6)\n",
    "    fit = fit.reshape(fit.shape[0])\n",
    "    fit_reverse = model.predict(X6_reverse)\n",
    "    fit_reverse = fit_reverse.reshape(fit_reverse.shape[0])\n",
    "    reverse_corr = np.corrcoef(fit, fit_reverse)[0,1]\n",
    "    fit = (fit + fit_reverse)/2\n",
    "    fit = fit.flatten()\n",
    "    fit_tmp =[np.corrcoef(fit, Y6)[0,1],np.mean(np.square(fit-Y6)),np.mean(fit),np.std(fit),reverse_corr]\n",
    "    fits.append(fit_tmp)\n",
    "    fit = detrend_int + fit * detrend_slope\n",
    "    fit = fit.flatten()\n",
    "    fit_tmp =[np.corrcoef(fit, Y6)[0,1],np.mean(np.square(fit-Y6)),np.mean(fit),np.std(fit),reverse_corr]\n",
    "    time0 = time.process_time() - start_time\n",
    "    times2.append([time0])\n",
    "    fits.append(fit_tmp)\n",
    "    \n",
    "    K.clear_session()\n",
    "    fold_var += 1\n",
    "    \n",
    "detrend = array(detrend)\n",
    "detrend = pd.DataFrame(detrend)\n",
    "detrend.to_csv(save_path +model_name+\"_detrend_tiling.txt\", index = False)\n",
    "\n",
    "fits = array(fits)\n",
    "fits = pd.DataFrame((fits))\n",
    "fits.to_csv(save_path +model_name+ \"_fits_tiling.txt\", index = False)\n",
    "\n",
    "with open(save_path +model_name+\"_time_tiling.txt\", \"w\") as file:\n",
    "    for row in times:\n",
    "        s = \" \".join(map(str, row))\n",
    "        file.write(s+'\\n')\n",
    "\n",
    "with open(save_path +model_name+\"_pred_time_tiling.txt\", \"w\") as file:\n",
    "    for row in times2:\n",
    "        s = \" \".join(map(str, row))\n",
    "        file.write(s+'\\n')\n"
   ]
  },
  {
   "cell_type": "code",
   "execution_count": 10,
   "metadata": {},
   "outputs": [
    {
     "name": "stdout",
     "output_type": "stream",
     "text": [
      "Average correlation on tiling: 0.8669393794952986 \n",
      "Average MSE on tiling: 0.06018755910234895 \n",
      "Average correlation on random: 0.8670508486084596 \n",
      "Average MSE on random: 0.036130997576592536 \n",
      "Average correlation on ChrV: 0.7315384854196957 \n",
      "Average MSE on ChrV: 0.13549550337115962 \n",
      "Average correlation on CN: 0.8228534436963366 \n",
      "Average MSE on CN: 0.07133389571794466\n"
     ]
    }
   ],
   "source": [
    "display_fits(fits)"
   ]
  },
  {
   "cell_type": "code",
   "execution_count": 11,
   "metadata": {},
   "outputs": [
    {
     "name": "stdout",
     "output_type": "stream",
     "text": [
      "2574/2574 [==============================] - 5s 2ms/step\n",
      "390/390 [==============================] - 1s 2ms/step\n"
     ]
    }
   ],
   "source": [
    "first_conv_model = Model(inputs = model.input, outputs = model.layers[1].output)\n",
    "first_conv_output = first_conv_model.predict(X5)\n",
    "pd.DataFrame(first_conv_output.reshape(first_conv_output.shape[0], -1)).to_csv(save_path + model_name+\"_tiling_tiling_first_conv_output\")\n",
    "first_conv_output_random = first_conv_model.predict(X3)\n",
    "pd.DataFrame(first_conv_output_random.reshape(first_conv_output_random.shape[0], -1)).to_csv(save_path + model_name+\"_tiling_random_first_conv_output\")"
   ]
  },
  {
   "cell_type": "code",
   "execution_count": 12,
   "metadata": {},
   "outputs": [
    {
     "name": "stdout",
     "output_type": "stream",
     "text": [
      "2574/2574 [==============================] - 11s 4ms/step\n",
      "390/390 [==============================] - 2s 5ms/step\n"
     ]
    }
   ],
   "source": [
    "second_conv_model = Model(inputs = model.input, outputs = model.layers[5].output)\n",
    "second_conv_output = second_conv_model.predict(X5)\n",
    "pd.DataFrame(second_conv_output.reshape(second_conv_output.shape[0], -1)).to_csv(save_path + model_name+\"_tiling_tiling_second_conv_output\")\n",
    "second_conv_output_random = second_conv_model.predict(X3)\n",
    "pd.DataFrame(second_conv_output_random.reshape(second_conv_output_random.shape[0], -1)).to_csv(save_path + model_name+\"_tiling_random_second_conv_output\")"
   ]
  },
  {
   "cell_type": "code",
   "execution_count": null,
   "metadata": {},
   "outputs": [],
   "source": []
  }
 ],
 "metadata": {
  "kernelspec": {
   "display_name": "Python 3.7.13 ('myenv')",
   "language": "python",
   "name": "python3"
  },
  "language_info": {
   "codemirror_mode": {
    "name": "ipython",
    "version": 3
   },
   "file_extension": ".py",
   "mimetype": "text/x-python",
   "name": "python",
   "nbconvert_exporter": "python",
   "pygments_lexer": "ipython3",
   "version": "3.7.13"
  },
  "orig_nbformat": 4,
  "vscode": {
   "interpreter": {
    "hash": "f2cd633bf9703d9b8d2b7bb6e04b82983774c32d5f891ed1890ee26b779f7466"
   }
  }
 },
 "nbformat": 4,
 "nbformat_minor": 2
}
