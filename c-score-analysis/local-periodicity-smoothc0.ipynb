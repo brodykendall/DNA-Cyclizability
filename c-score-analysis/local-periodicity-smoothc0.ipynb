{
 "cells": [
  {
   "cell_type": "code",
   "execution_count": 316,
   "metadata": {},
   "outputs": [],
   "source": [
    "import keras"
   ]
  },
  {
   "cell_type": "code",
   "execution_count": 1,
   "metadata": {},
   "outputs": [],
   "source": [
    "import pandas as pd\n",
    "import numpy as np\n",
    "from numpy import array\n",
    "\n",
    "import matplotlib.pyplot as plt"
   ]
  },
  {
   "cell_type": "code",
   "execution_count": 319,
   "metadata": {},
   "outputs": [],
   "source": [
    "def dnaOneHot(sequence):\n",
    "    seq_array = array(list(sequence))\n",
    "    code = {\"A\": [0], \"C\": [1], \"G\": [2], \"T\": [3], \"N\": [4],\n",
    "            \"a\": [0], \"c\": [1], \"g\": [2], \"t\": [3], \"n\": [4]}\n",
    "    onehot_encoded_seq = []\n",
    "    for char in seq_array:\n",
    "        onehot_encoded = np.zeros(5)\n",
    "        onehot_encoded[code[char]] = 1\n",
    "        onehot_encoded_seq.append(onehot_encoded[0:4])\n",
    "    return onehot_encoded_seq"
   ]
  },
  {
   "cell_type": "code",
   "execution_count": 2,
   "metadata": {},
   "outputs": [],
   "source": [
    "genome_df_chrV = pd.read_csv(\"/Users/Brody1/Dropbox/Northwestern/DNA_Cyclizability/data/Created/yeast_chrV_1bpresolution_subsequence50.csv\")"
   ]
  },
  {
   "cell_type": "code",
   "execution_count": 320,
   "metadata": {},
   "outputs": [],
   "source": [
    "X_chrV = []\n",
    "for sequence_nt in genome_df_chrV[\"sequence\"]:\n",
    "    X_chrV.append(dnaOneHot(sequence_nt))\n",
    "X_chrV = array(X_chrV)\n",
    "X_chrV = X_chrV.reshape((X_chrV.shape[0],50,4,1))"
   ]
  },
  {
   "cell_type": "code",
   "execution_count": null,
   "metadata": {},
   "outputs": [],
   "source": []
  },
  {
   "cell_type": "markdown",
   "metadata": {},
   "source": [
    "### Get Mean/Stdev of provided ChrV C0:"
   ]
  },
  {
   "cell_type": "code",
   "execution_count": 3,
   "metadata": {},
   "outputs": [],
   "source": [
    "cycle6 = pd.read_csv(\"/Users/Brody1/Dropbox/Northwestern/DNA_Cyclizability/cycle6.txt\")"
   ]
  },
  {
   "cell_type": "code",
   "execution_count": 4,
   "metadata": {},
   "outputs": [],
   "source": [
    "cycle6_mean = cycle6.C0.mean()\n",
    "cycle6_std = cycle6.C0.std()"
   ]
  },
  {
   "cell_type": "code",
   "execution_count": null,
   "metadata": {},
   "outputs": [],
   "source": []
  },
  {
   "cell_type": "markdown",
   "metadata": {},
   "source": [
    "### DNAcycP:"
   ]
  },
  {
   "cell_type": "code",
   "execution_count": 5,
   "metadata": {},
   "outputs": [],
   "source": [
    "DNAcycP_pred_chrV_norm = pd.read_csv(\"/Users/Brody1/Dropbox/Northwestern/DNA_Cyclizability/data/predictions/chrv_1bp_cycle_norm_DNAcycP.txt\", header=None)"
   ]
  },
  {
   "cell_type": "code",
   "execution_count": 6,
   "metadata": {},
   "outputs": [],
   "source": [
    "DNAcycP_pred_chrV = DNAcycP_pred_chrV_norm*cycle6_std + cycle6_mean\n",
    "DNAcycP_pred_chrV = array(DNAcycP_pred_chrV).flatten()"
   ]
  },
  {
   "cell_type": "code",
   "execution_count": 7,
   "metadata": {},
   "outputs": [],
   "source": [
    "genome_df_chrV[\"DNAcycP_pred_chrV\"] = DNAcycP_pred_chrV"
   ]
  },
  {
   "cell_type": "code",
   "execution_count": null,
   "metadata": {},
   "outputs": [],
   "source": []
  },
  {
   "cell_type": "markdown",
   "metadata": {},
   "source": [
    "#### DNAcycP post-smoothing"
   ]
  },
  {
   "cell_type": "code",
   "execution_count": 8,
   "metadata": {},
   "outputs": [],
   "source": [
    "DNAcycP_pred_chrV_post_smooth_1bp = [np.mean(DNAcycP_pred_chrV[(i-1):(i+2)]) for i in range(1,len(DNAcycP_pred_chrV)-1)]\n",
    "DNAcycP_pred_chrV_post_smooth_1bp.append(None)\n",
    "DNAcycP_pred_chrV_post_smooth_1bp.insert(0, None)\n",
    "DNAcycP_pred_chrV_post_smooth_1bp = array(DNAcycP_pred_chrV_post_smooth_1bp)\n",
    "genome_df_chrV[\"DNAcycP_pred_chrV_post_smooth_1bp\"] = DNAcycP_pred_chrV_post_smooth_1bp"
   ]
  },
  {
   "cell_type": "code",
   "execution_count": 9,
   "metadata": {},
   "outputs": [],
   "source": [
    "DNAcycP_pred_chrV_post_smooth_2bp = [np.mean(DNAcycP_pred_chrV[(i-2):(i+3)]) for i in range(2,len(DNAcycP_pred_chrV)-2)]\n",
    "DNAcycP_pred_chrV_post_smooth_2bp.append(None)\n",
    "DNAcycP_pred_chrV_post_smooth_2bp.append(None)\n",
    "DNAcycP_pred_chrV_post_smooth_2bp.insert(0, None)\n",
    "DNAcycP_pred_chrV_post_smooth_2bp.insert(0, None)\n",
    "DNAcycP_pred_chrV_post_smooth_2bp = array(DNAcycP_pred_chrV_post_smooth_2bp)\n",
    "genome_df_chrV[\"DNAcycP_pred_chrV_post_smooth_2bp\"] = DNAcycP_pred_chrV_post_smooth_2bp"
   ]
  },
  {
   "cell_type": "code",
   "execution_count": 10,
   "metadata": {},
   "outputs": [],
   "source": [
    "DNAcycP_pred_chrV_post_smooth_3bp = [np.mean(DNAcycP_pred_chrV[(i-3):(i+4)]) for i in range(3,len(DNAcycP_pred_chrV)-3)]\n",
    "DNAcycP_pred_chrV_post_smooth_3bp.append(None)\n",
    "DNAcycP_pred_chrV_post_smooth_3bp.append(None)\n",
    "DNAcycP_pred_chrV_post_smooth_3bp.append(None)\n",
    "DNAcycP_pred_chrV_post_smooth_3bp.insert(0, None)\n",
    "DNAcycP_pred_chrV_post_smooth_3bp.insert(0, None)\n",
    "DNAcycP_pred_chrV_post_smooth_3bp.insert(0, None)\n",
    "DNAcycP_pred_chrV_post_smooth_3bp = array(DNAcycP_pred_chrV_post_smooth_3bp)\n",
    "genome_df_chrV[\"DNAcycP_pred_chrV_post_smooth_3bp\"] = DNAcycP_pred_chrV_post_smooth_3bp"
   ]
  },
  {
   "cell_type": "code",
   "execution_count": 11,
   "metadata": {},
   "outputs": [],
   "source": [
    "DNAcycP_pred_chrV_post_smooth_4bp = [np.mean(DNAcycP_pred_chrV[(i-4):(i+5)]) for i in range(4,len(DNAcycP_pred_chrV)-4)]\n",
    "DNAcycP_pred_chrV_post_smooth_4bp.append(None)\n",
    "DNAcycP_pred_chrV_post_smooth_4bp.append(None)\n",
    "DNAcycP_pred_chrV_post_smooth_4bp.append(None)\n",
    "DNAcycP_pred_chrV_post_smooth_4bp.append(None)\n",
    "DNAcycP_pred_chrV_post_smooth_4bp.insert(0, None)\n",
    "DNAcycP_pred_chrV_post_smooth_4bp.insert(0, None)\n",
    "DNAcycP_pred_chrV_post_smooth_4bp.insert(0, None)\n",
    "DNAcycP_pred_chrV_post_smooth_4bp.insert(0, None)\n",
    "DNAcycP_pred_chrV_post_smooth_4bp = array(DNAcycP_pred_chrV_post_smooth_4bp)\n",
    "genome_df_chrV[\"DNAcycP_pred_chrV_post_smooth_4bp\"] = DNAcycP_pred_chrV_post_smooth_4bp"
   ]
  },
  {
   "cell_type": "code",
   "execution_count": 12,
   "metadata": {},
   "outputs": [],
   "source": [
    "DNAcycP_pred_chrV_post_smooth_4bp_weighted = [np.average(DNAcycP_pred_chrV[(i-4):(i+5)].flatten(), weights=[1,2,3,4,5,4,3,2,1]) for i in range(4,len(DNAcycP_pred_chrV)-4)]\n",
    "DNAcycP_pred_chrV_post_smooth_4bp_weighted.append(None)\n",
    "DNAcycP_pred_chrV_post_smooth_4bp_weighted.append(None)\n",
    "DNAcycP_pred_chrV_post_smooth_4bp_weighted.append(None)\n",
    "DNAcycP_pred_chrV_post_smooth_4bp_weighted.append(None)\n",
    "DNAcycP_pred_chrV_post_smooth_4bp_weighted.insert(0, None)\n",
    "DNAcycP_pred_chrV_post_smooth_4bp_weighted.insert(0, None)\n",
    "DNAcycP_pred_chrV_post_smooth_4bp_weighted.insert(0, None)\n",
    "DNAcycP_pred_chrV_post_smooth_4bp_weighted.insert(0, None)\n",
    "DNAcycP_pred_chrV_post_smooth_4bp_weighted = array(DNAcycP_pred_chrV_post_smooth_4bp_weighted)\n",
    "genome_df_chrV[\"DNAcycP_pred_chrV_post_smooth_4bp_weighted\"] = DNAcycP_pred_chrV_post_smooth_4bp_weighted"
   ]
  },
  {
   "cell_type": "code",
   "execution_count": 13,
   "metadata": {},
   "outputs": [],
   "source": [
    "DNAcycP_pred_chrV_post_smooth_5bp = [np.mean(DNAcycP_pred_chrV[(i-5):(i+6)]) for i in range(5,len(DNAcycP_pred_chrV)-5)]\n",
    "DNAcycP_pred_chrV_post_smooth_5bp.append(None)\n",
    "DNAcycP_pred_chrV_post_smooth_5bp.append(None)\n",
    "DNAcycP_pred_chrV_post_smooth_5bp.append(None)\n",
    "DNAcycP_pred_chrV_post_smooth_5bp.append(None)\n",
    "DNAcycP_pred_chrV_post_smooth_5bp.append(None)\n",
    "DNAcycP_pred_chrV_post_smooth_5bp.insert(0, None)\n",
    "DNAcycP_pred_chrV_post_smooth_5bp.insert(0, None)\n",
    "DNAcycP_pred_chrV_post_smooth_5bp.insert(0, None)\n",
    "DNAcycP_pred_chrV_post_smooth_5bp.insert(0, None)\n",
    "DNAcycP_pred_chrV_post_smooth_5bp.insert(0, None)\n",
    "DNAcycP_pred_chrV_post_smooth_5bp = array(DNAcycP_pred_chrV_post_smooth_5bp)\n",
    "genome_df_chrV[\"DNAcycP_pred_chrV_post_smooth_5bp\"] = DNAcycP_pred_chrV_post_smooth_5bp"
   ]
  },
  {
   "cell_type": "code",
   "execution_count": 411,
   "metadata": {},
   "outputs": [],
   "source": [
    "w_4 = 1/(10.4-9)\n",
    "w_5 = 1/(11-10.4)\n",
    "DNAcycP_pred_chrV_post_smooth_4and5bp = [(DNAcycP_pred_chrV_post_smooth_4bp[i]*w_4 + DNAcycP_pred_chrV_post_smooth_5bp[i]*w_5)/(w_4+w_5) if DNAcycP_pred_chrV_post_smooth_5bp[i] is not None else None for i in range(len(DNAcycP_pred_chrV_post_smooth_5bp))]\n",
    "DNAcycP_pred_chrV_post_smooth_4and5bp = array(DNAcycP_pred_chrV_post_smooth_4and5bp)\n",
    "genome_df_chrV[\"DNAcycP_pred_chrV_post_smooth_4and5bp\"] = DNAcycP_pred_chrV_post_smooth_4and5bp"
   ]
  },
  {
   "cell_type": "code",
   "execution_count": null,
   "metadata": {},
   "outputs": [],
   "source": []
  },
  {
   "cell_type": "markdown",
   "metadata": {},
   "source": [
    "### DNAcycP_post_smoothed_C0 Trained on ChrV:"
   ]
  },
  {
   "cell_type": "code",
   "execution_count": 354,
   "metadata": {},
   "outputs": [],
   "source": [
    "model_ir_lstm_post_smoothed_1bp_DNAcycP_chrv = keras.models.load_model(\"/Users/Brody1/Dropbox/Northwestern/DNA_Cyclizability/benchmarks/ir_lstm_post_smoothed_1bp_DNAcycP_chrv_chrv_1.h5\")"
   ]
  },
  {
   "cell_type": "code",
   "execution_count": null,
   "metadata": {},
   "outputs": [],
   "source": [
    "model_ir_lstm_post_smoothed_1bp_DNAcycP_chrv_pred_chrV_unnorm = model_ir_lstm_post_smoothed_1bp_DNAcycP_chrv.predict(X_chrV)"
   ]
  },
  {
   "cell_type": "code",
   "execution_count": 356,
   "metadata": {},
   "outputs": [],
   "source": [
    "model_ir_lstm_post_smoothed_1bp_DNAcycP_chrv_pred_chrV = model_ir_lstm_post_smoothed_1bp_DNAcycP_chrv_pred_chrV_unnorm*cycle6_std + cycle6_mean\n",
    "model_ir_lstm_post_smoothed_1bp_DNAcycP_chrv_pred_chrV = model_ir_lstm_post_smoothed_1bp_DNAcycP_chrv_pred_chrV.flatten()\n",
    "genome_df_chrV[\"model_ir_lstm_post_smoothed_1bp_DNAcycP_chrv_pred_chrV\"] = model_ir_lstm_post_smoothed_1bp_DNAcycP_chrv_pred_chrV"
   ]
  },
  {
   "cell_type": "code",
   "execution_count": 357,
   "metadata": {},
   "outputs": [],
   "source": [
    "model_ir_lstm_post_smoothed_2bp_DNAcycP_chrv = keras.models.load_model(\"/Users/Brody1/Dropbox/Northwestern/DNA_Cyclizability/benchmarks/ir_lstm_post_smoothed_2bp_DNAcycP_chrv_chrv_1.h5\")"
   ]
  },
  {
   "cell_type": "code",
   "execution_count": null,
   "metadata": {},
   "outputs": [],
   "source": [
    "model_ir_lstm_post_smoothed_2bp_DNAcycP_chrv_pred_chrV_unnorm = model_ir_lstm_post_smoothed_2bp_DNAcycP_chrv.predict(X_chrV)"
   ]
  },
  {
   "cell_type": "code",
   "execution_count": 359,
   "metadata": {},
   "outputs": [],
   "source": [
    "model_ir_lstm_post_smoothed_2bp_DNAcycP_chrv_pred_chrV = model_ir_lstm_post_smoothed_2bp_DNAcycP_chrv_pred_chrV_unnorm*cycle6_std + cycle6_mean\n",
    "model_ir_lstm_post_smoothed_2bp_DNAcycP_chrv_pred_chrV = model_ir_lstm_post_smoothed_2bp_DNAcycP_chrv_pred_chrV.flatten()\n",
    "genome_df_chrV[\"model_ir_lstm_post_smoothed_2bp_DNAcycP_chrv_pred_chrV\"] = model_ir_lstm_post_smoothed_2bp_DNAcycP_chrv_pred_chrV"
   ]
  },
  {
   "cell_type": "code",
   "execution_count": 360,
   "metadata": {},
   "outputs": [],
   "source": [
    "model_ir_lstm_post_smoothed_3bp_DNAcycP_chrv = keras.models.load_model(\"/Users/Brody1/Dropbox/Northwestern/DNA_Cyclizability/benchmarks/ir_lstm_post_smoothed_3bp_DNAcycP_chrv_chrv_1.h5\")"
   ]
  },
  {
   "cell_type": "code",
   "execution_count": null,
   "metadata": {},
   "outputs": [],
   "source": [
    "model_ir_lstm_post_smoothed_3bp_DNAcycP_chrv_pred_chrV_unnorm = model_ir_lstm_post_smoothed_3bp_DNAcycP_chrv.predict(X_chrV)"
   ]
  },
  {
   "cell_type": "code",
   "execution_count": 362,
   "metadata": {},
   "outputs": [],
   "source": [
    "model_ir_lstm_post_smoothed_3bp_DNAcycP_chrv_pred_chrV = model_ir_lstm_post_smoothed_3bp_DNAcycP_chrv_pred_chrV_unnorm*cycle6_std + cycle6_mean\n",
    "model_ir_lstm_post_smoothed_3bp_DNAcycP_chrv_pred_chrV = model_ir_lstm_post_smoothed_3bp_DNAcycP_chrv_pred_chrV.flatten()\n",
    "genome_df_chrV[\"model_ir_lstm_post_smoothed_3bp_DNAcycP_chrv_pred_chrV\"] = model_ir_lstm_post_smoothed_3bp_DNAcycP_chrv_pred_chrV"
   ]
  },
  {
   "cell_type": "code",
   "execution_count": 383,
   "metadata": {},
   "outputs": [],
   "source": [
    "model_ir_lstm_post_smoothed_4bp_DNAcycP_chrv = keras.models.load_model(\"/Users/Brody1/Dropbox/Northwestern/DNA_Cyclizability/benchmarks/ir_lstm_post_smoothed_4bp_DNAcycP_chrv_chrv_1.h5\")"
   ]
  },
  {
   "cell_type": "code",
   "execution_count": null,
   "metadata": {},
   "outputs": [],
   "source": [
    "model_ir_lstm_post_smoothed_4bp_DNAcycP_chrv_pred_chrV_unnorm = model_ir_lstm_post_smoothed_4bp_DNAcycP_chrv.predict(X_chrV)"
   ]
  },
  {
   "cell_type": "code",
   "execution_count": 385,
   "metadata": {},
   "outputs": [],
   "source": [
    "model_ir_lstm_post_smoothed_4bp_DNAcycP_chrv_pred_chrV = model_ir_lstm_post_smoothed_4bp_DNAcycP_chrv_pred_chrV_unnorm*cycle6_std + cycle6_mean\n",
    "model_ir_lstm_post_smoothed_4bp_DNAcycP_chrv_pred_chrV = model_ir_lstm_post_smoothed_4bp_DNAcycP_chrv_pred_chrV.flatten()\n",
    "genome_df_chrV[\"model_ir_lstm_post_smoothed_4bp_DNAcycP_chrv_pred_chrV\"] = model_ir_lstm_post_smoothed_4bp_DNAcycP_chrv_pred_chrV"
   ]
  },
  {
   "cell_type": "code",
   "execution_count": 321,
   "metadata": {},
   "outputs": [],
   "source": [
    "model_ir_lstm_post_smoothed_5bp_DNAcycP_chrv = keras.models.load_model(\"/Users/Brody1/Dropbox/Northwestern/DNA_Cyclizability/benchmarks/ir_lstm_post_smoothed_5bp_DNAcycP_chrv_chrv_1.h5\")"
   ]
  },
  {
   "cell_type": "code",
   "execution_count": null,
   "metadata": {},
   "outputs": [],
   "source": [
    "model_ir_lstm_post_smoothed_5bp_DNAcycP_chrv_pred_chrV_unnorm = model_ir_lstm_post_smoothed_5bp_DNAcycP_chrv.predict(X_chrV)"
   ]
  },
  {
   "cell_type": "code",
   "execution_count": 343,
   "metadata": {},
   "outputs": [],
   "source": [
    "model_ir_lstm_post_smoothed_5bp_DNAcycP_chrv_pred_chrV = model_ir_lstm_post_smoothed_5bp_DNAcycP_chrv_pred_chrV_unnorm*cycle6_std + cycle6_mean\n",
    "model_ir_lstm_post_smoothed_5bp_DNAcycP_chrv_pred_chrV = model_ir_lstm_post_smoothed_5bp_DNAcycP_chrv_pred_chrV.flatten()\n",
    "genome_df_chrV[\"model_ir_lstm_post_smoothed_5bp_DNAcycP_chrv_pred_chrV\"] = model_ir_lstm_post_smoothed_5bp_DNAcycP_chrv_pred_chrV"
   ]
  },
  {
   "cell_type": "code",
   "execution_count": 412,
   "metadata": {},
   "outputs": [],
   "source": [
    "model_ir_lstm_post_smoothed_4and5bp_DNAcycP_chrv = keras.models.load_model(\"/Users/Brody1/Dropbox/Northwestern/DNA_Cyclizability/benchmarks/ir_lstm_post_smoothed_4and5bp_DNAcycP_chrv_chrv_1.h5\")"
   ]
  },
  {
   "cell_type": "code",
   "execution_count": null,
   "metadata": {},
   "outputs": [],
   "source": [
    "model_ir_lstm_post_smoothed_4and5bp_DNAcycP_chrv_pred_chrV_unnorm = model_ir_lstm_post_smoothed_4and5bp_DNAcycP_chrv.predict(X_chrV)"
   ]
  },
  {
   "cell_type": "code",
   "execution_count": 414,
   "metadata": {},
   "outputs": [],
   "source": [
    "model_ir_lstm_post_smoothed_4and5bp_DNAcycP_chrv_pred_chrV = model_ir_lstm_post_smoothed_4and5bp_DNAcycP_chrv_pred_chrV_unnorm*cycle6_std + cycle6_mean\n",
    "model_ir_lstm_post_smoothed_4and5bp_DNAcycP_chrv_pred_chrV = model_ir_lstm_post_smoothed_4and5bp_DNAcycP_chrv_pred_chrV.flatten()\n",
    "genome_df_chrV[\"model_ir_lstm_post_smoothed_4and5bp_DNAcycP_chrv_pred_chrV\"] = model_ir_lstm_post_smoothed_4and5bp_DNAcycP_chrv_pred_chrV"
   ]
  },
  {
   "cell_type": "code",
   "execution_count": null,
   "metadata": {},
   "outputs": [],
   "source": []
  },
  {
   "cell_type": "markdown",
   "metadata": {},
   "source": [
    "#### DNAcycP_post_smoothed_C0 post-smoothing"
   ]
  },
  {
   "cell_type": "code",
   "execution_count": 366,
   "metadata": {},
   "outputs": [],
   "source": [
    "model_ir_lstm_post_smoothed_1bp_DNAcycP_pred_chrV_post_smooth_1bp = [np.mean(model_ir_lstm_post_smoothed_1bp_DNAcycP_chrv_pred_chrV[(i-1):(i+2)]) for i in range(1,len(model_ir_lstm_post_smoothed_1bp_DNAcycP_chrv_pred_chrV)-1)]\n",
    "model_ir_lstm_post_smoothed_1bp_DNAcycP_pred_chrV_post_smooth_1bp.append(None)\n",
    "model_ir_lstm_post_smoothed_1bp_DNAcycP_pred_chrV_post_smooth_1bp.insert(0, None)\n",
    "model_ir_lstm_post_smoothed_1bp_DNAcycP_pred_chrV_post_smooth_1bp = array(model_ir_lstm_post_smoothed_1bp_DNAcycP_pred_chrV_post_smooth_1bp)\n",
    "genome_df_chrV[\"model_ir_lstm_post_smoothed_1bp_DNAcycP_pred_chrV_post_smooth_1bp\"] = model_ir_lstm_post_smoothed_1bp_DNAcycP_pred_chrV_post_smooth_1bp"
   ]
  },
  {
   "cell_type": "code",
   "execution_count": 367,
   "metadata": {},
   "outputs": [],
   "source": [
    "model_ir_lstm_post_smoothed_2bp_DNAcycP_pred_chrV_post_smooth_2bp = [np.mean(model_ir_lstm_post_smoothed_2bp_DNAcycP_chrv_pred_chrV[(i-2):(i+3)]) for i in range(2,len(model_ir_lstm_post_smoothed_2bp_DNAcycP_chrv_pred_chrV)-2)]\n",
    "model_ir_lstm_post_smoothed_2bp_DNAcycP_pred_chrV_post_smooth_2bp.append(None)\n",
    "model_ir_lstm_post_smoothed_2bp_DNAcycP_pred_chrV_post_smooth_2bp.append(None)\n",
    "model_ir_lstm_post_smoothed_2bp_DNAcycP_pred_chrV_post_smooth_2bp.insert(0, None)\n",
    "model_ir_lstm_post_smoothed_2bp_DNAcycP_pred_chrV_post_smooth_2bp.insert(0, None)\n",
    "model_ir_lstm_post_smoothed_2bp_DNAcycP_pred_chrV_post_smooth_2bp = array(model_ir_lstm_post_smoothed_2bp_DNAcycP_pred_chrV_post_smooth_2bp)\n",
    "genome_df_chrV[\"model_ir_lstm_post_smoothed_2bp_DNAcycP_pred_chrV_post_smooth_2bp\"] = model_ir_lstm_post_smoothed_2bp_DNAcycP_pred_chrV_post_smooth_2bp"
   ]
  },
  {
   "cell_type": "code",
   "execution_count": 368,
   "metadata": {},
   "outputs": [],
   "source": [
    "model_ir_lstm_post_smoothed_3bp_DNAcycP_pred_chrV_post_smooth_3bp = [np.mean(model_ir_lstm_post_smoothed_3bp_DNAcycP_chrv_pred_chrV[(i-3):(i+4)]) for i in range(3,len(model_ir_lstm_post_smoothed_3bp_DNAcycP_chrv_pred_chrV)-3)]\n",
    "model_ir_lstm_post_smoothed_3bp_DNAcycP_pred_chrV_post_smooth_3bp.append(None)\n",
    "model_ir_lstm_post_smoothed_3bp_DNAcycP_pred_chrV_post_smooth_3bp.append(None)\n",
    "model_ir_lstm_post_smoothed_3bp_DNAcycP_pred_chrV_post_smooth_3bp.append(None)\n",
    "model_ir_lstm_post_smoothed_3bp_DNAcycP_pred_chrV_post_smooth_3bp.insert(0, None)\n",
    "model_ir_lstm_post_smoothed_3bp_DNAcycP_pred_chrV_post_smooth_3bp.insert(0, None)\n",
    "model_ir_lstm_post_smoothed_3bp_DNAcycP_pred_chrV_post_smooth_3bp.insert(0, None)\n",
    "model_ir_lstm_post_smoothed_3bp_DNAcycP_pred_chrV_post_smooth_3bp = array(model_ir_lstm_post_smoothed_3bp_DNAcycP_pred_chrV_post_smooth_3bp)\n",
    "genome_df_chrV[\"model_ir_lstm_post_smoothed_3bp_DNAcycP_pred_chrV_post_smooth_3bp\"] = model_ir_lstm_post_smoothed_3bp_DNAcycP_pred_chrV_post_smooth_3bp"
   ]
  },
  {
   "cell_type": "code",
   "execution_count": 386,
   "metadata": {},
   "outputs": [],
   "source": [
    "model_ir_lstm_post_smoothed_4bp_DNAcycP_pred_chrV_post_smooth_4bp = [np.mean(model_ir_lstm_post_smoothed_4bp_DNAcycP_chrv_pred_chrV[(i-4):(i+5)]) for i in range(4,len(model_ir_lstm_post_smoothed_4bp_DNAcycP_chrv_pred_chrV)-4)]\n",
    "model_ir_lstm_post_smoothed_4bp_DNAcycP_pred_chrV_post_smooth_4bp.append(None)\n",
    "model_ir_lstm_post_smoothed_4bp_DNAcycP_pred_chrV_post_smooth_4bp.append(None)\n",
    "model_ir_lstm_post_smoothed_4bp_DNAcycP_pred_chrV_post_smooth_4bp.append(None)\n",
    "model_ir_lstm_post_smoothed_4bp_DNAcycP_pred_chrV_post_smooth_4bp.append(None)\n",
    "model_ir_lstm_post_smoothed_4bp_DNAcycP_pred_chrV_post_smooth_4bp.insert(0, None)\n",
    "model_ir_lstm_post_smoothed_4bp_DNAcycP_pred_chrV_post_smooth_4bp.insert(0, None)\n",
    "model_ir_lstm_post_smoothed_4bp_DNAcycP_pred_chrV_post_smooth_4bp.insert(0, None)\n",
    "model_ir_lstm_post_smoothed_4bp_DNAcycP_pred_chrV_post_smooth_4bp.insert(0, None)\n",
    "model_ir_lstm_post_smoothed_4bp_DNAcycP_pred_chrV_post_smooth_4bp = array(model_ir_lstm_post_smoothed_4bp_DNAcycP_pred_chrV_post_smooth_4bp)\n",
    "genome_df_chrV[\"model_ir_lstm_post_smoothed_4bp_DNAcycP_pred_chrV_post_smooth_4bp\"] = model_ir_lstm_post_smoothed_4bp_DNAcycP_pred_chrV_post_smooth_4bp"
   ]
  },
  {
   "cell_type": "code",
   "execution_count": null,
   "metadata": {},
   "outputs": [],
   "source": [
    "# model_ir_lstm_post_smoothed_4bp_DNAcycP_pred_chrV_post_smooth_4bp_weighted = [np.average(model_ir_lstm_post_smoothed_4bp_DNAcycP_chrv_pred_chrV[(i-4):(i+5)].flatten(), weights=[1,2,3,4,5,4,3,2,1]) for i in range(4,len(model_ir_lstm_post_smoothed_4bp_DNAcycP_chrv_pred_chrV)-4)]\n",
    "# model_ir_lstm_post_smoothed_4bp_DNAcycP_pred_chrV_post_smooth_4bp_weighted.append(None)\n",
    "# model_ir_lstm_post_smoothed_4bp_DNAcycP_pred_chrV_post_smooth_4bp_weighted.append(None)\n",
    "# model_ir_lstm_post_smoothed_4bp_DNAcycP_pred_chrV_post_smooth_4bp_weighted.append(None)\n",
    "# model_ir_lstm_post_smoothed_4bp_DNAcycP_pred_chrV_post_smooth_4bp_weighted.append(None)\n",
    "# model_ir_lstm_post_smoothed_4bp_DNAcycP_pred_chrV_post_smooth_4bp_weighted.insert(0, None)\n",
    "# model_ir_lstm_post_smoothed_4bp_DNAcycP_pred_chrV_post_smooth_4bp_weighted.insert(0, None)\n",
    "# model_ir_lstm_post_smoothed_4bp_DNAcycP_pred_chrV_post_smooth_4bp_weighted.insert(0, None)\n",
    "# model_ir_lstm_post_smoothed_4bp_DNAcycP_pred_chrV_post_smooth_4bp_weighted.insert(0, None)\n",
    "# model_ir_lstm_post_smoothed_4bp_DNAcycP_pred_chrV_post_smooth_4bp_weighted = array(model_ir_lstm_post_smoothed_4bp_DNAcycP_pred_chrV_post_smooth_4bp_weighted)\n",
    "# genome_df_chrV[\"model_ir_lstm_post_smoothed_4bp_DNAcycP_pred_chrV_post_smooth_4bp_weighted\"] = model_ir_lstm_post_smoothed_4bp_DNAcycP_pred_chrV_post_smooth_4bp_weighted"
   ]
  },
  {
   "cell_type": "code",
   "execution_count": 345,
   "metadata": {},
   "outputs": [],
   "source": [
    "model_ir_lstm_post_smoothed_5bp_DNAcycP_chrv_pred_chrV_post_smooth_5bp = [np.mean(model_ir_lstm_post_smoothed_5bp_DNAcycP_chrv_pred_chrV[(i-5):(i+6)]) for i in range(5,len(model_ir_lstm_post_smoothed_5bp_DNAcycP_chrv_pred_chrV)-5)]\n",
    "model_ir_lstm_post_smoothed_5bp_DNAcycP_chrv_pred_chrV_post_smooth_5bp.append(None)\n",
    "model_ir_lstm_post_smoothed_5bp_DNAcycP_chrv_pred_chrV_post_smooth_5bp.append(None)\n",
    "model_ir_lstm_post_smoothed_5bp_DNAcycP_chrv_pred_chrV_post_smooth_5bp.append(None)\n",
    "model_ir_lstm_post_smoothed_5bp_DNAcycP_chrv_pred_chrV_post_smooth_5bp.append(None)\n",
    "model_ir_lstm_post_smoothed_5bp_DNAcycP_chrv_pred_chrV_post_smooth_5bp.append(None)\n",
    "model_ir_lstm_post_smoothed_5bp_DNAcycP_chrv_pred_chrV_post_smooth_5bp.insert(0, None)\n",
    "model_ir_lstm_post_smoothed_5bp_DNAcycP_chrv_pred_chrV_post_smooth_5bp.insert(0, None)\n",
    "model_ir_lstm_post_smoothed_5bp_DNAcycP_chrv_pred_chrV_post_smooth_5bp.insert(0, None)\n",
    "model_ir_lstm_post_smoothed_5bp_DNAcycP_chrv_pred_chrV_post_smooth_5bp.insert(0, None)\n",
    "model_ir_lstm_post_smoothed_5bp_DNAcycP_chrv_pred_chrV_post_smooth_5bp.insert(0, None)\n",
    "model_ir_lstm_post_smoothed_5bp_DNAcycP_chrv_pred_chrV_post_smooth_5bp = array(model_ir_lstm_post_smoothed_5bp_DNAcycP_chrv_pred_chrV_post_smooth_5bp)\n",
    "genome_df_chrV[\"model_ir_lstm_post_smoothed_5bp_DNAcycP_chrv_pred_chrV_post_smooth_5bp\"] = model_ir_lstm_post_smoothed_5bp_DNAcycP_chrv_pred_chrV_post_smooth_5bp"
   ]
  },
  {
   "cell_type": "code",
   "execution_count": 416,
   "metadata": {},
   "outputs": [],
   "source": [
    "model_ir_lstm_post_smoothed_4and5bp_DNAcycP_pred_chrV_post_smooth_4and5bp = [(model_ir_lstm_post_smoothed_4bp_DNAcycP_pred_chrV_post_smooth_4bp[i]*w_4 + model_ir_lstm_post_smoothed_5bp_DNAcycP_chrv_pred_chrV_post_smooth_5bp[i]*w_5)/(w_4+w_5) if model_ir_lstm_post_smoothed_5bp_DNAcycP_chrv_pred_chrV_post_smooth_5bp[i] is not None else None for i in range(len(model_ir_lstm_post_smoothed_5bp_DNAcycP_chrv_pred_chrV_post_smooth_5bp))]\n",
    "model_ir_lstm_post_smoothed_4and5bp_DNAcycP_pred_chrV_post_smooth_4and5bp = array(model_ir_lstm_post_smoothed_4and5bp_DNAcycP_pred_chrV_post_smooth_4and5bp)\n",
    "genome_df_chrV[\"model_ir_lstm_post_smoothed_4and5bp_DNAcycP_pred_chrV_post_smooth_4and5bp\"] = model_ir_lstm_post_smoothed_4and5bp_DNAcycP_pred_chrV_post_smooth_4and5bp"
   ]
  },
  {
   "cell_type": "code",
   "execution_count": null,
   "metadata": {},
   "outputs": [],
   "source": []
  },
  {
   "cell_type": "markdown",
   "metadata": {},
   "source": [
    "### Original C0, Cn Measurements:"
   ]
  },
  {
   "cell_type": "code",
   "execution_count": 250,
   "metadata": {},
   "outputs": [],
   "source": [
    "cycle6 = pd.read_csv(\"/Users/Brody1/Dropbox/Northwestern/DNA_Cyclizability/cycle6.txt\",delimiter = \",\")\n",
    "# genome_df_chrV_everyseq = pd.read_csv(\"/Users/Brody1/Dropbox/Northwestern/DNA_Cyclizability/data/Created/yeast_chrV_1bpresolution_subsequence50.csv\")"
   ]
  },
  {
   "cell_type": "code",
   "execution_count": 251,
   "metadata": {},
   "outputs": [],
   "source": [
    "j=0\n",
    "matched_pairs = []\n",
    "for i, seq in enumerate(cycle6.Sequence):\n",
    "    cur_iter = 0\n",
    "    while genome_df_chrV.sequence[j+cur_iter] != seq:\n",
    "        cur_iter += 1\n",
    "        if cur_iter > 200:\n",
    "            break\n",
    "    if cur_iter > 200:\n",
    "        continue\n",
    "    j += cur_iter\n",
    "    matched_pairs.append((i,j))"
   ]
  },
  {
   "cell_type": "code",
   "execution_count": 252,
   "metadata": {},
   "outputs": [],
   "source": [
    "genome_df_chrV[\"C0\"] = None\n",
    "genome_df_chrV[\"C26\"] = None\n",
    "genome_df_chrV[\"C29\"] = None\n",
    "genome_df_chrV[\"C31\"] = None"
   ]
  },
  {
   "cell_type": "code",
   "execution_count": null,
   "metadata": {},
   "outputs": [],
   "source": [
    "for (i, j) in matched_pairs:\n",
    "    if genome_df_chrV[\"sequence\"].iloc[j] != cycle6[\"Sequence\"].iloc[i]:\n",
    "        print(\"Error!\")\n",
    "        break\n",
    "    genome_df_chrV[\"C0\"].iloc[j] = cycle6[\"C0\"].iloc[i]\n",
    "    genome_df_chrV[\"C26\"].iloc[j] = cycle6[\"n=26\"].iloc[i]\n",
    "    genome_df_chrV[\"C29\"].iloc[j] = cycle6[\"n=29\"].iloc[i]\n",
    "    genome_df_chrV[\"C31\"].iloc[j] = cycle6[\"n=31\"].iloc[i]"
   ]
  },
  {
   "cell_type": "code",
   "execution_count": null,
   "metadata": {},
   "outputs": [],
   "source": []
  },
  {
   "cell_type": "markdown",
   "metadata": {},
   "source": [
    "## Detrend DNAcycP values:"
   ]
  },
  {
   "cell_type": "code",
   "execution_count": 254,
   "metadata": {},
   "outputs": [],
   "source": [
    "DNAcycP_detrend_post_smooth_1bp = [DNAcycP_pred_chrV[i] - DNAcycP_pred_chrV_post_smooth_1bp[i] for i in range(1,len(DNAcycP_pred_chrV)-1)]\n",
    "DNAcycP_detrend_post_smooth_1bp.append(None)\n",
    "DNAcycP_detrend_post_smooth_1bp.insert(0, None)\n",
    "DNAcycP_detrend_post_smooth_1bp = array(DNAcycP_detrend_post_smooth_1bp)\n",
    "genome_df_chrV[\"DNAcycP_detrend_post_smooth_1bp\"] = DNAcycP_detrend_post_smooth_1bp"
   ]
  },
  {
   "cell_type": "code",
   "execution_count": 255,
   "metadata": {},
   "outputs": [],
   "source": [
    "DNAcycP_detrend_post_smooth_2bp = [DNAcycP_pred_chrV[i] - DNAcycP_pred_chrV_post_smooth_2bp[i] for i in range(2,len(DNAcycP_pred_chrV)-2)]\n",
    "DNAcycP_detrend_post_smooth_2bp.append(None)\n",
    "DNAcycP_detrend_post_smooth_2bp.append(None)\n",
    "DNAcycP_detrend_post_smooth_2bp.insert(0, None)\n",
    "DNAcycP_detrend_post_smooth_2bp.insert(0, None)\n",
    "DNAcycP_detrend_post_smooth_2bp = array(DNAcycP_detrend_post_smooth_2bp)\n",
    "genome_df_chrV[\"DNAcycP_detrend_post_smooth_2bp\"] = DNAcycP_detrend_post_smooth_2bp"
   ]
  },
  {
   "cell_type": "code",
   "execution_count": 256,
   "metadata": {},
   "outputs": [],
   "source": [
    "DNAcycP_detrend_post_smooth_3bp = [DNAcycP_pred_chrV[i] - DNAcycP_pred_chrV_post_smooth_3bp[i] for i in range(3,len(DNAcycP_pred_chrV)-3)]\n",
    "DNAcycP_detrend_post_smooth_3bp.append(None)\n",
    "DNAcycP_detrend_post_smooth_3bp.append(None)\n",
    "DNAcycP_detrend_post_smooth_3bp.append(None)\n",
    "DNAcycP_detrend_post_smooth_3bp.insert(0, None)\n",
    "DNAcycP_detrend_post_smooth_3bp.insert(0, None)\n",
    "DNAcycP_detrend_post_smooth_3bp.insert(0, None)\n",
    "DNAcycP_detrend_post_smooth_3bp = array(DNAcycP_detrend_post_smooth_3bp)\n",
    "genome_df_chrV[\"DNAcycP_detrend_post_smooth_3bp\"] = DNAcycP_detrend_post_smooth_3bp"
   ]
  },
  {
   "cell_type": "code",
   "execution_count": 257,
   "metadata": {},
   "outputs": [],
   "source": [
    "DNAcycP_detrend_post_smooth_4bp = [DNAcycP_pred_chrV[i] - DNAcycP_pred_chrV_post_smooth_4bp[i] for i in range(4,len(DNAcycP_pred_chrV)-4)]\n",
    "DNAcycP_detrend_post_smooth_4bp.append(None)\n",
    "DNAcycP_detrend_post_smooth_4bp.append(None)\n",
    "DNAcycP_detrend_post_smooth_4bp.append(None)\n",
    "DNAcycP_detrend_post_smooth_4bp.append(None)\n",
    "DNAcycP_detrend_post_smooth_4bp.insert(0, None)\n",
    "DNAcycP_detrend_post_smooth_4bp.insert(0, None)\n",
    "DNAcycP_detrend_post_smooth_4bp.insert(0, None)\n",
    "DNAcycP_detrend_post_smooth_4bp.insert(0, None)\n",
    "DNAcycP_detrend_post_smooth_4bp = array(DNAcycP_detrend_post_smooth_4bp)\n",
    "genome_df_chrV[\"DNAcycP_detrend_post_smooth_4bp\"] = DNAcycP_detrend_post_smooth_4bp"
   ]
  },
  {
   "cell_type": "code",
   "execution_count": 258,
   "metadata": {},
   "outputs": [],
   "source": [
    "DNAcycP_detrend_post_smooth_5bp = [DNAcycP_pred_chrV[i] - DNAcycP_pred_chrV_post_smooth_5bp[i] for i in range(5,len(DNAcycP_pred_chrV)-5)]\n",
    "DNAcycP_detrend_post_smooth_5bp.append(None)\n",
    "DNAcycP_detrend_post_smooth_5bp.append(None)\n",
    "DNAcycP_detrend_post_smooth_5bp.append(None)\n",
    "DNAcycP_detrend_post_smooth_5bp.append(None)\n",
    "DNAcycP_detrend_post_smooth_5bp.append(None)\n",
    "DNAcycP_detrend_post_smooth_5bp.insert(0, None)\n",
    "DNAcycP_detrend_post_smooth_5bp.insert(0, None)\n",
    "DNAcycP_detrend_post_smooth_5bp.insert(0, None)\n",
    "DNAcycP_detrend_post_smooth_5bp.insert(0, None)\n",
    "DNAcycP_detrend_post_smooth_5bp.insert(0, None)\n",
    "DNAcycP_detrend_post_smooth_5bp = array(DNAcycP_detrend_post_smooth_5bp)\n",
    "genome_df_chrV[\"DNAcycP_detrend_post_smooth_5bp\"] = DNAcycP_detrend_post_smooth_5bp"
   ]
  },
  {
   "cell_type": "code",
   "execution_count": 417,
   "metadata": {},
   "outputs": [],
   "source": [
    "DNAcycP_detrend_post_smooth_4and5bp = [DNAcycP_pred_chrV[i] - DNAcycP_pred_chrV_post_smooth_4and5bp[i] for i in range(5,len(DNAcycP_pred_chrV)-5)]\n",
    "DNAcycP_detrend_post_smooth_4and5bp.append(None)\n",
    "DNAcycP_detrend_post_smooth_4and5bp.append(None)\n",
    "DNAcycP_detrend_post_smooth_4and5bp.append(None)\n",
    "DNAcycP_detrend_post_smooth_4and5bp.append(None)\n",
    "DNAcycP_detrend_post_smooth_4and5bp.append(None)\n",
    "DNAcycP_detrend_post_smooth_4and5bp.insert(0, None)\n",
    "DNAcycP_detrend_post_smooth_4and5bp.insert(0, None)\n",
    "DNAcycP_detrend_post_smooth_4and5bp.insert(0, None)\n",
    "DNAcycP_detrend_post_smooth_4and5bp.insert(0, None)\n",
    "DNAcycP_detrend_post_smooth_4and5bp.insert(0, None)\n",
    "DNAcycP_detrend_post_smooth_4and5bp = array(DNAcycP_detrend_post_smooth_4and5bp)\n",
    "genome_df_chrV[\"DNAcycP_detrend_post_smooth_4and5bp\"] = DNAcycP_detrend_post_smooth_4and5bp"
   ]
  },
  {
   "cell_type": "code",
   "execution_count": null,
   "metadata": {},
   "outputs": [],
   "source": []
  },
  {
   "cell_type": "markdown",
   "metadata": {},
   "source": [
    "## Detrend DNAcycP_post_smoothed_C0 values:"
   ]
  },
  {
   "cell_type": "code",
   "execution_count": 369,
   "metadata": {},
   "outputs": [],
   "source": [
    "model_ir_lstm_post_smoothed_1bp_DNAcycP_detrend_post_smooth_1bp = [model_ir_lstm_post_smoothed_5bp_DNAcycP_chrv_pred_chrV[i] - model_ir_lstm_post_smoothed_1bp_DNAcycP_pred_chrV_post_smooth_1bp[i] for i in range(1,len(model_ir_lstm_post_smoothed_1bp_DNAcycP_chrv_pred_chrV)-1)]\n",
    "model_ir_lstm_post_smoothed_1bp_DNAcycP_detrend_post_smooth_1bp.append(None)\n",
    "model_ir_lstm_post_smoothed_1bp_DNAcycP_detrend_post_smooth_1bp.insert(0, None)\n",
    "model_ir_lstm_post_smoothed_1bp_DNAcycP_detrend_post_smooth_1bp = array(model_ir_lstm_post_smoothed_1bp_DNAcycP_detrend_post_smooth_1bp)\n",
    "genome_df_chrV[\"model_ir_lstm_post_smoothed_1bp_DNAcycP_detrend_post_smooth_1bp\"] = model_ir_lstm_post_smoothed_1bp_DNAcycP_detrend_post_smooth_1bp"
   ]
  },
  {
   "cell_type": "code",
   "execution_count": 370,
   "metadata": {},
   "outputs": [],
   "source": [
    "model_ir_lstm_post_smoothed_2bp_DNAcycP_detrend_post_smooth_2bp = [model_ir_lstm_post_smoothed_2bp_DNAcycP_chrv_pred_chrV[i] - model_ir_lstm_post_smoothed_2bp_DNAcycP_pred_chrV_post_smooth_2bp[i] for i in range(2,len(model_ir_lstm_post_smoothed_2bp_DNAcycP_chrv_pred_chrV)-2)]\n",
    "model_ir_lstm_post_smoothed_2bp_DNAcycP_detrend_post_smooth_2bp.append(None)\n",
    "model_ir_lstm_post_smoothed_2bp_DNAcycP_detrend_post_smooth_2bp.append(None)\n",
    "model_ir_lstm_post_smoothed_2bp_DNAcycP_detrend_post_smooth_2bp.insert(0, None)\n",
    "model_ir_lstm_post_smoothed_2bp_DNAcycP_detrend_post_smooth_2bp.insert(0, None)\n",
    "model_ir_lstm_post_smoothed_2bp_DNAcycP_detrend_post_smooth_2bp = array(model_ir_lstm_post_smoothed_2bp_DNAcycP_detrend_post_smooth_2bp)\n",
    "genome_df_chrV[\"model_ir_lstm_post_smoothed_2bp_DNAcycP_detrend_post_smooth_2bp\"] = model_ir_lstm_post_smoothed_2bp_DNAcycP_detrend_post_smooth_2bp"
   ]
  },
  {
   "cell_type": "code",
   "execution_count": 371,
   "metadata": {},
   "outputs": [],
   "source": [
    "model_ir_lstm_post_smoothed_3bp_DNAcycP_detrend_post_smooth_3bp = [model_ir_lstm_post_smoothed_3bp_DNAcycP_chrv_pred_chrV[i] - model_ir_lstm_post_smoothed_3bp_DNAcycP_pred_chrV_post_smooth_3bp[i] for i in range(3,len(model_ir_lstm_post_smoothed_3bp_DNAcycP_chrv_pred_chrV)-3)]\n",
    "model_ir_lstm_post_smoothed_3bp_DNAcycP_detrend_post_smooth_3bp.append(None)\n",
    "model_ir_lstm_post_smoothed_3bp_DNAcycP_detrend_post_smooth_3bp.append(None)\n",
    "model_ir_lstm_post_smoothed_3bp_DNAcycP_detrend_post_smooth_3bp.append(None)\n",
    "model_ir_lstm_post_smoothed_3bp_DNAcycP_detrend_post_smooth_3bp.insert(0, None)\n",
    "model_ir_lstm_post_smoothed_3bp_DNAcycP_detrend_post_smooth_3bp.insert(0, None)\n",
    "model_ir_lstm_post_smoothed_3bp_DNAcycP_detrend_post_smooth_3bp.insert(0, None)\n",
    "model_ir_lstm_post_smoothed_3bp_DNAcycP_detrend_post_smooth_3bp = array(model_ir_lstm_post_smoothed_3bp_DNAcycP_detrend_post_smooth_3bp)\n",
    "genome_df_chrV[\"model_ir_lstm_post_smoothed_3bp_DNAcycP_detrend_post_smooth_3bp\"] = model_ir_lstm_post_smoothed_3bp_DNAcycP_detrend_post_smooth_3bp"
   ]
  },
  {
   "cell_type": "code",
   "execution_count": 387,
   "metadata": {},
   "outputs": [],
   "source": [
    "model_ir_lstm_post_smoothed_4bp_DNAcycP_detrend_post_smooth_4bp = [model_ir_lstm_post_smoothed_4bp_DNAcycP_chrv_pred_chrV[i] - model_ir_lstm_post_smoothed_4bp_DNAcycP_pred_chrV_post_smooth_4bp[i] for i in range(4,len(model_ir_lstm_post_smoothed_4bp_DNAcycP_chrv_pred_chrV)-4)]\n",
    "model_ir_lstm_post_smoothed_4bp_DNAcycP_detrend_post_smooth_4bp.append(None)\n",
    "model_ir_lstm_post_smoothed_4bp_DNAcycP_detrend_post_smooth_4bp.append(None)\n",
    "model_ir_lstm_post_smoothed_4bp_DNAcycP_detrend_post_smooth_4bp.append(None)\n",
    "model_ir_lstm_post_smoothed_4bp_DNAcycP_detrend_post_smooth_4bp.append(None)\n",
    "model_ir_lstm_post_smoothed_4bp_DNAcycP_detrend_post_smooth_4bp.insert(0, None)\n",
    "model_ir_lstm_post_smoothed_4bp_DNAcycP_detrend_post_smooth_4bp.insert(0, None)\n",
    "model_ir_lstm_post_smoothed_4bp_DNAcycP_detrend_post_smooth_4bp.insert(0, None)\n",
    "model_ir_lstm_post_smoothed_4bp_DNAcycP_detrend_post_smooth_4bp.insert(0, None)\n",
    "model_ir_lstm_post_smoothed_4bp_DNAcycP_detrend_post_smooth_4bp = array(model_ir_lstm_post_smoothed_4bp_DNAcycP_detrend_post_smooth_4bp)\n",
    "genome_df_chrV[\"model_ir_lstm_post_smoothed_4bp_DNAcycP_detrend_post_smooth_4bp\"] = model_ir_lstm_post_smoothed_4bp_DNAcycP_detrend_post_smooth_4bp"
   ]
  },
  {
   "cell_type": "code",
   "execution_count": 346,
   "metadata": {},
   "outputs": [],
   "source": [
    "model_ir_lstm_post_smoothed_5bp_DNAcycP_detrend_post_smooth_5bp = [model_ir_lstm_post_smoothed_5bp_DNAcycP_chrv_pred_chrV[i] - model_ir_lstm_post_smoothed_5bp_DNAcycP_chrv_pred_chrV_post_smooth_5bp[i] for i in range(5,len(model_ir_lstm_post_smoothed_5bp_DNAcycP_chrv_pred_chrV)-5)]\n",
    "model_ir_lstm_post_smoothed_5bp_DNAcycP_detrend_post_smooth_5bp.append(None)\n",
    "model_ir_lstm_post_smoothed_5bp_DNAcycP_detrend_post_smooth_5bp.append(None)\n",
    "model_ir_lstm_post_smoothed_5bp_DNAcycP_detrend_post_smooth_5bp.append(None)\n",
    "model_ir_lstm_post_smoothed_5bp_DNAcycP_detrend_post_smooth_5bp.append(None)\n",
    "model_ir_lstm_post_smoothed_5bp_DNAcycP_detrend_post_smooth_5bp.append(None)\n",
    "model_ir_lstm_post_smoothed_5bp_DNAcycP_detrend_post_smooth_5bp.insert(0, None)\n",
    "model_ir_lstm_post_smoothed_5bp_DNAcycP_detrend_post_smooth_5bp.insert(0, None)\n",
    "model_ir_lstm_post_smoothed_5bp_DNAcycP_detrend_post_smooth_5bp.insert(0, None)\n",
    "model_ir_lstm_post_smoothed_5bp_DNAcycP_detrend_post_smooth_5bp.insert(0, None)\n",
    "model_ir_lstm_post_smoothed_5bp_DNAcycP_detrend_post_smooth_5bp.insert(0, None)\n",
    "model_ir_lstm_post_smoothed_5bp_DNAcycP_detrend_post_smooth_5bp = array(model_ir_lstm_post_smoothed_5bp_DNAcycP_detrend_post_smooth_5bp)\n",
    "genome_df_chrV[\"model_ir_lstm_post_smoothed_5bp_DNAcycP_detrend_post_smooth_5bp\"] = model_ir_lstm_post_smoothed_5bp_DNAcycP_detrend_post_smooth_5bp"
   ]
  },
  {
   "cell_type": "code",
   "execution_count": 419,
   "metadata": {},
   "outputs": [],
   "source": [
    "model_ir_lstm_post_smoothed_4and5bp_DNAcycP_detrend_post_smooth_4and5bp = [model_ir_lstm_post_smoothed_4and5bp_DNAcycP_chrv_pred_chrV[i] - model_ir_lstm_post_smoothed_4and5bp_DNAcycP_pred_chrV_post_smooth_4and5bp[i] for i in range(5,len(model_ir_lstm_post_smoothed_4and5bp_DNAcycP_chrv_pred_chrV)-5)]\n",
    "model_ir_lstm_post_smoothed_4and5bp_DNAcycP_detrend_post_smooth_4and5bp.append(None)\n",
    "model_ir_lstm_post_smoothed_4and5bp_DNAcycP_detrend_post_smooth_4and5bp.append(None)\n",
    "model_ir_lstm_post_smoothed_4and5bp_DNAcycP_detrend_post_smooth_4and5bp.append(None)\n",
    "model_ir_lstm_post_smoothed_4and5bp_DNAcycP_detrend_post_smooth_4and5bp.append(None)\n",
    "model_ir_lstm_post_smoothed_4and5bp_DNAcycP_detrend_post_smooth_4and5bp.append(None)\n",
    "model_ir_lstm_post_smoothed_4and5bp_DNAcycP_detrend_post_smooth_4and5bp.insert(0, None)\n",
    "model_ir_lstm_post_smoothed_4and5bp_DNAcycP_detrend_post_smooth_4and5bp.insert(0, None)\n",
    "model_ir_lstm_post_smoothed_4and5bp_DNAcycP_detrend_post_smooth_4and5bp.insert(0, None)\n",
    "model_ir_lstm_post_smoothed_4and5bp_DNAcycP_detrend_post_smooth_4and5bp.insert(0, None)\n",
    "model_ir_lstm_post_smoothed_4and5bp_DNAcycP_detrend_post_smooth_4and5bp.insert(0, None)\n",
    "model_ir_lstm_post_smoothed_4and5bp_DNAcycP_detrend_post_smooth_4and5bp = array(model_ir_lstm_post_smoothed_4and5bp_DNAcycP_detrend_post_smooth_4and5bp)\n",
    "genome_df_chrV[\"model_ir_lstm_post_smoothed_4and5bp_DNAcycP_detrend_post_smooth_4and5bp\"] = model_ir_lstm_post_smoothed_4and5bp_DNAcycP_detrend_post_smooth_4and5bp"
   ]
  },
  {
   "cell_type": "code",
   "execution_count": null,
   "metadata": {},
   "outputs": [],
   "source": []
  },
  {
   "cell_type": "code",
   "execution_count": null,
   "metadata": {},
   "outputs": [],
   "source": [
    "# sequence_length = 50\n",
    "sequence_length = 100\n",
    "# sequence_length = 147\n",
    "# sequence_length = 200\n",
    "# sequence_length = 2000\n",
    "\n",
    "# starting_point = 0\n",
    "# starting_point = 200\n",
    "# starting_point = 34048\n",
    "# starting_point = 107225 # Relatively flat\n",
    "# starting_point=  244776 # Interesting volatility\n",
    "# starting_point = 277215 # 5bp periodicity\n",
    "# starting_point = 403190 # 5bp periodicity\n",
    "# starting_point = 428150 # High C0 values, 1bp volatility\n",
    "# starting_point = 465270 # High C0 values, some 5bp periodicity\n",
    "# starting_point = 465281 # somewhat abnormal 5bp periodicity\n",
    "# starting_point = 469786 # mild 1bp volatility\n",
    "# starting_point = 502770 # A High C0 value, 5bp periodicity\n",
    "# starting_point = 522942 # One big peak\n",
    "# starting_point = 560846 # 1bp volatility\n",
    "starting_point = np.random.randint(genome_df_chrV.shape[0]-sequence_length)\n",
    "\n",
    "alpha_val = 0.5\n",
    "\n",
    "ylims=[-0.6, 0.6]\n",
    "\n",
    "plt.figure(figsize=(12,7))\n",
    "\n",
    "# plt.plot(list(range(starting_point, starting_point + sequence_length)),\n",
    "#          DNAcycP_detrend_post_smooth_1bp[range(starting_point, starting_point + sequence_length)], label=\"Detrended DNAcycP, 1bp\", alpha=alpha_val)\n",
    "# plt.plot(list(range(starting_point, starting_point + sequence_length)),\n",
    "#          DNAcycP_detrend_post_smooth_2bp[range(starting_point, starting_point + sequence_length)], label=\"Detrended DNAcycP, 2bp\", alpha=alpha_val)\n",
    "# plt.plot(list(range(starting_point, starting_point + sequence_length)),\n",
    "#          DNAcycP_detrend_post_smooth_3bp[range(starting_point, starting_point + sequence_length)], label=\"Detrended DNAcycP, 3bp\", alpha=alpha_val)\n",
    "# plt.plot(list(range(starting_point, starting_point + sequence_length)),\n",
    "#          DNAcycP_detrend_post_smooth_4bp[range(starting_point, starting_point + sequence_length)], label=\"Detrended DNAcycP, 4bp\", alpha=alpha_val)\n",
    "# plt.plot(list(range(starting_point, starting_point + sequence_length)),\n",
    "#          DNAcycP_detrend_post_smooth_5bp[range(starting_point, starting_point + sequence_length)], label=\"Detrended DNAcycP, 5bp\", alpha=alpha_val)\n",
    "plt.plot(list(range(starting_point, starting_point + sequence_length)),\n",
    "         DNAcycP_detrend_post_smooth_4and5bp[range(starting_point, starting_point + sequence_length)], label=\"Detrended DNAcycP, 4/5bp\", alpha=alpha_val)\n",
    "\n",
    "\n",
    "# plt.plot(list(range(starting_point, starting_point + sequence_length)),\n",
    "#          model_ir_lstm_post_smoothed_1bp_DNAcycP_detrend_post_smooth_1bp[range(starting_point, starting_point + sequence_length)], label=\"Detrended DNAcycP_post_smoothed_C0, 1bp\", alpha=alpha_val)\n",
    "# plt.plot(list(range(starting_point, starting_point + sequence_length)),\n",
    "#          model_ir_lstm_post_smoothed_2bp_DNAcycP_detrend_post_smooth_2bp[range(starting_point, starting_point + sequence_length)], label=\"Detrended DNAcycP_post_smoothed_C0, 2bp\", alpha=alpha_val)\n",
    "# plt.plot(list(range(starting_point, starting_point + sequence_length)),\n",
    "        #  model_ir_lstm_post_smoothed_3bp_DNAcycP_detrend_post_smooth_3bp[range(starting_point, starting_point + sequence_length)], label=\"Detrended DNAcycP_post_smoothed_C0, 3bp\", alpha=alpha_val)\n",
    "# plt.plot(list(range(starting_point, starting_point + sequence_length)),\n",
    "#          model_ir_lstm_post_smoothed_4bp_DNAcycP_detrend_post_smooth_4bp[range(starting_point, starting_point + sequence_length)], label=\"Detrended DNAcycP_post_smoothed_C0, 4bp\", alpha=alpha_val)\n",
    "# plt.plot(list(range(starting_point, starting_point + sequence_length)),\n",
    "#          model_ir_lstm_post_smoothed_5bp_DNAcycP_detrend_post_smooth_5bp[range(starting_point, starting_point + sequence_length)], label=\"Detrended DNAcycP_post_smoothed_C0, 5bp\", alpha=alpha_val)\n",
    "plt.plot(list(range(starting_point, starting_point + sequence_length)),\n",
    "         model_ir_lstm_post_smoothed_4and5bp_DNAcycP_detrend_post_smooth_4and5bp[range(starting_point, starting_point + sequence_length)], label=\"Detrended DNAcycP_post_smoothed_C0, 4/5bp\", alpha=alpha_val)\n",
    "\n",
    "plt.vlines(list(range(starting_point, starting_point+sequence_length, 5)), ylims[0], ylims[1], alpha=0.1)\n",
    "plt.hlines(0, starting_point, starting_point+sequence_length, alpha=0.1)\n",
    "plt.title(\"Detrended Predictions on ChrV, 1bp Resolution\")\n",
    "plt.legend(fontsize=\"small\")\n",
    "plt.ylim(ylims)\n",
    "plt.show()"
   ]
  },
  {
   "cell_type": "code",
   "execution_count": null,
   "metadata": {},
   "outputs": [],
   "source": [
    "starting_point"
   ]
  },
  {
   "cell_type": "code",
   "execution_count": 308,
   "metadata": {},
   "outputs": [],
   "source": [
    "import statsmodels.api as sm"
   ]
  },
  {
   "cell_type": "code",
   "execution_count": null,
   "metadata": {},
   "outputs": [],
   "source": [
    "# Compute autocorrelation function\n",
    "DNAcycP_autocorr = sm.tsa.acf(DNAcycP_pred_chrV, nlags=30)\n",
    "# Plot autocorrelation function\n",
    "plt.figure(figsize=(10, 5))\n",
    "plt.plot(DNAcycP_autocorr, marker='o', linestyle='-', color='b')\n",
    "plt.axhline(y=0, color='black', linestyle='--', lw=0.5)\n",
    "plt.title('Autocorrelation Function (DNAcycP)')\n",
    "plt.xlabel('Lag')\n",
    "plt.ylabel('Autocorrelation')\n",
    "plt.grid(True)\n",
    "plt.ylim(-1.1, 1.1)\n",
    "plt.show()"
   ]
  },
  {
   "cell_type": "code",
   "execution_count": null,
   "metadata": {},
   "outputs": [],
   "source": [
    "# Compute autocorrelation function\n",
    "DNAcycP_detrend_post_smooth_1bp_autocorr = sm.tsa.acf(DNAcycP_detrend_post_smooth_1bp[range(1,len(DNAcycP_pred_chrV)-1)], nlags=30)\n",
    "# Plot autocorrelation function\n",
    "plt.figure(figsize=(10, 5))\n",
    "plt.plot(DNAcycP_detrend_post_smooth_1bp_autocorr, marker='o', linestyle='-', color='b')\n",
    "plt.axhline(y=0, color='black', linestyle='--', lw=0.5)\n",
    "plt.title('Autocorrelation Function (Detrended DNAcycP, 1bp)')\n",
    "plt.xlabel('Lag')\n",
    "plt.ylabel('Autocorrelation')\n",
    "plt.grid(True)\n",
    "plt.ylim(-1.1, 1.1)\n",
    "plt.show()"
   ]
  },
  {
   "cell_type": "code",
   "execution_count": null,
   "metadata": {},
   "outputs": [],
   "source": [
    "# Compute autocorrelation function\n",
    "model_ir_lstm_post_smoothed_1bp_DNAcycP_detrend_post_smooth_1bp_autocorr = sm.tsa.acf(model_ir_lstm_post_smoothed_1bp_DNAcycP_detrend_post_smooth_1bp[range(5,len(DNAcycP_pred_chrV)-5)], nlags=30)\n",
    "# Plot autocorrelation function\n",
    "plt.figure(figsize=(10, 5))\n",
    "plt.plot(model_ir_lstm_post_smoothed_1bp_DNAcycP_detrend_post_smooth_1bp_autocorr, marker='o', linestyle='-', color='b')\n",
    "plt.axhline(y=0, color='black', linestyle='--', lw=0.5)\n",
    "plt.title('Autocorrelation Function (Detrended DNAcycP_post_smoothed_C0, 1bp)')\n",
    "plt.xlabel('Lag')\n",
    "plt.ylabel('Autocorrelation')\n",
    "plt.grid(True)\n",
    "plt.ylim(-1.1, 1.1)\n",
    "plt.show()"
   ]
  },
  {
   "cell_type": "code",
   "execution_count": null,
   "metadata": {},
   "outputs": [],
   "source": [
    "# Compute autocorrelation function\n",
    "DNAcycP_detrend_post_smooth_2bp_autocorr = sm.tsa.acf(DNAcycP_detrend_post_smooth_2bp[range(2,len(DNAcycP_pred_chrV)-2)], nlags=30)\n",
    "# Plot autocorrelation function\n",
    "plt.figure(figsize=(10, 5))\n",
    "plt.plot(DNAcycP_detrend_post_smooth_2bp_autocorr, marker='o', linestyle='-', color='b')\n",
    "plt.axhline(y=0, color='black', linestyle='--', lw=0.5)\n",
    "plt.title('Autocorrelation Function (Detrended DNAcycP, 2bp)')\n",
    "plt.xlabel('Lag')\n",
    "plt.ylabel('Autocorrelation')\n",
    "plt.grid(True)\n",
    "plt.ylim(-1.1, 1.1)\n",
    "plt.show()"
   ]
  },
  {
   "cell_type": "code",
   "execution_count": null,
   "metadata": {},
   "outputs": [],
   "source": [
    "# Compute autocorrelation function\n",
    "model_ir_lstm_post_smoothed_2bp_DNAcycP_detrend_post_smooth_2bp_autocorr = sm.tsa.acf(model_ir_lstm_post_smoothed_2bp_DNAcycP_detrend_post_smooth_2bp[range(5,len(DNAcycP_pred_chrV)-5)], nlags=30)\n",
    "# Plot autocorrelation function\n",
    "plt.figure(figsize=(10, 5))\n",
    "plt.plot(model_ir_lstm_post_smoothed_2bp_DNAcycP_detrend_post_smooth_2bp_autocorr, marker='o', linestyle='-', color='b')\n",
    "plt.axhline(y=0, color='black', linestyle='--', lw=0.5)\n",
    "plt.title('Autocorrelation Function (Detrended DNAcycP_post_smoothed_C0, 2bp)')\n",
    "plt.xlabel('Lag')\n",
    "plt.ylabel('Autocorrelation')\n",
    "plt.grid(True)\n",
    "plt.ylim(-1.1, 1.1)\n",
    "plt.show()"
   ]
  },
  {
   "cell_type": "code",
   "execution_count": null,
   "metadata": {},
   "outputs": [],
   "source": [
    "# Compute autocorrelation function\n",
    "DNAcycP_detrend_post_smooth_3bp_autocorr = sm.tsa.acf(DNAcycP_detrend_post_smooth_3bp[range(3,len(DNAcycP_pred_chrV)-3)], nlags=30)\n",
    "# Plot autocorrelation function\n",
    "plt.figure(figsize=(10, 5))\n",
    "plt.plot(DNAcycP_detrend_post_smooth_3bp_autocorr, marker='o', linestyle='-', color='b')\n",
    "plt.axhline(y=0, color='black', linestyle='--', lw=0.5)\n",
    "plt.title('Autocorrelation Function (Detrended DNAcycP, 3bp)')\n",
    "plt.xlabel('Lag')\n",
    "plt.ylabel('Autocorrelation')\n",
    "plt.grid(True)\n",
    "plt.ylim(-1.1, 1.1)\n",
    "plt.show()"
   ]
  },
  {
   "cell_type": "code",
   "execution_count": null,
   "metadata": {},
   "outputs": [],
   "source": [
    "# Compute autocorrelation function\n",
    "model_ir_lstm_post_smoothed_3bp_DNAcycP_detrend_post_smooth_3bp_autocorr = sm.tsa.acf(model_ir_lstm_post_smoothed_3bp_DNAcycP_detrend_post_smooth_3bp[range(5,len(DNAcycP_pred_chrV)-5)], nlags=30)\n",
    "# Plot autocorrelation function\n",
    "plt.figure(figsize=(10, 5))\n",
    "plt.plot(model_ir_lstm_post_smoothed_3bp_DNAcycP_detrend_post_smooth_3bp_autocorr, marker='o', linestyle='-', color='b')\n",
    "plt.axhline(y=0, color='black', linestyle='--', lw=0.5)\n",
    "plt.title('Autocorrelation Function (Detrended DNAcycP_post_smoothed_C0, 3bp)')\n",
    "plt.xlabel('Lag')\n",
    "plt.ylabel('Autocorrelation')\n",
    "plt.grid(True)\n",
    "plt.ylim(-1.1, 1.1)\n",
    "plt.show()"
   ]
  },
  {
   "cell_type": "code",
   "execution_count": null,
   "metadata": {},
   "outputs": [],
   "source": [
    "# Compute autocorrelation function\n",
    "DNAcycP_detrend_post_smooth_4bp_autocorr = sm.tsa.acf(DNAcycP_detrend_post_smooth_4bp[range(4,len(DNAcycP_pred_chrV)-4)], nlags=30)\n",
    "# Plot autocorrelation function\n",
    "plt.figure(figsize=(10, 5))\n",
    "plt.plot(DNAcycP_detrend_post_smooth_4bp_autocorr, marker='o', linestyle='-', color='b')\n",
    "plt.axhline(y=0, color='black', linestyle='--', lw=0.5)\n",
    "plt.title('Autocorrelation Function (Detrended DNAcycP, 4bp)')\n",
    "plt.xlabel('Lag')\n",
    "plt.ylabel('Autocorrelation')\n",
    "plt.grid(True)\n",
    "plt.ylim(-1.1, 1.1)\n",
    "plt.show()"
   ]
  },
  {
   "cell_type": "code",
   "execution_count": null,
   "metadata": {},
   "outputs": [],
   "source": [
    "# Compute autocorrelation function\n",
    "model_ir_lstm_post_smoothed_4bp_DNAcycP_detrend_post_smooth_4bp_autocorr = sm.tsa.acf(model_ir_lstm_post_smoothed_4bp_DNAcycP_detrend_post_smooth_4bp[range(5,len(DNAcycP_pred_chrV)-5)], nlags=30)\n",
    "# Plot autocorrelation function\n",
    "plt.figure(figsize=(10, 5))\n",
    "plt.plot(model_ir_lstm_post_smoothed_4bp_DNAcycP_detrend_post_smooth_4bp_autocorr, marker='o', linestyle='-', color='b')\n",
    "plt.axhline(y=0, color='black', linestyle='--', lw=0.5)\n",
    "plt.title('Autocorrelation Function (Detrended DNAcycP_post_smoothed_C0, 4bp)')\n",
    "plt.xlabel('Lag')\n",
    "plt.ylabel('Autocorrelation')\n",
    "plt.grid(True)\n",
    "plt.ylim(-1.1, 1.1)\n",
    "plt.show()"
   ]
  },
  {
   "cell_type": "code",
   "execution_count": null,
   "metadata": {},
   "outputs": [],
   "source": [
    "# Compute autocorrelation function\n",
    "DNAcycP_detrend_post_smooth_5bp_autocorr = sm.tsa.acf(DNAcycP_detrend_post_smooth_5bp[range(5,len(DNAcycP_pred_chrV)-5)], nlags=30)\n",
    "# Plot autocorrelation function\n",
    "plt.figure(figsize=(10, 5))\n",
    "plt.plot(DNAcycP_detrend_post_smooth_5bp_autocorr, marker='o', linestyle='-', color='b')\n",
    "plt.axhline(y=0, color='black', linestyle='--', lw=0.5)\n",
    "plt.title('Autocorrelation Function (Detrended DNAcycP, 5bp)')\n",
    "plt.xlabel('Lag')\n",
    "plt.ylabel('Autocorrelation')\n",
    "plt.grid(True)\n",
    "plt.ylim(-1.1, 1.1)\n",
    "plt.show()"
   ]
  },
  {
   "cell_type": "code",
   "execution_count": null,
   "metadata": {},
   "outputs": [],
   "source": [
    "# Compute autocorrelation function\n",
    "model_ir_lstm_post_smoothed_5bp_DNAcycP_detrend_post_smooth_5bp_autocorr = sm.tsa.acf(model_ir_lstm_post_smoothed_5bp_DNAcycP_detrend_post_smooth_5bp[range(5,len(DNAcycP_pred_chrV)-5)], nlags=30)\n",
    "# Plot autocorrelation function\n",
    "plt.figure(figsize=(10, 5))\n",
    "plt.plot(model_ir_lstm_post_smoothed_5bp_DNAcycP_detrend_post_smooth_5bp_autocorr, marker='o', linestyle='-', color='b')\n",
    "plt.axhline(y=0, color='black', linestyle='--', lw=0.5)\n",
    "plt.title('Autocorrelation Function (Detrended DNAcycP_post_smoothed_C0, 5bp)')\n",
    "plt.xlabel('Lag')\n",
    "plt.ylabel('Autocorrelation')\n",
    "plt.grid(True)\n",
    "plt.ylim(-1.1, 1.1)\n",
    "plt.show()"
   ]
  },
  {
   "cell_type": "code",
   "execution_count": null,
   "metadata": {},
   "outputs": [],
   "source": [
    "# Compute autocorrelation function\n",
    "DNAcycP_detrend_post_smooth_4and5bp_autocorr = sm.tsa.acf(DNAcycP_detrend_post_smooth_4and5bp[range(5,len(DNAcycP_pred_chrV)-5)], nlags=30)\n",
    "# Plot autocorrelation function\n",
    "plt.figure(figsize=(10, 5))\n",
    "plt.plot(DNAcycP_detrend_post_smooth_4and5bp_autocorr, marker='o', linestyle='-', color='b')\n",
    "plt.axhline(y=0, color='black', linestyle='--', lw=0.5)\n",
    "plt.title('Autocorrelation Function (Detrended DNAcycP, 4/5bp)')\n",
    "plt.xlabel('Lag')\n",
    "plt.ylabel('Autocorrelation')\n",
    "plt.grid(True)\n",
    "plt.ylim(-1.1, 1.1)\n",
    "plt.show()"
   ]
  },
  {
   "cell_type": "code",
   "execution_count": null,
   "metadata": {},
   "outputs": [],
   "source": [
    "# Compute autocorrelation function\n",
    "model_ir_lstm_post_smoothed_4and5bp_DNAcycP_detrend_post_smooth_4and5bp_autocorr = sm.tsa.acf(model_ir_lstm_post_smoothed_4and5bp_DNAcycP_detrend_post_smooth_4and5bp[range(5,len(DNAcycP_pred_chrV)-5)], nlags=30)\n",
    "# Plot autocorrelation function\n",
    "plt.figure(figsize=(10, 5))\n",
    "plt.plot(model_ir_lstm_post_smoothed_4and5bp_DNAcycP_detrend_post_smooth_4and5bp_autocorr, marker='o', linestyle='-', color='b')\n",
    "plt.axhline(y=0, color='black', linestyle='--', lw=0.5)\n",
    "plt.title('Autocorrelation Function (Detrended DNAcycP_post_smoothed_C0, 4/5bp)')\n",
    "plt.xlabel('Lag')\n",
    "plt.ylabel('Autocorrelation')\n",
    "plt.grid(True)\n",
    "plt.ylim(-1.1, 1.1)\n",
    "plt.show()"
   ]
  },
  {
   "cell_type": "code",
   "execution_count": null,
   "metadata": {},
   "outputs": [],
   "source": []
  },
  {
   "cell_type": "code",
   "execution_count": null,
   "metadata": {},
   "outputs": [],
   "source": [
    "sequence_length=20\n",
    "# sequence_length=50\n",
    "# sequence_length=200\n",
    "starting_point = np.random.randint(DNAcycP_pred_chrV.shape[0]-sequence_length)\n",
    "\n",
    "# Compute autocorrelation function\n",
    "DNAcycP_detrend_post_smooth_5bp_autocorr_local = sm.tsa.acf(DNAcycP_detrend_post_smooth_5bp[range(starting_point, starting_point+sequence_length)], nlags=30)\n",
    "# Plot autocorrelation function\n",
    "plt.figure(figsize=(10, 5))\n",
    "plt.plot(DNAcycP_detrend_post_smooth_5bp_autocorr_local, marker='o', linestyle='-', color='b')\n",
    "plt.axhline(y=0, color='black', linestyle='--', lw=0.5)\n",
    "plt.title('Local Autocorrelation Function (Detrended DNAcycP, 5bp)')\n",
    "plt.xlabel('Lag')\n",
    "plt.ylabel('Autocorrelation')\n",
    "plt.grid(True)\n",
    "plt.show()"
   ]
  },
  {
   "cell_type": "code",
   "execution_count": 268,
   "metadata": {},
   "outputs": [],
   "source": [
    "DNAcycP_detrend_post_smooth_5bp_autocorr_lag5_local_list = []\n",
    "DNAcycP_detrend_post_smooth_5bp_autocorr_lag10_local_list = []\n",
    "for i in range(DNAcycP_pred_chrV.shape[0]-sequence_length):\n",
    "    cur_local_autocorr = sm.tsa.acf(DNAcycP_detrend_post_smooth_5bp[range(i, i+sequence_length)], nlags=10)\n",
    "    DNAcycP_detrend_post_smooth_5bp_autocorr_lag5_local_list.append(cur_local_autocorr[5])\n",
    "    DNAcycP_detrend_post_smooth_5bp_autocorr_lag10_local_list.append(cur_local_autocorr[10])"
   ]
  },
  {
   "cell_type": "code",
   "execution_count": null,
   "metadata": {},
   "outputs": [],
   "source": [
    "plt.hist(DNAcycP_detrend_post_smooth_5bp_autocorr_lag5_local_list)\n",
    "plt.xlim(-1, 1)\n",
    "plt.show()"
   ]
  },
  {
   "cell_type": "code",
   "execution_count": null,
   "metadata": {},
   "outputs": [],
   "source": [
    "print(f\"Mean of lag 5 autocorrelation :{round(np.mean(DNAcycP_detrend_post_smooth_5bp_autocorr_lag5_local_list[5:(DNAcycP_pred_chrV.shape[0]-sequence_length-5)]), 3)}\")"
   ]
  },
  {
   "cell_type": "code",
   "execution_count": null,
   "metadata": {},
   "outputs": [],
   "source": [
    "plt.hist(DNAcycP_detrend_post_smooth_5bp_autocorr_lag10_local_list)\n",
    "plt.xlim(-1, 1)\n",
    "plt.show()"
   ]
  },
  {
   "cell_type": "code",
   "execution_count": null,
   "metadata": {},
   "outputs": [],
   "source": [
    "print(f\"Mean of lag 10 autocorrelation :{round(np.mean(DNAcycP_detrend_post_smooth_5bp_autocorr_lag10_local_list[5:(DNAcycP_pred_chrV.shape[0]-sequence_length-5)]), 3)}\")"
   ]
  },
  {
   "cell_type": "code",
   "execution_count": null,
   "metadata": {},
   "outputs": [],
   "source": [
    "sum(array(DNAcycP_detrend_post_smooth_5bp_autocorr_lag5_local_list)>0.1)/len(DNAcycP_detrend_post_smooth_5bp_autocorr_lag5_local_list)"
   ]
  },
  {
   "cell_type": "code",
   "execution_count": null,
   "metadata": {},
   "outputs": [],
   "source": [
    "region_classifier = []\n",
    "genome_df_chrV[\"region_classifier\"] = None\n",
    "upper_threshold = 0.1\n",
    "lower_threshold = -0.1\n",
    "for i in range(DNAcycP_pred_chrV.shape[0]-sequence_length):\n",
    "    if DNAcycP_detrend_post_smooth_5bp_autocorr_lag5_local_list[i] > upper_threshold and DNAcycP_detrend_post_smooth_5bp_autocorr_lag10_local_list[i] > upper_threshold:\n",
    "        # 5bp periodicity\n",
    "        region_classifier.append(1)\n",
    "        genome_df_chrV[\"region_classifier\"].iloc[i+(sequence_length//2)] = 1\n",
    "        # 10bp periodicity\n",
    "    elif DNAcycP_detrend_post_smooth_5bp_autocorr_lag5_local_list[i] < lower_threshold and DNAcycP_detrend_post_smooth_5bp_autocorr_lag10_local_list[i] > upper_threshold:\n",
    "        region_classifier.append(2)\n",
    "        genome_df_chrV[\"region_classifier\"].iloc[i+(sequence_length//2)] = 2\n",
    "    else:\n",
    "        # No perioidicity\n",
    "        region_classifier.append(0)\n",
    "        genome_df_chrV[\"region_classifier\"].iloc[i+(sequence_length//2)] = 0\n",
    "region_classifier = array(region_classifier)"
   ]
  },
  {
   "cell_type": "code",
   "execution_count": null,
   "metadata": {},
   "outputs": [],
   "source": [
    "genome_df_chrV"
   ]
  },
  {
   "cell_type": "code",
   "execution_count": null,
   "metadata": {},
   "outputs": [],
   "source": [
    "# Regions classified as no periodicity:\n",
    "genome_df_chrV.loc[genome_df_chrV.region_classifier==0].iloc[:,3:].corr()"
   ]
  },
  {
   "cell_type": "code",
   "execution_count": null,
   "metadata": {},
   "outputs": [],
   "source": [
    "# Regions classified as 5bp periodicity:\n",
    "genome_df_chrV.loc[genome_df_chrV.region_classifier==1].iloc[:,3:].corr()"
   ]
  },
  {
   "cell_type": "code",
   "execution_count": null,
   "metadata": {},
   "outputs": [],
   "source": [
    "# Regions classified as 10bp periodicity:\n",
    "genome_df_chrV.loc[genome_df_chrV.region_classifier==2].iloc[:,3:].corr()"
   ]
  },
  {
   "cell_type": "code",
   "execution_count": null,
   "metadata": {},
   "outputs": [],
   "source": []
  }
 ],
 "metadata": {
  "kernelspec": {
   "display_name": ".venv",
   "language": "python",
   "name": "python3"
  },
  "language_info": {
   "codemirror_mode": {
    "name": "ipython",
    "version": 3
   },
   "file_extension": ".py",
   "mimetype": "text/x-python",
   "name": "python",
   "nbconvert_exporter": "python",
   "pygments_lexer": "ipython3",
   "version": "3.11.0"
  }
 },
 "nbformat": 4,
 "nbformat_minor": 2
}
