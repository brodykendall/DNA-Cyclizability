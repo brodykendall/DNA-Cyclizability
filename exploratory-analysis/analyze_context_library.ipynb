{
 "cells": [
  {
   "cell_type": "code",
   "execution_count": 1,
   "metadata": {},
   "outputs": [],
   "source": [
    "import pandas as pd"
   ]
  },
  {
   "cell_type": "code",
   "execution_count": 2,
   "metadata": {},
   "outputs": [],
   "source": [
    "context_library_pred = pd.read_csv(\"/Users/Brody1/Dropbox/Northwestern/DNA_Cyclizability/data/predictions/ir_lstm_smoothC0_10_11_tiling_context_library_predictions.csv\")"
   ]
  },
  {
   "cell_type": "code",
   "execution_count": 3,
   "metadata": {},
   "outputs": [
    {
     "data": {
      "text/html": [
       "<div>\n",
       "<style scoped>\n",
       "    .dataframe tbody tr th:only-of-type {\n",
       "        vertical-align: middle;\n",
       "    }\n",
       "\n",
       "    .dataframe tbody tr th {\n",
       "        vertical-align: top;\n",
       "    }\n",
       "\n",
       "    .dataframe thead th {\n",
       "        text-align: right;\n",
       "    }\n",
       "</style>\n",
       "<table border=\"1\" class=\"dataframe\">\n",
       "  <thead>\n",
       "    <tr style=\"text-align: right;\">\n",
       "      <th></th>\n",
       "      <th>sequence</th>\n",
       "      <th>smoothC0_predictions</th>\n",
       "    </tr>\n",
       "  </thead>\n",
       "  <tbody>\n",
       "    <tr>\n",
       "      <th>0</th>\n",
       "      <td>AAAAAAAAAAAAAAAAAGAGGCTTTAGATCTCAAAGGGCCGAAAAA...</td>\n",
       "      <td>0.819236</td>\n",
       "    </tr>\n",
       "    <tr>\n",
       "      <th>1</th>\n",
       "      <td>AAAAAAAAAAAAAAAAAGAGGCTTTAGATCTCAAAGGGCCGAAAAA...</td>\n",
       "      <td>1.135671</td>\n",
       "    </tr>\n",
       "    <tr>\n",
       "      <th>2</th>\n",
       "      <td>AAAAAAAAAAAAAAAAAGAGGCTTTAGATCTCAAAGGGCCGAAAAA...</td>\n",
       "      <td>1.182379</td>\n",
       "    </tr>\n",
       "    <tr>\n",
       "      <th>3</th>\n",
       "      <td>AAAAAAAAAAAAAAAAAGAGGCTTTAGATCTCAAAGGGCCGAAAAA...</td>\n",
       "      <td>0.887436</td>\n",
       "    </tr>\n",
       "    <tr>\n",
       "      <th>4</th>\n",
       "      <td>AAAAAAAAAAAAAAAAAGAGGCTTTAGATCTCAAAGGGCCGAAAAA...</td>\n",
       "      <td>1.396146</td>\n",
       "    </tr>\n",
       "    <tr>\n",
       "      <th>...</th>\n",
       "      <td>...</td>\n",
       "      <td>...</td>\n",
       "    </tr>\n",
       "    <tr>\n",
       "      <th>2097147</th>\n",
       "      <td>TTTTTCGAATTTTCGCGAAAGGAAAAAGTGAAAAAATATGAAAAAT...</td>\n",
       "      <td>-0.204421</td>\n",
       "    </tr>\n",
       "    <tr>\n",
       "      <th>2097148</th>\n",
       "      <td>TTTTTCGAATTTTCGCGAAAGGAAAAAGTGAAAAAATATGAAAAAT...</td>\n",
       "      <td>-0.752161</td>\n",
       "    </tr>\n",
       "    <tr>\n",
       "      <th>2097149</th>\n",
       "      <td>TTTTTCGAATTTTCGCGAAAGGAAAAAGTGAAAAAATATGAAAAAT...</td>\n",
       "      <td>-0.836573</td>\n",
       "    </tr>\n",
       "    <tr>\n",
       "      <th>2097150</th>\n",
       "      <td>TTTTTCGAATTTTCGCGAAAGGAAAAAGTGAAAAAATATGAAAAAT...</td>\n",
       "      <td>-0.660643</td>\n",
       "    </tr>\n",
       "    <tr>\n",
       "      <th>2097151</th>\n",
       "      <td>TTTTTCGAATTTTCGCGAAAGGAAAAAGTGAAAAAATATGAAAAAT...</td>\n",
       "      <td>-1.297533</td>\n",
       "    </tr>\n",
       "  </tbody>\n",
       "</table>\n",
       "<p>2097152 rows × 2 columns</p>\n",
       "</div>"
      ],
      "text/plain": [
       "                                                  sequence  \\\n",
       "0        AAAAAAAAAAAAAAAAAGAGGCTTTAGATCTCAAAGGGCCGAAAAA...   \n",
       "1        AAAAAAAAAAAAAAAAAGAGGCTTTAGATCTCAAAGGGCCGAAAAA...   \n",
       "2        AAAAAAAAAAAAAAAAAGAGGCTTTAGATCTCAAAGGGCCGAAAAA...   \n",
       "3        AAAAAAAAAAAAAAAAAGAGGCTTTAGATCTCAAAGGGCCGAAAAA...   \n",
       "4        AAAAAAAAAAAAAAAAAGAGGCTTTAGATCTCAAAGGGCCGAAAAA...   \n",
       "...                                                    ...   \n",
       "2097147  TTTTTCGAATTTTCGCGAAAGGAAAAAGTGAAAAAATATGAAAAAT...   \n",
       "2097148  TTTTTCGAATTTTCGCGAAAGGAAAAAGTGAAAAAATATGAAAAAT...   \n",
       "2097149  TTTTTCGAATTTTCGCGAAAGGAAAAAGTGAAAAAATATGAAAAAT...   \n",
       "2097150  TTTTTCGAATTTTCGCGAAAGGAAAAAGTGAAAAAATATGAAAAAT...   \n",
       "2097151  TTTTTCGAATTTTCGCGAAAGGAAAAAGTGAAAAAATATGAAAAAT...   \n",
       "\n",
       "         smoothC0_predictions  \n",
       "0                    0.819236  \n",
       "1                    1.135671  \n",
       "2                    1.182379  \n",
       "3                    0.887436  \n",
       "4                    1.396146  \n",
       "...                       ...  \n",
       "2097147             -0.204421  \n",
       "2097148             -0.752161  \n",
       "2097149             -0.836573  \n",
       "2097150             -0.660643  \n",
       "2097151             -1.297533  \n",
       "\n",
       "[2097152 rows x 2 columns]"
      ]
     },
     "execution_count": 3,
     "metadata": {},
     "output_type": "execute_result"
    }
   ],
   "source": [
    "context_library_pred"
   ]
  },
  {
   "cell_type": "code",
   "execution_count": 4,
   "metadata": {},
   "outputs": [],
   "source": [
    "max_seq_df = context_library_pred.loc[:(context_library_pred.shape[0]//2 -1)]\n",
    "min_seq_df = context_library_pred.loc[(context_library_pred.shape[0]//2):]"
   ]
  },
  {
   "cell_type": "code",
   "execution_count": 5,
   "metadata": {},
   "outputs": [
    {
     "data": {
      "text/html": [
       "<div>\n",
       "<style scoped>\n",
       "    .dataframe tbody tr th:only-of-type {\n",
       "        vertical-align: middle;\n",
       "    }\n",
       "\n",
       "    .dataframe tbody tr th {\n",
       "        vertical-align: top;\n",
       "    }\n",
       "\n",
       "    .dataframe thead th {\n",
       "        text-align: right;\n",
       "    }\n",
       "</style>\n",
       "<table border=\"1\" class=\"dataframe\">\n",
       "  <thead>\n",
       "    <tr style=\"text-align: right;\">\n",
       "      <th></th>\n",
       "      <th>sequence</th>\n",
       "      <th>smoothC0_predictions</th>\n",
       "    </tr>\n",
       "  </thead>\n",
       "  <tbody>\n",
       "    <tr>\n",
       "      <th>0</th>\n",
       "      <td>AAAAAAAAAAAAAAAAAGAGGCTTTAGATCTCAAAGGGCCGAAAAA...</td>\n",
       "      <td>0.819236</td>\n",
       "    </tr>\n",
       "    <tr>\n",
       "      <th>1</th>\n",
       "      <td>AAAAAAAAAAAAAAAAAGAGGCTTTAGATCTCAAAGGGCCGAAAAA...</td>\n",
       "      <td>1.135671</td>\n",
       "    </tr>\n",
       "    <tr>\n",
       "      <th>2</th>\n",
       "      <td>AAAAAAAAAAAAAAAAAGAGGCTTTAGATCTCAAAGGGCCGAAAAA...</td>\n",
       "      <td>1.182379</td>\n",
       "    </tr>\n",
       "    <tr>\n",
       "      <th>3</th>\n",
       "      <td>AAAAAAAAAAAAAAAAAGAGGCTTTAGATCTCAAAGGGCCGAAAAA...</td>\n",
       "      <td>0.887436</td>\n",
       "    </tr>\n",
       "    <tr>\n",
       "      <th>4</th>\n",
       "      <td>AAAAAAAAAAAAAAAAAGAGGCTTTAGATCTCAAAGGGCCGAAAAA...</td>\n",
       "      <td>1.396146</td>\n",
       "    </tr>\n",
       "    <tr>\n",
       "      <th>...</th>\n",
       "      <td>...</td>\n",
       "      <td>...</td>\n",
       "    </tr>\n",
       "    <tr>\n",
       "      <th>1048571</th>\n",
       "      <td>TTTTTAAAAAAAAAAAAGAGGCTTTAGATCTCAAAGGGCCGAAAAT...</td>\n",
       "      <td>1.242665</td>\n",
       "    </tr>\n",
       "    <tr>\n",
       "      <th>1048572</th>\n",
       "      <td>TTTTTAAAAAAAAAAAAGAGGCTTTAGATCTCAAAGGGCCGAAAAT...</td>\n",
       "      <td>0.896047</td>\n",
       "    </tr>\n",
       "    <tr>\n",
       "      <th>1048573</th>\n",
       "      <td>TTTTTAAAAAAAAAAAAGAGGCTTTAGATCTCAAAGGGCCGAAAAT...</td>\n",
       "      <td>0.828907</td>\n",
       "    </tr>\n",
       "    <tr>\n",
       "      <th>1048574</th>\n",
       "      <td>TTTTTAAAAAAAAAAAAGAGGCTTTAGATCTCAAAGGGCCGAAAAT...</td>\n",
       "      <td>0.989091</td>\n",
       "    </tr>\n",
       "    <tr>\n",
       "      <th>1048575</th>\n",
       "      <td>TTTTTAAAAAAAAAAAAGAGGCTTTAGATCTCAAAGGGCCGAAAAT...</td>\n",
       "      <td>0.428444</td>\n",
       "    </tr>\n",
       "  </tbody>\n",
       "</table>\n",
       "<p>1048576 rows × 2 columns</p>\n",
       "</div>"
      ],
      "text/plain": [
       "                                                  sequence  \\\n",
       "0        AAAAAAAAAAAAAAAAAGAGGCTTTAGATCTCAAAGGGCCGAAAAA...   \n",
       "1        AAAAAAAAAAAAAAAAAGAGGCTTTAGATCTCAAAGGGCCGAAAAA...   \n",
       "2        AAAAAAAAAAAAAAAAAGAGGCTTTAGATCTCAAAGGGCCGAAAAA...   \n",
       "3        AAAAAAAAAAAAAAAAAGAGGCTTTAGATCTCAAAGGGCCGAAAAA...   \n",
       "4        AAAAAAAAAAAAAAAAAGAGGCTTTAGATCTCAAAGGGCCGAAAAA...   \n",
       "...                                                    ...   \n",
       "1048571  TTTTTAAAAAAAAAAAAGAGGCTTTAGATCTCAAAGGGCCGAAAAT...   \n",
       "1048572  TTTTTAAAAAAAAAAAAGAGGCTTTAGATCTCAAAGGGCCGAAAAT...   \n",
       "1048573  TTTTTAAAAAAAAAAAAGAGGCTTTAGATCTCAAAGGGCCGAAAAT...   \n",
       "1048574  TTTTTAAAAAAAAAAAAGAGGCTTTAGATCTCAAAGGGCCGAAAAT...   \n",
       "1048575  TTTTTAAAAAAAAAAAAGAGGCTTTAGATCTCAAAGGGCCGAAAAT...   \n",
       "\n",
       "         smoothC0_predictions  \n",
       "0                    0.819236  \n",
       "1                    1.135671  \n",
       "2                    1.182379  \n",
       "3                    0.887436  \n",
       "4                    1.396146  \n",
       "...                       ...  \n",
       "1048571              1.242665  \n",
       "1048572              0.896047  \n",
       "1048573              0.828907  \n",
       "1048574              0.989091  \n",
       "1048575              0.428444  \n",
       "\n",
       "[1048576 rows x 2 columns]"
      ]
     },
     "execution_count": 5,
     "metadata": {},
     "output_type": "execute_result"
    }
   ],
   "source": [
    "max_seq_df"
   ]
  },
  {
   "cell_type": "code",
   "execution_count": 6,
   "metadata": {},
   "outputs": [
    {
     "data": {
      "text/html": [
       "<div>\n",
       "<style scoped>\n",
       "    .dataframe tbody tr th:only-of-type {\n",
       "        vertical-align: middle;\n",
       "    }\n",
       "\n",
       "    .dataframe tbody tr th {\n",
       "        vertical-align: top;\n",
       "    }\n",
       "\n",
       "    .dataframe thead th {\n",
       "        text-align: right;\n",
       "    }\n",
       "</style>\n",
       "<table border=\"1\" class=\"dataframe\">\n",
       "  <thead>\n",
       "    <tr style=\"text-align: right;\">\n",
       "      <th></th>\n",
       "      <th>sequence</th>\n",
       "      <th>smoothC0_predictions</th>\n",
       "    </tr>\n",
       "  </thead>\n",
       "  <tbody>\n",
       "    <tr>\n",
       "      <th>1048576</th>\n",
       "      <td>AAAAACGAATTTTCGCGAAAGGAAAAAGTGAAAAAATATGAAAAAA...</td>\n",
       "      <td>-1.022760</td>\n",
       "    </tr>\n",
       "    <tr>\n",
       "      <th>1048577</th>\n",
       "      <td>AAAAACGAATTTTCGCGAAAGGAAAAAGTGAAAAAATATGAAAAAA...</td>\n",
       "      <td>-0.471140</td>\n",
       "    </tr>\n",
       "    <tr>\n",
       "      <th>1048578</th>\n",
       "      <td>AAAAACGAATTTTCGCGAAAGGAAAAAGTGAAAAAATATGAAAAAA...</td>\n",
       "      <td>-0.373832</td>\n",
       "    </tr>\n",
       "    <tr>\n",
       "      <th>1048579</th>\n",
       "      <td>AAAAACGAATTTTCGCGAAAGGAAAAAGTGAAAAAATATGAAAAAA...</td>\n",
       "      <td>-0.904507</td>\n",
       "    </tr>\n",
       "    <tr>\n",
       "      <th>1048580</th>\n",
       "      <td>AAAAACGAATTTTCGCGAAAGGAAAAAGTGAAAAAATATGAAAAAA...</td>\n",
       "      <td>0.149974</td>\n",
       "    </tr>\n",
       "    <tr>\n",
       "      <th>...</th>\n",
       "      <td>...</td>\n",
       "      <td>...</td>\n",
       "    </tr>\n",
       "    <tr>\n",
       "      <th>2097147</th>\n",
       "      <td>TTTTTCGAATTTTCGCGAAAGGAAAAAGTGAAAAAATATGAAAAAT...</td>\n",
       "      <td>-0.204421</td>\n",
       "    </tr>\n",
       "    <tr>\n",
       "      <th>2097148</th>\n",
       "      <td>TTTTTCGAATTTTCGCGAAAGGAAAAAGTGAAAAAATATGAAAAAT...</td>\n",
       "      <td>-0.752161</td>\n",
       "    </tr>\n",
       "    <tr>\n",
       "      <th>2097149</th>\n",
       "      <td>TTTTTCGAATTTTCGCGAAAGGAAAAAGTGAAAAAATATGAAAAAT...</td>\n",
       "      <td>-0.836573</td>\n",
       "    </tr>\n",
       "    <tr>\n",
       "      <th>2097150</th>\n",
       "      <td>TTTTTCGAATTTTCGCGAAAGGAAAAAGTGAAAAAATATGAAAAAT...</td>\n",
       "      <td>-0.660643</td>\n",
       "    </tr>\n",
       "    <tr>\n",
       "      <th>2097151</th>\n",
       "      <td>TTTTTCGAATTTTCGCGAAAGGAAAAAGTGAAAAAATATGAAAAAT...</td>\n",
       "      <td>-1.297533</td>\n",
       "    </tr>\n",
       "  </tbody>\n",
       "</table>\n",
       "<p>1048576 rows × 2 columns</p>\n",
       "</div>"
      ],
      "text/plain": [
       "                                                  sequence  \\\n",
       "1048576  AAAAACGAATTTTCGCGAAAGGAAAAAGTGAAAAAATATGAAAAAA...   \n",
       "1048577  AAAAACGAATTTTCGCGAAAGGAAAAAGTGAAAAAATATGAAAAAA...   \n",
       "1048578  AAAAACGAATTTTCGCGAAAGGAAAAAGTGAAAAAATATGAAAAAA...   \n",
       "1048579  AAAAACGAATTTTCGCGAAAGGAAAAAGTGAAAAAATATGAAAAAA...   \n",
       "1048580  AAAAACGAATTTTCGCGAAAGGAAAAAGTGAAAAAATATGAAAAAA...   \n",
       "...                                                    ...   \n",
       "2097147  TTTTTCGAATTTTCGCGAAAGGAAAAAGTGAAAAAATATGAAAAAT...   \n",
       "2097148  TTTTTCGAATTTTCGCGAAAGGAAAAAGTGAAAAAATATGAAAAAT...   \n",
       "2097149  TTTTTCGAATTTTCGCGAAAGGAAAAAGTGAAAAAATATGAAAAAT...   \n",
       "2097150  TTTTTCGAATTTTCGCGAAAGGAAAAAGTGAAAAAATATGAAAAAT...   \n",
       "2097151  TTTTTCGAATTTTCGCGAAAGGAAAAAGTGAAAAAATATGAAAAAT...   \n",
       "\n",
       "         smoothC0_predictions  \n",
       "1048576             -1.022760  \n",
       "1048577             -0.471140  \n",
       "1048578             -0.373832  \n",
       "1048579             -0.904507  \n",
       "1048580              0.149974  \n",
       "...                       ...  \n",
       "2097147             -0.204421  \n",
       "2097148             -0.752161  \n",
       "2097149             -0.836573  \n",
       "2097150             -0.660643  \n",
       "2097151             -1.297533  \n",
       "\n",
       "[1048576 rows x 2 columns]"
      ]
     },
     "execution_count": 6,
     "metadata": {},
     "output_type": "execute_result"
    }
   ],
   "source": [
    "min_seq_df"
   ]
  },
  {
   "cell_type": "code",
   "execution_count": 7,
   "metadata": {},
   "outputs": [],
   "source": [
    "import matplotlib.pyplot as plt"
   ]
  },
  {
   "cell_type": "code",
   "execution_count": 18,
   "metadata": {},
   "outputs": [
    {
     "data": {
      "image/png": "[encoded data removed]",
      "text/plain": [
       "<Figure size 640x480 with 1 Axes>"
      ]
     },
     "metadata": {},
     "output_type": "display_data"
    }
   ],
   "source": [
    "plt.hist(max_seq_df[\"smoothC0_predictions\"], bins=20)\n",
    "plt.xlim([-3,3])\n",
    "plt.show()"
   ]
  },
  {
   "cell_type": "code",
   "execution_count": 19,
   "metadata": {},
   "outputs": [
    {
     "data": {
      "image/png": "[encoded data removed]",
      "text/plain": [
       "<Figure size 640x480 with 1 Axes>"
      ]
     },
     "metadata": {},
     "output_type": "display_data"
    }
   ],
   "source": [
    "plt.hist(min_seq_df[\"smoothC0_predictions\"], bins=20)\n",
    "plt.xlim([-3,3])\n",
    "plt.show()"
   ]
  },
  {
   "cell_type": "code",
   "execution_count": 17,
   "metadata": {},
   "outputs": [
    {
     "data": {
      "image/png": "[encoded data removed]",
      "text/plain": [
       "<Figure size 640x480 with 1 Axes>"
      ]
     },
     "metadata": {},
     "output_type": "display_data"
    }
   ],
   "source": [
    "plt.boxplot(min_seq_df[\"smoothC0_predictions\"])\n",
    "plt.show()"
   ]
  },
  {
   "cell_type": "code",
   "execution_count": 16,
   "metadata": {},
   "outputs": [
    {
     "data": {
      "text/plain": [
       "(smoothC0_predictions    0.11941\n",
       " dtype: float64,\n",
       " smoothC0_predictions    0.203463\n",
       " dtype: float64)"
      ]
     },
     "execution_count": 16,
     "metadata": {},
     "output_type": "execute_result"
    }
   ],
   "source": [
    "max_seq_df.var(axis=0, numeric_only=True), min_seq_df.var(axis=0, numeric_only=True)"
   ]
  },
  {
   "cell_type": "code",
   "execution_count": null,
   "metadata": {},
   "outputs": [],
   "source": []
  }
 ],
 "metadata": {
  "kernelspec": {
   "display_name": ".venv",
   "language": "python",
   "name": "python3"
  },
  "language_info": {
   "codemirror_mode": {
    "name": "ipython",
    "version": 3
   },
   "file_extension": ".py",
   "mimetype": "text/x-python",
   "name": "python",
   "nbconvert_exporter": "python",
   "pygments_lexer": "ipython3",
   "version": "3.11.0"
  }
 },
 "nbformat": 4,
 "nbformat_minor": 2
}
