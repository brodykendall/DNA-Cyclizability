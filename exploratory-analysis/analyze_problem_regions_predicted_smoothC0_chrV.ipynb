{
 "cells": [
  {
   "cell_type": "code",
   "execution_count": 15,
   "metadata": {},
   "outputs": [],
   "source": [
    "import pandas as pd\n",
    "import numpy as np\n",
    "from numpy import array\n",
    "\n",
    "import matplotlib.pyplot as plt\n",
    "\n",
    "import re"
   ]
  },
  {
   "cell_type": "code",
   "execution_count": 60,
   "metadata": {},
   "outputs": [],
   "source": [
    "# INPUTS:\n",
    "\n",
    "data_folder_path = \"/Users/Brody1/Dropbox/Northwestern/DNA_Cyclizability/data/predictions/\"\n",
    "\n",
    "training_data_name = \"tiling\"\n",
    "\n",
    "data_name = \"yeast_chrV_1bpresolution_subsequence50\" # csv\n",
    "\n",
    "data_file_type = \".csv\"\n",
    "\n",
    "sequence_column_name = \"sequence\""
   ]
  },
  {
   "cell_type": "code",
   "execution_count": 61,
   "metadata": {},
   "outputs": [],
   "source": [
    "cn_avg_pred_df = pd.read_csv(f\"/Users/Brody1/Dropbox/Northwestern/DNA_Cyclizability/data/Created/ir_lstm_cn_{training_data_name}_{data_name}_predictions.csv\")"
   ]
  },
  {
   "cell_type": "code",
   "execution_count": 62,
   "metadata": {},
   "outputs": [],
   "source": [
    "genome_df_chrV = pd.read_csv(f\"{data_folder_path}ir_lstm_smoothC0_10_11_contracted_{training_data_name}_ir_lstm_cn_{training_data_name}_{data_name}_smoothC0_10_11_best_fold_predictions.csv\")\n"
   ]
  },
  {
   "cell_type": "code",
   "execution_count": 63,
   "metadata": {},
   "outputs": [],
   "source": [
    "normal_mean = -0.011196041799376931\n",
    "normal_std = 0.651684644408004"
   ]
  },
  {
   "cell_type": "code",
   "execution_count": 64,
   "metadata": {},
   "outputs": [],
   "source": [
    "genome_df_chrV[\"smoothC0_predictions_unnorm\"] = genome_df_chrV[\"smoothC0_predictions\"]*normal_std + normal_mean"
   ]
  },
  {
   "cell_type": "code",
   "execution_count": 65,
   "metadata": {},
   "outputs": [],
   "source": [
    "genome_df_chrV = pd.concat([genome_df_chrV, cn_avg_pred_df], axis=1)"
   ]
  },
  {
   "cell_type": "code",
   "execution_count": 66,
   "metadata": {},
   "outputs": [
    {
     "data": {
      "text/plain": [
       "Index(['sequence', 'chrID', 'position', 'smooth_C26', 'smooth_C29',\n",
       "       'smooth_C31', 'smooth_C26_rev_comp', 'smooth_C29_rev_comp',\n",
       "       'smooth_C31_rev_comp', 'smoothC0', 'smoothC0_predictions',\n",
       "       'smoothC0_predictions_unnorm', 'n=26', 'n=29', 'n=31', 'n=26_reverse',\n",
       "       'n=29_reverse', 'n=31_reverse', 'n=26_comp', 'n=29_comp', 'n=31_comp',\n",
       "       'n=26_rev_comp', 'n=29_rev_comp', 'n=31_rev_comp', 'C0'],\n",
       "      dtype='object')"
      ]
     },
     "execution_count": 66,
     "metadata": {},
     "output_type": "execute_result"
    }
   ],
   "source": [
    "genome_df_chrV.columns"
   ]
  },
  {
   "cell_type": "code",
   "execution_count": 67,
   "metadata": {},
   "outputs": [
    {
     "ename": "FileNotFoundError",
     "evalue": "[Errno 2] No such file or directory: '/Users/Brody1/Dropbox/Northwestern/DNA_Cyclizability/data/Created/chrV_ir_lstm_cn_tiling_post_smoothed_matched.csv'",
     "output_type": "error",
     "traceback": [
      "\u001b[0;31m---------------------------------------------------------------------------\u001b[0m",
      "\u001b[0;31mFileNotFoundError\u001b[0m                         Traceback (most recent call last)",
      "Cell \u001b[0;32mIn[67], line 1\u001b[0m\n\u001b[0;32m----> 1\u001b[0m genome_df_chrV_temp \u001b[38;5;241m=\u001b[39m \u001b[43mpd\u001b[49m\u001b[38;5;241;43m.\u001b[39;49m\u001b[43mread_csv\u001b[49m\u001b[43m(\u001b[49m\u001b[38;5;124;43mf\u001b[39;49m\u001b[38;5;124;43m\"\u001b[39;49m\u001b[38;5;124;43m/Users/Brody1/Dropbox/Northwestern/DNA_Cyclizability/data/Created/chrV_ir_lstm_cn_\u001b[39;49m\u001b[38;5;132;43;01m{\u001b[39;49;00m\u001b[43mtraining_data_name\u001b[49m\u001b[38;5;132;43;01m}\u001b[39;49;00m\u001b[38;5;124;43m_post_smoothed_matched.csv\u001b[39;49m\u001b[38;5;124;43m\"\u001b[39;49m\u001b[43m)\u001b[49m\n",
      "File \u001b[0;32m~/Dropbox/Northwestern/DNA_Cyclizability/.venv/lib/python3.11/site-packages/pandas/io/parsers/readers.py:948\u001b[0m, in \u001b[0;36mread_csv\u001b[0;34m(filepath_or_buffer, sep, delimiter, header, names, index_col, usecols, dtype, engine, converters, true_values, false_values, skipinitialspace, skiprows, skipfooter, nrows, na_values, keep_default_na, na_filter, verbose, skip_blank_lines, parse_dates, infer_datetime_format, keep_date_col, date_parser, date_format, dayfirst, cache_dates, iterator, chunksize, compression, thousands, decimal, lineterminator, quotechar, quoting, doublequote, escapechar, comment, encoding, encoding_errors, dialect, on_bad_lines, delim_whitespace, low_memory, memory_map, float_precision, storage_options, dtype_backend)\u001b[0m\n\u001b[1;32m    935\u001b[0m kwds_defaults \u001b[38;5;241m=\u001b[39m _refine_defaults_read(\n\u001b[1;32m    936\u001b[0m     dialect,\n\u001b[1;32m    937\u001b[0m     delimiter,\n\u001b[0;32m   (...)\u001b[0m\n\u001b[1;32m    944\u001b[0m     dtype_backend\u001b[38;5;241m=\u001b[39mdtype_backend,\n\u001b[1;32m    945\u001b[0m )\n\u001b[1;32m    946\u001b[0m kwds\u001b[38;5;241m.\u001b[39mupdate(kwds_defaults)\n\u001b[0;32m--> 948\u001b[0m \u001b[38;5;28;01mreturn\u001b[39;00m \u001b[43m_read\u001b[49m\u001b[43m(\u001b[49m\u001b[43mfilepath_or_buffer\u001b[49m\u001b[43m,\u001b[49m\u001b[43m \u001b[49m\u001b[43mkwds\u001b[49m\u001b[43m)\u001b[49m\n",
      "File \u001b[0;32m~/Dropbox/Northwestern/DNA_Cyclizability/.venv/lib/python3.11/site-packages/pandas/io/parsers/readers.py:611\u001b[0m, in \u001b[0;36m_read\u001b[0;34m(filepath_or_buffer, kwds)\u001b[0m\n\u001b[1;32m    608\u001b[0m _validate_names(kwds\u001b[38;5;241m.\u001b[39mget(\u001b[38;5;124m\"\u001b[39m\u001b[38;5;124mnames\u001b[39m\u001b[38;5;124m\"\u001b[39m, \u001b[38;5;28;01mNone\u001b[39;00m))\n\u001b[1;32m    610\u001b[0m \u001b[38;5;66;03m# Create the parser.\u001b[39;00m\n\u001b[0;32m--> 611\u001b[0m parser \u001b[38;5;241m=\u001b[39m \u001b[43mTextFileReader\u001b[49m\u001b[43m(\u001b[49m\u001b[43mfilepath_or_buffer\u001b[49m\u001b[43m,\u001b[49m\u001b[43m \u001b[49m\u001b[38;5;241;43m*\u001b[39;49m\u001b[38;5;241;43m*\u001b[39;49m\u001b[43mkwds\u001b[49m\u001b[43m)\u001b[49m\n\u001b[1;32m    613\u001b[0m \u001b[38;5;28;01mif\u001b[39;00m chunksize \u001b[38;5;129;01mor\u001b[39;00m iterator:\n\u001b[1;32m    614\u001b[0m     \u001b[38;5;28;01mreturn\u001b[39;00m parser\n",
      "File \u001b[0;32m~/Dropbox/Northwestern/DNA_Cyclizability/.venv/lib/python3.11/site-packages/pandas/io/parsers/readers.py:1448\u001b[0m, in \u001b[0;36mTextFileReader.__init__\u001b[0;34m(self, f, engine, **kwds)\u001b[0m\n\u001b[1;32m   1445\u001b[0m     \u001b[38;5;28mself\u001b[39m\u001b[38;5;241m.\u001b[39moptions[\u001b[38;5;124m\"\u001b[39m\u001b[38;5;124mhas_index_names\u001b[39m\u001b[38;5;124m\"\u001b[39m] \u001b[38;5;241m=\u001b[39m kwds[\u001b[38;5;124m\"\u001b[39m\u001b[38;5;124mhas_index_names\u001b[39m\u001b[38;5;124m\"\u001b[39m]\n\u001b[1;32m   1447\u001b[0m \u001b[38;5;28mself\u001b[39m\u001b[38;5;241m.\u001b[39mhandles: IOHandles \u001b[38;5;241m|\u001b[39m \u001b[38;5;28;01mNone\u001b[39;00m \u001b[38;5;241m=\u001b[39m \u001b[38;5;28;01mNone\u001b[39;00m\n\u001b[0;32m-> 1448\u001b[0m \u001b[38;5;28mself\u001b[39m\u001b[38;5;241m.\u001b[39m_engine \u001b[38;5;241m=\u001b[39m \u001b[38;5;28;43mself\u001b[39;49m\u001b[38;5;241;43m.\u001b[39;49m\u001b[43m_make_engine\u001b[49m\u001b[43m(\u001b[49m\u001b[43mf\u001b[49m\u001b[43m,\u001b[49m\u001b[43m \u001b[49m\u001b[38;5;28;43mself\u001b[39;49m\u001b[38;5;241;43m.\u001b[39;49m\u001b[43mengine\u001b[49m\u001b[43m)\u001b[49m\n",
      "File \u001b[0;32m~/Dropbox/Northwestern/DNA_Cyclizability/.venv/lib/python3.11/site-packages/pandas/io/parsers/readers.py:1705\u001b[0m, in \u001b[0;36mTextFileReader._make_engine\u001b[0;34m(self, f, engine)\u001b[0m\n\u001b[1;32m   1703\u001b[0m     \u001b[38;5;28;01mif\u001b[39;00m \u001b[38;5;124m\"\u001b[39m\u001b[38;5;124mb\u001b[39m\u001b[38;5;124m\"\u001b[39m \u001b[38;5;129;01mnot\u001b[39;00m \u001b[38;5;129;01min\u001b[39;00m mode:\n\u001b[1;32m   1704\u001b[0m         mode \u001b[38;5;241m+\u001b[39m\u001b[38;5;241m=\u001b[39m \u001b[38;5;124m\"\u001b[39m\u001b[38;5;124mb\u001b[39m\u001b[38;5;124m\"\u001b[39m\n\u001b[0;32m-> 1705\u001b[0m \u001b[38;5;28mself\u001b[39m\u001b[38;5;241m.\u001b[39mhandles \u001b[38;5;241m=\u001b[39m \u001b[43mget_handle\u001b[49m\u001b[43m(\u001b[49m\n\u001b[1;32m   1706\u001b[0m \u001b[43m    \u001b[49m\u001b[43mf\u001b[49m\u001b[43m,\u001b[49m\n\u001b[1;32m   1707\u001b[0m \u001b[43m    \u001b[49m\u001b[43mmode\u001b[49m\u001b[43m,\u001b[49m\n\u001b[1;32m   1708\u001b[0m \u001b[43m    \u001b[49m\u001b[43mencoding\u001b[49m\u001b[38;5;241;43m=\u001b[39;49m\u001b[38;5;28;43mself\u001b[39;49m\u001b[38;5;241;43m.\u001b[39;49m\u001b[43moptions\u001b[49m\u001b[38;5;241;43m.\u001b[39;49m\u001b[43mget\u001b[49m\u001b[43m(\u001b[49m\u001b[38;5;124;43m\"\u001b[39;49m\u001b[38;5;124;43mencoding\u001b[39;49m\u001b[38;5;124;43m\"\u001b[39;49m\u001b[43m,\u001b[49m\u001b[43m \u001b[49m\u001b[38;5;28;43;01mNone\u001b[39;49;00m\u001b[43m)\u001b[49m\u001b[43m,\u001b[49m\n\u001b[1;32m   1709\u001b[0m \u001b[43m    \u001b[49m\u001b[43mcompression\u001b[49m\u001b[38;5;241;43m=\u001b[39;49m\u001b[38;5;28;43mself\u001b[39;49m\u001b[38;5;241;43m.\u001b[39;49m\u001b[43moptions\u001b[49m\u001b[38;5;241;43m.\u001b[39;49m\u001b[43mget\u001b[49m\u001b[43m(\u001b[49m\u001b[38;5;124;43m\"\u001b[39;49m\u001b[38;5;124;43mcompression\u001b[39;49m\u001b[38;5;124;43m\"\u001b[39;49m\u001b[43m,\u001b[49m\u001b[43m \u001b[49m\u001b[38;5;28;43;01mNone\u001b[39;49;00m\u001b[43m)\u001b[49m\u001b[43m,\u001b[49m\n\u001b[1;32m   1710\u001b[0m \u001b[43m    \u001b[49m\u001b[43mmemory_map\u001b[49m\u001b[38;5;241;43m=\u001b[39;49m\u001b[38;5;28;43mself\u001b[39;49m\u001b[38;5;241;43m.\u001b[39;49m\u001b[43moptions\u001b[49m\u001b[38;5;241;43m.\u001b[39;49m\u001b[43mget\u001b[49m\u001b[43m(\u001b[49m\u001b[38;5;124;43m\"\u001b[39;49m\u001b[38;5;124;43mmemory_map\u001b[39;49m\u001b[38;5;124;43m\"\u001b[39;49m\u001b[43m,\u001b[49m\u001b[43m \u001b[49m\u001b[38;5;28;43;01mFalse\u001b[39;49;00m\u001b[43m)\u001b[49m\u001b[43m,\u001b[49m\n\u001b[1;32m   1711\u001b[0m \u001b[43m    \u001b[49m\u001b[43mis_text\u001b[49m\u001b[38;5;241;43m=\u001b[39;49m\u001b[43mis_text\u001b[49m\u001b[43m,\u001b[49m\n\u001b[1;32m   1712\u001b[0m \u001b[43m    \u001b[49m\u001b[43merrors\u001b[49m\u001b[38;5;241;43m=\u001b[39;49m\u001b[38;5;28;43mself\u001b[39;49m\u001b[38;5;241;43m.\u001b[39;49m\u001b[43moptions\u001b[49m\u001b[38;5;241;43m.\u001b[39;49m\u001b[43mget\u001b[49m\u001b[43m(\u001b[49m\u001b[38;5;124;43m\"\u001b[39;49m\u001b[38;5;124;43mencoding_errors\u001b[39;49m\u001b[38;5;124;43m\"\u001b[39;49m\u001b[43m,\u001b[49m\u001b[43m \u001b[49m\u001b[38;5;124;43m\"\u001b[39;49m\u001b[38;5;124;43mstrict\u001b[39;49m\u001b[38;5;124;43m\"\u001b[39;49m\u001b[43m)\u001b[49m\u001b[43m,\u001b[49m\n\u001b[1;32m   1713\u001b[0m \u001b[43m    \u001b[49m\u001b[43mstorage_options\u001b[49m\u001b[38;5;241;43m=\u001b[39;49m\u001b[38;5;28;43mself\u001b[39;49m\u001b[38;5;241;43m.\u001b[39;49m\u001b[43moptions\u001b[49m\u001b[38;5;241;43m.\u001b[39;49m\u001b[43mget\u001b[49m\u001b[43m(\u001b[49m\u001b[38;5;124;43m\"\u001b[39;49m\u001b[38;5;124;43mstorage_options\u001b[39;49m\u001b[38;5;124;43m\"\u001b[39;49m\u001b[43m,\u001b[49m\u001b[43m \u001b[49m\u001b[38;5;28;43;01mNone\u001b[39;49;00m\u001b[43m)\u001b[49m\u001b[43m,\u001b[49m\n\u001b[1;32m   1714\u001b[0m \u001b[43m\u001b[49m\u001b[43m)\u001b[49m\n\u001b[1;32m   1715\u001b[0m \u001b[38;5;28;01massert\u001b[39;00m \u001b[38;5;28mself\u001b[39m\u001b[38;5;241m.\u001b[39mhandles \u001b[38;5;129;01mis\u001b[39;00m \u001b[38;5;129;01mnot\u001b[39;00m \u001b[38;5;28;01mNone\u001b[39;00m\n\u001b[1;32m   1716\u001b[0m f \u001b[38;5;241m=\u001b[39m \u001b[38;5;28mself\u001b[39m\u001b[38;5;241m.\u001b[39mhandles\u001b[38;5;241m.\u001b[39mhandle\n",
      "File \u001b[0;32m~/Dropbox/Northwestern/DNA_Cyclizability/.venv/lib/python3.11/site-packages/pandas/io/common.py:863\u001b[0m, in \u001b[0;36mget_handle\u001b[0;34m(path_or_buf, mode, encoding, compression, memory_map, is_text, errors, storage_options)\u001b[0m\n\u001b[1;32m    858\u001b[0m \u001b[38;5;28;01melif\u001b[39;00m \u001b[38;5;28misinstance\u001b[39m(handle, \u001b[38;5;28mstr\u001b[39m):\n\u001b[1;32m    859\u001b[0m     \u001b[38;5;66;03m# Check whether the filename is to be opened in binary mode.\u001b[39;00m\n\u001b[1;32m    860\u001b[0m     \u001b[38;5;66;03m# Binary mode does not support 'encoding' and 'newline'.\u001b[39;00m\n\u001b[1;32m    861\u001b[0m     \u001b[38;5;28;01mif\u001b[39;00m ioargs\u001b[38;5;241m.\u001b[39mencoding \u001b[38;5;129;01mand\u001b[39;00m \u001b[38;5;124m\"\u001b[39m\u001b[38;5;124mb\u001b[39m\u001b[38;5;124m\"\u001b[39m \u001b[38;5;129;01mnot\u001b[39;00m \u001b[38;5;129;01min\u001b[39;00m ioargs\u001b[38;5;241m.\u001b[39mmode:\n\u001b[1;32m    862\u001b[0m         \u001b[38;5;66;03m# Encoding\u001b[39;00m\n\u001b[0;32m--> 863\u001b[0m         handle \u001b[38;5;241m=\u001b[39m \u001b[38;5;28mopen\u001b[39m(\n\u001b[1;32m    864\u001b[0m             handle,\n\u001b[1;32m    865\u001b[0m             ioargs\u001b[38;5;241m.\u001b[39mmode,\n\u001b[1;32m    866\u001b[0m             encoding\u001b[38;5;241m=\u001b[39mioargs\u001b[38;5;241m.\u001b[39mencoding,\n\u001b[1;32m    867\u001b[0m             errors\u001b[38;5;241m=\u001b[39merrors,\n\u001b[1;32m    868\u001b[0m             newline\u001b[38;5;241m=\u001b[39m\u001b[38;5;124m\"\u001b[39m\u001b[38;5;124m\"\u001b[39m,\n\u001b[1;32m    869\u001b[0m         )\n\u001b[1;32m    870\u001b[0m     \u001b[38;5;28;01melse\u001b[39;00m:\n\u001b[1;32m    871\u001b[0m         \u001b[38;5;66;03m# Binary mode\u001b[39;00m\n\u001b[1;32m    872\u001b[0m         handle \u001b[38;5;241m=\u001b[39m \u001b[38;5;28mopen\u001b[39m(handle, ioargs\u001b[38;5;241m.\u001b[39mmode)\n",
      "\u001b[0;31mFileNotFoundError\u001b[0m: [Errno 2] No such file or directory: '/Users/Brody1/Dropbox/Northwestern/DNA_Cyclizability/data/Created/chrV_ir_lstm_cn_tiling_post_smoothed_matched.csv'"
     ]
    }
   ],
   "source": [
    "genome_df_chrV_temp = pd.read_csv(f\"/Users/Brody1/Dropbox/Northwestern/DNA_Cyclizability/data/Created/chrV_ir_lstm_cn_{training_data_name}_post_smoothed_matched.csv\")"
   ]
  },
  {
   "cell_type": "code",
   "execution_count": 68,
   "metadata": {},
   "outputs": [
    {
     "ename": "NameError",
     "evalue": "name 'genome_df_chrV_temp' is not defined",
     "output_type": "error",
     "traceback": [
      "\u001b[0;31m---------------------------------------------------------------------------\u001b[0m",
      "\u001b[0;31mNameError\u001b[0m                                 Traceback (most recent call last)",
      "Cell \u001b[0;32mIn[68], line 1\u001b[0m\n\u001b[0;32m----> 1\u001b[0m \u001b[43mgenome_df_chrV_temp\u001b[49m\n",
      "\u001b[0;31mNameError\u001b[0m: name 'genome_df_chrV_temp' is not defined"
     ]
    }
   ],
   "source": [
    "genome_df_chrV_temp"
   ]
  },
  {
   "cell_type": "code",
   "execution_count": 69,
   "metadata": {},
   "outputs": [
    {
     "ename": "NameError",
     "evalue": "name 'genome_df_chrV_temp' is not defined",
     "output_type": "error",
     "traceback": [
      "\u001b[0;31m---------------------------------------------------------------------------\u001b[0m",
      "\u001b[0;31mNameError\u001b[0m                                 Traceback (most recent call last)",
      "Cell \u001b[0;32mIn[69], line 1\u001b[0m\n\u001b[0;32m----> 1\u001b[0m genome_df_chrV[\u001b[38;5;124m\"\u001b[39m\u001b[38;5;124mC26_raw\u001b[39m\u001b[38;5;124m\"\u001b[39m] \u001b[38;5;241m=\u001b[39m \u001b[43mgenome_df_chrV_temp\u001b[49m[\u001b[38;5;124m\"\u001b[39m\u001b[38;5;124mC26_raw\u001b[39m\u001b[38;5;124m\"\u001b[39m]\n\u001b[1;32m      2\u001b[0m genome_df_chrV[\u001b[38;5;124m\"\u001b[39m\u001b[38;5;124mC29_raw\u001b[39m\u001b[38;5;124m\"\u001b[39m] \u001b[38;5;241m=\u001b[39m genome_df_chrV_temp[\u001b[38;5;124m\"\u001b[39m\u001b[38;5;124mC29_raw\u001b[39m\u001b[38;5;124m\"\u001b[39m]\n\u001b[1;32m      3\u001b[0m genome_df_chrV[\u001b[38;5;124m\"\u001b[39m\u001b[38;5;124mC31_raw\u001b[39m\u001b[38;5;124m\"\u001b[39m] \u001b[38;5;241m=\u001b[39m genome_df_chrV_temp[\u001b[38;5;124m\"\u001b[39m\u001b[38;5;124mC31_raw\u001b[39m\u001b[38;5;124m\"\u001b[39m]\n",
      "\u001b[0;31mNameError\u001b[0m: name 'genome_df_chrV_temp' is not defined"
     ]
    }
   ],
   "source": [
    "genome_df_chrV[\"C26_raw\"] = genome_df_chrV_temp[\"C26_raw\"]\n",
    "genome_df_chrV[\"C29_raw\"] = genome_df_chrV_temp[\"C29_raw\"]\n",
    "genome_df_chrV[\"C31_raw\"] = genome_df_chrV_temp[\"C31_raw\"]"
   ]
  },
  {
   "cell_type": "code",
   "execution_count": 70,
   "metadata": {},
   "outputs": [
    {
     "ename": "NameError",
     "evalue": "name 'genome_df_chrV_temp' is not defined",
     "output_type": "error",
     "traceback": [
      "\u001b[0;31m---------------------------------------------------------------------------\u001b[0m",
      "\u001b[0;31mNameError\u001b[0m                                 Traceback (most recent call last)",
      "Cell \u001b[0;32mIn[70], line 1\u001b[0m\n\u001b[0;32m----> 1\u001b[0m \u001b[38;5;28;01mdel\u001b[39;00m \u001b[43mgenome_df_chrV_temp\u001b[49m\n",
      "\u001b[0;31mNameError\u001b[0m: name 'genome_df_chrV_temp' is not defined"
     ]
    }
   ],
   "source": [
    "del genome_df_chrV_temp"
   ]
  },
  {
   "cell_type": "code",
   "execution_count": 71,
   "metadata": {},
   "outputs": [
    {
     "ename": "KeyError",
     "evalue": "'C26_raw'",
     "output_type": "error",
     "traceback": [
      "\u001b[0;31m---------------------------------------------------------------------------\u001b[0m",
      "\u001b[0;31mKeyError\u001b[0m                                  Traceback (most recent call last)",
      "File \u001b[0;32m~/Dropbox/Northwestern/DNA_Cyclizability/.venv/lib/python3.11/site-packages/pandas/core/indexes/base.py:3790\u001b[0m, in \u001b[0;36mIndex.get_loc\u001b[0;34m(self, key)\u001b[0m\n\u001b[1;32m   3789\u001b[0m \u001b[38;5;28;01mtry\u001b[39;00m:\n\u001b[0;32m-> 3790\u001b[0m     \u001b[38;5;28;01mreturn\u001b[39;00m \u001b[38;5;28;43mself\u001b[39;49m\u001b[38;5;241;43m.\u001b[39;49m\u001b[43m_engine\u001b[49m\u001b[38;5;241;43m.\u001b[39;49m\u001b[43mget_loc\u001b[49m\u001b[43m(\u001b[49m\u001b[43mcasted_key\u001b[49m\u001b[43m)\u001b[49m\n\u001b[1;32m   3791\u001b[0m \u001b[38;5;28;01mexcept\u001b[39;00m \u001b[38;5;167;01mKeyError\u001b[39;00m \u001b[38;5;28;01mas\u001b[39;00m err:\n",
      "File \u001b[0;32mindex.pyx:152\u001b[0m, in \u001b[0;36mpandas._libs.index.IndexEngine.get_loc\u001b[0;34m()\u001b[0m\n",
      "File \u001b[0;32mindex.pyx:181\u001b[0m, in \u001b[0;36mpandas._libs.index.IndexEngine.get_loc\u001b[0;34m()\u001b[0m\n",
      "File \u001b[0;32mpandas/_libs/hashtable_class_helper.pxi:7080\u001b[0m, in \u001b[0;36mpandas._libs.hashtable.PyObjectHashTable.get_item\u001b[0;34m()\u001b[0m\n",
      "File \u001b[0;32mpandas/_libs/hashtable_class_helper.pxi:7088\u001b[0m, in \u001b[0;36mpandas._libs.hashtable.PyObjectHashTable.get_item\u001b[0;34m()\u001b[0m\n",
      "\u001b[0;31mKeyError\u001b[0m: 'C26_raw'",
      "\nThe above exception was the direct cause of the following exception:\n",
      "\u001b[0;31mKeyError\u001b[0m                                  Traceback (most recent call last)",
      "Cell \u001b[0;32mIn[71], line 1\u001b[0m\n\u001b[0;32m----> 1\u001b[0m genome_df_chrV[\u001b[38;5;124m\"\u001b[39m\u001b[38;5;124mC26_raw_norm\u001b[39m\u001b[38;5;124m\"\u001b[39m] \u001b[38;5;241m=\u001b[39m (\u001b[43mgenome_df_chrV\u001b[49m\u001b[43m[\u001b[49m\u001b[38;5;124;43m\"\u001b[39;49m\u001b[38;5;124;43mC26_raw\u001b[39;49m\u001b[38;5;124;43m\"\u001b[39;49m\u001b[43m]\u001b[49m \u001b[38;5;241m-\u001b[39m genome_df_chrV[\u001b[38;5;124m\"\u001b[39m\u001b[38;5;124mC26_raw\u001b[39m\u001b[38;5;124m\"\u001b[39m]\u001b[38;5;241m.\u001b[39mmean())\u001b[38;5;241m/\u001b[39mgenome_df_chrV[\u001b[38;5;124m\"\u001b[39m\u001b[38;5;124mC26_raw\u001b[39m\u001b[38;5;124m\"\u001b[39m]\u001b[38;5;241m.\u001b[39mstd()\u001b[38;5;241m*\u001b[39mgenome_df_chrV[\u001b[38;5;124m\"\u001b[39m\u001b[38;5;124mn=26\u001b[39m\u001b[38;5;124m\"\u001b[39m]\u001b[38;5;241m.\u001b[39mstd()\n\u001b[1;32m      2\u001b[0m genome_df_chrV[\u001b[38;5;124m\"\u001b[39m\u001b[38;5;124mC29_raw_norm\u001b[39m\u001b[38;5;124m\"\u001b[39m] \u001b[38;5;241m=\u001b[39m (genome_df_chrV[\u001b[38;5;124m\"\u001b[39m\u001b[38;5;124mC29_raw\u001b[39m\u001b[38;5;124m\"\u001b[39m] \u001b[38;5;241m-\u001b[39m genome_df_chrV[\u001b[38;5;124m\"\u001b[39m\u001b[38;5;124mC29_raw\u001b[39m\u001b[38;5;124m\"\u001b[39m]\u001b[38;5;241m.\u001b[39mmean())\u001b[38;5;241m/\u001b[39mgenome_df_chrV[\u001b[38;5;124m\"\u001b[39m\u001b[38;5;124mC29_raw\u001b[39m\u001b[38;5;124m\"\u001b[39m]\u001b[38;5;241m.\u001b[39mstd()\u001b[38;5;241m*\u001b[39mgenome_df_chrV[\u001b[38;5;124m\"\u001b[39m\u001b[38;5;124mn=29\u001b[39m\u001b[38;5;124m\"\u001b[39m]\u001b[38;5;241m.\u001b[39mstd()\n\u001b[1;32m      3\u001b[0m genome_df_chrV[\u001b[38;5;124m\"\u001b[39m\u001b[38;5;124mC31_raw_norm\u001b[39m\u001b[38;5;124m\"\u001b[39m] \u001b[38;5;241m=\u001b[39m (genome_df_chrV[\u001b[38;5;124m\"\u001b[39m\u001b[38;5;124mC31_raw\u001b[39m\u001b[38;5;124m\"\u001b[39m] \u001b[38;5;241m-\u001b[39m genome_df_chrV[\u001b[38;5;124m\"\u001b[39m\u001b[38;5;124mC31_raw\u001b[39m\u001b[38;5;124m\"\u001b[39m]\u001b[38;5;241m.\u001b[39mmean())\u001b[38;5;241m/\u001b[39mgenome_df_chrV[\u001b[38;5;124m\"\u001b[39m\u001b[38;5;124mC31_raw\u001b[39m\u001b[38;5;124m\"\u001b[39m]\u001b[38;5;241m.\u001b[39mstd()\u001b[38;5;241m*\u001b[39mgenome_df_chrV[\u001b[38;5;124m\"\u001b[39m\u001b[38;5;124mn=31\u001b[39m\u001b[38;5;124m\"\u001b[39m]\u001b[38;5;241m.\u001b[39mstd()\n",
      "File \u001b[0;32m~/Dropbox/Northwestern/DNA_Cyclizability/.venv/lib/python3.11/site-packages/pandas/core/frame.py:3893\u001b[0m, in \u001b[0;36mDataFrame.__getitem__\u001b[0;34m(self, key)\u001b[0m\n\u001b[1;32m   3891\u001b[0m \u001b[38;5;28;01mif\u001b[39;00m \u001b[38;5;28mself\u001b[39m\u001b[38;5;241m.\u001b[39mcolumns\u001b[38;5;241m.\u001b[39mnlevels \u001b[38;5;241m>\u001b[39m \u001b[38;5;241m1\u001b[39m:\n\u001b[1;32m   3892\u001b[0m     \u001b[38;5;28;01mreturn\u001b[39;00m \u001b[38;5;28mself\u001b[39m\u001b[38;5;241m.\u001b[39m_getitem_multilevel(key)\n\u001b[0;32m-> 3893\u001b[0m indexer \u001b[38;5;241m=\u001b[39m \u001b[38;5;28;43mself\u001b[39;49m\u001b[38;5;241;43m.\u001b[39;49m\u001b[43mcolumns\u001b[49m\u001b[38;5;241;43m.\u001b[39;49m\u001b[43mget_loc\u001b[49m\u001b[43m(\u001b[49m\u001b[43mkey\u001b[49m\u001b[43m)\u001b[49m\n\u001b[1;32m   3894\u001b[0m \u001b[38;5;28;01mif\u001b[39;00m is_integer(indexer):\n\u001b[1;32m   3895\u001b[0m     indexer \u001b[38;5;241m=\u001b[39m [indexer]\n",
      "File \u001b[0;32m~/Dropbox/Northwestern/DNA_Cyclizability/.venv/lib/python3.11/site-packages/pandas/core/indexes/base.py:3797\u001b[0m, in \u001b[0;36mIndex.get_loc\u001b[0;34m(self, key)\u001b[0m\n\u001b[1;32m   3792\u001b[0m     \u001b[38;5;28;01mif\u001b[39;00m \u001b[38;5;28misinstance\u001b[39m(casted_key, \u001b[38;5;28mslice\u001b[39m) \u001b[38;5;129;01mor\u001b[39;00m (\n\u001b[1;32m   3793\u001b[0m         \u001b[38;5;28misinstance\u001b[39m(casted_key, abc\u001b[38;5;241m.\u001b[39mIterable)\n\u001b[1;32m   3794\u001b[0m         \u001b[38;5;129;01mand\u001b[39;00m \u001b[38;5;28many\u001b[39m(\u001b[38;5;28misinstance\u001b[39m(x, \u001b[38;5;28mslice\u001b[39m) \u001b[38;5;28;01mfor\u001b[39;00m x \u001b[38;5;129;01min\u001b[39;00m casted_key)\n\u001b[1;32m   3795\u001b[0m     ):\n\u001b[1;32m   3796\u001b[0m         \u001b[38;5;28;01mraise\u001b[39;00m InvalidIndexError(key)\n\u001b[0;32m-> 3797\u001b[0m     \u001b[38;5;28;01mraise\u001b[39;00m \u001b[38;5;167;01mKeyError\u001b[39;00m(key) \u001b[38;5;28;01mfrom\u001b[39;00m \u001b[38;5;21;01merr\u001b[39;00m\n\u001b[1;32m   3798\u001b[0m \u001b[38;5;28;01mexcept\u001b[39;00m \u001b[38;5;167;01mTypeError\u001b[39;00m:\n\u001b[1;32m   3799\u001b[0m     \u001b[38;5;66;03m# If we have a listlike key, _check_indexing_error will raise\u001b[39;00m\n\u001b[1;32m   3800\u001b[0m     \u001b[38;5;66;03m#  InvalidIndexError. Otherwise we fall through and re-raise\u001b[39;00m\n\u001b[1;32m   3801\u001b[0m     \u001b[38;5;66;03m#  the TypeError.\u001b[39;00m\n\u001b[1;32m   3802\u001b[0m     \u001b[38;5;28mself\u001b[39m\u001b[38;5;241m.\u001b[39m_check_indexing_error(key)\n",
      "\u001b[0;31mKeyError\u001b[0m: 'C26_raw'"
     ]
    }
   ],
   "source": [
    "genome_df_chrV[\"C26_raw_norm\"] = (genome_df_chrV[\"C26_raw\"] - genome_df_chrV[\"C26_raw\"].mean())/genome_df_chrV[\"C26_raw\"].std()*genome_df_chrV[\"n=26\"].std()\n",
    "genome_df_chrV[\"C29_raw_norm\"] = (genome_df_chrV[\"C29_raw\"] - genome_df_chrV[\"C29_raw\"].mean())/genome_df_chrV[\"C29_raw\"].std()*genome_df_chrV[\"n=29\"].std()\n",
    "genome_df_chrV[\"C31_raw_norm\"] = (genome_df_chrV[\"C31_raw\"] - genome_df_chrV[\"C31_raw\"].mean())/genome_df_chrV[\"C31_raw\"].std()*genome_df_chrV[\"n=31\"].std()"
   ]
  },
  {
   "cell_type": "code",
   "execution_count": null,
   "metadata": {},
   "outputs": [],
   "source": []
  },
  {
   "cell_type": "code",
   "execution_count": 72,
   "metadata": {},
   "outputs": [
    {
     "ename": "KeyError",
     "evalue": "'C26_raw'",
     "output_type": "error",
     "traceback": [
      "\u001b[0;31m---------------------------------------------------------------------------\u001b[0m",
      "\u001b[0;31mKeyError\u001b[0m                                  Traceback (most recent call last)",
      "File \u001b[0;32m~/Dropbox/Northwestern/DNA_Cyclizability/.venv/lib/python3.11/site-packages/pandas/core/indexes/base.py:3790\u001b[0m, in \u001b[0;36mIndex.get_loc\u001b[0;34m(self, key)\u001b[0m\n\u001b[1;32m   3789\u001b[0m \u001b[38;5;28;01mtry\u001b[39;00m:\n\u001b[0;32m-> 3790\u001b[0m     \u001b[38;5;28;01mreturn\u001b[39;00m \u001b[38;5;28;43mself\u001b[39;49m\u001b[38;5;241;43m.\u001b[39;49m\u001b[43m_engine\u001b[49m\u001b[38;5;241;43m.\u001b[39;49m\u001b[43mget_loc\u001b[49m\u001b[43m(\u001b[49m\u001b[43mcasted_key\u001b[49m\u001b[43m)\u001b[49m\n\u001b[1;32m   3791\u001b[0m \u001b[38;5;28;01mexcept\u001b[39;00m \u001b[38;5;167;01mKeyError\u001b[39;00m \u001b[38;5;28;01mas\u001b[39;00m err:\n",
      "File \u001b[0;32mindex.pyx:152\u001b[0m, in \u001b[0;36mpandas._libs.index.IndexEngine.get_loc\u001b[0;34m()\u001b[0m\n",
      "File \u001b[0;32mindex.pyx:181\u001b[0m, in \u001b[0;36mpandas._libs.index.IndexEngine.get_loc\u001b[0;34m()\u001b[0m\n",
      "File \u001b[0;32mpandas/_libs/hashtable_class_helper.pxi:7080\u001b[0m, in \u001b[0;36mpandas._libs.hashtable.PyObjectHashTable.get_item\u001b[0;34m()\u001b[0m\n",
      "File \u001b[0;32mpandas/_libs/hashtable_class_helper.pxi:7088\u001b[0m, in \u001b[0;36mpandas._libs.hashtable.PyObjectHashTable.get_item\u001b[0;34m()\u001b[0m\n",
      "\u001b[0;31mKeyError\u001b[0m: 'C26_raw'",
      "\nThe above exception was the direct cause of the following exception:\n",
      "\u001b[0;31mKeyError\u001b[0m                                  Traceback (most recent call last)",
      "Cell \u001b[0;32mIn[72], line 1\u001b[0m\n\u001b[0;32m----> 1\u001b[0m \u001b[38;5;28mprint\u001b[39m(\u001b[43mgenome_df_chrV\u001b[49m\u001b[43m[\u001b[49m\u001b[38;5;124;43m\"\u001b[39;49m\u001b[38;5;124;43mC26_raw\u001b[39;49m\u001b[38;5;124;43m\"\u001b[39;49m\u001b[43m]\u001b[49m\u001b[38;5;241m.\u001b[39mmean(), genome_df_chrV[\u001b[38;5;124m\"\u001b[39m\u001b[38;5;124mC29_raw\u001b[39m\u001b[38;5;124m\"\u001b[39m]\u001b[38;5;241m.\u001b[39mmean(), genome_df_chrV[\u001b[38;5;124m\"\u001b[39m\u001b[38;5;124mC31_raw\u001b[39m\u001b[38;5;124m\"\u001b[39m]\u001b[38;5;241m.\u001b[39mmean())\n\u001b[1;32m      2\u001b[0m \u001b[38;5;28mprint\u001b[39m(genome_df_chrV[\u001b[38;5;124m\"\u001b[39m\u001b[38;5;124mC26_raw\u001b[39m\u001b[38;5;124m\"\u001b[39m]\u001b[38;5;241m.\u001b[39mstd(), genome_df_chrV[\u001b[38;5;124m\"\u001b[39m\u001b[38;5;124mC29_raw\u001b[39m\u001b[38;5;124m\"\u001b[39m]\u001b[38;5;241m.\u001b[39mstd(), genome_df_chrV[\u001b[38;5;124m\"\u001b[39m\u001b[38;5;124mC31_raw\u001b[39m\u001b[38;5;124m\"\u001b[39m]\u001b[38;5;241m.\u001b[39mstd())\n\u001b[1;32m      4\u001b[0m \u001b[38;5;28mprint\u001b[39m(genome_df_chrV[\u001b[38;5;124m\"\u001b[39m\u001b[38;5;124mn=26\u001b[39m\u001b[38;5;124m\"\u001b[39m]\u001b[38;5;241m.\u001b[39mmean(), genome_df_chrV[\u001b[38;5;124m\"\u001b[39m\u001b[38;5;124mn=29\u001b[39m\u001b[38;5;124m\"\u001b[39m]\u001b[38;5;241m.\u001b[39mmean(), genome_df_chrV[\u001b[38;5;124m\"\u001b[39m\u001b[38;5;124mn=31\u001b[39m\u001b[38;5;124m\"\u001b[39m]\u001b[38;5;241m.\u001b[39mmean())\n",
      "File \u001b[0;32m~/Dropbox/Northwestern/DNA_Cyclizability/.venv/lib/python3.11/site-packages/pandas/core/frame.py:3893\u001b[0m, in \u001b[0;36mDataFrame.__getitem__\u001b[0;34m(self, key)\u001b[0m\n\u001b[1;32m   3891\u001b[0m \u001b[38;5;28;01mif\u001b[39;00m \u001b[38;5;28mself\u001b[39m\u001b[38;5;241m.\u001b[39mcolumns\u001b[38;5;241m.\u001b[39mnlevels \u001b[38;5;241m>\u001b[39m \u001b[38;5;241m1\u001b[39m:\n\u001b[1;32m   3892\u001b[0m     \u001b[38;5;28;01mreturn\u001b[39;00m \u001b[38;5;28mself\u001b[39m\u001b[38;5;241m.\u001b[39m_getitem_multilevel(key)\n\u001b[0;32m-> 3893\u001b[0m indexer \u001b[38;5;241m=\u001b[39m \u001b[38;5;28;43mself\u001b[39;49m\u001b[38;5;241;43m.\u001b[39;49m\u001b[43mcolumns\u001b[49m\u001b[38;5;241;43m.\u001b[39;49m\u001b[43mget_loc\u001b[49m\u001b[43m(\u001b[49m\u001b[43mkey\u001b[49m\u001b[43m)\u001b[49m\n\u001b[1;32m   3894\u001b[0m \u001b[38;5;28;01mif\u001b[39;00m is_integer(indexer):\n\u001b[1;32m   3895\u001b[0m     indexer \u001b[38;5;241m=\u001b[39m [indexer]\n",
      "File \u001b[0;32m~/Dropbox/Northwestern/DNA_Cyclizability/.venv/lib/python3.11/site-packages/pandas/core/indexes/base.py:3797\u001b[0m, in \u001b[0;36mIndex.get_loc\u001b[0;34m(self, key)\u001b[0m\n\u001b[1;32m   3792\u001b[0m     \u001b[38;5;28;01mif\u001b[39;00m \u001b[38;5;28misinstance\u001b[39m(casted_key, \u001b[38;5;28mslice\u001b[39m) \u001b[38;5;129;01mor\u001b[39;00m (\n\u001b[1;32m   3793\u001b[0m         \u001b[38;5;28misinstance\u001b[39m(casted_key, abc\u001b[38;5;241m.\u001b[39mIterable)\n\u001b[1;32m   3794\u001b[0m         \u001b[38;5;129;01mand\u001b[39;00m \u001b[38;5;28many\u001b[39m(\u001b[38;5;28misinstance\u001b[39m(x, \u001b[38;5;28mslice\u001b[39m) \u001b[38;5;28;01mfor\u001b[39;00m x \u001b[38;5;129;01min\u001b[39;00m casted_key)\n\u001b[1;32m   3795\u001b[0m     ):\n\u001b[1;32m   3796\u001b[0m         \u001b[38;5;28;01mraise\u001b[39;00m InvalidIndexError(key)\n\u001b[0;32m-> 3797\u001b[0m     \u001b[38;5;28;01mraise\u001b[39;00m \u001b[38;5;167;01mKeyError\u001b[39;00m(key) \u001b[38;5;28;01mfrom\u001b[39;00m \u001b[38;5;21;01merr\u001b[39;00m\n\u001b[1;32m   3798\u001b[0m \u001b[38;5;28;01mexcept\u001b[39;00m \u001b[38;5;167;01mTypeError\u001b[39;00m:\n\u001b[1;32m   3799\u001b[0m     \u001b[38;5;66;03m# If we have a listlike key, _check_indexing_error will raise\u001b[39;00m\n\u001b[1;32m   3800\u001b[0m     \u001b[38;5;66;03m#  InvalidIndexError. Otherwise we fall through and re-raise\u001b[39;00m\n\u001b[1;32m   3801\u001b[0m     \u001b[38;5;66;03m#  the TypeError.\u001b[39;00m\n\u001b[1;32m   3802\u001b[0m     \u001b[38;5;28mself\u001b[39m\u001b[38;5;241m.\u001b[39m_check_indexing_error(key)\n",
      "\u001b[0;31mKeyError\u001b[0m: 'C26_raw'"
     ]
    }
   ],
   "source": [
    "print(genome_df_chrV[\"C26_raw\"].mean(), genome_df_chrV[\"C29_raw\"].mean(), genome_df_chrV[\"C31_raw\"].mean())\n",
    "print(genome_df_chrV[\"C26_raw\"].std(), genome_df_chrV[\"C29_raw\"].std(), genome_df_chrV[\"C31_raw\"].std())\n",
    "\n",
    "print(genome_df_chrV[\"n=26\"].mean(), genome_df_chrV[\"n=29\"].mean(), genome_df_chrV[\"n=31\"].mean())\n",
    "print(genome_df_chrV[\"n=26\"].std(), genome_df_chrV[\"n=29\"].std(), genome_df_chrV[\"n=31\"].std())"
   ]
  },
  {
   "cell_type": "code",
   "execution_count": null,
   "metadata": {},
   "outputs": [],
   "source": []
  },
  {
   "cell_type": "code",
   "execution_count": 73,
   "metadata": {},
   "outputs": [],
   "source": [
    "meanC26 = -0.1702373294847514 \n",
    "stdC26 = 0.5761561889426974\n",
    "meanC29 = -0.1730189136679293 \n",
    "stdC29 = 0.5889335849536195\n",
    "meanC31 = -0.20523567238490675 \n",
    "stdC31 = 0.6526103123263609"
   ]
  },
  {
   "cell_type": "code",
   "execution_count": 74,
   "metadata": {},
   "outputs": [
    {
     "data": {
      "text/html": [
       "<div>\n",
       "<style scoped>\n",
       "    .dataframe tbody tr th:only-of-type {\n",
       "        vertical-align: middle;\n",
       "    }\n",
       "\n",
       "    .dataframe tbody tr th {\n",
       "        vertical-align: top;\n",
       "    }\n",
       "\n",
       "    .dataframe thead th {\n",
       "        text-align: right;\n",
       "    }\n",
       "</style>\n",
       "<table border=\"1\" class=\"dataframe\">\n",
       "  <thead>\n",
       "    <tr style=\"text-align: right;\">\n",
       "      <th></th>\n",
       "      <th>n=26</th>\n",
       "      <th>n=29</th>\n",
       "      <th>n=31</th>\n",
       "      <th>n=26_reverse</th>\n",
       "      <th>n=29_reverse</th>\n",
       "      <th>n=31_reverse</th>\n",
       "      <th>n=26_comp</th>\n",
       "      <th>n=29_comp</th>\n",
       "      <th>n=31_comp</th>\n",
       "      <th>n=26_rev_comp</th>\n",
       "      <th>n=29_rev_comp</th>\n",
       "      <th>n=31_rev_comp</th>\n",
       "      <th>C0</th>\n",
       "    </tr>\n",
       "  </thead>\n",
       "  <tbody>\n",
       "    <tr>\n",
       "      <th>0</th>\n",
       "      <td>-0.453347</td>\n",
       "      <td>-0.627388</td>\n",
       "      <td>-0.396521</td>\n",
       "      <td>2.035031</td>\n",
       "      <td>1.047136</td>\n",
       "      <td>-0.469321</td>\n",
       "      <td>1.863749</td>\n",
       "      <td>1.648355</td>\n",
       "      <td>0.800228</td>\n",
       "      <td>-0.525005</td>\n",
       "      <td>-0.368169</td>\n",
       "      <td>-0.418247</td>\n",
       "      <td>-0.416519</td>\n",
       "    </tr>\n",
       "    <tr>\n",
       "      <th>1</th>\n",
       "      <td>-0.279821</td>\n",
       "      <td>-0.653612</td>\n",
       "      <td>-0.502821</td>\n",
       "      <td>2.220499</td>\n",
       "      <td>0.240150</td>\n",
       "      <td>0.077993</td>\n",
       "      <td>1.554749</td>\n",
       "      <td>2.095215</td>\n",
       "      <td>1.762567</td>\n",
       "      <td>-0.555140</td>\n",
       "      <td>-0.284141</td>\n",
       "      <td>-0.262650</td>\n",
       "      <td>-0.355435</td>\n",
       "    </tr>\n",
       "    <tr>\n",
       "      <th>2</th>\n",
       "      <td>-0.342606</td>\n",
       "      <td>-0.448339</td>\n",
       "      <td>-0.476831</td>\n",
       "      <td>2.019326</td>\n",
       "      <td>-0.313433</td>\n",
       "      <td>0.935878</td>\n",
       "      <td>1.260944</td>\n",
       "      <td>2.226643</td>\n",
       "      <td>2.123617</td>\n",
       "      <td>-0.514449</td>\n",
       "      <td>-0.382669</td>\n",
       "      <td>-0.338941</td>\n",
       "      <td>-0.395895</td>\n",
       "    </tr>\n",
       "    <tr>\n",
       "      <th>3</th>\n",
       "      <td>-0.399345</td>\n",
       "      <td>-0.442532</td>\n",
       "      <td>-0.399097</td>\n",
       "      <td>1.636463</td>\n",
       "      <td>-0.242350</td>\n",
       "      <td>1.518844</td>\n",
       "      <td>0.451818</td>\n",
       "      <td>2.176857</td>\n",
       "      <td>2.198343</td>\n",
       "      <td>-0.553157</td>\n",
       "      <td>-0.471041</td>\n",
       "      <td>-0.345032</td>\n",
       "      <td>-0.396418</td>\n",
       "    </tr>\n",
       "    <tr>\n",
       "      <th>4</th>\n",
       "      <td>-0.576827</td>\n",
       "      <td>-0.525379</td>\n",
       "      <td>-0.325661</td>\n",
       "      <td>0.915955</td>\n",
       "      <td>0.587437</td>\n",
       "      <td>1.876456</td>\n",
       "      <td>0.118319</td>\n",
       "      <td>1.838895</td>\n",
       "      <td>2.114885</td>\n",
       "      <td>-0.742663</td>\n",
       "      <td>-0.157121</td>\n",
       "      <td>0.043354</td>\n",
       "      <td>-0.467565</td>\n",
       "    </tr>\n",
       "    <tr>\n",
       "      <th>...</th>\n",
       "      <td>...</td>\n",
       "      <td>...</td>\n",
       "      <td>...</td>\n",
       "      <td>...</td>\n",
       "      <td>...</td>\n",
       "      <td>...</td>\n",
       "      <td>...</td>\n",
       "      <td>...</td>\n",
       "      <td>...</td>\n",
       "      <td>...</td>\n",
       "      <td>...</td>\n",
       "      <td>...</td>\n",
       "      <td>...</td>\n",
       "    </tr>\n",
       "    <tr>\n",
       "      <th>576820</th>\n",
       "      <td>1.860281</td>\n",
       "      <td>1.425676</td>\n",
       "      <td>0.033508</td>\n",
       "      <td>-1.020843</td>\n",
       "      <td>-1.509358</td>\n",
       "      <td>-1.959355</td>\n",
       "      <td>-1.372557</td>\n",
       "      <td>-0.701077</td>\n",
       "      <td>-1.094367</td>\n",
       "      <td>2.072896</td>\n",
       "      <td>1.507879</td>\n",
       "      <td>0.331652</td>\n",
       "      <td>1.069545</td>\n",
       "    </tr>\n",
       "    <tr>\n",
       "      <th>576821</th>\n",
       "      <td>1.728922</td>\n",
       "      <td>1.660969</td>\n",
       "      <td>1.013292</td>\n",
       "      <td>-1.464343</td>\n",
       "      <td>-1.708619</td>\n",
       "      <td>-1.954342</td>\n",
       "      <td>-1.618316</td>\n",
       "      <td>-1.146228</td>\n",
       "      <td>-1.331187</td>\n",
       "      <td>2.071106</td>\n",
       "      <td>0.975800</td>\n",
       "      <td>-0.319321</td>\n",
       "      <td>1.412484</td>\n",
       "    </tr>\n",
       "    <tr>\n",
       "      <th>576822</th>\n",
       "      <td>0.691388</td>\n",
       "      <td>1.564713</td>\n",
       "      <td>1.412105</td>\n",
       "      <td>-1.717937</td>\n",
       "      <td>-1.655562</td>\n",
       "      <td>-1.890883</td>\n",
       "      <td>-1.757556</td>\n",
       "      <td>-1.490416</td>\n",
       "      <td>-1.578371</td>\n",
       "      <td>1.588807</td>\n",
       "      <td>-0.089022</td>\n",
       "      <td>-0.478377</td>\n",
       "      <td>0.957592</td>\n",
       "    </tr>\n",
       "    <tr>\n",
       "      <th>576823</th>\n",
       "      <td>0.067896</td>\n",
       "      <td>1.451819</td>\n",
       "      <td>1.525671</td>\n",
       "      <td>-1.803639</td>\n",
       "      <td>-1.486870</td>\n",
       "      <td>-1.511242</td>\n",
       "      <td>-1.684635</td>\n",
       "      <td>-1.735190</td>\n",
       "      <td>-1.765663</td>\n",
       "      <td>0.918664</td>\n",
       "      <td>-0.923980</td>\n",
       "      <td>-0.117385</td>\n",
       "      <td>0.631284</td>\n",
       "    </tr>\n",
       "    <tr>\n",
       "      <th>576824</th>\n",
       "      <td>-0.928453</td>\n",
       "      <td>0.753477</td>\n",
       "      <td>1.082689</td>\n",
       "      <td>-1.748396</td>\n",
       "      <td>-1.072492</td>\n",
       "      <td>-1.295779</td>\n",
       "      <td>-1.305302</td>\n",
       "      <td>-1.759308</td>\n",
       "      <td>-1.972476</td>\n",
       "      <td>-0.228768</td>\n",
       "      <td>-1.180800</td>\n",
       "      <td>-0.044586</td>\n",
       "      <td>-0.136382</td>\n",
       "    </tr>\n",
       "  </tbody>\n",
       "</table>\n",
       "<p>576825 rows × 13 columns</p>\n",
       "</div>"
      ],
      "text/plain": [
       "            n=26      n=29      n=31  n=26_reverse  n=29_reverse  \\\n",
       "0      -0.453347 -0.627388 -0.396521      2.035031      1.047136   \n",
       "1      -0.279821 -0.653612 -0.502821      2.220499      0.240150   \n",
       "2      -0.342606 -0.448339 -0.476831      2.019326     -0.313433   \n",
       "3      -0.399345 -0.442532 -0.399097      1.636463     -0.242350   \n",
       "4      -0.576827 -0.525379 -0.325661      0.915955      0.587437   \n",
       "...          ...       ...       ...           ...           ...   \n",
       "576820  1.860281  1.425676  0.033508     -1.020843     -1.509358   \n",
       "576821  1.728922  1.660969  1.013292     -1.464343     -1.708619   \n",
       "576822  0.691388  1.564713  1.412105     -1.717937     -1.655562   \n",
       "576823  0.067896  1.451819  1.525671     -1.803639     -1.486870   \n",
       "576824 -0.928453  0.753477  1.082689     -1.748396     -1.072492   \n",
       "\n",
       "        n=31_reverse  n=26_comp  n=29_comp  n=31_comp  n=26_rev_comp  \\\n",
       "0          -0.469321   1.863749   1.648355   0.800228      -0.525005   \n",
       "1           0.077993   1.554749   2.095215   1.762567      -0.555140   \n",
       "2           0.935878   1.260944   2.226643   2.123617      -0.514449   \n",
       "3           1.518844   0.451818   2.176857   2.198343      -0.553157   \n",
       "4           1.876456   0.118319   1.838895   2.114885      -0.742663   \n",
       "...              ...        ...        ...        ...            ...   \n",
       "576820     -1.959355  -1.372557  -0.701077  -1.094367       2.072896   \n",
       "576821     -1.954342  -1.618316  -1.146228  -1.331187       2.071106   \n",
       "576822     -1.890883  -1.757556  -1.490416  -1.578371       1.588807   \n",
       "576823     -1.511242  -1.684635  -1.735190  -1.765663       0.918664   \n",
       "576824     -1.295779  -1.305302  -1.759308  -1.972476      -0.228768   \n",
       "\n",
       "        n=29_rev_comp  n=31_rev_comp        C0  \n",
       "0           -0.368169      -0.418247 -0.416519  \n",
       "1           -0.284141      -0.262650 -0.355435  \n",
       "2           -0.382669      -0.338941 -0.395895  \n",
       "3           -0.471041      -0.345032 -0.396418  \n",
       "4           -0.157121       0.043354 -0.467565  \n",
       "...               ...            ...       ...  \n",
       "576820       1.507879       0.331652  1.069545  \n",
       "576821       0.975800      -0.319321  1.412484  \n",
       "576822      -0.089022      -0.478377  0.957592  \n",
       "576823      -0.923980      -0.117385  0.631284  \n",
       "576824      -1.180800      -0.044586 -0.136382  \n",
       "\n",
       "[576825 rows x 13 columns]"
      ]
     },
     "execution_count": 74,
     "metadata": {},
     "output_type": "execute_result"
    }
   ],
   "source": [
    "cn_avg_pred_df"
   ]
  },
  {
   "cell_type": "code",
   "execution_count": 91,
   "metadata": {},
   "outputs": [],
   "source": [
    "#FIXME Added for graphical abstract (Delete later)\n",
    "genome_df_chrV[\"C26\"] = cn_avg_pred_df[\"n=26\"]\n",
    "genome_df_chrV[\"C29\"] = cn_avg_pred_df[\"n=29\"]\n",
    "genome_df_chrV[\"C31\"] = cn_avg_pred_df[\"n=31\"]"
   ]
  },
  {
   "cell_type": "code",
   "execution_count": 31,
   "metadata": {},
   "outputs": [],
   "source": [
    "genome_df_chrV[\"C26\"] = (cn_avg_pred_df[\"n=26\"].values*stdC26) + meanC26\n",
    "genome_df_chrV[\"C29\"] = (cn_avg_pred_df[\"n=29\"].values*stdC29) + meanC29\n",
    "genome_df_chrV[\"C31\"] = (cn_avg_pred_df[\"n=31\"].values*stdC31) + meanC31\n"
   ]
  },
  {
   "cell_type": "code",
   "execution_count": null,
   "metadata": {},
   "outputs": [],
   "source": []
  },
  {
   "cell_type": "code",
   "execution_count": 75,
   "metadata": {},
   "outputs": [],
   "source": [
    "### DNAcycP:\n",
    "# DNAcycP_pred_chrV = pd.read_csv(\"/Users/Brody1/Dropbox/Northwestern/DNA_Cyclizability/data/predictions/chrv_1bp_cycle_norm_DNAcycP.txt\", header=None)\n",
    "# DNAcycP_pred_chrV = pd.read_csv(\"/Users/Brody1/Dropbox/Northwestern/DNA_Cyclizability/data/predictions/chrV_1bpres_DNAcycP_cycle_norm.txt\", header=None)\n",
    "DNAcycP_pred_chrV = pd.read_csv(\"/Users/Brody1/Dropbox/Northwestern/DNA_Cyclizability/data/predictions/chrV_1bpres_DNAcycP_cycle_unnorm.txt\", header=None)\n",
    "DNAcycP_pred_chrV = array(DNAcycP_pred_chrV)\n",
    "genome_df_chrV[\"DNAcycP_pred_chrV\"] = DNAcycP_pred_chrV"
   ]
  },
  {
   "cell_type": "code",
   "execution_count": 76,
   "metadata": {},
   "outputs": [],
   "source": [
    "### CycPred:\n",
    "CycPred_pred_chrV = pd.read_csv(\"/Users/Brody1/Dropbox/Northwestern/DNA_Cyclizability/data/predictions/cycpred_chrv_1bp.txt\", header=None)\n",
    "# CycPred_pred_chrV_mean = CycPred_pred_chrV.mean()\n",
    "# CycPred_pred_chrV_std = CycPred_pred_chrV.std()\n",
    "# CycPred_pred_chrV = (CycPred_pred_chrV-CycPred_pred_chrV_mean)/CycPred_pred_chrV_std\n",
    "CycPred_pred_chrV = array(CycPred_pred_chrV)\n",
    "genome_df_chrV[\"CycPred_pred_chrV\"] = CycPred_pred_chrV"
   ]
  },
  {
   "cell_type": "code",
   "execution_count": 77,
   "metadata": {},
   "outputs": [],
   "source": [
    "### DeepBend:\n",
    "DeepBend_pred_chrV = pd.read_csv(\"/Users/Brody1/Dropbox/Northwestern/DNA_Cyclizability/data/predictions/deepbend_chrv_1bp.txt\", header=None)\n",
    "# DeepBend_pred_chrV_mean = DeepBend_pred_chrV.mean()\n",
    "# DeepBend_pred_chrV_std = DeepBend_pred_chrV.std()\n",
    "# DeepBend_pred_chrV = (DeepBend_pred_chrV-DeepBend_pred_chrV_mean)/DeepBend_pred_chrV_std\n",
    "DeepBend_pred_chrV = array(DeepBend_pred_chrV)\n",
    "genome_df_chrV[\"DeepBend_pred_chrV\"] = DeepBend_pred_chrV"
   ]
  },
  {
   "cell_type": "code",
   "execution_count": 78,
   "metadata": {},
   "outputs": [],
   "source": [
    "### MIXBend:\n",
    "MIXBend_pred_chrV = pd.read_csv(\"/Users/Brody1/Dropbox/Northwestern/DNA_Cyclizability/data/predictions/mixbend_chrv_1bp.txt\")\n",
    "# MIXBend_pred_chrV_mean = MIXBend_pred_chrV.mean()\n",
    "# MIXBend_pred_chrV_std = MIXBend_pred_chrV.std()\n",
    "# MIXBend_pred_chrV = (MIXBend_pred_chrV-MIXBend_pred_chrV_mean)/MIXBend_pred_chrV_std\n",
    "MIXBend_pred_chrV = array(MIXBend_pred_chrV)\n",
    "genome_df_chrV[\"MIXBend_pred_chrV\"] = MIXBend_pred_chrV"
   ]
  },
  {
   "cell_type": "code",
   "execution_count": null,
   "metadata": {},
   "outputs": [],
   "source": []
  },
  {
   "cell_type": "code",
   "execution_count": 79,
   "metadata": {},
   "outputs": [
    {
     "data": {
      "text/plain": [
       "position                       288412.000000\n",
       "smooth_C26                         -0.000203\n",
       "smooth_C29                         -0.010987\n",
       "smooth_C31                         -0.011120\n",
       "smooth_C26_rev_comp                 0.000256\n",
       "smooth_C29_rev_comp                -0.009917\n",
       "smooth_C31_rev_comp                -0.011193\n",
       "smoothC0                           -0.007194\n",
       "smoothC0_predictions                0.039890\n",
       "smoothC0_predictions_unnorm         0.014800\n",
       "n=26                               -0.000199\n",
       "n=29                               -0.010982\n",
       "n=31                               -0.011115\n",
       "n=26_reverse                        0.031097\n",
       "n=29_reverse                        0.023302\n",
       "n=31_reverse                        0.034720\n",
       "n=26_comp                           0.030704\n",
       "n=29_comp                           0.023764\n",
       "n=31_comp                           0.034528\n",
       "n=26_rev_comp                       0.000262\n",
       "n=29_rev_comp                      -0.009915\n",
       "n=31_rev_comp                      -0.011192\n",
       "C0                                 -0.004390\n",
       "DNAcycP_pred_chrV                  -0.183073\n",
       "CycPred_pred_chrV                  -0.167015\n",
       "DeepBend_pred_chrV                 -0.204505\n",
       "MIXBend_pred_chrV                  -0.150210\n",
       "dtype: float64"
      ]
     },
     "execution_count": 79,
     "metadata": {},
     "output_type": "execute_result"
    }
   ],
   "source": [
    "genome_df_chrV.mean(numeric_only=True)"
   ]
  },
  {
   "cell_type": "code",
   "execution_count": 80,
   "metadata": {},
   "outputs": [
    {
     "data": {
      "text/plain": [
       "position                       166515.178850\n",
       "smooth_C26                          0.682398\n",
       "smooth_C29                          0.595258\n",
       "smooth_C31                          0.629215\n",
       "smooth_C26_rev_comp                 0.680727\n",
       "smooth_C29_rev_comp                 0.595259\n",
       "smooth_C31_rev_comp                 0.629555\n",
       "smoothC0                            0.624742\n",
       "smoothC0_predictions                0.939956\n",
       "smoothC0_predictions_unnorm         0.612555\n",
       "n=26                                0.894530\n",
       "n=29                                0.905077\n",
       "n=31                                0.914870\n",
       "n=26_reverse                        0.865536\n",
       "n=29_reverse                        0.879328\n",
       "n=31_reverse                        0.887255\n",
       "n=26_comp                           0.865285\n",
       "n=29_comp                           0.878724\n",
       "n=31_comp                           0.886794\n",
       "n=26_rev_comp                       0.893233\n",
       "n=29_rev_comp                       0.904660\n",
       "n=31_rev_comp                       0.915054\n",
       "C0                                  0.706127\n",
       "DNAcycP_pred_chrV                   0.434453\n",
       "CycPred_pred_chrV                   0.392658\n",
       "DeepBend_pred_chrV                  0.388841\n",
       "MIXBend_pred_chrV                   0.370534\n",
       "dtype: float64"
      ]
     },
     "execution_count": 80,
     "metadata": {},
     "output_type": "execute_result"
    }
   ],
   "source": [
    "genome_df_chrV.std(numeric_only=True)"
   ]
  },
  {
   "cell_type": "code",
   "execution_count": 81,
   "metadata": {},
   "outputs": [],
   "source": [
    "alpha_val=0.3\n",
    "alpha_val_3 = 0.5\n",
    "sequence_length=200"
   ]
  },
  {
   "cell_type": "code",
   "execution_count": 82,
   "metadata": {},
   "outputs": [],
   "source": [
    "starting_point=0\n",
    "\n",
    "starting_point=9400 # High Value Problem Region\n",
    "starting_point=16400 # High Value Problem Region\n",
    "starting_point=18400 # High Value Problem Region\n",
    "starting_point=43800 # High Value Problem Region\n",
    "starting_point=51400 # High Value Problem Region\n",
    "starting_point=56000 # High Value Problem Region\n",
    "starting_point=61700 # High Value Problem Region\n",
    "starting_point=65200 # High Value Problem Region\n",
    "starting_point=77100 # High Value Problem Region\n",
    "starting_point=88600 # High Value Problem Region\n",
    "starting_point=95000 # High Value Problem Region\n",
    "starting_point=112200 # High Value Problem Region\n",
    "starting_point=113600 # High Value Problem Region\n",
    "starting_point=121000 # High Value Problem Region\n",
    "\n",
    "# starting_point=59200 # Mid Value Problem Region\n",
    "# starting_point=86400 # Mid Value Problem Region REALLY INTERESTING - WHAT IS GOING ON HERE\n",
    "# starting_point=94500 # Mid Value Problem Region\n",
    "# starting_point=100500 # Mid Value Problem Region\n",
    "# starting_point=102400 # Mid Value Problem-ish Region\n",
    "# starting_point=116600 # Mid Value Problem Region\n",
    "\n",
    "# starting_point=60900 # Low Value Problem-ish Region\n",
    "# starting_point=115900 # Low Value Problem Region and SmoothC0 Too Low\n",
    "\n",
    "# starting_point=70300 # SmoothC0 Too Low?\n",
    "# starting_point=77700 # SmoothC0 Too Low?\n",
    "# starting_point=104200 # SmoothC0 Too Low?\n",
    "\n"
   ]
  },
  {
   "cell_type": "code",
   "execution_count": 83,
   "metadata": {},
   "outputs": [],
   "source": [
    "# Problem Region Type 1:\n",
    "\n",
    "starting_point = 9455-55\n",
    "starting_point = 16465-55\n",
    "starting_point = 18522-52\n",
    "# starting_point = 21286-56\n",
    "starting_point = 43839-59\n",
    "\n",
    "\n",
    "\n",
    "starting_point = 88695-55\n",
    "\n",
    "\n",
    "starting_point = 545692-52"
   ]
  },
  {
   "cell_type": "code",
   "execution_count": 84,
   "metadata": {},
   "outputs": [],
   "source": [
    "# Problem Region Type 2:\n",
    "\n",
    "# starting_point = 22239-59\n",
    "starting_point = 34923-53\n",
    "# starting_point = 47929-59\n",
    "starting_point = 50932-52\n",
    "\n",
    "\n",
    "# starting_point = 474642-42"
   ]
  },
  {
   "cell_type": "code",
   "execution_count": 85,
   "metadata": {},
   "outputs": [],
   "source": [
    "starting_point = 479158 # Region for Paper?\n",
    "starting_point = 479208 # Region for Paper?"
   ]
  },
  {
   "cell_type": "code",
   "execution_count": 86,
   "metadata": {},
   "outputs": [],
   "source": [
    "# genome_df_chrV[\"forward_rev_comp_mean\"] = genome_df_chrV[[\"n=26\", \"n=29\", \"n=31\", \"n=26_rev_comp\", \"n=29_rev_comp\", \"n=31_rev_comp\"]].mean(axis=1)\n",
    "# genome_df_chrV[\"forward_rev_comp_mean\"] = genome_df_chrV[[\"n=26\", \"n=29\", \"n=31\", \"n=29_rev_comp\"]].mean(axis=1)\n",
    "# genome_df_chrV[\"forward_rev_comp_mean\"] = genome_df_chrV[[\"n=29\", \"n=29_rev_comp\"]].mean(axis=1)"
   ]
  },
  {
   "cell_type": "code",
   "execution_count": 93,
   "metadata": {},
   "outputs": [],
   "source": [
    "# alpha_val1 = 0.3\n",
    "alpha_val1 = 1"
   ]
  },
  {
   "cell_type": "code",
   "execution_count": 94,
   "metadata": {},
   "outputs": [],
   "source": [
    "sequence_length=100"
   ]
  },
  {
   "cell_type": "code",
   "execution_count": null,
   "metadata": {},
   "outputs": [],
   "source": []
  },
  {
   "cell_type": "code",
   "execution_count": 95,
   "metadata": {},
   "outputs": [
    {
     "data": {
      "text/plain": [
       "Index(['sequence', 'chrID', 'position', 'smooth_C26', 'smooth_C29',\n",
       "       'smooth_C31', 'smooth_C26_rev_comp', 'smooth_C29_rev_comp',\n",
       "       'smooth_C31_rev_comp', 'smoothC0', 'smoothC0_predictions',\n",
       "       'smoothC0_predictions_unnorm', 'n=26', 'n=29', 'n=31', 'n=26_reverse',\n",
       "       'n=29_reverse', 'n=31_reverse', 'n=26_comp', 'n=29_comp', 'n=31_comp',\n",
       "       'n=26_rev_comp', 'n=29_rev_comp', 'n=31_rev_comp', 'C0',\n",
       "       'DNAcycP_pred_chrV', 'CycPred_pred_chrV', 'DeepBend_pred_chrV',\n",
       "       'MIXBend_pred_chrV', 'C26', 'C29', 'C31'],\n",
       "      dtype='object')"
      ]
     },
     "execution_count": 95,
     "metadata": {},
     "output_type": "execute_result"
    }
   ],
   "source": [
    "genome_df_chrV.columns"
   ]
  },
  {
   "cell_type": "code",
   "execution_count": 96,
   "metadata": {},
   "outputs": [
    {
     "data": {
      "image/png": "[encoded data removed]",
      "text/plain": [
       "<Figure size 500x200 with 1 Axes>"
      ]
     },
     "metadata": {},
     "output_type": "display_data"
    }
   ],
   "source": [
    "# starting_point = np.random.randint(genome_df_chrV.shape[0])\n",
    "\n",
    "# ylims=[-3.5, 3.5]\n",
    "ylims=[-2.1, 1.9]\n",
    "# ylims=[-4, 4]\n",
    "\n",
    "# plt.figure(figsize=(3.5,1.75))\n",
    "# plt.figure(figsize=(6,4))\n",
    "plt.figure(figsize=(5,2))\n",
    "\n",
    "# plt.figure(figsize=(6,6))\n",
    "\n",
    "# plt.plot(list(range(starting_point, starting_point + sequence_length)),\n",
    "#          genome_df_chrV[\"n=26\"][range(starting_point, starting_point + sequence_length)], label=\"Predicted C26\", color=\"C0\", alpha=alpha_val1)\n",
    "# plt.plot(list(range(starting_point, starting_point + sequence_length)),\n",
    "#          genome_df_chrV[\"n=29\"][range(starting_point, starting_point + sequence_length)], label=\"Predicted C29\", color=\"C1\", alpha=alpha_val1)\n",
    "# plt.plot(list(range(starting_point, starting_point + sequence_length)),\n",
    "#          genome_df_chrV[\"n=31\"][range(starting_point, starting_point + sequence_length)], label=\"Predicted C31\", color=\"C2\", alpha=alpha_val1)\n",
    "\n",
    "plt.plot(list(range(starting_point, starting_point + sequence_length)),\n",
    "         genome_df_chrV[\"C26\"][range(starting_point, starting_point + sequence_length)], label=\"Predicted C26\", color=\"C0\", alpha=alpha_val1)\n",
    "plt.plot(list(range(starting_point, starting_point + sequence_length)),\n",
    "         genome_df_chrV[\"C29\"][range(starting_point, starting_point + sequence_length)], label=\"Predicted C29\", color=\"C1\", alpha=alpha_val1)\n",
    "plt.plot(list(range(starting_point, starting_point + sequence_length)),\n",
    "         genome_df_chrV[\"C31\"][range(starting_point, starting_point + sequence_length)], label=\"Predicted C31\", color=\"C2\", alpha=alpha_val1)\n",
    "\n",
    "# plt.plot(list(range(starting_point, starting_point + sequence_length)),\n",
    "#          genome_df_chrV[\"smooth_C26\"][range(starting_point, starting_point + sequence_length)], label=\"Predicted C26\", color=\"C0\")\n",
    "# plt.plot(list(range(starting_point, starting_point + sequence_length)),\n",
    "#          genome_df_chrV[\"smooth_C29\"][range(starting_point, starting_point + sequence_length)], label=\"Predicted C29\", color=\"C1\")\n",
    "# plt.plot(list(range(starting_point, starting_point + sequence_length)),\n",
    "#          genome_df_chrV[\"smooth_C31\"][range(starting_point, starting_point + sequence_length)], label=\"Predicted C31\", color=\"C2\")\n",
    "\n",
    "# plt.plot(list(range(starting_point, starting_point + sequence_length)),\n",
    "#          genome_df_chrV[\"n=26_rev_comp\"][range(starting_point, starting_point + sequence_length)], label=\"Predicted C26 (Reverse Complement)\", \n",
    "#          color=\"C0\", linestyle=\"dashed\", alpha=alpha_val1)\n",
    "# plt.plot(list(range(starting_point, starting_point + sequence_length)),\n",
    "#          genome_df_chrV[\"n=29_rev_comp\"][range(starting_point, starting_point + sequence_length)], label=\"Predicted C29 (Reverse Complement)\", \n",
    "#          color=\"C1\", linestyle=\"dashed\", alpha=alpha_val1)\n",
    "# plt.plot(list(range(starting_point, starting_point + sequence_length)),\n",
    "#          genome_df_chrV[\"n=31_rev_comp\"][range(starting_point, starting_point + sequence_length)], label=\"Predicted C31 (Reverse Complement)\", \n",
    "#          color=\"C2\", linestyle=\"dashed\", alpha=alpha_val1)\n",
    "\n",
    "\n",
    "# plt.plot(list(range(starting_point, starting_point + sequence_length)),\n",
    "#          genome_df_chrV[\"smoothC0\"][range(starting_point, starting_point + sequence_length)], label=\"SmoothC0\", color=\"C3\")\n",
    "# plt.plot(list(range(starting_point, starting_point + sequence_length)),\n",
    "#          genome_df_chrV[\"smoothC0_predictions\"][range(starting_point, starting_point + sequence_length)], label=\"SmoothC0\", color=\"C9\")\n",
    "# plt.plot(list(range(starting_point, starting_point + sequence_length)),\n",
    "#          genome_df_chrV[\"smoothC0_predictions_unnorm\"][range(starting_point, starting_point + sequence_length)], label=\"SmoothC0\", color=\"C9\")\n",
    "# plt.plot(list(range(starting_point, starting_point + sequence_length)),\n",
    "#          genome_df_chrV[\"forward_rev_comp_mean\"][range(starting_point, starting_point + sequence_length)], label=\"UnSmoothC0\", alpha=alpha_val, color=\"C3\")\n",
    "# plt.plot(list(range(starting_point, starting_point + sequence_length)),\n",
    "#          genome_df_chrV[\"C0\"][range(starting_point, starting_point + sequence_length)], label=\"Predicted C0\", alpha=alpha_val_4)\n",
    "\n",
    "# plt.plot(list(range(starting_point, starting_point + sequence_length)),\n",
    "#          genome_df_chrV[\"DNAcycP_pred_chrV\"][range(starting_point, starting_point + sequence_length)], label=\"DNAcycP\", alpha=0.7, color=\"C4\")\n",
    "# plt.plot(list(range(starting_point, starting_point + sequence_length)),\n",
    "#          genome_df_chrV[\"CycPred_pred_chrV\"][range(starting_point, starting_point + sequence_length)], label=\"CycPred\", alpha=0.7, color=\"C5\")\n",
    "# plt.plot(list(range(starting_point, starting_point + sequence_length)),\n",
    "#          genome_df_chrV[\"DeepBend_pred_chrV\"][range(starting_point, starting_point + sequence_length)], label=\"DeepBend\", alpha=0.7, color=\"C6\")\n",
    "# plt.plot(list(range(starting_point, starting_point + sequence_length)),\n",
    "#          genome_df_chrV[\"MIXBend_pred_chrV\"][range(starting_point, starting_point + sequence_length)], label=\"MIXBend\", alpha=0.7, color=\"C7\")\n",
    "\n",
    "\n",
    "# plt.plot([list(range(starting_point, starting_point + sequence_length))[i] for i, x in enumerate(genome_df_chrV.C0[range(starting_point, starting_point + sequence_length)]) if x is not None],\n",
    "#          [x for x in genome_df_chrV.C0[range(starting_point, starting_point + sequence_length)] if x is not None], label=\"Original C0\", alpha=alpha_val_2, marker=\"o\")\n",
    "# plt.plot([list(range(starting_point, starting_point + sequence_length))[i] for i, x in enumerate(genome_df_chrV.C26_raw[range(starting_point, starting_point + sequence_length)]) if x is not None],\n",
    "#          [x for x in genome_df_chrV.C26_raw[range(starting_point, starting_point + sequence_length)] if x is not None], label=\"Original C26\", alpha=alpha_val_3, marker=\"o\")\n",
    "# plt.plot([list(range(starting_point, starting_point + sequence_length))[i] for i, x in enumerate(genome_df_chrV.C29_raw[range(starting_point, starting_point + sequence_length)]) if x is not None],\n",
    "#          [x for x in genome_df_chrV.C29_raw[range(starting_point, starting_point + sequence_length)] if x is not None], label=\"Original C29\", alpha=alpha_val_3, marker=\"o\")\n",
    "# plt.plot([list(range(starting_point, starting_point + sequence_length))[i] for i, x in enumerate(genome_df_chrV.C31_raw[range(starting_point, starting_point + sequence_length)]) if x is not None],\n",
    "#          [x for x in genome_df_chrV.C31_raw[range(starting_point, starting_point + sequence_length)] if x is not None], label=\"Original C31\", alpha=alpha_val_3, marker=\"o\")\n",
    "\n",
    "# plt.plot(list(range(starting_point, starting_point + sequence_length)),\n",
    "#          ((genome_df_chrV[\"n=26\"] + genome_df_chrV[\"n=31\"])/2)[range(starting_point, starting_point + sequence_length)], label=\"Predicted C26 - C31\", alpha=alpha_val, color=\"C4\")\n",
    "\n",
    "plt.vlines(list(range(starting_point, starting_point+sequence_length+1, 10)), ylims[0], ylims[1], alpha=0.1)\n",
    "# plt.title(\"Predictions on ChrV, No Smoothing\")\n",
    "# plt.legend(fontsize=7)\n",
    "# plt.ylim(ylims)\n",
    "# plt.locator_params(axis='x', nbins=5)\n",
    "plt.xticks([])\n",
    "plt.yticks([])\n",
    "plt.show()\n",
    "# starting_point += sequence_length\n"
   ]
  },
  {
   "cell_type": "code",
   "execution_count": 1267,
   "metadata": {},
   "outputs": [
    {
     "data": {
      "image/png": "[encoded data removed]",
      "text/plain": [
       "<Figure size 500x200 with 1 Axes>"
      ]
     },
     "metadata": {},
     "output_type": "display_data"
    }
   ],
   "source": [
    "# starting_point = np.random.randint(genome_df_chrV.shape[0])\n",
    "\n",
    "ylims=[-3.5, 3.5]\n",
    "\n",
    "# plt.figure(figsize=(3.5,1.75))\n",
    "# plt.figure(figsize=(6,4))\n",
    "plt.figure(figsize=(5,2))\n",
    "\n",
    "# plt.figure(figsize=(6,6))\n",
    "\n",
    "plt.plot(list(range(starting_point, starting_point + sequence_length)),\n",
    "         genome_df_chrV[\"n=26\"][range(starting_point, starting_point + sequence_length)], label=\"Predicted C26\", color=\"C0\", alpha=alpha_val1)\n",
    "plt.plot(list(range(starting_point, starting_point + sequence_length)),\n",
    "         genome_df_chrV[\"n=29\"][range(starting_point, starting_point + sequence_length)], label=\"Predicted C29\", color=\"C1\", alpha=alpha_val1)\n",
    "plt.plot(list(range(starting_point, starting_point + sequence_length)),\n",
    "         genome_df_chrV[\"n=31\"][range(starting_point, starting_point + sequence_length)], label=\"Predicted C31\", color=\"C2\", alpha=alpha_val1)\n",
    "\n",
    "# plt.plot(list(range(starting_point, starting_point + sequence_length)),\n",
    "#          genome_df_chrV[\"smoothC0\"][range(starting_point, starting_point + sequence_length)], label=\"SmoothC0\", color=\"C3\")\n",
    "plt.plot(list(range(starting_point, starting_point + sequence_length)),\n",
    "         genome_df_chrV[\"smoothC0_predictions_unnorm\"][range(starting_point, starting_point + sequence_length)], label=\"SmoothC0\", color=\"C9\")\n",
    "\n",
    "plt.vlines(list(range(starting_point, starting_point+sequence_length+1, 10)), ylims[0], ylims[1], alpha=0.1)\n",
    "# plt.title(\"Predictions on ChrV, No Smoothing\")\n",
    "# plt.legend(fontsize=7)\n",
    "plt.ylim(ylims)\n",
    "plt.locator_params(axis='x', nbins=5)\n",
    "plt.show()\n",
    "# starting_point += sequence_length\n"
   ]
  },
  {
   "cell_type": "code",
   "execution_count": 1117,
   "metadata": {},
   "outputs": [],
   "source": [
    "# starting_point -= 10"
   ]
  },
  {
   "cell_type": "code",
   "execution_count": 1273,
   "metadata": {},
   "outputs": [
    {
     "data": {
      "image/png": "[encoded data removed]",
      "text/plain": [
       "<Figure size 500x200 with 1 Axes>"
      ]
     },
     "metadata": {},
     "output_type": "display_data"
    }
   ],
   "source": [
    "# starting_point = np.random.randint(genome_df_chrV.shape[0])\n",
    "\n",
    "# ylims=[-2, 1.5]\n",
    "# ylims=[-3, 3]\n",
    "ylims=[-2.1, 1.9]\n",
    "\n",
    "# plt.figure(figsize=(3.5,1.75))\n",
    "# plt.figure(figsize=(6,4))\n",
    "plt.figure(figsize=(5,2))\n",
    "\n",
    "# plt.figure(figsize=(6,6))\n",
    "\n",
    "plt.plot(list(range(starting_point, starting_point + sequence_length)),\n",
    "         genome_df_chrV[\"C26\"][range(starting_point, starting_point + sequence_length)], label=\"Predicted C26\", color=\"C0\", alpha=alpha_val1)\n",
    "plt.plot(list(range(starting_point, starting_point + sequence_length)),\n",
    "         genome_df_chrV[\"C29\"][range(starting_point, starting_point + sequence_length)], label=\"Predicted C29\", color=\"C1\", alpha=alpha_val1)\n",
    "plt.plot(list(range(starting_point, starting_point + sequence_length)),\n",
    "         genome_df_chrV[\"C31\"][range(starting_point, starting_point + sequence_length)], label=\"Predicted C31\", color=\"C2\", alpha=alpha_val1)\n",
    "\n",
    "# plt.plot(list(range(starting_point, starting_point + sequence_length)),\n",
    "#          genome_df_chrV[\"DNAcycP_pred_chrV\"][range(starting_point, starting_point + sequence_length)], label=\"DNAcycP\", alpha=0.7, color=\"C4\")\n",
    "# plt.plot(list(range(starting_point, starting_point + sequence_length)),\n",
    "#          genome_df_chrV[\"CycPred_pred_chrV\"][range(starting_point, starting_point + sequence_length)], label=\"CycPred\", alpha=0.7, color=\"C5\")\n",
    "# plt.plot(list(range(starting_point, starting_point + sequence_length)),\n",
    "#          genome_df_chrV[\"DeepBend_pred_chrV\"][range(starting_point, starting_point + sequence_length)], label=\"DeepBend\", alpha=0.7, color=\"C6\")\n",
    "plt.plot(list(range(starting_point, starting_point + sequence_length)),\n",
    "         genome_df_chrV[\"MIXBend_pred_chrV\"][range(starting_point, starting_point + sequence_length)], label=\"MIXBend\", alpha=0.7, color=\"C7\")\n",
    "\n",
    "# plt.plot([list(range(starting_point, starting_point + sequence_length))[i] for i, x in enumerate(genome_df_chrV.C26_raw[range(starting_point, starting_point + sequence_length)]) if x is not None],\n",
    "#          [x for x in genome_df_chrV.C26_raw[range(starting_point, starting_point + sequence_length)] if x is not None], label=\"Original C26\", alpha=alpha_val_3, marker=\"o\")\n",
    "# plt.plot([list(range(starting_point, starting_point + sequence_length))[i] for i, x in enumerate(genome_df_chrV.C29_raw[range(starting_point, starting_point + sequence_length)]) if x is not None],\n",
    "#          [x for x in genome_df_chrV.C29_raw[range(starting_point, starting_point + sequence_length)] if x is not None], label=\"Original C29\", alpha=alpha_val_3, marker=\"o\")\n",
    "# plt.plot([list(range(starting_point, starting_point + sequence_length))[i] for i, x in enumerate(genome_df_chrV.C31_raw[range(starting_point, starting_point + sequence_length)]) if x is not None],\n",
    "#          [x for x in genome_df_chrV.C31_raw[range(starting_point, starting_point + sequence_length)] if x is not None], label=\"Original C31\", alpha=alpha_val_3, marker=\"o\")\n",
    "\n",
    "\n",
    "plt.vlines(list(range(starting_point, starting_point+sequence_length+1, 10)), ylims[0], ylims[1], alpha=0.1)\n",
    "# plt.title(\"Predictions on ChrV, No Smoothing\")\n",
    "# plt.legend(fontsize=7)\n",
    "plt.ylim(ylims)\n",
    "plt.locator_params(axis='x', nbins=5)\n",
    "plt.show()\n",
    "# starting_point += sequence_length\n"
   ]
  },
  {
   "cell_type": "code",
   "execution_count": 1155,
   "metadata": {},
   "outputs": [],
   "source": [
    "pd.set_option('display.max_colwidth', 100)"
   ]
  },
  {
   "cell_type": "code",
   "execution_count": 1253,
   "metadata": {},
   "outputs": [
    {
     "data": {
      "text/html": [
       "<div>\n",
       "<style scoped>\n",
       "    .dataframe tbody tr th:only-of-type {\n",
       "        vertical-align: middle;\n",
       "    }\n",
       "\n",
       "    .dataframe tbody tr th {\n",
       "        vertical-align: top;\n",
       "    }\n",
       "\n",
       "    .dataframe thead th {\n",
       "        text-align: right;\n",
       "    }\n",
       "</style>\n",
       "<table border=\"1\" class=\"dataframe\">\n",
       "  <thead>\n",
       "    <tr style=\"text-align: right;\">\n",
       "      <th></th>\n",
       "      <th>sequence</th>\n",
       "      <th>smoothC0_predictions_unnorm</th>\n",
       "    </tr>\n",
       "  </thead>\n",
       "  <tbody>\n",
       "    <tr>\n",
       "      <th>287213</th>\n",
       "      <td>CGTTGAGTGTTAATTTTGTGGTGATTGGCTTCAGTTTTGATTGTTTCGGA</td>\n",
       "      <td>1.229842</td>\n",
       "    </tr>\n",
       "    <tr>\n",
       "      <th>287214</th>\n",
       "      <td>GTTGAGTGTTAATTTTGTGGTGATTGGCTTCAGTTTTGATTGTTTCGGAT</td>\n",
       "      <td>1.274469</td>\n",
       "    </tr>\n",
       "    <tr>\n",
       "      <th>287215</th>\n",
       "      <td>TTGAGTGTTAATTTTGTGGTGATTGGCTTCAGTTTTGATTGTTTCGGATG</td>\n",
       "      <td>1.366307</td>\n",
       "    </tr>\n",
       "    <tr>\n",
       "      <th>287216</th>\n",
       "      <td>TGAGTGTTAATTTTGTGGTGATTGGCTTCAGTTTTGATTGTTTCGGATGA</td>\n",
       "      <td>1.393103</td>\n",
       "    </tr>\n",
       "    <tr>\n",
       "      <th>287217</th>\n",
       "      <td>GAGTGTTAATTTTGTGGTGATTGGCTTCAGTTTTGATTGTTTCGGATGAA</td>\n",
       "      <td>1.376741</td>\n",
       "    </tr>\n",
       "    <tr>\n",
       "      <th>287218</th>\n",
       "      <td>AGTGTTAATTTTGTGGTGATTGGCTTCAGTTTTGATTGTTTCGGATGAAA</td>\n",
       "      <td>1.451913</td>\n",
       "    </tr>\n",
       "    <tr>\n",
       "      <th>287219</th>\n",
       "      <td>GTGTTAATTTTGTGGTGATTGGCTTCAGTTTTGATTGTTTCGGATGAAAT</td>\n",
       "      <td>1.404366</td>\n",
       "    </tr>\n",
       "    <tr>\n",
       "      <th>287220</th>\n",
       "      <td>TGTTAATTTTGTGGTGATTGGCTTCAGTTTTGATTGTTTCGGATGAAATG</td>\n",
       "      <td>1.258519</td>\n",
       "    </tr>\n",
       "    <tr>\n",
       "      <th>287221</th>\n",
       "      <td>GTTAATTTTGTGGTGATTGGCTTCAGTTTTGATTGTTTCGGATGAAATGA</td>\n",
       "      <td>1.061630</td>\n",
       "    </tr>\n",
       "    <tr>\n",
       "      <th>287222</th>\n",
       "      <td>TTAATTTTGTGGTGATTGGCTTCAGTTTTGATTGTTTCGGATGAAATGAA</td>\n",
       "      <td>0.983639</td>\n",
       "    </tr>\n",
       "    <tr>\n",
       "      <th>287223</th>\n",
       "      <td>TAATTTTGTGGTGATTGGCTTCAGTTTTGATTGTTTCGGATGAAATGAAA</td>\n",
       "      <td>0.810027</td>\n",
       "    </tr>\n",
       "    <tr>\n",
       "      <th>287224</th>\n",
       "      <td>AATTTTGTGGTGATTGGCTTCAGTTTTGATTGTTTCGGATGAAATGAAAA</td>\n",
       "      <td>0.505044</td>\n",
       "    </tr>\n",
       "    <tr>\n",
       "      <th>287225</th>\n",
       "      <td>ATTTTGTGGTGATTGGCTTCAGTTTTGATTGTTTCGGATGAAATGAAAAA</td>\n",
       "      <td>0.114708</td>\n",
       "    </tr>\n",
       "    <tr>\n",
       "      <th>287226</th>\n",
       "      <td>TTTTGTGGTGATTGGCTTCAGTTTTGATTGTTTCGGATGAAATGAAAAAG</td>\n",
       "      <td>-0.032911</td>\n",
       "    </tr>\n",
       "    <tr>\n",
       "      <th>287227</th>\n",
       "      <td>TTTGTGGTGATTGGCTTCAGTTTTGATTGTTTCGGATGAAATGAAAAAGT</td>\n",
       "      <td>-0.326767</td>\n",
       "    </tr>\n",
       "    <tr>\n",
       "      <th>287228</th>\n",
       "      <td>TTGTGGTGATTGGCTTCAGTTTTGATTGTTTCGGATGAAATGAAAAAGTG</td>\n",
       "      <td>-0.541340</td>\n",
       "    </tr>\n",
       "    <tr>\n",
       "      <th>287229</th>\n",
       "      <td>TGTGGTGATTGGCTTCAGTTTTGATTGTTTCGGATGAAATGAAAAAGTGA</td>\n",
       "      <td>-0.748606</td>\n",
       "    </tr>\n",
       "    <tr>\n",
       "      <th>287230</th>\n",
       "      <td>GTGGTGATTGGCTTCAGTTTTGATTGTTTCGGATGAAATGAAAAAGTGAC</td>\n",
       "      <td>-0.840345</td>\n",
       "    </tr>\n",
       "    <tr>\n",
       "      <th>287231</th>\n",
       "      <td>TGGTGATTGGCTTCAGTTTTGATTGTTTCGGATGAAATGAAAAAGTGACG</td>\n",
       "      <td>-1.020814</td>\n",
       "    </tr>\n",
       "    <tr>\n",
       "      <th>287232</th>\n",
       "      <td>GGTGATTGGCTTCAGTTTTGATTGTTTCGGATGAAATGAAAAAGTGACGA</td>\n",
       "      <td>-1.048415</td>\n",
       "    </tr>\n",
       "  </tbody>\n",
       "</table>\n",
       "</div>"
      ],
      "text/plain": [
       "                                                  sequence  smoothC0_predictions_unnorm\n",
       "287213  CGTTGAGTGTTAATTTTGTGGTGATTGGCTTCAGTTTTGATTGTTTCGGA                     1.229842\n",
       "287214  GTTGAGTGTTAATTTTGTGGTGATTGGCTTCAGTTTTGATTGTTTCGGAT                     1.274469\n",
       "287215  TTGAGTGTTAATTTTGTGGTGATTGGCTTCAGTTTTGATTGTTTCGGATG                     1.366307\n",
       "287216  TGAGTGTTAATTTTGTGGTGATTGGCTTCAGTTTTGATTGTTTCGGATGA                     1.393103\n",
       "287217  GAGTGTTAATTTTGTGGTGATTGGCTTCAGTTTTGATTGTTTCGGATGAA                     1.376741\n",
       "287218  AGTGTTAATTTTGTGGTGATTGGCTTCAGTTTTGATTGTTTCGGATGAAA                     1.451913\n",
       "287219  GTGTTAATTTTGTGGTGATTGGCTTCAGTTTTGATTGTTTCGGATGAAAT                     1.404366\n",
       "287220  TGTTAATTTTGTGGTGATTGGCTTCAGTTTTGATTGTTTCGGATGAAATG                     1.258519\n",
       "287221  GTTAATTTTGTGGTGATTGGCTTCAGTTTTGATTGTTTCGGATGAAATGA                     1.061630\n",
       "287222  TTAATTTTGTGGTGATTGGCTTCAGTTTTGATTGTTTCGGATGAAATGAA                     0.983639\n",
       "287223  TAATTTTGTGGTGATTGGCTTCAGTTTTGATTGTTTCGGATGAAATGAAA                     0.810027\n",
       "287224  AATTTTGTGGTGATTGGCTTCAGTTTTGATTGTTTCGGATGAAATGAAAA                     0.505044\n",
       "287225  ATTTTGTGGTGATTGGCTTCAGTTTTGATTGTTTCGGATGAAATGAAAAA                     0.114708\n",
       "287226  TTTTGTGGTGATTGGCTTCAGTTTTGATTGTTTCGGATGAAATGAAAAAG                    -0.032911\n",
       "287227  TTTGTGGTGATTGGCTTCAGTTTTGATTGTTTCGGATGAAATGAAAAAGT                    -0.326767\n",
       "287228  TTGTGGTGATTGGCTTCAGTTTTGATTGTTTCGGATGAAATGAAAAAGTG                    -0.541340\n",
       "287229  TGTGGTGATTGGCTTCAGTTTTGATTGTTTCGGATGAAATGAAAAAGTGA                    -0.748606\n",
       "287230  GTGGTGATTGGCTTCAGTTTTGATTGTTTCGGATGAAATGAAAAAGTGAC                    -0.840345\n",
       "287231  TGGTGATTGGCTTCAGTTTTGATTGTTTCGGATGAAATGAAAAAGTGACG                    -1.020814\n",
       "287232  GGTGATTGGCTTCAGTTTTGATTGTTTCGGATGAAATGAAAAAGTGACGA                    -1.048415"
      ]
     },
     "execution_count": 1253,
     "metadata": {},
     "output_type": "execute_result"
    }
   ],
   "source": [
    "genome_df_chrV[[\"sequence\", \"smoothC0_predictions_unnorm\"]].loc[range(starting_point+25, starting_point+45)]"
   ]
  },
  {
   "cell_type": "code",
   "execution_count": 1006,
   "metadata": {},
   "outputs": [
    {
     "data": {
      "text/html": [
       "<div>\n",
       "<style scoped>\n",
       "    .dataframe tbody tr th:only-of-type {\n",
       "        vertical-align: middle;\n",
       "    }\n",
       "\n",
       "    .dataframe tbody tr th {\n",
       "        vertical-align: top;\n",
       "    }\n",
       "\n",
       "    .dataframe thead th {\n",
       "        text-align: right;\n",
       "    }\n",
       "</style>\n",
       "<table border=\"1\" class=\"dataframe\">\n",
       "  <thead>\n",
       "    <tr style=\"text-align: right;\">\n",
       "      <th></th>\n",
       "      <th>sequence</th>\n",
       "      <th>chrID</th>\n",
       "      <th>position</th>\n",
       "      <th>smooth_C26</th>\n",
       "      <th>smooth_C29</th>\n",
       "      <th>smooth_C31</th>\n",
       "      <th>smooth_C26_rev_comp</th>\n",
       "      <th>smooth_C29_rev_comp</th>\n",
       "      <th>smooth_C31_rev_comp</th>\n",
       "      <th>smoothC0</th>\n",
       "      <th>...</th>\n",
       "      <th>C26_raw</th>\n",
       "      <th>C29_raw</th>\n",
       "      <th>C31_raw</th>\n",
       "      <th>C26</th>\n",
       "      <th>C29</th>\n",
       "      <th>C31</th>\n",
       "      <th>DNAcycP_pred_chrV</th>\n",
       "      <th>CycPred_pred_chrV</th>\n",
       "      <th>DeepBend_pred_chrV</th>\n",
       "      <th>MIXBend_pred_chrV</th>\n",
       "    </tr>\n",
       "  </thead>\n",
       "  <tbody>\n",
       "    <tr>\n",
       "      <th>0</th>\n",
       "      <td>CGTCTCCTCCAAGCCCTGTTGTCTCTTACCCGGATGTTCAACCAAA...</td>\n",
       "      <td>chrV</td>\n",
       "      <td>0</td>\n",
       "      <td>NaN</td>\n",
       "      <td>NaN</td>\n",
       "      <td>NaN</td>\n",
       "      <td>NaN</td>\n",
       "      <td>NaN</td>\n",
       "      <td>NaN</td>\n",
       "      <td>NaN</td>\n",
       "      <td>...</td>\n",
       "      <td>-0.050020</td>\n",
       "      <td>-0.734749</td>\n",
       "      <td>0.267095</td>\n",
       "      <td>-0.431436</td>\n",
       "      <td>-0.542509</td>\n",
       "      <td>-0.464009</td>\n",
       "      <td>-0.493540</td>\n",
       "      <td>-0.407623</td>\n",
       "      <td>-0.402004</td>\n",
       "      <td>-0.382979</td>\n",
       "    </tr>\n",
       "    <tr>\n",
       "      <th>1</th>\n",
       "      <td>GTCTCCTCCAAGCCCTGTTGTCTCTTACCCGGATGTTCAACCAAAA...</td>\n",
       "      <td>chrV</td>\n",
       "      <td>1</td>\n",
       "      <td>NaN</td>\n",
       "      <td>NaN</td>\n",
       "      <td>NaN</td>\n",
       "      <td>NaN</td>\n",
       "      <td>NaN</td>\n",
       "      <td>NaN</td>\n",
       "      <td>NaN</td>\n",
       "      <td>...</td>\n",
       "      <td>NaN</td>\n",
       "      <td>NaN</td>\n",
       "      <td>NaN</td>\n",
       "      <td>-0.331458</td>\n",
       "      <td>-0.557953</td>\n",
       "      <td>-0.533382</td>\n",
       "      <td>-0.458455</td>\n",
       "      <td>-0.428913</td>\n",
       "      <td>-0.358417</td>\n",
       "      <td>-0.354479</td>\n",
       "    </tr>\n",
       "    <tr>\n",
       "      <th>2</th>\n",
       "      <td>TCTCCTCCAAGCCCTGTTGTCTCTTACCCGGATGTTCAACCAAAAG...</td>\n",
       "      <td>chrV</td>\n",
       "      <td>2</td>\n",
       "      <td>NaN</td>\n",
       "      <td>NaN</td>\n",
       "      <td>NaN</td>\n",
       "      <td>NaN</td>\n",
       "      <td>NaN</td>\n",
       "      <td>NaN</td>\n",
       "      <td>NaN</td>\n",
       "      <td>...</td>\n",
       "      <td>NaN</td>\n",
       "      <td>NaN</td>\n",
       "      <td>NaN</td>\n",
       "      <td>-0.367632</td>\n",
       "      <td>-0.437061</td>\n",
       "      <td>-0.516420</td>\n",
       "      <td>-0.441402</td>\n",
       "      <td>-0.401395</td>\n",
       "      <td>-0.308461</td>\n",
       "      <td>-0.360557</td>\n",
       "    </tr>\n",
       "    <tr>\n",
       "      <th>3</th>\n",
       "      <td>CTCCTCCAAGCCCTGTTGTCTCTTACCCGGATGTTCAACCAAAAGC...</td>\n",
       "      <td>chrV</td>\n",
       "      <td>3</td>\n",
       "      <td>NaN</td>\n",
       "      <td>NaN</td>\n",
       "      <td>NaN</td>\n",
       "      <td>NaN</td>\n",
       "      <td>NaN</td>\n",
       "      <td>NaN</td>\n",
       "      <td>NaN</td>\n",
       "      <td>...</td>\n",
       "      <td>NaN</td>\n",
       "      <td>NaN</td>\n",
       "      <td>NaN</td>\n",
       "      <td>-0.400323</td>\n",
       "      <td>-0.433641</td>\n",
       "      <td>-0.465691</td>\n",
       "      <td>-0.457449</td>\n",
       "      <td>-0.436235</td>\n",
       "      <td>-0.299341</td>\n",
       "      <td>-0.350954</td>\n",
       "    </tr>\n",
       "    <tr>\n",
       "      <th>4</th>\n",
       "      <td>TCCTCCAAGCCCTGTTGTCTCTTACCCGGATGTTCAACCAAAAGCT...</td>\n",
       "      <td>chrV</td>\n",
       "      <td>4</td>\n",
       "      <td>NaN</td>\n",
       "      <td>NaN</td>\n",
       "      <td>NaN</td>\n",
       "      <td>NaN</td>\n",
       "      <td>NaN</td>\n",
       "      <td>NaN</td>\n",
       "      <td>NaN</td>\n",
       "      <td>...</td>\n",
       "      <td>NaN</td>\n",
       "      <td>NaN</td>\n",
       "      <td>NaN</td>\n",
       "      <td>-0.502580</td>\n",
       "      <td>-0.482432</td>\n",
       "      <td>-0.417765</td>\n",
       "      <td>-0.409130</td>\n",
       "      <td>-0.397686</td>\n",
       "      <td>-0.469891</td>\n",
       "      <td>-0.421557</td>\n",
       "    </tr>\n",
       "    <tr>\n",
       "      <th>...</th>\n",
       "      <td>...</td>\n",
       "      <td>...</td>\n",
       "      <td>...</td>\n",
       "      <td>...</td>\n",
       "      <td>...</td>\n",
       "      <td>...</td>\n",
       "      <td>...</td>\n",
       "      <td>...</td>\n",
       "      <td>...</td>\n",
       "      <td>...</td>\n",
       "      <td>...</td>\n",
       "      <td>...</td>\n",
       "      <td>...</td>\n",
       "      <td>...</td>\n",
       "      <td>...</td>\n",
       "      <td>...</td>\n",
       "      <td>...</td>\n",
       "      <td>...</td>\n",
       "      <td>...</td>\n",
       "      <td>...</td>\n",
       "      <td>...</td>\n",
       "    </tr>\n",
       "    <tr>\n",
       "      <th>576820</th>\n",
       "      <td>ATGTAGAAGTGCTGTAGGGCTAAAGAACAGGGTTTCATTTTCATTT...</td>\n",
       "      <td>chrV</td>\n",
       "      <td>576820</td>\n",
       "      <td>NaN</td>\n",
       "      <td>NaN</td>\n",
       "      <td>NaN</td>\n",
       "      <td>NaN</td>\n",
       "      <td>NaN</td>\n",
       "      <td>NaN</td>\n",
       "      <td>NaN</td>\n",
       "      <td>...</td>\n",
       "      <td>NaN</td>\n",
       "      <td>NaN</td>\n",
       "      <td>NaN</td>\n",
       "      <td>0.901575</td>\n",
       "      <td>0.666610</td>\n",
       "      <td>-0.183368</td>\n",
       "      <td>0.478271</td>\n",
       "      <td>0.514447</td>\n",
       "      <td>0.273814</td>\n",
       "      <td>0.381359</td>\n",
       "    </tr>\n",
       "    <tr>\n",
       "      <th>576821</th>\n",
       "      <td>TGTAGAAGTGCTGTAGGGCTAAAGAACAGGGTTTCATTTTCATTTT...</td>\n",
       "      <td>chrV</td>\n",
       "      <td>576821</td>\n",
       "      <td>NaN</td>\n",
       "      <td>NaN</td>\n",
       "      <td>NaN</td>\n",
       "      <td>NaN</td>\n",
       "      <td>NaN</td>\n",
       "      <td>NaN</td>\n",
       "      <td>NaN</td>\n",
       "      <td>...</td>\n",
       "      <td>1.497742</td>\n",
       "      <td>1.354887</td>\n",
       "      <td>0.907744</td>\n",
       "      <td>0.825892</td>\n",
       "      <td>0.805181</td>\n",
       "      <td>0.456049</td>\n",
       "      <td>0.526107</td>\n",
       "      <td>0.536497</td>\n",
       "      <td>0.504590</td>\n",
       "      <td>0.501371</td>\n",
       "    </tr>\n",
       "    <tr>\n",
       "      <th>576822</th>\n",
       "      <td>GTAGAAGTGCTGTAGGGCTAAAGAACAGGGTTTCATTTTCATTTTT...</td>\n",
       "      <td>chrV</td>\n",
       "      <td>576822</td>\n",
       "      <td>NaN</td>\n",
       "      <td>NaN</td>\n",
       "      <td>NaN</td>\n",
       "      <td>NaN</td>\n",
       "      <td>NaN</td>\n",
       "      <td>NaN</td>\n",
       "      <td>NaN</td>\n",
       "      <td>...</td>\n",
       "      <td>NaN</td>\n",
       "      <td>NaN</td>\n",
       "      <td>NaN</td>\n",
       "      <td>0.228110</td>\n",
       "      <td>0.748493</td>\n",
       "      <td>0.716319</td>\n",
       "      <td>0.222641</td>\n",
       "      <td>0.378218</td>\n",
       "      <td>0.584132</td>\n",
       "      <td>0.407329</td>\n",
       "    </tr>\n",
       "    <tr>\n",
       "      <th>576823</th>\n",
       "      <td>TAGAAGTGCTGTAGGGCTAAAGAACAGGGTTTCATTTTCATTTTTT...</td>\n",
       "      <td>chrV</td>\n",
       "      <td>576823</td>\n",
       "      <td>NaN</td>\n",
       "      <td>NaN</td>\n",
       "      <td>NaN</td>\n",
       "      <td>NaN</td>\n",
       "      <td>NaN</td>\n",
       "      <td>NaN</td>\n",
       "      <td>NaN</td>\n",
       "      <td>...</td>\n",
       "      <td>NaN</td>\n",
       "      <td>NaN</td>\n",
       "      <td>NaN</td>\n",
       "      <td>-0.131118</td>\n",
       "      <td>0.682006</td>\n",
       "      <td>0.790433</td>\n",
       "      <td>0.119502</td>\n",
       "      <td>0.402313</td>\n",
       "      <td>0.556419</td>\n",
       "      <td>0.241944</td>\n",
       "    </tr>\n",
       "    <tr>\n",
       "      <th>576824</th>\n",
       "      <td>AGAAGTGCTGTAGGGCTAAAGAACAGGGTTTCATTTTCATTTTTTT...</td>\n",
       "      <td>chrV</td>\n",
       "      <td>576824</td>\n",
       "      <td>NaN</td>\n",
       "      <td>NaN</td>\n",
       "      <td>NaN</td>\n",
       "      <td>NaN</td>\n",
       "      <td>NaN</td>\n",
       "      <td>NaN</td>\n",
       "      <td>NaN</td>\n",
       "      <td>...</td>\n",
       "      <td>NaN</td>\n",
       "      <td>NaN</td>\n",
       "      <td>NaN</td>\n",
       "      <td>-0.705171</td>\n",
       "      <td>0.270729</td>\n",
       "      <td>0.501338</td>\n",
       "      <td>-0.271870</td>\n",
       "      <td>-0.047693</td>\n",
       "      <td>0.335630</td>\n",
       "      <td>-0.043352</td>\n",
       "    </tr>\n",
       "  </tbody>\n",
       "</table>\n",
       "<p>576825 rows × 35 columns</p>\n",
       "</div>"
      ],
      "text/plain": [
       "                                                 sequence chrID  position  \\\n",
       "0       CGTCTCCTCCAAGCCCTGTTGTCTCTTACCCGGATGTTCAACCAAA...  chrV         0   \n",
       "1       GTCTCCTCCAAGCCCTGTTGTCTCTTACCCGGATGTTCAACCAAAA...  chrV         1   \n",
       "2       TCTCCTCCAAGCCCTGTTGTCTCTTACCCGGATGTTCAACCAAAAG...  chrV         2   \n",
       "3       CTCCTCCAAGCCCTGTTGTCTCTTACCCGGATGTTCAACCAAAAGC...  chrV         3   \n",
       "4       TCCTCCAAGCCCTGTTGTCTCTTACCCGGATGTTCAACCAAAAGCT...  chrV         4   \n",
       "...                                                   ...   ...       ...   \n",
       "576820  ATGTAGAAGTGCTGTAGGGCTAAAGAACAGGGTTTCATTTTCATTT...  chrV    576820   \n",
       "576821  TGTAGAAGTGCTGTAGGGCTAAAGAACAGGGTTTCATTTTCATTTT...  chrV    576821   \n",
       "576822  GTAGAAGTGCTGTAGGGCTAAAGAACAGGGTTTCATTTTCATTTTT...  chrV    576822   \n",
       "576823  TAGAAGTGCTGTAGGGCTAAAGAACAGGGTTTCATTTTCATTTTTT...  chrV    576823   \n",
       "576824  AGAAGTGCTGTAGGGCTAAAGAACAGGGTTTCATTTTCATTTTTTT...  chrV    576824   \n",
       "\n",
       "        smooth_C26  smooth_C29  smooth_C31  smooth_C26_rev_comp  \\\n",
       "0              NaN         NaN         NaN                  NaN   \n",
       "1              NaN         NaN         NaN                  NaN   \n",
       "2              NaN         NaN         NaN                  NaN   \n",
       "3              NaN         NaN         NaN                  NaN   \n",
       "4              NaN         NaN         NaN                  NaN   \n",
       "...            ...         ...         ...                  ...   \n",
       "576820         NaN         NaN         NaN                  NaN   \n",
       "576821         NaN         NaN         NaN                  NaN   \n",
       "576822         NaN         NaN         NaN                  NaN   \n",
       "576823         NaN         NaN         NaN                  NaN   \n",
       "576824         NaN         NaN         NaN                  NaN   \n",
       "\n",
       "        smooth_C29_rev_comp  smooth_C31_rev_comp  smoothC0  ...   C26_raw  \\\n",
       "0                       NaN                  NaN       NaN  ... -0.050020   \n",
       "1                       NaN                  NaN       NaN  ...       NaN   \n",
       "2                       NaN                  NaN       NaN  ...       NaN   \n",
       "3                       NaN                  NaN       NaN  ...       NaN   \n",
       "4                       NaN                  NaN       NaN  ...       NaN   \n",
       "...                     ...                  ...       ...  ...       ...   \n",
       "576820                  NaN                  NaN       NaN  ...       NaN   \n",
       "576821                  NaN                  NaN       NaN  ...  1.497742   \n",
       "576822                  NaN                  NaN       NaN  ...       NaN   \n",
       "576823                  NaN                  NaN       NaN  ...       NaN   \n",
       "576824                  NaN                  NaN       NaN  ...       NaN   \n",
       "\n",
       "         C29_raw   C31_raw       C26       C29       C31  DNAcycP_pred_chrV  \\\n",
       "0      -0.734749  0.267095 -0.431436 -0.542509 -0.464009          -0.493540   \n",
       "1            NaN       NaN -0.331458 -0.557953 -0.533382          -0.458455   \n",
       "2            NaN       NaN -0.367632 -0.437061 -0.516420          -0.441402   \n",
       "3            NaN       NaN -0.400323 -0.433641 -0.465691          -0.457449   \n",
       "4            NaN       NaN -0.502580 -0.482432 -0.417765          -0.409130   \n",
       "...          ...       ...       ...       ...       ...                ...   \n",
       "576820       NaN       NaN  0.901575  0.666610 -0.183368           0.478271   \n",
       "576821  1.354887  0.907744  0.825892  0.805181  0.456049           0.526107   \n",
       "576822       NaN       NaN  0.228110  0.748493  0.716319           0.222641   \n",
       "576823       NaN       NaN -0.131118  0.682006  0.790433           0.119502   \n",
       "576824       NaN       NaN -0.705171  0.270729  0.501338          -0.271870   \n",
       "\n",
       "        CycPred_pred_chrV  DeepBend_pred_chrV  MIXBend_pred_chrV  \n",
       "0               -0.407623           -0.402004          -0.382979  \n",
       "1               -0.428913           -0.358417          -0.354479  \n",
       "2               -0.401395           -0.308461          -0.360557  \n",
       "3               -0.436235           -0.299341          -0.350954  \n",
       "4               -0.397686           -0.469891          -0.421557  \n",
       "...                   ...                 ...                ...  \n",
       "576820           0.514447            0.273814           0.381359  \n",
       "576821           0.536497            0.504590           0.501371  \n",
       "576822           0.378218            0.584132           0.407329  \n",
       "576823           0.402313            0.556419           0.241944  \n",
       "576824          -0.047693            0.335630          -0.043352  \n",
       "\n",
       "[576825 rows x 35 columns]"
      ]
     },
     "execution_count": 1006,
     "metadata": {},
     "output_type": "execute_result"
    }
   ],
   "source": [
    "genome_df_chrV"
   ]
  },
  {
   "cell_type": "code",
   "execution_count": 26,
   "metadata": {},
   "outputs": [
    {
     "name": "stderr",
     "output_type": "stream",
     "text": [
      "/Users/Brody1/Dropbox/Northwestern/DNA_Cyclizability/.venv/lib/python3.11/site-packages/matplotlib/_tight_bbox.py:67: RuntimeWarning: divide by zero encountered in scalar divide\n",
      "  fig.patch.set_bounds(x0 / w1, y0 / h1,\n",
      "/Users/Brody1/Dropbox/Northwestern/DNA_Cyclizability/.venv/lib/python3.11/site-packages/matplotlib/_tight_bbox.py:68: RuntimeWarning: divide by zero encountered in scalar divide\n",
      "  fig.bbox.width / w1, fig.bbox.height / h1)\n",
      "/Users/Brody1/Dropbox/Northwestern/DNA_Cyclizability/.venv/lib/python3.11/site-packages/matplotlib/patches.py:742: RuntimeWarning: invalid value encountered in scalar add\n",
      "  x1 = self.convert_xunits(self._x0 + self._width)\n",
      "/Users/Brody1/Dropbox/Northwestern/DNA_Cyclizability/.venv/lib/python3.11/site-packages/matplotlib/patches.py:743: RuntimeWarning: invalid value encountered in scalar add\n",
      "  y1 = self.convert_yunits(self._y0 + self._height)\n"
     ]
    },
    {
     "data": {
      "image/png": "[encoded data removed]",
      "text/plain": [
       "<Figure size 0x0 with 1 Axes>"
      ]
     },
     "metadata": {},
     "output_type": "display_data"
    },
    {
     "data": {
      "text/plain": [
       "<Figure size 800x200 with 0 Axes>"
      ]
     },
     "metadata": {},
     "output_type": "display_data"
    }
   ],
   "source": [
    "x = np.linspace(1, 100, 1000)\n",
    "y = np.log(x)\n",
    "y1 = np.sin(x)\n",
    "fig = plt.figure(\"Line plot\", figsize=(0,0))\n",
    "legendFig = plt.figure(\"Legend plot\")\n",
    "ax = fig.add_subplot(111)\n",
    "line1, = ax.plot(x,y, color=\"C0\", alpha=alpha_val1)\n",
    "line2, = ax.plot(x,y, color=\"C1\", alpha=alpha_val1)\n",
    "line3, = ax.plot(x,y, color=\"C2\", alpha=alpha_val1)\n",
    "line4, = ax.plot(x,y, color=\"C9\")\n",
    "line5, = ax.plot(x,y, color=\"C4\")\n",
    "line6, = ax.plot(x,y, color=\"C5\")\n",
    "line7, = ax.plot(x,y, color=\"C6\")\n",
    "line8, = ax.plot(x,y, color=\"C7\")\n",
    "legendFig.legend([line1, line2, line3, line4, line5, line6, line7, line8], \n",
    "                 [\"C26\", \"C29\", \"C31\", \"DNAcycPV2\", \"DNAcycP\", \"CycPred\", \"DeepBend\", \"MIXBend\"], ncol=1)\n",
    "legendFig.set_figheight(2)\n",
    "legendFig.set_figwidth(8)\n",
    "legendFig.savefig('legend.png')"
   ]
  },
  {
   "cell_type": "code",
   "execution_count": 30,
   "metadata": {},
   "outputs": [
    {
     "name": "stderr",
     "output_type": "stream",
     "text": [
      "/Users/Brody1/Dropbox/Northwestern/DNA_Cyclizability/.venv/lib/python3.11/site-packages/matplotlib/_tight_bbox.py:67: RuntimeWarning: divide by zero encountered in scalar divide\n",
      "  fig.patch.set_bounds(x0 / w1, y0 / h1,\n",
      "/Users/Brody1/Dropbox/Northwestern/DNA_Cyclizability/.venv/lib/python3.11/site-packages/matplotlib/_tight_bbox.py:68: RuntimeWarning: divide by zero encountered in scalar divide\n",
      "  fig.bbox.width / w1, fig.bbox.height / h1)\n",
      "/Users/Brody1/Dropbox/Northwestern/DNA_Cyclizability/.venv/lib/python3.11/site-packages/matplotlib/patches.py:742: RuntimeWarning: invalid value encountered in scalar add\n",
      "  x1 = self.convert_xunits(self._x0 + self._width)\n",
      "/Users/Brody1/Dropbox/Northwestern/DNA_Cyclizability/.venv/lib/python3.11/site-packages/matplotlib/patches.py:743: RuntimeWarning: invalid value encountered in scalar add\n",
      "  y1 = self.convert_yunits(self._y0 + self._height)\n"
     ]
    },
    {
     "data": {
      "image/png": "[encoded data removed]",
      "text/plain": [
       "<Figure size 0x0 with 1 Axes>"
      ]
     },
     "metadata": {},
     "output_type": "display_data"
    },
    {
     "data": {
      "text/plain": [
       "<Figure size 800x200 with 0 Axes>"
      ]
     },
     "metadata": {},
     "output_type": "display_data"
    }
   ],
   "source": [
    "x = np.linspace(1, 100, 1000)\n",
    "y = np.log(x)\n",
    "y1 = np.sin(x)\n",
    "fig = plt.figure(\"Line plot\", figsize=(0,0))\n",
    "legendFig = plt.figure(\"Legend plot\")\n",
    "ax = fig.add_subplot(111)\n",
    "line2, = ax.plot(x,y, color=\"C4\")\n",
    "legendFig.legend([line2], \n",
    "                 [\"DNAcycP\"], ncol=1)\n",
    "legendFig.set_figheight(2)\n",
    "legendFig.set_figwidth(8)\n",
    "legendFig.savefig('legend.png')"
   ]
  },
  {
   "cell_type": "code",
   "execution_count": 31,
   "metadata": {},
   "outputs": [
    {
     "data": {
      "image/png": "[encoded data removed]",
      "text/plain": [
       "<Figure size 0x0 with 1 Axes>"
      ]
     },
     "metadata": {},
     "output_type": "display_data"
    },
    {
     "data": {
      "text/plain": [
       "<Figure size 800x200 with 0 Axes>"
      ]
     },
     "metadata": {},
     "output_type": "display_data"
    }
   ],
   "source": [
    "x = np.linspace(1, 100, 1000)\n",
    "y = np.log(x)\n",
    "y1 = np.sin(x)\n",
    "fig = plt.figure(\"Line plot\", figsize=(0,0))\n",
    "legendFig = plt.figure(\"Legend plot\")\n",
    "ax = fig.add_subplot(111)\n",
    "line3, = ax.plot(x,y, color=\"C5\")\n",
    "legendFig.legend([line3], \n",
    "                 [\"CycPred\"], ncol=1)\n",
    "legendFig.set_figheight(2)\n",
    "legendFig.set_figwidth(8)\n",
    "legendFig.savefig('legend.png')"
   ]
  },
  {
   "cell_type": "code",
   "execution_count": 32,
   "metadata": {},
   "outputs": [
    {
     "data": {
      "image/png": "[encoded data removed]",
      "text/plain": [
       "<Figure size 0x0 with 1 Axes>"
      ]
     },
     "metadata": {},
     "output_type": "display_data"
    },
    {
     "data": {
      "text/plain": [
       "<Figure size 800x200 with 0 Axes>"
      ]
     },
     "metadata": {},
     "output_type": "display_data"
    }
   ],
   "source": [
    "x = np.linspace(1, 100, 1000)\n",
    "y = np.log(x)\n",
    "y1 = np.sin(x)\n",
    "fig = plt.figure(\"Line plot\", figsize=(0,0))\n",
    "legendFig = plt.figure(\"Legend plot\")\n",
    "ax = fig.add_subplot(111)\n",
    "line4, = ax.plot(x,y, color=\"C6\")\n",
    "legendFig.legend([line4], \n",
    "                 [\"DeepBend\"], ncol=1)\n",
    "legendFig.set_figheight(2)\n",
    "legendFig.set_figwidth(8)\n",
    "legendFig.savefig('legend.png')"
   ]
  },
  {
   "cell_type": "code",
   "execution_count": 33,
   "metadata": {},
   "outputs": [
    {
     "name": "stderr",
     "output_type": "stream",
     "text": [
      "/Users/Brody1/Dropbox/Northwestern/DNA_Cyclizability/.venv/lib/python3.11/site-packages/matplotlib/_tight_bbox.py:67: RuntimeWarning: divide by zero encountered in scalar divide\n",
      "  fig.patch.set_bounds(x0 / w1, y0 / h1,\n",
      "/Users/Brody1/Dropbox/Northwestern/DNA_Cyclizability/.venv/lib/python3.11/site-packages/matplotlib/_tight_bbox.py:68: RuntimeWarning: divide by zero encountered in scalar divide\n",
      "  fig.bbox.width / w1, fig.bbox.height / h1)\n",
      "/Users/Brody1/Dropbox/Northwestern/DNA_Cyclizability/.venv/lib/python3.11/site-packages/matplotlib/patches.py:742: RuntimeWarning: invalid value encountered in scalar add\n",
      "  x1 = self.convert_xunits(self._x0 + self._width)\n",
      "/Users/Brody1/Dropbox/Northwestern/DNA_Cyclizability/.venv/lib/python3.11/site-packages/matplotlib/patches.py:743: RuntimeWarning: invalid value encountered in scalar add\n",
      "  y1 = self.convert_yunits(self._y0 + self._height)\n"
     ]
    },
    {
     "data": {
      "image/png": "[encoded data removed]",
      "text/plain": [
       "<Figure size 0x0 with 1 Axes>"
      ]
     },
     "metadata": {},
     "output_type": "display_data"
    },
    {
     "data": {
      "text/plain": [
       "<Figure size 800x200 with 0 Axes>"
      ]
     },
     "metadata": {},
     "output_type": "display_data"
    }
   ],
   "source": [
    "x = np.linspace(1, 100, 1000)\n",
    "y = np.log(x)\n",
    "y1 = np.sin(x)\n",
    "fig = plt.figure(\"Line plot\", figsize=(0,0))\n",
    "legendFig = plt.figure(\"Legend plot\")\n",
    "ax = fig.add_subplot(111)\n",
    "line5, = ax.plot(x,y, color=\"C7\")\n",
    "legendFig.legend([line5], \n",
    "                 [\"MIXBend\"], ncol=1)\n",
    "legendFig.set_figheight(2)\n",
    "legendFig.set_figwidth(8)\n",
    "legendFig.savefig('legend.png')"
   ]
  },
  {
   "cell_type": "code",
   "execution_count": 28,
   "metadata": {},
   "outputs": [
    {
     "name": "stderr",
     "output_type": "stream",
     "text": [
      "/Users/Brody1/Dropbox/Northwestern/DNA_Cyclizability/.venv/lib/python3.11/site-packages/matplotlib/_tight_bbox.py:67: RuntimeWarning: divide by zero encountered in scalar divide\n",
      "  fig.patch.set_bounds(x0 / w1, y0 / h1,\n",
      "/Users/Brody1/Dropbox/Northwestern/DNA_Cyclizability/.venv/lib/python3.11/site-packages/matplotlib/_tight_bbox.py:68: RuntimeWarning: divide by zero encountered in scalar divide\n",
      "  fig.bbox.width / w1, fig.bbox.height / h1)\n",
      "/Users/Brody1/Dropbox/Northwestern/DNA_Cyclizability/.venv/lib/python3.11/site-packages/matplotlib/patches.py:742: RuntimeWarning: invalid value encountered in scalar add\n",
      "  x1 = self.convert_xunits(self._x0 + self._width)\n",
      "/Users/Brody1/Dropbox/Northwestern/DNA_Cyclizability/.venv/lib/python3.11/site-packages/matplotlib/patches.py:743: RuntimeWarning: invalid value encountered in scalar add\n",
      "  y1 = self.convert_yunits(self._y0 + self._height)\n"
     ]
    },
    {
     "data": {
      "image/png": "[encoded data removed]",
      "text/plain": [
       "<Figure size 0x0 with 1 Axes>"
      ]
     },
     "metadata": {},
     "output_type": "display_data"
    },
    {
     "data": {
      "text/plain": [
       "<Figure size 800x200 with 0 Axes>"
      ]
     },
     "metadata": {},
     "output_type": "display_data"
    }
   ],
   "source": [
    "# plt.plot(list(range(starting_point, starting_point + sequence_length)),\n",
    "#          genome_df_chrV[\"DNAcycP_pred_chrV\"][range(starting_point, starting_point + sequence_length)], label=\"DNAcycP\", alpha=0.7, color=\"C4\")\n",
    "# plt.plot(list(range(starting_point, starting_point + sequence_length)),\n",
    "#          genome_df_chrV[\"CycPred_pred_chrV\"][range(starting_point, starting_point + sequence_length)], label=\"CycPred\", alpha=0.7, color=\"C5\")\n",
    "# plt.plot(list(range(starting_point, starting_point + sequence_length)),\n",
    "#          genome_df_chrV[\"DeepBend_pred_chrV\"][range(starting_point, starting_point + sequence_length)], label=\"DeepBend\", alpha=0.7, color=\"C6\")\n",
    "# plt.plot(list(range(starting_point, starting_point + sequence_length)),\n",
    "#          genome_df_chrV[\"MIXBend_pred_chrV\"][range(starting_point, starting_point + sequence_length)], label=\"MIXBend\", alpha=0.7, color=\"C7\")\n",
    "\n",
    "\n",
    "x = np.linspace(1, 100, 1000)\n",
    "y = np.log(x)\n",
    "y1 = np.sin(x)\n",
    "fig = plt.figure(\"Line plot\", figsize=(0,0))\n",
    "legendFig = plt.figure(\"Legend plot\")\n",
    "ax = fig.add_subplot(111)\n",
    "line1, = ax.plot(x,y, color=\"C9\")\n",
    "line2, = ax.plot(x,y, color=\"C4\")\n",
    "line3, = ax.plot(x,y, color=\"C5\")\n",
    "line4, = ax.plot(x,y, color=\"C6\")\n",
    "line5, = ax.plot(x,y, color=\"C7\")\n",
    "# line1, = ax.plot(x, y, c=\"red\", lw=4, linestyle=\"dashdot\")\n",
    "# line2, = ax.plot(x, y1, c=\"green\", lw=1, linestyle=\"--\")\n",
    "# legendFig.legend([line1, line4, line2, line5, line3, line6], \n",
    "#                  [\"C26\", \"C26 Reverse Complement\",\n",
    "#                   \"C29\", \"C29 Reverse Complement\",\n",
    "#                   \"C31\", \"C31 Reverse Complement\"], ncol=3)\n",
    "\n",
    "\n",
    "legendFig.legend([line1, line2, line3, line4, line5], \n",
    "                 [\"DNAcycPV2\", \"DNAcycP\", \"CycPred\", \"DeepBend\", \n",
    "                 \"MIXBend\"], ncol=1)\n",
    "legendFig.set_figheight(2)\n",
    "legendFig.set_figwidth(8)\n",
    "legendFig.savefig('legend.png')"
   ]
  },
  {
   "cell_type": "code",
   "execution_count": 59,
   "metadata": {},
   "outputs": [
    {
     "name": "stderr",
     "output_type": "stream",
     "text": [
      "/Users/Brody1/Dropbox/Northwestern/DNA_Cyclizability/.venv/lib/python3.11/site-packages/matplotlib/_tight_bbox.py:67: RuntimeWarning: divide by zero encountered in scalar divide\n",
      "  fig.patch.set_bounds(x0 / w1, y0 / h1,\n",
      "/Users/Brody1/Dropbox/Northwestern/DNA_Cyclizability/.venv/lib/python3.11/site-packages/matplotlib/_tight_bbox.py:68: RuntimeWarning: divide by zero encountered in scalar divide\n",
      "  fig.bbox.width / w1, fig.bbox.height / h1)\n",
      "/Users/Brody1/Dropbox/Northwestern/DNA_Cyclizability/.venv/lib/python3.11/site-packages/matplotlib/patches.py:742: RuntimeWarning: invalid value encountered in scalar add\n",
      "  x1 = self.convert_xunits(self._x0 + self._width)\n",
      "/Users/Brody1/Dropbox/Northwestern/DNA_Cyclizability/.venv/lib/python3.11/site-packages/matplotlib/patches.py:743: RuntimeWarning: invalid value encountered in scalar add\n",
      "  y1 = self.convert_yunits(self._y0 + self._height)\n"
     ]
    },
    {
     "data": {
      "image/png": "[encoded data removed]",
      "text/plain": [
       "<Figure size 0x0 with 1 Axes>"
      ]
     },
     "metadata": {},
     "output_type": "display_data"
    },
    {
     "data": {
      "text/plain": [
       "<Figure size 800x200 with 0 Axes>"
      ]
     },
     "metadata": {},
     "output_type": "display_data"
    }
   ],
   "source": [
    "x = np.linspace(1, 100, 1000)\n",
    "y = np.log(x)\n",
    "y1 = np.sin(x)\n",
    "fig = plt.figure(\"Line plot\", figsize=(0,0))\n",
    "legendFig = plt.figure(\"Legend plot\")\n",
    "ax = fig.add_subplot(111)\n",
    "line1, = ax.plot(x,y, color=\"C0\")\n",
    "line2, = ax.plot(x,y, color=\"C1\")\n",
    "line3, = ax.plot(x,y, color=\"C2\")\n",
    "line4, = ax.plot(x,y, color=\"C0\", linestyle=\"dashed\")\n",
    "line5, = ax.plot(x,y, color=\"C1\", linestyle=\"dashed\")\n",
    "line6, = ax.plot(x,y, color=\"C2\", linestyle=\"dashed\")\n",
    "line7, = ax.plot(x,y, color=\"C3\")\n",
    "line8, = ax.plot(x,y, color=\"white\")\n",
    "# line1, = ax.plot(x, y, c=\"red\", lw=4, linestyle=\"dashdot\")\n",
    "# line2, = ax.plot(x, y1, c=\"green\", lw=1, linestyle=\"--\")\n",
    "# legendFig.legend([line1, line4, line2, line5, line3, line6], \n",
    "#                  [\"C26\", \"C26 Reverse Complement\",\n",
    "#                   \"C29\", \"C29 Reverse Complement\",\n",
    "#                   \"C31\", \"C31 Reverse Complement\"], ncol=3)\n",
    "\n",
    "\n",
    "legendFig.legend([line1, line2, line3, line4, line5, line6, line8, line7], \n",
    "                 [\"C26\", \"C29\", \"C31\", \"C26 reverse complement\", \n",
    "                 \"C29 reverse complement\", \"C31 reverse complement\", \"\", \"SmoothC0\"], ncol=3)\n",
    "legendFig.set_figheight(2)\n",
    "legendFig.set_figwidth(8)\n",
    "legendFig.savefig('legend.png')"
   ]
  },
  {
   "cell_type": "code",
   "execution_count": null,
   "metadata": {},
   "outputs": [],
   "source": [
    "# starting_point = starting_point - (sequence_length*2)"
   ]
  },
  {
   "cell_type": "code",
   "execution_count": null,
   "metadata": {},
   "outputs": [],
   "source": []
  },
  {
   "cell_type": "code",
   "execution_count": null,
   "metadata": {},
   "outputs": [],
   "source": [
    "# # Find Problem Region Type 1: At least one pair of Predicted Cns are not aligned over a period of a given length (one is greater than the other)\n",
    "# problem_region_type1_parameter = 18\n",
    "# problem_region_type1_list = []\n",
    "\n",
    "# C26_C31_reference = (None, -1)\n",
    "# for i in range(genome_df_chrV.shape[0]):\n",
    "#     cur_C26_C31_diff_sign = genome_df_chrV.loc[i,\"n=26\"] < genome_df_chrV.loc[i, \"n=31\"]\n",
    "\n",
    "#     # Check if we need to update reference:\n",
    "#     if C26_C31_reference[0] != cur_C26_C31_diff_sign:\n",
    "#         # Sign is different, need to update reference\n",
    "#         # Was it a problem region?\n",
    "#         if i - C26_C31_reference[1] >= problem_region_type1_parameter:\n",
    "#             problem_region_type1_list.append((C26_C31_reference[1], i-1))\n",
    "#         C26_C31_reference = (cur_C26_C31_diff_sign, i)\n"
   ]
  },
  {
   "cell_type": "code",
   "execution_count": null,
   "metadata": {},
   "outputs": [
    {
     "data": {
      "text/plain": [
       "166"
      ]
     },
     "metadata": {},
     "output_type": "display_data"
    }
   ],
   "source": [
    "# len(problem_region_type1_list)"
   ]
  },
  {
   "cell_type": "code",
   "execution_count": null,
   "metadata": {},
   "outputs": [
    {
     "name": "stdout",
     "output_type": "stream",
     "text": [
      "5622 0.009746456897672603\n"
     ]
    }
   ],
   "source": [
    "# total_excluded = 0\n",
    "# for (l, r) in problem_region_type1_list:\n",
    "#     total_excluded += r-l+1\n",
    "# print(total_excluded, total_excluded/genome_df_chrV.shape[0])"
   ]
  },
  {
   "cell_type": "code",
   "execution_count": null,
   "metadata": {},
   "outputs": [],
   "source": [
    "# # Find Problem Region Type 2: SmoothC0 is consistently greater than or consistently less than all Measured Cn values over a period of a given length\n",
    "# problem_region_type2_parameter = 13\n",
    "# problem_region_type2_list = []\n",
    "\n",
    "# type2_reference = (None, -1, -1)\n",
    "# for i in range(genome_df_chrV.shape[0]):\n",
    "#     if np.isnan(genome_df_chrV.loc[i,\"C26_raw\"]):\n",
    "#         continue\n",
    "\n",
    "#     cur_C26_diff_sign = genome_df_chrV.loc[i,\"smoothC0\"] < genome_df_chrV.loc[i, \"C26_raw\"]\n",
    "#     cur_C29_diff_sign = genome_df_chrV.loc[i,\"smoothC0\"] < genome_df_chrV.loc[i, \"C29_raw\"]\n",
    "#     cur_C31_diff_sign = genome_df_chrV.loc[i,\"smoothC0\"] < genome_df_chrV.loc[i, \"C31_raw\"]\n",
    "\n",
    "#     # Check if all 3 signs are equal:\n",
    "#     if (cur_C26_diff_sign == cur_C29_diff_sign) and (cur_C26_diff_sign == cur_C31_diff_sign) and (cur_C29_diff_sign == cur_C31_diff_sign):\n",
    "#         # All signs are equal, now check how we need to update reference\n",
    "#         if type2_reference[0] != cur_C26_diff_sign:\n",
    "#             # Sign is different, need to check if it was a problem region:\n",
    "#             if type2_reference[2] - type2_reference[1] >= problem_region_type2_parameter:\n",
    "#                 problem_region_type2_list.append((type2_reference[1], type2_reference[2]))\n",
    "#             type2_reference = (cur_C26_diff_sign, i, i)\n",
    "#         else:\n",
    "#             # Sign is the same, update reference to end of region:\n",
    "#             type2_reference = (type2_reference[0], type2_reference[1], i)\n",
    "#     else:\n",
    "#         # All signs are not equal, update reference:\n",
    "#         type2_reference = (None, i, i)\n",
    "\n"
   ]
  },
  {
   "cell_type": "code",
   "execution_count": null,
   "metadata": {},
   "outputs": [
    {
     "data": {
      "text/plain": [
       "30"
      ]
     },
     "metadata": {},
     "output_type": "display_data"
    }
   ],
   "source": [
    "# len(problem_region_type2_list)"
   ]
  },
  {
   "cell_type": "code",
   "execution_count": null,
   "metadata": {},
   "outputs": [],
   "source": [
    "# problem_region_type2_list"
   ]
  },
  {
   "cell_type": "code",
   "execution_count": null,
   "metadata": {},
   "outputs": [
    {
     "name": "stdout",
     "output_type": "stream",
     "text": [
      "492 0.0008529450006501105\n"
     ]
    }
   ],
   "source": [
    "# total_excluded = 0\n",
    "# for (l, r) in problem_region_type2_list:\n",
    "#     total_excluded += r-l+1\n",
    "# print(total_excluded, total_excluded/genome_df_chrV.shape[0])"
   ]
  },
  {
   "cell_type": "code",
   "execution_count": null,
   "metadata": {},
   "outputs": [],
   "source": [
    "# Find Problem Region Type 3: At least one of Predicted Cns is not periodic:\n"
   ]
  },
  {
   "cell_type": "code",
   "execution_count": null,
   "metadata": {},
   "outputs": [],
   "source": []
  },
  {
   "cell_type": "code",
   "execution_count": null,
   "metadata": {},
   "outputs": [],
   "source": [
    "# for (l, r) in problem_region_type1_list:\n",
    "#     genome_df_chrV.loc[l:r, \"smoothC0\"] = 0"
   ]
  },
  {
   "cell_type": "code",
   "execution_count": null,
   "metadata": {},
   "outputs": [],
   "source": [
    "# for (l, r) in problem_region_type2_list:\n",
    "#     genome_df_chrV.loc[l:r, \"smoothC0\"] = 0"
   ]
  },
  {
   "cell_type": "code",
   "execution_count": null,
   "metadata": {},
   "outputs": [],
   "source": [
    "# for (l, r) in problem_region_type3_list:\n",
    "#     genome_df_chrV.loc[l:r, \"smoothC0\"] = 0"
   ]
  },
  {
   "cell_type": "code",
   "execution_count": null,
   "metadata": {},
   "outputs": [],
   "source": [
    "# genome_df_chrV.to_csv(f\"/Users/Brody1/Dropbox/Northwestern/DNA_Cyclizability/data/Created/ir_lstm_cn_{training_data_name}_{data_name}_smoothC0_adj.csv\", index=False)"
   ]
  },
  {
   "cell_type": "code",
   "execution_count": null,
   "metadata": {},
   "outputs": [],
   "source": []
  }
 ],
 "metadata": {
  "kernelspec": {
   "display_name": ".venv",
   "language": "python",
   "name": "python3"
  },
  "language_info": {
   "codemirror_mode": {
    "name": "ipython",
    "version": 3
   },
   "file_extension": ".py",
   "mimetype": "text/x-python",
   "name": "python",
   "nbconvert_exporter": "python",
   "pygments_lexer": "ipython3",
   "version": "3.11.0"
  }
 },
 "nbformat": 4,
 "nbformat_minor": 2
}
