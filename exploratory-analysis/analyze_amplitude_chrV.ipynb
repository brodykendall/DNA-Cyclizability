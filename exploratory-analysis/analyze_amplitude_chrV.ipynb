{
 "cells": [
  {
   "cell_type": "code",
   "execution_count": 61,
   "metadata": {},
   "outputs": [],
   "source": [
    "import pandas as pd\n",
    "import numpy as np\n",
    "\n",
    "from numpy import array\n",
    "\n",
    "import matplotlib.pyplot as plt\n",
    "\n",
    "import statsmodels.api as sm"
   ]
  },
  {
   "cell_type": "code",
   "execution_count": 73,
   "metadata": {},
   "outputs": [],
   "source": [
    "training_data_name = \"tiling\""
   ]
  },
  {
   "cell_type": "code",
   "execution_count": 89,
   "metadata": {},
   "outputs": [],
   "source": [
    "genome_df_chrV = pd.read_csv(\"/Users/Brody1/Dropbox/Northwestern/DNA_Cyclizability/data/Created/yeast_chrV_1bpresolution_subsequence50.csv\")"
   ]
  },
  {
   "cell_type": "code",
   "execution_count": 90,
   "metadata": {},
   "outputs": [
    {
     "data": {
      "text/html": [
       "<div>\n",
       "<style scoped>\n",
       "    .dataframe tbody tr th:only-of-type {\n",
       "        vertical-align: middle;\n",
       "    }\n",
       "\n",
       "    .dataframe tbody tr th {\n",
       "        vertical-align: top;\n",
       "    }\n",
       "\n",
       "    .dataframe thead th {\n",
       "        text-align: right;\n",
       "    }\n",
       "</style>\n",
       "<table border=\"1\" class=\"dataframe\">\n",
       "  <thead>\n",
       "    <tr style=\"text-align: right;\">\n",
       "      <th></th>\n",
       "      <th>sequence</th>\n",
       "      <th>chrID</th>\n",
       "      <th>position</th>\n",
       "    </tr>\n",
       "  </thead>\n",
       "  <tbody>\n",
       "    <tr>\n",
       "      <th>0</th>\n",
       "      <td>CGTCTCCTCCAAGCCCTGTTGTCTCTTACCCGGATGTTCAACCAAA...</td>\n",
       "      <td>chrV</td>\n",
       "      <td>0</td>\n",
       "    </tr>\n",
       "    <tr>\n",
       "      <th>1</th>\n",
       "      <td>GTCTCCTCCAAGCCCTGTTGTCTCTTACCCGGATGTTCAACCAAAA...</td>\n",
       "      <td>chrV</td>\n",
       "      <td>1</td>\n",
       "    </tr>\n",
       "    <tr>\n",
       "      <th>2</th>\n",
       "      <td>TCTCCTCCAAGCCCTGTTGTCTCTTACCCGGATGTTCAACCAAAAG...</td>\n",
       "      <td>chrV</td>\n",
       "      <td>2</td>\n",
       "    </tr>\n",
       "    <tr>\n",
       "      <th>3</th>\n",
       "      <td>CTCCTCCAAGCCCTGTTGTCTCTTACCCGGATGTTCAACCAAAAGC...</td>\n",
       "      <td>chrV</td>\n",
       "      <td>3</td>\n",
       "    </tr>\n",
       "    <tr>\n",
       "      <th>4</th>\n",
       "      <td>TCCTCCAAGCCCTGTTGTCTCTTACCCGGATGTTCAACCAAAAGCT...</td>\n",
       "      <td>chrV</td>\n",
       "      <td>4</td>\n",
       "    </tr>\n",
       "    <tr>\n",
       "      <th>...</th>\n",
       "      <td>...</td>\n",
       "      <td>...</td>\n",
       "      <td>...</td>\n",
       "    </tr>\n",
       "    <tr>\n",
       "      <th>576820</th>\n",
       "      <td>ATGTAGAAGTGCTGTAGGGCTAAAGAACAGGGTTTCATTTTCATTT...</td>\n",
       "      <td>chrV</td>\n",
       "      <td>576820</td>\n",
       "    </tr>\n",
       "    <tr>\n",
       "      <th>576821</th>\n",
       "      <td>TGTAGAAGTGCTGTAGGGCTAAAGAACAGGGTTTCATTTTCATTTT...</td>\n",
       "      <td>chrV</td>\n",
       "      <td>576821</td>\n",
       "    </tr>\n",
       "    <tr>\n",
       "      <th>576822</th>\n",
       "      <td>GTAGAAGTGCTGTAGGGCTAAAGAACAGGGTTTCATTTTCATTTTT...</td>\n",
       "      <td>chrV</td>\n",
       "      <td>576822</td>\n",
       "    </tr>\n",
       "    <tr>\n",
       "      <th>576823</th>\n",
       "      <td>TAGAAGTGCTGTAGGGCTAAAGAACAGGGTTTCATTTTCATTTTTT...</td>\n",
       "      <td>chrV</td>\n",
       "      <td>576823</td>\n",
       "    </tr>\n",
       "    <tr>\n",
       "      <th>576824</th>\n",
       "      <td>AGAAGTGCTGTAGGGCTAAAGAACAGGGTTTCATTTTCATTTTTTT...</td>\n",
       "      <td>chrV</td>\n",
       "      <td>576824</td>\n",
       "    </tr>\n",
       "  </tbody>\n",
       "</table>\n",
       "<p>576825 rows × 3 columns</p>\n",
       "</div>"
      ],
      "text/plain": [
       "                                                 sequence chrID  position\n",
       "0       CGTCTCCTCCAAGCCCTGTTGTCTCTTACCCGGATGTTCAACCAAA...  chrV         0\n",
       "1       GTCTCCTCCAAGCCCTGTTGTCTCTTACCCGGATGTTCAACCAAAA...  chrV         1\n",
       "2       TCTCCTCCAAGCCCTGTTGTCTCTTACCCGGATGTTCAACCAAAAG...  chrV         2\n",
       "3       CTCCTCCAAGCCCTGTTGTCTCTTACCCGGATGTTCAACCAAAAGC...  chrV         3\n",
       "4       TCCTCCAAGCCCTGTTGTCTCTTACCCGGATGTTCAACCAAAAGCT...  chrV         4\n",
       "...                                                   ...   ...       ...\n",
       "576820  ATGTAGAAGTGCTGTAGGGCTAAAGAACAGGGTTTCATTTTCATTT...  chrV    576820\n",
       "576821  TGTAGAAGTGCTGTAGGGCTAAAGAACAGGGTTTCATTTTCATTTT...  chrV    576821\n",
       "576822  GTAGAAGTGCTGTAGGGCTAAAGAACAGGGTTTCATTTTCATTTTT...  chrV    576822\n",
       "576823  TAGAAGTGCTGTAGGGCTAAAGAACAGGGTTTCATTTTCATTTTTT...  chrV    576823\n",
       "576824  AGAAGTGCTGTAGGGCTAAAGAACAGGGTTTCATTTTCATTTTTTT...  chrV    576824\n",
       "\n",
       "[576825 rows x 3 columns]"
      ]
     },
     "execution_count": 90,
     "metadata": {},
     "output_type": "execute_result"
    }
   ],
   "source": [
    "genome_df_chrV"
   ]
  },
  {
   "cell_type": "code",
   "execution_count": 75,
   "metadata": {},
   "outputs": [],
   "source": [
    "# genome_df_chrV = pd.read_csv(f\"/Users/Brody1/Dropbox/Northwestern/DNA_Cyclizability/data/Created/chrV_ir_lstm_cn_{training_data_name}_post_smoothed_matched.csv\")"
   ]
  },
  {
   "cell_type": "code",
   "execution_count": 91,
   "metadata": {},
   "outputs": [],
   "source": [
    "cn_avg_pred_df = pd.read_csv(f\"/Users/Brody1/Dropbox/Northwestern/DNA_Cyclizability/data/Created/ir_lstm_cn_{training_data_name}_yeast_chrV_1bpresolution_subsequence50_predictions.csv\")"
   ]
  },
  {
   "cell_type": "code",
   "execution_count": 92,
   "metadata": {},
   "outputs": [
    {
     "data": {
      "text/plain": [
       "n=26            -0.000199\n",
       "n=29            -0.010982\n",
       "n=31            -0.011115\n",
       "n=26_reverse     0.031097\n",
       "n=29_reverse     0.023302\n",
       "n=31_reverse     0.034720\n",
       "n=26_comp        0.030704\n",
       "n=29_comp        0.023764\n",
       "n=31_comp        0.034528\n",
       "n=26_rev_comp    0.000262\n",
       "n=29_rev_comp   -0.009915\n",
       "n=31_rev_comp   -0.011192\n",
       "C0              -0.004390\n",
       "dtype: float64"
      ]
     },
     "execution_count": 92,
     "metadata": {},
     "output_type": "execute_result"
    }
   ],
   "source": [
    "cn_avg_pred_df.mean(numeric_only=True)"
   ]
  },
  {
   "cell_type": "code",
   "execution_count": 93,
   "metadata": {},
   "outputs": [
    {
     "data": {
      "text/plain": [
       "n=26             0.894530\n",
       "n=29             0.905077\n",
       "n=31             0.914870\n",
       "n=26_reverse     0.865536\n",
       "n=29_reverse     0.879328\n",
       "n=31_reverse     0.887255\n",
       "n=26_comp        0.865285\n",
       "n=29_comp        0.878724\n",
       "n=31_comp        0.886794\n",
       "n=26_rev_comp    0.893233\n",
       "n=29_rev_comp    0.904660\n",
       "n=31_rev_comp    0.915054\n",
       "C0               0.706127\n",
       "dtype: float64"
      ]
     },
     "execution_count": 93,
     "metadata": {},
     "output_type": "execute_result"
    }
   ],
   "source": [
    "cn_avg_pred_df.std(numeric_only=True)"
   ]
  },
  {
   "cell_type": "code",
   "execution_count": 94,
   "metadata": {},
   "outputs": [],
   "source": [
    "genome_df_chrV = pd.concat([genome_df_chrV, cn_avg_pred_df], axis=1)"
   ]
  },
  {
   "cell_type": "code",
   "execution_count": 95,
   "metadata": {},
   "outputs": [],
   "source": [
    "tiling_C26_mean = -0.1702373294847514 \n",
    "tiling_C26_std = 0.5761561889426974\n",
    "genome_df_chrV[\"n=26\"] = genome_df_chrV[\"n=26\"]*tiling_C26_std + tiling_C26_mean"
   ]
  },
  {
   "cell_type": "code",
   "execution_count": 96,
   "metadata": {},
   "outputs": [],
   "source": [
    "tiling_C29_mean = -0.1730189136679293 \n",
    "tiling_C29_std = 0.5889335849536195\n",
    "genome_df_chrV[\"n=29\"] = genome_df_chrV[\"n=29\"]*tiling_C29_std + tiling_C29_mean"
   ]
  },
  {
   "cell_type": "code",
   "execution_count": 97,
   "metadata": {},
   "outputs": [],
   "source": [
    "tiling_C31_mean = -0.20523567238490675 \n",
    "tiling_C31_std = 0.6526103123263609\n",
    "genome_df_chrV[\"n=31\"] = genome_df_chrV[\"n=31\"]*tiling_C31_std + tiling_C31_mean"
   ]
  },
  {
   "cell_type": "code",
   "execution_count": 85,
   "metadata": {},
   "outputs": [
    {
     "data": {
      "text/plain": [
       "0.3931679947020196"
      ]
     },
     "execution_count": 85,
     "metadata": {},
     "output_type": "execute_result"
    }
   ],
   "source": [
    "genome_df_chrV[\"smooth_C26\"].std()"
   ]
  },
  {
   "cell_type": "code",
   "execution_count": null,
   "metadata": {},
   "outputs": [],
   "source": []
  },
  {
   "cell_type": "code",
   "execution_count": 86,
   "metadata": {},
   "outputs": [],
   "source": [
    "# # half_region_size = 10\n",
    "half_region_size = 5\n",
    "# C26_amp_estimates = [(max(genome_df_chrV.loc[(i-half_region_size):(i+half_region_size), \"n=26\"]) - \n",
    "#                             min(genome_df_chrV.loc[(i-half_region_size):(i+half_region_size), \"n=26\"]))/2 \n",
    "#                             for i in range(half_region_size, genome_df_chrV.shape[0]-half_region_size)]\n",
    "\n",
    "# for i in range(half_region_size):\n",
    "#     C26_amp_estimates.append(np.nan)\n",
    "#     C26_amp_estimates.insert(0,np.nan)\n",
    "\n",
    "# C26_amp_estimates = array(C26_amp_estimates)"
   ]
  },
  {
   "cell_type": "code",
   "execution_count": 87,
   "metadata": {},
   "outputs": [
    {
     "ename": "KeyError",
     "evalue": "'n=26'",
     "output_type": "error",
     "traceback": [
      "\u001b[0;31m---------------------------------------------------------------------------\u001b[0m",
      "\u001b[0;31mKeyError\u001b[0m                                  Traceback (most recent call last)",
      "File \u001b[0;32m~/Dropbox/Northwestern/DNA_Cyclizability/.venv/lib/python3.11/site-packages/pandas/core/indexes/base.py:3790\u001b[0m, in \u001b[0;36mIndex.get_loc\u001b[0;34m(self, key)\u001b[0m\n\u001b[1;32m   3789\u001b[0m \u001b[38;5;28;01mtry\u001b[39;00m:\n\u001b[0;32m-> 3790\u001b[0m     \u001b[38;5;28;01mreturn\u001b[39;00m \u001b[38;5;28;43mself\u001b[39;49m\u001b[38;5;241;43m.\u001b[39;49m\u001b[43m_engine\u001b[49m\u001b[38;5;241;43m.\u001b[39;49m\u001b[43mget_loc\u001b[49m\u001b[43m(\u001b[49m\u001b[43mcasted_key\u001b[49m\u001b[43m)\u001b[49m\n\u001b[1;32m   3791\u001b[0m \u001b[38;5;28;01mexcept\u001b[39;00m \u001b[38;5;167;01mKeyError\u001b[39;00m \u001b[38;5;28;01mas\u001b[39;00m err:\n",
      "File \u001b[0;32mindex.pyx:152\u001b[0m, in \u001b[0;36mpandas._libs.index.IndexEngine.get_loc\u001b[0;34m()\u001b[0m\n",
      "File \u001b[0;32mindex.pyx:176\u001b[0m, in \u001b[0;36mpandas._libs.index.IndexEngine.get_loc\u001b[0;34m()\u001b[0m\n",
      "File \u001b[0;32mindex.pyx:219\u001b[0m, in \u001b[0;36mpandas._libs.index.IndexEngine._get_loc_duplicates\u001b[0;34m()\u001b[0m\n",
      "File \u001b[0;32mindex.pyx:227\u001b[0m, in \u001b[0;36mpandas._libs.index.IndexEngine._maybe_get_bool_indexer\u001b[0;34m()\u001b[0m\n",
      "File \u001b[0;32mindex.pyx:119\u001b[0m, in \u001b[0;36mpandas._libs.index._unpack_bool_indexer\u001b[0;34m()\u001b[0m\n",
      "\u001b[0;31mKeyError\u001b[0m: 'n=26'",
      "\nThe above exception was the direct cause of the following exception:\n",
      "\u001b[0;31mKeyError\u001b[0m                                  Traceback (most recent call last)",
      "Cell \u001b[0;32mIn[87], line 7\u001b[0m\n\u001b[1;32m      1\u001b[0m \u001b[38;5;66;03m# C26_amp_estimates2 = [max((abs(genome_df_chrV.loc[(i-half_region_size):(i+half_region_size), \"n=26\"].values -\u001b[39;00m\n\u001b[1;32m      2\u001b[0m \u001b[38;5;66;03m#                                genome_df_chrV.loc[(i-half_region_size*2):i, \"n=26\"].values) + \u001b[39;00m\n\u001b[1;32m      3\u001b[0m \u001b[38;5;66;03m#                            abs(genome_df_chrV.loc[(i-half_region_size):(i+half_region_size), \"n=26\"].values -\u001b[39;00m\n\u001b[1;32m      4\u001b[0m \u001b[38;5;66;03m#                                genome_df_chrV.loc[i:(i+half_region_size*2), \"n=26\"].values))/4)\u001b[39;00m\n\u001b[1;32m      5\u001b[0m \u001b[38;5;66;03m#                       for i in range(half_region_size*2, genome_df_chrV.shape[0]-half_region_size*2)]\u001b[39;00m\n\u001b[0;32m----> 7\u001b[0m C26_amp_estimates2 \u001b[38;5;241m=\u001b[39m \u001b[43m[\u001b[49m\u001b[43m(\u001b[49m\u001b[38;5;28;43mmax\u001b[39;49m\u001b[43m(\u001b[49m\u001b[43mgenome_df_chrV\u001b[49m\u001b[38;5;241;43m.\u001b[39;49m\u001b[43mloc\u001b[49m\u001b[43m[\u001b[49m\u001b[43m(\u001b[49m\u001b[43mi\u001b[49m\u001b[38;5;241;43m-\u001b[39;49m\u001b[43mhalf_region_size\u001b[49m\u001b[43m)\u001b[49m\u001b[43m:\u001b[49m\u001b[43m(\u001b[49m\u001b[43mi\u001b[49m\u001b[38;5;241;43m+\u001b[39;49m\u001b[43mhalf_region_size\u001b[49m\u001b[43m)\u001b[49m\u001b[43m,\u001b[49m\u001b[43m \u001b[49m\u001b[38;5;124;43m\"\u001b[39;49m\u001b[38;5;124;43mn=26\u001b[39;49m\u001b[38;5;124;43m\"\u001b[39;49m\u001b[43m]\u001b[49m\u001b[43m)\u001b[49m\u001b[43m \u001b[49m\u001b[38;5;241;43m-\u001b[39;49m\u001b[43m \u001b[49m\n\u001b[1;32m      8\u001b[0m \u001b[43m                       \u001b[49m\u001b[38;5;28;43mmin\u001b[39;49m\u001b[43m(\u001b[49m\u001b[43mgenome_df_chrV\u001b[49m\u001b[38;5;241;43m.\u001b[39;49m\u001b[43mloc\u001b[49m\u001b[43m[\u001b[49m\u001b[43m(\u001b[49m\u001b[43mi\u001b[49m\u001b[38;5;241;43m-\u001b[39;49m\u001b[43mhalf_region_size\u001b[49m\u001b[43m)\u001b[49m\u001b[43m:\u001b[49m\u001b[43m(\u001b[49m\u001b[43mi\u001b[49m\u001b[38;5;241;43m+\u001b[39;49m\u001b[43mhalf_region_size\u001b[49m\u001b[43m)\u001b[49m\u001b[43m,\u001b[49m\u001b[43m \u001b[49m\u001b[38;5;124;43m\"\u001b[39;49m\u001b[38;5;124;43mn=26\u001b[39;49m\u001b[38;5;124;43m\"\u001b[39;49m\u001b[43m]\u001b[49m\u001b[43m)\u001b[49m\u001b[43m)\u001b[49m\u001b[38;5;241;43m/\u001b[39;49m\u001b[38;5;241;43m2\u001b[39;49m\n\u001b[1;32m      9\u001b[0m \u001b[43m                       \u001b[49m\u001b[38;5;28;43;01mfor\u001b[39;49;00m\u001b[43m \u001b[49m\u001b[43mi\u001b[49m\u001b[43m \u001b[49m\u001b[38;5;129;43;01min\u001b[39;49;00m\u001b[43m \u001b[49m\u001b[38;5;28;43mrange\u001b[39;49m\u001b[43m(\u001b[49m\u001b[43mhalf_region_size\u001b[49m\u001b[43m,\u001b[49m\u001b[43m \u001b[49m\u001b[43mgenome_df_chrV\u001b[49m\u001b[38;5;241;43m.\u001b[39;49m\u001b[43mshape\u001b[49m\u001b[43m[\u001b[49m\u001b[38;5;241;43m0\u001b[39;49m\u001b[43m]\u001b[49m\u001b[38;5;241;43m-\u001b[39;49m\u001b[43mhalf_region_size\u001b[49m\u001b[43m)\u001b[49m\u001b[43m]\u001b[49m\n\u001b[1;32m     11\u001b[0m \u001b[38;5;66;03m# for i in range(half_region_size*2):\u001b[39;00m\n\u001b[1;32m     12\u001b[0m \u001b[38;5;28;01mfor\u001b[39;00m i \u001b[38;5;129;01min\u001b[39;00m \u001b[38;5;28mrange\u001b[39m(half_region_size):\n",
      "Cell \u001b[0;32mIn[87], line 7\u001b[0m, in \u001b[0;36m<listcomp>\u001b[0;34m(.0)\u001b[0m\n\u001b[1;32m      1\u001b[0m \u001b[38;5;66;03m# C26_amp_estimates2 = [max((abs(genome_df_chrV.loc[(i-half_region_size):(i+half_region_size), \"n=26\"].values -\u001b[39;00m\n\u001b[1;32m      2\u001b[0m \u001b[38;5;66;03m#                                genome_df_chrV.loc[(i-half_region_size*2):i, \"n=26\"].values) + \u001b[39;00m\n\u001b[1;32m      3\u001b[0m \u001b[38;5;66;03m#                            abs(genome_df_chrV.loc[(i-half_region_size):(i+half_region_size), \"n=26\"].values -\u001b[39;00m\n\u001b[1;32m      4\u001b[0m \u001b[38;5;66;03m#                                genome_df_chrV.loc[i:(i+half_region_size*2), \"n=26\"].values))/4)\u001b[39;00m\n\u001b[1;32m      5\u001b[0m \u001b[38;5;66;03m#                       for i in range(half_region_size*2, genome_df_chrV.shape[0]-half_region_size*2)]\u001b[39;00m\n\u001b[0;32m----> 7\u001b[0m C26_amp_estimates2 \u001b[38;5;241m=\u001b[39m [(\u001b[38;5;28mmax\u001b[39m(\u001b[43mgenome_df_chrV\u001b[49m\u001b[38;5;241;43m.\u001b[39;49m\u001b[43mloc\u001b[49m\u001b[43m[\u001b[49m\u001b[43m(\u001b[49m\u001b[43mi\u001b[49m\u001b[38;5;241;43m-\u001b[39;49m\u001b[43mhalf_region_size\u001b[49m\u001b[43m)\u001b[49m\u001b[43m:\u001b[49m\u001b[43m(\u001b[49m\u001b[43mi\u001b[49m\u001b[38;5;241;43m+\u001b[39;49m\u001b[43mhalf_region_size\u001b[49m\u001b[43m)\u001b[49m\u001b[43m,\u001b[49m\u001b[43m \u001b[49m\u001b[38;5;124;43m\"\u001b[39;49m\u001b[38;5;124;43mn=26\u001b[39;49m\u001b[38;5;124;43m\"\u001b[39;49m\u001b[43m]\u001b[49m) \u001b[38;5;241m-\u001b[39m \n\u001b[1;32m      8\u001b[0m                        \u001b[38;5;28mmin\u001b[39m(genome_df_chrV\u001b[38;5;241m.\u001b[39mloc[(i\u001b[38;5;241m-\u001b[39mhalf_region_size):(i\u001b[38;5;241m+\u001b[39mhalf_region_size), \u001b[38;5;124m\"\u001b[39m\u001b[38;5;124mn=26\u001b[39m\u001b[38;5;124m\"\u001b[39m]))\u001b[38;5;241m/\u001b[39m\u001b[38;5;241m2\u001b[39m\n\u001b[1;32m      9\u001b[0m                        \u001b[38;5;28;01mfor\u001b[39;00m i \u001b[38;5;129;01min\u001b[39;00m \u001b[38;5;28mrange\u001b[39m(half_region_size, genome_df_chrV\u001b[38;5;241m.\u001b[39mshape[\u001b[38;5;241m0\u001b[39m]\u001b[38;5;241m-\u001b[39mhalf_region_size)]\n\u001b[1;32m     11\u001b[0m \u001b[38;5;66;03m# for i in range(half_region_size*2):\u001b[39;00m\n\u001b[1;32m     12\u001b[0m \u001b[38;5;28;01mfor\u001b[39;00m i \u001b[38;5;129;01min\u001b[39;00m \u001b[38;5;28mrange\u001b[39m(half_region_size):\n",
      "File \u001b[0;32m~/Dropbox/Northwestern/DNA_Cyclizability/.venv/lib/python3.11/site-packages/pandas/core/indexing.py:1147\u001b[0m, in \u001b[0;36m_LocationIndexer.__getitem__\u001b[0;34m(self, key)\u001b[0m\n\u001b[1;32m   1145\u001b[0m     \u001b[38;5;28;01mif\u001b[39;00m \u001b[38;5;28mself\u001b[39m\u001b[38;5;241m.\u001b[39m_is_scalar_access(key):\n\u001b[1;32m   1146\u001b[0m         \u001b[38;5;28;01mreturn\u001b[39;00m \u001b[38;5;28mself\u001b[39m\u001b[38;5;241m.\u001b[39mobj\u001b[38;5;241m.\u001b[39m_get_value(\u001b[38;5;241m*\u001b[39mkey, takeable\u001b[38;5;241m=\u001b[39m\u001b[38;5;28mself\u001b[39m\u001b[38;5;241m.\u001b[39m_takeable)\n\u001b[0;32m-> 1147\u001b[0m     \u001b[38;5;28;01mreturn\u001b[39;00m \u001b[38;5;28;43mself\u001b[39;49m\u001b[38;5;241;43m.\u001b[39;49m\u001b[43m_getitem_tuple\u001b[49m\u001b[43m(\u001b[49m\u001b[43mkey\u001b[49m\u001b[43m)\u001b[49m\n\u001b[1;32m   1148\u001b[0m \u001b[38;5;28;01melse\u001b[39;00m:\n\u001b[1;32m   1149\u001b[0m     \u001b[38;5;66;03m# we by definition only have the 0th axis\u001b[39;00m\n\u001b[1;32m   1150\u001b[0m     axis \u001b[38;5;241m=\u001b[39m \u001b[38;5;28mself\u001b[39m\u001b[38;5;241m.\u001b[39maxis \u001b[38;5;129;01mor\u001b[39;00m \u001b[38;5;241m0\u001b[39m\n",
      "File \u001b[0;32m~/Dropbox/Northwestern/DNA_Cyclizability/.venv/lib/python3.11/site-packages/pandas/core/indexing.py:1330\u001b[0m, in \u001b[0;36m_LocIndexer._getitem_tuple\u001b[0;34m(self, tup)\u001b[0m\n\u001b[1;32m   1328\u001b[0m \u001b[38;5;28;01mwith\u001b[39;00m suppress(IndexingError):\n\u001b[1;32m   1329\u001b[0m     tup \u001b[38;5;241m=\u001b[39m \u001b[38;5;28mself\u001b[39m\u001b[38;5;241m.\u001b[39m_expand_ellipsis(tup)\n\u001b[0;32m-> 1330\u001b[0m     \u001b[38;5;28;01mreturn\u001b[39;00m \u001b[38;5;28;43mself\u001b[39;49m\u001b[38;5;241;43m.\u001b[39;49m\u001b[43m_getitem_lowerdim\u001b[49m\u001b[43m(\u001b[49m\u001b[43mtup\u001b[49m\u001b[43m)\u001b[49m\n\u001b[1;32m   1332\u001b[0m \u001b[38;5;66;03m# no multi-index, so validate all of the indexers\u001b[39;00m\n\u001b[1;32m   1333\u001b[0m tup \u001b[38;5;241m=\u001b[39m \u001b[38;5;28mself\u001b[39m\u001b[38;5;241m.\u001b[39m_validate_tuple_indexer(tup)\n",
      "File \u001b[0;32m~/Dropbox/Northwestern/DNA_Cyclizability/.venv/lib/python3.11/site-packages/pandas/core/indexing.py:1039\u001b[0m, in \u001b[0;36m_LocationIndexer._getitem_lowerdim\u001b[0;34m(self, tup)\u001b[0m\n\u001b[1;32m   1035\u001b[0m \u001b[38;5;28;01mfor\u001b[39;00m i, key \u001b[38;5;129;01min\u001b[39;00m \u001b[38;5;28menumerate\u001b[39m(tup):\n\u001b[1;32m   1036\u001b[0m     \u001b[38;5;28;01mif\u001b[39;00m is_label_like(key):\n\u001b[1;32m   1037\u001b[0m         \u001b[38;5;66;03m# We don't need to check for tuples here because those are\u001b[39;00m\n\u001b[1;32m   1038\u001b[0m         \u001b[38;5;66;03m#  caught by the _is_nested_tuple_indexer check above.\u001b[39;00m\n\u001b[0;32m-> 1039\u001b[0m         section \u001b[38;5;241m=\u001b[39m \u001b[38;5;28;43mself\u001b[39;49m\u001b[38;5;241;43m.\u001b[39;49m\u001b[43m_getitem_axis\u001b[49m\u001b[43m(\u001b[49m\u001b[43mkey\u001b[49m\u001b[43m,\u001b[49m\u001b[43m \u001b[49m\u001b[43maxis\u001b[49m\u001b[38;5;241;43m=\u001b[39;49m\u001b[43mi\u001b[49m\u001b[43m)\u001b[49m\n\u001b[1;32m   1041\u001b[0m         \u001b[38;5;66;03m# We should never have a scalar section here, because\u001b[39;00m\n\u001b[1;32m   1042\u001b[0m         \u001b[38;5;66;03m#  _getitem_lowerdim is only called after a check for\u001b[39;00m\n\u001b[1;32m   1043\u001b[0m         \u001b[38;5;66;03m#  is_scalar_access, which that would be.\u001b[39;00m\n\u001b[1;32m   1044\u001b[0m         \u001b[38;5;28;01mif\u001b[39;00m section\u001b[38;5;241m.\u001b[39mndim \u001b[38;5;241m==\u001b[39m \u001b[38;5;28mself\u001b[39m\u001b[38;5;241m.\u001b[39mndim:\n\u001b[1;32m   1045\u001b[0m             \u001b[38;5;66;03m# we're in the middle of slicing through a MultiIndex\u001b[39;00m\n\u001b[1;32m   1046\u001b[0m             \u001b[38;5;66;03m# revise the key wrt to `section` by inserting an _NS\u001b[39;00m\n",
      "File \u001b[0;32m~/Dropbox/Northwestern/DNA_Cyclizability/.venv/lib/python3.11/site-packages/pandas/core/indexing.py:1393\u001b[0m, in \u001b[0;36m_LocIndexer._getitem_axis\u001b[0;34m(self, key, axis)\u001b[0m\n\u001b[1;32m   1391\u001b[0m \u001b[38;5;66;03m# fall thru to straight lookup\u001b[39;00m\n\u001b[1;32m   1392\u001b[0m \u001b[38;5;28mself\u001b[39m\u001b[38;5;241m.\u001b[39m_validate_key(key, axis)\n\u001b[0;32m-> 1393\u001b[0m \u001b[38;5;28;01mreturn\u001b[39;00m \u001b[38;5;28;43mself\u001b[39;49m\u001b[38;5;241;43m.\u001b[39;49m\u001b[43m_get_label\u001b[49m\u001b[43m(\u001b[49m\u001b[43mkey\u001b[49m\u001b[43m,\u001b[49m\u001b[43m \u001b[49m\u001b[43maxis\u001b[49m\u001b[38;5;241;43m=\u001b[39;49m\u001b[43maxis\u001b[49m\u001b[43m)\u001b[49m\n",
      "File \u001b[0;32m~/Dropbox/Northwestern/DNA_Cyclizability/.venv/lib/python3.11/site-packages/pandas/core/indexing.py:1343\u001b[0m, in \u001b[0;36m_LocIndexer._get_label\u001b[0;34m(self, label, axis)\u001b[0m\n\u001b[1;32m   1341\u001b[0m \u001b[38;5;28;01mdef\u001b[39;00m \u001b[38;5;21m_get_label\u001b[39m(\u001b[38;5;28mself\u001b[39m, label, axis: AxisInt):\n\u001b[1;32m   1342\u001b[0m     \u001b[38;5;66;03m# GH#5567 this will fail if the label is not present in the axis.\u001b[39;00m\n\u001b[0;32m-> 1343\u001b[0m     \u001b[38;5;28;01mreturn\u001b[39;00m \u001b[38;5;28;43mself\u001b[39;49m\u001b[38;5;241;43m.\u001b[39;49m\u001b[43mobj\u001b[49m\u001b[38;5;241;43m.\u001b[39;49m\u001b[43mxs\u001b[49m\u001b[43m(\u001b[49m\u001b[43mlabel\u001b[49m\u001b[43m,\u001b[49m\u001b[43m \u001b[49m\u001b[43maxis\u001b[49m\u001b[38;5;241;43m=\u001b[39;49m\u001b[43maxis\u001b[49m\u001b[43m)\u001b[49m\n",
      "File \u001b[0;32m~/Dropbox/Northwestern/DNA_Cyclizability/.venv/lib/python3.11/site-packages/pandas/core/generic.py:4222\u001b[0m, in \u001b[0;36mNDFrame.xs\u001b[0;34m(self, key, axis, level, drop_level)\u001b[0m\n\u001b[1;32m   4220\u001b[0m \u001b[38;5;28;01mif\u001b[39;00m axis \u001b[38;5;241m==\u001b[39m \u001b[38;5;241m1\u001b[39m:\n\u001b[1;32m   4221\u001b[0m     \u001b[38;5;28;01mif\u001b[39;00m drop_level:\n\u001b[0;32m-> 4222\u001b[0m         \u001b[38;5;28;01mreturn\u001b[39;00m \u001b[38;5;28;43mself\u001b[39;49m\u001b[43m[\u001b[49m\u001b[43mkey\u001b[49m\u001b[43m]\u001b[49m\n\u001b[1;32m   4223\u001b[0m     index \u001b[38;5;241m=\u001b[39m \u001b[38;5;28mself\u001b[39m\u001b[38;5;241m.\u001b[39mcolumns\n\u001b[1;32m   4224\u001b[0m \u001b[38;5;28;01melse\u001b[39;00m:\n",
      "File \u001b[0;32m~/Dropbox/Northwestern/DNA_Cyclizability/.venv/lib/python3.11/site-packages/pandas/core/frame.py:3893\u001b[0m, in \u001b[0;36mDataFrame.__getitem__\u001b[0;34m(self, key)\u001b[0m\n\u001b[1;32m   3891\u001b[0m \u001b[38;5;28;01mif\u001b[39;00m \u001b[38;5;28mself\u001b[39m\u001b[38;5;241m.\u001b[39mcolumns\u001b[38;5;241m.\u001b[39mnlevels \u001b[38;5;241m>\u001b[39m \u001b[38;5;241m1\u001b[39m:\n\u001b[1;32m   3892\u001b[0m     \u001b[38;5;28;01mreturn\u001b[39;00m \u001b[38;5;28mself\u001b[39m\u001b[38;5;241m.\u001b[39m_getitem_multilevel(key)\n\u001b[0;32m-> 3893\u001b[0m indexer \u001b[38;5;241m=\u001b[39m \u001b[38;5;28;43mself\u001b[39;49m\u001b[38;5;241;43m.\u001b[39;49m\u001b[43mcolumns\u001b[49m\u001b[38;5;241;43m.\u001b[39;49m\u001b[43mget_loc\u001b[49m\u001b[43m(\u001b[49m\u001b[43mkey\u001b[49m\u001b[43m)\u001b[49m\n\u001b[1;32m   3894\u001b[0m \u001b[38;5;28;01mif\u001b[39;00m is_integer(indexer):\n\u001b[1;32m   3895\u001b[0m     indexer \u001b[38;5;241m=\u001b[39m [indexer]\n",
      "File \u001b[0;32m~/Dropbox/Northwestern/DNA_Cyclizability/.venv/lib/python3.11/site-packages/pandas/core/indexes/base.py:3797\u001b[0m, in \u001b[0;36mIndex.get_loc\u001b[0;34m(self, key)\u001b[0m\n\u001b[1;32m   3792\u001b[0m     \u001b[38;5;28;01mif\u001b[39;00m \u001b[38;5;28misinstance\u001b[39m(casted_key, \u001b[38;5;28mslice\u001b[39m) \u001b[38;5;129;01mor\u001b[39;00m (\n\u001b[1;32m   3793\u001b[0m         \u001b[38;5;28misinstance\u001b[39m(casted_key, abc\u001b[38;5;241m.\u001b[39mIterable)\n\u001b[1;32m   3794\u001b[0m         \u001b[38;5;129;01mand\u001b[39;00m \u001b[38;5;28many\u001b[39m(\u001b[38;5;28misinstance\u001b[39m(x, \u001b[38;5;28mslice\u001b[39m) \u001b[38;5;28;01mfor\u001b[39;00m x \u001b[38;5;129;01min\u001b[39;00m casted_key)\n\u001b[1;32m   3795\u001b[0m     ):\n\u001b[1;32m   3796\u001b[0m         \u001b[38;5;28;01mraise\u001b[39;00m InvalidIndexError(key)\n\u001b[0;32m-> 3797\u001b[0m     \u001b[38;5;28;01mraise\u001b[39;00m \u001b[38;5;167;01mKeyError\u001b[39;00m(key) \u001b[38;5;28;01mfrom\u001b[39;00m \u001b[38;5;21;01merr\u001b[39;00m\n\u001b[1;32m   3798\u001b[0m \u001b[38;5;28;01mexcept\u001b[39;00m \u001b[38;5;167;01mTypeError\u001b[39;00m:\n\u001b[1;32m   3799\u001b[0m     \u001b[38;5;66;03m# If we have a listlike key, _check_indexing_error will raise\u001b[39;00m\n\u001b[1;32m   3800\u001b[0m     \u001b[38;5;66;03m#  InvalidIndexError. Otherwise we fall through and re-raise\u001b[39;00m\n\u001b[1;32m   3801\u001b[0m     \u001b[38;5;66;03m#  the TypeError.\u001b[39;00m\n\u001b[1;32m   3802\u001b[0m     \u001b[38;5;28mself\u001b[39m\u001b[38;5;241m.\u001b[39m_check_indexing_error(key)\n",
      "\u001b[0;31mKeyError\u001b[0m: 'n=26'"
     ]
    }
   ],
   "source": [
    "# C26_amp_estimates2 = [max((abs(genome_df_chrV.loc[(i-half_region_size):(i+half_region_size), \"n=26\"].values -\n",
    "#                                genome_df_chrV.loc[(i-half_region_size*2):i, \"n=26\"].values) + \n",
    "#                            abs(genome_df_chrV.loc[(i-half_region_size):(i+half_region_size), \"n=26\"].values -\n",
    "#                                genome_df_chrV.loc[i:(i+half_region_size*2), \"n=26\"].values))/4)\n",
    "#                       for i in range(half_region_size*2, genome_df_chrV.shape[0]-half_region_size*2)]\n",
    "\n",
    "C26_amp_estimates2 = [(max(genome_df_chrV.loc[(i-half_region_size):(i+half_region_size), \"n=26\"]) - \n",
    "                       min(genome_df_chrV.loc[(i-half_region_size):(i+half_region_size), \"n=26\"]))/2\n",
    "                       for i in range(half_region_size, genome_df_chrV.shape[0]-half_region_size)]\n",
    "\n",
    "# for i in range(half_region_size*2):\n",
    "for i in range(half_region_size):\n",
    "    C26_amp_estimates2.append(np.nan)\n",
    "    C26_amp_estimates2.insert(0,np.nan)\n",
    "\n",
    "C26_amp_estimates2 = array(C26_amp_estimates2)"
   ]
  },
  {
   "cell_type": "code",
   "execution_count": 44,
   "metadata": {},
   "outputs": [],
   "source": [
    "# C26_rev_comp_amp_estimates2 = [max((abs(genome_df_chrV.loc[(i-half_region_size):(i+half_region_size), \"n=26_rev_comp\"].values -\n",
    "#                                genome_df_chrV.loc[(i-half_region_size*2):i, \"n=26_rev_comp\"].values) + \n",
    "#                            abs(genome_df_chrV.loc[(i-half_region_size):(i+half_region_size), \"n=26_rev_comp\"].values -\n",
    "#                                genome_df_chrV.loc[i:(i+half_region_size*2), \"n=26_rev_comp\"].values))/4)\n",
    "#                       for i in range(half_region_size*2, genome_df_chrV.shape[0]-half_region_size*2)]\n",
    "\n",
    "C26_rev_comp_amp_estimates2 = [(max(genome_df_chrV.loc[(i-half_region_size):(i+half_region_size), \"n=26_rev_comp\"]) - \n",
    "                       min(genome_df_chrV.loc[(i-half_region_size):(i+half_region_size), \"n=26_rev_comp\"]))/2\n",
    "                       for i in range(half_region_size, genome_df_chrV.shape[0]-half_region_size)]\n",
    "\n",
    "# for i in range(half_region_size*2):\n",
    "for i in range(half_region_size):\n",
    "    C26_rev_comp_amp_estimates2.append(np.nan)\n",
    "    C26_rev_comp_amp_estimates2.insert(0,np.nan)\n",
    "\n",
    "C26_rev_comp_amp_estimates2 = array(C26_rev_comp_amp_estimates2)"
   ]
  },
  {
   "cell_type": "code",
   "execution_count": 45,
   "metadata": {},
   "outputs": [],
   "source": [
    "# # half_region_size = 10\n",
    "# half_region_size = 5\n",
    "# C26_amp_estimates = array([max(abs(genome_df_chrV.loc[(i-half_region_size):i, \"n=26\"].values - \n",
    "#                                    genome_df_chrV.loc[i:(i+half_region_size), \"n=26\"].values))/2 \n",
    "#                                    for i in range(half_region_size, genome_df_chrV.shape[0]-half_region_size)])"
   ]
  },
  {
   "cell_type": "code",
   "execution_count": 46,
   "metadata": {},
   "outputs": [],
   "source": [
    "# C26_smooth_amp_estimates1 = [max(abs(genome_df_chrV.loc[(i-half_region_size):(i+half_region_size), \"n=26\"].values - \n",
    "#                                           genome_df_chrV.loc[(i-half_region_size):(i+half_region_size), \"smooth_10.4bp_C26\"].values)) \n",
    "#                                           for i in range(half_region_size, genome_df_chrV.shape[0]-half_region_size)]\n",
    "# C26_smooth_amp_estimates2 = [np.mean(abs(genome_df_chrV.loc[(i-half_region_size):(i+half_region_size), \"n=26\"].values - \n",
    "#                                           genome_df_chrV.loc[(i-half_region_size):(i+half_region_size), \"smooth_10.4bp_C26\"].values)) \n",
    "#                                           for i in range(half_region_size, genome_df_chrV.shape[0]-half_region_size)]\n",
    "# for i in range(half_region_size):\n",
    "#     C26_smooth_amp_estimates1.append(np.nan)\n",
    "#     C26_smooth_amp_estimates1.insert(0,np.nan)\n",
    "\n",
    "#     C26_smooth_amp_estimates2.append(np.nan)\n",
    "#     C26_smooth_amp_estimates2.insert(0,np.nan)\n",
    "\n",
    "# C26_smooth_amp_estimates1 = array(C26_smooth_amp_estimates1)\n",
    "# C26_smooth_amp_estimates2 = array(C26_smooth_amp_estimates2)"
   ]
  },
  {
   "cell_type": "code",
   "execution_count": 47,
   "metadata": {},
   "outputs": [],
   "source": [
    "C29_amp_estimates2 = [(max(genome_df_chrV.loc[(i-half_region_size):(i+half_region_size), \"n=29\"]) - \n",
    "                       min(genome_df_chrV.loc[(i-half_region_size):(i+half_region_size), \"n=29\"]))/2\n",
    "                       for i in range(half_region_size, genome_df_chrV.shape[0]-half_region_size)]\n",
    "\n",
    "# for i in range(half_region_size*2):\n",
    "for i in range(half_region_size):\n",
    "    C29_amp_estimates2.append(np.nan)\n",
    "    C29_amp_estimates2.insert(0,np.nan)\n",
    "\n",
    "C29_amp_estimates2 = array(C29_amp_estimates2)"
   ]
  },
  {
   "cell_type": "code",
   "execution_count": 48,
   "metadata": {},
   "outputs": [],
   "source": [
    "# C31_amp_estimates = [(max(genome_df_chrV.loc[(i-half_region_size):(i+half_region_size), \"n=31\"]) - \n",
    "#                             min(genome_df_chrV.loc[(i-half_region_size):(i+half_region_size), \"n=31\"]))/2 \n",
    "#                             for i in range(half_region_size, genome_df_chrV.shape[0]-half_region_size)]\n",
    "\n",
    "# for i in range(half_region_size):\n",
    "#     C31_amp_estimates.append(np.nan)\n",
    "#     C31_amp_estimates.insert(0,np.nan)\n",
    "\n",
    "# C31_amp_estimates = array(C31_amp_estimates)"
   ]
  },
  {
   "cell_type": "code",
   "execution_count": 49,
   "metadata": {},
   "outputs": [],
   "source": [
    "# C31_amp_estimates2 = [max((abs(genome_df_chrV.loc[(i-half_region_size):(i+half_region_size), \"n=31\"].values -\n",
    "#                                genome_df_chrV.loc[(i-half_region_size*2):i, \"n=31\"].values) + \n",
    "#                            abs(genome_df_chrV.loc[(i-half_region_size):(i+half_region_size), \"n=31\"].values -\n",
    "#                                genome_df_chrV.loc[i:(i+half_region_size*2), \"n=31\"].values))/4)\n",
    "#                       for i in range(half_region_size*2, genome_df_chrV.shape[0]-half_region_size*2)]\n",
    "\n",
    "C31_amp_estimates2 = [(max(genome_df_chrV.loc[(i-half_region_size):(i+half_region_size), \"n=31\"]) - \n",
    "                       min(genome_df_chrV.loc[(i-half_region_size):(i+half_region_size), \"n=31\"]))/2\n",
    "                       for i in range(half_region_size, genome_df_chrV.shape[0]-half_region_size)]\n",
    "\n",
    "# for i in range(half_region_size*2):\n",
    "for i in range(half_region_size):\n",
    "    C31_amp_estimates2.append(np.nan)\n",
    "    C31_amp_estimates2.insert(0,np.nan)\n",
    "\n",
    "C31_amp_estimates2 = array(C31_amp_estimates2)"
   ]
  },
  {
   "cell_type": "code",
   "execution_count": 50,
   "metadata": {},
   "outputs": [],
   "source": [
    "# C31_rev_comp_amp_estimates2 = [max((abs(genome_df_chrV.loc[(i-half_region_size):(i+half_region_size), \"n=31_rev_comp\"].values -\n",
    "#                                genome_df_chrV.loc[(i-half_region_size*2):i, \"n=31_rev_comp\"].values) + \n",
    "#                            abs(genome_df_chrV.loc[(i-half_region_size):(i+half_region_size), \"n=31_rev_comp\"].values -\n",
    "#                                genome_df_chrV.loc[i:(i+half_region_size*2), \"n=31_rev_comp\"].values))/4)\n",
    "#                       for i in range(half_region_size*2, genome_df_chrV.shape[0]-half_region_size*2)]\n",
    "\n",
    "C31_rev_comp_amp_estimates2 = [(max(genome_df_chrV.loc[(i-half_region_size):(i+half_region_size), \"n=31_rev_comp\"]) - \n",
    "                       min(genome_df_chrV.loc[(i-half_region_size):(i+half_region_size), \"n=31_rev_comp\"]))/2\n",
    "                       for i in range(half_region_size, genome_df_chrV.shape[0]-half_region_size)]\n",
    "\n",
    "# for i in range(half_region_size*2):\n",
    "for i in range(half_region_size):\n",
    "    C31_rev_comp_amp_estimates2.append(np.nan)\n",
    "    C31_rev_comp_amp_estimates2.insert(0,np.nan)\n",
    "\n",
    "C31_rev_comp_amp_estimates2 = array(C31_rev_comp_amp_estimates2)"
   ]
  },
  {
   "cell_type": "code",
   "execution_count": 51,
   "metadata": {},
   "outputs": [],
   "source": [
    "# C31_amp_estimates = array([max(abs(genome_df_chrV.loc[(i-half_region_size):i, \"n=31\"].values - \n",
    "#                                    genome_df_chrV.loc[i:(i+half_region_size), \"n=31\"].values))/2 \n",
    "#                                    for i in range(half_region_size, genome_df_chrV.shape[0]-half_region_size)])"
   ]
  },
  {
   "cell_type": "code",
   "execution_count": 52,
   "metadata": {},
   "outputs": [],
   "source": [
    "# C31_smooth_amp_estimates1 = [max(abs(genome_df_chrV.loc[(i-half_region_size):(i+half_region_size), \"n=31\"].values - \n",
    "#                                           genome_df_chrV.loc[(i-half_region_size):(i+half_region_size), \"smooth_10.4bp_C31\"].values)) \n",
    "#                                           for i in range(half_region_size, genome_df_chrV.shape[0]-half_region_size)]\n",
    "# C31_smooth_amp_estimates2 = [np.mean(abs(genome_df_chrV.loc[(i-half_region_size):(i+half_region_size), \"n=31\"].values - \n",
    "#                                           genome_df_chrV.loc[(i-half_region_size):(i+half_region_size), \"smooth_10.4bp_C31\"].values)) \n",
    "#                                           for i in range(half_region_size, genome_df_chrV.shape[0]-half_region_size)]\n",
    "\n",
    "# for i in range(half_region_size):\n",
    "#     C31_smooth_amp_estimates1.append(np.nan)\n",
    "#     C31_smooth_amp_estimates1.insert(0,np.nan)\n",
    "\n",
    "#     C31_smooth_amp_estimates2.append(np.nan)\n",
    "#     C31_smooth_amp_estimates2.insert(0,np.nan)\n",
    "\n",
    "# C31_smooth_amp_estimates1 = array(C31_smooth_amp_estimates1)\n",
    "# C31_smooth_amp_estimates2 = array(C31_smooth_amp_estimates2)"
   ]
  },
  {
   "cell_type": "code",
   "execution_count": null,
   "metadata": {},
   "outputs": [],
   "source": []
  },
  {
   "cell_type": "code",
   "execution_count": 53,
   "metadata": {},
   "outputs": [],
   "source": [
    "# C26_C31_amp_ratio = C26_amp_estimates/C31_amp_estimates\n",
    "C26_C31_amp_ratio2 = C26_amp_estimates2/C31_amp_estimates2\n",
    "C26_C31_rev_comp_amp_ratio2 = C26_rev_comp_amp_estimates2/C31_rev_comp_amp_estimates2\n",
    "# C26_C31_smooth_amp_ratio1 = C26_smooth_amp_estimates1/C31_smooth_amp_estimates1\n",
    "# C26_C31_smooth_amp_ratio2 = C26_smooth_amp_estimates2/C31_smooth_amp_estimates2"
   ]
  },
  {
   "cell_type": "code",
   "execution_count": 54,
   "metadata": {},
   "outputs": [
    {
     "data": {
      "text/plain": [
       "nan"
      ]
     },
     "execution_count": 54,
     "metadata": {},
     "output_type": "execute_result"
    }
   ],
   "source": [
    "np.mean(C26_C31_amp_ratio2)"
   ]
  },
  {
   "cell_type": "code",
   "execution_count": 55,
   "metadata": {},
   "outputs": [
    {
     "name": "stdout",
     "output_type": "stream",
     "text": [
      "Predicted Cn Full ChrV mean Amp(C26)/Amp(C31): 0.771\n",
      "Predicted C26 Full ChrV mean, std: -0.17, 0.515\n",
      "Predicted C29 Full ChrV mean, std: -0.179, 0.533\n",
      "Predicted C31 Full ChrV mean, std: -0.212, 0.597\n",
      "Predicted Cn Full ChrV mean Amp(C26): 0.452\n",
      "Predicted Cn Full ChrV mean Amp(C29): 0.55\n",
      "Predicted Cn Full ChrV mean Amp(C31): 0.602\n"
     ]
    }
   ],
   "source": [
    "print(f\"Predicted Cn Full ChrV mean Amp(C26)/Amp(C31): {round(np.mean(C26_C31_amp_ratio2[5:(len(C26_C31_amp_ratio2)-5)]), 3)}\")\n",
    "print(f\"Predicted C26 Full ChrV mean, std: {round(np.mean(genome_df_chrV['n=26']), 3)}, {round(np.std(genome_df_chrV['n=26']), 3)}\")\n",
    "print(f\"Predicted C29 Full ChrV mean, std: {round(np.mean(genome_df_chrV['n=29']), 3)}, {round(np.std(genome_df_chrV['n=29']), 3)}\")\n",
    "print(f\"Predicted C31 Full ChrV mean, std: {round(np.mean(genome_df_chrV['n=31']), 3)}, {round(np.std(genome_df_chrV['n=31']), 3)}\")\n",
    "print(f\"Predicted Cn Full ChrV mean Amp(C26): {round(np.mean(C26_amp_estimates2[5:(len(C26_amp_estimates2)-5)]), 3)}\")\n",
    "print(f\"Predicted Cn Full ChrV mean Amp(C29): {round(np.mean(C29_amp_estimates2[5:(len(C29_amp_estimates2)-5)]), 3)}\")\n",
    "print(f\"Predicted Cn Full ChrV mean Amp(C31): {round(np.mean(C31_amp_estimates2[5:(len(C31_amp_estimates2)-5)]), 3)}\")"
   ]
  },
  {
   "cell_type": "code",
   "execution_count": 59,
   "metadata": {},
   "outputs": [
    {
     "data": {
      "image/png": "[encoded data removed]",
      "text/plain": [
       "<Figure size 400x200 with 1 Axes>"
      ]
     },
     "metadata": {},
     "output_type": "display_data"
    },
    {
     "data": {
      "image/png": "[encoded data removed]",
      "text/plain": [
       "<Figure size 400x200 with 1 Axes>"
      ]
     },
     "metadata": {},
     "output_type": "display_data"
    }
   ],
   "source": [
    "# sequence_length = 200\n",
    "# sequence_length = 100\n",
    "sequence_length = 500\n",
    "\n",
    "# starting_point = 31259\n",
    "# starting_point = 516127\n",
    "# starting_point = 479158\n",
    "# starting_point = np.random.randint(genome_df_chrV.shape[0]-sequence_length)\n",
    "\n",
    "# starting_point = 250691 # Region on Slides\n",
    "# # starting_point = 479158 # Region for Paper?\n",
    "starting_point = 479208 # Region for Paper?\n",
    "\n",
    "plt.figure(figsize=(4,2))\n",
    "\n",
    "# plt.plot(list(range(starting_point, starting_point + sequence_length)),\n",
    "#          C26_amp_estimates[range(starting_point, starting_point + sequence_length)], label=\"C26 Amplitude\", color=\"C0\")\n",
    "# plt.plot(list(range(starting_point, starting_point + sequence_length)),\n",
    "#          C31_amp_estimates[range(starting_point, starting_point + sequence_length)], label=\"C31 Amplitude\", color=\"C2\")\n",
    "\n",
    "plt.plot(list(range(starting_point, starting_point + sequence_length)),\n",
    "         C26_amp_estimates2[range(starting_point, starting_point + sequence_length)], label=\"C26\", color=\"C0\")\n",
    "plt.plot(list(range(starting_point, starting_point + sequence_length)),\n",
    "         C31_amp_estimates2[range(starting_point, starting_point + sequence_length)], label=\"C31\", color=\"C2\")\n",
    "\n",
    "plt.ylim((0, 1.25))\n",
    "plt.locator_params(axis='x', nbins=5)\n",
    "# plt.ylim((0, 1))\n",
    "# plt.legend(fontsize=\"small\")\n",
    "plt.show()\n",
    "\n",
    "# plt.figure(figsize=(4,2))\n",
    "\n",
    "# plt.plot(list(range(starting_point, starting_point + sequence_length)),\n",
    "#          C26_rev_comp_amp_estimates2[range(starting_point, starting_point + sequence_length)], label=\"C26 reverse complement\", \n",
    "#          color=\"C0\", linestyle=\"dashed\")\n",
    "# plt.plot(list(range(starting_point, starting_point + sequence_length)),\n",
    "#          C31_rev_comp_amp_estimates2[range(starting_point, starting_point + sequence_length)], label=\"C31 reverse complement\", \n",
    "#          color=\"C2\", linestyle=\"dashed\")\n",
    "\n",
    "# # plt.plot(list(range(starting_point, starting_point + sequence_length)),\n",
    "# #          C26_smooth_amp_estimates1[range(starting_point, starting_point + sequence_length)], label=\"C26 Amplitude Estimate\", color=\"C0\")\n",
    "# # plt.plot(list(range(starting_point, starting_point + sequence_length)),\n",
    "# #          C31_smooth_amp_estimates1[range(starting_point, starting_point + sequence_length)], label=\"C31 Amplitude Estimate\", color=\"C2\")\n",
    "\n",
    "# # plt.plot(list(range(starting_point, starting_point + sequence_length)),\n",
    "# #          C26_smooth_amp_estimates2[range(starting_point, starting_point + sequence_length)], label=\"C26 Amplitude Estimate\", color=\"C0\")\n",
    "# # plt.plot(list(range(starting_point, starting_point + sequence_length)),\n",
    "# #          C31_smooth_amp_estimates2[range(starting_point, starting_point + sequence_length)], label=\"C31 Amplitude Estimate\", color=\"C2\")\n",
    "\n",
    "# # plt.ylim((0, 2.5))\n",
    "# plt.ylim((0, 2))\n",
    "# plt.locator_params(axis='x', nbins=5)\n",
    "# # plt.ylim((0, 1))\n",
    "# # plt.legend(fontsize=\"small\")\n",
    "# plt.show()\n",
    "\n",
    "\n",
    "plt.figure(figsize=(4,2))\n",
    "\n",
    "# plt.plot(list(range(starting_point, starting_point + sequence_length)),\n",
    "#          C26_C31_amp_ratio[range(starting_point, starting_point + sequence_length)], label=\"C26/C31 Amplitude Ratio\")\n",
    "plt.plot(list(range(starting_point, starting_point + sequence_length)),\n",
    "         C26_C31_amp_ratio2[range(starting_point, starting_point + sequence_length)], label=\"C26/C31 Amplitude Ratio\", color=\"C5\")\n",
    "# plt.plot(list(range(starting_point, starting_point + sequence_length)),\n",
    "#          C26_C31_rev_comp_amp_ratio2[range(starting_point, starting_point + sequence_length)], label=\"C26/C31 Amplitude Ratio\", \n",
    "#          color=\"C5\", linestyle=\"dashed\")\n",
    "# plt.plot(list(range(starting_point, starting_point + sequence_length)),\n",
    "#          C26_C31_smooth_amp_ratio1[range(starting_point, starting_point + sequence_length)], label=\"Ratio C26/C31 Amplitude Estimates\", color=\"C4\")\n",
    "# plt.plot(list(range(starting_point, starting_point + sequence_length)),\n",
    "#          C26_C31_smooth_amp_ratio2[range(starting_point, starting_point + sequence_length)], label=\"Ratio C26/C31 Amplitude Estimates\", color=\"C5\")\n",
    "plt.hlines(0.7, starting_point, starting_point + sequence_length, label=\"Estimated Ratio\", color=\"C9\")\n",
    "\n",
    "plt.ylim((0, 2.75))\n",
    "# plt.ylim((0, 2))\n",
    "plt.locator_params(axis='x', nbins=5)\n",
    "# plt.legend(fontsize=\"small\")\n",
    "plt.show()\n",
    "\n",
    "\n",
    "\n",
    "\n",
    "# plt.figure(figsize=(6,3))\n",
    "\n",
    "# plt.plot(list(range(starting_point, starting_point + sequence_length)),\n",
    "#          genome_df_chrV[\"n=26\"][range(starting_point, starting_point + sequence_length)], label=\"Predicted C26\", color=\"C0\")\n",
    "# plt.plot(list(range(starting_point, starting_point + sequence_length)),\n",
    "#          genome_df_chrV[\"n=31\"][range(starting_point, starting_point + sequence_length)], label=\"Predicted C31\", color=\"C2\")\n",
    "\n",
    "# # plt.plot(list(range(starting_point, starting_point + sequence_length)),\n",
    "# #          genome_df_chrV[\"n=26\"][range(starting_point, starting_point + sequence_length)], label=\"Predicted C26\", color=\"C0\", alpha=0.5)\n",
    "# # plt.plot(list(range(starting_point, starting_point + sequence_length)),\n",
    "# #          genome_df_chrV[\"n=31\"][range(starting_point, starting_point + sequence_length)], label=\"Predicted C31\", color=\"C2\", alpha=0.5)\n",
    "# # plt.plot(list(range(starting_point, starting_point + sequence_length)),\n",
    "# #          genome_df_chrV[\"smooth_10.4bp_C26\"][range(starting_point, starting_point + sequence_length)], label=\"Smooth C26\", color=\"C0\")\n",
    "# # plt.plot(list(range(starting_point, starting_point + sequence_length)),\n",
    "# #          genome_df_chrV[\"smooth_10.4bp_C31\"][range(starting_point, starting_point + sequence_length)], label=\"Smooth C31\", color=\"C2\")\n",
    "\n",
    "# # plt.legend()\n",
    "# plt.show()\n",
    "\n",
    "\n"
   ]
  },
  {
   "cell_type": "code",
   "execution_count": 24,
   "metadata": {},
   "outputs": [
    {
     "name": "stderr",
     "output_type": "stream",
     "text": [
      "/Users/Brody1/Dropbox/Northwestern/DNA_Cyclizability/.venv/lib/python3.11/site-packages/matplotlib/_tight_bbox.py:67: RuntimeWarning: divide by zero encountered in scalar divide\n",
      "  fig.patch.set_bounds(x0 / w1, y0 / h1,\n",
      "/Users/Brody1/Dropbox/Northwestern/DNA_Cyclizability/.venv/lib/python3.11/site-packages/matplotlib/_tight_bbox.py:68: RuntimeWarning: divide by zero encountered in scalar divide\n",
      "  fig.bbox.width / w1, fig.bbox.height / h1)\n",
      "/Users/Brody1/Dropbox/Northwestern/DNA_Cyclizability/.venv/lib/python3.11/site-packages/matplotlib/patches.py:742: RuntimeWarning: invalid value encountered in scalar add\n",
      "  x1 = self.convert_xunits(self._x0 + self._width)\n",
      "/Users/Brody1/Dropbox/Northwestern/DNA_Cyclizability/.venv/lib/python3.11/site-packages/matplotlib/patches.py:743: RuntimeWarning: invalid value encountered in scalar add\n",
      "  y1 = self.convert_yunits(self._y0 + self._height)\n"
     ]
    },
    {
     "data": {
      "image/png": "[encoded data removed]",
      "text/plain": [
       "<Figure size 0x0 with 1 Axes>"
      ]
     },
     "metadata": {},
     "output_type": "display_data"
    },
    {
     "data": {
      "text/plain": [
       "<Figure size 1400x200 with 0 Axes>"
      ]
     },
     "metadata": {},
     "output_type": "display_data"
    }
   ],
   "source": [
    "x = np.linspace(1, 100, 1000)\n",
    "y = np.log(x)\n",
    "y1 = np.sin(x)\n",
    "fig = plt.figure(\"Line plot\", figsize=(0,0))\n",
    "legendFig = plt.figure(\"Legend plot\")\n",
    "ax = fig.add_subplot(111)\n",
    "line1, = ax.plot(x,y, color=\"C0\")\n",
    "line2, = ax.plot(x,y, color=\"C2\")\n",
    "\n",
    "legendFig.legend([line1, line2], \n",
    "                 [\"C26\", \"C31\"], ncols=1)\n",
    "legendFig.set_figheight(2)\n",
    "legendFig.set_figwidth(14)\n",
    "legendFig.savefig('legend.png')"
   ]
  },
  {
   "cell_type": "code",
   "execution_count": 38,
   "metadata": {},
   "outputs": [
    {
     "data": {
      "image/png": "[encoded data removed]",
      "text/plain": [
       "<Figure size 0x0 with 1 Axes>"
      ]
     },
     "metadata": {},
     "output_type": "display_data"
    },
    {
     "data": {
      "text/plain": [
       "<Figure size 1400x200 with 0 Axes>"
      ]
     },
     "metadata": {},
     "output_type": "display_data"
    }
   ],
   "source": [
    "x = np.linspace(1, 100, 1000)\n",
    "y = np.log(x)\n",
    "y1 = np.sin(x)\n",
    "fig = plt.figure(\"Line plot\", figsize=(0,0))\n",
    "legendFig = plt.figure(\"Legend plot\")\n",
    "ax = fig.add_subplot(111)\n",
    "line5, = ax.plot(x,y, color=\"C5\")\n",
    "line7, = ax.plot(x,y, color=\"C9\")\n",
    "legendFig.legend([line5, line7], \n",
    "                 [\"A26/A31\", \"A26/A31=0.7\"], ncols=1)\n",
    "legendFig.set_figheight(2)\n",
    "legendFig.set_figwidth(14)\n",
    "legendFig.savefig('legend.png')"
   ]
  },
  {
   "cell_type": "code",
   "execution_count": 18,
   "metadata": {},
   "outputs": [],
   "source": [
    "# # plt.plot(list(range(starting_point, starting_point + sequence_length)),\n",
    "# #          C26_C31_amp_ratio[range(starting_point, starting_point + sequence_length)], label=\"C26/C31 Amplitude Ratio\")\n",
    "# plt.plot(list(range(starting_point, starting_point + sequence_length)),\n",
    "#          C26_C31_amp_ratio2[range(starting_point, starting_point + sequence_length)], label=\"C26/C31 Amplitude Ratio\", color=\"C4\")\n",
    "# # plt.plot(list(range(starting_point, starting_point + sequence_length)),\n",
    "# #          C26_C31_smooth_amp_ratio1[range(starting_point, starting_point + sequence_length)], label=\"Ratio C26/C31 Amplitude Estimates\", color=\"C4\")\n",
    "# # plt.plot(list(range(starting_point, starting_point + sequence_length)),\n",
    "# #          C26_C31_smooth_amp_ratio2[range(starting_point, starting_point + sequence_length)], label=\"Ratio C26/C31 Amplitude Estimates\", color=\"C5\")\n",
    "# plt.hlines(0.7, starting_point, starting_point + sequence_length, label=\"Estimated Ratio\", color=\"C3\")\n",
    "\n",
    "# # plt.ylim((0, 2.5))\n",
    "# plt.ylim((0, 2))\n",
    "# plt.legend()\n",
    "# plt.show()\n",
    "\n",
    "# plt.plot(list(range(starting_point, starting_point + sequence_length)),\n",
    "#          genome_df_chrV[\"n=26\"][range(starting_point, starting_point + sequence_length)], label=\"Predicted C26\", color=\"C0\", alpha=0.5)\n",
    "# plt.plot(list(range(starting_point, starting_point + sequence_length)),\n",
    "#          genome_df_chrV[\"n=31\"][range(starting_point, starting_point + sequence_length)], label=\"Predicted C31\", color=\"C2\", alpha=0.5)\n",
    "\n",
    "# plt.plot(list(range(starting_point, starting_point + sequence_length)),\n",
    "#          genome_df_chrV[\"smooth_10.4bp_C26\"][range(starting_point, starting_point + sequence_length)], label=\"Smooth C26\", color=\"C0\")\n",
    "# plt.plot(list(range(starting_point, starting_point + sequence_length)),\n",
    "#          genome_df_chrV[\"smooth_10.4bp_C31\"][range(starting_point, starting_point + sequence_length)], label=\"Smooth C31\", color=\"C2\")\n",
    "\n",
    "# plt.legend()\n",
    "# plt.show()"
   ]
  },
  {
   "cell_type": "code",
   "execution_count": 19,
   "metadata": {},
   "outputs": [
    {
     "data": {
      "text/plain": [
       "479158"
      ]
     },
     "execution_count": 19,
     "metadata": {},
     "output_type": "execute_result"
    }
   ],
   "source": [
    "starting_point"
   ]
  },
  {
   "cell_type": "code",
   "execution_count": null,
   "metadata": {},
   "outputs": [],
   "source": []
  },
  {
   "cell_type": "code",
   "execution_count": null,
   "metadata": {},
   "outputs": [],
   "source": []
  },
  {
   "cell_type": "code",
   "execution_count": 20,
   "metadata": {},
   "outputs": [
    {
     "ename": "NameError",
     "evalue": "name 'C26_C31_smooth_amp_ratio' is not defined",
     "output_type": "error",
     "traceback": [
      "\u001b[0;31m---------------------------------------------------------------------------\u001b[0m",
      "\u001b[0;31mNameError\u001b[0m                                 Traceback (most recent call last)",
      "Cell \u001b[0;32mIn[20], line 1\u001b[0m\n\u001b[0;32m----> 1\u001b[0m \u001b[38;5;28mprint\u001b[39m(np\u001b[38;5;241m.\u001b[39mmean(C26_C31_amp_ratio2[\u001b[38;5;241m10\u001b[39m:(\u001b[38;5;28mlen\u001b[39m(C26_C31_amp_ratio2)\u001b[38;5;241m-\u001b[39m\u001b[38;5;241m10\u001b[39m)]), np\u001b[38;5;241m.\u001b[39mmean(\u001b[43mC26_C31_smooth_amp_ratio\u001b[49m[\u001b[38;5;241m5\u001b[39m:]))\n",
      "\u001b[0;31mNameError\u001b[0m: name 'C26_C31_smooth_amp_ratio' is not defined"
     ]
    }
   ],
   "source": [
    "print(np.mean(C26_C31_amp_ratio2[10:(len(C26_C31_amp_ratio2)-10)]), np.mean(C26_C31_smooth_amp_ratio[5:]))"
   ]
  },
  {
   "cell_type": "code",
   "execution_count": null,
   "metadata": {},
   "outputs": [],
   "source": []
  },
  {
   "cell_type": "code",
   "execution_count": null,
   "metadata": {},
   "outputs": [
    {
     "name": "stdout",
     "output_type": "stream",
     "text": [
      "0.23666855849191631 nan\n"
     ]
    }
   ],
   "source": [
    "print(np.std(C26_C31_amp_ratio2[10:(len(C26_C31_amp_ratio2)-10)]), np.std(C26_C31_smooth_amp_ratio[5:]))"
   ]
  },
  {
   "cell_type": "code",
   "execution_count": null,
   "metadata": {},
   "outputs": [
    {
     "data": {
      "text/plain": [
       "1.3795739449046593"
      ]
     },
     "execution_count": 639,
     "metadata": {},
     "output_type": "execute_result"
    }
   ],
   "source": [
    "C26_C31_amp_ratio2[10]"
   ]
  },
  {
   "cell_type": "code",
   "execution_count": null,
   "metadata": {},
   "outputs": [
    {
     "data": {
      "image/png": "[encoded data removed]",
      "text/plain": [
       "<Figure size 640x480 with 1 Axes>"
      ]
     },
     "metadata": {},
     "output_type": "display_data"
    }
   ],
   "source": [
    "plt.hist(C26_C31_amp_ratio2, bins=30)\n",
    "plt.show()"
   ]
  },
  {
   "cell_type": "code",
   "execution_count": null,
   "metadata": {},
   "outputs": [
    {
     "data": {
      "image/png": "[encoded data removed]",
      "text/plain": [
       "<Figure size 640x480 with 1 Axes>"
      ]
     },
     "metadata": {},
     "output_type": "display_data"
    }
   ],
   "source": [
    "plt.hist(C26_C31_smooth_amp_ratio, bins=30)\n",
    "plt.show()"
   ]
  },
  {
   "cell_type": "code",
   "execution_count": null,
   "metadata": {},
   "outputs": [
    {
     "data": {
      "image/png": "[encoded data removed]",
      "text/plain": [
       "<Figure size 640x480 with 1 Axes>"
      ]
     },
     "metadata": {},
     "output_type": "display_data"
    }
   ],
   "source": [
    "plt.boxplot(C26_C31_amp_ratio2[10:(len(C26_C31_amp_ratio2)-10)])\n",
    "plt.show()"
   ]
  },
  {
   "cell_type": "code",
   "execution_count": null,
   "metadata": {},
   "outputs": [
    {
     "data": {
      "image/png": "[encoded data removed]",
      "text/plain": [
       "<Figure size 640x480 with 1 Axes>"
      ]
     },
     "metadata": {},
     "output_type": "display_data"
    }
   ],
   "source": [
    "plt.boxplot(C26_C31_smooth_amp_ratio[5:])\n",
    "plt.show()"
   ]
  },
  {
   "cell_type": "code",
   "execution_count": null,
   "metadata": {},
   "outputs": [],
   "source": []
  },
  {
   "cell_type": "code",
   "execution_count": null,
   "metadata": {},
   "outputs": [],
   "source": []
  },
  {
   "cell_type": "code",
   "execution_count": null,
   "metadata": {},
   "outputs": [],
   "source": []
  }
 ],
 "metadata": {
  "kernelspec": {
   "display_name": ".venv",
   "language": "python",
   "name": "python3"
  },
  "language_info": {
   "codemirror_mode": {
    "name": "ipython",
    "version": 3
   },
   "file_extension": ".py",
   "mimetype": "text/x-python",
   "name": "python",
   "nbconvert_exporter": "python",
   "pygments_lexer": "ipython3",
   "version": "3.11.0"
  }
 },
 "nbformat": 4,
 "nbformat_minor": 2
}
