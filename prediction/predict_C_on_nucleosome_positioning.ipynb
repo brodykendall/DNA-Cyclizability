{
 "cells": [
  {
   "cell_type": "code",
   "execution_count": 1,
   "metadata": {},
   "outputs": [],
   "source": [
    "import keras"
   ]
  },
  {
   "cell_type": "code",
   "execution_count": 2,
   "metadata": {},
   "outputs": [],
   "source": [
    "import pandas as pd\n",
    "import numpy as np\n",
    "from numpy import array\n",
    "\n",
    "import matplotlib.pyplot as plt"
   ]
  },
  {
   "cell_type": "code",
   "execution_count": 3,
   "metadata": {},
   "outputs": [],
   "source": [
    "def dnaOneHot(sequence):\n",
    "    seq_array = array(list(sequence))\n",
    "    code = {\"A\": [0], \"C\": [1], \"G\": [2], \"T\": [3], \"N\": [4],\n",
    "            \"a\": [0], \"c\": [1], \"g\": [2], \"t\": [3], \"n\": [4]}\n",
    "    onehot_encoded_seq = []\n",
    "    for char in seq_array:\n",
    "        onehot_encoded = np.zeros(5)\n",
    "        onehot_encoded[code[char]] = 1\n",
    "        onehot_encoded_seq.append(onehot_encoded[0:4])\n",
    "    return onehot_encoded_seq"
   ]
  },
  {
   "cell_type": "code",
   "execution_count": null,
   "metadata": {},
   "outputs": [],
   "source": []
  },
  {
   "cell_type": "markdown",
   "metadata": {},
   "source": [
    "# First, Only Focus on ChrV:"
   ]
  },
  {
   "cell_type": "code",
   "execution_count": 4,
   "metadata": {},
   "outputs": [],
   "source": [
    "genome_df_chrV = pd.read_csv(\"/Users/Brody1/Dropbox/Northwestern/DNA_Cyclizability/data/Created/yeast_chrV_nucleosome_alignment_window_size200.csv\")"
   ]
  },
  {
   "cell_type": "code",
   "execution_count": 5,
   "metadata": {},
   "outputs": [
    {
     "data": {
      "text/html": [
       "<div>\n",
       "<style scoped>\n",
       "    .dataframe tbody tr th:only-of-type {\n",
       "        vertical-align: middle;\n",
       "    }\n",
       "\n",
       "    .dataframe tbody tr th {\n",
       "        vertical-align: top;\n",
       "    }\n",
       "\n",
       "    .dataframe thead th {\n",
       "        text-align: right;\n",
       "    }\n",
       "</style>\n",
       "<table border=\"1\" class=\"dataframe\">\n",
       "  <thead>\n",
       "    <tr style=\"text-align: right;\">\n",
       "      <th></th>\n",
       "      <th>sequence</th>\n",
       "      <th>distance_to_nucleosome</th>\n",
       "      <th>chrID</th>\n",
       "      <th>nucleosome_center</th>\n",
       "      <th>position</th>\n",
       "    </tr>\n",
       "  </thead>\n",
       "  <tbody>\n",
       "    <tr>\n",
       "      <th>0</th>\n",
       "      <td>CCAAGCCCTGTTGTCTCTTACCCGGATGTTCAACCAAAAGCTACTT...</td>\n",
       "      <td>-200</td>\n",
       "      <td>chrV</td>\n",
       "      <td>233</td>\n",
       "      <td>8</td>\n",
       "    </tr>\n",
       "    <tr>\n",
       "      <th>1</th>\n",
       "      <td>CAAGCCCTGTTGTCTCTTACCCGGATGTTCAACCAAAAGCTACTTA...</td>\n",
       "      <td>-199</td>\n",
       "      <td>chrV</td>\n",
       "      <td>233</td>\n",
       "      <td>9</td>\n",
       "    </tr>\n",
       "    <tr>\n",
       "      <th>2</th>\n",
       "      <td>AAGCCCTGTTGTCTCTTACCCGGATGTTCAACCAAAAGCTACTTAC...</td>\n",
       "      <td>-198</td>\n",
       "      <td>chrV</td>\n",
       "      <td>233</td>\n",
       "      <td>10</td>\n",
       "    </tr>\n",
       "    <tr>\n",
       "      <th>3</th>\n",
       "      <td>AGCCCTGTTGTCTCTTACCCGGATGTTCAACCAAAAGCTACTTACT...</td>\n",
       "      <td>-197</td>\n",
       "      <td>chrV</td>\n",
       "      <td>233</td>\n",
       "      <td>11</td>\n",
       "    </tr>\n",
       "    <tr>\n",
       "      <th>4</th>\n",
       "      <td>GCCCTGTTGTCTCTTACCCGGATGTTCAACCAAAAGCTACTTACTA...</td>\n",
       "      <td>-196</td>\n",
       "      <td>chrV</td>\n",
       "      <td>233</td>\n",
       "      <td>12</td>\n",
       "    </tr>\n",
       "    <tr>\n",
       "      <th>...</th>\n",
       "      <td>...</td>\n",
       "      <td>...</td>\n",
       "      <td>...</td>\n",
       "      <td>...</td>\n",
       "      <td>...</td>\n",
       "    </tr>\n",
       "    <tr>\n",
       "      <th>1276795</th>\n",
       "      <td>AAGGTAGTAAGTAGCTTTTGGTTGAACATCCGGGTAAGAGACAACA...</td>\n",
       "      <td>195</td>\n",
       "      <td>chrV</td>\n",
       "      <td>576556</td>\n",
       "      <td>576726</td>\n",
       "    </tr>\n",
       "    <tr>\n",
       "      <th>1276796</th>\n",
       "      <td>AGGTAGTAAGTAGCTTTTGGTTGAACATCCGGGTAAGAGACAACAG...</td>\n",
       "      <td>196</td>\n",
       "      <td>chrV</td>\n",
       "      <td>576556</td>\n",
       "      <td>576727</td>\n",
       "    </tr>\n",
       "    <tr>\n",
       "      <th>1276797</th>\n",
       "      <td>GGTAGTAAGTAGCTTTTGGTTGAACATCCGGGTAAGAGACAACAGG...</td>\n",
       "      <td>197</td>\n",
       "      <td>chrV</td>\n",
       "      <td>576556</td>\n",
       "      <td>576728</td>\n",
       "    </tr>\n",
       "    <tr>\n",
       "      <th>1276798</th>\n",
       "      <td>GTAGTAAGTAGCTTTTGGTTGAACATCCGGGTAAGAGACAACAGGG...</td>\n",
       "      <td>198</td>\n",
       "      <td>chrV</td>\n",
       "      <td>576556</td>\n",
       "      <td>576729</td>\n",
       "    </tr>\n",
       "    <tr>\n",
       "      <th>1276799</th>\n",
       "      <td>TAGTAAGTAGCTTTTGGTTGAACATCCGGGTAAGAGACAACAGGGC...</td>\n",
       "      <td>199</td>\n",
       "      <td>chrV</td>\n",
       "      <td>576556</td>\n",
       "      <td>576730</td>\n",
       "    </tr>\n",
       "  </tbody>\n",
       "</table>\n",
       "<p>1276800 rows × 5 columns</p>\n",
       "</div>"
      ],
      "text/plain": [
       "                                                  sequence  \\\n",
       "0        CCAAGCCCTGTTGTCTCTTACCCGGATGTTCAACCAAAAGCTACTT...   \n",
       "1        CAAGCCCTGTTGTCTCTTACCCGGATGTTCAACCAAAAGCTACTTA...   \n",
       "2        AAGCCCTGTTGTCTCTTACCCGGATGTTCAACCAAAAGCTACTTAC...   \n",
       "3        AGCCCTGTTGTCTCTTACCCGGATGTTCAACCAAAAGCTACTTACT...   \n",
       "4        GCCCTGTTGTCTCTTACCCGGATGTTCAACCAAAAGCTACTTACTA...   \n",
       "...                                                    ...   \n",
       "1276795  AAGGTAGTAAGTAGCTTTTGGTTGAACATCCGGGTAAGAGACAACA...   \n",
       "1276796  AGGTAGTAAGTAGCTTTTGGTTGAACATCCGGGTAAGAGACAACAG...   \n",
       "1276797  GGTAGTAAGTAGCTTTTGGTTGAACATCCGGGTAAGAGACAACAGG...   \n",
       "1276798  GTAGTAAGTAGCTTTTGGTTGAACATCCGGGTAAGAGACAACAGGG...   \n",
       "1276799  TAGTAAGTAGCTTTTGGTTGAACATCCGGGTAAGAGACAACAGGGC...   \n",
       "\n",
       "         distance_to_nucleosome chrID  nucleosome_center  position  \n",
       "0                          -200  chrV                233         8  \n",
       "1                          -199  chrV                233         9  \n",
       "2                          -198  chrV                233        10  \n",
       "3                          -197  chrV                233        11  \n",
       "4                          -196  chrV                233        12  \n",
       "...                         ...   ...                ...       ...  \n",
       "1276795                     195  chrV             576556    576726  \n",
       "1276796                     196  chrV             576556    576727  \n",
       "1276797                     197  chrV             576556    576728  \n",
       "1276798                     198  chrV             576556    576729  \n",
       "1276799                     199  chrV             576556    576730  \n",
       "\n",
       "[1276800 rows x 5 columns]"
      ]
     },
     "execution_count": 5,
     "metadata": {},
     "output_type": "execute_result"
    }
   ],
   "source": [
    "genome_df_chrV"
   ]
  },
  {
   "cell_type": "code",
   "execution_count": null,
   "metadata": {},
   "outputs": [],
   "source": []
  },
  {
   "cell_type": "code",
   "execution_count": 6,
   "metadata": {},
   "outputs": [],
   "source": [
    "# X_chrV = []\n",
    "# for sequence_nt in genome_df_chrV[\"sequence\"]:\n",
    "#     X_chrV.append(dnaOneHot(sequence_nt))\n",
    "# X_chrV = array(X_chrV)\n",
    "# X_chrV = X_chrV.reshape((X_chrV.shape[0],50,4,1))"
   ]
  },
  {
   "cell_type": "code",
   "execution_count": null,
   "metadata": {},
   "outputs": [],
   "source": []
  },
  {
   "cell_type": "markdown",
   "metadata": {},
   "source": [
    "### Get Mean/Stdev of provided ChrV C0:"
   ]
  },
  {
   "cell_type": "code",
   "execution_count": 7,
   "metadata": {},
   "outputs": [],
   "source": [
    "# cycle6 = pd.read_csv(\"/Users/Brody1/Dropbox/Northwestern/DNA_Cyclizability/cycle6.txt\")"
   ]
  },
  {
   "cell_type": "code",
   "execution_count": 8,
   "metadata": {},
   "outputs": [],
   "source": [
    "# cycle6_mean = cycle6.C0.mean()\n",
    "# cycle6_std = cycle6.C0.std()"
   ]
  },
  {
   "cell_type": "code",
   "execution_count": 9,
   "metadata": {},
   "outputs": [],
   "source": [
    "# cycle6_c26_mean = cycle6[\"n=26\"].mean()\n",
    "# cycle6_c26_std = cycle6[\"n=26\"].std()\n",
    "# cycle6_c29_mean = cycle6[\"n=29\"].mean()\n",
    "# cycle6_c29_std = cycle6[\"n=29\"].std()\n",
    "# cycle6_c31_mean = cycle6[\"n=31\"].mean()\n",
    "# cycle6_c31_std = cycle6[\"n=31\"].std()"
   ]
  },
  {
   "cell_type": "code",
   "execution_count": 10,
   "metadata": {},
   "outputs": [],
   "source": [
    "normal_mean = -0.18574825868055558\n",
    "normal_std = 0.4879013326394626"
   ]
  },
  {
   "cell_type": "code",
   "execution_count": null,
   "metadata": {},
   "outputs": [],
   "source": []
  },
  {
   "cell_type": "markdown",
   "metadata": {},
   "source": [
    "### DNAcycP:"
   ]
  },
  {
   "cell_type": "code",
   "execution_count": 17,
   "metadata": {},
   "outputs": [],
   "source": [
    "# DNAcycP_pred_chrV_norm = pd.read_csv(\"/Users/Brody1/Dropbox/Northwestern/DNA_Cyclizability/data/predictions/chrv_aligned_cycle_norm_DNAcycP.txt\", header=None)\n",
    "# DNAcycP_pred_chrV_norm = pd.read_csv(\"/Users/Brody1/Dropbox/Northwestern/DNA_Cyclizability/data/predictions/chrv_aligned_cycle_unnorm_DNAcycP.txt\", header=None)\n",
    "DNAcycP_pred_chrV_norm = pd.read_csv(\"/Users/Brody1/Dropbox/Northwestern/DNA_Cyclizability/data/predictions/chrV_1bpres_DNAcycP_cycle_norm.txt\", header=None)"
   ]
  },
  {
   "cell_type": "code",
   "execution_count": 18,
   "metadata": {},
   "outputs": [],
   "source": [
    "genome_df_chrV_aligned = pd.read_csv(\"/Users/Brody1/Dropbox/Northwestern/DNA_Cyclizability/data/Created/yeast_chrV_nucleosome_alignment_window_size200.csv\")\n",
    "genome_df_chrV_aligned = genome_df_chrV_aligned.loc[(genome_df_chrV_aligned[\"position\"] >= 0) & (genome_df_chrV_aligned[\"position\"] < genome_df_chrV.shape[0])]\n",
    "genome_df_chrV_positions = genome_df_chrV_aligned[\"position\"]\n",
    "genome_df_chrV_positions = genome_df_chrV_positions[genome_df_chrV_positions >= 0]\n",
    "genome_df_chrV_positions = genome_df_chrV_positions[genome_df_chrV_positions < genome_df_chrV.shape[0]]\n",
    "DNAcycP_pred_chrV_norm = DNAcycP_pred_chrV_norm.loc[genome_df_chrV_positions, 0].values"
   ]
  },
  {
   "cell_type": "code",
   "execution_count": 19,
   "metadata": {},
   "outputs": [
    {
     "data": {
      "text/plain": [
       "array([-0.31434944, -0.4273306 , -0.43884045, ..., -0.43884045,\n",
       "       -0.4273306 , -0.31434944])"
      ]
     },
     "execution_count": 19,
     "metadata": {},
     "output_type": "execute_result"
    }
   ],
   "source": [
    "DNAcycP_pred_chrV_norm"
   ]
  },
  {
   "cell_type": "code",
   "execution_count": 20,
   "metadata": {},
   "outputs": [],
   "source": [
    "DNAcycP_pred_chrV = DNAcycP_pred_chrV_norm\n",
    "# DNAcycP_pred_chrV = DNAcycP_pred_chrV_norm*cycle6_std + cycle6_mean"
   ]
  },
  {
   "cell_type": "code",
   "execution_count": 21,
   "metadata": {},
   "outputs": [],
   "source": [
    "DNAcycP_pred_chrV_mean = DNAcycP_pred_chrV.mean()\n",
    "DNAcycP_pred_chrV_std = DNAcycP_pred_chrV.std()\n",
    "DNAcycP_pred_chrV = (DNAcycP_pred_chrV-DNAcycP_pred_chrV_mean)/DNAcycP_pred_chrV_std"
   ]
  },
  {
   "cell_type": "code",
   "execution_count": 22,
   "metadata": {},
   "outputs": [],
   "source": [
    "DNAcycP_pred_chrV = array(DNAcycP_pred_chrV)"
   ]
  },
  {
   "cell_type": "code",
   "execution_count": 23,
   "metadata": {},
   "outputs": [],
   "source": [
    "genome_df_chrV[\"DNAcycP_pred_chrV\"] = DNAcycP_pred_chrV"
   ]
  },
  {
   "cell_type": "code",
   "execution_count": null,
   "metadata": {},
   "outputs": [],
   "source": []
  },
  {
   "cell_type": "markdown",
   "metadata": {},
   "source": [
    "### CycPred:"
   ]
  },
  {
   "cell_type": "code",
   "execution_count": 24,
   "metadata": {},
   "outputs": [],
   "source": [
    "CycPred_pred_chrV = pd.read_csv(\"/Users/Brody1/Dropbox/Northwestern/DNA_Cyclizability/data/predictions/cycpred_chrv_aligned.txt\", header=None)"
   ]
  },
  {
   "cell_type": "code",
   "execution_count": 25,
   "metadata": {},
   "outputs": [],
   "source": [
    "CycPred_pred_chrV_mean = CycPred_pred_chrV.mean()\n",
    "CycPred_pred_chrV_std = CycPred_pred_chrV.std()\n",
    "CycPred_pred_chrV = (CycPred_pred_chrV-CycPred_pred_chrV_mean)/CycPred_pred_chrV_std\n",
    "# CycPred_pred_chrV = (CycPred_pred_chrV-normal_mean)/normal_std"
   ]
  },
  {
   "cell_type": "code",
   "execution_count": 26,
   "metadata": {},
   "outputs": [],
   "source": [
    "CycPred_pred_chrV = array(CycPred_pred_chrV)"
   ]
  },
  {
   "cell_type": "code",
   "execution_count": 27,
   "metadata": {},
   "outputs": [],
   "source": [
    "genome_df_chrV[\"CycPred_pred_chrV\"] = CycPred_pred_chrV"
   ]
  },
  {
   "cell_type": "code",
   "execution_count": null,
   "metadata": {},
   "outputs": [],
   "source": []
  },
  {
   "cell_type": "markdown",
   "metadata": {},
   "source": [
    "### DeepBend:"
   ]
  },
  {
   "cell_type": "code",
   "execution_count": 28,
   "metadata": {},
   "outputs": [],
   "source": [
    "DeepBend_pred_chrV = pd.read_csv(\"/Users/Brody1/Dropbox/Northwestern/DNA_Cyclizability/data/predictions/deepbend_chrv_aligned.txt\", header=None)"
   ]
  },
  {
   "cell_type": "code",
   "execution_count": 29,
   "metadata": {},
   "outputs": [],
   "source": [
    "DeepBend_pred_chrV_mean = DeepBend_pred_chrV.mean()\n",
    "DeepBend_pred_chrV_std = DeepBend_pred_chrV.std()\n",
    "DeepBend_pred_chrV = (DeepBend_pred_chrV-DeepBend_pred_chrV_mean)/DeepBend_pred_chrV_std\n",
    "# DeepBend_pred_chrV = (DeepBend_pred_chrV-normal_mean)/normal_std"
   ]
  },
  {
   "cell_type": "code",
   "execution_count": 30,
   "metadata": {},
   "outputs": [],
   "source": [
    "DeepBend_pred_chrV = array(DeepBend_pred_chrV)"
   ]
  },
  {
   "cell_type": "code",
   "execution_count": 31,
   "metadata": {},
   "outputs": [],
   "source": [
    "genome_df_chrV[\"DeepBend_pred_chrV\"] = DeepBend_pred_chrV"
   ]
  },
  {
   "cell_type": "code",
   "execution_count": null,
   "metadata": {},
   "outputs": [],
   "source": []
  },
  {
   "cell_type": "markdown",
   "metadata": {},
   "source": [
    "### MIXBend:"
   ]
  },
  {
   "cell_type": "code",
   "execution_count": 32,
   "metadata": {},
   "outputs": [],
   "source": [
    "MIXBend_pred_chrV = pd.read_csv(\"/Users/Brody1/Dropbox/Northwestern/DNA_Cyclizability/data/predictions/mixbend_chrv_aligned.txt\")"
   ]
  },
  {
   "cell_type": "code",
   "execution_count": 33,
   "metadata": {},
   "outputs": [],
   "source": [
    "MIXBend_pred_chrV_mean = MIXBend_pred_chrV.mean()\n",
    "MIXBend_pred_chrV_std = MIXBend_pred_chrV.std()\n",
    "MIXBend_pred_chrV = (MIXBend_pred_chrV-MIXBend_pred_chrV_mean)/MIXBend_pred_chrV_std\n",
    "# MIXBend_pred_chrV = (MIXBend_pred_chrV-normal_mean)/normal_std"
   ]
  },
  {
   "cell_type": "code",
   "execution_count": 34,
   "metadata": {},
   "outputs": [],
   "source": [
    "MIXBend_pred_chrV = array(MIXBend_pred_chrV)"
   ]
  },
  {
   "cell_type": "code",
   "execution_count": 35,
   "metadata": {},
   "outputs": [],
   "source": [
    "genome_df_chrV[\"MIXBend_pred_chrV\"] = MIXBend_pred_chrV"
   ]
  },
  {
   "cell_type": "code",
   "execution_count": null,
   "metadata": {},
   "outputs": [],
   "source": []
  },
  {
   "cell_type": "code",
   "execution_count": 36,
   "metadata": {},
   "outputs": [],
   "source": [
    "def find_c0(dat, aa):\n",
    "  mat = np.empty((3,3), float)\n",
    "  k = 2*np.pi/10.4\n",
    "  n = array([26, 29, 31])\n",
    "  mat[0:3, 0] = 1\n",
    "  mat[0:3, 1] = np.sin(n*k)\n",
    "  mat[0:3, 2] = np.cos(n*k)\n",
    "  mat[0, 1:3] = mat[0, 1:3]*aa[0]\n",
    "  mat[1, 1:3] = mat[1, 1:3]*aa[1]\n",
    "  mat[2, 1:3] = mat[2, 1:3]*aa[2]\n",
    "  inv_mat = np.linalg.inv(mat)\n",
    "  c0A1A2 = array(np.matmul(dat[[\"n=26\", \"n=29\", \"n=31\"]], np.transpose(inv_mat))).astype(float)\n",
    "  c0Aphi = c0A1A2\n",
    "  c0Aphi[:,0] = c0A1A2[:,0]\n",
    "  c0Aphi[:,1] = np.sqrt(c0A1A2[:,1]**2 + c0A1A2[:,2]**2)\n",
    "  c0Aphi[:,2] <- np.sign(c0A1A2[:,2]) * np.arccos(c0A1A2[:,1]/c0Aphi[:,1])\n",
    "  return c0Aphi[:,0]"
   ]
  },
  {
   "cell_type": "code",
   "execution_count": 37,
   "metadata": {},
   "outputs": [],
   "source": [
    "aa = [1, 1/0.82, 1/0.7]\n",
    "# aa = [1, 1, 1]"
   ]
  },
  {
   "cell_type": "code",
   "execution_count": null,
   "metadata": {},
   "outputs": [],
   "source": []
  },
  {
   "cell_type": "markdown",
   "metadata": {},
   "source": [
    "### Original C0, Cn Measurements:"
   ]
  },
  {
   "cell_type": "code",
   "execution_count": 38,
   "metadata": {},
   "outputs": [],
   "source": [
    "# cycle6 = pd.read_csv(\"/Users/Brody1/Dropbox/Northwestern/DNA_Cyclizability/cycle6.txt\",delimiter = \",\")\n",
    "# genome_df_chrV_everyseq = pd.read_csv(\"/Users/Brody1/Dropbox/Northwestern/DNA_Cyclizability/data/Created/yeast_chrV_1bpresolution_subsequence50.csv\")"
   ]
  },
  {
   "cell_type": "code",
   "execution_count": 39,
   "metadata": {},
   "outputs": [],
   "source": [
    "# j=0\n",
    "# everyseq_matched_pairs = []\n",
    "# for i, seq in enumerate(cycle6.Sequence):\n",
    "#     cur_iter = 0\n",
    "#     while genome_df_chrV_everyseq.sequence[j+cur_iter] != seq:\n",
    "#         cur_iter += 1\n",
    "#         if cur_iter > 200:\n",
    "#             break\n",
    "#     if cur_iter > 200:\n",
    "#         continue\n",
    "#     j += cur_iter\n",
    "#     everyseq_matched_pairs.append((i,j))\n",
    "# # genome_df_chrV.iloc[np.where(genome_df_chrV.sequence == cycle6.Sequence[len(cycle6.Sequence)-1])[0],:]\n"
   ]
  },
  {
   "cell_type": "code",
   "execution_count": 40,
   "metadata": {},
   "outputs": [],
   "source": [
    "# min_pos = 0\n",
    "# prev_nuc_center = 0\n",
    "# num_no_nuc_center = 0\n",
    "# matched_pairs = []\n",
    "# for i, seq in enumerate(genome_df_chrV.sequence):\n",
    "#     # check if the nucleosome is still the same:\n",
    "#     if genome_df_chrV.nucleosome_center[i] != prev_nuc_center:\n",
    "#         num_no_nuc_center += 1\n",
    "#         new_start_pos = max(min_pos - 400, 0)\n",
    "#         max_iter = 1000\n",
    "#         found = False\n",
    "#         for j in range(new_start_pos, new_start_pos + max_iter):\n",
    "#             if j >= len(cycle6.Sequence):\n",
    "#                 break\n",
    "#             if cycle6.Sequence[j] == seq:\n",
    "#                 min_pos = j\n",
    "#                 prev_nuc_center = genome_df_chrV.nucleosome_center[i]\n",
    "#                 print(f\"Found new nucleosome center! {i}\")\n",
    "#                 matched_pairs.append((i,j))\n",
    "#                 num_no_nuc_center = 0\n",
    "#                 found = True\n",
    "#                 break\n",
    "#         if found:\n",
    "#             continue\n",
    "#         if num_no_nuc_center % 7 == 0:\n",
    "#             print(f\"Couldn't find new nucleosome center: i={i}\")\n",
    "#     else:\n",
    "#         new_start_pos = max(min_pos-1, 0)\n",
    "#         max_iter = 20\n",
    "#         for j in range(new_start_pos, new_start_pos + max_iter):\n",
    "#             if j >= len(cycle6.Sequence):\n",
    "#                 break\n",
    "#             if cycle6.Sequence[j] == seq:\n",
    "#                 min_pos = j\n",
    "#                 matched_pairs.append((i, j))\n",
    "#                 continue\n",
    "\n",
    "#     # find position (if it  exists, which it probably doesn't) in matched_pairs that corresponds:\n"
   ]
  },
  {
   "cell_type": "code",
   "execution_count": 41,
   "metadata": {},
   "outputs": [],
   "source": [
    "# genome_df_chrV[\"C0\"] = np.nan\n",
    "# genome_df_chrV[\"C26\"] = np.nan\n",
    "# genome_df_chrV[\"C29\"] = np.nan\n",
    "# genome_df_chrV[\"C31\"] = np.nan"
   ]
  },
  {
   "cell_type": "code",
   "execution_count": 42,
   "metadata": {},
   "outputs": [],
   "source": [
    "# for (i, j) in matched_pairs:\n",
    "#     if genome_df_chrV[\"sequence\"].iloc[i] != cycle6[\"Sequence\"].iloc[j]:\n",
    "#         print(\"Error!\")\n",
    "#         break\n",
    "#     genome_df_chrV[\"C0\"].iloc[i] = cycle6[\"C0\"].iloc[j]\n",
    "#     genome_df_chrV[\"C26\"].iloc[i] = cycle6[\"n=26\"].iloc[j]\n",
    "#     genome_df_chrV[\"C29\"].iloc[i] = cycle6[\"n=29\"].iloc[j]\n",
    "#     genome_df_chrV[\"C31\"].iloc[i] = cycle6[\"n=31\"].iloc[j]"
   ]
  },
  {
   "cell_type": "code",
   "execution_count": 43,
   "metadata": {},
   "outputs": [],
   "source": [
    "# genome_df_chrV[\"C0_norm\"] = (genome_df_chrV[\"C0\"] - genome_df_chrV[\"C0\"].mean())/genome_df_chrV[\"C0\"].std()\n",
    "# genome_df_chrV[\"C26_norm\"] = (genome_df_chrV[\"C26\"] - genome_df_chrV[\"C26\"].mean())/genome_df_chrV[\"C26\"].std()\n",
    "# genome_df_chrV[\"C29_norm\"] = (genome_df_chrV[\"C29\"] - genome_df_chrV[\"C29\"].mean())/genome_df_chrV[\"C29\"].std()\n",
    "# genome_df_chrV[\"C31_norm\"] = (genome_df_chrV[\"C31\"] - genome_df_chrV[\"C31\"].mean())/genome_df_chrV[\"C31\"].std()"
   ]
  },
  {
   "cell_type": "code",
   "execution_count": 44,
   "metadata": {},
   "outputs": [
    {
     "data": {
      "text/html": [
       "<div>\n",
       "<style scoped>\n",
       "    .dataframe tbody tr th:only-of-type {\n",
       "        vertical-align: middle;\n",
       "    }\n",
       "\n",
       "    .dataframe tbody tr th {\n",
       "        vertical-align: top;\n",
       "    }\n",
       "\n",
       "    .dataframe thead th {\n",
       "        text-align: right;\n",
       "    }\n",
       "</style>\n",
       "<table border=\"1\" class=\"dataframe\">\n",
       "  <thead>\n",
       "    <tr style=\"text-align: right;\">\n",
       "      <th></th>\n",
       "      <th>sequence</th>\n",
       "      <th>distance_to_nucleosome</th>\n",
       "      <th>chrID</th>\n",
       "      <th>nucleosome_center</th>\n",
       "      <th>position</th>\n",
       "      <th>DNAcycP_pred_chrV</th>\n",
       "      <th>CycPred_pred_chrV</th>\n",
       "      <th>DeepBend_pred_chrV</th>\n",
       "      <th>MIXBend_pred_chrV</th>\n",
       "    </tr>\n",
       "  </thead>\n",
       "  <tbody>\n",
       "    <tr>\n",
       "      <th>0</th>\n",
       "      <td>CCAAGCCCTGTTGTCTCTTACCCGGATGTTCAACCAAAAGCTACTT...</td>\n",
       "      <td>-200</td>\n",
       "      <td>chrV</td>\n",
       "      <td>233</td>\n",
       "      <td>8</td>\n",
       "      <td>-0.359827</td>\n",
       "      <td>-0.363096</td>\n",
       "      <td>-0.424451</td>\n",
       "      <td>-0.453112</td>\n",
       "    </tr>\n",
       "    <tr>\n",
       "      <th>1</th>\n",
       "      <td>CAAGCCCTGTTGTCTCTTACCCGGATGTTCAACCAAAAGCTACTTA...</td>\n",
       "      <td>-199</td>\n",
       "      <td>chrV</td>\n",
       "      <td>233</td>\n",
       "      <td>9</td>\n",
       "      <td>-0.487418</td>\n",
       "      <td>-0.554903</td>\n",
       "      <td>-0.509093</td>\n",
       "      <td>-0.642149</td>\n",
       "    </tr>\n",
       "    <tr>\n",
       "      <th>2</th>\n",
       "      <td>AAGCCCTGTTGTCTCTTACCCGGATGTTCAACCAAAAGCTACTTAC...</td>\n",
       "      <td>-198</td>\n",
       "      <td>chrV</td>\n",
       "      <td>233</td>\n",
       "      <td>10</td>\n",
       "      <td>-0.500416</td>\n",
       "      <td>-0.495360</td>\n",
       "      <td>-0.529277</td>\n",
       "      <td>-0.598248</td>\n",
       "    </tr>\n",
       "    <tr>\n",
       "      <th>3</th>\n",
       "      <td>AGCCCTGTTGTCTCTTACCCGGATGTTCAACCAAAAGCTACTTACT...</td>\n",
       "      <td>-197</td>\n",
       "      <td>chrV</td>\n",
       "      <td>233</td>\n",
       "      <td>11</td>\n",
       "      <td>-0.512471</td>\n",
       "      <td>-0.548045</td>\n",
       "      <td>-0.430238</td>\n",
       "      <td>-0.519217</td>\n",
       "    </tr>\n",
       "    <tr>\n",
       "      <th>4</th>\n",
       "      <td>GCCCTGTTGTCTCTTACCCGGATGTTCAACCAAAAGCTACTTACTA...</td>\n",
       "      <td>-196</td>\n",
       "      <td>chrV</td>\n",
       "      <td>233</td>\n",
       "      <td>12</td>\n",
       "      <td>-0.354882</td>\n",
       "      <td>-0.432139</td>\n",
       "      <td>-0.630460</td>\n",
       "      <td>-0.609683</td>\n",
       "    </tr>\n",
       "    <tr>\n",
       "      <th>...</th>\n",
       "      <td>...</td>\n",
       "      <td>...</td>\n",
       "      <td>...</td>\n",
       "      <td>...</td>\n",
       "      <td>...</td>\n",
       "      <td>...</td>\n",
       "      <td>...</td>\n",
       "      <td>...</td>\n",
       "      <td>...</td>\n",
       "    </tr>\n",
       "    <tr>\n",
       "      <th>1276795</th>\n",
       "      <td>AAGGTAGTAAGTAGCTTTTGGTTGAACATCCGGGTAAGAGACAACA...</td>\n",
       "      <td>195</td>\n",
       "      <td>chrV</td>\n",
       "      <td>576556</td>\n",
       "      <td>576726</td>\n",
       "      <td>-0.354882</td>\n",
       "      <td>-0.432139</td>\n",
       "      <td>-0.630460</td>\n",
       "      <td>-0.719221</td>\n",
       "    </tr>\n",
       "    <tr>\n",
       "      <th>1276796</th>\n",
       "      <td>AGGTAGTAAGTAGCTTTTGGTTGAACATCCGGGTAAGAGACAACAG...</td>\n",
       "      <td>196</td>\n",
       "      <td>chrV</td>\n",
       "      <td>576556</td>\n",
       "      <td>576727</td>\n",
       "      <td>-0.512471</td>\n",
       "      <td>-0.548045</td>\n",
       "      <td>-0.430238</td>\n",
       "      <td>-0.679871</td>\n",
       "    </tr>\n",
       "    <tr>\n",
       "      <th>1276797</th>\n",
       "      <td>GGTAGTAAGTAGCTTTTGGTTGAACATCCGGGTAAGAGACAACAGG...</td>\n",
       "      <td>197</td>\n",
       "      <td>chrV</td>\n",
       "      <td>576556</td>\n",
       "      <td>576728</td>\n",
       "      <td>-0.500416</td>\n",
       "      <td>-0.495360</td>\n",
       "      <td>-0.529277</td>\n",
       "      <td>-0.815994</td>\n",
       "    </tr>\n",
       "    <tr>\n",
       "      <th>1276798</th>\n",
       "      <td>GTAGTAAGTAGCTTTTGGTTGAACATCCGGGTAAGAGACAACAGGG...</td>\n",
       "      <td>198</td>\n",
       "      <td>chrV</td>\n",
       "      <td>576556</td>\n",
       "      <td>576729</td>\n",
       "      <td>-0.487418</td>\n",
       "      <td>-0.554903</td>\n",
       "      <td>-0.509093</td>\n",
       "      <td>-0.656764</td>\n",
       "    </tr>\n",
       "    <tr>\n",
       "      <th>1276799</th>\n",
       "      <td>TAGTAAGTAGCTTTTGGTTGAACATCCGGGTAAGAGACAACAGGGC...</td>\n",
       "      <td>199</td>\n",
       "      <td>chrV</td>\n",
       "      <td>576556</td>\n",
       "      <td>576730</td>\n",
       "      <td>-0.359827</td>\n",
       "      <td>-0.363096</td>\n",
       "      <td>-0.424451</td>\n",
       "      <td>-0.333544</td>\n",
       "    </tr>\n",
       "  </tbody>\n",
       "</table>\n",
       "<p>1276800 rows × 9 columns</p>\n",
       "</div>"
      ],
      "text/plain": [
       "                                                  sequence  \\\n",
       "0        CCAAGCCCTGTTGTCTCTTACCCGGATGTTCAACCAAAAGCTACTT...   \n",
       "1        CAAGCCCTGTTGTCTCTTACCCGGATGTTCAACCAAAAGCTACTTA...   \n",
       "2        AAGCCCTGTTGTCTCTTACCCGGATGTTCAACCAAAAGCTACTTAC...   \n",
       "3        AGCCCTGTTGTCTCTTACCCGGATGTTCAACCAAAAGCTACTTACT...   \n",
       "4        GCCCTGTTGTCTCTTACCCGGATGTTCAACCAAAAGCTACTTACTA...   \n",
       "...                                                    ...   \n",
       "1276795  AAGGTAGTAAGTAGCTTTTGGTTGAACATCCGGGTAAGAGACAACA...   \n",
       "1276796  AGGTAGTAAGTAGCTTTTGGTTGAACATCCGGGTAAGAGACAACAG...   \n",
       "1276797  GGTAGTAAGTAGCTTTTGGTTGAACATCCGGGTAAGAGACAACAGG...   \n",
       "1276798  GTAGTAAGTAGCTTTTGGTTGAACATCCGGGTAAGAGACAACAGGG...   \n",
       "1276799  TAGTAAGTAGCTTTTGGTTGAACATCCGGGTAAGAGACAACAGGGC...   \n",
       "\n",
       "         distance_to_nucleosome chrID  nucleosome_center  position  \\\n",
       "0                          -200  chrV                233         8   \n",
       "1                          -199  chrV                233         9   \n",
       "2                          -198  chrV                233        10   \n",
       "3                          -197  chrV                233        11   \n",
       "4                          -196  chrV                233        12   \n",
       "...                         ...   ...                ...       ...   \n",
       "1276795                     195  chrV             576556    576726   \n",
       "1276796                     196  chrV             576556    576727   \n",
       "1276797                     197  chrV             576556    576728   \n",
       "1276798                     198  chrV             576556    576729   \n",
       "1276799                     199  chrV             576556    576730   \n",
       "\n",
       "         DNAcycP_pred_chrV  CycPred_pred_chrV  DeepBend_pred_chrV  \\\n",
       "0                -0.359827          -0.363096           -0.424451   \n",
       "1                -0.487418          -0.554903           -0.509093   \n",
       "2                -0.500416          -0.495360           -0.529277   \n",
       "3                -0.512471          -0.548045           -0.430238   \n",
       "4                -0.354882          -0.432139           -0.630460   \n",
       "...                    ...                ...                 ...   \n",
       "1276795          -0.354882          -0.432139           -0.630460   \n",
       "1276796          -0.512471          -0.548045           -0.430238   \n",
       "1276797          -0.500416          -0.495360           -0.529277   \n",
       "1276798          -0.487418          -0.554903           -0.509093   \n",
       "1276799          -0.359827          -0.363096           -0.424451   \n",
       "\n",
       "         MIXBend_pred_chrV  \n",
       "0                -0.453112  \n",
       "1                -0.642149  \n",
       "2                -0.598248  \n",
       "3                -0.519217  \n",
       "4                -0.609683  \n",
       "...                    ...  \n",
       "1276795          -0.719221  \n",
       "1276796          -0.679871  \n",
       "1276797          -0.815994  \n",
       "1276798          -0.656764  \n",
       "1276799          -0.333544  \n",
       "\n",
       "[1276800 rows x 9 columns]"
      ]
     },
     "execution_count": 44,
     "metadata": {},
     "output_type": "execute_result"
    }
   ],
   "source": [
    "genome_df_chrV"
   ]
  },
  {
   "cell_type": "code",
   "execution_count": 45,
   "metadata": {},
   "outputs": [
    {
     "data": {
      "text/plain": [
       "distance_to_nucleosome   -5.000000e-01\n",
       "nucleosome_center         2.877509e+05\n",
       "position                  2.877254e+05\n",
       "DNAcycP_pred_chrV        -2.279435e-17\n",
       "CycPred_pred_chrV        -2.315052e-17\n",
       "DeepBend_pred_chrV        1.567112e-17\n",
       "MIXBend_pred_chrV         2.218888e-16\n",
       "dtype: float64"
      ]
     },
     "execution_count": 45,
     "metadata": {},
     "output_type": "execute_result"
    }
   ],
   "source": [
    "genome_df_chrV.mean(numeric_only=True)"
   ]
  },
  {
   "cell_type": "code",
   "execution_count": 46,
   "metadata": {},
   "outputs": [
    {
     "data": {
      "text/plain": [
       "distance_to_nucleosome       115.469738\n",
       "nucleosome_center         167114.486122\n",
       "position                  167114.526015\n",
       "DNAcycP_pred_chrV              1.000000\n",
       "CycPred_pred_chrV              1.000000\n",
       "DeepBend_pred_chrV             1.000000\n",
       "MIXBend_pred_chrV              1.000000\n",
       "dtype: float64"
      ]
     },
     "execution_count": 46,
     "metadata": {},
     "output_type": "execute_result"
    }
   ],
   "source": [
    "genome_df_chrV.std(numeric_only=True)"
   ]
  },
  {
   "cell_type": "code",
   "execution_count": 47,
   "metadata": {},
   "outputs": [],
   "source": [
    "genome_df_chrV_dist_nuc_grouped = genome_df_chrV.groupby(\"distance_to_nucleosome\").mean(numeric_only=True)"
   ]
  },
  {
   "cell_type": "code",
   "execution_count": 48,
   "metadata": {},
   "outputs": [
    {
     "data": {
      "text/html": [
       "<div>\n",
       "<style scoped>\n",
       "    .dataframe tbody tr th:only-of-type {\n",
       "        vertical-align: middle;\n",
       "    }\n",
       "\n",
       "    .dataframe tbody tr th {\n",
       "        vertical-align: top;\n",
       "    }\n",
       "\n",
       "    .dataframe thead th {\n",
       "        text-align: right;\n",
       "    }\n",
       "</style>\n",
       "<table border=\"1\" class=\"dataframe\">\n",
       "  <thead>\n",
       "    <tr style=\"text-align: right;\">\n",
       "      <th></th>\n",
       "      <th>nucleosome_center</th>\n",
       "      <th>position</th>\n",
       "      <th>DNAcycP_pred_chrV</th>\n",
       "      <th>CycPred_pred_chrV</th>\n",
       "      <th>DeepBend_pred_chrV</th>\n",
       "      <th>MIXBend_pred_chrV</th>\n",
       "    </tr>\n",
       "    <tr>\n",
       "      <th>distance_to_nucleosome</th>\n",
       "      <th></th>\n",
       "      <th></th>\n",
       "      <th></th>\n",
       "      <th></th>\n",
       "      <th></th>\n",
       "      <th></th>\n",
       "    </tr>\n",
       "  </thead>\n",
       "  <tbody>\n",
       "    <tr>\n",
       "      <th>-200</th>\n",
       "      <td>287750.876566</td>\n",
       "      <td>287525.876566</td>\n",
       "      <td>0.017887</td>\n",
       "      <td>0.018077</td>\n",
       "      <td>0.007170</td>\n",
       "      <td>0.014265</td>\n",
       "    </tr>\n",
       "    <tr>\n",
       "      <th>-199</th>\n",
       "      <td>287750.876566</td>\n",
       "      <td>287526.876566</td>\n",
       "      <td>0.028076</td>\n",
       "      <td>0.028791</td>\n",
       "      <td>0.024466</td>\n",
       "      <td>0.035153</td>\n",
       "    </tr>\n",
       "    <tr>\n",
       "      <th>-198</th>\n",
       "      <td>287750.876566</td>\n",
       "      <td>287527.876566</td>\n",
       "      <td>0.036009</td>\n",
       "      <td>0.035159</td>\n",
       "      <td>0.028496</td>\n",
       "      <td>0.037299</td>\n",
       "    </tr>\n",
       "    <tr>\n",
       "      <th>-197</th>\n",
       "      <td>287750.876566</td>\n",
       "      <td>287528.876566</td>\n",
       "      <td>0.031025</td>\n",
       "      <td>0.032525</td>\n",
       "      <td>0.031124</td>\n",
       "      <td>0.028284</td>\n",
       "    </tr>\n",
       "    <tr>\n",
       "      <th>-196</th>\n",
       "      <td>287750.876566</td>\n",
       "      <td>287529.876566</td>\n",
       "      <td>0.025784</td>\n",
       "      <td>0.023598</td>\n",
       "      <td>0.024173</td>\n",
       "      <td>0.021541</td>\n",
       "    </tr>\n",
       "    <tr>\n",
       "      <th>...</th>\n",
       "      <td>...</td>\n",
       "      <td>...</td>\n",
       "      <td>...</td>\n",
       "      <td>...</td>\n",
       "      <td>...</td>\n",
       "      <td>...</td>\n",
       "    </tr>\n",
       "    <tr>\n",
       "      <th>195</th>\n",
       "      <td>287750.876566</td>\n",
       "      <td>287920.876566</td>\n",
       "      <td>0.009830</td>\n",
       "      <td>0.012708</td>\n",
       "      <td>-0.000016</td>\n",
       "      <td>-0.000761</td>\n",
       "    </tr>\n",
       "    <tr>\n",
       "      <th>196</th>\n",
       "      <td>287750.876566</td>\n",
       "      <td>287921.876566</td>\n",
       "      <td>0.009879</td>\n",
       "      <td>0.011544</td>\n",
       "      <td>-0.002451</td>\n",
       "      <td>0.000956</td>\n",
       "    </tr>\n",
       "    <tr>\n",
       "      <th>197</th>\n",
       "      <td>287750.876566</td>\n",
       "      <td>287922.876566</td>\n",
       "      <td>0.008414</td>\n",
       "      <td>0.011141</td>\n",
       "      <td>0.001114</td>\n",
       "      <td>0.012111</td>\n",
       "    </tr>\n",
       "    <tr>\n",
       "      <th>198</th>\n",
       "      <td>287750.876566</td>\n",
       "      <td>287923.876566</td>\n",
       "      <td>0.003200</td>\n",
       "      <td>0.007599</td>\n",
       "      <td>-0.001607</td>\n",
       "      <td>0.014757</td>\n",
       "    </tr>\n",
       "    <tr>\n",
       "      <th>199</th>\n",
       "      <td>287750.876566</td>\n",
       "      <td>287924.876566</td>\n",
       "      <td>-0.004496</td>\n",
       "      <td>0.002321</td>\n",
       "      <td>-0.002478</td>\n",
       "      <td>0.003760</td>\n",
       "    </tr>\n",
       "  </tbody>\n",
       "</table>\n",
       "<p>400 rows × 6 columns</p>\n",
       "</div>"
      ],
      "text/plain": [
       "                        nucleosome_center       position  DNAcycP_pred_chrV  \\\n",
       "distance_to_nucleosome                                                        \n",
       "-200                        287750.876566  287525.876566           0.017887   \n",
       "-199                        287750.876566  287526.876566           0.028076   \n",
       "-198                        287750.876566  287527.876566           0.036009   \n",
       "-197                        287750.876566  287528.876566           0.031025   \n",
       "-196                        287750.876566  287529.876566           0.025784   \n",
       "...                                   ...            ...                ...   \n",
       " 195                        287750.876566  287920.876566           0.009830   \n",
       " 196                        287750.876566  287921.876566           0.009879   \n",
       " 197                        287750.876566  287922.876566           0.008414   \n",
       " 198                        287750.876566  287923.876566           0.003200   \n",
       " 199                        287750.876566  287924.876566          -0.004496   \n",
       "\n",
       "                        CycPred_pred_chrV  DeepBend_pred_chrV  \\\n",
       "distance_to_nucleosome                                          \n",
       "-200                             0.018077            0.007170   \n",
       "-199                             0.028791            0.024466   \n",
       "-198                             0.035159            0.028496   \n",
       "-197                             0.032525            0.031124   \n",
       "-196                             0.023598            0.024173   \n",
       "...                                   ...                 ...   \n",
       " 195                             0.012708           -0.000016   \n",
       " 196                             0.011544           -0.002451   \n",
       " 197                             0.011141            0.001114   \n",
       " 198                             0.007599           -0.001607   \n",
       " 199                             0.002321           -0.002478   \n",
       "\n",
       "                        MIXBend_pred_chrV  \n",
       "distance_to_nucleosome                     \n",
       "-200                             0.014265  \n",
       "-199                             0.035153  \n",
       "-198                             0.037299  \n",
       "-197                             0.028284  \n",
       "-196                             0.021541  \n",
       "...                                   ...  \n",
       " 195                            -0.000761  \n",
       " 196                             0.000956  \n",
       " 197                             0.012111  \n",
       " 198                             0.014757  \n",
       " 199                             0.003760  \n",
       "\n",
       "[400 rows x 6 columns]"
      ]
     },
     "execution_count": 48,
     "metadata": {},
     "output_type": "execute_result"
    }
   ],
   "source": [
    "genome_df_chrV_dist_nuc_grouped"
   ]
  },
  {
   "cell_type": "code",
   "execution_count": null,
   "metadata": {},
   "outputs": [],
   "source": []
  },
  {
   "cell_type": "code",
   "execution_count": 49,
   "metadata": {},
   "outputs": [],
   "source": [
    "xlims=[-200, 200]\n",
    "ylims=[-0.1, 0.125]\n",
    "ylims2=[-0.4, 0.35]"
   ]
  },
  {
   "cell_type": "code",
   "execution_count": 50,
   "metadata": {},
   "outputs": [],
   "source": [
    "# plt.figure(figsize=(12,7))\n",
    "\n",
    "# plt.plot(genome_df_chrV_dist_nuc_grouped[\"C0_norm\"], label=\"Original C0 (normalized)\", alpha=alpha_val)\n",
    "# plt.vlines([-74, 73], ylims2[0], ylims2[1], color=\"red\", alpha=0.2, label=\"Outer Nucleosome endpoints\")\n",
    "# plt.vlines([-49, 48], ylims2[0], ylims2[1], color=\"red\", alpha=0.3, label=\"Inner Nucleosome endpoints\")\n",
    "# plt.vlines([i*10 for i in list(range(-20, 20))], ylims2[0], ylims2[1], alpha=0.1)\n",
    "# plt.legend()\n",
    "# plt.xlim(xlims)\n",
    "# plt.ylim(ylims2)\n",
    "# plt.show()"
   ]
  },
  {
   "cell_type": "code",
   "execution_count": 51,
   "metadata": {},
   "outputs": [],
   "source": [
    "# plt.figure(figsize=(12,7))\n",
    "\n",
    "# plt.plot(genome_df_chrV_dist_nuc_grouped[\"C26_norm\"], label=\"Original C26 (normalized)\", alpha=alpha_val)\n",
    "# plt.vlines([-74, 73], ylims2[0], ylims2[1], color=\"red\", alpha=0.2, label=\"Outer Nucleosome endpoints\")\n",
    "# plt.vlines([-49, 48], ylims2[0], ylims2[1], color=\"red\", alpha=0.3, label=\"Inner Nucleosome endpoints\")\n",
    "# plt.vlines([i*10 for i in list(range(-20, 20))], ylims2[0], ylims2[1], alpha=0.1)\n",
    "# plt.legend()\n",
    "# plt.xlim(xlims)\n",
    "# plt.ylim(ylims2)\n",
    "# plt.show()"
   ]
  },
  {
   "cell_type": "code",
   "execution_count": 52,
   "metadata": {},
   "outputs": [],
   "source": [
    "# plt.figure(figsize=(12,7))\n",
    "\n",
    "# plt.plot(genome_df_chrV_dist_nuc_grouped[\"C29_norm\"], label=\"Original C29 (normalized)\", alpha=alpha_val)\n",
    "# plt.vlines([-74, 73], ylims2[0], ylims2[1], color=\"red\", alpha=0.2, label=\"Outer Nucleosome endpoints\")\n",
    "# plt.vlines([-49, 48], ylims2[0], ylims2[1], color=\"red\", alpha=0.3, label=\"Inner Nucleosome endpoints\")\n",
    "# plt.vlines([i*10 for i in list(range(-20, 20))], ylims2[0], ylims2[1], alpha=0.1)\n",
    "# plt.legend()\n",
    "# plt.xlim(xlims)\n",
    "# plt.ylim(ylims2)\n",
    "# plt.show()"
   ]
  },
  {
   "cell_type": "code",
   "execution_count": 53,
   "metadata": {},
   "outputs": [],
   "source": [
    "# plt.figure(figsize=(12,7))\n",
    "\n",
    "# plt.plot(genome_df_chrV_dist_nuc_grouped[\"C31_norm\"], label=\"Original C31 (normalized)\", alpha=alpha_val)\n",
    "# plt.vlines([-74, 73], ylims2[0], ylims2[1], color=\"red\", alpha=0.2, label=\"Outer Nucleosome endpoints\")\n",
    "# plt.vlines([-49, 48], ylims2[0], ylims2[1], color=\"red\", alpha=0.3, label=\"Inner Nucleosome endpoints\")\n",
    "# plt.vlines([i*10 for i in list(range(-20, 20))], ylims2[0], ylims2[1], alpha=0.1)\n",
    "# plt.legend()\n",
    "# plt.xlim(xlims)\n",
    "# plt.ylim(ylims2)\n",
    "# plt.show()"
   ]
  },
  {
   "cell_type": "code",
   "execution_count": 54,
   "metadata": {},
   "outputs": [
    {
     "data": {
      "image/png": "[encoded data removed]",
      "text/plain": [
       "<Figure size 300x200 with 1 Axes>"
      ]
     },
     "metadata": {},
     "output_type": "display_data"
    }
   ],
   "source": [
    "plt.figure(figsize=(3,2))\n",
    "\n",
    "plt.plot(genome_df_chrV_dist_nuc_grouped[\"DNAcycP_pred_chrV\"], label=\"Predicted DNAcycP\")\n",
    "# plt.vlines([-74, 73], ylims[0], ylims[1], color=\"red\", alpha=0.2, label=\"Outer Nucleosome endpoints\")\n",
    "# plt.vlines([-49, 48], ylims[0], ylims[1], color=\"red\", alpha=0.3, label=\"Inner Nucleosome endpoints\")\n",
    "plt.vlines([i*10 for i in list(range(-20, 20))], ylims[0], ylims[1], alpha=0.1)\n",
    "# plt.legend()\n",
    "plt.xlim(xlims)\n",
    "plt.ylim(ylims)\n",
    "# plt.ylabel(\"Average Predicted C0\")\n",
    "# plt.xlabel(\"Position from +1 Dyad (bp)\")\n",
    "plt.show()"
   ]
  },
  {
   "cell_type": "code",
   "execution_count": 55,
   "metadata": {},
   "outputs": [
    {
     "data": {
      "image/png": "[encoded data removed]",
      "text/plain": [
       "<Figure size 300x200 with 1 Axes>"
      ]
     },
     "metadata": {},
     "output_type": "display_data"
    }
   ],
   "source": [
    "plt.figure(figsize=(3,2))\n",
    "\n",
    "plt.plot(genome_df_chrV_dist_nuc_grouped[\"CycPred_pred_chrV\"], label=\"Predicted CycPred\")\n",
    "# plt.vlines([-74, 73], ylims[0], ylims[1], color=\"red\", alpha=0.2, label=\"Outer Nucleosome endpoints\")\n",
    "# plt.vlines([-49, 48], ylims[0], ylims[1], color=\"red\", alpha=0.3, label=\"Inner Nucleosome endpoints\")\n",
    "plt.vlines([i*10 for i in list(range(-20, 20))], ylims[0], ylims[1], alpha=0.1)\n",
    "# plt.legend()\n",
    "plt.xlim(xlims)\n",
    "plt.ylim(ylims)\n",
    "# plt.ylabel(\"Average Predicted C0\")\n",
    "# plt.xlabel(\"Position from +1 Dyad (bp)\")\n",
    "plt.show()"
   ]
  },
  {
   "cell_type": "code",
   "execution_count": 56,
   "metadata": {},
   "outputs": [
    {
     "data": {
      "image/png": "[encoded data removed]",
      "text/plain": [
       "<Figure size 300x200 with 1 Axes>"
      ]
     },
     "metadata": {},
     "output_type": "display_data"
    }
   ],
   "source": [
    "plt.figure(figsize=(3,2))\n",
    "\n",
    "plt.plot(genome_df_chrV_dist_nuc_grouped[\"DeepBend_pred_chrV\"], label=\"Predicted DeepBend\")\n",
    "# plt.vlines([-74, 73], ylims[0], ylims[1], color=\"red\", alpha=0.2, label=\"Outer Nucleosome endpoints\")\n",
    "# plt.vlines([-49, 48], ylims[0], ylims[1], color=\"red\", alpha=0.3, label=\"Inner Nucleosome endpoints\")\n",
    "plt.vlines([i*10 for i in list(range(-20, 20))], ylims[0], ylims[1], alpha=0.1)\n",
    "# plt.legend()\n",
    "plt.xlim(xlims)\n",
    "plt.ylim(ylims)\n",
    "# plt.ylabel(\"Average Predicted C0\")\n",
    "# plt.xlabel(\"Position from +1 Dyad (bp)\")\n",
    "plt.show()"
   ]
  },
  {
   "cell_type": "code",
   "execution_count": 57,
   "metadata": {},
   "outputs": [
    {
     "data": {
      "image/png": "[encoded data removed]",
      "text/plain": [
       "<Figure size 300x200 with 1 Axes>"
      ]
     },
     "metadata": {},
     "output_type": "display_data"
    }
   ],
   "source": [
    "plt.figure(figsize=(3,2))\n",
    "\n",
    "plt.plot(genome_df_chrV_dist_nuc_grouped[\"MIXBend_pred_chrV\"], label=\"Predicted MIXBend\")\n",
    "# plt.vlines([-74, 73], ylims[0], ylims[1], color=\"red\", alpha=0.2, label=\"Outer Nucleosome endpoints\")\n",
    "# plt.vlines([-49, 48], ylims[0], ylims[1], color=\"red\", alpha=0.3, label=\"Inner Nucleosome endpoints\")\n",
    "plt.vlines([i*10 for i in list(range(-20, 20))], ylims[0], ylims[1], alpha=0.1)\n",
    "# plt.legend()\n",
    "plt.xlim(xlims)\n",
    "plt.ylim(ylims)\n",
    "# plt.ylabel(\"Average Predicted C0\")\n",
    "# plt.xlabel(\"Position from +1 Dyad (bp)\")\n",
    "plt.show()"
   ]
  },
  {
   "cell_type": "code",
   "execution_count": 128,
   "metadata": {},
   "outputs": [
    {
     "data": {
      "text/html": [
       "<div>\n",
       "<style scoped>\n",
       "    .dataframe tbody tr th:only-of-type {\n",
       "        vertical-align: middle;\n",
       "    }\n",
       "\n",
       "    .dataframe tbody tr th {\n",
       "        vertical-align: top;\n",
       "    }\n",
       "\n",
       "    .dataframe thead th {\n",
       "        text-align: right;\n",
       "    }\n",
       "</style>\n",
       "<table border=\"1\" class=\"dataframe\">\n",
       "  <thead>\n",
       "    <tr style=\"text-align: right;\">\n",
       "      <th></th>\n",
       "      <th>sequence</th>\n",
       "      <th>distance_to_nucleosome</th>\n",
       "      <th>chrID</th>\n",
       "      <th>nucleosome_center</th>\n",
       "      <th>position</th>\n",
       "      <th>DNAcycP_pred_chrV</th>\n",
       "      <th>CycPred_pred_chrV</th>\n",
       "      <th>DeepBend_pred_chrV</th>\n",
       "      <th>MIXBend_pred_chrV</th>\n",
       "    </tr>\n",
       "  </thead>\n",
       "  <tbody>\n",
       "    <tr>\n",
       "      <th>0</th>\n",
       "      <td>CCAAGCCCTGTTGTCTCTTACCCGGATGTTCAACCAAAAGCTACTT...</td>\n",
       "      <td>-200</td>\n",
       "      <td>chrV</td>\n",
       "      <td>233</td>\n",
       "      <td>8</td>\n",
       "      <td>-0.386275</td>\n",
       "      <td>-0.363096</td>\n",
       "      <td>-0.424451</td>\n",
       "      <td>-0.453112</td>\n",
       "    </tr>\n",
       "    <tr>\n",
       "      <th>1</th>\n",
       "      <td>CAAGCCCTGTTGTCTCTTACCCGGATGTTCAACCAAAAGCTACTTA...</td>\n",
       "      <td>-199</td>\n",
       "      <td>chrV</td>\n",
       "      <td>233</td>\n",
       "      <td>9</td>\n",
       "      <td>-0.573965</td>\n",
       "      <td>-0.554903</td>\n",
       "      <td>-0.509093</td>\n",
       "      <td>-0.642149</td>\n",
       "    </tr>\n",
       "    <tr>\n",
       "      <th>2</th>\n",
       "      <td>AAGCCCTGTTGTCTCTTACCCGGATGTTCAACCAAAAGCTACTTAC...</td>\n",
       "      <td>-198</td>\n",
       "      <td>chrV</td>\n",
       "      <td>233</td>\n",
       "      <td>10</td>\n",
       "      <td>-0.492815</td>\n",
       "      <td>-0.495360</td>\n",
       "      <td>-0.529277</td>\n",
       "      <td>-0.598248</td>\n",
       "    </tr>\n",
       "    <tr>\n",
       "      <th>3</th>\n",
       "      <td>AGCCCTGTTGTCTCTTACCCGGATGTTCAACCAAAAGCTACTTACT...</td>\n",
       "      <td>-197</td>\n",
       "      <td>chrV</td>\n",
       "      <td>233</td>\n",
       "      <td>11</td>\n",
       "      <td>-0.602573</td>\n",
       "      <td>-0.548045</td>\n",
       "      <td>-0.430238</td>\n",
       "      <td>-0.519217</td>\n",
       "    </tr>\n",
       "    <tr>\n",
       "      <th>4</th>\n",
       "      <td>GCCCTGTTGTCTCTTACCCGGATGTTCAACCAAAAGCTACTTACTA...</td>\n",
       "      <td>-196</td>\n",
       "      <td>chrV</td>\n",
       "      <td>233</td>\n",
       "      <td>12</td>\n",
       "      <td>-0.353106</td>\n",
       "      <td>-0.432139</td>\n",
       "      <td>-0.630460</td>\n",
       "      <td>-0.609683</td>\n",
       "    </tr>\n",
       "    <tr>\n",
       "      <th>...</th>\n",
       "      <td>...</td>\n",
       "      <td>...</td>\n",
       "      <td>...</td>\n",
       "      <td>...</td>\n",
       "      <td>...</td>\n",
       "      <td>...</td>\n",
       "      <td>...</td>\n",
       "      <td>...</td>\n",
       "      <td>...</td>\n",
       "    </tr>\n",
       "    <tr>\n",
       "      <th>1276795</th>\n",
       "      <td>AAGGTAGTAAGTAGCTTTTGGTTGAACATCCGGGTAAGAGACAACA...</td>\n",
       "      <td>195</td>\n",
       "      <td>chrV</td>\n",
       "      <td>576556</td>\n",
       "      <td>576726</td>\n",
       "      <td>-0.353106</td>\n",
       "      <td>-0.432139</td>\n",
       "      <td>-0.630460</td>\n",
       "      <td>-0.719221</td>\n",
       "    </tr>\n",
       "    <tr>\n",
       "      <th>1276796</th>\n",
       "      <td>AGGTAGTAAGTAGCTTTTGGTTGAACATCCGGGTAAGAGACAACAG...</td>\n",
       "      <td>196</td>\n",
       "      <td>chrV</td>\n",
       "      <td>576556</td>\n",
       "      <td>576727</td>\n",
       "      <td>-0.602573</td>\n",
       "      <td>-0.548045</td>\n",
       "      <td>-0.430238</td>\n",
       "      <td>-0.679871</td>\n",
       "    </tr>\n",
       "    <tr>\n",
       "      <th>1276797</th>\n",
       "      <td>GGTAGTAAGTAGCTTTTGGTTGAACATCCGGGTAAGAGACAACAGG...</td>\n",
       "      <td>197</td>\n",
       "      <td>chrV</td>\n",
       "      <td>576556</td>\n",
       "      <td>576728</td>\n",
       "      <td>-0.492815</td>\n",
       "      <td>-0.495360</td>\n",
       "      <td>-0.529277</td>\n",
       "      <td>-0.815994</td>\n",
       "    </tr>\n",
       "    <tr>\n",
       "      <th>1276798</th>\n",
       "      <td>GTAGTAAGTAGCTTTTGGTTGAACATCCGGGTAAGAGACAACAGGG...</td>\n",
       "      <td>198</td>\n",
       "      <td>chrV</td>\n",
       "      <td>576556</td>\n",
       "      <td>576729</td>\n",
       "      <td>-0.573965</td>\n",
       "      <td>-0.554903</td>\n",
       "      <td>-0.509093</td>\n",
       "      <td>-0.656764</td>\n",
       "    </tr>\n",
       "    <tr>\n",
       "      <th>1276799</th>\n",
       "      <td>TAGTAAGTAGCTTTTGGTTGAACATCCGGGTAAGAGACAACAGGGC...</td>\n",
       "      <td>199</td>\n",
       "      <td>chrV</td>\n",
       "      <td>576556</td>\n",
       "      <td>576730</td>\n",
       "      <td>-0.386275</td>\n",
       "      <td>-0.363096</td>\n",
       "      <td>-0.424451</td>\n",
       "      <td>-0.333544</td>\n",
       "    </tr>\n",
       "  </tbody>\n",
       "</table>\n",
       "<p>1276800 rows × 9 columns</p>\n",
       "</div>"
      ],
      "text/plain": [
       "                                                  sequence  \\\n",
       "0        CCAAGCCCTGTTGTCTCTTACCCGGATGTTCAACCAAAAGCTACTT...   \n",
       "1        CAAGCCCTGTTGTCTCTTACCCGGATGTTCAACCAAAAGCTACTTA...   \n",
       "2        AAGCCCTGTTGTCTCTTACCCGGATGTTCAACCAAAAGCTACTTAC...   \n",
       "3        AGCCCTGTTGTCTCTTACCCGGATGTTCAACCAAAAGCTACTTACT...   \n",
       "4        GCCCTGTTGTCTCTTACCCGGATGTTCAACCAAAAGCTACTTACTA...   \n",
       "...                                                    ...   \n",
       "1276795  AAGGTAGTAAGTAGCTTTTGGTTGAACATCCGGGTAAGAGACAACA...   \n",
       "1276796  AGGTAGTAAGTAGCTTTTGGTTGAACATCCGGGTAAGAGACAACAG...   \n",
       "1276797  GGTAGTAAGTAGCTTTTGGTTGAACATCCGGGTAAGAGACAACAGG...   \n",
       "1276798  GTAGTAAGTAGCTTTTGGTTGAACATCCGGGTAAGAGACAACAGGG...   \n",
       "1276799  TAGTAAGTAGCTTTTGGTTGAACATCCGGGTAAGAGACAACAGGGC...   \n",
       "\n",
       "         distance_to_nucleosome chrID  nucleosome_center  position  \\\n",
       "0                          -200  chrV                233         8   \n",
       "1                          -199  chrV                233         9   \n",
       "2                          -198  chrV                233        10   \n",
       "3                          -197  chrV                233        11   \n",
       "4                          -196  chrV                233        12   \n",
       "...                         ...   ...                ...       ...   \n",
       "1276795                     195  chrV             576556    576726   \n",
       "1276796                     196  chrV             576556    576727   \n",
       "1276797                     197  chrV             576556    576728   \n",
       "1276798                     198  chrV             576556    576729   \n",
       "1276799                     199  chrV             576556    576730   \n",
       "\n",
       "         DNAcycP_pred_chrV  CycPred_pred_chrV  DeepBend_pred_chrV  \\\n",
       "0                -0.386275          -0.363096           -0.424451   \n",
       "1                -0.573965          -0.554903           -0.509093   \n",
       "2                -0.492815          -0.495360           -0.529277   \n",
       "3                -0.602573          -0.548045           -0.430238   \n",
       "4                -0.353106          -0.432139           -0.630460   \n",
       "...                    ...                ...                 ...   \n",
       "1276795          -0.353106          -0.432139           -0.630460   \n",
       "1276796          -0.602573          -0.548045           -0.430238   \n",
       "1276797          -0.492815          -0.495360           -0.529277   \n",
       "1276798          -0.573965          -0.554903           -0.509093   \n",
       "1276799          -0.386275          -0.363096           -0.424451   \n",
       "\n",
       "         MIXBend_pred_chrV  \n",
       "0                -0.453112  \n",
       "1                -0.642149  \n",
       "2                -0.598248  \n",
       "3                -0.519217  \n",
       "4                -0.609683  \n",
       "...                    ...  \n",
       "1276795          -0.719221  \n",
       "1276796          -0.679871  \n",
       "1276797          -0.815994  \n",
       "1276798          -0.656764  \n",
       "1276799          -0.333544  \n",
       "\n",
       "[1276800 rows x 9 columns]"
      ]
     },
     "execution_count": 128,
     "metadata": {},
     "output_type": "execute_result"
    }
   ],
   "source": [
    "genome_df_chrV"
   ]
  },
  {
   "cell_type": "code",
   "execution_count": null,
   "metadata": {},
   "outputs": [],
   "source": []
  },
  {
   "cell_type": "code",
   "execution_count": null,
   "metadata": {},
   "outputs": [],
   "source": []
  }
 ],
 "metadata": {
  "kernelspec": {
   "display_name": ".venv",
   "language": "python",
   "name": "python3"
  },
  "language_info": {
   "codemirror_mode": {
    "name": "ipython",
    "version": 3
   },
   "file_extension": ".py",
   "mimetype": "text/x-python",
   "name": "python",
   "nbconvert_exporter": "python",
   "pygments_lexer": "ipython3",
   "version": "3.11.0"
  }
 },
 "nbformat": 4,
 "nbformat_minor": 2
}
