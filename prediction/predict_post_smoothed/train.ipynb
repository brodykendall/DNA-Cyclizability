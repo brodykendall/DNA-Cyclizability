{
 "cells": [
  {
   "cell_type": "code",
   "execution_count": 1,
   "metadata": {},
   "outputs": [],
   "source": [
    "%load_ext autoreload\n",
    "%autoreload 2"
   ]
  },
  {
   "cell_type": "code",
   "execution_count": 2,
   "metadata": {},
   "outputs": [],
   "source": [
    "from train import *\n",
    "from datasets import *\n",
    "import sys"
   ]
  },
  {
   "cell_type": "code",
   "execution_count": 3,
   "metadata": {},
   "outputs": [],
   "source": [
    "hyperparameters = {\"conv_hidden_channels\":64, \"mlp_hidden_channels\":256, \"num_epochs\":200, \"learning_rate\":0.0001, \"batch_size\":32,\n",
    "                   \"mlp_num_layers\":2, \"edge_lengths\":[[1,2],[3]], \"kernel_length\":3,\n",
    "                   \"max_time\":8*60*60, \"conv_dropout\": 0.2, \"mlp_dropout\": 0.2}"
   ]
  },
  {
   "cell_type": "code",
   "execution_count": 4,
   "metadata": {},
   "outputs": [],
   "source": [
    "tiling_data = DNASeqDataset(src_file=\"~/Dropbox/Northwestern/DNA_Cyclizability/cycle5.txt\", \n",
    "                            edge_lengths=hyperparameters[\"edge_lengths\"], kernel_length=hyperparameters[\"kernel_length\"])\n",
    "random_data = DNASeqDataset(src_file=\"~/Dropbox/Northwestern/DNA_Cyclizability/cycle3.txt\", \n",
    "                            edge_lengths=hyperparameters[\"edge_lengths\"], kernel_length=hyperparameters[\"kernel_length\"])"
   ]
  },
  {
   "cell_type": "code",
   "execution_count": 5,
   "metadata": {},
   "outputs": [],
   "source": [
    "logging_info = {\"print_every\":1, \"folder_path\":\"/Users/Brody1/Dropbox/Northwestern/DNA_Cyclizability/benchmarks/cnns/\",\n",
    "                \"file_name\": \"in_notebook\"}"
   ]
  },
  {
   "cell_type": "code",
   "execution_count": 8,
   "metadata": {},
   "outputs": [
    {
     "name": "stdout",
     "output_type": "stream",
     "text": [
      "End of epoch: 0. Total run time: 183 seconds\n",
      "\t Train loss: 0.2134881587648401\n"
     ]
    },
    {
     "name": "stderr",
     "output_type": "stream",
     "text": [
      "[W NNPACK.cpp:64] Could not initialize NNPACK! Reason: Unsupported hardware.\n"
     ]
    },
    {
     "name": "stdout",
     "output_type": "stream",
     "text": [
      "\t Randomly selected predicted value: tensor([[-0.4367]]), true value: tensor([[0.2827]])\n",
      "\t Randomly selected predicted value: tensor([[-0.4124]]), true value: tensor([[0.2371]])\n",
      "\t Randomly selected predicted value: tensor([[-0.2608]]), true value: tensor([[-0.2163]])\n",
      "\t Randomly selected predicted value: tensor([[0.1723]]), true value: tensor([[0.0798]])\n",
      "\t Randomly selected predicted value: tensor([[0.0967]]), true value: tensor([[0.0791]])\n",
      "\t Randomly selected predicted value: tensor([[-0.4600]]), true value: tensor([[0.0409]])\n",
      "\t Validation loss: 0.1287365226238026\n",
      "\t Validation Correlation: 0.5167411878529191\n",
      "End of epoch: 1. Total run time: 395 seconds\n",
      "\t Train loss: 0.16636880537279372\n",
      "\t Randomly selected predicted value: tensor([[-0.0034]]), true value: tensor([[-0.0054]])\n",
      "\t Randomly selected predicted value: tensor([[-0.3991]]), true value: tensor([[-0.5307]])\n",
      "\t Validation loss: 0.1059204261412047\n",
      "\t Validation Correlation: 0.5580304442541995\n",
      "End of epoch: 2. Total run time: 618 seconds\n",
      "\t Train loss: 0.13921642336754161\n",
      "\t Randomly selected predicted value: tensor([[-0.1377]]), true value: tensor([[-0.4711]])\n",
      "\t Randomly selected predicted value: tensor([[-0.2446]]), true value: tensor([[-0.2955]])\n",
      "\t Randomly selected predicted value: tensor([[0.2010]]), true value: tensor([[0.3161]])\n",
      "\t Validation loss: 0.090892975246336\n",
      "\t Validation Correlation: 0.6203986463472446\n",
      "End of epoch: 3. Total run time: 847 seconds\n",
      "\t Train loss: 0.11315144784024916\n",
      "\t Randomly selected predicted value: tensor([[-0.0734]]), true value: tensor([[-0.3847]])\n",
      "\t Randomly selected predicted value: tensor([[-0.2566]]), true value: tensor([[-0.1981]])\n",
      "\t Randomly selected predicted value: tensor([[-0.4054]]), true value: tensor([[-0.4408]])\n",
      "\t Randomly selected predicted value: tensor([[-0.1487]]), true value: tensor([[-0.0335]])\n",
      "\t Randomly selected predicted value: tensor([[-0.4548]]), true value: tensor([[-0.3818]])\n",
      "\t Validation loss: 0.08343877508427287\n",
      "\t Validation Correlation: 0.6579792736675052\n",
      "End of epoch: 4. Total run time: 1121 seconds\n",
      "\t Train loss: 0.09481973940450134\n",
      "\t Randomly selected predicted value: tensor([[0.1211]]), true value: tensor([[-0.6192]])\n",
      "\t Randomly selected predicted value: tensor([[-0.2899]]), true value: tensor([[-0.2861]])\n",
      "\t Randomly selected predicted value: tensor([[-0.5069]]), true value: tensor([[0.0499]])\n",
      "\t Randomly selected predicted value: tensor([[0.0590]]), true value: tensor([[0.8600]])\n",
      "\t Validation loss: 0.0788882952599395\n",
      "\t Validation Correlation: 0.6856641182811928\n",
      "End of epoch: 5. Total run time: 1339 seconds\n",
      "\t Train loss: 0.08159518722740017\n",
      "\t Randomly selected predicted value: tensor([[-0.2129]]), true value: tensor([[-0.3908]])\n",
      "\t Randomly selected predicted value: tensor([[0.0669]]), true value: tensor([[-0.1035]])\n",
      "\t Randomly selected predicted value: tensor([[0.4368]]), true value: tensor([[0.7151]])\n",
      "\t Randomly selected predicted value: tensor([[-0.2241]]), true value: tensor([[-0.1886]])\n",
      "\t Randomly selected predicted value: tensor([[-0.6045]]), true value: tensor([[0.2722]])\n",
      "\t Randomly selected predicted value: tensor([[-0.2349]]), true value: tensor([[-0.5665]])\n",
      "\t Randomly selected predicted value: tensor([[-0.3551]]), true value: tensor([[-0.4807]])\n",
      "\t Validation loss: 0.07657022880092816\n",
      "\t Validation Correlation: 0.6920612433117674\n",
      "End of epoch: 6. Total run time: 1624 seconds\n",
      "\t Train loss: 0.0714856861151969\n",
      "\t Randomly selected predicted value: tensor([[0.1931]]), true value: tensor([[0.5823]])\n",
      "\t Randomly selected predicted value: tensor([[-0.4459]]), true value: tensor([[-0.1178]])\n",
      "\t Randomly selected predicted value: tensor([[-0.2870]]), true value: tensor([[0.0055]])\n",
      "\t Validation loss: 0.07311121135737625\n",
      "\t Validation Correlation: 0.703351516126648\n",
      "End of epoch: 7. Total run time: 1958 seconds\n",
      "\t Train loss: 0.06309840572084696\n",
      "\t Randomly selected predicted value: tensor([[-0.1042]]), true value: tensor([[0.1219]])\n",
      "\t Randomly selected predicted value: tensor([[0.0058]]), true value: tensor([[-0.4117]])\n",
      "\t Validation loss: 0.07386792357890637\n",
      "\t Validation Correlation: 0.7058861635740477\n",
      "End of epoch: 8. Total run time: 2308 seconds\n",
      "\t Train loss: 0.0555736501603485\n",
      "\t Randomly selected predicted value: tensor([[-0.3823]]), true value: tensor([[-0.8232]])\n",
      "\t Randomly selected predicted value: tensor([[-0.4179]]), true value: tensor([[-0.3492]])\n",
      "\t Randomly selected predicted value: tensor([[-0.2451]]), true value: tensor([[0.0847]])\n",
      "\t Randomly selected predicted value: tensor([[-0.2479]]), true value: tensor([[-0.1789]])\n",
      "\t Randomly selected predicted value: tensor([[-0.4714]]), true value: tensor([[-0.3008]])\n",
      "\t Validation loss: 0.07672641074887819\n",
      "\t Validation Correlation: 0.6988588866516453\n",
      "End of epoch: 9. Total run time: 2670 seconds\n",
      "\t Train loss: 0.04974594710448289\n",
      "\t Randomly selected predicted value: tensor([[-0.3148]]), true value: tensor([[-0.5274]])\n",
      "\t Randomly selected predicted value: tensor([[-0.4793]]), true value: tensor([[-0.3498]])\n",
      "\t Randomly selected predicted value: tensor([[-0.6507]]), true value: tensor([[-0.9157]])\n",
      "\t Randomly selected predicted value: tensor([[-0.5106]]), true value: tensor([[-0.2678]])\n",
      "\t Randomly selected predicted value: tensor([[-0.0148]]), true value: tensor([[-0.1731]])\n",
      "\t Randomly selected predicted value: tensor([[-0.2894]]), true value: tensor([[-0.3155]])\n",
      "\t Randomly selected predicted value: tensor([[-0.0928]]), true value: tensor([[-0.0771]])\n",
      "\t Validation loss: 0.07607343423290297\n",
      "\t Validation Correlation: 0.698469873734454\n",
      "End of epoch: 10. Total run time: 3041 seconds\n",
      "\t Train loss: 0.04494479462025338\n",
      "\t Randomly selected predicted value: tensor([[-0.0855]]), true value: tensor([[-0.5017]])\n",
      "\t Randomly selected predicted value: tensor([[0.0376]]), true value: tensor([[0.1645]])\n",
      "\t Randomly selected predicted value: tensor([[-0.2628]]), true value: tensor([[-0.4155]])\n",
      "\t Randomly selected predicted value: tensor([[-0.4593]]), true value: tensor([[-0.1076]])\n",
      "\t Randomly selected predicted value: tensor([[-0.2016]]), true value: tensor([[0.0694]])\n",
      "\t Randomly selected predicted value: tensor([[-0.0509]]), true value: tensor([[0.4028]])\n",
      "\t Validation loss: 0.07649933693869335\n",
      "\t Validation Correlation: 0.6957542478257378\n",
      "End of epoch: 11. Total run time: 3415 seconds\n",
      "\t Train loss: 0.041249944520180735\n",
      "\t Randomly selected predicted value: tensor([[-0.1498]]), true value: tensor([[0.0155]])\n",
      "\t Randomly selected predicted value: tensor([[-0.2813]]), true value: tensor([[-0.2230]])\n",
      "\t Randomly selected predicted value: tensor([[-0.2189]]), true value: tensor([[-0.0107]])\n",
      "\t Randomly selected predicted value: tensor([[0.2834]]), true value: tensor([[0.2102]])\n",
      "\t Randomly selected predicted value: tensor([[-0.5595]]), true value: tensor([[0.0053]])\n",
      "\t Validation loss: 0.07706689932538845\n",
      "\t Validation Correlation: 0.699668214370269\n",
      "End of epoch: 12. Total run time: 3799 seconds\n",
      "\t Train loss: 0.03775732506286547\n",
      "\t Randomly selected predicted value: tensor([[0.1496]]), true value: tensor([[-0.1543]])\n",
      "\t Randomly selected predicted value: tensor([[-0.2747]]), true value: tensor([[-0.3786]])\n",
      "\t Randomly selected predicted value: tensor([[0.4142]]), true value: tensor([[0.0993]])\n",
      "\t Randomly selected predicted value: tensor([[0.4840]]), true value: tensor([[0.6235]])\n",
      "\t Randomly selected predicted value: tensor([[-0.4691]]), true value: tensor([[-0.3515]])\n",
      "\t Validation loss: 0.07577835695944705\n",
      "\t Validation Correlation: 0.7026319085503732\n",
      "Epoch 00013: reducing learning rate of group 0 to 1.0000e-05.\n",
      "End of epoch: 13. Total run time: 4193 seconds\n",
      "\t Train loss: 0.028035795071872174\n",
      "\t Randomly selected predicted value: tensor([[0.2211]]), true value: tensor([[0.1921]])\n",
      "\t Randomly selected predicted value: tensor([[-0.1135]]), true value: tensor([[-0.2222]])\n",
      "\t Validation loss: 0.07515596293708332\n",
      "\t Validation Correlation: 0.7060981283804186\n",
      "End of epoch: 14. Total run time: 4782 seconds\n",
      "\t Train loss: 0.024890399105244813\n",
      "\t Randomly selected predicted value: tensor([[-0.4011]]), true value: tensor([[-0.5108]])\n",
      "\t Randomly selected predicted value: tensor([[-0.2576]]), true value: tensor([[-0.5144]])\n",
      "\t Randomly selected predicted value: tensor([[-0.4557]]), true value: tensor([[-0.5023]])\n",
      "\t Randomly selected predicted value: tensor([[-0.0572]]), true value: tensor([[0.3198]])\n",
      "\t Randomly selected predicted value: tensor([[-0.3487]]), true value: tensor([[-0.0943]])\n",
      "\t Randomly selected predicted value: tensor([[-0.4336]]), true value: tensor([[-0.5098]])\n",
      "\t Randomly selected predicted value: tensor([[-0.3541]]), true value: tensor([[-0.3988]])\n",
      "\t Randomly selected predicted value: tensor([[-0.4336]]), true value: tensor([[-0.2930]])\n",
      "\t Randomly selected predicted value: tensor([[-0.4685]]), true value: tensor([[-0.6913]])\n",
      "\t Validation loss: 0.07523451337498786\n",
      "\t Validation Correlation: 0.705045328457451\n",
      "End of epoch: 15. Total run time: 7434 seconds\n",
      "\t Train loss: 0.02335379078149182\n",
      "\t Randomly selected predicted value: tensor([[-0.4107]]), true value: tensor([[-0.4462]])\n",
      "\t Randomly selected predicted value: tensor([[-0.0193]]), true value: tensor([[-0.0456]])\n",
      "\t Validation loss: 0.07619239402899114\n",
      "\t Validation Correlation: 0.7039444540933284\n",
      "End of epoch: 16. Total run time: 7735 seconds\n",
      "\t Train loss: 0.022244559609813856\n",
      "\t Randomly selected predicted value: tensor([[-0.0913]]), true value: tensor([[0.0918]])\n",
      "\t Randomly selected predicted value: tensor([[-0.1537]]), true value: tensor([[-0.3417]])\n",
      "\t Randomly selected predicted value: tensor([[0.2218]]), true value: tensor([[0.3120]])\n",
      "\t Randomly selected predicted value: tensor([[-0.5266]]), true value: tensor([[-0.3856]])\n",
      "\t Randomly selected predicted value: tensor([[0.1038]]), true value: tensor([[-0.4938]])\n",
      "\t Randomly selected predicted value: tensor([[0.2852]]), true value: tensor([[0.2686]])\n",
      "\t Randomly selected predicted value: tensor([[-0.1304]]), true value: tensor([[0.3663]])\n",
      "\t Validation loss: 0.07602186961117331\n",
      "\t Validation Correlation: 0.704536505646052\n",
      "Model has not improved over the last 10 epochs. Stopping early.\n"
     ]
    }
   ],
   "source": [
    "model, train_loss, val_loss, val_corr = train(tiling_data, hyperparameters=hyperparameters, \n",
    "                                                  logging_info=logging_info, \n",
    "                                                  model_name=\"ConvSeparateEdgeLengthsWithMLPs\", \n",
    "                                                  val_data=random_data, plot_0_val=False)"
   ]
  },
  {
   "cell_type": "code",
   "execution_count": null,
   "metadata": {},
   "outputs": [],
   "source": [
    "48+(kernel_length)*(edge_length+1)"
   ]
  },
  {
   "cell_type": "code",
   "execution_count": 9,
   "metadata": {},
   "outputs": [
    {
     "data": {
      "text/plain": [
       "52"
      ]
     },
     "execution_count": 9,
     "metadata": {},
     "output_type": "execute_result"
    }
   ],
   "source": [
    "48+(2)*2"
   ]
  }
 ],
 "metadata": {
  "kernelspec": {
   "display_name": "gnns",
   "language": "python",
   "name": "python3"
  },
  "language_info": {
   "codemirror_mode": {
    "name": "ipython",
    "version": 3
   },
   "file_extension": ".py",
   "mimetype": "text/x-python",
   "name": "python",
   "nbconvert_exporter": "python",
   "pygments_lexer": "ipython3",
   "version": "3.11.5"
  },
  "orig_nbformat": 4
 },
 "nbformat": 4,
 "nbformat_minor": 2
}
