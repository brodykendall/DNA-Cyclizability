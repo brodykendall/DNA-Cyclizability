{
 "cells": [
  {
   "cell_type": "code",
   "execution_count": 3,
   "metadata": {},
   "outputs": [],
   "source": [
    "import keras\n",
    "import pandas as pd\n",
    "import numpy as np\n",
    "from numpy import array"
   ]
  },
  {
   "cell_type": "code",
   "execution_count": 4,
   "metadata": {},
   "outputs": [],
   "source": [
    "def dnaOneHot(sequence):\n",
    "    seq_array = array(list(sequence))\n",
    "    code = {\"A\": [0], \"C\": [1], \"G\": [2], \"T\": [3], \"N\": [4],\n",
    "            \"a\": [0], \"c\": [1], \"g\": [2], \"t\": [3], \"n\": [4]}\n",
    "    onehot_encoded_seq = []\n",
    "    for char in seq_array:\n",
    "        onehot_encoded = np.zeros(5)\n",
    "        onehot_encoded[code[char]] = 1\n",
    "        onehot_encoded_seq.append(onehot_encoded[0:4])\n",
    "    return onehot_encoded_seq"
   ]
  },
  {
   "cell_type": "code",
   "execution_count": 5,
   "metadata": {},
   "outputs": [],
   "source": [
    "def find_c0(dat, aa):\n",
    "  mat = np.empty((3,3), float)\n",
    "  k = 2*np.pi/10.4\n",
    "  n = array([26, 29, 31])\n",
    "  mat[0:3, 0] = 1\n",
    "  mat[0:3, 1] = np.sin(n*k)\n",
    "  mat[0:3, 2] = np.cos(n*k)\n",
    "  mat[0, 1:3] = mat[0, 1:3]*aa[0]\n",
    "  mat[1, 1:3] = mat[1, 1:3]*aa[1]\n",
    "  mat[2, 1:3] = mat[2, 1:3]*aa[2]\n",
    "  inv_mat = np.linalg.inv(mat)\n",
    "  c0A1A2 = array(np.matmul(dat[[\"n=26\", \"n=29\", \"n=31\"]], np.transpose(inv_mat))).astype(float)\n",
    "  c0Aphi = c0A1A2\n",
    "  c0Aphi[:,0] = c0A1A2[:,0]\n",
    "  c0Aphi[:,1] = np.sqrt(c0A1A2[:,1]**2 + c0A1A2[:,2]**2)\n",
    "  c0Aphi[:,2] <- np.sign(c0A1A2[:,2]) * np.arccos(c0A1A2[:,1]/c0Aphi[:,1])\n",
    "  return c0Aphi[:,0]"
   ]
  },
  {
   "cell_type": "code",
   "execution_count": 6,
   "metadata": {},
   "outputs": [],
   "source": [
    "# INPUTS:\n",
    "\n",
    "data_folder_path = \"/Users/Brody1/Dropbox/Northwestern/DNA_Cyclizability/\"\n",
    "# data_folder_path = \"/Users/Brody1/Dropbox/Northwestern/DNA_Cyclizability/data/Created/\"\n",
    "\n",
    "training_data_name = \"tiling\"\n",
    "# training_data_name = \"random\"\n",
    "# training_data_name = \"chrv\"\n",
    "# training_data_name = \"CN\"\n",
    "\n",
    "# data_name = \"cycle1\" #txt\n",
    "# data_name = \"cycle3\" #txt\n",
    "data_name = \"cycle5\" #txt\n",
    "# data_name = \"cycle6\" #txt\n",
    "# data_name = \"yeast_chrI_1bpresolution_subsequence50\" # csv\n",
    "# data_name = \"yeast_chrII_1bpresolution_subsequence50\" # csv\n",
    "# data_name = \"yeast_chrIII_1bpresolution_subsequence50\" # csv\n",
    "# data_name = \"yeast_chrIV_1bpresolution_subsequence50\" # csv\n",
    "# data_name = \"yeast_chrV_1bpresolution_subsequence50\" # csv\n",
    "# data_name = \"yeast_chrVI_1bpresolution_subsequence50\" # csv\n",
    "# data_name = \"yeast_chrVII_1bpresolution_subsequence50\" # csv\n",
    "# data_name = \"yeast_chrVIII_1bpresolution_subsequence50\" # csv\n",
    "# data_name = \"yeast_chrIX_1bpresolution_subsequence50\" # csv\n",
    "# data_name = \"yeast_chrX_1bpresolution_subsequence50\" # csv\n",
    "# data_name = \"yeast_chrXI_1bpresolution_subsequence50\" # csv\n",
    "# data_name = \"yeast_chrXII_1bpresolution_subsequence50\" # csv\n",
    "# data_name = \"yeast_chrXIII_1bpresolution_subsequence50\" # csv\n",
    "# data_name = \"yeast_chrXIV_1bpresolution_subsequence50\" # csv\n",
    "# data_name = \"yeast_chrXV_1bpresolution_subsequence50\" # csv\n",
    "# data_name = \"yeast_chrXVI_1bpresolution_subsequence50\" # csv\n",
    "# data_name = \"tiling_full_reconstructed\" # csv\n",
    "# data_name = \"context_library\"\n",
    "# data_name = \"expanded_random_library\"\n",
    "# data_name = \"expanded_random_library2\"\n",
    "\n",
    "data_file_type = \".txt\"\n",
    "# data_file_type = \".csv\"\n",
    "\n",
    "sequence_column_name = \"Sequence\"\n",
    "# sequence_column_name = \"sequence\"\n",
    "\n",
    "cn_target = True\n",
    "# cn_target = False\n",
    "# use_cycle6_values = False\n",
    "# use_cycle6_values = True\n",
    "# c26_target_column_name = \"n=26\"\n",
    "# c29_target_column_name = \"n=29\"\n",
    "# c31_target_column_name = \"n=31\"\n",
    "c26_target_column_name = \"C26\"\n",
    "c29_target_column_name = \"C29\"\n",
    "c31_target_column_name = \"C31\"\n",
    "\n",
    "c0_target=True\n",
    "# c0_target=False\n",
    "c0_target_column_name = \"C0\"\n",
    "# c0_target_column_name = \"C0_orig\"\n",
    "\n",
    "# aa = [1, 1/0.82, 1/0.7]\n",
    "# aa = [1, 1, 1]"
   ]
  },
  {
   "cell_type": "code",
   "execution_count": 7,
   "metadata": {},
   "outputs": [],
   "source": [
    "df = pd.read_csv(f\"{data_folder_path}{data_name}{data_file_type}\")"
   ]
  },
  {
   "cell_type": "code",
   "execution_count": 8,
   "metadata": {},
   "outputs": [
    {
     "name": "stdout",
     "output_type": "stream",
     "text": [
      "-0.1702373294847514 0.5761561889426974\n",
      "-0.1730189136679293 0.5889335849536195\n",
      "-0.20523567238490675 0.6526103123263609\n"
     ]
    }
   ],
   "source": [
    "print(df[\"n=26\"].mean(), df[\"n=26\"].std())\n",
    "print(df[\"n=29\"].mean(), df[\"n=29\"].std())\n",
    "print(df[\"n=31\"].mean(), df[\"n=31\"].std())"
   ]
  },
  {
   "cell_type": "code",
   "execution_count": 40,
   "metadata": {},
   "outputs": [],
   "source": [
    "if cn_target:\n",
    "    c26_target = df[c26_target_column_name]\n",
    "    c29_target = df[c29_target_column_name]\n",
    "    c31_target = df[c31_target_column_name]\n",
    "\n",
    "    # c26_mean = c26_target.mean()\n",
    "    # c26_std = c26_target.std()\n",
    "    # c29_mean = c29_target.mean()\n",
    "    # c29_std = c29_target.std()\n",
    "    # c31_mean = c31_target.mean()\n",
    "    # c31_std = c31_target.std()\n",
    "# else:\n",
    "#     if use_cycle6_values: \n",
    "#         c26_mean = -0.16768286628076307\n",
    "#         c26_std = 0.6836696740389017\n",
    "#         c29_mean = -0.19501344149555846\n",
    "#         c29_std = 0.7229153575963156\n",
    "#         c31_mean = -0.18911509983738653\n",
    "#         c31_std = 0.6997697090882925\n",
    "#     else:\n",
    "#         raise NotImplemented(\"Need to implement a default a mean/stdev\")"
   ]
  },
  {
   "cell_type": "code",
   "execution_count": 41,
   "metadata": {},
   "outputs": [],
   "source": [
    "if c0_target:\n",
    "    c0_target = df[c0_target_column_name]"
   ]
  },
  {
   "cell_type": "code",
   "execution_count": 42,
   "metadata": {},
   "outputs": [],
   "source": [
    "X = []\n",
    "for sequence_nt in df[sequence_column_name]:\n",
    "    X.append(dnaOneHot(sequence_nt))\n",
    "X = array(X)\n",
    "X = X.reshape((X.shape[0],50,4,1))"
   ]
  },
  {
   "cell_type": "code",
   "execution_count": 43,
   "metadata": {},
   "outputs": [],
   "source": [
    "# X_reverse = np.flip(X, 1)\n",
    "# X_comp = np.flip(X, 2)\n",
    "X_rev_comp = np.flip(X,[1,2])"
   ]
  },
  {
   "cell_type": "code",
   "execution_count": 44,
   "metadata": {},
   "outputs": [
    {
     "name": "stdout",
     "output_type": "stream",
     "text": [
      "19486/19486 [==============================] - 47s 2ms/step\n",
      "19486/19486 [==============================] - 49s 3ms/step\n",
      "19486/19486 [==============================] - 62s 3ms/step\n",
      "19486/19486 [==============================] - 51s 3ms/step\n",
      "19486/19486 [==============================] - 59s 3ms/step\n",
      "19486/19486 [==============================] - 85s 4ms/step\n",
      "19486/19486 [==============================] - 68s 3ms/step\n",
      "19486/19486 [==============================] - 73s 4ms/step\n",
      "19486/19486 [==============================] - 56s 3ms/step\n",
      "19486/19486 [==============================] - 77s 4ms/step\n",
      "19486/19486 [==============================] - 97s 5ms/step\n",
      "19486/19486 [==============================] - 106s 5ms/step\n",
      "19486/19486 [==============================] - 110s 6ms/step\n",
      "19486/19486 [==============================] - 52s 3ms/step\n",
      "19486/19486 [==============================] - 43s 2ms/step\n",
      "19486/19486 [==============================] - 48s 2ms/step\n",
      "19486/19486 [==============================] - 56s 3ms/step\n",
      "19486/19486 [==============================] - 42s 2ms/step\n",
      "19486/19486 [==============================] - 44s 2ms/step\n",
      "19486/19486 [==============================] - 41s 2ms/step\n"
     ]
    }
   ],
   "source": [
    "# C26:\n",
    "c26_predictions = np.zeros([X.shape[0], 10])\n",
    "# c26_reverse_predictions = np.zeros([X.shape[0], 10])\n",
    "# c26_comp_predictions = np.zeros([X.shape[0], 10])\n",
    "c26_rev_comp_predictions = np.zeros([X.shape[0], 10])\n",
    "for i in range(1,11):\n",
    "    cur_model = keras.models.load_model(f\"/Users/Brody1/Dropbox/Northwestern/DNA_Cyclizability/benchmarks/ir_lstm_c26_{training_data_name}_{i}.h5\")\n",
    "    cur_model_pred_norm = cur_model.predict(X)\n",
    "    # cur_model_pred_norm_reverse = cur_model.predict(X_reverse)\n",
    "    # cur_model_pred_norm_comp = cur_model.predict(X_comp)\n",
    "    cur_model_pred_norm_rev_comp = cur_model.predict(X_rev_comp)\n",
    "    # cur_model_pred = cur_model_pred_norm*c26_std + c26_mean\n",
    "    # c26_predictions[:,i-1] = cur_model_pred.flatten()\n",
    "    c26_predictions[:,i-1] = cur_model_pred_norm.flatten()\n",
    "    # c26_reverse_predictions[:,i-1] = cur_model_pred_norm_reverse.flatten()\n",
    "    # c26_comp_predictions[:,i-1] = cur_model_pred_norm_comp.flatten()\n",
    "    c26_rev_comp_predictions[:,i-1] = cur_model_pred_norm_rev_comp.flatten()"
   ]
  },
  {
   "cell_type": "code",
   "execution_count": 45,
   "metadata": {},
   "outputs": [],
   "source": [
    "c26_avg_predictions = np.mean(c26_predictions, axis=1)\n",
    "# c26_avg_reverse_predictions = np.mean(c26_reverse_predictions, axis=1)\n",
    "# c26_avg_comp_predictions = np.mean(c26_comp_predictions, axis=1)\n",
    "c26_avg_rev_comp_predictions = np.mean(c26_rev_comp_predictions, axis=1)"
   ]
  },
  {
   "cell_type": "code",
   "execution_count": 46,
   "metadata": {},
   "outputs": [
    {
     "name": "stdout",
     "output_type": "stream",
     "text": [
      "19486/19486 [==============================] - 39s 2ms/step\n",
      "19486/19486 [==============================] - 40s 2ms/step\n",
      "19486/19486 [==============================] - 40s 2ms/step\n",
      "19486/19486 [==============================] - 52s 3ms/step\n",
      "19486/19486 [==============================] - 48s 2ms/step\n",
      "19486/19486 [==============================] - 56s 3ms/step\n",
      "19486/19486 [==============================] - 65s 3ms/step\n",
      "19486/19486 [==============================] - 98s 5ms/step\n",
      "19486/19486 [==============================] - 86s 4ms/step\n",
      "19486/19486 [==============================] - 65s 3ms/step\n",
      "19486/19486 [==============================] - 89s 5ms/step\n",
      "19486/19486 [==============================] - 103s 5ms/step\n",
      "19486/19486 [==============================] - 46s 2ms/step\n",
      "19486/19486 [==============================] - 39s 2ms/step\n",
      "19486/19486 [==============================] - 43s 2ms/step\n",
      "19486/19486 [==============================] - 41s 2ms/step\n",
      "19486/19486 [==============================] - 42s 2ms/step\n",
      "19486/19486 [==============================] - 41s 2ms/step\n",
      "19486/19486 [==============================] - 46s 2ms/step\n",
      "19486/19486 [==============================] - 80s 4ms/step\n"
     ]
    }
   ],
   "source": [
    "# C29:\n",
    "c29_predictions = np.zeros([X.shape[0], 10])\n",
    "# c29_reverse_predictions = np.zeros([X.shape[0], 10])\n",
    "# c29_comp_predictions = np.zeros([X.shape[0], 10])\n",
    "c29_rev_comp_predictions = np.zeros([X.shape[0], 10])\n",
    "for i in range(1,11):\n",
    "    cur_model = keras.models.load_model(f\"/Users/Brody1/Dropbox/Northwestern/DNA_Cyclizability/benchmarks/ir_lstm_c29_{training_data_name}_{i}.h5\")\n",
    "    cur_model_pred_norm = cur_model.predict(X)\n",
    "    # cur_model_pred_norm_reverse = cur_model.predict(X_reverse)\n",
    "    # cur_model_pred_norm_comp = cur_model.predict(X_comp)\n",
    "    cur_model_pred_norm_rev_comp = cur_model.predict(X_rev_comp)\n",
    "    # cur_model_pred = cur_model_pred_norm*c29_std + c29_mean\n",
    "    # c29_predictions[:,i-1] = cur_model_pred.flatten()\n",
    "    c29_predictions[:,i-1] = cur_model_pred_norm.flatten()\n",
    "    # c29_reverse_predictions[:,i-1] = cur_model_pred_norm_reverse.flatten()\n",
    "    # c29_comp_predictions[:,i-1] = cur_model_pred_norm_comp.flatten()\n",
    "    c29_rev_comp_predictions[:,i-1] = cur_model_pred_norm_rev_comp.flatten()\n"
   ]
  },
  {
   "cell_type": "code",
   "execution_count": 47,
   "metadata": {},
   "outputs": [],
   "source": [
    "c29_avg_predictions = np.mean(c29_predictions, axis=1)\n",
    "# c29_avg_reverse_predictions = np.mean(c29_reverse_predictions, axis=1)\n",
    "# c29_avg_comp_predictions = np.mean(c29_comp_predictions, axis=1)\n",
    "c29_avg_rev_comp_predictions = np.mean(c29_rev_comp_predictions, axis=1)"
   ]
  },
  {
   "cell_type": "code",
   "execution_count": 48,
   "metadata": {},
   "outputs": [
    {
     "name": "stdout",
     "output_type": "stream",
     "text": [
      "19486/19486 [==============================] - 124s 6ms/step\n",
      "19486/19486 [==============================] - 71s 4ms/step\n",
      "19486/19486 [==============================] - 66s 3ms/step\n",
      "19486/19486 [==============================] - 63s 3ms/step\n",
      "19486/19486 [==============================] - 71s 4ms/step\n",
      "19486/19486 [==============================] - 87s 4ms/step\n",
      "19486/19486 [==============================] - 72s 4ms/step\n",
      "19486/19486 [==============================] - 66s 3ms/step\n",
      "19486/19486 [==============================] - 41s 2ms/step\n",
      "19486/19486 [==============================] - 49s 3ms/step\n",
      "19486/19486 [==============================] - 57s 3ms/step\n",
      "19486/19486 [==============================] - 54s 3ms/step\n",
      "19486/19486 [==============================] - 45s 2ms/step\n",
      "19486/19486 [==============================] - 47s 2ms/step\n",
      "19486/19486 [==============================] - 58s 3ms/step\n",
      "19486/19486 [==============================] - 51s 3ms/step\n",
      "19486/19486 [==============================] - 52s 3ms/step\n",
      "19486/19486 [==============================] - 67s 3ms/step\n",
      "19486/19486 [==============================] - 51s 3ms/step\n",
      "19486/19486 [==============================] - 51s 3ms/step\n"
     ]
    }
   ],
   "source": [
    "# C31:\n",
    "c31_predictions = np.zeros([X.shape[0], 10])\n",
    "# c31_reverse_predictions = np.zeros([X.shape[0], 10])\n",
    "# c31_comp_predictions = np.zeros([X.shape[0], 10])\n",
    "c31_rev_comp_predictions = np.zeros([X.shape[0], 10])\n",
    "for i in range(1,11):\n",
    "    cur_model = keras.models.load_model(f\"/Users/Brody1/Dropbox/Northwestern/DNA_Cyclizability/benchmarks/ir_lstm_c31_{training_data_name}_{i}.h5\")\n",
    "    cur_model_pred_norm = cur_model.predict(X)\n",
    "    # cur_model_pred_norm_reverse = cur_model.predict(X_reverse)\n",
    "    # cur_model_pred_norm_comp = cur_model.predict(X_comp)\n",
    "    cur_model_pred_norm_rev_comp = cur_model.predict(X_rev_comp)    # cur_model_pred = cur_model_pred_norm*c31_std + c31_mean\n",
    "    # c31_predictions[:,i-1] = cur_model_pred.flatten()\n",
    "    c31_predictions[:,i-1] = cur_model_pred_norm.flatten()\n",
    "    # c31_reverse_predictions[:,i-1] = cur_model_pred_norm_reverse.flatten()\n",
    "    # c31_comp_predictions[:,i-1] = cur_model_pred_norm_comp.flatten()\n",
    "    c31_rev_comp_predictions[:,i-1] = cur_model_pred_norm_rev_comp.flatten()"
   ]
  },
  {
   "cell_type": "code",
   "execution_count": 49,
   "metadata": {},
   "outputs": [],
   "source": [
    "c31_avg_predictions = np.mean(c31_predictions, axis=1)\n",
    "# c31_avg_reverse_predictions = np.mean(c31_reverse_predictions, axis=1)\n",
    "# c31_avg_comp_predictions = np.mean(c31_comp_predictions, axis=1)\n",
    "c31_avg_rev_comp_predictions = np.mean(c31_rev_comp_predictions, axis=1)"
   ]
  },
  {
   "cell_type": "code",
   "execution_count": 50,
   "metadata": {},
   "outputs": [
    {
     "name": "stdout",
     "output_type": "stream",
     "text": [
      "C26 prediction correlation on expanded_random_library2: 0.9396849015525113\n",
      "C29 prediction correlation on expanded_random_library2: 0.9135841338772789\n",
      "C31 prediction correlation on expanded_random_library2: 0.9560242898540687\n"
     ]
    }
   ],
   "source": [
    "# Calculate post-prediction C0:\n",
    "cn_avg_pred_df = pd.DataFrame(columns=['n=26', 'n=29', 'n=31'])\n",
    "cn_avg_pred_df[\"n=26\"] = c26_avg_predictions\n",
    "cn_avg_pred_df[\"n=29\"] = c29_avg_predictions\n",
    "cn_avg_pred_df[\"n=31\"] = c31_avg_predictions\n",
    "\n",
    "# cn_avg_pred_df[\"n=26_reverse\"] = c26_avg_reverse_predictions\n",
    "# cn_avg_pred_df[\"n=29_reverse\"] = c29_avg_reverse_predictions\n",
    "# cn_avg_pred_df[\"n=31_reverse\"] = c31_avg_reverse_predictions\n",
    "\n",
    "# cn_avg_pred_df[\"n=26_comp\"] = c26_avg_comp_predictions\n",
    "# cn_avg_pred_df[\"n=29_comp\"] = c29_avg_comp_predictions\n",
    "# cn_avg_pred_df[\"n=31_comp\"] = c31_avg_comp_predictions\n",
    "\n",
    "cn_avg_pred_df[\"n=26_rev_comp\"] = c26_avg_rev_comp_predictions\n",
    "cn_avg_pred_df[\"n=29_rev_comp\"] = c29_avg_rev_comp_predictions\n",
    "cn_avg_pred_df[\"n=31_rev_comp\"] = c31_avg_rev_comp_predictions\n",
    "\n",
    "# post_prediction_c0 = find_c0(cn_avg_pred_df, aa)\n",
    "# cn_avg_pred_df[\"C0\"] = post_prediction_c0\n",
    "\n",
    "if cn_target:\n",
    "    corr_df = pd.concat([cn_avg_pred_df, c26_target, c29_target, c31_target], axis=1)\n",
    "    corr_df_corr = corr_df.corr()\n",
    "    print(f\"C26 prediction correlation on {data_name}: {corr_df_corr.iloc[0,6]}\")\n",
    "    print(f\"C29 prediction correlation on {data_name}: {corr_df_corr.iloc[1,7]}\")\n",
    "    print(f\"C31 prediction correlation on {data_name}: {corr_df_corr.iloc[2,8]}\")"
   ]
  },
  {
   "cell_type": "code",
   "execution_count": 51,
   "metadata": {},
   "outputs": [],
   "source": [
    "# if cn_target:\n",
    "#     print(f\"C26 prediction correlation on {data_name}: {np.corrcoef(c26_avg_predictions, c26_target)[0,1]}\")\n",
    "#     print(f\"C29 prediction correlation on {data_name}: {np.corrcoef(c29_avg_predictions, c29_target)[0,1]}\")\n",
    "#     print(f\"C31 prediction correlation on {data_name}: {np.corrcoef(c31_avg_predictions, c31_target)[0,1]}\")"
   ]
  },
  {
   "cell_type": "code",
   "execution_count": 56,
   "metadata": {},
   "outputs": [],
   "source": [
    "# if type(c0_target) is not bool:\n",
    "#     corr_df = pd.concat([cn_avg_pred_df, c0_target], axis=1)\n",
    "#     print(f\"Post-prediction C0 correlation on {data_name}: {corr_df.corr().iloc[3,4]}\")"
   ]
  },
  {
   "cell_type": "code",
   "execution_count": null,
   "metadata": {},
   "outputs": [],
   "source": []
  },
  {
   "cell_type": "code",
   "execution_count": 53,
   "metadata": {},
   "outputs": [],
   "source": [
    "cn_avg_pred_df.to_csv(f\"/Users/Brody1/Dropbox/Northwestern/DNA_Cyclizability/data/Created/ir_lstm_cn_{training_data_name}_{data_name}_predictions.csv\", index=False)"
   ]
  },
  {
   "cell_type": "code",
   "execution_count": 54,
   "metadata": {},
   "outputs": [
    {
     "data": {
      "text/html": [
       "<div>\n",
       "<style scoped>\n",
       "    .dataframe tbody tr th:only-of-type {\n",
       "        vertical-align: middle;\n",
       "    }\n",
       "\n",
       "    .dataframe tbody tr th {\n",
       "        vertical-align: top;\n",
       "    }\n",
       "\n",
       "    .dataframe thead th {\n",
       "        text-align: right;\n",
       "    }\n",
       "</style>\n",
       "<table border=\"1\" class=\"dataframe\">\n",
       "  <thead>\n",
       "    <tr style=\"text-align: right;\">\n",
       "      <th></th>\n",
       "      <th>n=26</th>\n",
       "      <th>n=29</th>\n",
       "      <th>n=31</th>\n",
       "      <th>n=26_rev_comp</th>\n",
       "      <th>n=29_rev_comp</th>\n",
       "      <th>n=31_rev_comp</th>\n",
       "    </tr>\n",
       "  </thead>\n",
       "  <tbody>\n",
       "    <tr>\n",
       "      <th>0</th>\n",
       "      <td>0.058548</td>\n",
       "      <td>2.015778</td>\n",
       "      <td>1.993518</td>\n",
       "      <td>1.346224</td>\n",
       "      <td>-0.040121</td>\n",
       "      <td>1.507668</td>\n",
       "    </tr>\n",
       "    <tr>\n",
       "      <th>1</th>\n",
       "      <td>-0.506311</td>\n",
       "      <td>1.199270</td>\n",
       "      <td>1.619459</td>\n",
       "      <td>0.022349</td>\n",
       "      <td>0.468056</td>\n",
       "      <td>1.421449</td>\n",
       "    </tr>\n",
       "    <tr>\n",
       "      <th>2</th>\n",
       "      <td>0.173427</td>\n",
       "      <td>0.531992</td>\n",
       "      <td>1.531901</td>\n",
       "      <td>-0.303240</td>\n",
       "      <td>1.227293</td>\n",
       "      <td>1.664994</td>\n",
       "    </tr>\n",
       "    <tr>\n",
       "      <th>3</th>\n",
       "      <td>0.476235</td>\n",
       "      <td>-0.577791</td>\n",
       "      <td>0.895687</td>\n",
       "      <td>-0.291293</td>\n",
       "      <td>1.386426</td>\n",
       "      <td>1.663041</td>\n",
       "    </tr>\n",
       "    <tr>\n",
       "      <th>4</th>\n",
       "      <td>1.045103</td>\n",
       "      <td>-1.051831</td>\n",
       "      <td>0.357828</td>\n",
       "      <td>0.438993</td>\n",
       "      <td>1.606905</td>\n",
       "      <td>1.629065</td>\n",
       "    </tr>\n",
       "    <tr>\n",
       "      <th>...</th>\n",
       "      <td>...</td>\n",
       "      <td>...</td>\n",
       "      <td>...</td>\n",
       "      <td>...</td>\n",
       "      <td>...</td>\n",
       "      <td>...</td>\n",
       "    </tr>\n",
       "    <tr>\n",
       "      <th>623546</th>\n",
       "      <td>2.576716</td>\n",
       "      <td>1.320394</td>\n",
       "      <td>0.295092</td>\n",
       "      <td>2.341935</td>\n",
       "      <td>2.223481</td>\n",
       "      <td>1.615885</td>\n",
       "    </tr>\n",
       "    <tr>\n",
       "      <th>623547</th>\n",
       "      <td>2.495417</td>\n",
       "      <td>1.831674</td>\n",
       "      <td>0.470221</td>\n",
       "      <td>2.459594</td>\n",
       "      <td>1.990557</td>\n",
       "      <td>0.842493</td>\n",
       "    </tr>\n",
       "    <tr>\n",
       "      <th>623548</th>\n",
       "      <td>2.008873</td>\n",
       "      <td>1.925845</td>\n",
       "      <td>1.057911</td>\n",
       "      <td>2.298404</td>\n",
       "      <td>1.436253</td>\n",
       "      <td>-0.093935</td>\n",
       "    </tr>\n",
       "    <tr>\n",
       "      <th>623549</th>\n",
       "      <td>1.591547</td>\n",
       "      <td>1.899331</td>\n",
       "      <td>1.390247</td>\n",
       "      <td>2.046281</td>\n",
       "      <td>0.593321</td>\n",
       "      <td>-0.464840</td>\n",
       "    </tr>\n",
       "    <tr>\n",
       "      <th>623550</th>\n",
       "      <td>0.794472</td>\n",
       "      <td>1.681106</td>\n",
       "      <td>1.523463</td>\n",
       "      <td>1.595825</td>\n",
       "      <td>-0.346211</td>\n",
       "      <td>-0.200542</td>\n",
       "    </tr>\n",
       "  </tbody>\n",
       "</table>\n",
       "<p>623551 rows × 6 columns</p>\n",
       "</div>"
      ],
      "text/plain": [
       "            n=26      n=29      n=31  n=26_rev_comp  n=29_rev_comp  \\\n",
       "0       0.058548  2.015778  1.993518       1.346224      -0.040121   \n",
       "1      -0.506311  1.199270  1.619459       0.022349       0.468056   \n",
       "2       0.173427  0.531992  1.531901      -0.303240       1.227293   \n",
       "3       0.476235 -0.577791  0.895687      -0.291293       1.386426   \n",
       "4       1.045103 -1.051831  0.357828       0.438993       1.606905   \n",
       "...          ...       ...       ...            ...            ...   \n",
       "623546  2.576716  1.320394  0.295092       2.341935       2.223481   \n",
       "623547  2.495417  1.831674  0.470221       2.459594       1.990557   \n",
       "623548  2.008873  1.925845  1.057911       2.298404       1.436253   \n",
       "623549  1.591547  1.899331  1.390247       2.046281       0.593321   \n",
       "623550  0.794472  1.681106  1.523463       1.595825      -0.346211   \n",
       "\n",
       "        n=31_rev_comp  \n",
       "0            1.507668  \n",
       "1            1.421449  \n",
       "2            1.664994  \n",
       "3            1.663041  \n",
       "4            1.629065  \n",
       "...               ...  \n",
       "623546       1.615885  \n",
       "623547       0.842493  \n",
       "623548      -0.093935  \n",
       "623549      -0.464840  \n",
       "623550      -0.200542  \n",
       "\n",
       "[623551 rows x 6 columns]"
      ]
     },
     "execution_count": 54,
     "metadata": {},
     "output_type": "execute_result"
    }
   ],
   "source": [
    "cn_avg_pred_df"
   ]
  },
  {
   "cell_type": "code",
   "execution_count": 69,
   "metadata": {},
   "outputs": [],
   "source": [
    "max_seq_avg_pred_df = cn_avg_pred_df.loc[:(cn_avg_pred_df.shape[0]//2 - 1)]\n",
    "min_seq_avg_pred_df = cn_avg_pred_df.loc[(cn_avg_pred_df.shape[0]//2):]"
   ]
  },
  {
   "cell_type": "code",
   "execution_count": 70,
   "metadata": {},
   "outputs": [
    {
     "data": {
      "text/html": [
       "<div>\n",
       "<style scoped>\n",
       "    .dataframe tbody tr th:only-of-type {\n",
       "        vertical-align: middle;\n",
       "    }\n",
       "\n",
       "    .dataframe tbody tr th {\n",
       "        vertical-align: top;\n",
       "    }\n",
       "\n",
       "    .dataframe thead th {\n",
       "        text-align: right;\n",
       "    }\n",
       "</style>\n",
       "<table border=\"1\" class=\"dataframe\">\n",
       "  <thead>\n",
       "    <tr style=\"text-align: right;\">\n",
       "      <th></th>\n",
       "      <th>n=26</th>\n",
       "      <th>n=29</th>\n",
       "      <th>n=31</th>\n",
       "      <th>n=26_rev_comp</th>\n",
       "      <th>n=29_rev_comp</th>\n",
       "      <th>n=31_rev_comp</th>\n",
       "    </tr>\n",
       "  </thead>\n",
       "  <tbody>\n",
       "    <tr>\n",
       "      <th>0</th>\n",
       "      <td>2.611345</td>\n",
       "      <td>1.188435</td>\n",
       "      <td>0.589168</td>\n",
       "      <td>1.664323</td>\n",
       "      <td>0.662960</td>\n",
       "      <td>-0.022831</td>\n",
       "    </tr>\n",
       "    <tr>\n",
       "      <th>1</th>\n",
       "      <td>2.776073</td>\n",
       "      <td>1.373528</td>\n",
       "      <td>0.781953</td>\n",
       "      <td>1.837797</td>\n",
       "      <td>0.736933</td>\n",
       "      <td>-0.010555</td>\n",
       "    </tr>\n",
       "    <tr>\n",
       "      <th>2</th>\n",
       "      <td>2.854782</td>\n",
       "      <td>1.480949</td>\n",
       "      <td>0.805799</td>\n",
       "      <td>1.946132</td>\n",
       "      <td>0.790499</td>\n",
       "      <td>-0.006188</td>\n",
       "    </tr>\n",
       "    <tr>\n",
       "      <th>3</th>\n",
       "      <td>2.643303</td>\n",
       "      <td>1.206905</td>\n",
       "      <td>0.618811</td>\n",
       "      <td>1.700655</td>\n",
       "      <td>0.672209</td>\n",
       "      <td>-0.040143</td>\n",
       "    </tr>\n",
       "    <tr>\n",
       "      <th>4</th>\n",
       "      <td>2.982534</td>\n",
       "      <td>1.757252</td>\n",
       "      <td>0.986926</td>\n",
       "      <td>2.128746</td>\n",
       "      <td>0.856770</td>\n",
       "      <td>0.002203</td>\n",
       "    </tr>\n",
       "    <tr>\n",
       "      <th>...</th>\n",
       "      <td>...</td>\n",
       "      <td>...</td>\n",
       "      <td>...</td>\n",
       "      <td>...</td>\n",
       "      <td>...</td>\n",
       "      <td>...</td>\n",
       "    </tr>\n",
       "    <tr>\n",
       "      <th>1048571</th>\n",
       "      <td>2.921058</td>\n",
       "      <td>1.862265</td>\n",
       "      <td>1.172172</td>\n",
       "      <td>2.228509</td>\n",
       "      <td>0.561908</td>\n",
       "      <td>-0.473925</td>\n",
       "    </tr>\n",
       "    <tr>\n",
       "      <th>1048572</th>\n",
       "      <td>2.739722</td>\n",
       "      <td>1.454888</td>\n",
       "      <td>0.884111</td>\n",
       "      <td>2.011353</td>\n",
       "      <td>0.431201</td>\n",
       "      <td>-0.713109</td>\n",
       "    </tr>\n",
       "    <tr>\n",
       "      <th>1048573</th>\n",
       "      <td>2.650013</td>\n",
       "      <td>1.253280</td>\n",
       "      <td>0.797652</td>\n",
       "      <td>1.863401</td>\n",
       "      <td>0.344341</td>\n",
       "      <td>-0.754883</td>\n",
       "    </tr>\n",
       "    <tr>\n",
       "      <th>1048574</th>\n",
       "      <td>2.785521</td>\n",
       "      <td>1.475270</td>\n",
       "      <td>0.893907</td>\n",
       "      <td>2.053345</td>\n",
       "      <td>0.488659</td>\n",
       "      <td>-0.676363</td>\n",
       "    </tr>\n",
       "    <tr>\n",
       "      <th>1048575</th>\n",
       "      <td>2.502320</td>\n",
       "      <td>0.946230</td>\n",
       "      <td>0.582561</td>\n",
       "      <td>1.678616</td>\n",
       "      <td>0.253018</td>\n",
       "      <td>-0.842719</td>\n",
       "    </tr>\n",
       "  </tbody>\n",
       "</table>\n",
       "<p>1048576 rows × 6 columns</p>\n",
       "</div>"
      ],
      "text/plain": [
       "             n=26      n=29      n=31  n=26_rev_comp  n=29_rev_comp  \\\n",
       "0        2.611345  1.188435  0.589168       1.664323       0.662960   \n",
       "1        2.776073  1.373528  0.781953       1.837797       0.736933   \n",
       "2        2.854782  1.480949  0.805799       1.946132       0.790499   \n",
       "3        2.643303  1.206905  0.618811       1.700655       0.672209   \n",
       "4        2.982534  1.757252  0.986926       2.128746       0.856770   \n",
       "...           ...       ...       ...            ...            ...   \n",
       "1048571  2.921058  1.862265  1.172172       2.228509       0.561908   \n",
       "1048572  2.739722  1.454888  0.884111       2.011353       0.431201   \n",
       "1048573  2.650013  1.253280  0.797652       1.863401       0.344341   \n",
       "1048574  2.785521  1.475270  0.893907       2.053345       0.488659   \n",
       "1048575  2.502320  0.946230  0.582561       1.678616       0.253018   \n",
       "\n",
       "         n=31_rev_comp  \n",
       "0            -0.022831  \n",
       "1            -0.010555  \n",
       "2            -0.006188  \n",
       "3            -0.040143  \n",
       "4             0.002203  \n",
       "...                ...  \n",
       "1048571      -0.473925  \n",
       "1048572      -0.713109  \n",
       "1048573      -0.754883  \n",
       "1048574      -0.676363  \n",
       "1048575      -0.842719  \n",
       "\n",
       "[1048576 rows x 6 columns]"
      ]
     },
     "execution_count": 70,
     "metadata": {},
     "output_type": "execute_result"
    }
   ],
   "source": [
    "max_seq_avg_pred_df"
   ]
  },
  {
   "cell_type": "code",
   "execution_count": 71,
   "metadata": {},
   "outputs": [
    {
     "data": {
      "text/html": [
       "<div>\n",
       "<style scoped>\n",
       "    .dataframe tbody tr th:only-of-type {\n",
       "        vertical-align: middle;\n",
       "    }\n",
       "\n",
       "    .dataframe tbody tr th {\n",
       "        vertical-align: top;\n",
       "    }\n",
       "\n",
       "    .dataframe thead th {\n",
       "        text-align: right;\n",
       "    }\n",
       "</style>\n",
       "<table border=\"1\" class=\"dataframe\">\n",
       "  <thead>\n",
       "    <tr style=\"text-align: right;\">\n",
       "      <th></th>\n",
       "      <th>n=26</th>\n",
       "      <th>n=29</th>\n",
       "      <th>n=31</th>\n",
       "      <th>n=26_rev_comp</th>\n",
       "      <th>n=29_rev_comp</th>\n",
       "      <th>n=31_rev_comp</th>\n",
       "    </tr>\n",
       "  </thead>\n",
       "  <tbody>\n",
       "    <tr>\n",
       "      <th>1048576</th>\n",
       "      <td>-0.308736</td>\n",
       "      <td>0.947095</td>\n",
       "      <td>0.010794</td>\n",
       "      <td>0.754307</td>\n",
       "      <td>-0.981051</td>\n",
       "      <td>-2.173604</td>\n",
       "    </tr>\n",
       "    <tr>\n",
       "      <th>1048577</th>\n",
       "      <td>0.013869</td>\n",
       "      <td>1.222166</td>\n",
       "      <td>0.399186</td>\n",
       "      <td>1.068243</td>\n",
       "      <td>-0.735342</td>\n",
       "      <td>-1.892817</td>\n",
       "    </tr>\n",
       "    <tr>\n",
       "      <th>1048578</th>\n",
       "      <td>0.179052</td>\n",
       "      <td>1.323845</td>\n",
       "      <td>0.433502</td>\n",
       "      <td>1.231504</td>\n",
       "      <td>-0.633070</td>\n",
       "      <td>-1.794936</td>\n",
       "    </tr>\n",
       "    <tr>\n",
       "      <th>1048579</th>\n",
       "      <td>-0.278753</td>\n",
       "      <td>0.970707</td>\n",
       "      <td>0.075559</td>\n",
       "      <td>0.813958</td>\n",
       "      <td>-0.943437</td>\n",
       "      <td>-2.166639</td>\n",
       "    </tr>\n",
       "    <tr>\n",
       "      <th>1048580</th>\n",
       "      <td>0.559881</td>\n",
       "      <td>1.691060</td>\n",
       "      <td>0.790432</td>\n",
       "      <td>1.650464</td>\n",
       "      <td>-0.358007</td>\n",
       "      <td>-1.279768</td>\n",
       "    </tr>\n",
       "    <tr>\n",
       "      <th>...</th>\n",
       "      <td>...</td>\n",
       "      <td>...</td>\n",
       "      <td>...</td>\n",
       "      <td>...</td>\n",
       "      <td>...</td>\n",
       "      <td>...</td>\n",
       "    </tr>\n",
       "    <tr>\n",
       "      <th>2097147</th>\n",
       "      <td>0.167523</td>\n",
       "      <td>1.190176</td>\n",
       "      <td>0.391760</td>\n",
       "      <td>1.180065</td>\n",
       "      <td>-0.651815</td>\n",
       "      <td>-1.551800</td>\n",
       "    </tr>\n",
       "    <tr>\n",
       "      <th>2097148</th>\n",
       "      <td>-0.242236</td>\n",
       "      <td>0.697322</td>\n",
       "      <td>-0.052399</td>\n",
       "      <td>0.726101</td>\n",
       "      <td>-0.988925</td>\n",
       "      <td>-2.121238</td>\n",
       "    </tr>\n",
       "    <tr>\n",
       "      <th>2097149</th>\n",
       "      <td>-0.432895</td>\n",
       "      <td>0.511617</td>\n",
       "      <td>-0.129564</td>\n",
       "      <td>0.513316</td>\n",
       "      <td>-1.115050</td>\n",
       "      <td>-2.233403</td>\n",
       "    </tr>\n",
       "    <tr>\n",
       "      <th>2097150</th>\n",
       "      <td>-0.166845</td>\n",
       "      <td>0.693849</td>\n",
       "      <td>-0.032848</td>\n",
       "      <td>0.760511</td>\n",
       "      <td>-0.913581</td>\n",
       "      <td>-2.076114</td>\n",
       "    </tr>\n",
       "    <tr>\n",
       "      <th>2097151</th>\n",
       "      <td>-0.688820</td>\n",
       "      <td>0.225057</td>\n",
       "      <td>-0.405736</td>\n",
       "      <td>0.248206</td>\n",
       "      <td>-1.328759</td>\n",
       "      <td>-2.405749</td>\n",
       "    </tr>\n",
       "  </tbody>\n",
       "</table>\n",
       "<p>1048576 rows × 6 columns</p>\n",
       "</div>"
      ],
      "text/plain": [
       "             n=26      n=29      n=31  n=26_rev_comp  n=29_rev_comp  \\\n",
       "1048576 -0.308736  0.947095  0.010794       0.754307      -0.981051   \n",
       "1048577  0.013869  1.222166  0.399186       1.068243      -0.735342   \n",
       "1048578  0.179052  1.323845  0.433502       1.231504      -0.633070   \n",
       "1048579 -0.278753  0.970707  0.075559       0.813958      -0.943437   \n",
       "1048580  0.559881  1.691060  0.790432       1.650464      -0.358007   \n",
       "...           ...       ...       ...            ...            ...   \n",
       "2097147  0.167523  1.190176  0.391760       1.180065      -0.651815   \n",
       "2097148 -0.242236  0.697322 -0.052399       0.726101      -0.988925   \n",
       "2097149 -0.432895  0.511617 -0.129564       0.513316      -1.115050   \n",
       "2097150 -0.166845  0.693849 -0.032848       0.760511      -0.913581   \n",
       "2097151 -0.688820  0.225057 -0.405736       0.248206      -1.328759   \n",
       "\n",
       "         n=31_rev_comp  \n",
       "1048576      -2.173604  \n",
       "1048577      -1.892817  \n",
       "1048578      -1.794936  \n",
       "1048579      -2.166639  \n",
       "1048580      -1.279768  \n",
       "...                ...  \n",
       "2097147      -1.551800  \n",
       "2097148      -2.121238  \n",
       "2097149      -2.233403  \n",
       "2097150      -2.076114  \n",
       "2097151      -2.405749  \n",
       "\n",
       "[1048576 rows x 6 columns]"
      ]
     },
     "execution_count": 71,
     "metadata": {},
     "output_type": "execute_result"
    }
   ],
   "source": [
    "min_seq_avg_pred_df"
   ]
  },
  {
   "cell_type": "code",
   "execution_count": 73,
   "metadata": {},
   "outputs": [
    {
     "data": {
      "text/plain": [
       "n=26             3.106657\n",
       "n=29             2.271132\n",
       "n=31             1.686886\n",
       "n=26_rev_comp    2.429492\n",
       "n=29_rev_comp    0.921865\n",
       "n=31_rev_comp    0.019624\n",
       "dtype: float64"
      ]
     },
     "execution_count": 73,
     "metadata": {},
     "output_type": "execute_result"
    }
   ],
   "source": [
    "max_seq_avg_pred_df.max(axis=0)"
   ]
  },
  {
   "cell_type": "code",
   "execution_count": 74,
   "metadata": {},
   "outputs": [
    {
     "data": {
      "text/plain": [
       "n=26             1.336324\n",
       "n=29            -0.979522\n",
       "n=31            -0.916799\n",
       "n=26_rev_comp   -0.003756\n",
       "n=29_rev_comp   -1.368862\n",
       "n=31_rev_comp   -1.786991\n",
       "dtype: float64"
      ]
     },
     "execution_count": 74,
     "metadata": {},
     "output_type": "execute_result"
    }
   ],
   "source": [
    "max_seq_avg_pred_df.min(axis=0)"
   ]
  },
  {
   "cell_type": "code",
   "execution_count": 75,
   "metadata": {},
   "outputs": [],
   "source": [
    "import matplotlib.pyplot as plt"
   ]
  },
  {
   "cell_type": "code",
   "execution_count": 82,
   "metadata": {},
   "outputs": [
    {
     "data": {
      "image/png": "[encoded data removed]",
      "text/plain": [
       "<Figure size 640x480 with 1 Axes>"
      ]
     },
     "metadata": {},
     "output_type": "display_data"
    }
   ],
   "source": [
    "plt.hist(max_seq_avg_pred_df[\"n=26\"], bins=20)\n",
    "plt.xlim([-3.5,3.5])\n",
    "plt.show()"
   ]
  },
  {
   "cell_type": "code",
   "execution_count": 83,
   "metadata": {},
   "outputs": [
    {
     "data": {
      "image/png": "[encoded data removed]",
      "text/plain": [
       "<Figure size 640x480 with 1 Axes>"
      ]
     },
     "metadata": {},
     "output_type": "display_data"
    }
   ],
   "source": [
    "plt.hist(max_seq_avg_pred_df[\"n=29\"], bins=20)\n",
    "plt.xlim([-3.5,3.5])\n",
    "plt.show()"
   ]
  },
  {
   "cell_type": "code",
   "execution_count": 84,
   "metadata": {},
   "outputs": [
    {
     "data": {
      "image/png": "[encoded data removed]",
      "text/plain": [
       "<Figure size 640x480 with 1 Axes>"
      ]
     },
     "metadata": {},
     "output_type": "display_data"
    }
   ],
   "source": [
    "plt.hist(max_seq_avg_pred_df[\"n=31\"], bins=20)\n",
    "plt.xlim([-3.5,3.5])\n",
    "plt.show()"
   ]
  },
  {
   "cell_type": "code",
   "execution_count": 85,
   "metadata": {},
   "outputs": [
    {
     "data": {
      "image/png": "[encoded data removed]",
      "text/plain": [
       "<Figure size 640x480 with 1 Axes>"
      ]
     },
     "metadata": {},
     "output_type": "display_data"
    }
   ],
   "source": [
    "plt.hist(max_seq_avg_pred_df[\"n=26_rev_comp\"], bins=20)\n",
    "plt.xlim([-3.5,3.5])\n",
    "plt.show()"
   ]
  },
  {
   "cell_type": "code",
   "execution_count": 86,
   "metadata": {},
   "outputs": [
    {
     "data": {
      "image/png": "[encoded data removed]",
      "text/plain": [
       "<Figure size 640x480 with 1 Axes>"
      ]
     },
     "metadata": {},
     "output_type": "display_data"
    }
   ],
   "source": [
    "plt.hist(max_seq_avg_pred_df[\"n=29_rev_comp\"], bins=20)\n",
    "plt.xlim([-3.5,3.5])\n",
    "plt.show()"
   ]
  },
  {
   "cell_type": "code",
   "execution_count": 87,
   "metadata": {},
   "outputs": [
    {
     "data": {
      "image/png": "[encoded data removed]",
      "text/plain": [
       "<Figure size 640x480 with 1 Axes>"
      ]
     },
     "metadata": {},
     "output_type": "display_data"
    }
   ],
   "source": [
    "plt.hist(max_seq_avg_pred_df[\"n=31_rev_comp\"], bins=20)\n",
    "plt.xlim([-3.5,3.5])\n",
    "plt.show()"
   ]
  },
  {
   "cell_type": "code",
   "execution_count": null,
   "metadata": {},
   "outputs": [],
   "source": []
  },
  {
   "cell_type": "code",
   "execution_count": 88,
   "metadata": {},
   "outputs": [
    {
     "data": {
      "image/png": "[encoded data removed]",
      "text/plain": [
       "<Figure size 640x480 with 1 Axes>"
      ]
     },
     "metadata": {},
     "output_type": "display_data"
    }
   ],
   "source": [
    "plt.hist(min_seq_avg_pred_df[\"n=26\"], bins=20)\n",
    "plt.xlim([-3.5,3.5])\n",
    "plt.show()"
   ]
  },
  {
   "cell_type": "code",
   "execution_count": 89,
   "metadata": {},
   "outputs": [
    {
     "data": {
      "image/png": "[encoded data removed]",
      "text/plain": [
       "<Figure size 640x480 with 1 Axes>"
      ]
     },
     "metadata": {},
     "output_type": "display_data"
    }
   ],
   "source": [
    "plt.hist(min_seq_avg_pred_df[\"n=29\"], bins=20)\n",
    "plt.xlim([-3.5,3.5])\n",
    "plt.show()"
   ]
  },
  {
   "cell_type": "code",
   "execution_count": 90,
   "metadata": {},
   "outputs": [
    {
     "data": {
      "image/png": "[encoded data removed]",
      "text/plain": [
       "<Figure size 640x480 with 1 Axes>"
      ]
     },
     "metadata": {},
     "output_type": "display_data"
    }
   ],
   "source": [
    "plt.hist(min_seq_avg_pred_df[\"n=31\"], bins=20)\n",
    "plt.xlim([-3.5,3.5])\n",
    "plt.show()"
   ]
  },
  {
   "cell_type": "code",
   "execution_count": 91,
   "metadata": {},
   "outputs": [
    {
     "data": {
      "image/png": "[encoded data removed]",
      "text/plain": [
       "<Figure size 640x480 with 1 Axes>"
      ]
     },
     "metadata": {},
     "output_type": "display_data"
    }
   ],
   "source": [
    "plt.hist(min_seq_avg_pred_df[\"n=26_rev_comp\"], bins=20)\n",
    "plt.xlim([-3.5,3.5])\n",
    "plt.show()"
   ]
  },
  {
   "cell_type": "code",
   "execution_count": 92,
   "metadata": {},
   "outputs": [
    {
     "data": {
      "image/png": "[encoded data removed]",
      "text/plain": [
       "<Figure size 640x480 with 1 Axes>"
      ]
     },
     "metadata": {},
     "output_type": "display_data"
    }
   ],
   "source": [
    "plt.hist(min_seq_avg_pred_df[\"n=29_rev_comp\"], bins=20)\n",
    "plt.xlim([-3.5,3.5])\n",
    "plt.show()"
   ]
  },
  {
   "cell_type": "code",
   "execution_count": 93,
   "metadata": {},
   "outputs": [
    {
     "data": {
      "image/png": "[encoded data removed]",
      "text/plain": [
       "<Figure size 640x480 with 1 Axes>"
      ]
     },
     "metadata": {},
     "output_type": "display_data"
    }
   ],
   "source": [
    "plt.hist(min_seq_avg_pred_df[\"n=31_rev_comp\"], bins=20)\n",
    "plt.xlim([-3.5,3.5])\n",
    "plt.show()"
   ]
  },
  {
   "cell_type": "code",
   "execution_count": null,
   "metadata": {},
   "outputs": [],
   "source": []
  }
 ],
 "metadata": {
  "kernelspec": {
   "display_name": ".venv",
   "language": "python",
   "name": "python3"
  },
  "language_info": {
   "codemirror_mode": {
    "name": "ipython",
    "version": 3
   },
   "file_extension": ".py",
   "mimetype": "text/x-python",
   "name": "python",
   "nbconvert_exporter": "python",
   "pygments_lexer": "ipython3",
   "version": "3.11.5"
  }
 },
 "nbformat": 4,
 "nbformat_minor": 2
}
