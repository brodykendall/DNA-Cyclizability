{
 "cells": [
  {
   "cell_type": "code",
   "execution_count": 1,
   "metadata": {},
   "outputs": [],
   "source": [
    "import keras"
   ]
  },
  {
   "cell_type": "code",
   "execution_count": 1,
   "metadata": {},
   "outputs": [],
   "source": [
    "import pandas as pd\n",
    "import numpy as np\n",
    "from numpy import array\n",
    "\n",
    "import matplotlib.pyplot as plt"
   ]
  },
  {
   "cell_type": "code",
   "execution_count": 3,
   "metadata": {},
   "outputs": [],
   "source": [
    "def dnaOneHot(sequence):\n",
    "    seq_array = array(list(sequence))\n",
    "    code = {\"A\": [0], \"C\": [1], \"G\": [2], \"T\": [3], \"N\": [4],\n",
    "            \"a\": [0], \"c\": [1], \"g\": [2], \"t\": [3], \"n\": [4]}\n",
    "    onehot_encoded_seq = []\n",
    "    for char in seq_array:\n",
    "        onehot_encoded = np.zeros(5)\n",
    "        onehot_encoded[code[char]] = 1\n",
    "        onehot_encoded_seq.append(onehot_encoded[0:4])\n",
    "    return onehot_encoded_seq"
   ]
  },
  {
   "cell_type": "code",
   "execution_count": 4,
   "metadata": {},
   "outputs": [],
   "source": [
    "# genome_df_chrI = pd.read_csv(\"/Users/Brody1/Dropbox/Northwestern/DNA_Cyclizability/data/Created/yeast_chrI_1bpresolution_subsequence50.csv\")\n",
    "# genome_df_chrII = pd.read_csv(\"/Users/Brody1/Dropbox/Northwestern/DNA_Cyclizability/data/Created/yeast_chrII_1bpresolution_subsequence50.csv\")\n",
    "# genome_df_chrIII = pd.read_csv(\"/Users/Brody1/Dropbox/Northwestern/DNA_Cyclizability/data/Created/yeast_chrIII_1bpresolution_subsequence50.csv\")\n",
    "# genome_df_chrIV = pd.read_csv(\"/Users/Brody1/Dropbox/Northwestern/DNA_Cyclizability/data/Created/yeast_chrIV_1bpresolution_subsequence50.csv\")\n",
    "# genome_df_chrV = pd.read_csv(\"/Users/Brody1/Dropbox/Northwestern/DNA_Cyclizability/data/Created/yeast_chrV_1bpresolution_subsequence50.csv\")\n",
    "# genome_df_chrVI = pd.read_csv(\"/Users/Brody1/Dropbox/Northwestern/DNA_Cyclizability/data/Created/yeast_chrVI_1bpresolution_subsequence50.csv\")\n",
    "# genome_df_chrVII = pd.read_csv(\"/Users/Brody1/Dropbox/Northwestern/DNA_Cyclizability/data/Created/yeast_chrVII_1bpresolution_subsequence50.csv\")\n",
    "# genome_df_chrVIII = pd.read_csv(\"/Users/Brody1/Dropbox/Northwestern/DNA_Cyclizability/data/Created/yeast_chrVIII_1bpresolution_subsequence50.csv\")\n",
    "# genome_df_chrIX = pd.read_csv(\"/Users/Brody1/Dropbox/Northwestern/DNA_Cyclizability/data/Created/yeast_chrIX_1bpresolution_subsequence50.csv\")\n",
    "# genome_df_chrX = pd.read_csv(\"/Users/Brody1/Dropbox/Northwestern/DNA_Cyclizability/data/Created/yeast_chrX_1bpresolution_subsequence50.csv\")\n",
    "# genome_df_chrXI = pd.read_csv(\"/Users/Brody1/Dropbox/Northwestern/DNA_Cyclizability/data/Created/yeast_chrXI_1bpresolution_subsequence50.csv\")\n",
    "# genome_df_chrXII = pd.read_csv(\"/Users/Brody1/Dropbox/Northwestern/DNA_Cyclizability/data/Created/yeast_chrXII_1bpresolution_subsequence50.csv\")\n",
    "# genome_df_chrXIII = pd.read_csv(\"/Users/Brody1/Dropbox/Northwestern/DNA_Cyclizability/data/Created/yeast_chrXIII_1bpresolution_subsequence50.csv\")\n",
    "# genome_df_chrXIV = pd.read_csv(\"/Users/Brody1/Dropbox/Northwestern/DNA_Cyclizability/data/Created/yeast_chrXIV_1bpresolution_subsequence50.csv\")\n",
    "# genome_df_chrXV = pd.read_csv(\"/Users/Brody1/Dropbox/Northwestern/DNA_Cyclizability/data/Created/yeast_chrXV_1bpresolution_subsequence50.csv\")\n",
    "# genome_df_chrXVI = pd.read_csv(\"/Users/Brody1/Dropbox/Northwestern/DNA_Cyclizability/data/Created/yeast_chrXVI_1bpresolution_subsequence50.csv\")\n"
   ]
  },
  {
   "cell_type": "code",
   "execution_count": 5,
   "metadata": {},
   "outputs": [],
   "source": [
    "genome_df_chrV = pd.read_csv(\"/Users/Brody1/Dropbox/Northwestern/DNA_Cyclizability/data/Created/yeast_chrV_1bpresolution_subsequence50.csv\")"
   ]
  },
  {
   "cell_type": "code",
   "execution_count": 6,
   "metadata": {},
   "outputs": [],
   "source": [
    "# genome_df_all_chr = pd.concat([genome_df_chrI, genome_df_chrII, genome_df_chrIII, genome_df_chrIV, genome_df_chrV,\n",
    "#                                genome_df_chrVI, genome_df_chrVII, genome_df_chrVIII, genome_df_chrIX, genome_df_chrX,\n",
    "#                                genome_df_chrXI, genome_df_chrXII, genome_df_chrXIII, genome_df_chrXIV, genome_df_chrXV,\n",
    "#                                genome_df_chrXVI], axis=0)"
   ]
  },
  {
   "cell_type": "code",
   "execution_count": 7,
   "metadata": {},
   "outputs": [],
   "source": [
    "# genome_df_all_chr"
   ]
  },
  {
   "cell_type": "code",
   "execution_count": null,
   "metadata": {},
   "outputs": [],
   "source": [
    "genome_df_chrV"
   ]
  },
  {
   "cell_type": "code",
   "execution_count": 9,
   "metadata": {},
   "outputs": [],
   "source": [
    "# X_chrV = []\n",
    "# for sequence_nt in genome_df_chrV[\"sequence\"]:\n",
    "#     X_chrV.append(dnaOneHot(sequence_nt))\n",
    "# X_chrV = array(X_chrV)\n",
    "# X_chrV = X_chrV.reshape((X_chrV.shape[0],50,4,1))"
   ]
  },
  {
   "cell_type": "code",
   "execution_count": null,
   "metadata": {},
   "outputs": [],
   "source": []
  },
  {
   "cell_type": "markdown",
   "metadata": {},
   "source": [
    "### Get Mean/Stdev of provided ChrV C0:"
   ]
  },
  {
   "cell_type": "code",
   "execution_count": 10,
   "metadata": {},
   "outputs": [],
   "source": [
    "# cycle6 = pd.read_csv(\"/Users/Brody1/Dropbox/Northwestern/DNA_Cyclizability/cycle6.txt\")"
   ]
  },
  {
   "cell_type": "code",
   "execution_count": 11,
   "metadata": {},
   "outputs": [],
   "source": [
    "# cycle6_mean = cycle6.C0.mean()\n",
    "# cycle6_std = cycle6.C0.std()"
   ]
  },
  {
   "cell_type": "code",
   "execution_count": 12,
   "metadata": {},
   "outputs": [],
   "source": [
    "# cycle6_c26_mean = cycle6[\"n=26\"].mean()\n",
    "# cycle6_c26_std = cycle6[\"n=26\"].std()\n",
    "# cycle6_c29_mean = cycle6[\"n=29\"].mean()\n",
    "# cycle6_c29_std = cycle6[\"n=29\"].std()\n",
    "# cycle6_c31_mean = cycle6[\"n=31\"].mean()\n",
    "# cycle6_c31_std = cycle6[\"n=31\"].std()"
   ]
  },
  {
   "cell_type": "code",
   "execution_count": 13,
   "metadata": {},
   "outputs": [],
   "source": [
    "# print(cycle6_c26_mean, cycle6_c26_std, cycle6_c29_mean, cycle6_c29_std, cycle6_c31_mean, cycle6_c31_std)"
   ]
  },
  {
   "cell_type": "markdown",
   "metadata": {},
   "source": [
    "### DNAcycP:"
   ]
  },
  {
   "cell_type": "code",
   "execution_count": 14,
   "metadata": {},
   "outputs": [],
   "source": [
    "# DNAcycP_pred_chrV_norm = pd.read_csv(\"/Users/Brody1/Dropbox/Northwestern/DNA_Cyclizability/data/predictions/chrv_1bp_cycle_norm_DNAcycP.txt\", header=None)\n",
    "DNAcycP_pred_chrV = pd.read_csv(\"/Users/Brody1/Dropbox/Northwestern/DNA_Cyclizability/data/predictions/chrv_1bp_cycle_norm_DNAcycP.txt\", header=None)"
   ]
  },
  {
   "cell_type": "code",
   "execution_count": 15,
   "metadata": {},
   "outputs": [],
   "source": [
    "# DNAcycP_pred_chrV = DNAcycP_pred_chrV_norm*cycle6_std + cycle6_mean\n",
    "DNAcycP_pred_chrV = array(DNAcycP_pred_chrV)"
   ]
  },
  {
   "cell_type": "code",
   "execution_count": 16,
   "metadata": {},
   "outputs": [],
   "source": [
    "genome_df_chrV[\"DNAcycP_pred_chrV\"] = DNAcycP_pred_chrV"
   ]
  },
  {
   "cell_type": "code",
   "execution_count": null,
   "metadata": {},
   "outputs": [],
   "source": []
  },
  {
   "cell_type": "markdown",
   "metadata": {},
   "source": [
    "#### DNAcycP post-smoothing"
   ]
  },
  {
   "cell_type": "code",
   "execution_count": 17,
   "metadata": {},
   "outputs": [],
   "source": [
    "# DNAcycP_pred_chrV_post_smooth_1bp = [np.mean(DNAcycP_pred_chrV[(i-1):(i+2)]) for i in range(1,len(DNAcycP_pred_chrV)-1)]\n",
    "# DNAcycP_pred_chrV_post_smooth_1bp.append(None)\n",
    "# DNAcycP_pred_chrV_post_smooth_1bp.insert(0, None)\n",
    "# DNAcycP_pred_chrV_post_smooth_1bp = array(DNAcycP_pred_chrV_post_smooth_1bp)\n",
    "# genome_df_chrV[\"DNAcycP_pred_chrV_post_smooth_1bp\"] = DNAcycP_pred_chrV_post_smooth_1bp"
   ]
  },
  {
   "cell_type": "code",
   "execution_count": 18,
   "metadata": {},
   "outputs": [],
   "source": [
    "# DNAcycP_pred_chrV_post_smooth_2bp = [np.mean(DNAcycP_pred_chrV[(i-2):(i+3)]) for i in range(2,len(DNAcycP_pred_chrV)-2)]\n",
    "# DNAcycP_pred_chrV_post_smooth_2bp.append(None)\n",
    "# DNAcycP_pred_chrV_post_smooth_2bp.append(None)\n",
    "# DNAcycP_pred_chrV_post_smooth_2bp.insert(0, None)\n",
    "# DNAcycP_pred_chrV_post_smooth_2bp.insert(0, None)\n",
    "# DNAcycP_pred_chrV_post_smooth_2bp = array(DNAcycP_pred_chrV_post_smooth_2bp)\n",
    "# genome_df_chrV[\"DNAcycP_pred_chrV_post_smooth_2bp\"] = DNAcycP_pred_chrV_post_smooth_2bp"
   ]
  },
  {
   "cell_type": "code",
   "execution_count": 19,
   "metadata": {},
   "outputs": [],
   "source": [
    "# DNAcycP_pred_chrV_post_smooth_3bp = [np.mean(DNAcycP_pred_chrV[(i-3):(i+4)]) for i in range(3,len(DNAcycP_pred_chrV)-3)]\n",
    "# DNAcycP_pred_chrV_post_smooth_3bp.append(None)\n",
    "# DNAcycP_pred_chrV_post_smooth_3bp.append(None)\n",
    "# DNAcycP_pred_chrV_post_smooth_3bp.append(None)\n",
    "# DNAcycP_pred_chrV_post_smooth_3bp.insert(0, None)\n",
    "# DNAcycP_pred_chrV_post_smooth_3bp.insert(0, None)\n",
    "# DNAcycP_pred_chrV_post_smooth_3bp.insert(0, None)\n",
    "# DNAcycP_pred_chrV_post_smooth_3bp = array(DNAcycP_pred_chrV_post_smooth_3bp)\n",
    "# genome_df_chrV[\"DNAcycP_pred_chrV_post_smooth_3bp\"] = DNAcycP_pred_chrV_post_smooth_3bp"
   ]
  },
  {
   "cell_type": "code",
   "execution_count": 20,
   "metadata": {},
   "outputs": [],
   "source": [
    "# DNAcycP_pred_chrV_post_smooth_4bp = [np.mean(DNAcycP_pred_chrV[(i-4):(i+5)]) for i in range(4,len(DNAcycP_pred_chrV)-4)]\n",
    "# DNAcycP_pred_chrV_post_smooth_4bp.append(None)\n",
    "# DNAcycP_pred_chrV_post_smooth_4bp.append(None)\n",
    "# DNAcycP_pred_chrV_post_smooth_4bp.append(None)\n",
    "# DNAcycP_pred_chrV_post_smooth_4bp.append(None)\n",
    "# DNAcycP_pred_chrV_post_smooth_4bp.insert(0, None)\n",
    "# DNAcycP_pred_chrV_post_smooth_4bp.insert(0, None)\n",
    "# DNAcycP_pred_chrV_post_smooth_4bp.insert(0, None)\n",
    "# DNAcycP_pred_chrV_post_smooth_4bp.insert(0, None)\n",
    "# DNAcycP_pred_chrV_post_smooth_4bp = array(DNAcycP_pred_chrV_post_smooth_4bp)\n",
    "# genome_df_chrV[\"DNAcycP_pred_chrV_post_smooth_4bp\"] = DNAcycP_pred_chrV_post_smooth_4bp"
   ]
  },
  {
   "cell_type": "code",
   "execution_count": 21,
   "metadata": {},
   "outputs": [],
   "source": [
    "# DNAcycP_pred_chrV_post_smooth_4bp_weighted = [np.average(DNAcycP_pred_chrV[(i-4):(i+5)].flatten(), weights=[1,2,3,4,5,4,3,2,1]) for i in range(4,len(DNAcycP_pred_chrV)-4)]\n",
    "# DNAcycP_pred_chrV_post_smooth_4bp_weighted.append(None)\n",
    "# DNAcycP_pred_chrV_post_smooth_4bp_weighted.append(None)\n",
    "# DNAcycP_pred_chrV_post_smooth_4bp_weighted.append(None)\n",
    "# DNAcycP_pred_chrV_post_smooth_4bp_weighted.append(None)\n",
    "# DNAcycP_pred_chrV_post_smooth_4bp_weighted.insert(0, None)\n",
    "# DNAcycP_pred_chrV_post_smooth_4bp_weighted.insert(0, None)\n",
    "# DNAcycP_pred_chrV_post_smooth_4bp_weighted.insert(0, None)\n",
    "# DNAcycP_pred_chrV_post_smooth_4bp_weighted.insert(0, None)\n",
    "# DNAcycP_pred_chrV_post_smooth_4bp_weighted = array(DNAcycP_pred_chrV_post_smooth_4bp_weighted)\n",
    "# genome_df_chrV[\"DNAcycP_pred_chrV_post_smooth_4bp_weighted\"] = DNAcycP_pred_chrV_post_smooth_4bp_weighted"
   ]
  },
  {
   "cell_type": "code",
   "execution_count": 22,
   "metadata": {},
   "outputs": [],
   "source": [
    "# DNAcycP_pred_chrV_post_smooth_5bp = [np.mean(DNAcycP_pred_chrV[(i-5):(i+6)]) for i in range(5,len(DNAcycP_pred_chrV)-5)]\n",
    "# DNAcycP_pred_chrV_post_smooth_5bp.append(None)\n",
    "# DNAcycP_pred_chrV_post_smooth_5bp.append(None)\n",
    "# DNAcycP_pred_chrV_post_smooth_5bp.append(None)\n",
    "# DNAcycP_pred_chrV_post_smooth_5bp.append(None)\n",
    "# DNAcycP_pred_chrV_post_smooth_5bp.append(None)\n",
    "# DNAcycP_pred_chrV_post_smooth_5bp.insert(0, None)\n",
    "# DNAcycP_pred_chrV_post_smooth_5bp.insert(0, None)\n",
    "# DNAcycP_pred_chrV_post_smooth_5bp.insert(0, None)\n",
    "# DNAcycP_pred_chrV_post_smooth_5bp.insert(0, None)\n",
    "# DNAcycP_pred_chrV_post_smooth_5bp.insert(0, None)\n",
    "# DNAcycP_pred_chrV_post_smooth_5bp = array(DNAcycP_pred_chrV_post_smooth_5bp)\n",
    "# genome_df_chrV[\"DNAcycP_pred_chrV_post_smooth_5bp\"] = DNAcycP_pred_chrV_post_smooth_5bp"
   ]
  },
  {
   "cell_type": "code",
   "execution_count": 23,
   "metadata": {},
   "outputs": [],
   "source": [
    "# w_4 = 1/(10.4-9)\n",
    "# w_5 = 1/(11-10.4)\n",
    "# DNAcycP_pred_chrV_post_smooth_4and5bp = [(DNAcycP_pred_chrV_post_smooth_4bp[i]*w_4 + DNAcycP_pred_chrV_post_smooth_5bp[i]*w_5)/(w_4+w_5) if DNAcycP_pred_chrV_post_smooth_5bp[i] is not None else None for i in range(len(DNAcycP_pred_chrV_post_smooth_5bp))]\n",
    "# DNAcycP_pred_chrV_post_smooth_4and5bp = array(DNAcycP_pred_chrV_post_smooth_4and5bp)\n",
    "# genome_df_chrV[\"DNAcycP_pred_chrV_post_smooth_4and5bp\"] = DNAcycP_pred_chrV_post_smooth_4and5bp"
   ]
  },
  {
   "cell_type": "code",
   "execution_count": null,
   "metadata": {},
   "outputs": [],
   "source": []
  },
  {
   "cell_type": "markdown",
   "metadata": {},
   "source": [
    "### DNAcycP_post_smoothed_C0 Trained on ChrV:"
   ]
  },
  {
   "cell_type": "code",
   "execution_count": 24,
   "metadata": {},
   "outputs": [],
   "source": [
    "# model_ir_lstm_post_smoothed_5bp_DNAcycP_chrv = keras.models.load_model(\"/Users/Brody1/Dropbox/Northwestern/DNA_Cyclizability/benchmarks/ir_lstm_post_smoothed_5bp_DNAcycP_chrv_chrv_1.h5\")"
   ]
  },
  {
   "cell_type": "code",
   "execution_count": 25,
   "metadata": {},
   "outputs": [],
   "source": [
    "# model_ir_lstm_post_smoothed_5bp_DNAcycP_chrv_pred_chrV_unnorm = model_ir_lstm_post_smoothed_5bp_DNAcycP_chrv.predict(X_chrV)"
   ]
  },
  {
   "cell_type": "code",
   "execution_count": 26,
   "metadata": {},
   "outputs": [],
   "source": [
    "# model_ir_lstm_post_smoothed_5bp_DNAcycP_chrv_pred_chrV = model_ir_lstm_post_smoothed_5bp_DNAcycP_chrv_pred_chrV_unnorm*cycle6_std + cycle6_mean\n",
    "# genome_df_chrV[\"model_ir_lstm_post_smoothed_5bp_DNAcycP_chrv_pred_chrV\"] = model_ir_lstm_post_smoothed_5bp_DNAcycP_chrv_pred_chrV"
   ]
  },
  {
   "cell_type": "code",
   "execution_count": 27,
   "metadata": {},
   "outputs": [],
   "source": [
    "# model_ir_lstm_post_smoothed_4and5bp_DNAcycP_chrv = keras.models.load_model(\"/Users/Brody1/Dropbox/Northwestern/DNA_Cyclizability/benchmarks/ir_lstm_post_smoothed_4and5bp_DNAcycP_chrv_chrv_1.h5\")"
   ]
  },
  {
   "cell_type": "code",
   "execution_count": 28,
   "metadata": {},
   "outputs": [],
   "source": [
    "# model_ir_lstm_post_smoothed_4and5bp_DNAcycP_chrv_pred_chrV_unnorm = model_ir_lstm_post_smoothed_4and5bp_DNAcycP_chrv.predict(X_chrV)"
   ]
  },
  {
   "cell_type": "code",
   "execution_count": 29,
   "metadata": {},
   "outputs": [],
   "source": [
    "# model_ir_lstm_post_smoothed_4and5bp_DNAcycP_chrv_pred_chrV = model_ir_lstm_post_smoothed_4and5bp_DNAcycP_chrv_pred_chrV_unnorm*cycle6_std + cycle6_mean\n",
    "# genome_df_chrV[\"model_ir_lstm_post_smoothed_4and5bp_DNAcycP_chrv_pred_chrV\"] = model_ir_lstm_post_smoothed_4and5bp_DNAcycP_chrv_pred_chrV"
   ]
  },
  {
   "cell_type": "code",
   "execution_count": null,
   "metadata": {},
   "outputs": [],
   "source": []
  },
  {
   "cell_type": "markdown",
   "metadata": {},
   "source": [
    "### CycPred:"
   ]
  },
  {
   "cell_type": "code",
   "execution_count": 30,
   "metadata": {},
   "outputs": [],
   "source": [
    "CycPred_pred_chrV = pd.read_csv(\"/Users/Brody1/Dropbox/Northwestern/DNA_Cyclizability/data/predictions/cycpred_chrv_1bp.txt\", header=None)"
   ]
  },
  {
   "cell_type": "code",
   "execution_count": 31,
   "metadata": {},
   "outputs": [],
   "source": [
    "CycPred_pred_chrV_mean = CycPred_pred_chrV.mean()\n",
    "CycPred_pred_chrV_std = CycPred_pred_chrV.std()\n",
    "CycPred_pred_chrV = (CycPred_pred_chrV-CycPred_pred_chrV_mean)/CycPred_pred_chrV_std"
   ]
  },
  {
   "cell_type": "code",
   "execution_count": 32,
   "metadata": {},
   "outputs": [],
   "source": [
    "CycPred_pred_chrV = array(CycPred_pred_chrV)"
   ]
  },
  {
   "cell_type": "code",
   "execution_count": 33,
   "metadata": {},
   "outputs": [],
   "source": [
    "genome_df_chrV[\"CycPred_pred_chrV\"] = CycPred_pred_chrV"
   ]
  },
  {
   "cell_type": "code",
   "execution_count": null,
   "metadata": {},
   "outputs": [],
   "source": []
  },
  {
   "cell_type": "markdown",
   "metadata": {},
   "source": [
    "### DeepBend:"
   ]
  },
  {
   "cell_type": "code",
   "execution_count": 34,
   "metadata": {},
   "outputs": [],
   "source": [
    "DeepBend_pred_chrV = pd.read_csv(\"/Users/Brody1/Dropbox/Northwestern/DNA_Cyclizability/data/predictions/deepbend_chrv_1bp.txt\", header=None)"
   ]
  },
  {
   "cell_type": "code",
   "execution_count": 35,
   "metadata": {},
   "outputs": [],
   "source": [
    "DeepBend_pred_chrV_mean = DeepBend_pred_chrV.mean()\n",
    "DeepBend_pred_chrV_std = DeepBend_pred_chrV.std()\n",
    "DeepBend_pred_chrV = (DeepBend_pred_chrV-DeepBend_pred_chrV_mean)/DeepBend_pred_chrV_std"
   ]
  },
  {
   "cell_type": "code",
   "execution_count": 36,
   "metadata": {},
   "outputs": [],
   "source": [
    "DeepBend_pred_chrV = array(DeepBend_pred_chrV)"
   ]
  },
  {
   "cell_type": "code",
   "execution_count": 37,
   "metadata": {},
   "outputs": [],
   "source": [
    "genome_df_chrV[\"DeepBend_pred_chrV\"] = DeepBend_pred_chrV"
   ]
  },
  {
   "cell_type": "code",
   "execution_count": null,
   "metadata": {},
   "outputs": [],
   "source": []
  },
  {
   "cell_type": "markdown",
   "metadata": {},
   "source": [
    "### MIXBend:"
   ]
  },
  {
   "cell_type": "code",
   "execution_count": 38,
   "metadata": {},
   "outputs": [],
   "source": [
    "MIXBend_pred_chrV = pd.read_csv(\"/Users/Brody1/Dropbox/Northwestern/DNA_Cyclizability/data/predictions/mixbend_chrv_1bp.txt\")"
   ]
  },
  {
   "cell_type": "code",
   "execution_count": 39,
   "metadata": {},
   "outputs": [],
   "source": [
    "MIXBend_pred_chrV_mean = MIXBend_pred_chrV.mean()\n",
    "MIXBend_pred_chrV_std = MIXBend_pred_chrV.std()\n",
    "MIXBend_pred_chrV = (MIXBend_pred_chrV-MIXBend_pred_chrV_mean)/MIXBend_pred_chrV_std"
   ]
  },
  {
   "cell_type": "code",
   "execution_count": 40,
   "metadata": {},
   "outputs": [],
   "source": [
    "MIXBend_pred_chrV = array(MIXBend_pred_chrV)"
   ]
  },
  {
   "cell_type": "code",
   "execution_count": 41,
   "metadata": {},
   "outputs": [],
   "source": [
    "genome_df_chrV[\"MIXBend_pred_chrV\"] = MIXBend_pred_chrV"
   ]
  },
  {
   "cell_type": "code",
   "execution_count": null,
   "metadata": {},
   "outputs": [],
   "source": []
  },
  {
   "cell_type": "markdown",
   "metadata": {},
   "source": [
    "### model_ir_lstm_cn trained on Tiling:"
   ]
  },
  {
   "cell_type": "code",
   "execution_count": 42,
   "metadata": {},
   "outputs": [],
   "source": [
    "# model_ir_lstm_c26_tiling = keras.models.load_model(\"/Users/Brody1/Dropbox/Northwestern/DNA_Cyclizability/benchmarks/ir_lstm_c26_tiling_1.h5\")"
   ]
  },
  {
   "cell_type": "code",
   "execution_count": 43,
   "metadata": {},
   "outputs": [],
   "source": [
    "# model_ir_lstm_c26_tiling_pred_chrV_norm = model_ir_lstm_c26_tiling.predict(X_chrV)"
   ]
  },
  {
   "cell_type": "code",
   "execution_count": 44,
   "metadata": {},
   "outputs": [],
   "source": [
    "# model_ir_lstm_c26_tiling_pred_chrV = model_ir_lstm_c26_tiling_pred_chrV_norm*cycle6_c26_std + cycle6_c26_mean\n",
    "# model_ir_lstm_c26_tiling_pred_chrV = array(model_ir_lstm_c26_tiling_pred_chrV)"
   ]
  },
  {
   "cell_type": "code",
   "execution_count": 45,
   "metadata": {},
   "outputs": [],
   "source": [
    "# genome_df_chrV[\"model_ir_lstm_c26_tiling_pred_chrV\"] = model_ir_lstm_c26_tiling_pred_chrV"
   ]
  },
  {
   "cell_type": "code",
   "execution_count": 46,
   "metadata": {},
   "outputs": [],
   "source": [
    "# model_ir_lstm_c29_tiling = keras.models.load_model(\"/Users/Brody1/Dropbox/Northwestern/DNA_Cyclizability/benchmarks/ir_lstm_c29_tiling_1.h5\")"
   ]
  },
  {
   "cell_type": "code",
   "execution_count": 47,
   "metadata": {},
   "outputs": [],
   "source": [
    "# model_ir_lstm_c29_tiling_pred_chrV_norm = model_ir_lstm_c29_tiling.predict(X_chrV)"
   ]
  },
  {
   "cell_type": "code",
   "execution_count": 48,
   "metadata": {},
   "outputs": [],
   "source": [
    "# model_ir_lstm_c29_tiling_pred_chrV = model_ir_lstm_c29_tiling_pred_chrV_norm*cycle6_c29_std + cycle6_c29_mean\n",
    "# model_ir_lstm_c29_tiling_pred_chrV = array(model_ir_lstm_c29_tiling_pred_chrV)"
   ]
  },
  {
   "cell_type": "code",
   "execution_count": 49,
   "metadata": {},
   "outputs": [],
   "source": [
    "# genome_df_chrV[\"model_ir_lstm_c29_tiling_pred_chrV\"] = model_ir_lstm_c29_tiling_pred_chrV"
   ]
  },
  {
   "cell_type": "code",
   "execution_count": 50,
   "metadata": {},
   "outputs": [],
   "source": [
    "# model_ir_lstm_c31_tiling = keras.models.load_model(\"/Users/Brody1/Dropbox/Northwestern/DNA_Cyclizability/benchmarks/ir_lstm_c31_tiling_1.h5\")"
   ]
  },
  {
   "cell_type": "code",
   "execution_count": 51,
   "metadata": {},
   "outputs": [],
   "source": [
    "# model_ir_lstm_c31_tiling_pred_chrV_norm = model_ir_lstm_c31_tiling.predict(X_chrV)"
   ]
  },
  {
   "cell_type": "code",
   "execution_count": 52,
   "metadata": {},
   "outputs": [],
   "source": [
    "# model_ir_lstm_c31_tiling_pred_chrV = model_ir_lstm_c31_tiling_pred_chrV_norm*cycle6_c31_std + cycle6_c31_mean\n",
    "# model_ir_lstm_c31_tiling_pred_chrV = array(model_ir_lstm_c31_tiling_pred_chrV)"
   ]
  },
  {
   "cell_type": "code",
   "execution_count": 53,
   "metadata": {},
   "outputs": [],
   "source": [
    "# genome_df_chrV[\"model_ir_lstm_c31_tiling_pred_chrV\"] = model_ir_lstm_c31_tiling_pred_chrV"
   ]
  },
  {
   "cell_type": "code",
   "execution_count": null,
   "metadata": {},
   "outputs": [],
   "source": []
  },
  {
   "cell_type": "markdown",
   "metadata": {},
   "source": [
    "#### model_ir_lstm_cn post-smoothing"
   ]
  },
  {
   "cell_type": "code",
   "execution_count": 54,
   "metadata": {},
   "outputs": [],
   "source": [
    "# model_ir_lstm_c26_tiling_pred_chrV_post_smooth_4bp = [np.mean(model_ir_lstm_c26_tiling_pred_chrV[(i-4):(i+5)]) for i in range(4,len(model_ir_lstm_c26_tiling_pred_chrV)-4)]\n",
    "# model_ir_lstm_c26_tiling_pred_chrV_post_smooth_4bp.append(None)\n",
    "# model_ir_lstm_c26_tiling_pred_chrV_post_smooth_4bp.append(None)\n",
    "# model_ir_lstm_c26_tiling_pred_chrV_post_smooth_4bp.append(None)\n",
    "# model_ir_lstm_c26_tiling_pred_chrV_post_smooth_4bp.append(None)\n",
    "# model_ir_lstm_c26_tiling_pred_chrV_post_smooth_4bp.insert(0, None)\n",
    "# model_ir_lstm_c26_tiling_pred_chrV_post_smooth_4bp.insert(0, None)\n",
    "# model_ir_lstm_c26_tiling_pred_chrV_post_smooth_4bp.insert(0, None)\n",
    "# model_ir_lstm_c26_tiling_pred_chrV_post_smooth_4bp.insert(0, None)\n",
    "# model_ir_lstm_c26_tiling_pred_chrV_post_smooth_4bp = array(model_ir_lstm_c26_tiling_pred_chrV_post_smooth_4bp)\n",
    "# genome_df_chrV[\"model_ir_lstm_c26_tiling_pred_chrV_post_smooth_4bp\"] = model_ir_lstm_c26_tiling_pred_chrV_post_smooth_4bp"
   ]
  },
  {
   "cell_type": "code",
   "execution_count": 55,
   "metadata": {},
   "outputs": [],
   "source": [
    "# model_ir_lstm_c26_tiling_pred_chrV_post_smooth_5bp = [np.mean(model_ir_lstm_c26_tiling_pred_chrV[(i-5):(i+6)]) for i in range(5,len(model_ir_lstm_c26_tiling_pred_chrV)-5)]\n",
    "# model_ir_lstm_c26_tiling_pred_chrV_post_smooth_5bp.append(None)\n",
    "# model_ir_lstm_c26_tiling_pred_chrV_post_smooth_5bp.append(None)\n",
    "# model_ir_lstm_c26_tiling_pred_chrV_post_smooth_5bp.append(None)\n",
    "# model_ir_lstm_c26_tiling_pred_chrV_post_smooth_5bp.append(None)\n",
    "# model_ir_lstm_c26_tiling_pred_chrV_post_smooth_5bp.append(None)\n",
    "# model_ir_lstm_c26_tiling_pred_chrV_post_smooth_5bp.insert(0, None)\n",
    "# model_ir_lstm_c26_tiling_pred_chrV_post_smooth_5bp.insert(0, None)\n",
    "# model_ir_lstm_c26_tiling_pred_chrV_post_smooth_5bp.insert(0, None)\n",
    "# model_ir_lstm_c26_tiling_pred_chrV_post_smooth_5bp.insert(0, None)\n",
    "# model_ir_lstm_c26_tiling_pred_chrV_post_smooth_5bp.insert(0, None)\n",
    "# model_ir_lstm_c26_tiling_pred_chrV_post_smooth_5bp = array(model_ir_lstm_c26_tiling_pred_chrV_post_smooth_5bp)\n",
    "# genome_df_chrV[\"model_ir_lstm_c26_tiling_pred_chrV_post_smooth_5bp\"] = model_ir_lstm_c26_tiling_pred_chrV_post_smooth_5bp"
   ]
  },
  {
   "cell_type": "code",
   "execution_count": 56,
   "metadata": {},
   "outputs": [],
   "source": [
    "# w_4 = 1/(10.4-9)\n",
    "# w_5 = 1/(11-10.4)\n",
    "# model_ir_lstm_c26_tiling_pred_chrV_post_smooth_4and5bp = [(model_ir_lstm_c26_tiling_pred_chrV_post_smooth_4bp[i]*w_4 + model_ir_lstm_c26_tiling_pred_chrV_post_smooth_5bp[i]*w_5)/(w_4+w_5) if model_ir_lstm_c26_tiling_pred_chrV_post_smooth_5bp[i] is not None else None for i in range(len(model_ir_lstm_c26_tiling_pred_chrV_post_smooth_5bp))]\n",
    "# model_ir_lstm_c26_tiling_pred_chrV_post_smooth_4and5bp = array(model_ir_lstm_c26_tiling_pred_chrV_post_smooth_4and5bp)\n",
    "# genome_df_chrV[\"model_ir_lstm_c26_tiling_pred_chrV_post_smooth_4and5bp\"] = model_ir_lstm_c26_tiling_pred_chrV_post_smooth_4and5bp"
   ]
  },
  {
   "cell_type": "code",
   "execution_count": 57,
   "metadata": {},
   "outputs": [],
   "source": [
    "# model_ir_lstm_c29_tiling_pred_chrV_post_smooth_4bp = [np.mean(model_ir_lstm_c29_tiling_pred_chrV[(i-4):(i+5)]) for i in range(4,len(model_ir_lstm_c29_tiling_pred_chrV)-4)]\n",
    "# model_ir_lstm_c29_tiling_pred_chrV_post_smooth_4bp.append(None)\n",
    "# model_ir_lstm_c29_tiling_pred_chrV_post_smooth_4bp.append(None)\n",
    "# model_ir_lstm_c29_tiling_pred_chrV_post_smooth_4bp.append(None)\n",
    "# model_ir_lstm_c29_tiling_pred_chrV_post_smooth_4bp.append(None)\n",
    "# model_ir_lstm_c29_tiling_pred_chrV_post_smooth_4bp.insert(0, None)\n",
    "# model_ir_lstm_c29_tiling_pred_chrV_post_smooth_4bp.insert(0, None)\n",
    "# model_ir_lstm_c29_tiling_pred_chrV_post_smooth_4bp.insert(0, None)\n",
    "# model_ir_lstm_c29_tiling_pred_chrV_post_smooth_4bp.insert(0, None)\n",
    "# model_ir_lstm_c29_tiling_pred_chrV_post_smooth_4bp = array(model_ir_lstm_c29_tiling_pred_chrV_post_smooth_4bp)\n",
    "# genome_df_chrV[\"model_ir_lstm_c29_tiling_pred_chrV_post_smooth_4bp\"] = model_ir_lstm_c29_tiling_pred_chrV_post_smooth_4bp"
   ]
  },
  {
   "cell_type": "code",
   "execution_count": 58,
   "metadata": {},
   "outputs": [],
   "source": [
    "# model_ir_lstm_c29_tiling_pred_chrV_post_smooth_5bp = [np.mean(model_ir_lstm_c29_tiling_pred_chrV[(i-5):(i+6)]) for i in range(5,len(model_ir_lstm_c29_tiling_pred_chrV)-5)]\n",
    "# model_ir_lstm_c29_tiling_pred_chrV_post_smooth_5bp.append(None)\n",
    "# model_ir_lstm_c29_tiling_pred_chrV_post_smooth_5bp.append(None)\n",
    "# model_ir_lstm_c29_tiling_pred_chrV_post_smooth_5bp.append(None)\n",
    "# model_ir_lstm_c29_tiling_pred_chrV_post_smooth_5bp.append(None)\n",
    "# model_ir_lstm_c29_tiling_pred_chrV_post_smooth_5bp.append(None)\n",
    "# model_ir_lstm_c29_tiling_pred_chrV_post_smooth_5bp.insert(0, None)\n",
    "# model_ir_lstm_c29_tiling_pred_chrV_post_smooth_5bp.insert(0, None)\n",
    "# model_ir_lstm_c29_tiling_pred_chrV_post_smooth_5bp.insert(0, None)\n",
    "# model_ir_lstm_c29_tiling_pred_chrV_post_smooth_5bp.insert(0, None)\n",
    "# model_ir_lstm_c29_tiling_pred_chrV_post_smooth_5bp.insert(0, None)\n",
    "# model_ir_lstm_c29_tiling_pred_chrV_post_smooth_5bp = array(model_ir_lstm_c29_tiling_pred_chrV_post_smooth_5bp)\n",
    "# genome_df_chrV[\"model_ir_lstm_c29_tiling_pred_chrV_post_smooth_5bp\"] = model_ir_lstm_c29_tiling_pred_chrV_post_smooth_5bp"
   ]
  },
  {
   "cell_type": "code",
   "execution_count": 59,
   "metadata": {},
   "outputs": [],
   "source": [
    "# model_ir_lstm_c29_tiling_pred_chrV_post_smooth_4and5bp = [(model_ir_lstm_c29_tiling_pred_chrV_post_smooth_4bp[i]*w_4 + model_ir_lstm_c29_tiling_pred_chrV_post_smooth_5bp[i]*w_5)/(w_4+w_5) if model_ir_lstm_c29_tiling_pred_chrV_post_smooth_5bp[i] is not None else None for i in range(len(model_ir_lstm_c29_tiling_pred_chrV_post_smooth_5bp))]\n",
    "# model_ir_lstm_c29_tiling_pred_chrV_post_smooth_4and5bp = array(model_ir_lstm_c29_tiling_pred_chrV_post_smooth_4and5bp)\n",
    "# genome_df_chrV[\"model_ir_lstm_c29_tiling_pred_chrV_post_smooth_4and5bp\"] = model_ir_lstm_c29_tiling_pred_chrV_post_smooth_4and5bp"
   ]
  },
  {
   "cell_type": "code",
   "execution_count": null,
   "metadata": {},
   "outputs": [],
   "source": []
  },
  {
   "cell_type": "code",
   "execution_count": 60,
   "metadata": {},
   "outputs": [],
   "source": [
    "# model_ir_lstm_c31_tiling_pred_chrV_post_smooth_4bp = [np.mean(model_ir_lstm_c31_tiling_pred_chrV[(i-4):(i+5)]) for i in range(4,len(model_ir_lstm_c31_tiling_pred_chrV)-4)]\n",
    "# model_ir_lstm_c31_tiling_pred_chrV_post_smooth_4bp.append(None)\n",
    "# model_ir_lstm_c31_tiling_pred_chrV_post_smooth_4bp.append(None)\n",
    "# model_ir_lstm_c31_tiling_pred_chrV_post_smooth_4bp.append(None)\n",
    "# model_ir_lstm_c31_tiling_pred_chrV_post_smooth_4bp.append(None)\n",
    "# model_ir_lstm_c31_tiling_pred_chrV_post_smooth_4bp.insert(0, None)\n",
    "# model_ir_lstm_c31_tiling_pred_chrV_post_smooth_4bp.insert(0, None)\n",
    "# model_ir_lstm_c31_tiling_pred_chrV_post_smooth_4bp.insert(0, None)\n",
    "# model_ir_lstm_c31_tiling_pred_chrV_post_smooth_4bp.insert(0, None)\n",
    "# model_ir_lstm_c31_tiling_pred_chrV_post_smooth_4bp = array(model_ir_lstm_c31_tiling_pred_chrV_post_smooth_4bp)\n",
    "# genome_df_chrV[\"model_ir_lstm_c31_tiling_pred_chrV_post_smooth_4bp\"] = model_ir_lstm_c31_tiling_pred_chrV_post_smooth_4bp"
   ]
  },
  {
   "cell_type": "code",
   "execution_count": 61,
   "metadata": {},
   "outputs": [],
   "source": [
    "# model_ir_lstm_c31_tiling_pred_chrV_post_smooth_5bp = [np.mean(model_ir_lstm_c31_tiling_pred_chrV[(i-5):(i+6)]) for i in range(5,len(model_ir_lstm_c31_tiling_pred_chrV)-5)]\n",
    "# model_ir_lstm_c31_tiling_pred_chrV_post_smooth_5bp.append(None)\n",
    "# model_ir_lstm_c31_tiling_pred_chrV_post_smooth_5bp.append(None)\n",
    "# model_ir_lstm_c31_tiling_pred_chrV_post_smooth_5bp.append(None)\n",
    "# model_ir_lstm_c31_tiling_pred_chrV_post_smooth_5bp.append(None)\n",
    "# model_ir_lstm_c31_tiling_pred_chrV_post_smooth_5bp.append(None)\n",
    "# model_ir_lstm_c31_tiling_pred_chrV_post_smooth_5bp.insert(0, None)\n",
    "# model_ir_lstm_c31_tiling_pred_chrV_post_smooth_5bp.insert(0, None)\n",
    "# model_ir_lstm_c31_tiling_pred_chrV_post_smooth_5bp.insert(0, None)\n",
    "# model_ir_lstm_c31_tiling_pred_chrV_post_smooth_5bp.insert(0, None)\n",
    "# model_ir_lstm_c31_tiling_pred_chrV_post_smooth_5bp.insert(0, None)\n",
    "# model_ir_lstm_c31_tiling_pred_chrV_post_smooth_5bp = array(model_ir_lstm_c31_tiling_pred_chrV_post_smooth_5bp)\n",
    "# genome_df_chrV[\"model_ir_lstm_c31_tiling_pred_chrV_post_smooth_5bp\"] = model_ir_lstm_c31_tiling_pred_chrV_post_smooth_5bp"
   ]
  },
  {
   "cell_type": "code",
   "execution_count": 62,
   "metadata": {},
   "outputs": [],
   "source": [
    "# model_ir_lstm_c31_tiling_pred_chrV_post_smooth_4and5bp = [(model_ir_lstm_c31_tiling_pred_chrV_post_smooth_4bp[i]*w_4 + model_ir_lstm_c31_tiling_pred_chrV_post_smooth_5bp[i]*w_5)/(w_4+w_5) if model_ir_lstm_c31_tiling_pred_chrV_post_smooth_5bp[i] is not None else None for i in range(len(model_ir_lstm_c31_tiling_pred_chrV_post_smooth_5bp))]\n",
    "# model_ir_lstm_c31_tiling_pred_chrV_post_smooth_4and5bp = array(model_ir_lstm_c31_tiling_pred_chrV_post_smooth_4and5bp)\n",
    "# genome_df_chrV[\"model_ir_lstm_c31_tiling_pred_chrV_post_smooth_4and5bp\"] = model_ir_lstm_c31_tiling_pred_chrV_post_smooth_4and5bp"
   ]
  },
  {
   "cell_type": "code",
   "execution_count": null,
   "metadata": {},
   "outputs": [],
   "source": []
  },
  {
   "cell_type": "markdown",
   "metadata": {},
   "source": [
    "### model_ir_lstm_smoothC0_v1 Trained on Tiling:"
   ]
  },
  {
   "cell_type": "code",
   "execution_count": 63,
   "metadata": {},
   "outputs": [],
   "source": [
    "# model_ir_lstm_smoothC0_v1_tiling = keras.models.load_model(\"/Users/Brody1/Dropbox/Northwestern/DNA_Cyclizability/benchmarks/ir_lstm_smoothC0_v1_tiling_10.h5\")\n",
    "# model_ir_lstm_smoothC0_v1_tiling = keras.models.load_model(\"/Users/Brody1/Dropbox/Northwestern/DNA_Cyclizability/benchmarks/ir_lstm_smoothC0_v1_tiling_1.h5\")"
   ]
  },
  {
   "cell_type": "code",
   "execution_count": 64,
   "metadata": {},
   "outputs": [],
   "source": [
    "# model_ir_lstm_smoothC0_v1_tiling_pred_chrV = model_ir_lstm_smoothC0_v1_tiling.predict(X_chrV)"
   ]
  },
  {
   "cell_type": "code",
   "execution_count": 65,
   "metadata": {},
   "outputs": [],
   "source": [
    "# genome_df_chrV[\"model_ir_lstm_smoothC0_v1_tiling_pred_chrV\"] = model_ir_lstm_smoothC0_v1_tiling_pred_chrV"
   ]
  },
  {
   "cell_type": "code",
   "execution_count": null,
   "metadata": {},
   "outputs": [],
   "source": []
  },
  {
   "cell_type": "markdown",
   "metadata": {},
   "source": [
    "### model_ir_lstm_post_smoothed_C0 Trained on ChrV:"
   ]
  },
  {
   "cell_type": "code",
   "execution_count": 66,
   "metadata": {},
   "outputs": [],
   "source": [
    "# model_ir_lstm_post_smoothed_C0_chrv = keras.models.load_model(\"/Users/Brody1/Dropbox/Northwestern/DNA_Cyclizability/benchmarks/ir_lstm_post_smoothed_C0_chrv_10.h5\")"
   ]
  },
  {
   "cell_type": "code",
   "execution_count": 67,
   "metadata": {},
   "outputs": [],
   "source": [
    "# model_ir_lstm_post_smoothed_C0_chrv_pred_chrV = model_ir_lstm_post_smoothed_C0_chrv.predict(X_chrV)"
   ]
  },
  {
   "cell_type": "code",
   "execution_count": 68,
   "metadata": {},
   "outputs": [],
   "source": [
    "# genome_df_chrV[\"model_ir_lstm_post_smoothed_C0_chrv_pred_chrV\"] = model_ir_lstm_post_smoothed_C0_chrv_pred_chrV"
   ]
  },
  {
   "cell_type": "code",
   "execution_count": null,
   "metadata": {},
   "outputs": [],
   "source": []
  },
  {
   "cell_type": "code",
   "execution_count": 69,
   "metadata": {},
   "outputs": [],
   "source": [
    "# model_ir_lstm_tiling = keras.models.load_model(\"/Users/Brody1/Dropbox/Northwestern/DNA_Cyclizability/benchmarks/ir_lstm_tiling_10.h5\")"
   ]
  },
  {
   "cell_type": "code",
   "execution_count": 70,
   "metadata": {},
   "outputs": [],
   "source": [
    "# model_ir_lstm_tiling_pred_chrV = model_ir_lstm_tiling.predict(X_chrV)"
   ]
  },
  {
   "cell_type": "code",
   "execution_count": 71,
   "metadata": {},
   "outputs": [],
   "source": [
    "# genome_df_chrV[\"model_ir_lstm_tiling_pred_chrV\"] = model_ir_lstm_tiling_pred_chrV"
   ]
  },
  {
   "cell_type": "code",
   "execution_count": null,
   "metadata": {},
   "outputs": [],
   "source": []
  },
  {
   "cell_type": "markdown",
   "metadata": {},
   "source": [
    "#### model_ir_lstm post-smoothing"
   ]
  },
  {
   "cell_type": "code",
   "execution_count": 72,
   "metadata": {},
   "outputs": [],
   "source": [
    "# model_ir_lstm_tiling_pred_chrV_post_smooth_1bp = [np.mean(model_ir_lstm_tiling_pred_chrV[(i-1):(i+2)]) for i in range(1,len(model_ir_lstm_tiling_pred_chrV)-1)]\n",
    "# model_ir_lstm_tiling_pred_chrV_post_smooth_1bp.append(None)\n",
    "# model_ir_lstm_tiling_pred_chrV_post_smooth_1bp.insert(0, None)\n",
    "# model_ir_lstm_tiling_pred_chrV_post_smooth_1bp = array(model_ir_lstm_tiling_pred_chrV_post_smooth_1bp)\n",
    "# genome_df_chrV[\"model_ir_lstm_tiling_pred_chrV_post_smooth_1bp\"] = model_ir_lstm_tiling_pred_chrV_post_smooth_1bp"
   ]
  },
  {
   "cell_type": "code",
   "execution_count": 73,
   "metadata": {},
   "outputs": [],
   "source": [
    "# model_ir_lstm_tiling_pred_chrV_post_smooth_2bp = [np.mean(model_ir_lstm_tiling_pred_chrV[(i-2):(i+3)]) for i in range(2,len(model_ir_lstm_tiling_pred_chrV)-2)]\n",
    "# model_ir_lstm_tiling_pred_chrV_post_smooth_2bp.append(None)\n",
    "# model_ir_lstm_tiling_pred_chrV_post_smooth_2bp.append(None)\n",
    "# model_ir_lstm_tiling_pred_chrV_post_smooth_2bp.insert(0, None)\n",
    "# model_ir_lstm_tiling_pred_chrV_post_smooth_2bp.insert(0, None)\n",
    "# model_ir_lstm_tiling_pred_chrV_post_smooth_2bp = array(model_ir_lstm_tiling_pred_chrV_post_smooth_2bp)\n",
    "# genome_df_chrV[\"model_ir_lstm_tiling_pred_chrV_post_smooth_2bp\"] = model_ir_lstm_tiling_pred_chrV_post_smooth_2bp"
   ]
  },
  {
   "cell_type": "code",
   "execution_count": 74,
   "metadata": {},
   "outputs": [],
   "source": [
    "# model_ir_lstm_tiling_pred_chrV_post_smooth_3bp = [np.mean(model_ir_lstm_tiling_pred_chrV[(i-3):(i+4)]) for i in range(3,len(model_ir_lstm_tiling_pred_chrV)-3)]\n",
    "# model_ir_lstm_tiling_pred_chrV_post_smooth_3bp.append(None)\n",
    "# model_ir_lstm_tiling_pred_chrV_post_smooth_3bp.append(None)\n",
    "# model_ir_lstm_tiling_pred_chrV_post_smooth_3bp.append(None)\n",
    "# model_ir_lstm_tiling_pred_chrV_post_smooth_3bp.insert(0, None)\n",
    "# model_ir_lstm_tiling_pred_chrV_post_smooth_3bp.insert(0, None)\n",
    "# model_ir_lstm_tiling_pred_chrV_post_smooth_3bp.insert(0, None)\n",
    "# model_ir_lstm_tiling_pred_chrV_post_smooth_3bp = array(model_ir_lstm_tiling_pred_chrV_post_smooth_3bp)\n",
    "# genome_df_chrV[\"model_ir_lstm_tiling_pred_chrV_post_smooth_3bp\"] = model_ir_lstm_tiling_pred_chrV_post_smooth_3bp"
   ]
  },
  {
   "cell_type": "code",
   "execution_count": 75,
   "metadata": {},
   "outputs": [],
   "source": [
    "# model_ir_lstm_tiling_pred_chrV_post_smooth_4bp = [np.mean(model_ir_lstm_tiling_pred_chrV[(i-4):(i+5)]) for i in range(4,len(model_ir_lstm_tiling_pred_chrV)-4)]\n",
    "# model_ir_lstm_tiling_pred_chrV_post_smooth_4bp.append(None)\n",
    "# model_ir_lstm_tiling_pred_chrV_post_smooth_4bp.append(None)\n",
    "# model_ir_lstm_tiling_pred_chrV_post_smooth_4bp.append(None)\n",
    "# model_ir_lstm_tiling_pred_chrV_post_smooth_4bp.append(None)\n",
    "# model_ir_lstm_tiling_pred_chrV_post_smooth_4bp.insert(0, None)\n",
    "# model_ir_lstm_tiling_pred_chrV_post_smooth_4bp.insert(0, None)\n",
    "# model_ir_lstm_tiling_pred_chrV_post_smooth_4bp.insert(0, None)\n",
    "# model_ir_lstm_tiling_pred_chrV_post_smooth_4bp.insert(0, None)\n",
    "# model_ir_lstm_tiling_pred_chrV_post_smooth_4bp = array(model_ir_lstm_tiling_pred_chrV_post_smooth_4bp)\n",
    "# genome_df_chrV[\"model_ir_lstm_tiling_pred_chrV_post_smooth_4bp\"] = model_ir_lstm_tiling_pred_chrV_post_smooth_4bp"
   ]
  },
  {
   "cell_type": "code",
   "execution_count": 76,
   "metadata": {},
   "outputs": [],
   "source": [
    "# model_ir_lstm_tiling_pred_chrV_post_smooth_4bp_weighted = [np.average(model_ir_lstm_tiling_pred_chrV[(i-4):(i+5)].flatten(), weights=[1,2,3,4,5,4,3,2,1]) for i in range(4,len(model_ir_lstm_tiling_pred_chrV)-4)]\n",
    "# model_ir_lstm_tiling_pred_chrV_post_smooth_4bp_weighted.append(None)\n",
    "# model_ir_lstm_tiling_pred_chrV_post_smooth_4bp_weighted.append(None)\n",
    "# model_ir_lstm_tiling_pred_chrV_post_smooth_4bp_weighted.append(None)\n",
    "# model_ir_lstm_tiling_pred_chrV_post_smooth_4bp_weighted.append(None)\n",
    "# model_ir_lstm_tiling_pred_chrV_post_smooth_4bp_weighted.insert(0, None)\n",
    "# model_ir_lstm_tiling_pred_chrV_post_smooth_4bp_weighted.insert(0, None)\n",
    "# model_ir_lstm_tiling_pred_chrV_post_smooth_4bp_weighted.insert(0, None)\n",
    "# model_ir_lstm_tiling_pred_chrV_post_smooth_4bp_weighted.insert(0, None)\n",
    "# model_ir_lstm_tiling_pred_chrV_post_smooth_4bp_weighted = array(model_ir_lstm_tiling_pred_chrV_post_smooth_4bp_weighted)\n",
    "# genome_df_chrV[\"model_ir_lstm_tiling_pred_chrV_post_smooth_4bp_weighted\"] = model_ir_lstm_tiling_pred_chrV_post_smooth_4bp_weighted"
   ]
  },
  {
   "cell_type": "code",
   "execution_count": 77,
   "metadata": {},
   "outputs": [],
   "source": [
    "# model_ir_lstm_tiling_pred_chrV_post_smooth_5bp = [np.mean(model_ir_lstm_tiling_pred_chrV[(i-5):(i+6)]) for i in range(5,len(model_ir_lstm_tiling_pred_chrV)-5)]\n",
    "# model_ir_lstm_tiling_pred_chrV_post_smooth_5bp.append(None)\n",
    "# model_ir_lstm_tiling_pred_chrV_post_smooth_5bp.append(None)\n",
    "# model_ir_lstm_tiling_pred_chrV_post_smooth_5bp.append(None)\n",
    "# model_ir_lstm_tiling_pred_chrV_post_smooth_5bp.append(None)\n",
    "# model_ir_lstm_tiling_pred_chrV_post_smooth_5bp.append(None)\n",
    "# model_ir_lstm_tiling_pred_chrV_post_smooth_5bp.insert(0, None)\n",
    "# model_ir_lstm_tiling_pred_chrV_post_smooth_5bp.insert(0, None)\n",
    "# model_ir_lstm_tiling_pred_chrV_post_smooth_5bp.insert(0, None)\n",
    "# model_ir_lstm_tiling_pred_chrV_post_smooth_5bp.insert(0, None)\n",
    "# model_ir_lstm_tiling_pred_chrV_post_smooth_5bp.insert(0, None)\n",
    "# model_ir_lstm_tiling_pred_chrV_post_smooth_5bp = array(model_ir_lstm_tiling_pred_chrV_post_smooth_5bp)\n",
    "# genome_df_chrV[\"model_ir_lstm_tiling_pred_chrV_post_smooth_5bp\"] = model_ir_lstm_tiling_pred_chrV_post_smooth_5bp"
   ]
  },
  {
   "cell_type": "code",
   "execution_count": null,
   "metadata": {},
   "outputs": [],
   "source": []
  },
  {
   "cell_type": "markdown",
   "metadata": {},
   "source": [
    "### model_ir_lstm Trained on ChrV:"
   ]
  },
  {
   "cell_type": "code",
   "execution_count": 78,
   "metadata": {},
   "outputs": [],
   "source": [
    "# model_ir_lstm_chrv = keras.models.load_model(\"/Users/Brody1/Dropbox/Northwestern/DNA_Cyclizability/benchmarks/ir_lstm_chrv_10.h5\")"
   ]
  },
  {
   "cell_type": "code",
   "execution_count": 79,
   "metadata": {},
   "outputs": [],
   "source": [
    "# model_ir_lstm_chrv_pred_chrV = model_ir_lstm_chrv.predict(X_chrV)"
   ]
  },
  {
   "cell_type": "code",
   "execution_count": 80,
   "metadata": {},
   "outputs": [],
   "source": [
    "# genome_df_chrV[\"model_ir_lstm_chrv_pred_chrV\"] = model_ir_lstm_chrv_pred_chrV"
   ]
  },
  {
   "cell_type": "markdown",
   "metadata": {},
   "source": [
    "#### model_ir_lstm post-smoothing (Chrv)"
   ]
  },
  {
   "cell_type": "code",
   "execution_count": 81,
   "metadata": {},
   "outputs": [],
   "source": [
    "# model_ir_lstm_chrv_pred_chrV_post_smooth_5bp = [np.mean(model_ir_lstm_chrv_pred_chrV[(i-5):(i+6)]) for i in range(5,len(model_ir_lstm_chrv_pred_chrV)-5)]\n",
    "# model_ir_lstm_chrv_pred_chrV_post_smooth_5bp.append(None)\n",
    "# model_ir_lstm_chrv_pred_chrV_post_smooth_5bp.append(None)\n",
    "# model_ir_lstm_chrv_pred_chrV_post_smooth_5bp.append(None)\n",
    "# model_ir_lstm_chrv_pred_chrV_post_smooth_5bp.append(None)\n",
    "# model_ir_lstm_chrv_pred_chrV_post_smooth_5bp.append(None)\n",
    "# model_ir_lstm_chrv_pred_chrV_post_smooth_5bp.insert(0, None)\n",
    "# model_ir_lstm_chrv_pred_chrV_post_smooth_5bp.insert(0, None)\n",
    "# model_ir_lstm_chrv_pred_chrV_post_smooth_5bp.insert(0, None)\n",
    "# model_ir_lstm_chrv_pred_chrV_post_smooth_5bp.insert(0, None)\n",
    "# model_ir_lstm_chrv_pred_chrV_post_smooth_5bp.insert(0, None)\n",
    "# model_ir_lstm_chrv_pred_chrV_post_smooth_5bp = array(model_ir_lstm_chrv_pred_chrV_post_smooth_5bp)\n",
    "# genome_df_chrV[\"model_ir_lstm_chrv_pred_chrV_post_smooth_5bp\"] = model_ir_lstm_chrv_pred_chrV_post_smooth_5bp"
   ]
  },
  {
   "cell_type": "code",
   "execution_count": null,
   "metadata": {},
   "outputs": [],
   "source": []
  },
  {
   "cell_type": "markdown",
   "metadata": {},
   "source": [
    "### Original C0, Cn Measurements:"
   ]
  },
  {
   "cell_type": "code",
   "execution_count": 82,
   "metadata": {},
   "outputs": [],
   "source": [
    "cycle6 = pd.read_csv(\"/Users/Brody1/Dropbox/Northwestern/DNA_Cyclizability/cycle6.txt\",delimiter = \",\")\n",
    "# genome_df_chrV_everyseq = pd.read_csv(\"/Users/Brody1/Dropbox/Northwestern/DNA_Cyclizability/data/Created/yeast_chrV_1bpresolution_subsequence50.csv\")"
   ]
  },
  {
   "cell_type": "code",
   "execution_count": 83,
   "metadata": {},
   "outputs": [],
   "source": [
    "j=0\n",
    "matched_pairs = []\n",
    "for i, seq in enumerate(cycle6.Sequence):\n",
    "    cur_iter = 0\n",
    "    while genome_df_chrV.sequence[j+cur_iter] != seq:\n",
    "        cur_iter += 1\n",
    "        if cur_iter > 200:\n",
    "            break\n",
    "    if cur_iter > 200:\n",
    "        continue\n",
    "    j += cur_iter\n",
    "    matched_pairs.append((i,j))"
   ]
  },
  {
   "cell_type": "code",
   "execution_count": 84,
   "metadata": {},
   "outputs": [],
   "source": [
    "genome_df_chrV[\"C0\"] = None\n",
    "genome_df_chrV[\"C26\"] = None\n",
    "genome_df_chrV[\"C29\"] = None\n",
    "genome_df_chrV[\"C31\"] = None"
   ]
  },
  {
   "cell_type": "code",
   "execution_count": null,
   "metadata": {},
   "outputs": [],
   "source": [
    "for (i, j) in matched_pairs:\n",
    "    if genome_df_chrV[\"sequence\"].iloc[j] != cycle6[\"Sequence\"].iloc[i]:\n",
    "        print(\"Error!\")\n",
    "        break\n",
    "    genome_df_chrV[\"C0\"].iloc[j] = cycle6[\"C0\"].iloc[i]\n",
    "    genome_df_chrV[\"C26\"].iloc[j] = cycle6[\"n=26\"].iloc[i]\n",
    "    genome_df_chrV[\"C29\"].iloc[j] = cycle6[\"n=29\"].iloc[i]\n",
    "    genome_df_chrV[\"C31\"].iloc[j] = cycle6[\"n=31\"].iloc[i]"
   ]
  },
  {
   "cell_type": "code",
   "execution_count": null,
   "metadata": {},
   "outputs": [],
   "source": [
    "genome_df_chrV"
   ]
  },
  {
   "cell_type": "code",
   "execution_count": null,
   "metadata": {},
   "outputs": [],
   "source": [
    "# sequence_length = 50\n",
    "# sequence_length = 100\n",
    "# sequence_length = 147\n",
    "sequence_length = 200\n",
    "# sequence_length = 2000\n",
    "\n",
    "# starting_point = 0\n",
    "# starting_point = 200\n",
    "# starting_point = 34048\n",
    "# starting_point = 62614 # Solid crazy region (sequence_length=200)\n",
    "# starting_point = 107225 # Relatively flat\n",
    "# starting_point = 112147 # Discrepancy between C31 and rest\n",
    "# starting_point = 122424 # Discrepancy between C31 and rest\n",
    "# starting_point = 158803 # Discrepancy bewteen C31 and rest\n",
    "# starting_point = 192669 # Evidence of 5bp and 10bp periodicity? (sequence_length = 147)\n",
    "# starting_point=  244776 # Interesting volatility\n",
    "# starting_point = 277215 # 5bp periodicity\n",
    "# starting_point = 313465 # Discrepancy between C31 and rest\n",
    "# starting_point = 403190 # 5bp periodicity\n",
    "# starting_point = 407586 # Discrepancy between all Cn\n",
    "# starting_point = 428150 # High C0 values, 1bp volatility\n",
    "# starting_point = 465270 # High C0 values, some 5bp periodicity\n",
    "# starting_point = 465281 # somewhat abnormal 5bp periodicity\n",
    "# starting_point = 469786 # mild 1bp volatility\n",
    "# starting_point = 502770 # A High C0 value, 5bp periodicity\n",
    "# starting_point = 522942 # One big peak\n",
    "# starting_point = 560846 # 1bp volatility\n",
    "# starting_point = np.random.randint(genome_df_chrV.shape[0]-sequence_length)\n",
    "\n",
    "# starting_point = 250691 # Region on Slides\n",
    "starting_point = 479158 # Region for Paper?\n",
    "\n",
    "\n",
    "alpha_val = 0.5\n",
    "alpha_val_2 = 0.4\n",
    "alpha_val_3 = 0.25\n",
    "\n",
    "# ylims=[-3, 3]\n",
    "ylims=[-3.5, 3.5]\n",
    "\n",
    "plt.figure(figsize=(12,7))\n",
    "\n",
    "plt.plot(list(range(starting_point, starting_point + sequence_length)),\n",
    "         DNAcycP_pred_chrV[range(starting_point, starting_point + sequence_length)], label=\"Predicted DNAcycP\", alpha=alpha_val)\n",
    "\n",
    "# plt.plot(list(range(starting_point, starting_point + sequence_length)),\n",
    "#          DNAcycP_pred_chrV_post_smooth_1bp[range(starting_point, starting_point + sequence_length)], label=\"Predicted DNAcycP, Smoothed (1 bp, equal weighting)\", alpha=alpha_val)\n",
    "# plt.plot(list(range(starting_point, starting_point + sequence_length)),\n",
    "#          DNAcycP_pred_chrV_post_smooth_2bp[range(starting_point, starting_point + sequence_length)], label=\"Predicted DNAcycP, Smoothed (2 bp, equal weighting)\", alpha=alpha_val)\n",
    "# plt.plot(list(range(starting_point, starting_point + sequence_length)),\n",
    "#          DNAcycP_pred_chrV_post_smooth_3bp[range(starting_point, starting_point + sequence_length)], label=\"Predicted DNAcycP, Smoothed (3 bp, equal weighting)\", alpha=alpha_val)\n",
    "# plt.plot(list(range(starting_point, starting_point + sequence_length)),\n",
    "#          DNAcycP_pred_chrV_post_smooth_4bp[range(starting_point, starting_point + sequence_length)], label=\"Predicted DNAcycP, Smoothed (4 bp, equal weighting)\", alpha=alpha_val)\n",
    "# plt.plot(list(range(starting_point, starting_point + sequence_length)),\n",
    "#          DNAcycP_pred_chrV_post_smooth_4bp_weighted[range(starting_point, starting_point + sequence_length)], label=\"Predicted DNAcycP, Smoothed (4 bp, weighted)\", alpha=alpha_val)\n",
    "# plt.plot(list(range(starting_point, starting_point + sequence_length)),\n",
    "#          DNAcycP_pred_chrV_post_smooth_5bp[range(starting_point, starting_point + sequence_length)], label=\"Predicted DNAcycP, Smoothed (5 bp, equal weighting)\", alpha=alpha_val)\n",
    "# plt.plot(list(range(starting_point, starting_point + sequence_length)),\n",
    "#          DNAcycP_pred_chrV_post_smooth_4and5bp[range(starting_point, starting_point + sequence_length)], label=\"Predicted DNAcycP, Smoothed (4/5 bp, equal weighting)\", alpha=alpha_val)\n",
    "\n",
    "# plt.plot(list(range(starting_point, starting_point + sequence_length)),\n",
    "#          model_ir_lstm_post_smoothed_5bp_DNAcycP_chrv_pred_chrV[range(starting_point, starting_point + sequence_length)], label=\"Predicted Post-Smoothed (5bp) DNAcycP\", alpha=alpha_val)\n",
    "# plt.plot(list(range(starting_point, starting_point + sequence_length)),\n",
    "#          model_ir_lstm_post_smoothed_4and5bp_DNAcycP_chrv_pred_chrV[range(starting_point, starting_point + sequence_length)], label=\"Predicted Post-Smoothed (4/5bp) DNAcycP\", alpha=alpha_val)\n",
    "\n",
    "plt.plot(list(range(starting_point, starting_point + sequence_length)),\n",
    "         CycPred_pred_chrV[range(starting_point, starting_point + sequence_length)], label=\"Predicted CycPred\", alpha=alpha_val)\n",
    "\n",
    "plt.plot(list(range(starting_point, starting_point + sequence_length)),\n",
    "         DeepBend_pred_chrV[range(starting_point, starting_point + sequence_length)], label=\"Predicted DeepBend\", alpha=alpha_val)\n",
    "\n",
    "plt.plot(list(range(starting_point, starting_point + sequence_length)),\n",
    "         MIXBend_pred_chrV[range(starting_point, starting_point + sequence_length)], label=\"Predicted MIXBend\", alpha=alpha_val)\n",
    "\n",
    "# plt.plot(list(range(starting_point, starting_point + sequence_length)),\n",
    "#          model_ir_lstm_c26_tiling_pred_chrV[range(starting_point, starting_point + sequence_length)], label=\"Predicted C26 (Trained on Tiling)\", alpha=alpha_val)\n",
    "# plt.plot(list(range(starting_point, starting_point + sequence_length)),\n",
    "#          model_ir_lstm_c29_tiling_pred_chrV[range(starting_point, starting_point + sequence_length)], label=\"Predicted C29 (Trained on Tiling)\", alpha=alpha_val)\n",
    "# plt.plot(list(range(starting_point, starting_point + sequence_length)),\n",
    "#          model_ir_lstm_c31_tiling_pred_chrV[range(starting_point, starting_point + sequence_length)], label=\"Predicted C31 (Trained on Tiling)\", alpha=alpha_val)\n",
    "\n",
    "# plt.plot(list(range(starting_point, starting_point + sequence_length)),\n",
    "#          (model_ir_lstm_c26_tiling_pred_chrV[range(starting_point, starting_point + sequence_length)] + model_ir_lstm_c31_tiling_pred_chrV[range(starting_point, starting_point + sequence_length)])/2, label=\"Mean Predicted C26, C31 (Trained on Tiling)\", alpha=alpha_val)\n",
    "\n",
    "\n",
    "# plt.plot(list(range(starting_point, starting_point + sequence_length)),\n",
    "#          model_ir_lstm_c26_tiling_pred_chrV_post_smooth_4bp[range(starting_point, starting_point + sequence_length)], label=\"Predicted C26 (Trained on Tiling), Smoothed (4 bp, equal weighting)\", alpha=alpha_val)\n",
    "# plt.plot(list(range(starting_point, starting_point + sequence_length)),\n",
    "#          model_ir_lstm_c26_tiling_pred_chrV_post_smooth_5bp[range(starting_point, starting_point + sequence_length)], label=\"Predicted C26 (Trained on Tiling), Smoothed (5 bp, equal weighting)\", alpha=alpha_val)\n",
    "# plt.plot(list(range(starting_point, starting_point + sequence_length)),\n",
    "#          model_ir_lstm_c26_tiling_pred_chrV_post_smooth_4and5bp[range(starting_point, starting_point + sequence_length)], label=\"Predicted C26 (Trained on Tiling), Smoothed (4/5 bp, equal weighting)\", alpha=alpha_val)\n",
    "\n",
    "# plt.plot(list(range(starting_point, starting_point + sequence_length)),\n",
    "#          model_ir_lstm_c29_tiling_pred_chrV_post_smooth_4bp[range(starting_point, starting_point + sequence_length)], label=\"Predicted C29 (Trained on Tiling), Smoothed (4 bp, equal weighting)\", alpha=alpha_val)\n",
    "# plt.plot(list(range(starting_point, starting_point + sequence_length)),\n",
    "#          model_ir_lstm_c29_tiling_pred_chrV_post_smooth_5bp[range(starting_point, starting_point + sequence_length)], label=\"Predicted C29 (Trained on Tiling), Smoothed (5 bp, equal weighting)\", alpha=alpha_val)\n",
    "# plt.plot(list(range(starting_point, starting_point + sequence_length)),\n",
    "#          model_ir_lstm_c29_tiling_pred_chrV_post_smooth_4and5bp[range(starting_point, starting_point + sequence_length)], label=\"Predicted C29 (Trained on Tiling), Smoothed (4/5 bp, equal weighting)\", alpha=alpha_val)\n",
    "\n",
    "# plt.plot(list(range(starting_point, starting_point + sequence_length)),\n",
    "#          model_ir_lstm_c31_tiling_pred_chrV_post_smooth_4bp[range(starting_point, starting_point + sequence_length)], label=\"Predicted C31 (Trained on Tiling), Smoothed (4 bp, equal weighting)\", alpha=alpha_val)\n",
    "# plt.plot(list(range(starting_point, starting_point + sequence_length)),\n",
    "#          model_ir_lstm_c31_tiling_pred_chrV_post_smooth_5bp[range(starting_point, starting_point + sequence_length)], label=\"Predicted C31 (Trained on Tiling), Smoothed (5 bp, equal weighting)\", alpha=alpha_val)\n",
    "# plt.plot(list(range(starting_point, starting_point + sequence_length)),\n",
    "#          model_ir_lstm_c31_tiling_pred_chrV_post_smooth_4and5bp[range(starting_point, starting_point + sequence_length)], label=\"Predicted C31 (Trained on Tiling), Smoothed (4/5 bp, equal weighting)\", alpha=alpha_val)\n",
    "\n",
    "# plt.plot(list(range(starting_point, starting_point + sequence_length)),\n",
    "#          (model_ir_lstm_c26_tiling_pred_chrV_post_smooth_4and5bp[range(starting_point, starting_point + sequence_length)] + model_ir_lstm_c29_tiling_pred_chrV_post_smooth_4and5bp[range(starting_point, starting_point + sequence_length)] + model_ir_lstm_c31_tiling_pred_chrV_post_smooth_4and5bp[range(starting_point, starting_point + sequence_length)])/3, label=\"Average of Smoothed (4/5 bp, equal weighting) C26, C29, C31 (Trained on Tiling)\", alpha=alpha_val)\n",
    "\n",
    "# plt.plot(list(range(starting_point, starting_point + sequence_length)),\n",
    "#          model_ir_lstm_smoothC0_v1_tiling_pred_chrV[range(starting_point, starting_point + sequence_length)], label=\"Predicted Pre-Smoothed C0 (Trained on Tiling)\", alpha=alpha_val)\n",
    "\n",
    "# plt.plot(list(range(starting_point, starting_point + sequence_length)),\n",
    "#          model_ir_lstm_post_smoothed_C0_chrv_pred_chrV[range(starting_point, starting_point + sequence_length)], label=\"Predicted Post-Smoothed C0 (Trained on ChrV)\", alpha=alpha_val)\n",
    "\n",
    "# plt.plot(list(range(starting_point, starting_point + sequence_length)),\n",
    "#          model_ir_lstm_tiling_pred_chrV_post_smooth_1bp[range(starting_point, starting_point + sequence_length)], label=\"Predicted Original C0 (Trained on Tiling), Smoothed (1 bp, equal weighting)\", alpha=alpha_val)\n",
    "# plt.plot(list(range(startling_preding_point, starting_point + sequence_length)),\n",
    "#          model_ir_lstm_ti_chrV_post_smooth_2bp[range(starting_point, starting_point + sequence_length)], label=\"Predicted Original C0 (Trained on Tiling), Smoothed (2 bp, equal weighting)\", alpha=alpha_val)\n",
    "# plt.plot(list(range(starting_point, starting_point + sequence_length)),\n",
    "#          model_ir_lstm_tiling_pred_chrV_post_smooth_3bp[range(starting_point, starting_point + sequence_length)], label=\"Predicted Original C0 (Trained on Tiling), Smoothed (3 bp, equal weighting)\", alpha=alpha_val)\n",
    "# plt.plot(list(range(starting_point, starting_point + sequence_length)),\n",
    "#          model_ir_lstm_tiling_pred_chrV_post_smooth_4bp[range(starting_point, starting_point + sequence_length)], label=\"Predicted Original C0 (Trained on Tiling), Smoothed (4 bp, equal weighting)\", alpha=alpha_val)\n",
    "# plt.plot(list(range(starting_point, starting_point + sequence_length)),\n",
    "#          model_ir_lstm_tiling_pred_chrV_post_smooth_4bp_weighted[range(starting_point, starting_point + sequence_length)], label=\"Predicted Original C0 (Trained on Tiling), Smoothed (4 bp, weighted)\", alpha=alpha_val)\n",
    "# plt.plot(list(range(starting_point, starting_point + sequence_length)),\n",
    "#          model_ir_lstm_tiling_pred_chrV_post_smooth_5bp[range(starting_point, starting_point + sequence_length)], label=\"Predicted Original C0 (Trained on Tiling), Smoothed (5 bp, equal weighting)\", alpha=alpha_val)\n",
    "\n",
    "# plt.plot(list(range(starting_point, starting_point + sequence_length)),\n",
    "#          model_ir_lstm_chrv_pred_chrV[range(starting_point, starting_point + sequence_length)], label=\"Predicted Original C0 (Trained on ChrV)\", alpha=alpha_val)\n",
    "# plt.plot(list(range(starting_point, starting_point + sequence_length)),\n",
    "#          model_ir_lstm_chrv_pred_chrV_post_smooth_5bp[range(starting_point, starting_point + sequence_length)], label=\"Predicted Original C0 (Trained on ChrV), Smoothed (5 bp, equal weighting)\", alpha=alpha_val)\n",
    "\n",
    "# plt.plot([list(range(starting_point, starting_point + sequence_length))[i] for i, x in enumerate(genome_df_chrV.C0[range(starting_point, starting_point + sequence_length)]) if x is not None],\n",
    "#          [x for x in genome_df_chrV.C0[range(starting_point, starting_point + sequence_length)] if x is not None], label=\"Original C0\", alpha=alpha_val_2, marker=\"o\")\n",
    "# plt.plot([list(range(starting_point, starting_point + sequence_length))[i] for i, x in enumerate(genome_df_chrV.C26[range(starting_point, starting_point + sequence_length)]) if x is not None],\n",
    "#          [x for x in genome_df_chrV.C26[range(starting_point, starting_point + sequence_length)] if x is not None], label=\"Original C26\", alpha=alpha_val_3, marker=\"o\")\n",
    "# plt.plot([list(range(starting_point, starting_point + sequence_length))[i] for i, x in enumerate(genome_df_chrV.C29[range(starting_point, starting_point + sequence_length)]) if x is not None],\n",
    "#          [x for x in genome_df_chrV.C29[range(starting_point, starting_point + sequence_length)] if x is not None], label=\"Original C29\", alpha=alpha_val_3, marker=\"o\")\n",
    "# plt.plot([list(range(starting_point, starting_point + sequence_length))[i] for i, x in enumerate(genome_df_chrV.C31[range(starting_point, starting_point + sequence_length)]) if x is not None],\n",
    "#          [x for x in genome_df_chrV.C31[range(starting_point, starting_point + sequence_length)] if x is not None], label=\"Original C31\", alpha=alpha_val_3, marker=\"o\")\n",
    "\n",
    "plt.vlines(list(range(starting_point, starting_point+sequence_length, 10)), ylims[0], ylims[1], alpha=0.1)\n",
    "plt.title(\"Predictions on ChrV, 1bp Resolution\")\n",
    "plt.legend(fontsize=\"small\")\n",
    "plt.ylim(ylims)\n",
    "plt.show()"
   ]
  },
  {
   "cell_type": "code",
   "execution_count": null,
   "metadata": {},
   "outputs": [],
   "source": [
    "starting_point"
   ]
  },
  {
   "cell_type": "code",
   "execution_count": null,
   "metadata": {},
   "outputs": [],
   "source": [
    "genome_df_chrV.shape"
   ]
  },
  {
   "cell_type": "code",
   "execution_count": null,
   "metadata": {},
   "outputs": [],
   "source": [
    "genome_df_chrV.iloc[:,3:].corr()"
   ]
  },
  {
   "cell_type": "code",
   "execution_count": 320,
   "metadata": {},
   "outputs": [],
   "source": [
    "DNAcycP_pred_chrV_inrange_counter = 0\n",
    "DNAcycP_pred_chrV_post_smooth_1bp_inrange_counter = 0\n",
    "DNAcycP_pred_chrV_post_smooth_2bp_inrange_counter = 0\n",
    "DNAcycP_pred_chrV_post_smooth_3bp_inrange_counter = 0\n",
    "DNAcycP_pred_chrV_post_smooth_4bp_inrange_counter = 0\n",
    "DNAcycP_pred_chrV_post_smooth_5bp_inrange_counter = 0\n",
    "model_ir_lstm_post_smoothed_C0_chrv_pred_chrV_inrange_counter = 0\n",
    "model_ir_lstm_tiling_pred_chrV_inrange_counter = 0\n",
    "model_ir_lstm_tiling_pred_chrV_post_smooth_5bp_inrange_counter = 0\n",
    "model_ir_lstm_chrv_pred_chrV_post_smooth_5bp_inrange_counter = 0\n",
    "total_counter = 0\n",
    "for i, x in enumerate(genome_df_chrV.C26):\n",
    "    if x is not None:\n",
    "        row_of_interest = genome_df_chrV.loc[i,[\"C26\", \"C29\", \"C31\"]]\n",
    "        row_max = np.max(row_of_interest)\n",
    "        row_min = np.min(row_of_interest)\n",
    "        if (genome_df_chrV.DNAcycP_pred_chrV[i] > row_min) and (genome_df_chrV.DNAcycP_pred_chrV[i] < row_max):\n",
    "            DNAcycP_pred_chrV_inrange_counter += 1\n",
    "        if genome_df_chrV.DNAcycP_pred_chrV_post_smooth_1bp[i] is not None:\n",
    "            if (genome_df_chrV.DNAcycP_pred_chrV_post_smooth_1bp[i] > row_min) and (genome_df_chrV.DNAcycP_pred_chrV_post_smooth_1bp[i] < row_max):\n",
    "                DNAcycP_pred_chrV_post_smooth_1bp_inrange_counter += 1\n",
    "        if genome_df_chrV.DNAcycP_pred_chrV_post_smooth_2bp[i] is not None:\n",
    "            if (genome_df_chrV.DNAcycP_pred_chrV_post_smooth_2bp[i] > row_min) and (genome_df_chrV.DNAcycP_pred_chrV_post_smooth_2bp[i] < row_max):\n",
    "                DNAcycP_pred_chrV_post_smooth_2bp_inrange_counter += 1\n",
    "        if genome_df_chrV.DNAcycP_pred_chrV_post_smooth_3bp[i] is not None:\n",
    "            if (genome_df_chrV.DNAcycP_pred_chrV_post_smooth_3bp[i] > row_min) and (genome_df_chrV.DNAcycP_pred_chrV_post_smooth_3bp[i] < row_max):\n",
    "                DNAcycP_pred_chrV_post_smooth_3bp_inrange_counter += 1\n",
    "        if genome_df_chrV.DNAcycP_pred_chrV_post_smooth_4bp[i] is not None:\n",
    "            if (genome_df_chrV.DNAcycP_pred_chrV_post_smooth_4bp[i] > row_min) and (genome_df_chrV.DNAcycP_pred_chrV_post_smooth_4bp[i] < row_max):\n",
    "                DNAcycP_pred_chrV_post_smooth_4bp_inrange_counter += 1\n",
    "        if genome_df_chrV.DNAcycP_pred_chrV_post_smooth_5bp[i] is not None:\n",
    "            if (genome_df_chrV.DNAcycP_pred_chrV_post_smooth_5bp[i] > row_min) and (genome_df_chrV.DNAcycP_pred_chrV_post_smooth_5bp[i] < row_max):\n",
    "                DNAcycP_pred_chrV_post_smooth_5bp_inrange_counter += 1\n",
    "        if (genome_df_chrV.model_ir_lstm_post_smoothed_C0_chrv_pred_chrV[i] > row_min) and (genome_df_chrV.model_ir_lstm_post_smoothed_C0_chrv_pred_chrV[i] < row_max):\n",
    "            model_ir_lstm_post_smoothed_C0_chrv_pred_chrV_inrange_counter += 1\n",
    "        if (genome_df_chrV.model_ir_lstm_tiling_pred_chrV[i] > row_min) and (genome_df_chrV.model_ir_lstm_tiling_pred_chrV[i] < row_max):\n",
    "            model_ir_lstm_tiling_pred_chrV_inrange_counter += 1\n",
    "        if genome_df_chrV.model_ir_lstm_tiling_pred_chrV_post_smooth_5bp[i] is not None:\n",
    "            if (genome_df_chrV.model_ir_lstm_tiling_pred_chrV_post_smooth_5bp[i] > row_min) and (genome_df_chrV.model_ir_lstm_tiling_pred_chrV_post_smooth_5bp[i] < row_max):\n",
    "                model_ir_lstm_tiling_pred_chrV_post_smooth_5bp_inrange_counter += 1\n",
    "        if genome_df_chrV.model_ir_lstm_chrv_pred_chrV_post_smooth_5bp[i] is not None:\n",
    "            if (genome_df_chrV.model_ir_lstm_chrv_pred_chrV_post_smooth_5bp[i] > row_min) and (genome_df_chrV.model_ir_lstm_chrv_pred_chrV_post_smooth_5bp[i] < row_max):\n",
    "                model_ir_lstm_chrv_pred_chrV_post_smooth_5bp_inrange_counter += 1\n",
    "        total_counter += 1"
   ]
  },
  {
   "cell_type": "code",
   "execution_count": null,
   "metadata": {},
   "outputs": [],
   "source": [
    "DNAcycP_pred_chrV_inrange_counter/total_counter"
   ]
  },
  {
   "cell_type": "code",
   "execution_count": null,
   "metadata": {},
   "outputs": [],
   "source": [
    "DNAcycP_pred_chrV_post_smooth_1bp_inrange_counter/total_counter"
   ]
  },
  {
   "cell_type": "code",
   "execution_count": null,
   "metadata": {},
   "outputs": [],
   "source": [
    "DNAcycP_pred_chrV_post_smooth_2bp_inrange_counter/total_counter"
   ]
  },
  {
   "cell_type": "code",
   "execution_count": null,
   "metadata": {},
   "outputs": [],
   "source": [
    "DNAcycP_pred_chrV_post_smooth_3bp_inrange_counter/total_counter"
   ]
  },
  {
   "cell_type": "code",
   "execution_count": null,
   "metadata": {},
   "outputs": [],
   "source": [
    "DNAcycP_pred_chrV_post_smooth_4bp_inrange_counter/total_counter"
   ]
  },
  {
   "cell_type": "code",
   "execution_count": null,
   "metadata": {},
   "outputs": [],
   "source": [
    "DNAcycP_pred_chrV_post_smooth_5bp_inrange_counter/total_counter"
   ]
  },
  {
   "cell_type": "code",
   "execution_count": null,
   "metadata": {},
   "outputs": [],
   "source": [
    "# model_ir_lstm_post_smoothed_C0_chrv_pred_chrV_inrange_counter/total_counter"
   ]
  },
  {
   "cell_type": "code",
   "execution_count": null,
   "metadata": {},
   "outputs": [],
   "source": [
    "# model_ir_lstm_tiling_pred_chrV_inrange_counter/total_counter"
   ]
  },
  {
   "cell_type": "code",
   "execution_count": null,
   "metadata": {},
   "outputs": [],
   "source": [
    "# model_ir_lstm_tiling_pred_chrV_post_smooth_5bp_inrange_counter/(total_counter-2)"
   ]
  },
  {
   "cell_type": "code",
   "execution_count": null,
   "metadata": {},
   "outputs": [],
   "source": [
    "# model_ir_lstm_chrv_pred_chrV_post_smooth_5bp_inrange_counter/(total_counter-2)"
   ]
  },
  {
   "cell_type": "code",
   "execution_count": null,
   "metadata": {},
   "outputs": [],
   "source": [
    "genome_df_chrV.model_ir_lstm_post_smoothed_C0_chrv_pred_chrV[0]"
   ]
  },
  {
   "cell_type": "code",
   "execution_count": null,
   "metadata": {},
   "outputs": [],
   "source": [
    "for i in range(starting_point, starting_point + sequence_length):\n",
    "    print(i, genome_df_chrV.sequence[i])"
   ]
  },
  {
   "cell_type": "code",
   "execution_count": null,
   "metadata": {},
   "outputs": [],
   "source": []
  },
  {
   "cell_type": "code",
   "execution_count": null,
   "metadata": {},
   "outputs": [],
   "source": [
    "genome_df_chrV"
   ]
  },
  {
   "cell_type": "code",
   "execution_count": 214,
   "metadata": {},
   "outputs": [],
   "source": [
    "# j=0\n",
    "# matched_pairs = []\n",
    "# for i, seq in enumerate(cycle6.Sequence):\n",
    "#     if i == 43699:\n",
    "#         print(j)\n",
    "#     cur_iter = 0\n",
    "#     while genome_df_chrV.sequence[j+cur_iter] != seq:\n",
    "#         if j+cur_iter == 305889:\n",
    "#             print(seq, genome_df_chrV.sequence[j+cur_iter], seq == genome_df_chrV.sequence[j+cur_iter])\n",
    "#         cur_iter += 1\n",
    "#         if cur_iter > 200:\n",
    "#             print(f\"No match for i={i}\")\n",
    "#             break\n",
    "#     if cur_iter > 200:\n",
    "#         continue\n",
    "#     j += cur_iter\n",
    "#     matched_pairs.append((i,j))\n",
    "#     if i%1000 == 0:\n",
    "#         print(f\"Found for i={i}\")\n",
    "# # genome_df_chrV.iloc[np.where(genome_df_chrV.sequence == cycle6.Sequence[len(cycle6.Sequence)-1])[0],:]\n"
   ]
  },
  {
   "cell_type": "code",
   "execution_count": null,
   "metadata": {},
   "outputs": [],
   "source": [
    "len(matched_pairs), cycle6.shape[0]-len(matched_pairs), len(matched_pairs)/cycle6.shape[0]"
   ]
  },
  {
   "cell_type": "code",
   "execution_count": null,
   "metadata": {},
   "outputs": [],
   "source": [
    "genome_df_chrV.iloc[range(0,genome_df_chrV.shape[0],7),:]"
   ]
  },
  {
   "cell_type": "code",
   "execution_count": null,
   "metadata": {},
   "outputs": [],
   "source": [
    "matched_genome_df_chrV = genome_df_chrV.iloc[[j for (_, j) in matched_pairs],:].reset_index().rename(columns={\"index\":\"genome_df_chrV_index\"})\n",
    "matched_genome_df_chrV"
   ]
  },
  {
   "cell_type": "code",
   "execution_count": null,
   "metadata": {},
   "outputs": [],
   "source": [
    "matched_cycle6 = cycle6.iloc[[i for (i, _) in matched_pairs],:].reset_index().rename(columns={\"index\":\"cycle6_index\"})\n",
    "matched_cycle6"
   ]
  },
  {
   "cell_type": "code",
   "execution_count": null,
   "metadata": {},
   "outputs": [],
   "source": [
    "matched_combined = pd.concat((matched_cycle6, matched_genome_df_chrV), axis=1).drop([\"sequence\", \"chrID\", \"position\"], axis=1)\n",
    "matched_combined"
   ]
  },
  {
   "cell_type": "code",
   "execution_count": null,
   "metadata": {},
   "outputs": [],
   "source": []
  },
  {
   "cell_type": "markdown",
   "metadata": {},
   "source": [
    "## Add Fourier Features:"
   ]
  },
  {
   "cell_type": "code",
   "execution_count": 570,
   "metadata": {},
   "outputs": [],
   "source": [
    "from numpy.fft import fft\n",
    "from cmath import phase, abs"
   ]
  },
  {
   "cell_type": "code",
   "execution_count": 619,
   "metadata": {},
   "outputs": [],
   "source": [
    "A_signals = [[1 if bp==\"A\" else 0 for bp in seq] for seq in  matched_combined.Sequence]\n",
    "A_fourier = fft(A_signals)\n",
    "A_fourier_abs = abs(A_fourier)\n",
    "A_fourier_abs_2 = [amps[25] for amps in A_fourier_abs]\n",
    "A_fourier_abs_5 = [amps[10] for amps in A_fourier_abs]\n",
    "A_fourier_abs_10 = [amps[5] for amps in A_fourier_abs]\n",
    "A_fourier_phase_2 = [phase(fourier[25]) for fourier in A_fourier]\n",
    "A_fourier_phase_5 = [phase(fourier[10]) for fourier in A_fourier]\n",
    "A_fourier_phase_10 = [phase(fourier[5]) for fourier in A_fourier]"
   ]
  },
  {
   "cell_type": "code",
   "execution_count": 620,
   "metadata": {},
   "outputs": [],
   "source": [
    "C_signals = [[1 if bp==\"C\" else 0 for bp in seq] for seq in  matched_combined.Sequence]\n",
    "C_fourier = fft(C_signals)\n",
    "C_fourier_abs = abs(C_fourier)\n",
    "C_fourier_abs_2 = [amps[25] for amps in C_fourier_abs]\n",
    "C_fourier_abs_5 = [amps[10] for amps in C_fourier_abs]\n",
    "C_fourier_abs_10 = [amps[5] for amps in C_fourier_abs]\n",
    "C_fourier_phase_2 = [phase(fourier[25]) for fourier in C_fourier]\n",
    "C_fourier_phase_5 = [phase(fourier[10]) for fourier in C_fourier]\n",
    "C_fourier_phase_10 = [phase(fourier[5]) for fourier in C_fourier]"
   ]
  },
  {
   "cell_type": "code",
   "execution_count": 621,
   "metadata": {},
   "outputs": [],
   "source": [
    "G_signals = [[1 if bp==\"G\" else 0 for bp in seq] for seq in  matched_combined.Sequence]\n",
    "G_fourier = fft(G_signals)\n",
    "G_fourier_abs = abs(G_fourier)\n",
    "G_fourier_abs_2 = [amps[25] for amps in G_fourier_abs]\n",
    "G_fourier_abs_5 = [amps[10] for amps in G_fourier_abs]\n",
    "G_fourier_abs_10 = [amps[5] for amps in G_fourier_abs]\n",
    "G_fourier_phase_2 = [phase(fourier[25]) for fourier in G_fourier]\n",
    "G_fourier_phase_5 = [phase(fourier[10]) for fourier in G_fourier]\n",
    "G_fourier_phase_10 = [phase(fourier[5]) for fourier in G_fourier]"
   ]
  },
  {
   "cell_type": "code",
   "execution_count": 622,
   "metadata": {},
   "outputs": [],
   "source": [
    "T_signals = [[1 if bp==\"T\" else 0 for bp in seq] for seq in  matched_combined.Sequence]\n",
    "T_fourier = fft(T_signals)\n",
    "T_fourier_abs = abs(T_fourier)\n",
    "T_fourier_abs_2 = [amps[25] for amps in T_fourier_abs]\n",
    "T_fourier_abs_5 = [amps[10] for amps in T_fourier_abs]\n",
    "T_fourier_abs_10 = [amps[5] for amps in T_fourier_abs]\n",
    "T_fourier_phase_2 = [phase(fourier[25]) for fourier in T_fourier]\n",
    "T_fourier_phase_5 = [phase(fourier[10]) for fourier in T_fourier]\n",
    "T_fourier_phase_10 = [phase(fourier[5]) for fourier in T_fourier]"
   ]
  },
  {
   "cell_type": "code",
   "execution_count": 623,
   "metadata": {},
   "outputs": [],
   "source": [
    "AT_signals = [[1 if bp==\"A\" or bp==\"T\" else 0 for bp in seq] for seq in  matched_combined.Sequence]\n",
    "AT_fourier = fft(AT_signals)\n",
    "AT_fourier_abs = abs(AT_fourier)\n",
    "AT_fourier_abs_2 = [amps[25] for amps in AT_fourier_abs]\n",
    "AT_fourier_abs_5 = [amps[10] for amps in AT_fourier_abs]\n",
    "AT_fourier_abs_10 = [amps[5] for amps in AT_fourier_abs]\n",
    "AT_fourier_phase_2 = [phase(fourier[25]) for fourier in AT_fourier]\n",
    "AT_fourier_phase_5 = [phase(fourier[10]) for fourier in AT_fourier]\n",
    "AT_fourier_phase_10 = [phase(fourier[5]) for fourier in AT_fourier]"
   ]
  },
  {
   "cell_type": "code",
   "execution_count": 624,
   "metadata": {},
   "outputs": [],
   "source": [
    "# matched_combined[\"A_fourier_abs_2\"] = A_fourier_abs_2\n",
    "# matched_combined[\"A_fourier_abs_5\"] = A_fourier_abs_5\n",
    "# matched_combined[\"A_fourier_abs_10\"] = A_fourier_abs_10\n",
    "# matched_combined[\"A_fourier_phase_2\"] = A_fourier_phase_2\n",
    "# matched_combined[\"A_fourier_phase_5\"] = A_fourier_phase_5\n",
    "# matched_combined[\"A_fourier_phase_10\"] = A_fourier_phase_10\n",
    "# matched_combined[\"C_fourier_abs_2\"] = C_fourier_abs_2\n",
    "# matched_combined[\"C_fourier_abs_5\"] = C_fourier_abs_5\n",
    "# matched_combined[\"C_fourier_abs_10\"] = C_fourier_abs_10\n",
    "# matched_combined[\"C_fourier_phase_2\"] = C_fourier_phase_2\n",
    "# matched_combined[\"C_fourier_phase_5\"] = C_fourier_phase_5\n",
    "# matched_combined[\"C_fourier_phase_10\"] = C_fourier_phase_10\n",
    "# matched_combined[\"G_fourier_abs_2\"] = G_fourier_abs_2\n",
    "# matched_combined[\"G_fourier_abs_5\"] = G_fourier_abs_5\n",
    "# matched_combined[\"G_fourier_abs_10\"] = G_fourier_abs_10\n",
    "# matched_combined[\"G_fourier_phase_2\"] = G_fourier_phase_2\n",
    "# matched_combined[\"G_fourier_phase_5\"] = G_fourier_phase_5\n",
    "# matched_combined[\"G_fourier_phase_10\"] = G_fourier_phase_10\n",
    "# matched_combined[\"T_fourier_abs_2\"] = T_fourier_abs_2\n",
    "# matched_combined[\"T_fourier_abs_5\"] = T_fourier_abs_5\n",
    "# matched_combined[\"T_fourier_abs_10\"] = T_fourier_abs_10\n",
    "# matched_combined[\"T_fourier_phase_2\"] = T_fourier_phase_2\n",
    "# matched_combined[\"T_fourier_phase_5\"] = T_fourier_phase_5\n",
    "# matched_combined[\"T_fourier_phase_10\"] = T_fourier_phase_10\n",
    "# matched_combined[\"AT_fourier_abs_2\"] = AT_fourier_abs_2\n",
    "# matched_combined[\"AT_fourier_abs_5\"] = AT_fourier_abs_5\n",
    "# matched_combined[\"AT_fourier_abs_10\"] = AT_fourier_abs_10\n",
    "# matched_combined[\"AT_fourier_phase_2\"] = AT_fourier_phase_2\n",
    "# matched_combined[\"AT_fourier_phase_5\"] = AT_fourier_phase_5\n",
    "# matched_combined[\"AT_fourier_phase_10\"] = AT_fourier_phase_10"
   ]
  },
  {
   "cell_type": "code",
   "execution_count": 208,
   "metadata": {},
   "outputs": [],
   "source": [
    "matched_combined.to_csv(\"/Users/Brody1/Dropbox/Northwestern/DNA_Cyclizability/data/Created/yeast_chrV_ir_lstm_tiling_post_smoothed_matched.csv\", index=False)"
   ]
  },
  {
   "cell_type": "code",
   "execution_count": null,
   "metadata": {},
   "outputs": [],
   "source": [
    "matched_combined"
   ]
  },
  {
   "cell_type": "code",
   "execution_count": null,
   "metadata": {},
   "outputs": [],
   "source": [
    "np.array(matched_combined[[\"n=26\", \"n=29\", \"n=31\"]])[[1,5,6,8]]"
   ]
  }
 ],
 "metadata": {
  "kernelspec": {
   "display_name": ".venv",
   "language": "python",
   "name": "python3"
  },
  "language_info": {
   "codemirror_mode": {
    "name": "ipython",
    "version": 3
   },
   "file_extension": ".py",
   "mimetype": "text/x-python",
   "name": "python",
   "nbconvert_exporter": "python",
   "pygments_lexer": "ipython3",
   "version": "3.11.5"
  }
 },
 "nbformat": 4,
 "nbformat_minor": 2
}
